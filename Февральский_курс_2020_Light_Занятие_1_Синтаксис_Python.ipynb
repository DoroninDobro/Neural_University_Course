{
  "nbformat": 4,
  "nbformat_minor": 0,
  "metadata": {
    "kernelspec": {
      "display_name": "Python 3",
      "language": "python",
      "name": "python3"
    },
    "language_info": {
      "codemirror_mode": {
        "name": "ipython",
        "version": 3
      },
      "file_extension": ".py",
      "mimetype": "text/x-python",
      "name": "python",
      "nbconvert_exporter": "python",
      "pygments_lexer": "ipython3",
      "version": "3.6.8"
    },
    "colab": {
      "name": "Февральский курс 2020. Light. Занятие 1. Синтаксис Python",
      "provenance": [],
      "collapsed_sections": []
    }
  },
  "cells": [
    {
      "cell_type": "markdown",
      "metadata": {
        "id": "3mH4lbPCgwL6",
        "colab_type": "text"
      },
      "source": [
        "# Основы Python \n",
        "\n",
        "Для прикладных целей важно овладеть несколькими аспектами:\n",
        "\n",
        "- Стандартные функции языка\n",
        "- Переменные и типы данных\n",
        "- Основные конструкции\n",
        "- Написание пользовательских функций\n",
        "- Загрузка и использование библиотек"
      ]
    },
    {
      "cell_type": "markdown",
      "metadata": {
        "id": "eXjmiQJCgwMC",
        "colab_type": "text"
      },
      "source": [
        "## Стандартные функции языка\n",
        "\n",
        "Функции - это маленькие программки, которые умеют выполнять какую-то операцию <br />\n",
        "Функции <b>вызываются</b>, после имени функции следуют круглые скобки, в которых указываются <b>аргументы</b> (над каким объектом будет выполнена операция) и <b>параметры </b> (с какими условиями)"
      ]
    },
    {
      "cell_type": "markdown",
      "metadata": {
        "id": "DWpeBni2gwMF",
        "colab_type": "text"
      },
      "source": [
        "### print()\n",
        "\n",
        "*Разбор данного раздела:* https://youtu.be/RKY3tGrwGCA?t=1236\n",
        "\n",
        "Функция для вывода содержимого на экран. <br>\n",
        "**Обязательно**: передать хотя бы какой-то объект, который нужно напечатать.\n",
        "\n",
        "Ее полный синтаксис:\n",
        "\n",
        "print(*objects, sep=' ', end='\\n', file=sys.stdout, flush=False)¶\n",
        "- objects: один или несколько объектов для вывода, перечисленные через запятую\n",
        "- sep: разделитель между несколькими объектами; стандартно установлен пробел\n",
        "- end: окончание строки; стандартно установлен перевод на новую строчку '\\n'"
      ]
    },
    {
      "cell_type": "code",
      "metadata": {
        "id": "ZBcwztmQgwML",
        "colab_type": "code",
        "outputId": "ea48f4d6-eb74-42e3-901d-79f44d1466fd",
        "colab": {
          "base_uri": "https://localhost:8080/",
          "height": 34
        }
      },
      "source": [
        "print(4)"
      ],
      "execution_count": 0,
      "outputs": [
        {
          "output_type": "stream",
          "text": [
            "4\n"
          ],
          "name": "stdout"
        }
      ]
    },
    {
      "cell_type": "code",
      "metadata": {
        "id": "oMadMtROgwMf",
        "colab_type": "code",
        "colab": {}
      },
      "source": [
        "print?"
      ],
      "execution_count": 0,
      "outputs": []
    },
    {
      "cell_type": "code",
      "metadata": {
        "id": "DZTqDs3egwMv",
        "colab_type": "code",
        "outputId": "0acc3840-4006-4743-a753-7274621ef8e8",
        "colab": {
          "base_uri": "https://localhost:8080/",
          "height": 34
        }
      },
      "source": [
        "print(5,6,7,8)"
      ],
      "execution_count": 0,
      "outputs": [
        {
          "output_type": "stream",
          "text": [
            "5 6 7 8\n"
          ],
          "name": "stdout"
        }
      ]
    },
    {
      "cell_type": "code",
      "metadata": {
        "id": "WpxbyEEZgwNA",
        "colab_type": "code",
        "outputId": "be794544-f755-46bf-9f5f-209f6c7dfe50",
        "colab": {
          "base_uri": "https://localhost:8080/",
          "height": 34
        }
      },
      "source": [
        "print(5, 6, 7, 8, sep='_')"
      ],
      "execution_count": 0,
      "outputs": [
        {
          "output_type": "stream",
          "text": [
            "5_6_7_8\n"
          ],
          "name": "stdout"
        }
      ]
    },
    {
      "cell_type": "code",
      "metadata": {
        "id": "Zf3QuweTgwNS",
        "colab_type": "code",
        "outputId": "afb7e0eb-800b-4f1e-f11e-c08f1cf51920",
        "colab": {
          "base_uri": "https://localhost:8080/",
          "height": 34
        }
      },
      "source": [
        "print(\"Май\")"
      ],
      "execution_count": 0,
      "outputs": [
        {
          "output_type": "stream",
          "text": [
            "Май\n"
          ],
          "name": "stdout"
        }
      ]
    },
    {
      "cell_type": "code",
      "metadata": {
        "id": "YQGzrhTwgwNj",
        "colab_type": "code",
        "outputId": "965c90cc-9022-453b-ebf1-46ebd177620e",
        "colab": {
          "base_uri": "https://localhost:8080/",
          "height": 34
        }
      },
      "source": [
        "print('Переменная равна: {}'.format(5))"
      ],
      "execution_count": 0,
      "outputs": [
        {
          "output_type": "stream",
          "text": [
            "Переменная равна: 5\n"
          ],
          "name": "stdout"
        }
      ]
    },
    {
      "cell_type": "code",
      "metadata": {
        "id": "8MAZFjLBKsyo",
        "colab_type": "code",
        "outputId": "cc690346-579c-4aef-a64d-1321d321df9e",
        "colab": {
          "base_uri": "https://localhost:8080/",
          "height": 34
        }
      },
      "source": [
        "print('Переменная равна:',5)"
      ],
      "execution_count": 0,
      "outputs": [
        {
          "output_type": "stream",
          "text": [
            "Переменная равна: 5\n"
          ],
          "name": "stdout"
        }
      ]
    },
    {
      "cell_type": "code",
      "metadata": {
        "id": "ak0ByW9pK3ON",
        "colab_type": "code",
        "outputId": "2b16eae2-694f-48af-ba97-33ce925b9624",
        "colab": {
          "base_uri": "https://localhost:8080/",
          "height": 34
        }
      },
      "source": [
        "print('Переменная равна: {} и вторая переменная равна: {}'.format(5, 7))"
      ],
      "execution_count": 0,
      "outputs": [
        {
          "output_type": "stream",
          "text": [
            "Переменная равна: 5 и вторая переменная равна: 7\n"
          ],
          "name": "stdout"
        }
      ]
    },
    {
      "cell_type": "code",
      "metadata": {
        "id": "QzE2VR0IK8mX",
        "colab_type": "code",
        "outputId": "57df65c7-15dc-4cc9-a82c-f67de38a1c74",
        "colab": {
          "base_uri": "https://localhost:8080/",
          "height": 34
        }
      },
      "source": [
        "print('Переменная равна: {} и вторая переменная равна: {}'.format(5.123, 7.9384950))"
      ],
      "execution_count": 0,
      "outputs": [
        {
          "output_type": "stream",
          "text": [
            "Переменная равна: 5.123 и вторая переменная равна: 7.938495\n"
          ],
          "name": "stdout"
        }
      ]
    },
    {
      "cell_type": "code",
      "metadata": {
        "id": "3imScjy0wvX9",
        "colab_type": "code",
        "outputId": "002fd55e-9c15-41b6-d92a-c45f0b2092dd",
        "colab": {
          "base_uri": "https://localhost:8080/",
          "height": 34
        }
      },
      "source": [
        "print('Переменная равна: {:.1f} и вторая переменная равна: {:.3f}'.format(5.123, 7.9384950))"
      ],
      "execution_count": 0,
      "outputs": [
        {
          "output_type": "stream",
          "text": [
            "Переменная равна: 5.1 и вторая переменная равна: 7.938\n"
          ],
          "name": "stdout"
        }
      ]
    },
    {
      "cell_type": "markdown",
      "metadata": {
        "id": "AX_KsdJHgwN6",
        "colab_type": "text"
      },
      "source": [
        "#### Задача 1\n",
        "\n",
        "Выведите на экран фразу \"Hello, world!\""
      ]
    },
    {
      "cell_type": "code",
      "metadata": {
        "id": "Q6Urwmq9gwOL",
        "colab_type": "code",
        "outputId": "6b4248ff-74b5-47f1-e51b-bf771f69372e",
        "colab": {
          "base_uri": "https://localhost:8080/",
          "height": 34
        }
      },
      "source": [
        "print('Hello, world!')"
      ],
      "execution_count": 0,
      "outputs": [
        {
          "output_type": "stream",
          "text": [
            "Hello, world!\n"
          ],
          "name": "stdout"
        }
      ]
    },
    {
      "cell_type": "markdown",
      "metadata": {
        "id": "BDS_hmbhgwOk",
        "colab_type": "text"
      },
      "source": [
        "### input()\n",
        "\n",
        "*Разбор данного раздела:* https://youtu.be/RKY3tGrwGCA?t=2052\n",
        "\n",
        "Функция для ввода данных в программу с клавиатуры. <br>\n",
        "Обязательных аргументов нет. Можно передавать строчку, которая будет выведена перед ячейкой ввода. "
      ]
    },
    {
      "cell_type": "code",
      "metadata": {
        "id": "0YgIuroCgwOp",
        "colab_type": "code",
        "colab": {}
      },
      "source": [
        "name = input()\n",
        "print('Меня зовут ', name)"
      ],
      "execution_count": 0,
      "outputs": []
    },
    {
      "cell_type": "markdown",
      "metadata": {
        "id": "Asnp0MjxgwO3",
        "colab_type": "text"
      },
      "source": [
        "А здесь небольшое преобразование позволит вывести перед ячейкой ввода нужный текст"
      ]
    },
    {
      "cell_type": "code",
      "metadata": {
        "id": "id69vPyigwO8",
        "colab_type": "code",
        "colab": {}
      },
      "source": [
        "name = input('Введите ваше имя: ')\n",
        "print('Меня зовут ', name)"
      ],
      "execution_count": 0,
      "outputs": []
    },
    {
      "cell_type": "markdown",
      "metadata": {
        "id": "FPmCE5oMgwPN",
        "colab_type": "text"
      },
      "source": [
        "### Арифметические операции\n",
        "\n",
        "*Разбор данного раздела:* https://youtu.be/RKY3tGrwGCA?t=2314\n",
        "\n",
        "- Сложение: +\n",
        "- Вычитание: -\n",
        "- Умножение: *\n",
        "- Деление: /\n",
        "- Возведение в степень: **\n",
        "- Целочисленное деление: //\n",
        "- Остаток от деления: %"
      ]
    },
    {
      "cell_type": "code",
      "metadata": {
        "id": "lzqViGqYgwPR",
        "colab_type": "code",
        "colab": {}
      },
      "source": [
        "print('Работаем с числами', 5, 'и', 2)\n",
        "print(5 + 2)\n",
        "print(5 - 2)\n",
        "print(5 * 2)\n",
        "print(5 / 2)\n",
        "print(5 // 2)\n",
        "print('Результат остатка от деления:', 5 % 2)\n",
        "print('Результат возведения в степени:', 5 ** 2)"
      ],
      "execution_count": 0,
      "outputs": []
    },
    {
      "cell_type": "markdown",
      "metadata": {
        "id": "HWG-xiikgwPl",
        "colab_type": "text"
      },
      "source": [
        "Для выведения результата на экран не обязательно прописывать print(), можно просто выполнить ячейку, при этом отобразиться результат только последней строчки кода:"
      ]
    },
    {
      "cell_type": "code",
      "metadata": {
        "id": "Em4g2ATNgwPs",
        "colab_type": "code",
        "colab": {}
      },
      "source": [
        "5 + 2"
      ],
      "execution_count": 0,
      "outputs": []
    },
    {
      "cell_type": "code",
      "metadata": {
        "id": "WHo3fT33gwQE",
        "colab_type": "code",
        "colab": {}
      },
      "source": [
        "5 + 2\n",
        "5 * 2"
      ],
      "execution_count": 0,
      "outputs": []
    },
    {
      "cell_type": "code",
      "metadata": {
        "id": "3zpgs4QcgwQV",
        "colab_type": "code",
        "colab": {}
      },
      "source": [
        "print(5 + 2)\n",
        "5 * 2"
      ],
      "execution_count": 0,
      "outputs": []
    },
    {
      "cell_type": "code",
      "metadata": {
        "id": "vOuFjU_bgwQo",
        "colab_type": "code",
        "colab": {}
      },
      "source": [
        "print(5 + 2)\n",
        "print(5 * 2)"
      ],
      "execution_count": 0,
      "outputs": []
    },
    {
      "cell_type": "markdown",
      "metadata": {
        "id": "rl1kGggfgwQ4",
        "colab_type": "text"
      },
      "source": [
        "#### Задача 2\n",
        "\n",
        "Найти площадь круга с радиусом $R = 5$. Подсказка: площадь круга вычисляется по формуле $S = \\pi * R^2, \\pi$ ~ 3.14"
      ]
    },
    {
      "cell_type": "code",
      "metadata": {
        "id": "BC0TxE7GgwQ_",
        "colab_type": "code",
        "colab": {}
      },
      "source": [
        "3.14 * 5 ** 2"
      ],
      "execution_count": 0,
      "outputs": []
    },
    {
      "cell_type": "markdown",
      "metadata": {
        "id": "qbpPCdLXgwRN",
        "colab_type": "text"
      },
      "source": [
        "### Переменные и типы переменных\n",
        "\n",
        "*Разбор данного раздела:* https://youtu.be/RKY3tGrwGCA?t=3173\n",
        "\n",
        "Результаты операций и манипуляций иногда нужно сохранять, поэтому мы определяем переменные - именованные объекты, которым присваиваем значения. "
      ]
    },
    {
      "cell_type": "code",
      "metadata": {
        "id": "eTMoHu16gwRT",
        "colab_type": "code",
        "colab": {}
      },
      "source": [
        "# Задаем значения переменных\n",
        "S = 100\n",
        "pi_ = 3.14\n",
        "r = (S / pi_) ** (0.5)"
      ],
      "execution_count": 0,
      "outputs": []
    },
    {
      "cell_type": "code",
      "metadata": {
        "id": "2MRHng15gwRd",
        "colab_type": "code",
        "colab": {}
      },
      "source": [
        "# Вывести на печать радиус \n",
        "print('r', round(r,2), sep='=')"
      ],
      "execution_count": 0,
      "outputs": []
    },
    {
      "cell_type": "markdown",
      "metadata": {
        "id": "YNvnYZDqgwRt",
        "colab_type": "text"
      },
      "source": [
        "#### Задача 3\n",
        "\n",
        "Найти площадь круга с радиусом $R = 5$. Подсказка: площадь круга вычисляется по формуле $S = \\pi * R^2, \\pi$ ~ 3.14\n",
        "\n",
        "- Создайте переменную r со значением 5\n",
        "- Создайте переменную pi_ со значением 3.14\n",
        "- Сохраните результат вычисления в переменную S\n",
        "- Выведите на печать результаты"
      ]
    },
    {
      "cell_type": "code",
      "metadata": {
        "id": "cQSPW3pqgwR0",
        "colab_type": "code",
        "colab": {}
      },
      "source": [
        "# Место для решения\n",
        "..."
      ],
      "execution_count": 0,
      "outputs": []
    },
    {
      "cell_type": "markdown",
      "metadata": {
        "id": "fuSf1T6DgwR-",
        "colab_type": "text"
      },
      "source": [
        "### Основные типы данных:\n",
        "\n",
        "*Разбор данного раздела:* https://youtu.be/RKY3tGrwGCA?t=4182\n",
        "    \n",
        "- int (integer numbers) - целые числа\n",
        "- float (floating-point numbers) - числа с плавающей точкой\n",
        "- str (string) - строки\n",
        "- bool (boolean) - логический тип"
      ]
    },
    {
      "cell_type": "markdown",
      "metadata": {
        "id": "m6zDG1uTgwSB",
        "colab_type": "text"
      },
      "source": [
        "Функция **type** позволяет определить, какого типа переменная нам дана или какого типа переменную мы записали. "
      ]
    },
    {
      "cell_type": "code",
      "metadata": {
        "id": "TQ_XzJgggwSI",
        "colab_type": "code",
        "colab": {}
      },
      "source": [
        "print(type(r))\n",
        "print(type(S))"
      ],
      "execution_count": 0,
      "outputs": []
    },
    {
      "cell_type": "code",
      "metadata": {
        "id": "Jadp2DK0gwST",
        "colab_type": "code",
        "colab": {}
      },
      "source": [
        "text = 'Площадь круга'\n",
        "print(type(text))"
      ],
      "execution_count": 0,
      "outputs": []
    },
    {
      "cell_type": "code",
      "metadata": {
        "id": "IfkU7m2qgwSg",
        "colab_type": "code",
        "colab": {}
      },
      "source": [
        "x = True\n",
        "print(type(x))"
      ],
      "execution_count": 0,
      "outputs": []
    },
    {
      "cell_type": "markdown",
      "metadata": {
        "id": "YfLVBd0SgwS6",
        "colab_type": "text"
      },
      "source": [
        "Если нужно поменять тип переменной, то полезны функции:\n",
        "\n",
        "- int() - возвращает целочисленную переменную\n",
        "- float() - возвращает нецелочисленную переменную\n",
        "- bool() - возвращает булеву переменную\n",
        "- str() - возвращает строковую переменную"
      ]
    },
    {
      "cell_type": "code",
      "metadata": {
        "id": "GoHqTdGEgwS8",
        "colab_type": "code",
        "colab": {}
      },
      "source": [
        "# Конкатенация строк\n",
        "'Мое имя' + ' ' + 'Дмитрий'"
      ],
      "execution_count": 0,
      "outputs": []
    },
    {
      "cell_type": "code",
      "metadata": {
        "id": "qD1wIW6wgwTQ",
        "colab_type": "code",
        "colab": {}
      },
      "source": [
        "print(r, type(r))\n",
        "r_new = str(r)\n",
        "print(r_new, type(r_new))\n",
        "print('Радиус ' +  'круга: ' + r_new)"
      ],
      "execution_count": 0,
      "outputs": []
    },
    {
      "cell_type": "code",
      "metadata": {
        "id": "LwS-mDmPgwTp",
        "colab_type": "code",
        "colab": {}
      },
      "source": [
        "print(10 - float(r_new))"
      ],
      "execution_count": 0,
      "outputs": []
    },
    {
      "cell_type": "markdown",
      "metadata": {
        "id": "BSBHc5EIgwTz",
        "colab_type": "text"
      },
      "source": [
        "##  Базовые конструкции\n",
        "\n",
        "### Логические выражения \n",
        "\n",
        "*Разбор данного раздела:* https://youtu.be/RKY3tGrwGCA?t=5033\n",
        "\n",
        "По аналогии с арифметическими выражениями существуют логические выражения, которые могут быть истинными или ложными. Простое логическое выражение имеет вид <br /> \n",
        "\n",
        "<арифметическое выражение> <знак сравнения> <арифметическое выражение>. <br /> \n",
        "\n",
        "Например, если у нас есть переменные x и y с какими-то значениями, то логическое выражение <br /> x + y < 3y <br /> в качестве первого арифметического выражения имеет x + y, в качестве знака сравнения < (меньше), а второе арифметическое выражение в нём 3y.\n",
        "\n",
        "Логические выражения:\n",
        "- $<$   меньше\n",
        "- $>$  больше\n",
        "- $<=$  меньше или равно\n",
        "- $>=$  больше или равно\n",
        "- $==$  равно\n",
        "- $!=$  не равно"
      ]
    },
    {
      "cell_type": "code",
      "metadata": {
        "id": "a_TjqfuqgwT9",
        "colab_type": "code",
        "colab": {}
      },
      "source": [
        "2 != 3"
      ],
      "execution_count": 0,
      "outputs": []
    },
    {
      "cell_type": "code",
      "metadata": {
        "id": "MgiYJJ_-gwUI",
        "colab_type": "code",
        "colab": {}
      },
      "source": [
        "a=2\n",
        "b=3\n",
        "\n",
        "a != b"
      ],
      "execution_count": 0,
      "outputs": []
    },
    {
      "cell_type": "code",
      "metadata": {
        "id": "H2bG8VYIgwUT",
        "colab_type": "code",
        "colab": {}
      },
      "source": [
        "x = 2 * 2 == 5\n",
        "print(type(x))\n",
        "print(x)\n",
        "print(int(x))"
      ],
      "execution_count": 0,
      "outputs": []
    },
    {
      "cell_type": "code",
      "metadata": {
        "id": "gvl1qTrHgwUd",
        "colab_type": "code",
        "colab": {}
      },
      "source": [
        "x = 2 * 2 != 5\n",
        "print(type(x))\n",
        "print(x)\n",
        "print(int(x))"
      ],
      "execution_count": 0,
      "outputs": []
    },
    {
      "cell_type": "markdown",
      "metadata": {
        "id": "75qI8JMIgwUo",
        "colab_type": "text"
      },
      "source": [
        "Чтобы записать сложное логическое выражение, часто бывает необходимо воспользоваться логическими связками \"и\", \"или\" и \"не\". В Питоне они обозначаются как and, or и not соответственно. Операции and и or являеются бинарными, т.е. должны быть записаны между операндами, например x < 3 or y > 2. Операция not - унарная и должна быть записана перед единственным своим операндом."
      ]
    },
    {
      "cell_type": "code",
      "metadata": {
        "id": "iAfGrehIgwUq",
        "colab_type": "code",
        "colab": {}
      },
      "source": [
        "x = 4\n",
        "y = 5\n",
        "print(x > 3 and y > 3)\n",
        "print(x > y or x == y)\n",
        "print(not (x > y))"
      ],
      "execution_count": 0,
      "outputs": []
    },
    {
      "cell_type": "code",
      "metadata": {
        "id": "yVFwyFkbgwU1",
        "colab_type": "code",
        "colab": {}
      },
      "source": [
        "a = 1\n",
        "b = 2\n",
        "c = 3\n",
        "d = 4\n",
        "\n",
        "((a == d) and (a > c)) != 4"
      ],
      "execution_count": 0,
      "outputs": []
    },
    {
      "cell_type": "code",
      "metadata": {
        "id": "PHba8zUpgwU_",
        "colab_type": "code",
        "colab": {}
      },
      "source": [
        "((False) and (False)) != 4"
      ],
      "execution_count": 0,
      "outputs": []
    },
    {
      "cell_type": "code",
      "metadata": {
        "id": "l-Ut9t-JgwVI",
        "colab_type": "code",
        "colab": {}
      },
      "source": [
        "False != 4"
      ],
      "execution_count": 0,
      "outputs": []
    },
    {
      "cell_type": "markdown",
      "metadata": {
        "id": "IYcBpG-hgwVQ",
        "colab_type": "text"
      },
      "source": [
        "#### Задача 4\n",
        "\n",
        "Сравните $2^3$ и $3^2$. Результат распечатайте"
      ]
    },
    {
      "cell_type": "code",
      "metadata": {
        "id": "2Tsy5ctFgwVW",
        "colab_type": "code",
        "colab": {}
      },
      "source": [
        "# Место для решения\n",
        "..."
      ],
      "execution_count": 0,
      "outputs": []
    },
    {
      "cell_type": "markdown",
      "metadata": {
        "id": "zGYhxvAYgwVg",
        "colab_type": "text"
      },
      "source": [
        "#### Задача 5\n",
        "\n",
        "Напишите логическое выражение для проверки попадания введенного числа в интервал от 0 до 10."
      ]
    },
    {
      "cell_type": "code",
      "metadata": {
        "id": "Zm54mA6AgwVj",
        "colab_type": "code",
        "colab": {}
      },
      "source": [
        "# Место для решения\n",
        "..."
      ],
      "execution_count": 0,
      "outputs": []
    },
    {
      "cell_type": "markdown",
      "metadata": {
        "id": "AuZ5H20IgwVw",
        "colab_type": "text"
      },
      "source": [
        "\n",
        "### Условный оператор\n",
        "\n",
        "*Разбор данного раздела:* https://youtu.be/RKY3tGrwGCA?t=5405"
      ]
    },
    {
      "cell_type": "markdown",
      "metadata": {
        "id": "-O_f_ZXFgwV1",
        "colab_type": "text"
      },
      "source": [
        "Наиболее частое применение логические выражения находят в условных операторах.\n",
        "\n",
        "Синтаксис в питоне: <br />\n",
        "**if** условие_1:<br />\n",
        "&emsp; команды<br />\n",
        "**elif** условие_2:<br />\n",
        "&emsp; команды<br />\n",
        "**elif** условие_3:<br />\n",
        "&emsp; команды<br />\n",
        "&emsp; ... <br />\n",
        "**elif** условие_N:<br />\n",
        "&emsp; команды<br />\n",
        "**else**: <br />\n",
        "&emsp; команды<br />"
      ]
    },
    {
      "cell_type": "markdown",
      "metadata": {
        "id": "P4vrCBc1gwV4",
        "colab_type": "text"
      },
      "source": [
        "**Пример**"
      ]
    },
    {
      "cell_type": "code",
      "metadata": {
        "id": "UUmfDyKHgwV7",
        "colab_type": "code",
        "colab": {}
      },
      "source": [
        "x = 2 ** 3   # 8\n",
        "y = 3 ** 2   # 9\n",
        "\n",
        "if x > y:\n",
        "    print('X больше Y')\n",
        "    print(x - y)\n",
        "else:\n",
        "    print(' ')\n",
        "    print('Y не меньше, чем X')"
      ],
      "execution_count": 0,
      "outputs": []
    },
    {
      "cell_type": "code",
      "metadata": {
        "id": "yS6ayadXgwWG",
        "colab_type": "code",
        "colab": {}
      },
      "source": [
        "x = int(input('Введите число X: '))\n",
        "y = int(input('Введите число Y: '))\n",
        "\n",
        "if x > y:\n",
        "    print('X больше Y')\n",
        "    print('x - y = ', x - y)\n",
        "elif y > x:\n",
        "    print('Y больше X')\n",
        "    print('y - x = ', y - x)\n",
        "else:\n",
        "    print('X равно Y')"
      ],
      "execution_count": 0,
      "outputs": []
    },
    {
      "cell_type": "markdown",
      "metadata": {
        "id": "F-qHPYKcgwWO",
        "colab_type": "text"
      },
      "source": [
        "#### Задача 6\n",
        "Вас позвали на конференцию, которая будет проходить в другом городе, но времени до выезда осталось не так много. Напишите своим коллегам, что вы думаете об этой идее как можно быстрее. \n",
        "\n",
        "Если до вылета остается меньше 8 часов, то вы навряд ли успеете на самолет, так что должна появиться строчка \"К сожалению, я не успеваю!\", иначе - \"Ждите меня у входа в аэропорт\".\n"
      ]
    },
    {
      "cell_type": "code",
      "metadata": {
        "id": "i3UpP7FUgwWS",
        "colab_type": "code",
        "colab": {}
      },
      "source": [
        "# Место для решения\n",
        "..."
      ],
      "execution_count": 0,
      "outputs": []
    },
    {
      "cell_type": "markdown",
      "metadata": {
        "id": "PeDoPl2ogwWb",
        "colab_type": "text"
      },
      "source": [
        "2) Вас позвали на конференцию, которая будет проходить в другом городе, но времени до выезда осталось не так много, к тому же вы не знаете, получится ли взять выходной. Необходимо проверить ближайшие рейсы и предупредить начальство. Напишите своим коллегам, что вы думаете об этой идее как можно быстрее. \n",
        "\n",
        "Если до вылета остается больше 8 часов, а до начальства вы не добрались, то напишите: \"Предупредите, пожалуйста, шефа о конференции\". Если вы успеваете везде, напишите: \"Ждите меня у входа в аэропорт\". В случае, когда остается меньше 8 часов и начальство не в курсе, то должна появиться строчка \"К сожалению, я не успеваю!\"."
      ]
    },
    {
      "cell_type": "code",
      "metadata": {
        "id": "2zY9qp4hgwWe",
        "colab_type": "code",
        "colab": {}
      },
      "source": [
        "# Введите любое число\n",
        "hours = int(input('Время до вылета: '))\n",
        "# Введите да или нет\n",
        "boss = input('Начальство предупреждено? ')\n",
        "\n",
        "if hours > 8 and boss == 'да':\n",
        "    print(\"Ждите меня у входа в аэропорт\")\n",
        "    \n",
        "elif hours > 8 and boss == 'нет':\n",
        "    print(\"Предупредите, пожалуйста, шефа о конференции\")\n",
        "    \n",
        "else:\n",
        "    print(\"К сожалению, я не успеваю!\")"
      ],
      "execution_count": 0,
      "outputs": []
    },
    {
      "cell_type": "markdown",
      "metadata": {
        "id": "xevK5Jt3gwWn",
        "colab_type": "text"
      },
      "source": [
        "### Цикл while\n",
        "\n",
        "*Разбор данного раздела:* https://youtu.be/RKY3tGrwGCA?t=6081\n",
        "\n",
        "Циклические конструкции используются для многократного повторения одних и тех же действий. \n",
        "\n",
        "В цикле while команды выполняются до тех пор, пока некоторое заданное условие верно. При этом, если в теле цикла прямо не прописана процедура изменения переменной, заданной в условии, то получится бесконечный цикл.\n",
        "\n",
        "Структура цикла while:"
      ]
    },
    {
      "cell_type": "code",
      "metadata": {
        "id": "pGDlhkfFgwWp",
        "colab_type": "code",
        "colab": {}
      },
      "source": [
        "layers_num = 3\n",
        "\n",
        "while layers_num > 0:\n",
        "    print('Это многослойная сеть')\n",
        "    layers_num -=1      \n",
        "      #  то же самое, что и layers_num = layers_num - 1"
      ],
      "execution_count": 0,
      "outputs": []
    },
    {
      "cell_type": "markdown",
      "metadata": {
        "id": "Tb33DpKogwWy",
        "colab_type": "text"
      },
      "source": [
        "#### Задача 7\n",
        "\n",
        "По данному целому числу N распечатайте все квадраты натуральных чисел, не превосходящие N, в порядке возрастания. "
      ]
    },
    {
      "cell_type": "code",
      "metadata": {
        "id": "iBMSiAIngwW1",
        "colab_type": "code",
        "colab": {}
      },
      "source": [
        "# Место для решения\n",
        "..."
      ],
      "execution_count": 0,
      "outputs": []
    },
    {
      "cell_type": "markdown",
      "metadata": {
        "id": "fmoNyACOgwW9",
        "colab_type": "text"
      },
      "source": [
        "### Функция range(n)\n",
        "\n",
        "*Разбор данного раздела:* https://youtu.be/RKY3tGrwGCA?t=6469\n",
        "\n",
        "Функция range выдает последовательность чисел в зависимости от заданных параметров\n",
        "\n",
        "Синтаксис функции:"
      ]
    },
    {
      "cell_type": "code",
      "metadata": {
        "id": "NI6YLkmTgwXa",
        "colab_type": "code",
        "colab": {}
      },
      "source": [
        "for i in range(10):\n",
        "    print(i)"
      ],
      "execution_count": 0,
      "outputs": []
    },
    {
      "cell_type": "code",
      "metadata": {
        "id": "999_SaIogwXi",
        "colab_type": "code",
        "colab": {}
      },
      "source": [
        "for i in range(3, 12):\n",
        "    print(i)"
      ],
      "execution_count": 0,
      "outputs": []
    },
    {
      "cell_type": "code",
      "metadata": {
        "id": "IcqURdFzgwXw",
        "colab_type": "code",
        "colab": {}
      },
      "source": [
        "for i in range(3, 12, 2):\n",
        "    print(i)"
      ],
      "execution_count": 0,
      "outputs": []
    },
    {
      "cell_type": "markdown",
      "metadata": {
        "id": "JhBN5yTfgwX4",
        "colab_type": "text"
      },
      "source": [
        "## Цикл for\n",
        "\n",
        "*Разбор данного раздела:* https://youtu.be/RKY3tGrwGCA?t=6552\n",
        "\n",
        "Команды в цикле for выполняются для заданного списка объектов и повторяются столько раз, сколько этих объектов.\n",
        "\n",
        "Дословно это работает так: \n",
        "\n",
        "*Питон, для каждого объекта из списка объектов выполни, пожалуйста, вот это действие* :)\n"
      ]
    },
    {
      "cell_type": "code",
      "metadata": {
        "id": "DmWsBm7FgwYG",
        "colab_type": "code",
        "colab": {}
      },
      "source": [
        "# Перекличка :)\n",
        "for i in range(1, 5): \n",
        "    print(i)"
      ],
      "execution_count": 0,
      "outputs": []
    },
    {
      "cell_type": "code",
      "metadata": {
        "id": "M7DIvHykgwYO",
        "colab_type": "code",
        "colab": {}
      },
      "source": [
        "for animal in ['кошка', 'собака', 'енот', 'лиса']:\n",
        "    print(animal)"
      ],
      "execution_count": 0,
      "outputs": []
    },
    {
      "cell_type": "markdown",
      "metadata": {
        "id": "MMCf4bodgwYW",
        "colab_type": "text"
      },
      "source": [
        "#### Задача 8\n",
        "\n",
        "По данному целому числу N распечатайте все квадраты натуральных чисел, не превосходящие N, в порядке возрастания с использованием цикла for"
      ]
    },
    {
      "cell_type": "code",
      "metadata": {
        "id": "H8pDdN-GgwYZ",
        "colab_type": "code",
        "colab": {}
      },
      "source": [
        "# Место для решения\n",
        "..."
      ],
      "execution_count": 0,
      "outputs": []
    },
    {
      "cell_type": "markdown",
      "metadata": {
        "id": "PvHZCrnHgwYe",
        "colab_type": "text"
      },
      "source": [
        "## Базовые структуры"
      ]
    },
    {
      "cell_type": "markdown",
      "metadata": {
        "id": "0GdbykDOgwYh",
        "colab_type": "text"
      },
      "source": [
        "### Список (list)\n",
        "\n",
        "*Разбор данного раздела:* https://youtu.be/RKY3tGrwGCA?t=6796\n",
        "\n",
        "Среди наших коллег провели опрос, какие ассоциации вызывает каждое из времен года. По итогу опроса, среди топовых ассоциаций следующие:"
      ]
    },
    {
      "cell_type": "code",
      "metadata": {
        "id": "2OvlHymVgwYj",
        "colab_type": "code",
        "colab": {}
      },
      "source": [
        "zima = 'снег'\n",
        "vesna = 'солнце'\n",
        "leto = 'фрукты'\n",
        "osen = 'листья'"
      ],
      "execution_count": 0,
      "outputs": []
    },
    {
      "cell_type": "markdown",
      "metadata": {
        "id": "MM65W2uagwYr",
        "colab_type": "text"
      },
      "source": [
        "Но это не очень удобно, можно хранить всю информацию в одной переменной:"
      ]
    },
    {
      "cell_type": "code",
      "metadata": {
        "id": "2p1MUbH-gwYw",
        "colab_type": "code",
        "colab": {}
      },
      "source": [
        "associations = ['снег', 'солнце', 'фрукты', 'листья']"
      ],
      "execution_count": 0,
      "outputs": []
    },
    {
      "cell_type": "code",
      "metadata": {
        "id": "yNf_zRUagwY9",
        "colab_type": "code",
        "colab": {}
      },
      "source": [
        "a = list()\n",
        "a = []\n",
        "a"
      ],
      "execution_count": 0,
      "outputs": []
    },
    {
      "cell_type": "markdown",
      "metadata": {
        "id": "A5S8XYMWgwZK",
        "colab_type": "text"
      },
      "source": [
        "В списке можно хранить информацию разных типов:"
      ]
    },
    {
      "cell_type": "code",
      "metadata": {
        "id": "fFThzCDJgwZP",
        "colab_type": "code",
        "colab": {}
      },
      "source": [
        "my_list = [20, 'город', 0.45, 2 + 3j]\n",
        "print(my_list)"
      ],
      "execution_count": 0,
      "outputs": []
    },
    {
      "cell_type": "markdown",
      "metadata": {
        "id": "-1MoM-fmgwZq",
        "colab_type": "text"
      },
      "source": [
        "К элементам списка можно обращаться по индексу:"
      ]
    },
    {
      "cell_type": "code",
      "metadata": {
        "id": "BcnWkEjKgwZt",
        "colab_type": "code",
        "colab": {}
      },
      "source": [
        "flowers[0]"
      ],
      "execution_count": 0,
      "outputs": []
    },
    {
      "cell_type": "code",
      "metadata": {
        "id": "gmPn6llugwZ7",
        "colab_type": "code",
        "colab": {}
      },
      "source": [
        "for el in range(-4, 0):\n",
        "    print('Это значение индекса: {}, а это элемент списка: {}'.format(el, flowers[el]))"
      ],
      "execution_count": 0,
      "outputs": []
    },
    {
      "cell_type": "markdown",
      "metadata": {
        "id": "rit6BDDjgwaR",
        "colab_type": "text"
      },
      "source": [
        "Листы можно итерировать естественным способом:"
      ]
    },
    {
      "cell_type": "code",
      "metadata": {
        "id": "M55XfsD_gwaV",
        "colab_type": "code",
        "colab": {}
      },
      "source": [
        "for flower in flowers:\n",
        "    print(flower)"
      ],
      "execution_count": 0,
      "outputs": []
    },
    {
      "cell_type": "code",
      "metadata": {
        "id": "e9fq9rpbgwaj",
        "colab_type": "code",
        "colab": {}
      },
      "source": [
        "for i in range(4):\n",
        "    print(flowers[i])"
      ],
      "execution_count": 0,
      "outputs": []
    },
    {
      "cell_type": "markdown",
      "metadata": {
        "id": "sqlmOkdkgwax",
        "colab_type": "text"
      },
      "source": [
        "А еще бывает лист из листов :)"
      ]
    },
    {
      "cell_type": "code",
      "metadata": {
        "id": "WjloaOG5gwa1",
        "colab_type": "code",
        "colab": {}
      },
      "source": [
        "associations = [['Зима', 'снег'], ['Весна', 'солнце'], ['Лето', 'фрукты'], ['Осень', 'листья']]\n",
        "associations"
      ],
      "execution_count": 0,
      "outputs": []
    },
    {
      "cell_type": "code",
      "metadata": {
        "id": "a3q8tHS0gwbH",
        "colab_type": "code",
        "colab": {}
      },
      "source": [
        "for el in associations:\n",
        "    print('время года: {}, ассоциация: {}'.format(el[0], el[1]))"
      ],
      "execution_count": 0,
      "outputs": []
    },
    {
      "cell_type": "markdown",
      "metadata": {
        "id": "67xaUWLfgwbW",
        "colab_type": "text"
      },
      "source": [
        "**Есть много методов (т.е. функций, которые присущи только листам) для работы с листами:**\n",
        "\n",
        "Методы\n",
        "- list.append(x)\tДобавляет элемент в конец списка\n",
        "- list.extend(L)\tРасширяет список list, добавляя в конец все элементы списка L\n",
        "- list.insert(i, x)\tВставляет на i-ый элемент значение x\n",
        "- list.remove(x)\tУдаляет первый элемент в списке, имеющий значение x. ValueError, если такого элемента не существует\n",
        "- list.pop([i])\tУдаляет i-ый элемент и возвращает его. Если индекс не указан, удаляется последний элемент\n",
        "- list.index(x, [start [, end]])\tВозвращает положение первого элемента со значением x (при этом поиск ведется от start до end)\n",
        "- list.count(x)\tВозвращает количество элементов со значением x\n",
        "- list.sort([key=функция])\tСортирует список на основе функции\n",
        "- list.reverse()\tРазворачивает список\n",
        "- list.copy()\tПоверхностная копия списка\n",
        "- list.clear()\tОчищает список"
      ]
    },
    {
      "cell_type": "markdown",
      "metadata": {
        "id": "nwUS_syNgwbb",
        "colab_type": "text"
      },
      "source": [
        "### Словарь (dict)\n",
        "\n",
        "*Разбор данного раздела:* https://youtu.be/RKY3tGrwGCA?t=7676"
      ]
    },
    {
      "cell_type": "code",
      "metadata": {
        "id": "IF8Gv06cgwbi",
        "colab_type": "code",
        "colab": {}
      },
      "source": [
        "my_dict = {'Зима' : 'снег', \n",
        "           'Весна' : 'солнце', \n",
        "           'Лето' : 'фрукты',\n",
        "           'Осень' : 'листья'\n",
        "          }"
      ],
      "execution_count": 0,
      "outputs": []
    },
    {
      "cell_type": "code",
      "metadata": {
        "id": "flbOO3T5gwbt",
        "colab_type": "code",
        "colab": {}
      },
      "source": [
        "my_dict"
      ],
      "execution_count": 0,
      "outputs": []
    },
    {
      "cell_type": "markdown",
      "metadata": {
        "id": "V0B7zsKvgwb6",
        "colab_type": "text"
      },
      "source": [
        "У словаря есть 'ключи' и 'значения':"
      ]
    },
    {
      "cell_type": "code",
      "metadata": {
        "id": "KUv7u7Nqgwb-",
        "colab_type": "code",
        "colab": {}
      },
      "source": [
        "my_dict.keys()"
      ],
      "execution_count": 0,
      "outputs": []
    },
    {
      "cell_type": "code",
      "metadata": {
        "id": "F6NZUOOUgwcI",
        "colab_type": "code",
        "colab": {}
      },
      "source": [
        "my_dict.values()"
      ],
      "execution_count": 0,
      "outputs": []
    },
    {
      "cell_type": "code",
      "metadata": {
        "id": "rN6zjMacgwcZ",
        "colab_type": "code",
        "colab": {}
      },
      "source": [
        "my_dict.items()\n"
      ],
      "execution_count": 0,
      "outputs": []
    },
    {
      "cell_type": "code",
      "metadata": {
        "id": "wQVjLPswgwcu",
        "colab_type": "code",
        "colab": {}
      },
      "source": [
        "my_dict['Зима']"
      ],
      "execution_count": 0,
      "outputs": []
    },
    {
      "cell_type": "code",
      "metadata": {
        "id": "77YpzTwGgwdE",
        "colab_type": "code",
        "colab": {}
      },
      "source": [
        "my_dict.pop('Зима')\n",
        "my_dict   "
      ],
      "execution_count": 0,
      "outputs": []
    },
    {
      "cell_type": "markdown",
      "metadata": {
        "id": "2DYiGluPkolk",
        "colab_type": "text"
      },
      "source": [
        "# **Глоссарий**\n",
        "\n",
        "*Функции (из коробки):*\n",
        "\n",
        "**print()** - вывод на экран\n",
        "\n",
        "**input()** - ввод с клавиатуры\n",
        "\n",
        "**len()** - длина объекта\n",
        "\n",
        "**range()** - диапазон чисел\n",
        "\n",
        "\n",
        "*Основные типы данных:*\n",
        "\n",
        "\n",
        "**int** - целые числа (7)\n",
        "\n",
        "**float** - числа с плавающей точкой (7.0)\n",
        "\n",
        "**string** - строковые данные ('строка')\n",
        "\n",
        "**bool** - булевы данные (True/False)\n",
        "\n"
      ]
    },
    {
      "cell_type": "markdown",
      "metadata": {
        "id": "VgEvT2a_oqNR",
        "colab_type": "text"
      },
      "source": [
        "*Базовые структуры данных:*\n",
        "\n",
        "**list** - структура, предназначенная для хранения данных разных типов. \n",
        "> преобразовать объект в список **list()**\n",
        "\n",
        "**set** - множество - похож на список с разницей, что в нем не может быть повторяющихся элементов. Т.е., если список может быть [1,2,2], то множество будет (1,2)\n",
        "> преобразовать объект в множество/создать пустое множество **set()**\n",
        "\n",
        "**tuple** - кортеж - похож на список с разницей, что в него нельзя добавить новые элементы.\n",
        "> преобразовать объект в кортеж/создать новый кортеж **tuple()**\n",
        "\n",
        "**dict** - структура, предназначенная для хранения данных разных типов, при этом организована по типу ключа-значение\n",
        "> преобразовать в словарь/ создать новый словарь {КЛЮЧ:ЗНАЧЕНИЕ}\n",
        "\n",
        "\n"
      ]
    },
    {
      "cell_type": "markdown",
      "metadata": {
        "id": "X8PXt3JIoCIf",
        "colab_type": "text"
      },
      "source": [
        "# Краткий гайд по обозначениям в Python\n",
        "\n",
        "Если это...\n",
        "\n",
        "[ ] - список\n",
        "\n",
        "( ) - кортеж \n",
        "\n",
        "{ } - словарь \n",
        "\n",
        "----------------\n",
        "\n",
        "[ [ ], [ ] ] - список списков\n",
        "\n",
        "[ ( ) , ( ) ] - список кортежей\n",
        "\n",
        "[ { } , { } ] - список словарей\n",
        "\n",
        "----------------\n",
        "( [ ] , [ ] ) - кортеж из списков\n",
        "\n",
        "( ( ) , ( ) ) - котреж из кортежей\n",
        "\n",
        "( { } , { } ) - кортеж из словарей\n",
        "\n",
        "----------------\n",
        "{ключ:[значение]} - словарь и значение представлено в виде списка\n",
        "{ключ: ()} - словарь и значение представлено в виде кортежа\n",
        "\n",
        ".() - функция/метод \n",
        "\n",
        "Пример: \n",
        "\n",
        "         a = [5, 2, 3, 1, 4]\n",
        "        \n",
        "         a.sort() # вызываем функцию сортировки\n",
        "\n",
        "         >>>>[1, 2, 3, 4, 5]\n",
        "\n",
        ".- атрибут объекта\n",
        "\n",
        "        array.shape\n",
        "\n",
        "\n",
        "А если так, то...\n",
        "\n",
        "a[ ] - вытащить значение под конкретным индексом. **а** является в этом случае итерируемым объектом (объект, в котором есть другие объекты)\n",
        "\n",
        "a( ) - вызвать функцию (если необходимы параметры, то указываются в скобках)\n",
        "\n"
      ]
    }
  ]
}