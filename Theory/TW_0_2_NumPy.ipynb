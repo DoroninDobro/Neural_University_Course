{
  "nbformat": 4,
  "nbformat_minor": 0,
  "metadata": {
    "kernelspec": {
      "display_name": "Python 3",
      "language": "python",
      "name": "python3"
    },
    "language_info": {
      "codemirror_mode": {
        "name": "ipython",
        "version": 3
      },
      "file_extension": ".py",
      "mimetype": "text/x-python",
      "name": "python",
      "nbconvert_exporter": "python",
      "pygments_lexer": "ipython3",
      "version": "3.6.8"
    },
    "colab": {
      "name": "Февральский_курс_Light_Python_Занятие_2_Numpy.ipynb",
      "provenance": [],
      "collapsed_sections": []
    }
  },
  "cells": [
    {
      "cell_type": "markdown",
      "metadata": {
        "id": "E9ChODg2zkJV",
        "colab_type": "text"
      },
      "source": [
        "## Часть 1: Библиотека NumPy\n",
        "\n",
        "*Разбор данного раздела:* https://youtu.be/4ZH_yXtW5Q4?t=501\n",
        "\n",
        "NumPy - векторные/научные вычисления. Пакет содержит функциональные средства для работы с многомерными массивами и высокоуровневыми математическими функциями"
      ]
    },
    {
      "cell_type": "markdown",
      "metadata": {
        "id": "JJeKd0vGzkJh",
        "colab_type": "text"
      },
      "source": [
        "Импортирование библиотеки:"
      ]
    },
    {
      "cell_type": "code",
      "metadata": {
        "id": "SkVigyK3zkJr",
        "colab_type": "code",
        "colab": {}
      },
      "source": [
        "import numpy as np"
      ],
      "execution_count": 0,
      "outputs": []
    },
    {
      "cell_type": "markdown",
      "metadata": {
        "id": "k7o1YfhczkKR",
        "colab_type": "text"
      },
      "source": [
        "### 1. Структура np.ndarray\n",
        "\n",
        "*Разбор данного раздела:* https://youtu.be/4ZH_yXtW5Q4?t=699\n",
        "\n",
        "np.ndarray - это массив, содержащий элементы **одного типа**. \n",
        "\n",
        "Давайте посмотрим что это значит:"
      ]
    },
    {
      "cell_type": "code",
      "metadata": {
        "id": "OsyJKygIzkKY",
        "colab_type": "code",
        "outputId": "6f3f53ec-7414-4654-9da2-d73b2d235df8",
        "colab": {
          "base_uri": "https://localhost:8080/",
          "height": 35
        }
      },
      "source": [
        "a = [2, 4, 5]\n",
        "a"
      ],
      "execution_count": 0,
      "outputs": [
        {
          "output_type": "execute_result",
          "data": {
            "text/plain": [
              "[2, 4, 5]"
            ]
          },
          "metadata": {
            "tags": []
          },
          "execution_count": 2
        }
      ]
    },
    {
      "cell_type": "code",
      "metadata": {
        "id": "c_0_L0AczkK3",
        "colab_type": "code",
        "outputId": "e9397cf6-a046-4945-8390-8d316a22e840",
        "colab": {
          "base_uri": "https://localhost:8080/",
          "height": 35
        }
      },
      "source": [
        "a_numpy = np.array(a)\n",
        "a_numpy.dtype"
      ],
      "execution_count": 0,
      "outputs": [
        {
          "output_type": "execute_result",
          "data": {
            "text/plain": [
              "dtype('int64')"
            ]
          },
          "metadata": {
            "tags": []
          },
          "execution_count": 3
        }
      ]
    },
    {
      "cell_type": "code",
      "metadata": {
        "id": "SiR4qmYBLl__",
        "colab_type": "code",
        "outputId": "96c61c3f-d949-4fa9-c449-291239f7ea65",
        "colab": {
          "base_uri": "https://localhost:8080/",
          "height": 35
        }
      },
      "source": [
        "print(a_numpy)"
      ],
      "execution_count": 0,
      "outputs": [
        {
          "output_type": "stream",
          "text": [
            "[2 4 5]\n"
          ],
          "name": "stdout"
        }
      ]
    },
    {
      "cell_type": "code",
      "metadata": {
        "id": "hm9M-T93zkLT",
        "colab_type": "code",
        "outputId": "ae03a230-06a4-41bd-90f4-c5773e95b29e",
        "colab": {
          "base_uri": "https://localhost:8080/",
          "height": 34
        }
      },
      "source": [
        "b = [2, 3.14]\n",
        "b_numpy = np.array(b)\n",
        "b_numpy.dtype"
      ],
      "execution_count": 0,
      "outputs": [
        {
          "output_type": "execute_result",
          "data": {
            "text/plain": [
              "dtype('float64')"
            ]
          },
          "metadata": {
            "tags": []
          },
          "execution_count": 5
        }
      ]
    },
    {
      "cell_type": "code",
      "metadata": {
        "id": "WoVA6pMWL6mF",
        "colab_type": "code",
        "outputId": "79264d45-b94f-4e94-ed9d-912b0652ea12",
        "colab": {
          "base_uri": "https://localhost:8080/",
          "height": 51
        }
      },
      "source": [
        "print(b)\n",
        "print(b_numpy)"
      ],
      "execution_count": 0,
      "outputs": [
        {
          "output_type": "stream",
          "text": [
            "[2, 3.14]\n",
            "[2.   3.14]\n"
          ],
          "name": "stdout"
        }
      ]
    },
    {
      "cell_type": "code",
      "metadata": {
        "id": "lT40BgvRzkLw",
        "colab_type": "code",
        "outputId": "d9e2b08f-755e-4da0-cb23-1290a0e6a25a",
        "colab": {
          "base_uri": "https://localhost:8080/",
          "height": 68
        }
      },
      "source": [
        "c = [2, 3.14, 'kotiki']\n",
        "c_numpy = np.array(c)\n",
        "print(c)\n",
        "print(c_numpy)\n",
        "print(c_numpy.dtype)"
      ],
      "execution_count": 0,
      "outputs": [
        {
          "output_type": "stream",
          "text": [
            "[2, 3.14, 'kotiki']\n",
            "['2' '3.14' 'kotiki']\n",
            "<U32\n"
          ],
          "name": "stdout"
        }
      ]
    },
    {
      "cell_type": "code",
      "metadata": {
        "id": "78Bj6ZqwzkMM",
        "colab_type": "code",
        "outputId": "65c0a4a8-4b6e-4765-c3b2-c31e97389e62",
        "colab": {
          "base_uri": "https://localhost:8080/",
          "height": 34
        }
      },
      "source": [
        "my_list = [2, 3.14, 'kotiki', [2,3,4]]\n",
        "my_list"
      ],
      "execution_count": 0,
      "outputs": [
        {
          "output_type": "execute_result",
          "data": {
            "text/plain": [
              "[2, 3.14, 'kotiki', [2, 3, 4]]"
            ]
          },
          "metadata": {
            "tags": []
          },
          "execution_count": 12
        }
      ]
    },
    {
      "cell_type": "code",
      "metadata": {
        "id": "Lfm8dLdNzkMw",
        "colab_type": "code",
        "outputId": "848fe4f7-6177-4bc7-dc0f-d57fe4feb39e",
        "colab": {
          "base_uri": "https://localhost:8080/",
          "height": 34
        }
      },
      "source": [
        "# Вариант с object работает\n",
        "np.array([2, 3.14, 'kotiki', [2, 4, 5]], dtype='object')"
      ],
      "execution_count": 0,
      "outputs": [
        {
          "output_type": "execute_result",
          "data": {
            "text/plain": [
              "array([2, 4.14, 'kotiki', list([2, 4, 5])], dtype=object)"
            ]
          },
          "metadata": {
            "tags": []
          },
          "execution_count": 13
        }
      ]
    },
    {
      "cell_type": "code",
      "metadata": {
        "id": "qBpkCfn5NYBG",
        "colab_type": "code",
        "outputId": "ba3f1a11-5889-485b-f7fe-3f0be11196a4",
        "colab": {
          "base_uri": "https://localhost:8080/",
          "height": 164
        }
      },
      "source": [
        "np.array([2, 3.14, 'kotiki', [2, 4, 5]], dtype='int64')"
      ],
      "execution_count": 0,
      "outputs": [
        {
          "output_type": "error",
          "ename": "ValueError",
          "evalue": "ignored",
          "traceback": [
            "\u001b[0;31m---------------------------------------------------------------------------\u001b[0m",
            "\u001b[0;31mValueError\u001b[0m                                Traceback (most recent call last)",
            "\u001b[0;32m<ipython-input-16-4906db8a0d33>\u001b[0m in \u001b[0;36m<module>\u001b[0;34m()\u001b[0m\n\u001b[0;32m----> 1\u001b[0;31m \u001b[0mnp\u001b[0m\u001b[0;34m.\u001b[0m\u001b[0marray\u001b[0m\u001b[0;34m(\u001b[0m\u001b[0;34m[\u001b[0m\u001b[0;36m2\u001b[0m\u001b[0;34m,\u001b[0m \u001b[0;36m4.14\u001b[0m\u001b[0;34m,\u001b[0m \u001b[0;34m'kotiki'\u001b[0m\u001b[0;34m,\u001b[0m \u001b[0;34m[\u001b[0m\u001b[0;36m2\u001b[0m\u001b[0;34m,\u001b[0m \u001b[0;36m4\u001b[0m\u001b[0;34m,\u001b[0m \u001b[0;36m5\u001b[0m\u001b[0;34m]\u001b[0m\u001b[0;34m]\u001b[0m\u001b[0;34m,\u001b[0m \u001b[0mdtype\u001b[0m\u001b[0;34m=\u001b[0m\u001b[0;34m'int64'\u001b[0m\u001b[0;34m)\u001b[0m\u001b[0;34m\u001b[0m\u001b[0;34m\u001b[0m\u001b[0m\n\u001b[0m",
            "\u001b[0;31mValueError\u001b[0m: invalid literal for int() with base 10: 'kotiki'"
          ]
        }
      ]
    },
    {
      "cell_type": "code",
      "metadata": {
        "id": "jVxfyT48OXvm",
        "colab_type": "code",
        "outputId": "ed817dd4-c6a7-4246-df6e-3e7af0b690a5",
        "colab": {
          "base_uri": "https://localhost:8080/",
          "height": 34
        }
      },
      "source": [
        "np.array([2, 3.14], dtype='int64')"
      ],
      "execution_count": 0,
      "outputs": [
        {
          "output_type": "execute_result",
          "data": {
            "text/plain": [
              "array([2, 3])"
            ]
          },
          "metadata": {
            "tags": []
          },
          "execution_count": 17
        }
      ]
    },
    {
      "cell_type": "markdown",
      "metadata": {
        "id": "925upZABzkNS",
        "colab_type": "text"
      },
      "source": [
        "### 2. Типы данных\n",
        "\n",
        "*Разбор данного раздела:* https://youtu.be/4ZH_yXtW5Q4?t=1425\n",
        "\n",
        "В NumPy реализованы свои типы данных, которые отличаются от встроенных в Python.\n",
        "\n",
        "Например, нативный int ничем не ограничен (кроме вашей памяти). Целые числа в numpy имеют фиксированный размер, np.int8, np.int16...\n",
        "\n",
        "Другое различие кроется во встроенных методах:"
      ]
    },
    {
      "cell_type": "code",
      "metadata": {
        "id": "rczIuSjjzkNY",
        "colab_type": "code",
        "colab": {}
      },
      "source": [
        "a_python = 123\n",
        "a_numpy = np.int32(123)"
      ],
      "execution_count": 0,
      "outputs": []
    },
    {
      "cell_type": "code",
      "metadata": {
        "id": "9Ym3FrLBzkNu",
        "colab_type": "code",
        "outputId": "6aa8b682-028b-45b1-8d2d-11cfc13163f7",
        "colab": {
          "base_uri": "https://localhost:8080/",
          "height": 34
        }
      },
      "source": [
        "a_python"
      ],
      "execution_count": 0,
      "outputs": [
        {
          "output_type": "execute_result",
          "data": {
            "text/plain": [
              "123"
            ]
          },
          "metadata": {
            "tags": []
          },
          "execution_count": 19
        }
      ]
    },
    {
      "cell_type": "code",
      "metadata": {
        "id": "XnAAetu0zkPW",
        "colab_type": "code",
        "outputId": "fea6b0e5-6e19-40b8-e314-6b640d643dde",
        "colab": {
          "base_uri": "https://localhost:8080/",
          "height": 34
        }
      },
      "source": [
        "a_numpy"
      ],
      "execution_count": 0,
      "outputs": [
        {
          "output_type": "execute_result",
          "data": {
            "text/plain": [
              "123"
            ]
          },
          "metadata": {
            "tags": []
          },
          "execution_count": 20
        }
      ]
    },
    {
      "cell_type": "code",
      "metadata": {
        "id": "d3WSRnDpzkQh",
        "colab_type": "code",
        "outputId": "39ff917b-5f5b-4038-8329-c03a9bd8bd87",
        "colab": {
          "base_uri": "https://localhost:8080/",
          "height": 34
        }
      },
      "source": [
        "# встроенный в python целочисленный тип\n",
        "type(a_python)"
      ],
      "execution_count": 0,
      "outputs": [
        {
          "output_type": "execute_result",
          "data": {
            "text/plain": [
              "int"
            ]
          },
          "metadata": {
            "tags": []
          },
          "execution_count": 26
        }
      ]
    },
    {
      "cell_type": "code",
      "metadata": {
        "id": "Noboyp83zkRc",
        "colab_type": "code",
        "outputId": "16cdf01b-4875-4ae7-8964-c1c21138c3c9",
        "colab": {
          "base_uri": "https://localhost:8080/",
          "height": 34
        }
      },
      "source": [
        "# встроенный в библиотеку numpy один из целочисленных типов\n",
        "type(a_numpy)"
      ],
      "execution_count": 0,
      "outputs": [
        {
          "output_type": "execute_result",
          "data": {
            "text/plain": [
              "numpy.int32"
            ]
          },
          "metadata": {
            "tags": []
          },
          "execution_count": 27
        }
      ]
    },
    {
      "cell_type": "markdown",
      "metadata": {
        "id": "LrLBflWAzkTd",
        "colab_type": "text"
      },
      "source": [
        "### 3. Одномерные и многомерные массивы"
      ]
    },
    {
      "cell_type": "markdown",
      "metadata": {
        "id": "wPpt1J0hzkTq",
        "colab_type": "text"
      },
      "source": [
        "Одномерные numpy массивы\n",
        "\n",
        "*Разбор данного раздела:* https://youtu.be/4ZH_yXtW5Q4?t=1720"
      ]
    },
    {
      "cell_type": "code",
      "metadata": {
        "id": "V41MALm5zkT9",
        "colab_type": "code",
        "colab": {}
      },
      "source": [
        "# массив из целых чисел\n",
        "a = np.array([1, 2, 3, 4, 5])"
      ],
      "execution_count": 0,
      "outputs": []
    },
    {
      "cell_type": "code",
      "metadata": {
        "id": "pHidHr6bzkUw",
        "colab_type": "code",
        "colab": {}
      },
      "source": [
        "# массив из строк\n",
        "b = np.array(['cat', 'mouse', 'dog', 'rat'])"
      ],
      "execution_count": 0,
      "outputs": []
    },
    {
      "cell_type": "code",
      "metadata": {
        "id": "VMll2qtYzkVB",
        "colab_type": "code",
        "outputId": "f507f3ef-39a1-49e8-9768-b00445b8f8d7",
        "colab": {
          "base_uri": "https://localhost:8080/",
          "height": 34
        }
      },
      "source": [
        "a.dtype"
      ],
      "execution_count": 0,
      "outputs": [
        {
          "output_type": "execute_result",
          "data": {
            "text/plain": [
              "dtype('int64')"
            ]
          },
          "metadata": {
            "tags": []
          },
          "execution_count": 30
        }
      ]
    },
    {
      "cell_type": "code",
      "metadata": {
        "id": "ANIFml-azkVh",
        "colab_type": "code",
        "outputId": "40215da8-9742-47a6-d672-e2704831ce4e",
        "colab": {
          "base_uri": "https://localhost:8080/",
          "height": 34
        }
      },
      "source": [
        "b.dtype"
      ],
      "execution_count": 0,
      "outputs": [
        {
          "output_type": "execute_result",
          "data": {
            "text/plain": [
              "dtype('<U5')"
            ]
          },
          "metadata": {
            "tags": []
          },
          "execution_count": 31
        }
      ]
    },
    {
      "cell_type": "code",
      "metadata": {
        "id": "675X1EPPzkV8",
        "colab_type": "code",
        "outputId": "43737cc8-cc43-4b6f-9738-2b72dad89233",
        "colab": {
          "base_uri": "https://localhost:8080/",
          "height": 34
        }
      },
      "source": [
        "# проверяем размерность\n",
        "## размерность массива\n",
        "a.shape"
      ],
      "execution_count": 0,
      "outputs": [
        {
          "output_type": "execute_result",
          "data": {
            "text/plain": [
              "(5,)"
            ]
          },
          "metadata": {
            "tags": []
          },
          "execution_count": 32
        }
      ]
    },
    {
      "cell_type": "code",
      "metadata": {
        "id": "VoT8RQ0lPXKF",
        "colab_type": "code",
        "outputId": "9bebc1ac-7f18-4073-9a7a-f6e4cb0db85d",
        "colab": {
          "base_uri": "https://localhost:8080/",
          "height": 34
        }
      },
      "source": [
        "b.shape"
      ],
      "execution_count": 0,
      "outputs": [
        {
          "output_type": "execute_result",
          "data": {
            "text/plain": [
              "(4,)"
            ]
          },
          "metadata": {
            "tags": []
          },
          "execution_count": 33
        }
      ]
    },
    {
      "cell_type": "code",
      "metadata": {
        "id": "IjtJVWhwzkWv",
        "colab_type": "code",
        "outputId": "3ccefc6a-873b-495e-85ec-308c53485008",
        "colab": {
          "base_uri": "https://localhost:8080/",
          "height": 34
        }
      },
      "source": [
        "# кол-во элементов в массиве\n",
        "a.size"
      ],
      "execution_count": 0,
      "outputs": [
        {
          "output_type": "execute_result",
          "data": {
            "text/plain": [
              "5"
            ]
          },
          "metadata": {
            "tags": []
          },
          "execution_count": 34
        }
      ]
    },
    {
      "cell_type": "code",
      "metadata": {
        "id": "fHXfcBrrzkXb",
        "colab_type": "code",
        "outputId": "cdf22124-2673-419f-9138-e69e8c3b0916",
        "colab": {
          "base_uri": "https://localhost:8080/",
          "height": 51
        }
      },
      "source": [
        "a = np.array([1, 2, 3, 4, 5, 6])\n",
        "print(a)\n",
        "print(a.shape)"
      ],
      "execution_count": 7,
      "outputs": [
        {
          "output_type": "stream",
          "text": [
            "[1 2 3 4 5 6]\n",
            "(6,)\n"
          ],
          "name": "stdout"
        }
      ]
    },
    {
      "cell_type": "code",
      "metadata": {
        "id": "82WeJ5kwzkYY",
        "colab_type": "code",
        "outputId": "6fd649c0-1a2c-422a-ebfc-a832c4873741",
        "colab": {
          "base_uri": "https://localhost:8080/",
          "height": 103
        }
      },
      "source": [
        "# изменение размерности массива\n",
        "a_new = a.reshape((3, 2))\n",
        "print(a_new)\n",
        "print(a_new.shape)\n",
        "print(a_new.size)"
      ],
      "execution_count": 0,
      "outputs": [
        {
          "output_type": "stream",
          "text": [
            "[[1 2]\n",
            " [3 4]\n",
            " [5 6]]\n",
            "(3, 2)\n",
            "6\n"
          ],
          "name": "stdout"
        }
      ]
    },
    {
      "cell_type": "code",
      "metadata": {
        "id": "bQ7LjBX4P2Yl",
        "colab_type": "code",
        "outputId": "f7b747d4-855a-4b37-99a6-110d6818d61b",
        "colab": {
          "base_uri": "https://localhost:8080/",
          "height": 86
        }
      },
      "source": [
        "# изменение размерности массива\n",
        "a_new = a.reshape((2, 3))\n",
        "print(a_new)\n",
        "print(a_new.shape)\n",
        "print(a_new.size)"
      ],
      "execution_count": 0,
      "outputs": [
        {
          "output_type": "stream",
          "text": [
            "[[1 2 3]\n",
            " [4 5 6]]\n",
            "(2, 3)\n",
            "6\n"
          ],
          "name": "stdout"
        }
      ]
    },
    {
      "cell_type": "code",
      "metadata": {
        "id": "igGGkBAoQA9q",
        "colab_type": "code",
        "outputId": "198cf4c7-acfd-4d84-c4dd-924c214a56df",
        "colab": {
          "base_uri": "https://localhost:8080/",
          "height": 68
        }
      },
      "source": [
        "# изменение размерности массива\n",
        "a_new = a.reshape((1, 6))\n",
        "print(a_new)\n",
        "print(a_new.shape)\n",
        "print(a_new.size)"
      ],
      "execution_count": 0,
      "outputs": [
        {
          "output_type": "stream",
          "text": [
            "[[1 2 3 4 5 6]]\n",
            "(1, 6)\n",
            "6\n"
          ],
          "name": "stdout"
        }
      ]
    },
    {
      "cell_type": "code",
      "metadata": {
        "id": "Ye8UKfqfQDMs",
        "colab_type": "code",
        "outputId": "d7a29e00-cccf-474d-e803-adff8fa3a79c",
        "colab": {
          "base_uri": "https://localhost:8080/",
          "height": 68
        }
      },
      "source": [
        "print(a)\n",
        "print(a.shape)\n",
        "print(a.size)"
      ],
      "execution_count": 0,
      "outputs": [
        {
          "output_type": "stream",
          "text": [
            "[1 2 3 4 5 6]\n",
            "(6,)\n",
            "6\n"
          ],
          "name": "stdout"
        }
      ]
    },
    {
      "cell_type": "code",
      "metadata": {
        "id": "JYT39VhYRKR7",
        "colab_type": "code",
        "outputId": "a37b2fae-bce8-4e75-eea1-4b3f3bba4416",
        "colab": {
          "base_uri": "https://localhost:8080/",
          "height": 231
        }
      },
      "source": [
        "a = np.array([1, 2, 3, 4, 5])\n",
        "a_new = a.reshape((2, 3))\n",
        "print(a_new)\n",
        "print(a_new.shape)\n",
        "print(a_new.size)"
      ],
      "execution_count": 6,
      "outputs": [
        {
          "output_type": "error",
          "ename": "ValueError",
          "evalue": "ignored",
          "traceback": [
            "\u001b[0;31m---------------------------------------------------------------------------\u001b[0m",
            "\u001b[0;31mValueError\u001b[0m                                Traceback (most recent call last)",
            "\u001b[0;32m<ipython-input-6-99be04e90dda>\u001b[0m in \u001b[0;36m<module>\u001b[0;34m()\u001b[0m\n\u001b[1;32m      1\u001b[0m \u001b[0ma\u001b[0m \u001b[0;34m=\u001b[0m \u001b[0mnp\u001b[0m\u001b[0;34m.\u001b[0m\u001b[0marray\u001b[0m\u001b[0;34m(\u001b[0m\u001b[0;34m[\u001b[0m\u001b[0;36m1\u001b[0m\u001b[0;34m,\u001b[0m \u001b[0;36m2\u001b[0m\u001b[0;34m,\u001b[0m \u001b[0;36m3\u001b[0m\u001b[0;34m,\u001b[0m \u001b[0;36m4\u001b[0m\u001b[0;34m,\u001b[0m \u001b[0;36m5\u001b[0m\u001b[0;34m]\u001b[0m\u001b[0;34m)\u001b[0m\u001b[0;34m\u001b[0m\u001b[0;34m\u001b[0m\u001b[0m\n\u001b[0;32m----> 2\u001b[0;31m \u001b[0ma_new\u001b[0m \u001b[0;34m=\u001b[0m \u001b[0ma\u001b[0m\u001b[0;34m.\u001b[0m\u001b[0mreshape\u001b[0m\u001b[0;34m(\u001b[0m\u001b[0;34m(\u001b[0m\u001b[0;36m2\u001b[0m\u001b[0;34m,\u001b[0m \u001b[0;36m3\u001b[0m\u001b[0;34m)\u001b[0m\u001b[0;34m)\u001b[0m\u001b[0;34m\u001b[0m\u001b[0;34m\u001b[0m\u001b[0m\n\u001b[0m\u001b[1;32m      3\u001b[0m \u001b[0mprint\u001b[0m\u001b[0;34m(\u001b[0m\u001b[0ma_new\u001b[0m\u001b[0;34m)\u001b[0m\u001b[0;34m\u001b[0m\u001b[0;34m\u001b[0m\u001b[0m\n\u001b[1;32m      4\u001b[0m \u001b[0mprint\u001b[0m\u001b[0;34m(\u001b[0m\u001b[0ma_new\u001b[0m\u001b[0;34m.\u001b[0m\u001b[0mshape\u001b[0m\u001b[0;34m)\u001b[0m\u001b[0;34m\u001b[0m\u001b[0;34m\u001b[0m\u001b[0m\n\u001b[1;32m      5\u001b[0m \u001b[0mprint\u001b[0m\u001b[0;34m(\u001b[0m\u001b[0ma_new\u001b[0m\u001b[0;34m.\u001b[0m\u001b[0msize\u001b[0m\u001b[0;34m)\u001b[0m\u001b[0;34m\u001b[0m\u001b[0;34m\u001b[0m\u001b[0m\n",
            "\u001b[0;31mValueError\u001b[0m: cannot reshape array of size 5 into shape (2,3)"
          ]
        }
      ]
    },
    {
      "cell_type": "code",
      "metadata": {
        "id": "GCazBzaFRbu3",
        "colab_type": "code",
        "outputId": "e5f77235-d4e2-4c97-c41e-5360c68a4c49",
        "colab": {
          "base_uri": "https://localhost:8080/",
          "height": 34
        }
      },
      "source": [
        "lst = [[1, 2, 3], [4, 5]]\n",
        "print(lst)"
      ],
      "execution_count": 0,
      "outputs": [
        {
          "output_type": "stream",
          "text": [
            "[[1, 2, 3], [4, 5]]\n"
          ],
          "name": "stdout"
        }
      ]
    },
    {
      "cell_type": "markdown",
      "metadata": {
        "id": "NFth5t1IzkZU",
        "colab_type": "text"
      },
      "source": [
        "#### Индексация\n",
        "\n",
        "*Разбор данного раздела:* https://youtu.be/4ZH_yXtW5Q4?t=2494"
      ]
    },
    {
      "cell_type": "code",
      "metadata": {
        "id": "ZUGqIMCjzkZY",
        "colab_type": "code",
        "colab": {}
      },
      "source": [
        "a"
      ],
      "execution_count": 0,
      "outputs": []
    },
    {
      "cell_type": "code",
      "metadata": {
        "id": "wvTCNtY3zkat",
        "colab_type": "code",
        "colab": {}
      },
      "source": [
        "a[0]"
      ],
      "execution_count": 0,
      "outputs": []
    },
    {
      "cell_type": "code",
      "metadata": {
        "id": "PwCpYv_rzkbq",
        "colab_type": "code",
        "colab": {}
      },
      "source": [
        "a[1]"
      ],
      "execution_count": 0,
      "outputs": []
    },
    {
      "cell_type": "code",
      "metadata": {
        "id": "v4Kk-4_3zkcR",
        "colab_type": "code",
        "colab": {}
      },
      "source": [
        "a[-1]"
      ],
      "execution_count": 0,
      "outputs": []
    },
    {
      "cell_type": "code",
      "metadata": {
        "id": "MM2QzoDzzkdJ",
        "colab_type": "code",
        "colab": {}
      },
      "source": [
        "a[:-2]"
      ],
      "execution_count": 0,
      "outputs": []
    },
    {
      "cell_type": "code",
      "metadata": {
        "id": "FFpnr4Igzkd4",
        "colab_type": "code",
        "colab": {}
      },
      "source": [
        "a[1:4]"
      ],
      "execution_count": 0,
      "outputs": []
    },
    {
      "cell_type": "code",
      "metadata": {
        "id": "CJWaNQCjv1ws",
        "colab_type": "code",
        "colab": {}
      },
      "source": [
        "(a > 4)"
      ],
      "execution_count": 0,
      "outputs": []
    },
    {
      "cell_type": "code",
      "metadata": {
        "id": "rYZvABSSS_86",
        "colab_type": "code",
        "colab": {
          "base_uri": "https://localhost:8080/",
          "height": 180
        },
        "outputId": "57da88e6-9631-4a67-d03a-0fb1f50e4e86"
      },
      "source": [
        "a_simple = [1, 2, 3, 4, 6]\n",
        "(a_simple > 3)"
      ],
      "execution_count": 1,
      "outputs": [
        {
          "output_type": "error",
          "ename": "TypeError",
          "evalue": "ignored",
          "traceback": [
            "\u001b[0;31m---------------------------------------------------------------------------\u001b[0m",
            "\u001b[0;31mTypeError\u001b[0m                                 Traceback (most recent call last)",
            "\u001b[0;32m<ipython-input-1-66d763dbd7bd>\u001b[0m in \u001b[0;36m<module>\u001b[0;34m()\u001b[0m\n\u001b[1;32m      1\u001b[0m \u001b[0ma_simple\u001b[0m \u001b[0;34m=\u001b[0m \u001b[0;34m[\u001b[0m\u001b[0;36m1\u001b[0m\u001b[0;34m,\u001b[0m \u001b[0;36m2\u001b[0m\u001b[0;34m,\u001b[0m \u001b[0;36m3\u001b[0m\u001b[0;34m,\u001b[0m \u001b[0;36m4\u001b[0m\u001b[0;34m,\u001b[0m \u001b[0;36m6\u001b[0m\u001b[0;34m]\u001b[0m\u001b[0;34m\u001b[0m\u001b[0;34m\u001b[0m\u001b[0m\n\u001b[0;32m----> 2\u001b[0;31m \u001b[0;34m(\u001b[0m\u001b[0ma_simple\u001b[0m \u001b[0;34m>\u001b[0m \u001b[0;36m3\u001b[0m\u001b[0;34m)\u001b[0m\u001b[0;34m\u001b[0m\u001b[0;34m\u001b[0m\u001b[0m\n\u001b[0m",
            "\u001b[0;31mTypeError\u001b[0m: '>' not supported between instances of 'list' and 'int'"
          ]
        }
      ]
    },
    {
      "cell_type": "code",
      "metadata": {
        "colab_type": "code",
        "outputId": "69491eeb-d8dd-4c68-d4a8-bd827b3c0dc2",
        "id": "5s6BQ_bqTQ9P",
        "colab": {
          "base_uri": "https://localhost:8080/",
          "height": 34
        }
      },
      "source": [
        "a_simple = [1, 2, 3, 4, 6]\n",
        "(np.array(a_simple) > 3)"
      ],
      "execution_count": 4,
      "outputs": [
        {
          "output_type": "execute_result",
          "data": {
            "text/plain": [
              "array([False, False, False,  True,  True])"
            ]
          },
          "metadata": {
            "tags": []
          },
          "execution_count": 4
        }
      ]
    },
    {
      "cell_type": "code",
      "metadata": {
        "id": "qDAzKBhdzkea",
        "colab_type": "code",
        "colab": {
          "base_uri": "https://localhost:8080/",
          "height": 34
        },
        "outputId": "46921584-34e7-4e83-adbd-c7caa0443e2c"
      },
      "source": [
        "# подвыборка массива с логическими условиями\n",
        "a[(a > 2) & (a < 6)]"
      ],
      "execution_count": 8,
      "outputs": [
        {
          "output_type": "execute_result",
          "data": {
            "text/plain": [
              "array([3, 4, 5])"
            ]
          },
          "metadata": {
            "tags": []
          },
          "execution_count": 8
        }
      ]
    },
    {
      "cell_type": "code",
      "metadata": {
        "id": "PuepN32Wzke0",
        "colab_type": "code",
        "colab": {
          "base_uri": "https://localhost:8080/",
          "height": 34
        },
        "outputId": "7c190f89-5d50-48eb-e202-7519df7b1c48"
      },
      "source": [
        "a[(a > 4)]"
      ],
      "execution_count": 9,
      "outputs": [
        {
          "output_type": "execute_result",
          "data": {
            "text/plain": [
              "array([5, 6])"
            ]
          },
          "metadata": {
            "tags": []
          },
          "execution_count": 9
        }
      ]
    },
    {
      "cell_type": "code",
      "metadata": {
        "id": "T-TlCpLaxFXl",
        "colab_type": "code",
        "colab": {
          "base_uri": "https://localhost:8080/",
          "height": 68
        },
        "outputId": "670d4319-f4ea-42cf-94be-5b72d71f2306"
      },
      "source": [
        "lst1 = np.array([2, 3, 12])\n",
        "lst2 = np.array([i for i in range(7)])\n",
        "\n",
        "print(lst1)\n",
        "print(lst2)\n",
        "\n",
        "lst3 = np.array([(i in lst2) for i in lst1])\n",
        "\n",
        "print(lst3)"
      ],
      "execution_count": 10,
      "outputs": [
        {
          "output_type": "stream",
          "text": [
            "[ 2  3 12]\n",
            "[0 1 2 3 4 5 6]\n",
            "[ True  True False]\n"
          ],
          "name": "stdout"
        }
      ]
    },
    {
      "cell_type": "code",
      "metadata": {
        "id": "c_QMQ70JXDcC",
        "colab_type": "code",
        "colab": {
          "base_uri": "https://localhost:8080/",
          "height": 54
        },
        "outputId": "05289b42-8a17-4bda-a6c6-15d0ae56ee1a"
      },
      "source": [
        "lst = [i for i in range(100)]\n",
        "print(lst)"
      ],
      "execution_count": 11,
      "outputs": [
        {
          "output_type": "stream",
          "text": [
            "[0, 1, 2, 3, 4, 5, 6, 7, 8, 9, 10, 11, 12, 13, 14, 15, 16, 17, 18, 19, 20, 21, 22, 23, 24, 25, 26, 27, 28, 29, 30, 31, 32, 33, 34, 35, 36, 37, 38, 39, 40, 41, 42, 43, 44, 45, 46, 47, 48, 49, 50, 51, 52, 53, 54, 55, 56, 57, 58, 59, 60, 61, 62, 63, 64, 65, 66, 67, 68, 69, 70, 71, 72, 73, 74, 75, 76, 77, 78, 79, 80, 81, 82, 83, 84, 85, 86, 87, 88, 89, 90, 91, 92, 93, 94, 95, 96, 97, 98, 99]\n"
          ],
          "name": "stdout"
        }
      ]
    },
    {
      "cell_type": "code",
      "metadata": {
        "id": "vE7989DJXlRD",
        "colab_type": "code",
        "colab": {
          "base_uri": "https://localhost:8080/",
          "height": 357
        },
        "outputId": "6e91b1b3-89d1-491a-b766-ecf04b428b0c"
      },
      "source": [
        "np_lst = np.array(lst)\n",
        "np_lst = np_lst.reshape(20, 5)\n",
        "print(np_lst)"
      ],
      "execution_count": 13,
      "outputs": [
        {
          "output_type": "stream",
          "text": [
            "[[ 0  1  2  3  4]\n",
            " [ 5  6  7  8  9]\n",
            " [10 11 12 13 14]\n",
            " [15 16 17 18 19]\n",
            " [20 21 22 23 24]\n",
            " [25 26 27 28 29]\n",
            " [30 31 32 33 34]\n",
            " [35 36 37 38 39]\n",
            " [40 41 42 43 44]\n",
            " [45 46 47 48 49]\n",
            " [50 51 52 53 54]\n",
            " [55 56 57 58 59]\n",
            " [60 61 62 63 64]\n",
            " [65 66 67 68 69]\n",
            " [70 71 72 73 74]\n",
            " [75 76 77 78 79]\n",
            " [80 81 82 83 84]\n",
            " [85 86 87 88 89]\n",
            " [90 91 92 93 94]\n",
            " [95 96 97 98 99]]\n"
          ],
          "name": "stdout"
        }
      ]
    },
    {
      "cell_type": "code",
      "metadata": {
        "id": "FLa8IjhUchIC",
        "colab_type": "code",
        "colab": {
          "base_uri": "https://localhost:8080/",
          "height": 102
        },
        "outputId": "3d608d3a-35d6-4689-8975-d8cf161b0ed8"
      },
      "source": [
        "print(np_lst[:5, ::2])"
      ],
      "execution_count": 15,
      "outputs": [
        {
          "output_type": "stream",
          "text": [
            "[[ 0  2  4]\n",
            " [ 5  7  9]\n",
            " [10 12 14]\n",
            " [15 17 19]\n",
            " [20 22 24]]\n"
          ],
          "name": "stdout"
        }
      ]
    },
    {
      "cell_type": "code",
      "metadata": {
        "colab_type": "code",
        "outputId": "7e24a8ae-42b6-464e-a8d0-d29a55b12142",
        "id": "OiWsVs3_c3TD",
        "colab": {
          "base_uri": "https://localhost:8080/",
          "height": 102
        }
      },
      "source": [
        "print(np_lst[:5, [0,1]])"
      ],
      "execution_count": 16,
      "outputs": [
        {
          "output_type": "stream",
          "text": [
            "[[ 0  1]\n",
            " [ 5  6]\n",
            " [10 11]\n",
            " [15 16]\n",
            " [20 21]]\n"
          ],
          "name": "stdout"
        }
      ]
    },
    {
      "cell_type": "code",
      "metadata": {
        "id": "mSenFQHic82Q",
        "colab_type": "code",
        "colab": {
          "base_uri": "https://localhost:8080/",
          "height": 51
        },
        "outputId": "f8476b7f-6661-4ae2-c655-5e4b313cabde"
      },
      "source": [
        "np_lst_sum = np_lst.sum(axis=1)\n",
        "print(np_lst_sum)"
      ],
      "execution_count": 17,
      "outputs": [
        {
          "output_type": "stream",
          "text": [
            "[ 10  35  60  85 110 135 160 185 210 235 260 285 310 335 360 385 410 435\n",
            " 460 485]\n"
          ],
          "name": "stdout"
        }
      ]
    },
    {
      "cell_type": "code",
      "metadata": {
        "id": "vCHaZU1PdRUi",
        "colab_type": "code",
        "colab": {
          "base_uri": "https://localhost:8080/",
          "height": 187
        },
        "outputId": "efdd7b1a-8f1c-479d-f6a7-fb84073a2332"
      },
      "source": [
        "mask = (np_lst_sum >= 100) & (np_lst_sum <= 300)\n",
        "print(mask)\n",
        "print(np_lst[mask, :])"
      ],
      "execution_count": 21,
      "outputs": [
        {
          "output_type": "stream",
          "text": [
            "[False False False False  True  True  True  True  True  True  True  True\n",
            " False False False False False False False False]\n",
            "[[20 21 22 23 24]\n",
            " [25 26 27 28 29]\n",
            " [30 31 32 33 34]\n",
            " [35 36 37 38 39]\n",
            " [40 41 42 43 44]\n",
            " [45 46 47 48 49]\n",
            " [50 51 52 53 54]\n",
            " [55 56 57 58 59]]\n"
          ],
          "name": "stdout"
        }
      ]
    },
    {
      "cell_type": "markdown",
      "metadata": {
        "id": "sj4RL2nxd8zv",
        "colab_type": "text"
      },
      "source": [
        "Wow! =)"
      ]
    },
    {
      "cell_type": "markdown",
      "metadata": {
        "id": "fkhgXy-3zkfF",
        "colab_type": "text"
      },
      "source": [
        "\n",
        "#### Встроенные методы\n",
        "\n",
        "*Разбор данного раздела:* https://youtu.be/4ZH_yXtW5Q4?t=4763"
      ]
    },
    {
      "cell_type": "markdown",
      "metadata": {
        "id": "gV742wB-zkfJ",
        "colab_type": "text"
      },
      "source": [
        "чтобы увидеть все доступные методы, после точки нажмите \"Tab\""
      ]
    },
    {
      "cell_type": "code",
      "metadata": {
        "id": "QMGNr6JYzkfM",
        "colab_type": "code",
        "colab": {}
      },
      "source": [
        "a"
      ],
      "execution_count": 0,
      "outputs": []
    },
    {
      "cell_type": "code",
      "metadata": {
        "id": "eH8LzxCNzkff",
        "colab_type": "code",
        "colab": {}
      },
      "source": [
        "# сумма всех элементов массива\n",
        "a.sum()"
      ],
      "execution_count": 0,
      "outputs": []
    },
    {
      "cell_type": "code",
      "metadata": {
        "id": "WauQX4-wzkgY",
        "colab_type": "code",
        "colab": {}
      },
      "source": [
        "# среднее всех элементов массива\n",
        "a.mean()"
      ],
      "execution_count": 0,
      "outputs": []
    },
    {
      "cell_type": "code",
      "metadata": {
        "id": "gV2WNNlczkgq",
        "colab_type": "code",
        "colab": {}
      },
      "source": [
        "# максимальный элемент массива\n",
        "a.max()"
      ],
      "execution_count": 0,
      "outputs": []
    },
    {
      "cell_type": "code",
      "metadata": {
        "id": "jAEE26SozkhO",
        "colab_type": "code",
        "colab": {}
      },
      "source": [
        "# минимальный элемент массива\n",
        "a.min()"
      ],
      "execution_count": 0,
      "outputs": []
    },
    {
      "cell_type": "code",
      "metadata": {
        "id": "AwcpEyAXzkhc",
        "colab_type": "code",
        "colab": {}
      },
      "source": [
        "# результат перемножения всех элементов массива\n",
        "a.prod()"
      ],
      "execution_count": 0,
      "outputs": []
    },
    {
      "cell_type": "code",
      "metadata": {
        "id": "RC_GCKINzkhr",
        "colab_type": "code",
        "colab": {}
      },
      "source": [
        "# массив со строками\n",
        "b"
      ],
      "execution_count": 0,
      "outputs": []
    },
    {
      "cell_type": "code",
      "metadata": {
        "id": "DoVqk1yezkiD",
        "colab_type": "code",
        "colab": {}
      },
      "source": [
        "# сортировка\n",
        "b.sort()\n",
        "b"
      ],
      "execution_count": 0,
      "outputs": []
    },
    {
      "cell_type": "code",
      "metadata": {
        "id": "SNBTWGS2zkid",
        "colab_type": "code",
        "colab": {}
      },
      "source": [
        "%%timeit\n",
        "a.sum()"
      ],
      "execution_count": 0,
      "outputs": []
    },
    {
      "cell_type": "code",
      "metadata": {
        "id": "P5WZP8rmzkiv",
        "colab_type": "code",
        "colab": {}
      },
      "source": [
        "%%timeit\n",
        "a.mean()"
      ],
      "execution_count": 0,
      "outputs": []
    },
    {
      "cell_type": "code",
      "metadata": {
        "id": "SrGzJ5_AzkjC",
        "colab_type": "code",
        "colab": {}
      },
      "source": [
        "# меряет время выполнения всей ячейки"
      ],
      "execution_count": 0,
      "outputs": []
    },
    {
      "cell_type": "code",
      "metadata": {
        "id": "BRZkRD8kzkjK",
        "colab_type": "code",
        "colab": {}
      },
      "source": [
        "%%timeit\n",
        "a.sum()\n",
        "a.mean()"
      ],
      "execution_count": 0,
      "outputs": []
    },
    {
      "cell_type": "code",
      "metadata": {
        "id": "mvwPh0YjzkjW",
        "colab_type": "code",
        "colab": {}
      },
      "source": [
        "# Задаем параметры \n",
        "## n - кол-во циклов повторений\n",
        "## r - кол-во повторений в одном цикле"
      ],
      "execution_count": 0,
      "outputs": []
    },
    {
      "cell_type": "code",
      "metadata": {
        "id": "fpol-WcAzkjg",
        "colab_type": "code",
        "colab": {
          "base_uri": "https://localhost:8080/",
          "height": 51
        },
        "outputId": "a25bf05c-eb76-453c-fb74-1abb3d114b25"
      },
      "source": [
        "%%timeit -n 5 -r 10\n",
        "a.sum()"
      ],
      "execution_count": 22,
      "outputs": [
        {
          "output_type": "stream",
          "text": [
            "The slowest run took 22.17 times longer than the fastest. This could mean that an intermediate result is being cached.\n",
            "5 loops, best of 10: 2.14 µs per loop\n"
          ],
          "name": "stdout"
        }
      ]
    },
    {
      "cell_type": "markdown",
      "metadata": {
        "id": "aeggEjNhzkj5",
        "colab_type": "text"
      },
      "source": [
        "#### Операции с массивами\n",
        "\n",
        "*Разбор данного раздела:* https://youtu.be/4ZH_yXtW5Q4?t=5370"
      ]
    },
    {
      "cell_type": "code",
      "metadata": {
        "id": "KTfz6S9KzkkC",
        "colab_type": "code",
        "colab": {}
      },
      "source": [
        "# np.arange - создает массив из чисел, идущих по порядку\n",
        "## числа от 0 до 5 не включительно\n",
        "print(np.arange(5))"
      ],
      "execution_count": 0,
      "outputs": []
    },
    {
      "cell_type": "code",
      "metadata": {
        "id": "l5UOE6JrzkkU",
        "colab_type": "code",
        "colab": {}
      },
      "source": [
        "# числа от 3 до 6, 6 не включительно\n",
        "print(np.arange(3, 6))"
      ],
      "execution_count": 0,
      "outputs": []
    },
    {
      "cell_type": "code",
      "metadata": {
        "id": "4bNYF87Qzkkh",
        "colab_type": "code",
        "colab": {}
      },
      "source": [
        "# разница между числами = 5\n",
        "print(np.arange(3, 16, 5))"
      ],
      "execution_count": 0,
      "outputs": []
    },
    {
      "cell_type": "code",
      "metadata": {
        "id": "jKoEi_EPzkkt",
        "colab_type": "code",
        "colab": {}
      },
      "source": [
        "a = np.arange(5)\n",
        "print(a)"
      ],
      "execution_count": 0,
      "outputs": []
    },
    {
      "cell_type": "code",
      "metadata": {
        "id": "pI2PjqOtzkk4",
        "colab_type": "code",
        "colab": {
          "base_uri": "https://localhost:8080/",
          "height": 34
        },
        "outputId": "ddd5030c-059b-45a3-ff06-0a42d802b5e4"
      },
      "source": [
        "b = np.arange(3, 8)\n",
        "print(b)"
      ],
      "execution_count": 36,
      "outputs": [
        {
          "output_type": "stream",
          "text": [
            "[3 4 5 6 7]\n"
          ],
          "name": "stdout"
        }
      ]
    },
    {
      "cell_type": "markdown",
      "metadata": {
        "id": "C9FKdEnrzklW",
        "colab_type": "text"
      },
      "source": [
        "#### векторные операции\n",
        "\n",
        "*Разбор данного раздела:* https://youtu.be/4ZH_yXtW5Q4?t=5436"
      ]
    },
    {
      "cell_type": "code",
      "metadata": {
        "id": "gvl9s6jFzklY",
        "colab_type": "code",
        "colab": {}
      },
      "source": [
        "# сумма двух массивов\n",
        "a + b"
      ],
      "execution_count": 0,
      "outputs": []
    },
    {
      "cell_type": "code",
      "metadata": {
        "id": "KMfJmZZ3zklk",
        "colab_type": "code",
        "colab": {}
      },
      "source": [
        "# разность двух массивов\n",
        "a - b"
      ],
      "execution_count": 0,
      "outputs": []
    },
    {
      "cell_type": "code",
      "metadata": {
        "id": "ti4rEgUizklw",
        "colab_type": "code",
        "colab": {}
      },
      "source": [
        "# деление\n",
        "a / b"
      ],
      "execution_count": 0,
      "outputs": []
    },
    {
      "cell_type": "code",
      "metadata": {
        "id": "Hj_cyy5BzkmA",
        "colab_type": "code",
        "colab": {}
      },
      "source": [
        "# обратите внимание, что python нормально обработал деление на ноль\n",
        "## inf - infinite value, бесконочность\n",
        "b / a"
      ],
      "execution_count": 0,
      "outputs": []
    },
    {
      "cell_type": "code",
      "metadata": {
        "id": "CEcKqysHzkmK",
        "colab_type": "code",
        "colab": {}
      },
      "source": [
        "# поэлементное умножение двух массивов\n",
        "a * b"
      ],
      "execution_count": 0,
      "outputs": []
    },
    {
      "cell_type": "code",
      "metadata": {
        "id": "ZVWBhoSmzkmW",
        "colab_type": "code",
        "colab": {}
      },
      "source": [
        "# поэлементное возведение в степень\n",
        "a ** b"
      ],
      "execution_count": 0,
      "outputs": []
    },
    {
      "cell_type": "code",
      "metadata": {
        "id": "BZXTvnNozkml",
        "colab_type": "code",
        "colab": {}
      },
      "source": [
        "# поэлементное целочисленное деление\n",
        "## обратите внимание на результат деления на ноль в этом случае\n",
        "b // a"
      ],
      "execution_count": 0,
      "outputs": []
    },
    {
      "cell_type": "code",
      "metadata": {
        "id": "Ibhvd42BzknC",
        "colab_type": "code",
        "colab": {}
      },
      "source": [
        "# методы работают и без создания новой переменной, но нужны скобочки ()\n",
        "((a * b - a) ** 2).sum()"
      ],
      "execution_count": 0,
      "outputs": []
    },
    {
      "cell_type": "code",
      "metadata": {
        "id": "wh71K2JC0agB",
        "colab_type": "code",
        "colab": {}
      },
      "source": [
        "a * 5 + b[0] * 17"
      ],
      "execution_count": 0,
      "outputs": []
    },
    {
      "cell_type": "markdown",
      "metadata": {
        "id": "b4UmXd1Kzknu",
        "colab_type": "text"
      },
      "source": [
        "### Многомерные массивы\n",
        "\n",
        "*Разбор данного раздела:* https://youtu.be/4ZH_yXtW5Q4?t=5651\n",
        "\n",
        "2D - матрица\n",
        "\n",
        "3D, ..., nD - тензоры"
      ]
    },
    {
      "cell_type": "code",
      "metadata": {
        "id": "yb_hLRcqzknz",
        "colab_type": "code",
        "colab": {
          "base_uri": "https://localhost:8080/",
          "height": 68
        },
        "outputId": "51e959fb-535d-4d03-c2a3-0d1c6cef3867"
      },
      "source": [
        "# создаем двумерный массив\n",
        "a = np.array([[3, 6, 2, 7],\n",
        "             [9, 2, 4, 8],\n",
        "             [8, 2, 3, 6]])\n",
        "\n",
        "print(a)"
      ],
      "execution_count": 24,
      "outputs": [
        {
          "output_type": "stream",
          "text": [
            "[[3 6 2 7]\n",
            " [9 2 4 8]\n",
            " [8 2 3 6]]\n"
          ],
          "name": "stdout"
        }
      ]
    },
    {
      "cell_type": "code",
      "metadata": {
        "id": "odlOePP6zkoK",
        "colab_type": "code",
        "colab": {}
      },
      "source": [
        "# размерность массива\n",
        "a.shape"
      ],
      "execution_count": 0,
      "outputs": []
    },
    {
      "cell_type": "code",
      "metadata": {
        "id": "TukXkp9Gzkob",
        "colab_type": "code",
        "colab": {}
      },
      "source": [
        "# кол-во элементов массива\n",
        "a.size"
      ],
      "execution_count": 0,
      "outputs": []
    },
    {
      "cell_type": "markdown",
      "metadata": {
        "id": "FnX1foWJzkoq",
        "colab_type": "text"
      },
      "source": [
        "#### Индексация\n",
        "\n",
        "*Разбор данного раздела:* https://youtu.be/4ZH_yXtW5Q4?t=5659"
      ]
    },
    {
      "cell_type": "markdown",
      "metadata": {
        "id": "8DWjRHayzkot",
        "colab_type": "text"
      },
      "source": [
        "построчно"
      ]
    },
    {
      "cell_type": "code",
      "metadata": {
        "id": "xUcKXRAYzkov",
        "colab_type": "code",
        "colab": {}
      },
      "source": [
        "a_list = [[3, 6, 2, 7],\n",
        "          [9, 2, 4, 8],\n",
        "          [8, 2, 3, 6]]\n",
        "\n",
        "a_list"
      ],
      "execution_count": 0,
      "outputs": []
    },
    {
      "cell_type": "code",
      "metadata": {
        "id": "53IoMFztzkpF",
        "colab_type": "code",
        "colab": {}
      },
      "source": [
        "# нулевая строка\n",
        "a[0]"
      ],
      "execution_count": 0,
      "outputs": []
    },
    {
      "cell_type": "code",
      "metadata": {
        "id": "H1P2iNEhzkpQ",
        "colab_type": "code",
        "colab": {}
      },
      "source": [
        "# первая строка\n",
        "a[1]"
      ],
      "execution_count": 0,
      "outputs": []
    },
    {
      "cell_type": "code",
      "metadata": {
        "id": "_A5iRiqNzkpe",
        "colab_type": "code",
        "colab": {}
      },
      "source": [
        "# последняя строка\n",
        "a[-1]"
      ],
      "execution_count": 0,
      "outputs": []
    },
    {
      "cell_type": "markdown",
      "metadata": {
        "id": "pueCxTgkzkpu",
        "colab_type": "text"
      },
      "source": [
        "поэлементно"
      ]
    },
    {
      "cell_type": "code",
      "metadata": {
        "id": "7J_njk56zkpv",
        "colab_type": "code",
        "colab": {}
      },
      "source": [
        "a"
      ],
      "execution_count": 0,
      "outputs": []
    },
    {
      "cell_type": "code",
      "metadata": {
        "id": "vqJjLvxszkqE",
        "colab_type": "code",
        "colab": {}
      },
      "source": [
        "# элемент с индексом 0 по строке и 0 по столбцу\n",
        "a[0,0]"
      ],
      "execution_count": 0,
      "outputs": []
    },
    {
      "cell_type": "code",
      "metadata": {
        "id": "N29vELmHzkqQ",
        "colab_type": "code",
        "colab": {}
      },
      "source": [
        "# элемент с индексом 0 по строке и 1 по столбцу\n",
        "a[0,1]"
      ],
      "execution_count": 0,
      "outputs": []
    },
    {
      "cell_type": "code",
      "metadata": {
        "id": "my1ixcQxzkqd",
        "colab_type": "code",
        "colab": {}
      },
      "source": [
        "# элемент с индексом 1 по строке и 0 по столбцу\n",
        "a[1,0]"
      ],
      "execution_count": 0,
      "outputs": []
    },
    {
      "cell_type": "markdown",
      "metadata": {
        "id": "LBTMYwGyzkqn",
        "colab_type": "text"
      },
      "source": [
        "по столбцам"
      ]
    },
    {
      "cell_type": "code",
      "metadata": {
        "id": "JeYr_72Azkqr",
        "colab_type": "code",
        "colab": {}
      },
      "source": [
        "# нулевой столбец\n",
        "a[1:, 0]"
      ],
      "execution_count": 0,
      "outputs": []
    },
    {
      "cell_type": "code",
      "metadata": {
        "id": "PmfkyXfazkrG",
        "colab_type": "code",
        "colab": {}
      },
      "source": [
        "# первый столбец\n",
        "a[:, 1]"
      ],
      "execution_count": 0,
      "outputs": []
    },
    {
      "cell_type": "markdown",
      "metadata": {
        "id": "vhMf-XP7zkrT",
        "colab_type": "text"
      },
      "source": [
        "#### Операции с двумерными массивами и встроенные методы\n",
        "\n",
        "*Разбор данного раздела:* https://youtu.be/4ZH_yXtW5Q4?t=5710"
      ]
    },
    {
      "cell_type": "code",
      "metadata": {
        "id": "Dk2M6MkQzkrX",
        "colab_type": "code",
        "colab": {
          "base_uri": "https://localhost:8080/",
          "height": 68
        },
        "outputId": "dca84fab-7fa1-4cb0-a5a0-8fd8db47cdf5"
      },
      "source": [
        "print(a)"
      ],
      "execution_count": 25,
      "outputs": [
        {
          "output_type": "stream",
          "text": [
            "[[3 6 2 7]\n",
            " [9 2 4 8]\n",
            " [8 2 3 6]]\n"
          ],
          "name": "stdout"
        }
      ]
    },
    {
      "cell_type": "code",
      "metadata": {
        "id": "dh4D3i2_zkrg",
        "colab_type": "code",
        "colab": {}
      },
      "source": [
        "# сумма всех элементов массива\n",
        "a.sum()"
      ],
      "execution_count": 0,
      "outputs": []
    },
    {
      "cell_type": "code",
      "metadata": {
        "id": "p3b6i3G-zkrv",
        "colab_type": "code",
        "colab": {}
      },
      "source": [
        "# минимум по столбцам\n",
        "a.min(axis=0)"
      ],
      "execution_count": 0,
      "outputs": []
    },
    {
      "cell_type": "code",
      "metadata": {
        "id": "kWFJ2pPzzkr7",
        "colab_type": "code",
        "colab": {}
      },
      "source": [
        "# сумма по строкам\n",
        "a.sum(axis=1)"
      ],
      "execution_count": 0,
      "outputs": []
    },
    {
      "cell_type": "code",
      "metadata": {
        "id": "V66Mj_qizksR",
        "colab_type": "code",
        "colab": {}
      },
      "source": [
        "# np.ones_like создает массив из единиц такой же размерности как и массив а\n",
        "b = np.ones_like(a)\n",
        "print(b)"
      ],
      "execution_count": 0,
      "outputs": []
    },
    {
      "cell_type": "code",
      "metadata": {
        "id": "hv2Nt_92zksd",
        "colab_type": "code",
        "colab": {}
      },
      "source": [
        "# np.zeros создает массив из нулей заданной размерности\n",
        "a_ = np.zeros((5,3))\n",
        "a_"
      ],
      "execution_count": 0,
      "outputs": []
    },
    {
      "cell_type": "code",
      "metadata": {
        "id": "8Qri_oG4zksm",
        "colab_type": "code",
        "colab": {}
      },
      "source": [
        "# умножение всех элементов массива на число\n",
        "b = b * 2\n",
        "print(b)"
      ],
      "execution_count": 0,
      "outputs": []
    },
    {
      "cell_type": "code",
      "metadata": {
        "id": "sLjQNK5Mzksv",
        "colab_type": "code",
        "colab": {}
      },
      "source": [
        "print(a)"
      ],
      "execution_count": 0,
      "outputs": []
    },
    {
      "cell_type": "code",
      "metadata": {
        "id": "YbAtj3Ulzks_",
        "colab_type": "code",
        "colab": {}
      },
      "source": [
        "# поэлементное умножение двух массивов\n",
        "a * b"
      ],
      "execution_count": 0,
      "outputs": []
    },
    {
      "cell_type": "markdown",
      "metadata": {
        "id": "AxvH5kzazktL",
        "colab_type": "text"
      },
      "source": [
        "#### структура np.matrix"
      ]
    },
    {
      "cell_type": "code",
      "metadata": {
        "id": "eOVm5xM-zktO",
        "colab_type": "code",
        "colab": {
          "base_uri": "https://localhost:8080/",
          "height": 68
        },
        "outputId": "04e723b2-8765-4b46-9731-52d74c32fbad"
      },
      "source": [
        "np.matrix(a)"
      ],
      "execution_count": 26,
      "outputs": [
        {
          "output_type": "execute_result",
          "data": {
            "text/plain": [
              "matrix([[3, 6, 2, 7],\n",
              "        [9, 2, 4, 8],\n",
              "        [8, 2, 3, 6]])"
            ]
          },
          "metadata": {
            "tags": []
          },
          "execution_count": 26
        }
      ]
    },
    {
      "cell_type": "code",
      "metadata": {
        "id": "EcLPXc7X5_1i",
        "colab_type": "code",
        "colab": {
          "base_uri": "https://localhost:8080/",
          "height": 85
        },
        "outputId": "15980ffb-0e35-4339-87f6-a4968a1933d5"
      },
      "source": [
        "np.matrix(a).T"
      ],
      "execution_count": 27,
      "outputs": [
        {
          "output_type": "execute_result",
          "data": {
            "text/plain": [
              "matrix([[3, 9, 8],\n",
              "        [6, 2, 2],\n",
              "        [2, 4, 3],\n",
              "        [7, 8, 6]])"
            ]
          },
          "metadata": {
            "tags": []
          },
          "execution_count": 27
        }
      ]
    },
    {
      "cell_type": "code",
      "metadata": {
        "id": "5XpKMQAyzkta",
        "colab_type": "code",
        "colab": {
          "base_uri": "https://localhost:8080/",
          "height": 68
        },
        "outputId": "120ec2b4-c894-46d7-8768-c448ce4bd57f"
      },
      "source": [
        "# в случае с np.matrix выполняется матричное умножение, а не поэлементное (!!!)\n",
        "np.matrix(a) * np.matrix(a).T\n",
        "# (n1, n2) * (n2, n3) = (n1, n3)"
      ],
      "execution_count": 28,
      "outputs": [
        {
          "output_type": "execute_result",
          "data": {
            "text/plain": [
              "matrix([[ 98, 103,  84],\n",
              "        [103, 165, 136],\n",
              "        [ 84, 136, 113]])"
            ]
          },
          "metadata": {
            "tags": []
          },
          "execution_count": 28
        }
      ]
    },
    {
      "cell_type": "markdown",
      "metadata": {
        "id": "VgtDImiPzktu",
        "colab_type": "text"
      },
      "source": [
        "#### Тензоры a.k.a. многомерные массивы\n"
      ]
    },
    {
      "cell_type": "code",
      "metadata": {
        "id": "4o-OcMOIzktz",
        "colab_type": "code",
        "colab": {
          "base_uri": "https://localhost:8080/",
          "height": 1000
        },
        "outputId": "7ec941fa-8613-4139-e364-84f9b0a6746a"
      },
      "source": [
        "# создаем пятимерный массив из единиц размерности 2 на 3 на 4 на 6 на 5\n",
        "c = np.ones((2, 3, 4, 6, 5))\n",
        "print(c)"
      ],
      "execution_count": 29,
      "outputs": [
        {
          "output_type": "stream",
          "text": [
            "[[[[[1. 1. 1. 1. 1.]\n",
            "    [1. 1. 1. 1. 1.]\n",
            "    [1. 1. 1. 1. 1.]\n",
            "    [1. 1. 1. 1. 1.]\n",
            "    [1. 1. 1. 1. 1.]\n",
            "    [1. 1. 1. 1. 1.]]\n",
            "\n",
            "   [[1. 1. 1. 1. 1.]\n",
            "    [1. 1. 1. 1. 1.]\n",
            "    [1. 1. 1. 1. 1.]\n",
            "    [1. 1. 1. 1. 1.]\n",
            "    [1. 1. 1. 1. 1.]\n",
            "    [1. 1. 1. 1. 1.]]\n",
            "\n",
            "   [[1. 1. 1. 1. 1.]\n",
            "    [1. 1. 1. 1. 1.]\n",
            "    [1. 1. 1. 1. 1.]\n",
            "    [1. 1. 1. 1. 1.]\n",
            "    [1. 1. 1. 1. 1.]\n",
            "    [1. 1. 1. 1. 1.]]\n",
            "\n",
            "   [[1. 1. 1. 1. 1.]\n",
            "    [1. 1. 1. 1. 1.]\n",
            "    [1. 1. 1. 1. 1.]\n",
            "    [1. 1. 1. 1. 1.]\n",
            "    [1. 1. 1. 1. 1.]\n",
            "    [1. 1. 1. 1. 1.]]]\n",
            "\n",
            "\n",
            "  [[[1. 1. 1. 1. 1.]\n",
            "    [1. 1. 1. 1. 1.]\n",
            "    [1. 1. 1. 1. 1.]\n",
            "    [1. 1. 1. 1. 1.]\n",
            "    [1. 1. 1. 1. 1.]\n",
            "    [1. 1. 1. 1. 1.]]\n",
            "\n",
            "   [[1. 1. 1. 1. 1.]\n",
            "    [1. 1. 1. 1. 1.]\n",
            "    [1. 1. 1. 1. 1.]\n",
            "    [1. 1. 1. 1. 1.]\n",
            "    [1. 1. 1. 1. 1.]\n",
            "    [1. 1. 1. 1. 1.]]\n",
            "\n",
            "   [[1. 1. 1. 1. 1.]\n",
            "    [1. 1. 1. 1. 1.]\n",
            "    [1. 1. 1. 1. 1.]\n",
            "    [1. 1. 1. 1. 1.]\n",
            "    [1. 1. 1. 1. 1.]\n",
            "    [1. 1. 1. 1. 1.]]\n",
            "\n",
            "   [[1. 1. 1. 1. 1.]\n",
            "    [1. 1. 1. 1. 1.]\n",
            "    [1. 1. 1. 1. 1.]\n",
            "    [1. 1. 1. 1. 1.]\n",
            "    [1. 1. 1. 1. 1.]\n",
            "    [1. 1. 1. 1. 1.]]]\n",
            "\n",
            "\n",
            "  [[[1. 1. 1. 1. 1.]\n",
            "    [1. 1. 1. 1. 1.]\n",
            "    [1. 1. 1. 1. 1.]\n",
            "    [1. 1. 1. 1. 1.]\n",
            "    [1. 1. 1. 1. 1.]\n",
            "    [1. 1. 1. 1. 1.]]\n",
            "\n",
            "   [[1. 1. 1. 1. 1.]\n",
            "    [1. 1. 1. 1. 1.]\n",
            "    [1. 1. 1. 1. 1.]\n",
            "    [1. 1. 1. 1. 1.]\n",
            "    [1. 1. 1. 1. 1.]\n",
            "    [1. 1. 1. 1. 1.]]\n",
            "\n",
            "   [[1. 1. 1. 1. 1.]\n",
            "    [1. 1. 1. 1. 1.]\n",
            "    [1. 1. 1. 1. 1.]\n",
            "    [1. 1. 1. 1. 1.]\n",
            "    [1. 1. 1. 1. 1.]\n",
            "    [1. 1. 1. 1. 1.]]\n",
            "\n",
            "   [[1. 1. 1. 1. 1.]\n",
            "    [1. 1. 1. 1. 1.]\n",
            "    [1. 1. 1. 1. 1.]\n",
            "    [1. 1. 1. 1. 1.]\n",
            "    [1. 1. 1. 1. 1.]\n",
            "    [1. 1. 1. 1. 1.]]]]\n",
            "\n",
            "\n",
            "\n",
            " [[[[1. 1. 1. 1. 1.]\n",
            "    [1. 1. 1. 1. 1.]\n",
            "    [1. 1. 1. 1. 1.]\n",
            "    [1. 1. 1. 1. 1.]\n",
            "    [1. 1. 1. 1. 1.]\n",
            "    [1. 1. 1. 1. 1.]]\n",
            "\n",
            "   [[1. 1. 1. 1. 1.]\n",
            "    [1. 1. 1. 1. 1.]\n",
            "    [1. 1. 1. 1. 1.]\n",
            "    [1. 1. 1. 1. 1.]\n",
            "    [1. 1. 1. 1. 1.]\n",
            "    [1. 1. 1. 1. 1.]]\n",
            "\n",
            "   [[1. 1. 1. 1. 1.]\n",
            "    [1. 1. 1. 1. 1.]\n",
            "    [1. 1. 1. 1. 1.]\n",
            "    [1. 1. 1. 1. 1.]\n",
            "    [1. 1. 1. 1. 1.]\n",
            "    [1. 1. 1. 1. 1.]]\n",
            "\n",
            "   [[1. 1. 1. 1. 1.]\n",
            "    [1. 1. 1. 1. 1.]\n",
            "    [1. 1. 1. 1. 1.]\n",
            "    [1. 1. 1. 1. 1.]\n",
            "    [1. 1. 1. 1. 1.]\n",
            "    [1. 1. 1. 1. 1.]]]\n",
            "\n",
            "\n",
            "  [[[1. 1. 1. 1. 1.]\n",
            "    [1. 1. 1. 1. 1.]\n",
            "    [1. 1. 1. 1. 1.]\n",
            "    [1. 1. 1. 1. 1.]\n",
            "    [1. 1. 1. 1. 1.]\n",
            "    [1. 1. 1. 1. 1.]]\n",
            "\n",
            "   [[1. 1. 1. 1. 1.]\n",
            "    [1. 1. 1. 1. 1.]\n",
            "    [1. 1. 1. 1. 1.]\n",
            "    [1. 1. 1. 1. 1.]\n",
            "    [1. 1. 1. 1. 1.]\n",
            "    [1. 1. 1. 1. 1.]]\n",
            "\n",
            "   [[1. 1. 1. 1. 1.]\n",
            "    [1. 1. 1. 1. 1.]\n",
            "    [1. 1. 1. 1. 1.]\n",
            "    [1. 1. 1. 1. 1.]\n",
            "    [1. 1. 1. 1. 1.]\n",
            "    [1. 1. 1. 1. 1.]]\n",
            "\n",
            "   [[1. 1. 1. 1. 1.]\n",
            "    [1. 1. 1. 1. 1.]\n",
            "    [1. 1. 1. 1. 1.]\n",
            "    [1. 1. 1. 1. 1.]\n",
            "    [1. 1. 1. 1. 1.]\n",
            "    [1. 1. 1. 1. 1.]]]\n",
            "\n",
            "\n",
            "  [[[1. 1. 1. 1. 1.]\n",
            "    [1. 1. 1. 1. 1.]\n",
            "    [1. 1. 1. 1. 1.]\n",
            "    [1. 1. 1. 1. 1.]\n",
            "    [1. 1. 1. 1. 1.]\n",
            "    [1. 1. 1. 1. 1.]]\n",
            "\n",
            "   [[1. 1. 1. 1. 1.]\n",
            "    [1. 1. 1. 1. 1.]\n",
            "    [1. 1. 1. 1. 1.]\n",
            "    [1. 1. 1. 1. 1.]\n",
            "    [1. 1. 1. 1. 1.]\n",
            "    [1. 1. 1. 1. 1.]]\n",
            "\n",
            "   [[1. 1. 1. 1. 1.]\n",
            "    [1. 1. 1. 1. 1.]\n",
            "    [1. 1. 1. 1. 1.]\n",
            "    [1. 1. 1. 1. 1.]\n",
            "    [1. 1. 1. 1. 1.]\n",
            "    [1. 1. 1. 1. 1.]]\n",
            "\n",
            "   [[1. 1. 1. 1. 1.]\n",
            "    [1. 1. 1. 1. 1.]\n",
            "    [1. 1. 1. 1. 1.]\n",
            "    [1. 1. 1. 1. 1.]\n",
            "    [1. 1. 1. 1. 1.]\n",
            "    [1. 1. 1. 1. 1.]]]]]\n"
          ],
          "name": "stdout"
        }
      ]
    },
    {
      "cell_type": "code",
      "metadata": {
        "id": "380jy2slzkuF",
        "colab_type": "code",
        "colab": {
          "base_uri": "https://localhost:8080/",
          "height": 136
        },
        "outputId": "af79bd97-b1ce-4930-b3de-3f1005a235d2"
      },
      "source": [
        "# создаем трехмерный массив руками\n",
        "d = np.array([[[1, 2, 3, 4],\n",
        "              [5, 6, 7, 8],\n",
        "              [9, 10, 11, 12]],\n",
        "             \n",
        "              [[13, 14, 15, 16],\n",
        "              [17, 18, 19, 20],\n",
        "              [21, 22, 23, 24]]])\n",
        "\n",
        "print(d)"
      ],
      "execution_count": 30,
      "outputs": [
        {
          "output_type": "stream",
          "text": [
            "[[[ 1  2  3  4]\n",
            "  [ 5  6  7  8]\n",
            "  [ 9 10 11 12]]\n",
            "\n",
            " [[13 14 15 16]\n",
            "  [17 18 19 20]\n",
            "  [21 22 23 24]]]\n"
          ],
          "name": "stdout"
        }
      ]
    },
    {
      "cell_type": "code",
      "metadata": {
        "id": "7P4LXHmjzkuS",
        "colab_type": "code",
        "colab": {
          "base_uri": "https://localhost:8080/",
          "height": 34
        },
        "outputId": "a1c26244-15e6-4b71-b3e8-b33206fac2ab"
      },
      "source": [
        "# проверяем размерность\n",
        "d.shape"
      ],
      "execution_count": 31,
      "outputs": [
        {
          "output_type": "execute_result",
          "data": {
            "text/plain": [
              "(2, 3, 4)"
            ]
          },
          "metadata": {
            "tags": []
          },
          "execution_count": 31
        }
      ]
    },
    {
      "cell_type": "markdown",
      "metadata": {
        "id": "N-tfxwVHzkug",
        "colab_type": "text"
      },
      "source": [
        "Как поэлементно обращаться к тензорам?"
      ]
    },
    {
      "cell_type": "code",
      "metadata": {
        "id": "uPFr6zQgzkul",
        "colab_type": "code",
        "colab": {}
      },
      "source": [
        "# элемент с индексами 0 по всем осям\n",
        "d[0, 0, 0]"
      ],
      "execution_count": 0,
      "outputs": []
    },
    {
      "cell_type": "code",
      "metadata": {
        "id": "PNG7g7z6zkux",
        "colab_type": "code",
        "colab": {}
      },
      "source": [
        "# только первые строки\n",
        "d[:,  0, :]"
      ],
      "execution_count": 0,
      "outputs": []
    },
    {
      "cell_type": "code",
      "metadata": {
        "id": "cYUi9JFszku8",
        "colab_type": "code",
        "colab": {}
      },
      "source": [
        "# только первые строки и только первые 2 элемента каждой строки\n",
        "d[:,  0, :2]"
      ],
      "execution_count": 0,
      "outputs": []
    },
    {
      "cell_type": "code",
      "metadata": {
        "id": "pZPs0QzyzkvG",
        "colab_type": "code",
        "colab": {}
      },
      "source": [
        "# сумма элементов по второй оси\n",
        "d.sum(axis=2)"
      ],
      "execution_count": 0,
      "outputs": []
    },
    {
      "cell_type": "markdown",
      "metadata": {
        "id": "AjtoLgd-zkvT",
        "colab_type": "text"
      },
      "source": [
        "### Матричные операции"
      ]
    },
    {
      "cell_type": "markdown",
      "metadata": {
        "id": "r2mRAu6HzkvV",
        "colab_type": "text"
      },
      "source": [
        "Транспонирование\n",
        "\n",
        "метод .T"
      ]
    },
    {
      "cell_type": "code",
      "metadata": {
        "id": "Tpylmhe-zkvX",
        "colab_type": "code",
        "colab": {
          "base_uri": "https://localhost:8080/",
          "height": 68
        },
        "outputId": "31bf97b2-be69-4dc0-cb7f-8d1e6e01f22c"
      },
      "source": [
        "print(a)"
      ],
      "execution_count": 32,
      "outputs": [
        {
          "output_type": "stream",
          "text": [
            "[[3 6 2 7]\n",
            " [9 2 4 8]\n",
            " [8 2 3 6]]\n"
          ],
          "name": "stdout"
        }
      ]
    },
    {
      "cell_type": "code",
      "metadata": {
        "id": "FlaaZdZuzkvk",
        "colab_type": "code",
        "colab": {
          "base_uri": "https://localhost:8080/",
          "height": 85
        },
        "outputId": "f5872c46-b3dd-446a-c16c-bc3af31fe1de"
      },
      "source": [
        "aT = a.T\n",
        "print(a.T)"
      ],
      "execution_count": 33,
      "outputs": [
        {
          "output_type": "stream",
          "text": [
            "[[3 9 8]\n",
            " [6 2 2]\n",
            " [2 4 3]\n",
            " [7 8 6]]\n"
          ],
          "name": "stdout"
        }
      ]
    },
    {
      "cell_type": "markdown",
      "metadata": {
        "id": "VGAqmU0mzkvx",
        "colab_type": "text"
      },
      "source": [
        "Умножение двух матриц\n",
        "\n",
        "метод .dot"
      ]
    },
    {
      "cell_type": "code",
      "metadata": {
        "id": "tF0ZLfO8zkv1",
        "colab_type": "code",
        "colab": {
          "base_uri": "https://localhost:8080/",
          "height": 34
        },
        "outputId": "c49b444e-c8af-4945-c37a-0b0a3d3bb09b"
      },
      "source": [
        "a = np.array([2, 3, 9, 8, 2])\n",
        "print(a)"
      ],
      "execution_count": 40,
      "outputs": [
        {
          "output_type": "stream",
          "text": [
            "[2 3 9 8 2]\n"
          ],
          "name": "stdout"
        }
      ]
    },
    {
      "cell_type": "code",
      "metadata": {
        "id": "2fybvch-zkwB",
        "colab_type": "code",
        "colab": {
          "base_uri": "https://localhost:8080/",
          "height": 34
        },
        "outputId": "2021d0b6-a064-49a9-ff2f-1eed219a8af1"
      },
      "source": [
        "print(b)"
      ],
      "execution_count": 37,
      "outputs": [
        {
          "output_type": "stream",
          "text": [
            "[3 4 5 6 7]\n"
          ],
          "name": "stdout"
        }
      ]
    },
    {
      "cell_type": "code",
      "metadata": {
        "id": "SLUsk1z0zkwK",
        "colab_type": "code",
        "colab": {
          "base_uri": "https://localhost:8080/",
          "height": 34
        },
        "outputId": "cf1ccea7-ca86-4f0c-e3bf-2fff37f145fd"
      },
      "source": [
        "# это не умножение(!!!)\n",
        "## это поэлементное умножение\n",
        "a * b"
      ],
      "execution_count": 41,
      "outputs": [
        {
          "output_type": "execute_result",
          "data": {
            "text/plain": [
              "array([ 6, 12, 45, 48, 14])"
            ]
          },
          "metadata": {
            "tags": []
          },
          "execution_count": 41
        }
      ]
    },
    {
      "cell_type": "code",
      "metadata": {
        "id": "qR1N3UF_zkwX",
        "colab_type": "code",
        "colab": {
          "base_uri": "https://localhost:8080/",
          "height": 34
        },
        "outputId": "b626b3bd-c2fa-4acd-94f3-4ca176c74f59"
      },
      "source": [
        "# вот это умножение:\n",
        "## метод .dot\n",
        "c = a.dot(b)\n",
        "print(c)"
      ],
      "execution_count": 43,
      "outputs": [
        {
          "output_type": "stream",
          "text": [
            "125\n"
          ],
          "name": "stdout"
        }
      ]
    },
    {
      "cell_type": "code",
      "metadata": {
        "id": "mrfxw9Egzkwj",
        "colab_type": "code",
        "colab": {
          "base_uri": "https://localhost:8080/",
          "height": 34
        },
        "outputId": "e0716434-04ac-4e3c-fe03-90c860318e8f"
      },
      "source": [
        "a.T.dot(b)"
      ],
      "execution_count": 44,
      "outputs": [
        {
          "output_type": "execute_result",
          "data": {
            "text/plain": [
              "125"
            ]
          },
          "metadata": {
            "tags": []
          },
          "execution_count": 44
        }
      ]
    },
    {
      "cell_type": "markdown",
      "metadata": {
        "id": "Y2_Fa3GLzkwu",
        "colab_type": "text"
      },
      "source": [
        "### Семплирование из распределений\n",
        "\n",
        "*Разбор данного раздела:* https://youtu.be/4ZH_yXtW5Q4?t=6188"
      ]
    },
    {
      "cell_type": "markdown",
      "metadata": {
        "id": "-YeINmX7zkwx",
        "colab_type": "text"
      },
      "source": [
        "Описание всех возможностей модуля np.random:\n",
        "\n",
        "https://numpy.org/devdocs/reference/random/index.html\n"
      ]
    },
    {
      "cell_type": "code",
      "metadata": {
        "id": "fIL1gWXVzkwz",
        "colab_type": "code",
        "colab": {}
      },
      "source": [
        "# создаем массив размера 5 на 5 со случайными числами из стандартного нормального распределения\n",
        "rr = np.random.normal(0, 1, (5,5))\n",
        "print(rr)"
      ],
      "execution_count": 0,
      "outputs": []
    },
    {
      "cell_type": "code",
      "metadata": {
        "id": "iEWNRPh-zkw6",
        "colab_type": "code",
        "colab": {}
      },
      "source": [
        "rr = np.random.randint(0, 10, (5,5))\n",
        "print(rr)"
      ],
      "execution_count": 0,
      "outputs": []
    },
    {
      "cell_type": "markdown",
      "metadata": {
        "id": "ryzPlVHlzkxA",
        "colab_type": "text"
      },
      "source": [
        "### Чтение файлов\n",
        "\n",
        "*Разбор данного раздела:* https://youtu.be/4ZH_yXtW5Q4?t=6305"
      ]
    },
    {
      "cell_type": "code",
      "metadata": {
        "id": "SLXOnJJqlIQY",
        "colab_type": "code",
        "outputId": "caaf395c-f665-44cc-d7d1-7e16465b62ce",
        "colab": {
          "base_uri": "https://localhost:8080/",
          "height": 122
        }
      },
      "source": [
        "from google.colab import drive\n",
        "drive.mount('/content/drive')"
      ],
      "execution_count": 1,
      "outputs": [
        {
          "output_type": "stream",
          "text": [
            "Go to this URL in a browser: https://accounts.google.com/o/oauth2/auth?client_id=947318989803-6bn6qk8qdgf4n4g3pfee6491hc0brc4i.apps.googleusercontent.com&redirect_uri=urn%3aietf%3awg%3aoauth%3a2.0%3aoob&response_type=code&scope=email%20https%3a%2f%2fwww.googleapis.com%2fauth%2fdocs.test%20https%3a%2f%2fwww.googleapis.com%2fauth%2fdrive%20https%3a%2f%2fwww.googleapis.com%2fauth%2fdrive.photos.readonly%20https%3a%2f%2fwww.googleapis.com%2fauth%2fpeopleapi.readonly\n",
            "\n",
            "Enter your authorization code:\n",
            "··········\n",
            "Mounted at /content/drive\n"
          ],
          "name": "stdout"
        }
      ]
    },
    {
      "cell_type": "code",
      "metadata": {
        "id": "hNzYcuhtzkxE",
        "colab_type": "code",
        "colab": {}
      },
      "source": [
        "# грузим массив из файла .csv\n",
        "my_data = np.loadtxt('/content/drive/My Drive/iris.csv', delimiter=',', skiprows=1) # skiprows=1 - пропускаем первую строку, поскольку в ней названия колонок базы "
      ],
      "execution_count": 0,
      "outputs": []
    },
    {
      "cell_type": "code",
      "metadata": {
        "id": "Y5O-OcQbzkxS",
        "colab_type": "code",
        "colab": {}
      },
      "source": [
        "# вот что мы подгрузили\n",
        "my_data"
      ],
      "execution_count": 0,
      "outputs": []
    },
    {
      "cell_type": "code",
      "metadata": {
        "id": "4LmMitE1zkxe",
        "colab_type": "code",
        "colab": {
          "base_uri": "https://localhost:8080/",
          "height": 34
        },
        "outputId": "49effd98-5545-4648-8bb1-178e593d4728"
      },
      "source": [
        "# массив имеет тип np.array сразу\n",
        "type(my_data)"
      ],
      "execution_count": 49,
      "outputs": [
        {
          "output_type": "execute_result",
          "data": {
            "text/plain": [
              "numpy.ndarray"
            ]
          },
          "metadata": {
            "tags": []
          },
          "execution_count": 49
        }
      ]
    },
    {
      "cell_type": "code",
      "metadata": {
        "id": "CPyIiZ8bzkxn",
        "colab_type": "code",
        "colab": {}
      },
      "source": [
        "# тип подгруженных данных - float64\n",
        "my_data.dtype"
      ],
      "execution_count": 0,
      "outputs": []
    },
    {
      "cell_type": "code",
      "metadata": {
        "id": "0s6rDAkz8ujZ",
        "colab_type": "code",
        "colab": {}
      },
      "source": [
        "my_data.shape"
      ],
      "execution_count": 0,
      "outputs": []
    },
    {
      "cell_type": "code",
      "metadata": {
        "id": "cc9DJvHBnQXc",
        "colab_type": "code",
        "colab": {
          "resources": {
            "http://localhost:8080/nbextensions/google.colab/files.js": {
              "data": "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",
              "ok": true,
              "headers": [
                [
                  "content-type",
                  "application/javascript"
                ]
              ],
              "status": 200,
              "status_text": ""
            }
          },
          "base_uri": "https://localhost:8080/",
          "height": 91
        },
        "outputId": "1b2ed1fd-658f-4ea4-816f-53f348e17f12"
      },
      "source": [
        "from google.colab import files\n",
        "files.upload()\n",
        "!ls"
      ],
      "execution_count": 50,
      "outputs": [
        {
          "output_type": "display_data",
          "data": {
            "text/html": [
              "\n",
              "     <input type=\"file\" id=\"files-b3ab27fa-3de2-4360-ab36-4549923a479b\" name=\"files[]\" multiple disabled />\n",
              "     <output id=\"result-b3ab27fa-3de2-4360-ab36-4549923a479b\">\n",
              "      Upload widget is only available when the cell has been executed in the\n",
              "      current browser session. Please rerun this cell to enable.\n",
              "      </output>\n",
              "      <script src=\"/nbextensions/google.colab/files.js\"></script> "
            ],
            "text/plain": [
              "<IPython.core.display.HTML object>"
            ]
          },
          "metadata": {
            "tags": []
          }
        },
        {
          "output_type": "stream",
          "text": [
            "Saving iris.csv to iris.csv\n",
            "drive  iris.csv  sample_data\n"
          ],
          "name": "stdout"
        }
      ]
    },
    {
      "cell_type": "code",
      "metadata": {
        "colab_type": "code",
        "id": "SLkV-yu3n67X",
        "colab": {}
      },
      "source": [
        "# грузим массив из файла .csv\n",
        "my_data1 = np.loadtxt('iris.csv', delimiter=',', skiprows=1) # skiprows=1 - пропускаем первую строку, поскольку в ней названия колонок базы "
      ],
      "execution_count": 0,
      "outputs": []
    },
    {
      "cell_type": "code",
      "metadata": {
        "id": "wrK_GTcQoCkg",
        "colab_type": "code",
        "colab": {}
      },
      "source": [
        "print(my_data1)"
      ],
      "execution_count": 0,
      "outputs": []
    },
    {
      "cell_type": "markdown",
      "metadata": {
        "id": "dPl6bnPF1rBz",
        "colab_type": "text"
      },
      "source": [
        "# **Глоссарий**\n",
        "array[n1:n2] - срез массива с элемента n1 по n2 (не включительно)\n",
        "\n",
        "-----------------------\n",
        "\n",
        "**Основные методы для ndarray **\n",
        "\n",
        ".dtype - узнать тип данных массива\n",
        "\n",
        ".shape - узнать размер массива\n",
        "\n",
        ".reshape((*новый размер*))  - поменять размер массива\n",
        "\n",
        ".sum() сумма всех элементов\n",
        "\n",
        ".mean() среднее всех элементов\n",
        "\n",
        ".min() минимальное значение массива\n",
        "\n",
        ".max() максимальное значение\n",
        "\n",
        ".prod() произведение всех элементов\n",
        "\n",
        "-------------------\n",
        "\n",
        "np.arange(n) - генерация массива со значениями от 0 до n (не включительно)\n",
        "\n",
        "np.loadtxt(адрес расположения файла+параметры загрузки)\n",
        "\n",
        "\n"
      ]
    }
  ]
}