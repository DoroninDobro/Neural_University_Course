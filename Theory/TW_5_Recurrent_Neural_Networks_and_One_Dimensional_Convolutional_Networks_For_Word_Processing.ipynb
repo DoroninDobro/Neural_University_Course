{
  "nbformat": 4,
  "nbformat_minor": 0,
  "metadata": {
    "colab": {
      "name": "Апрельский курс (2020). Pro. Занятие 5",
      "provenance": [],
      "collapsed_sections": [],
      "machine_shape": "hm"
    },
    "kernelspec": {
      "name": "python3",
      "display_name": "Python 3"
    },
    "accelerator": "GPU"
  },
  "cells": [
    {
      "cell_type": "markdown",
      "metadata": {
        "id": "xZyfklJ0SYZs",
        "colab_type": "text"
      },
      "source": [
        "*Теоретический материал:* https://youtu.be/6KmWDCavCtw?t=470"
      ]
    },
    {
      "cell_type": "markdown",
      "metadata": {
        "id": "HN6pm2WNSppR",
        "colab_type": "text"
      },
      "source": [
        "# Import библиотек"
      ]
    },
    {
      "cell_type": "markdown",
      "metadata": {
        "id": "CZ3v_ZRuOGLn",
        "colab_type": "text"
      },
      "source": [
        "# Распознавание писателей\n",
        "\n",
        "*Разбор данного раздела:* https://youtu.be/6KmWDCavCtw?t=4819"
      ]
    },
    {
      "cell_type": "code",
      "metadata": {
        "id": "9c-p9wyqmSKJ",
        "colab_type": "code",
        "outputId": "457f6f6f-a652-452f-d889-93f9762cff7a",
        "colab": {
          "base_uri": "https://localhost:8080/",
          "height": 34
        }
      },
      "source": [
        "from google.colab import files #модуль для загрузки файлов в colab\n",
        "import numpy as np #библиотека для работы с массивами данных\n",
        "import pandas as pd #библиотека для обработки и анализа данных\n",
        "import matplotlib.pyplot as plt #библиотека для визуализации данных\n",
        "# \"Магическая\"команда python для запуска библиотеки в ноутбуке\n",
        "%matplotlib inline\n",
        "\n",
        "from tensorflow.keras import utils #модуль с утилитами кераса, будем использовать для вызова метода преобразования категорий в вектора\n",
        "from tensorflow.keras.models import Sequential #последовательная модель нейросети кераса\n",
        "# Загружаем стандартные слои нейросети(полносвязный, регуляризации, нормализации, векторного представления слов, выравнивания, активации)\n",
        "from tensorflow.keras.layers import Dense, Dropout, BatchNormalization, Embedding, Flatten, Activation\n",
        "# Загружаем сверточные слои\n",
        "from tensorflow.keras.layers import Conv1D, SpatialDropout1D, MaxPooling1D, GlobalAveragePooling1D, GlobalMaxPooling1D\n",
        "# Загружаем рекуррентные слои\n",
        "from tensorflow.keras.layers import LSTM, GRU, SimpleRNN, Bidirectional\n",
        "# Загружаем алгоритмы обучения/оптимизации\n",
        "from tensorflow.python.keras.optimizers import Adam, RMSprop\n",
        "\n",
        "from keras.preprocessing.text import Tokenizer, text_to_word_sequence #инструменты предобработки текста от кераса\n",
        "from sklearn.model_selection import train_test_split #модуль для разбиения данных на обучающую и тестовую выборки"
      ],
      "execution_count": 0,
      "outputs": [
        {
          "output_type": "stream",
          "text": [
            "Using TensorFlow backend.\n"
          ],
          "name": "stderr"
        }
      ]
    },
    {
      "cell_type": "code",
      "metadata": {
        "id": "X7sTBsOrA_gb",
        "colab_type": "code",
        "outputId": "b37342cd-34db-4ce7-d16a-b63e656bc1db",
        "colab": {
          "base_uri": "https://localhost:8080/",
          "height": 121
        }
      },
      "source": [
        "from google.colab import drive\n",
        "drive.mount('/content/drive')"
      ],
      "execution_count": 0,
      "outputs": [
        {
          "output_type": "stream",
          "text": [
            "Go to this URL in a browser: https://accounts.google.com/o/oauth2/auth?client_id=947318989803-6bn6qk8qdgf4n4g3pfee6491hc0brc4i.apps.googleusercontent.com&redirect_uri=urn%3aietf%3awg%3aoauth%3a2.0%3aoob&response_type=code&scope=email%20https%3a%2f%2fwww.googleapis.com%2fauth%2fdocs.test%20https%3a%2f%2fwww.googleapis.com%2fauth%2fdrive%20https%3a%2f%2fwww.googleapis.com%2fauth%2fdrive.photos.readonly%20https%3a%2f%2fwww.googleapis.com%2fauth%2fpeopleapi.readonly\n",
            "\n",
            "Enter your authorization code:\n",
            "··········\n",
            "Mounted at /content/drive\n"
          ],
          "name": "stdout"
        }
      ]
    },
    {
      "cell_type": "markdown",
      "metadata": {
        "id": "VL25IskRnMJF",
        "colab_type": "text"
      },
      "source": [
        "## Загрузка данных\n",
        "\n",
        "*Разбор данного раздела:* https://youtu.be/6KmWDCavCtw?t=4898"
      ]
    },
    {
      "cell_type": "code",
      "metadata": {
        "colab_type": "code",
        "id": "axpjh6YdzX9r",
        "colab": {}
      },
      "source": [
        "###########################\n",
        "# Чтение файла в текст\n",
        "##########################\n",
        "def readText(fileName): # функция принимает имя файла\n",
        "  f = open(fileName, 'r')        # задаем открытие нужного файла в режиме чтения\n",
        "  text = f.read()                # читаем текст\n",
        "  text = text.replace(\"\\n\", \" \") # переносы строки переводим в пробелы\n",
        "  \n",
        "  return text                    # функция возвращает текст файла\n",
        "\n",
        "# Загружаем обучающие тексты\n",
        "trainText = []\n",
        "trainText.append(readText('/content/drive/My Drive/Базы/Тексты писателей/(О. Генри) Обучающая_50 вместе.txt'))\n",
        "trainText.append(readText('/content/drive/My Drive/Базы/Тексты писателей/(Стругацкие) Обучающая_5 вместе.txt'))\n",
        "trainText.append(readText('/content/drive/My Drive/Базы/Тексты писателей/(Булгаков) Обучающая_5 вместе.txt'))\n",
        "trainText.append(readText('/content/drive/My Drive/Базы/Тексты писателей/(Клиффорд_Саймак) Обучающая_5 вместе.txt'))\n",
        "trainText.append(readText('/content/drive/My Drive/Базы/Тексты писателей/(Макс Фрай) Обучающая_5 вместе.txt'))\n",
        "trainText.append(readText('/content/drive/My Drive/Базы/Тексты писателей/(Рэй Брэдберри) Обучающая_22 вместе.txt')) \n",
        "\n",
        "className = [\"О. Генри\", \"Стругацкие\", \"Булгаков\", \"Саймак\", \"Фрай\", \"Брэдбери\"]\n",
        "nClasses = len(className)\n",
        "\n",
        "# Загружаем тестовые тексты\n",
        "testText = []\n",
        "testText.append(readText('/content/drive/My Drive/Базы/Тексты писателей/(О. Генри) Тестовая_20 вместе.txt'))\n",
        "testText.append(readText('/content/drive/My Drive/Базы/Тексты писателей/(Стругацкие) Тестовая_2 вместе.txt'))\n",
        "testText.append(readText('/content/drive/My Drive/Базы/Тексты писателей/(Булгаков) Тестовая_2 вместе.txt'))\n",
        "testText.append(readText('/content/drive/My Drive/Базы/Тексты писателей/(Клиффорд_Саймак) Тестовая_2 вместе.txt'))\n",
        "testText.append(readText('/content/drive/My Drive/Базы/Тексты писателей/(Макс Фрай) Тестовая_2 вместе.txt'))\n",
        "testText.append(readText('/content/drive/My Drive/Базы/Тексты писателей/(Рэй Брэдберри) Тестовая_8 вместе.txt'))"
      ],
      "execution_count": 0,
      "outputs": []
    },
    {
      "cell_type": "markdown",
      "metadata": {
        "id": "_BYd_uRgTQ_0",
        "colab_type": "text"
      },
      "source": [
        "## Обработка данных\n"
      ]
    },
    {
      "cell_type": "code",
      "metadata": {
        "id": "63vllsfyo2Og",
        "colab_type": "code",
        "colab": {}
      },
      "source": [
        "#################\n",
        "# Преобразовываем текстовые данные в числовые/векторные для обучения нейросетью\n",
        "#################\n",
        "\n",
        "maxWordsCount = 20000 # определяем макс.кол-во слов/индексов, учитываемое при обучении текстов\n",
        "\n",
        "# для этого воспользуемся встроенной в Keras функцией Tokenizer для разбиения текста и превращения в матрицу числовых значений\n",
        "tokenizer = Tokenizer(num_words=maxWordsCount, filters='–—!\"#$%&()*+,-./:;<=>?@[\\\\]^_`{|}~\\t\\n\\xa0–\\ufeff', lower=True, split=' ', char_level=False, oov_token = 'unknown')\n",
        "# выше задаем параметры:\n",
        "# (num_words=maxWordsCount) - определяем макс.кол-во слов/индексов, учитываемое при обучении текстов\n",
        "# (filters='!\"#$%&()*+,-./:;<=>?@[\\\\]^_`{|}~\\t\\n') - избавляемся от ненужных символов\n",
        "# (lower=True) - приводим слова к нижнему регистру\n",
        "# (split=' ') - разделяем слова по пробелу\n",
        "# (char_level=False) - просим токенайзер не удалять однобуквенные слова\n",
        "\n",
        "tokenizer.fit_on_texts(trainText) #\"скармливаем\" наши тексты, т.е даём в обработку методу, который соберет словарь частотности\n",
        "items = list(tokenizer.word_index.items()) #вытаскиваем индексы слов для просмотра"
      ],
      "execution_count": 0,
      "outputs": []
    },
    {
      "cell_type": "code",
      "metadata": {
        "id": "Ex9rbnPBo5yC",
        "colab_type": "code",
        "outputId": "e7d2e8fa-d30e-4e89-ab00-31945b50b356",
        "colab": {
          "base_uri": "https://localhost:8080/",
          "height": 54
        }
      },
      "source": [
        "print(items[:100]) # взглянем на содержимое словаря"
      ],
      "execution_count": 0,
      "outputs": [
        {
          "output_type": "stream",
          "text": [
            "[('unknown', 1), ('и', 2), ('в', 3), ('не', 4), ('я', 5), ('что', 6), ('на', 7), ('с', 8), ('он', 9), ('а', 10), ('как', 11), ('то', 12), ('это', 13), ('но', 14), ('все', 15), ('у', 16), ('по', 17), ('его', 18), ('к', 19), ('так', 20), ('мне', 21), ('из', 22), ('за', 23), ('меня', 24), ('ты', 25), ('же', 26), ('сказал', 27), ('бы', 28), ('было', 29), ('вы', 30), ('от', 31), ('они', 32), ('мы', 33), ('только', 34), ('да', 35), ('еще', 36), ('она', 37), ('о', 38), ('когда', 39), ('вот', 40), ('уже', 41), ('если', 42), ('был', 43), ('ни', 44), ('их', 45), ('нет', 46), ('чтобы', 47), ('до', 48), ('ну', 49), ('для', 50), ('ему', 51), ('может', 52), ('или', 53), ('ничего', 54), ('даже', 55), ('там', 56), ('очень', 57), ('кто', 58), ('ее', 59), ('тут', 60), ('потом', 61), ('просто', 62), ('него', 63), ('чем', 64), ('быть', 65), ('теперь', 66), ('под', 67), ('где', 68), ('нас', 69), ('есть', 70), ('тебя', 71), ('время', 72), ('ли', 73), ('тебе', 74), ('со', 75), ('во', 76), ('вас', 77), ('раз', 78), ('нибудь', 79), ('этот', 80), ('сейчас', 81), ('вам', 82), ('себя', 83), ('здесь', 84), ('уж', 85), ('себе', 86), ('этого', 87), ('надо', 88), ('том', 89), ('будет', 90), ('можно', 91), ('сам', 92), ('нам', 93), ('были', 94), ('была', 95), ('того', 96), ('тоже', 97), ('один', 98), ('без', 99), ('спросил', 100)]\n"
          ],
          "name": "stdout"
        }
      ]
    },
    {
      "cell_type": "code",
      "metadata": {
        "id": "V_N8QMdypQTG",
        "colab_type": "code",
        "outputId": "dc4fe786-8595-4a84-965b-e05012f4b31f",
        "colab": {
          "base_uri": "https://localhost:8080/",
          "height": 67
        }
      },
      "source": [
        "print(\"Протестируем словарь частотности\")\n",
        "print(\"Интересующее слово имеет индекс: \", tokenizer.word_index[input(\"уточните слово: \")]) #протестируем словарь частотности"
      ],
      "execution_count": 0,
      "outputs": [
        {
          "output_type": "stream",
          "text": [
            "Протестируем словарь частотности\n",
            "уточните слово: белая\n",
            "Интересующее слово имеет индекс:  3713\n"
          ],
          "name": "stdout"
        }
      ]
    },
    {
      "cell_type": "code",
      "metadata": {
        "id": "qmHQK2HpWx3K",
        "colab_type": "code",
        "outputId": "e3ccce41-01e9-43ba-d3ae-a9e56bb84b77",
        "colab": {
          "base_uri": "https://localhost:8080/",
          "height": 386
        }
      },
      "source": [
        "# преобразовываем текст в последовательность индексов согласно частотному словарю\n",
        "trainWordIndexes = tokenizer.texts_to_sequences(trainText) # обучающие тесты в индексы\n",
        "testWordIndexes = tokenizer.texts_to_sequences(testText)   # проверочные тесты в индексы\n",
        "\n",
        "print(\"Взглянем на фрагмент обучающего текста:\")\n",
        "print(\"В виде оригинального текста:              \", trainText[1] [:87])\n",
        "print(\"Он же в виде последовательности индексов: \", trainWordIndexes[1][:20])\n",
        "\n",
        "print()\n",
        "print()\n",
        "\n",
        "print(\"Статистика по обучающим текстам:\")\n",
        "for i in range(6):\n",
        "  print(className[i], \" \", len(trainText[i]), \" символов, \", len(trainWordIndexes[i]), \" слов\")\n",
        "print(\"В сумме \", len(trainText[0])+len(trainText[1])+len(trainText[2])+len(trainText[3])+len(trainText[4])+len(trainText[5]), \" символов, \", len(trainWordIndexes[0])+len(trainWordIndexes[1])+len(trainWordIndexes[2])+len(trainWordIndexes[3])+len(trainWordIndexes[4])+len(trainWordIndexes[5]), \" слов\")\n",
        "print()\n",
        "print(\"Статистика по обучающим текстам:\")\n",
        "for i in range(6):\n",
        "  print(className[i], \" \", len(testText[i]), \" символов, \", len(testWordIndexes[i]), \" слов\")\n",
        "print(\"В сумме \", len(testText[0])+len(testText[1])+len(testText[2])+len(testText[3])+len(testText[4])+len(testText[5]), \" символов, \", len(testWordIndexes[0])+len(testWordIndexes[1])+len(testWordIndexes[2])+len(testWordIndexes[3])+len(testWordIndexes[4])+len(testWordIndexes[5]), \" слов\")"
      ],
      "execution_count": 0,
      "outputs": [
        {
          "output_type": "stream",
          "text": [
            "Взглянем на фрагмент обучающего текста:\n",
            "В виде оригинального текста:               Парень из преисподней     1     Ну и деревня! Сроду я таких деревень не видел и не знал\n",
            "Он же в виде последовательности индексов:  [470, 22, 1, 1482, 49, 2, 12725, 7723, 5, 415, 1, 4, 252, 2, 4, 247, 55, 6, 240, 10517]\n",
            "\n",
            "\n",
            "Статистика по обучающим текстам:\n",
            "О. Генри   1049517  символов,  160682  слов\n",
            "Стругацкие   2042469  символов,  313405  слов\n",
            "Булгаков   1765648  символов,  262109  слов\n",
            "Саймак   1609507  символов,  251551  слов\n",
            "Фрай   3700010  символов,  569052  слов\n",
            "Брэдбери   1386454  символов,  214694  слов\n",
            "В сумме  11553605  символов,  1771493  слов\n",
            "\n",
            "Статистика по обучающим текстам:\n",
            "О. Генри   349662  символов,  53255  слов\n",
            "Стругацкие   704846  символов,  108730  слов\n",
            "Булгаков   875042  символов,  132910  слов\n",
            "Саймак   318811  символов,  50362  слов\n",
            "Фрай   1278191  символов,  196911  слов\n",
            "Брэдбери   868673  символов,  132746  слов\n",
            "В сумме  4395225  символов,  674914  слов\n"
          ],
          "name": "stdout"
        }
      ]
    },
    {
      "cell_type": "markdown",
      "metadata": {
        "id": "slCp7AkSw0Oo",
        "colab_type": "text"
      },
      "source": [
        "## Создание обучающей и проверочной выборки"
      ]
    },
    {
      "cell_type": "markdown",
      "metadata": {
        "id": "kzgY9gNMRRk6",
        "colab_type": "text"
      },
      "source": [
        "**Функции для формирования выборки по отрезкам текста с заданным шагом**"
      ]
    },
    {
      "cell_type": "code",
      "metadata": {
        "id": "CP69cPxWdHq3",
        "colab_type": "code",
        "colab": {}
      },
      "source": [
        "###########################\n",
        "# Формирование обучающей выборки по листу индексов слов\n",
        "# (разделение на короткие векторы)\n",
        "##########################\n",
        "def getSetFromIndexes(wordIndexes, xLen, step):\n",
        "  xSample = []\n",
        "  wordsLen = len(wordIndexes)\n",
        "  index = 0\n",
        "  \n",
        "  # Идём по всей длине вектора индексов\n",
        "  # \"Откусываем\" векторы длины xLen и смещаеммся вперёд на step\n",
        "  \n",
        "  while (index + xLen <= wordsLen):\n",
        "    xSample.append(wordIndexes[index:index+xLen])\n",
        "    index += step\n",
        "    \n",
        "  return xSample"
      ],
      "execution_count": 0,
      "outputs": []
    },
    {
      "cell_type": "code",
      "metadata": {
        "id": "wnVyegrxcnZM",
        "colab_type": "code",
        "colab": {}
      },
      "source": [
        "###########################\n",
        "# Формирование обучающей и проверочной выборки\n",
        "# Из двух листов индексов от двух классов\n",
        "##########################\n",
        "def createSetsMultiClasses(wordIndexes, xLen, step): # функция принимает последовательность индексов, размер окна, шаг окна\n",
        "\n",
        "  # Для каждого из 6 классов\n",
        "  # Создаём обучающую/проверочную выборку из индексов\n",
        "  nClasses = len(wordIndexes) # задаем количество классов выборки\n",
        "  classesXSamples = []        # здесь будет список размером \"кол-во классов*кол-во окон в тексте*длину окна(например 6 по 1341*1000)\"\n",
        "  for wI in wordIndexes:      # для каждого текста выборки из последовательности индексов\n",
        "    classesXSamples.append(getSetFromIndexes(wI, xLen, step)) # добавляем в список очередной текст индексов, разбитый на \"кол-во окон*длину окна\" \n",
        "\n",
        "  # Формируем один общий xSamples\n",
        "  xSamples = [] # здесь будет список размером \"суммарное кол-во окон во всех текстах*длину окна(например 15779*1000)\"\n",
        "  ySamples = [] # здесь будет список размером \"суммарное кол-во окон во всех текстах*вектор длиной 6\"\n",
        "  \n",
        "  for t in range(nClasses):  # в диапазоне кол-ва классов(6)\n",
        "    xT = classesXSamples[t]  # берем очередной текст вида \"кол-во окон в тексте*длину окна\"(например 1341*1000)\n",
        "    for i in range(len(xT)): # и каждое его окно\n",
        "      xSamples.append(xT[i]) # добавляем в общий список выборки\n",
        "    \n",
        "    # Формируем ySamples по номеру класса\n",
        "    currY = utils.to_categorical(t, nClasses) # текущий класс переводится в вектор длиной 6 вида [0.0.0.1.0.0.]\n",
        "    for i in range(len(xT)): # на каждое окно выборки \n",
        "      ySamples.append(currY) # добавляем соответствующий вектор класса\n",
        "\n",
        "  xSamples = np.array(xSamples) # переводим в массив numpy для подачи в нейронку\n",
        "  ySamples = np.array(ySamples) # переводим в массив numpy для подачи в нейронку\n",
        "\n",
        "  \n",
        "  return (xSamples, ySamples)   # функция возвращает выборку и соответствующие векторы классов"
      ],
      "execution_count": 0,
      "outputs": []
    },
    {
      "cell_type": "markdown",
      "metadata": {
        "id": "0Pi3Up8OvTtr",
        "colab_type": "text"
      },
      "source": [
        "**Подготовка данных**"
      ]
    },
    {
      "cell_type": "code",
      "metadata": {
        "id": "SgzoAiyawSwJ",
        "colab_type": "code",
        "colab": {}
      },
      "source": [
        "# Задаём базовые параметры\n",
        "xLen = 1000 # Длина отрезка текста, по которой анализируем, в словах\n",
        "step = 100 # Шаг разбиения исходного текста на обучающие вектора"
      ],
      "execution_count": 0,
      "outputs": []
    },
    {
      "cell_type": "code",
      "metadata": {
        "id": "CqAgZWT8RH0b",
        "colab_type": "code",
        "outputId": "8d630a52-45d9-4269-d6bb-d75936259efa",
        "colab": {
          "base_uri": "https://localhost:8080/",
          "height": 84
        }
      },
      "source": [
        "# Формируем обучающую и тестовую выборку\n",
        "xTrain, yTrain = createSetsMultiClasses(trainWordIndexes, xLen, step) # извлекаем обучающую выборку\n",
        "xTest, yTest = createSetsMultiClasses(testWordIndexes, xLen, step)    # извлекаем тестовую выборку\n",
        "print(xTrain.shape)\n",
        "print(yTrain.shape)\n",
        "print(xTest.shape)\n",
        "print(yTest.shape)\n",
        "# получили обучающий/тестовый набор, достаточный для запуска Embedding, но для Bag of Words нужно xTrain и xTest представить в виде векторов из 0 и 1"
      ],
      "execution_count": 0,
      "outputs": [
        {
          "output_type": "stream",
          "text": [
            "(17658, 1000)\n",
            "(17658, 6)\n",
            "(6693, 1000)\n",
            "(6693, 6)\n"
          ],
          "name": "stdout"
        }
      ]
    },
    {
      "cell_type": "markdown",
      "metadata": {
        "id": "9gI1hXsRmhUo",
        "colab_type": "text"
      },
      "source": [
        "## Распознавание проверочной выборки\n"
      ]
    },
    {
      "cell_type": "code",
      "metadata": {
        "id": "stHRW8-4mf7G",
        "colab_type": "code",
        "colab": {}
      },
      "source": [
        "###########################\n",
        "# Представляем тестовую выборку в удобных для распознавания размерах\n",
        "##########################\n",
        "def createTestMultiClasses(wordIndexes, xLen, step): # функция принимает последовательность индексов, размер окна, шаг окна\n",
        "\n",
        "  # Для каждого из 6 классов\n",
        "  # Создаём тестовую выборку из индексов\n",
        "  nClasses = len(wordIndexes) # задаем количество классов\n",
        "  xTest6Classes01 = []               # здесь будет список из всех классов,каждый размером \"кол-во окон в тексте * 20000(при maxWordsCount=20000)\"\n",
        "  xTest6Classes = []                 # здесь будет список массивов, каждый размером \"кол-во окон в тексте * длину окна\"(6 по 420*1000)\n",
        "  for wI in wordIndexes:             # для каждого тестового текста из последовательности индексов\n",
        "    sample = (getSetFromIndexes(wI, xLen, step)) # тестовая выборка размером \"кол-во окон*длину окна\"(например 420*1000)\n",
        "    xTest6Classes.append(np.array(sample))       # переводим в массив numpy и добавляем в список\n",
        "    xTest6Classes01.append(tokenizer.sequences_to_matrix(sample)) # трансформируется в Bag of Words в виде \"кол-во окон в тексте * 20000\"\n",
        "  xTest6Classes01 = np.array(xTest6Classes01)                     # и добавляется к нашему списку, \n",
        "  \n",
        "  return xTest6Classes01, xTest6Classes # функция вернёт тестовые данные: TestBg 6 классов на n*20000 и xTestEm 6 по n*1000\n",
        "\n",
        "###########################\n",
        "# Расспознаём тестовую выборку и выводим результаты\n",
        "##########################\n",
        "def recognizeMultiClass(model, xTest, modelName):\n",
        "  print(\"НЕЙРОНКА: \", modelName)\n",
        "  print()\n",
        "  \n",
        "  val = []\n",
        "  pred = []\n",
        "  \n",
        "  totalSumRec = []\n",
        "  \n",
        "  # Проходим по всем классам\n",
        "  for i in range(nClasses):\n",
        "    # Получаем результаты распознавания класса по блокам слов длины xLen\n",
        "    currPred = model.predict(xTest[i])\n",
        "    pred.append(currPred)\n",
        "    # Определяем номер распознанного класса для каждохо блока слов длины xLen\n",
        "    currOut = np.argmax(currPred, axis=1)\n",
        "    \n",
        "    # Считаем процент распознавания каждого класса за каждый\n",
        "    # Получам матрицу 6 на 6\n",
        "    evVal = []\n",
        "    sumRec = []\n",
        "    for j in range(nClasses):\n",
        "      sumRec.append(0)\n",
        "      for t in range(len(currOut)):\n",
        "        if (currOut[t] == j):\n",
        "          sumRec[j] += 1\n",
        "      evVal.append(sumRec[j] / len(currOut))\n",
        "    \n",
        "    totalSumRec.append(sumRec[i])\n",
        "    \n",
        "    # Определяем, какой в класс в итоге за какой был распознан\n",
        "    val.append(evVal[i])\n",
        "    recognizedClass = np.argmax(evVal)\n",
        "    \n",
        "    # Выводим результаты распознавания по текущему классу\n",
        "    isRecognized = \"распознано НЕ ВЕРНО!\"\n",
        "    if (recognizedClass == i):\n",
        "      isRecognized = \"распознано ВЕРНО!\"\n",
        "    print(className[i], \" распознано \", int(100*evVal[i]), \"% сеть считает, что это \", className[recognizedClass], \", \", isRecognized)\n",
        "  \n",
        "  # Выводим вредний процент распознавания по всем классам вместе\n",
        "  print()\n",
        "  sumVal = 0\n",
        "  sumCount = 0\n",
        "  lenXtest = []\n",
        "  for i in range(nClasses):\n",
        "    sumCount += len(xTest[i])\n",
        "    sumVal += totalSumRec[i]\n",
        "  print(\"Средний процент распознавания \", int(100*sumVal/sumCount), \"%\")\n",
        "  print()\n",
        "  return sumVal/sumCount\n",
        "\n",
        "xTest6Classes01, xTest6Classes = createTestMultiClasses(testWordIndexes, xLen, step) # подгоним форму тестовых классов под функцию recognizeMultiClass"
      ],
      "execution_count": 0,
      "outputs": []
    },
    {
      "cell_type": "markdown",
      "metadata": {
        "id": "-3wem2kF0IlC",
        "colab_type": "text"
      },
      "source": [
        "## Рекуррентная нейросеть"
      ]
    },
    {
      "cell_type": "markdown",
      "metadata": {
        "id": "av9vCiNKmBOa",
        "colab_type": "text"
      },
      "source": [
        "**Simple RNN / GRU / LSTM**\n",
        "\n",
        "*Разбор данного раздела:* https://youtu.be/6KmWDCavCtw?t=5098"
      ]
    },
    {
      "cell_type": "code",
      "metadata": {
        "id": "XwAE3_dRtyHv",
        "colab_type": "code",
        "outputId": "9d01a68e-1bef-4128-d608-b3a09ddb4332",
        "colab": {
          "base_uri": "https://localhost:8080/",
          "height": 531
        }
      },
      "source": [
        "modelEL = Sequential() # создаём последовательную модель нейросети\n",
        "\n",
        "# преобразовываем каждое слово в многомерный вектор c указанием размерности вектора и длины входных данных\n",
        "modelEL.add(Embedding(maxWordsCount, 5, input_length=xLen))\n",
        "\n",
        "modelEL.add(SpatialDropout1D(0.2)) # добавляем слой регуляризации, \"выключая\" 1D карты объектов из эмбединг векторов, во избежание переобучения\n",
        "modelEL.add(BatchNormalization()) # добавляем слой нормализации данных\n",
        "modelEL.add(SimpleRNN(4, dropout=0.2, recurrent_dropout=0.2, activation=\"relu\"))\n",
        "modelEL.add(Dense(6, activation='softmax')) # добавляем полносвязный слой на 6 нейронов, с функцией активации softmax на выходном слое\n",
        "\n",
        "# Компиляция, составление модели с выбором алгоритма оптимизации, функции потерь и метрики точности\n",
        "modelEL.compile(optimizer='rmsprop', \n",
        "              loss='categorical_crossentropy', \n",
        "              metrics=['accuracy'])\n",
        "\n",
        "# Обучаем сеть с указанием тренировочной выборки, количества эпох, размера минибатча для подачи сети, и тестовой выборки\n",
        "history = modelEL.fit(xTrain, \n",
        "                    yTrain, \n",
        "                    epochs=2,\n",
        "                    batch_size=512,\n",
        "                    validation_data=(xTest, yTest))\n",
        "\n",
        "# Строим график для отображения динамики обучения и точности предсказания сети\n",
        "plt.plot(history.history['accuracy'], \n",
        "         label='Доля верных ответов на обучающем наборе')\n",
        "plt.plot(history.history['val_accuracy'], \n",
        "         label='Доля верных ответов на проверочном наборе')\n",
        "plt.xlabel('Эпоха обучения')\n",
        "plt.ylabel('Доля верных ответов')\n",
        "plt.legend()\n",
        "plt.show()\n",
        "\n",
        "pred = recognizeMultiClass(modelEL, xTest6Classes, \"SimpleRNN\") #функция покажет какие классы и как распознаны верно"
      ],
      "execution_count": 0,
      "outputs": [
        {
          "output_type": "stream",
          "text": [
            "Epoch 1/2\n",
            "35/35 [==============================] - 54s 2s/step - loss: 1.8046 - accuracy: 0.2729 - val_loss: 1.7809 - val_accuracy: 0.2928\n",
            "Epoch 2/2\n",
            "35/35 [==============================] - 54s 2s/step - loss: 1.7511 - accuracy: 0.3064 - val_loss: 1.7724 - val_accuracy: 0.2928\n"
          ],
          "name": "stdout"
        },
        {
          "output_type": "display_data",
          "data": {
            "image/png": "[encoded data removed]",
            "text/plain": [
              "<Figure size 432x288 with 1 Axes>"
            ]
          },
          "metadata": {
            "tags": [],
            "needs_background": "light"
          }
        },
        {
          "output_type": "stream",
          "text": [
            "НЕЙРОНКА:  SimpleRNN\n",
            "\n",
            "О. Генри  распознано  0 % сеть считает, что это  Фрай ,  распознано НЕ ВЕРНО!\n",
            "Стругацкие  распознано  0 % сеть считает, что это  Фрай ,  распознано НЕ ВЕРНО!\n",
            "Булгаков  распознано  0 % сеть считает, что это  Фрай ,  распознано НЕ ВЕРНО!\n",
            "Саймак  распознано  0 % сеть считает, что это  Фрай ,  распознано НЕ ВЕРНО!\n",
            "Фрай  распознано  100 % сеть считает, что это  Фрай ,  распознано ВЕРНО!\n",
            "Брэдбери  распознано  0 % сеть считает, что это  Фрай ,  распознано НЕ ВЕРНО!\n",
            "\n",
            "Средний процент распознавания  29 %\n",
            "\n"
          ],
          "name": "stdout"
        }
      ]
    },
    {
      "cell_type": "code",
      "metadata": {
        "id": "XLAtih8oPVf9",
        "colab_type": "code",
        "outputId": "0ba1594b-74d5-4b2b-b53f-805773c81d65",
        "colab": {
          "base_uri": "https://localhost:8080/",
          "height": 552
        }
      },
      "source": [
        "modelEL = Sequential() # создаём последовательную модель нейросети\n",
        "\n",
        "# преобразовываем каждое слово в многомерный вектор c указанием размерности вектора и длины входных данных\n",
        "modelEL.add(Embedding(maxWordsCount, 5, input_length=xLen))\n",
        "\n",
        "modelEL.add(SpatialDropout1D(0.2)) # добавляем слой регуляризации, \"выключая\" 1D карты объектов из эмбединг векторов, во избежание переобучения\n",
        "modelEL.add(BatchNormalization()) # добавляем слой нормализации данных\n",
        "modelEL.add(GRU(4, dropout=0.2, recurrent_dropout=0.2, activation=\"relu\"))\n",
        "modelEL.add(Dense(6, activation='softmax')) # добавляем полносвязный слой на 6 нейронов, с функцией активации softmax на выходном слое\n",
        "\n",
        "# Компиляция, составление модели с выбором алгоритма оптимизации, функции потерь и метрики точности\n",
        "modelEL.compile(optimizer='rmsprop', \n",
        "              loss='categorical_crossentropy', \n",
        "              metrics=['accuracy'])\n",
        "\n",
        "# Обучаем сеть с указанием тренировочной выборки, количества эпох, размера минибатча для подачи сети, и тестовой выборки\n",
        "history = modelEL.fit(xTrain, \n",
        "                    yTrain, \n",
        "                    epochs=2,\n",
        "                    batch_size=512,\n",
        "                    validation_data=(xTest, yTest))\n",
        "\n",
        "# Строим график для отображения динамики обучения и точности предсказания сети\n",
        "plt.plot(history.history['accuracy'], \n",
        "         label='Доля верных ответов на обучающем наборе')\n",
        "plt.plot(history.history['val_accuracy'], \n",
        "         label='Доля верных ответов на проверочном наборе')\n",
        "plt.xlabel('Эпоха обучения')\n",
        "plt.ylabel('Доля верных ответов')\n",
        "plt.legend()\n",
        "plt.show()\n",
        "\n",
        "pred = recognizeMultiClass(modelEL, xTest6Classes, \"Embedding + LSTM\") #функция покажет какие классы и как распознаны верно"
      ],
      "execution_count": 0,
      "outputs": [
        {
          "output_type": "stream",
          "text": [
            "WARNING:tensorflow:Layer gru will not use cuDNN kernel since it doesn't meet the cuDNN kernel criteria. It will use generic GPU kernel as fallback when running on GPU\n",
            "Epoch 1/2\n",
            "35/35 [==============================] - 165s 5s/step - loss: 1.8270 - accuracy: 0.1424 - val_loss: 1.7854 - val_accuracy: 0.2928\n",
            "Epoch 2/2\n",
            "35/35 [==============================] - 165s 5s/step - loss: 1.7744 - accuracy: 0.1980 - val_loss: 1.7793 - val_accuracy: 0.2928\n"
          ],
          "name": "stdout"
        },
        {
          "output_type": "display_data",
          "data": {
            "image/png": "[encoded data removed]",
            "text/plain": [
              "<Figure size 432x288 with 1 Axes>"
            ]
          },
          "metadata": {
            "tags": [],
            "needs_background": "light"
          }
        },
        {
          "output_type": "stream",
          "text": [
            "НЕЙРОНКА:  Embedding + LSTM\n",
            "\n",
            "О. Генри  распознано  0 % сеть считает, что это  Фрай ,  распознано НЕ ВЕРНО!\n",
            "Стругацкие  распознано  0 % сеть считает, что это  Фрай ,  распознано НЕ ВЕРНО!\n",
            "Булгаков  распознано  0 % сеть считает, что это  Фрай ,  распознано НЕ ВЕРНО!\n",
            "Саймак  распознано  0 % сеть считает, что это  Фрай ,  распознано НЕ ВЕРНО!\n",
            "Фрай  распознано  100 % сеть считает, что это  Фрай ,  распознано ВЕРНО!\n",
            "Брэдбери  распознано  0 % сеть считает, что это  Фрай ,  распознано НЕ ВЕРНО!\n",
            "\n",
            "Средний процент распознавания  29 %\n",
            "\n"
          ],
          "name": "stdout"
        }
      ]
    },
    {
      "cell_type": "code",
      "metadata": {
        "id": "as9QWOp2QA0m",
        "colab_type": "code",
        "outputId": "39b0e48e-b493-4065-d7bd-f06935fd0056",
        "colab": {
          "base_uri": "https://localhost:8080/",
          "height": 1000
        }
      },
      "source": [
        "modelEL = Sequential() # создаём последовательную модель нейросети\n",
        "\n",
        "# преобразовываем каждое слово в многомерный вектор c указанием размерности вектора и длины входных данных\n",
        "modelEL.add(Embedding(maxWordsCount, 5, input_length=xLen))\n",
        "\n",
        "modelEL.add(SpatialDropout1D(0.2)) # добавляем слой регуляризации, \"выключая\" 1D карты объектов из эмбединг векторов, во избежание переобучения\n",
        "modelEL.add(BatchNormalization()) # добавляем слой нормализации данных\n",
        "modelEL.add(LSTM(4))\n",
        "modelEL.add(Dense(6, activation='softmax')) # добавляем полносвязный слой на 6 нейронов, с функцией активации softmax на выходном слое\n",
        "\n",
        "# Компиляция, составление модели с выбором алгоритма оптимизации, функции потерь и метрики точности\n",
        "modelEL.compile(optimizer='rmsprop', \n",
        "              loss='categorical_crossentropy', \n",
        "              metrics=['accuracy'])\n",
        "\n",
        "# Обучаем сеть с указанием тренировочной выборки, количества эпох, размера минибатча для подачи сети, и тестовой выборки\n",
        "history = modelEL.fit(xTrain, \n",
        "                    yTrain, \n",
        "                    epochs=20,\n",
        "                    batch_size=512,\n",
        "                    validation_data=(xTest, yTest))\n",
        "\n",
        "# Строим график для отображения динамики обучения и точности предсказания сети\n",
        "plt.plot(history.history['accuracy'], \n",
        "         label='Доля верных ответов на обучающем наборе')\n",
        "plt.plot(history.history['val_accuracy'], \n",
        "         label='Доля верных ответов на проверочном наборе')\n",
        "plt.xlabel('Эпоха обучения')\n",
        "plt.ylabel('Доля верных ответов')\n",
        "plt.legend()\n",
        "plt.show()\n",
        "\n",
        "pred = recognizeMultiClass(modelEL, xTest6Classes, \"Embedding + LSTM\") #функция покажет какие классы и как распознаны верно"
      ],
      "execution_count": 0,
      "outputs": [
        {
          "output_type": "stream",
          "text": [
            "Epoch 1/20\n",
            "35/35 [==============================] - 7s 187ms/step - loss: 1.7397 - accuracy: 0.2923 - val_loss: 1.7625 - val_accuracy: 0.2928\n",
            "Epoch 2/20\n",
            "35/35 [==============================] - 6s 173ms/step - loss: 1.6560 - accuracy: 0.3575 - val_loss: 1.7425 - val_accuracy: 0.2928\n",
            "Epoch 3/20\n",
            "35/35 [==============================] - 6s 173ms/step - loss: 1.5770 - accuracy: 0.3970 - val_loss: 1.6861 - val_accuracy: 0.2927\n",
            "Epoch 4/20\n",
            "35/35 [==============================] - 6s 173ms/step - loss: 1.4743 - accuracy: 0.4551 - val_loss: 1.7929 - val_accuracy: 0.1978\n",
            "Epoch 5/20\n",
            "35/35 [==============================] - 6s 173ms/step - loss: 1.3670 - accuracy: 0.5220 - val_loss: 1.8169 - val_accuracy: 0.1974\n",
            "Epoch 6/20\n",
            "35/35 [==============================] - 6s 173ms/step - loss: 1.2746 - accuracy: 0.5604 - val_loss: 1.8403 - val_accuracy: 0.1975\n",
            "Epoch 7/20\n",
            "35/35 [==============================] - 6s 173ms/step - loss: 1.2091 - accuracy: 0.5777 - val_loss: 1.7527 - val_accuracy: 0.2555\n",
            "Epoch 8/20\n",
            "35/35 [==============================] - 6s 173ms/step - loss: 1.1484 - accuracy: 0.5993 - val_loss: 1.8131 - val_accuracy: 0.2247\n",
            "Epoch 9/20\n",
            "35/35 [==============================] - 6s 173ms/step - loss: 1.1037 - accuracy: 0.6165 - val_loss: 1.8516 - val_accuracy: 0.2144\n",
            "Epoch 10/20\n",
            "35/35 [==============================] - 6s 173ms/step - loss: 1.0763 - accuracy: 0.6114 - val_loss: 1.8664 - val_accuracy: 0.1929\n",
            "Epoch 11/20\n",
            "35/35 [==============================] - 6s 173ms/step - loss: 1.0310 - accuracy: 0.6384 - val_loss: 1.8894 - val_accuracy: 0.1906\n",
            "Epoch 12/20\n",
            "35/35 [==============================] - 6s 173ms/step - loss: 1.0054 - accuracy: 0.6420 - val_loss: 1.9126 - val_accuracy: 0.1995\n",
            "Epoch 13/20\n",
            "35/35 [==============================] - 6s 173ms/step - loss: 0.9839 - accuracy: 0.6356 - val_loss: 1.9023 - val_accuracy: 0.2059\n",
            "Epoch 14/20\n",
            "35/35 [==============================] - 6s 172ms/step - loss: 0.9551 - accuracy: 0.6399 - val_loss: 1.8455 - val_accuracy: 0.2438\n",
            "Epoch 15/20\n",
            "35/35 [==============================] - 6s 173ms/step - loss: 0.9450 - accuracy: 0.6418 - val_loss: 1.7316 - val_accuracy: 0.2963\n",
            "Epoch 16/20\n",
            "35/35 [==============================] - 6s 172ms/step - loss: 0.9315 - accuracy: 0.6466 - val_loss: 1.6095 - val_accuracy: 0.3560\n",
            "Epoch 17/20\n",
            "35/35 [==============================] - 6s 173ms/step - loss: 0.9078 - accuracy: 0.6547 - val_loss: 1.5880 - val_accuracy: 0.3647\n",
            "Epoch 18/20\n",
            "35/35 [==============================] - 6s 173ms/step - loss: 0.8958 - accuracy: 0.6581 - val_loss: 1.5120 - val_accuracy: 0.3974\n",
            "Epoch 19/20\n",
            "35/35 [==============================] - 6s 173ms/step - loss: 0.8919 - accuracy: 0.6654 - val_loss: 1.5654 - val_accuracy: 0.3870\n",
            "Epoch 20/20\n",
            "35/35 [==============================] - 6s 173ms/step - loss: 0.8545 - accuracy: 0.6758 - val_loss: 1.4857 - val_accuracy: 0.4136\n"
          ],
          "name": "stdout"
        },
        {
          "output_type": "display_data",
          "data": {
            "image/png": "[encoded data removed]",
            "text/plain": [
              "<Figure size 432x288 with 1 Axes>"
            ]
          },
          "metadata": {
            "tags": [],
            "needs_background": "light"
          }
        },
        {
          "output_type": "stream",
          "text": [
            "НЕЙРОНКА:  Embedding + LSTM\n",
            "\n",
            "О. Генри  распознано  0 % сеть считает, что это  Булгаков ,  распознано НЕ ВЕРНО!\n",
            "Стругацкие  распознано  45 % сеть считает, что это  Булгаков ,  распознано НЕ ВЕРНО!\n",
            "Булгаков  распознано  69 % сеть считает, что это  Булгаков ,  распознано ВЕРНО!\n",
            "Саймак  распознано  15 % сеть считает, что это  Булгаков ,  распознано НЕ ВЕРНО!\n",
            "Фрай  распознано  65 % сеть считает, что это  Фрай ,  распознано ВЕРНО!\n",
            "Брэдбери  распознано  0 % сеть считает, что это  Стругацкие ,  распознано НЕ ВЕРНО!\n",
            "\n",
            "Средний процент распознавания  41 %\n",
            "\n"
          ],
          "name": "stdout"
        }
      ]
    },
    {
      "cell_type": "code",
      "metadata": {
        "id": "noNE62y6ULv2",
        "colab_type": "code",
        "outputId": "ced36661-808c-4135-e042-65dd47e707e1",
        "colab": {
          "base_uri": "https://localhost:8080/",
          "height": 1000
        }
      },
      "source": [
        "modelEL = Sequential() # создаём последовательную модель нейросети\n",
        "\n",
        "# преобразовываем каждое слово в многомерный вектор c указанием размерности вектора и длины входных данных\n",
        "modelEL.add(Embedding(maxWordsCount, 5, input_length=xLen))\n",
        "\n",
        "modelEL.add(SpatialDropout1D(0.2)) # добавляем слой регуляризации, \"выключая\" 1D карты объектов из эмбединг векторов, во избежание переобучения\n",
        "modelEL.add(BatchNormalization())  # добавляем слой нормализации данных\n",
        "modelEL.add(LSTM(4, return_sequences=1))\n",
        "modelEL.add(LSTM(4))\n",
        "modelEL.add(Dense(6, activation='softmax')) # добавляем полносвязный слой на 6 нейронов, с функцией активации softmax на выходном слое\n",
        "\n",
        "# Компиляция, составление модели с выбором алгоритма оптимизации, функции потерь и метрики точности\n",
        "modelEL.compile(optimizer='rmsprop', \n",
        "              loss='categorical_crossentropy', \n",
        "              metrics=['accuracy'])\n",
        "\n",
        "# Обучаем сеть с указанием тренировочной выборки, количества эпох, размера минибатча для подачи сети, и тестовой выборки\n",
        "history = modelEL.fit(xTrain, \n",
        "                    yTrain, \n",
        "                    epochs=50,\n",
        "                    batch_size=512,\n",
        "                    validation_data=(xTest, yTest))\n",
        "\n",
        "# Строим график для отображения динамики обучения и точности предсказания сети\n",
        "plt.plot(history.history['accuracy'], \n",
        "         label='Доля верных ответов на обучающем наборе')\n",
        "plt.plot(history.history['val_accuracy'], \n",
        "         label='Доля верных ответов на проверочном наборе')\n",
        "plt.xlabel('Эпоха обучения')\n",
        "plt.ylabel('Доля верных ответов')\n",
        "plt.legend()\n",
        "plt.show()\n",
        "\n",
        "pred = recognizeMultiClass(modelEL, xTest6Classes, \"Embedding + LSTM\") # функция покажет какие классы и как распознаны верно"
      ],
      "execution_count": 0,
      "outputs": [
        {
          "output_type": "stream",
          "text": [
            "Epoch 1/50\n",
            "35/35 [==============================] - 12s 350ms/step - loss: 1.7362 - accuracy: 0.2219 - val_loss: 1.7686 - val_accuracy: 0.1611\n",
            "Epoch 2/50\n",
            "35/35 [==============================] - 11s 327ms/step - loss: 1.6170 - accuracy: 0.3043 - val_loss: 1.7769 - val_accuracy: 0.2928\n",
            "Epoch 3/50\n",
            "35/35 [==============================] - 11s 327ms/step - loss: 1.4946 - accuracy: 0.4453 - val_loss: 1.8158 - val_accuracy: 0.2928\n",
            "Epoch 4/50\n",
            "35/35 [==============================] - 11s 327ms/step - loss: 1.3876 - accuracy: 0.4604 - val_loss: 1.7584 - val_accuracy: 0.1972\n",
            "Epoch 5/50\n",
            "35/35 [==============================] - 11s 327ms/step - loss: 1.3159 - accuracy: 0.4617 - val_loss: 1.7565 - val_accuracy: 0.1992\n",
            "Epoch 6/50\n",
            "35/35 [==============================] - 11s 327ms/step - loss: 1.2658 - accuracy: 0.4649 - val_loss: 1.7679 - val_accuracy: 0.1978\n",
            "Epoch 7/50\n",
            "35/35 [==============================] - 11s 327ms/step - loss: 1.2347 - accuracy: 0.4632 - val_loss: 1.7676 - val_accuracy: 0.2078\n",
            "Epoch 8/50\n",
            "35/35 [==============================] - 11s 327ms/step - loss: 1.1962 - accuracy: 0.4680 - val_loss: 1.5348 - val_accuracy: 0.4315\n",
            "Epoch 9/50\n",
            "35/35 [==============================] - 11s 328ms/step - loss: 1.1819 - accuracy: 0.4649 - val_loss: 1.7496 - val_accuracy: 0.2489\n",
            "Epoch 10/50\n",
            "35/35 [==============================] - 11s 326ms/step - loss: 1.1502 - accuracy: 0.4687 - val_loss: 2.0502 - val_accuracy: 0.3435\n",
            "Epoch 11/50\n",
            "35/35 [==============================] - 11s 327ms/step - loss: 1.1382 - accuracy: 0.4681 - val_loss: 1.7292 - val_accuracy: 0.3892\n",
            "Epoch 12/50\n",
            "35/35 [==============================] - 11s 327ms/step - loss: 1.1306 - accuracy: 0.4677 - val_loss: 1.6700 - val_accuracy: 0.3520\n",
            "Epoch 13/50\n",
            "35/35 [==============================] - 11s 327ms/step - loss: 1.1158 - accuracy: 0.4669 - val_loss: 2.2074 - val_accuracy: 0.3043\n",
            "Epoch 14/50\n",
            "35/35 [==============================] - 11s 327ms/step - loss: 1.1252 - accuracy: 0.4672 - val_loss: 1.7293 - val_accuracy: 0.3408\n",
            "Epoch 15/50\n",
            "35/35 [==============================] - 11s 327ms/step - loss: 1.1045 - accuracy: 0.4662 - val_loss: 2.1031 - val_accuracy: 0.3165\n",
            "Epoch 16/50\n",
            "35/35 [==============================] - 11s 327ms/step - loss: 1.1037 - accuracy: 0.4689 - val_loss: 1.9189 - val_accuracy: 0.3384\n",
            "Epoch 17/50\n",
            "35/35 [==============================] - 11s 327ms/step - loss: 1.0836 - accuracy: 0.4772 - val_loss: 1.9303 - val_accuracy: 0.3386\n",
            "Epoch 18/50\n",
            "35/35 [==============================] - 11s 327ms/step - loss: 1.0786 - accuracy: 0.4946 - val_loss: 1.6869 - val_accuracy: 0.3885\n",
            "Epoch 19/50\n",
            "35/35 [==============================] - 11s 327ms/step - loss: 1.0760 - accuracy: 0.5191 - val_loss: 2.0154 - val_accuracy: 0.3318\n",
            "Epoch 20/50\n",
            "35/35 [==============================] - 11s 327ms/step - loss: 1.0483 - accuracy: 0.5348 - val_loss: 1.9176 - val_accuracy: 0.3511\n",
            "Epoch 21/50\n",
            "35/35 [==============================] - 11s 326ms/step - loss: 1.0213 - accuracy: 0.5575 - val_loss: 1.8513 - val_accuracy: 0.3681\n",
            "Epoch 22/50\n",
            "35/35 [==============================] - 11s 326ms/step - loss: 1.0070 - accuracy: 0.5787 - val_loss: 1.9118 - val_accuracy: 0.3586\n",
            "Epoch 23/50\n",
            "35/35 [==============================] - 11s 327ms/step - loss: 0.9968 - accuracy: 0.5904 - val_loss: 1.9943 - val_accuracy: 0.3487\n",
            "Epoch 24/50\n",
            "35/35 [==============================] - 11s 327ms/step - loss: 0.9755 - accuracy: 0.5971 - val_loss: 1.6927 - val_accuracy: 0.4071\n",
            "Epoch 25/50\n",
            "35/35 [==============================] - 11s 327ms/step - loss: 0.9638 - accuracy: 0.6013 - val_loss: 1.7760 - val_accuracy: 0.3962\n",
            "Epoch 26/50\n",
            "35/35 [==============================] - 11s 326ms/step - loss: 0.9477 - accuracy: 0.6128 - val_loss: 1.8897 - val_accuracy: 0.3668\n",
            "Epoch 27/50\n",
            "35/35 [==============================] - 11s 327ms/step - loss: 0.9412 - accuracy: 0.6163 - val_loss: 1.8142 - val_accuracy: 0.3856\n",
            "Epoch 28/50\n",
            "35/35 [==============================] - 11s 327ms/step - loss: 0.9239 - accuracy: 0.6158 - val_loss: 1.9871 - val_accuracy: 0.3590\n",
            "Epoch 29/50\n",
            "35/35 [==============================] - 11s 327ms/step - loss: 0.9210 - accuracy: 0.6209 - val_loss: 1.9108 - val_accuracy: 0.3622\n",
            "Epoch 30/50\n",
            "35/35 [==============================] - 11s 327ms/step - loss: 0.9953 - accuracy: 0.6127 - val_loss: 1.8653 - val_accuracy: 0.3625\n",
            "Epoch 31/50\n",
            "35/35 [==============================] - 11s 327ms/step - loss: 0.8748 - accuracy: 0.6295 - val_loss: 1.7628 - val_accuracy: 0.3880\n",
            "Epoch 32/50\n",
            "35/35 [==============================] - 11s 327ms/step - loss: 0.8663 - accuracy: 0.6278 - val_loss: 1.9719 - val_accuracy: 0.3617\n",
            "Epoch 33/50\n",
            "35/35 [==============================] - 11s 327ms/step - loss: 0.8644 - accuracy: 0.6252 - val_loss: 1.8669 - val_accuracy: 0.3864\n",
            "Epoch 34/50\n",
            "35/35 [==============================] - 11s 327ms/step - loss: 0.8158 - accuracy: 0.6471 - val_loss: 1.8216 - val_accuracy: 0.3922\n",
            "Epoch 35/50\n",
            "35/35 [==============================] - 11s 328ms/step - loss: 0.8288 - accuracy: 0.6527 - val_loss: 1.7061 - val_accuracy: 0.4022\n",
            "Epoch 36/50\n",
            "35/35 [==============================] - 11s 327ms/step - loss: 0.8047 - accuracy: 0.6539 - val_loss: 1.8751 - val_accuracy: 0.3892\n",
            "Epoch 37/50\n",
            "35/35 [==============================] - 11s 327ms/step - loss: 0.7940 - accuracy: 0.6659 - val_loss: 1.8134 - val_accuracy: 0.3907\n",
            "Epoch 38/50\n",
            "35/35 [==============================] - 11s 327ms/step - loss: 0.7871 - accuracy: 0.6645 - val_loss: 1.7608 - val_accuracy: 0.3976\n",
            "Epoch 39/50\n",
            "35/35 [==============================] - 11s 327ms/step - loss: 0.7655 - accuracy: 0.6673 - val_loss: 2.4412 - val_accuracy: 0.3411\n",
            "Epoch 40/50\n",
            "35/35 [==============================] - 11s 327ms/step - loss: 0.7437 - accuracy: 0.6789 - val_loss: 1.9972 - val_accuracy: 0.3826\n",
            "Epoch 41/50\n",
            "35/35 [==============================] - 11s 328ms/step - loss: 0.7504 - accuracy: 0.6902 - val_loss: 1.8203 - val_accuracy: 0.4139\n",
            "Epoch 42/50\n",
            "35/35 [==============================] - 11s 327ms/step - loss: 0.7254 - accuracy: 0.7017 - val_loss: 1.9814 - val_accuracy: 0.3906\n",
            "Epoch 43/50\n",
            "35/35 [==============================] - 11s 327ms/step - loss: 0.7261 - accuracy: 0.7107 - val_loss: 2.1112 - val_accuracy: 0.3861\n",
            "Epoch 44/50\n",
            "35/35 [==============================] - 11s 328ms/step - loss: 0.7105 - accuracy: 0.7208 - val_loss: 1.9800 - val_accuracy: 0.4019\n",
            "Epoch 45/50\n",
            "35/35 [==============================] - 11s 328ms/step - loss: 0.7116 - accuracy: 0.7270 - val_loss: 1.8441 - val_accuracy: 0.4115\n",
            "Epoch 46/50\n",
            "35/35 [==============================] - 11s 328ms/step - loss: 0.7063 - accuracy: 0.7312 - val_loss: 1.9104 - val_accuracy: 0.4160\n",
            "Epoch 47/50\n",
            "35/35 [==============================] - 11s 328ms/step - loss: 0.6870 - accuracy: 0.7368 - val_loss: 2.0173 - val_accuracy: 0.4031\n",
            "Epoch 48/50\n",
            "35/35 [==============================] - 11s 328ms/step - loss: 0.7025 - accuracy: 0.7345 - val_loss: 2.1992 - val_accuracy: 0.3918\n",
            "Epoch 49/50\n",
            "35/35 [==============================] - 11s 327ms/step - loss: 0.7066 - accuracy: 0.7365 - val_loss: 2.0797 - val_accuracy: 0.3947\n",
            "Epoch 50/50\n",
            "35/35 [==============================] - 11s 328ms/step - loss: 0.6555 - accuracy: 0.7513 - val_loss: 1.9529 - val_accuracy: 0.4028\n"
          ],
          "name": "stdout"
        },
        {
          "output_type": "display_data",
          "data": {
            "image/png": "[encoded data removed]",
            "text/plain": [
              "<Figure size 432x288 with 1 Axes>"
            ]
          },
          "metadata": {
            "tags": [],
            "needs_background": "light"
          }
        },
        {
          "output_type": "stream",
          "text": [
            "НЕЙРОНКА:  Embedding + LSTM\n",
            "\n",
            "О. Генри  распознано  0 % сеть считает, что это  Саймак ,  распознано НЕ ВЕРНО!\n",
            "Стругацкие  распознано  64 % сеть считает, что это  Стругацкие ,  распознано ВЕРНО!\n",
            "Булгаков  распознано  31 % сеть считает, что это  Стругацкие ,  распознано НЕ ВЕРНО!\n",
            "Саймак  распознано  40 % сеть считает, что это  Саймак ,  распознано ВЕРНО!\n",
            "Фрай  распознано  68 % сеть считает, что это  Фрай ,  распознано ВЕРНО!\n",
            "Брэдбери  распознано  2 % сеть считает, что это  Стругацкие ,  распознано НЕ ВЕРНО!\n",
            "\n",
            "Средний процент распознавания  40 %\n",
            "\n"
          ],
          "name": "stdout"
        }
      ]
    },
    {
      "cell_type": "markdown",
      "metadata": {
        "id": "yrRn3kEjEph4",
        "colab_type": "text"
      },
      "source": [
        "**LSTM + Dense**\n",
        "\n",
        "*Разбор данного раздела:* https://youtu.be/6KmWDCavCtw?t=5505"
      ]
    },
    {
      "cell_type": "code",
      "metadata": {
        "id": "OjMKiGXoEsK_",
        "colab_type": "code",
        "outputId": "c8199500-3de6-480d-e6f3-61cec3136993",
        "colab": {
          "base_uri": "https://localhost:8080/",
          "height": 1000
        }
      },
      "source": [
        "modelEL = Sequential() # создаём последовательную модель нейросети\n",
        "# преобразовываем каждое слово в многомерный вектор c указанием размерности вектора и длины входных данных\n",
        "modelEL.add(Embedding(maxWordsCount, 10, input_length=xLen))\n",
        "\n",
        "modelEL.add(SpatialDropout1D(0.4)) # добавляем слой регуляризации, \"выключая\" 1D карты объектов из эмбединг векторов, во избежание переобучения\n",
        "modelEL.add(BatchNormalization())  # добавляем слой нормализации данных\n",
        "modelEL.add(LSTM(4)) # добавляем слой LSTM, совместимый с Cuda при поддержке GPU\n",
        "modelEL.add(Dropout(0.5)) # добавляем слой регуляризации, \"выключая\" указанное количество нейронов, во избежание переобучения\n",
        "modelEL.add(BatchNormalization()) # добавляем слой нормализации данных\n",
        "modelEL.add(Dense(100, activation=\"relu\")) # добавляем полносвязный слой с указанием количества нейронов и функции активации\n",
        "modelEL.add(Dropout(0.5)) # добавляем слой регуляризации, \"выключая\" указанное количество нейронов, во избежание переобучения\n",
        "modelEL.add(BatchNormalization()) # добавляем слой нормализации данных\n",
        "modelEL.add(Dense(6, activation='softmax')) # добавляем полносвязный слой на 6 нейронов, с функцией активации softmax на выходном слое\n",
        "\n",
        "# Компиляция, составление модели с выбором алгоритма оптимизации, функции потерь и метрики точности\n",
        "modelEL.compile(optimizer='rmsprop', \n",
        "              loss='categorical_crossentropy', \n",
        "              metrics=['accuracy'])\n",
        "\n",
        "# Обучаем сеть с указанием тренировочной выборки, количества эпох, размера минибатча для подачи сети, и тестовой выборки\n",
        "history = modelEL.fit(xTrain, \n",
        "                    yTrain, \n",
        "                    epochs=20,\n",
        "                    batch_size=200,\n",
        "                    validation_data=(xTest, yTest))\n",
        "\n",
        "# Строим график для отображения динамики обучения и точности предсказания сети\n",
        "plt.plot(history.history['accuracy'], \n",
        "         label='Доля верных ответов на обучающем наборе')\n",
        "plt.plot(history.history['val_accuracy'], \n",
        "         label='Доля верных ответов на проверочном наборе')\n",
        "plt.xlabel('Эпоха обучения')\n",
        "plt.ylabel('Доля верных ответов')\n",
        "plt.legend()\n",
        "plt.show()\n",
        "\n",
        "pred = recognizeMultiClass(modelEL, xTest6Classes, \"Embedding + LSTM\") # функция покажет какие классы и как распознаны верно"
      ],
      "execution_count": 0,
      "outputs": [
        {
          "output_type": "stream",
          "text": [
            "Epoch 1/20\n",
            "89/89 [==============================] - 15s 172ms/step - loss: 2.0819 - accuracy: 0.2140 - val_loss: 1.7339 - val_accuracy: 0.2928\n",
            "Epoch 2/20\n",
            "89/89 [==============================] - 14s 163ms/step - loss: 1.8928 - accuracy: 0.2622 - val_loss: 1.7421 - val_accuracy: 0.2928\n",
            "Epoch 3/20\n",
            "89/89 [==============================] - 14s 163ms/step - loss: 1.8118 - accuracy: 0.2856 - val_loss: 1.7392 - val_accuracy: 0.2928\n",
            "Epoch 4/20\n",
            "89/89 [==============================] - 14s 163ms/step - loss: 1.7386 - accuracy: 0.3041 - val_loss: 1.7221 - val_accuracy: 0.2928\n",
            "Epoch 5/20\n",
            "89/89 [==============================] - 14s 163ms/step - loss: 1.6657 - accuracy: 0.3409 - val_loss: 1.7045 - val_accuracy: 0.2988\n",
            "Epoch 6/20\n",
            "89/89 [==============================] - 14s 163ms/step - loss: 1.5347 - accuracy: 0.3907 - val_loss: 2.2072 - val_accuracy: 0.2999\n",
            "Epoch 7/20\n",
            "89/89 [==============================] - 14s 162ms/step - loss: 1.4184 - accuracy: 0.4326 - val_loss: 1.8208 - val_accuracy: 0.2985\n",
            "Epoch 8/20\n",
            "89/89 [==============================] - 14s 162ms/step - loss: 1.3787 - accuracy: 0.4279 - val_loss: 1.8274 - val_accuracy: 0.3108\n",
            "Epoch 9/20\n",
            "89/89 [==============================] - 14s 163ms/step - loss: 1.3598 - accuracy: 0.4301 - val_loss: 1.7262 - val_accuracy: 0.3250\n",
            "Epoch 10/20\n",
            "89/89 [==============================] - 14s 163ms/step - loss: 1.3145 - accuracy: 0.4542 - val_loss: 1.6823 - val_accuracy: 0.3297\n",
            "Epoch 11/20\n",
            "89/89 [==============================] - 14s 163ms/step - loss: 1.2997 - accuracy: 0.4575 - val_loss: 1.6477 - val_accuracy: 0.3365\n",
            "Epoch 12/20\n",
            "89/89 [==============================] - 14s 163ms/step - loss: 1.2821 - accuracy: 0.4687 - val_loss: 1.6618 - val_accuracy: 0.3384\n",
            "Epoch 13/20\n",
            "89/89 [==============================] - 14s 163ms/step - loss: 1.2920 - accuracy: 0.4606 - val_loss: 1.8239 - val_accuracy: 0.3321\n",
            "Epoch 14/20\n",
            "89/89 [==============================] - 14s 163ms/step - loss: 1.2755 - accuracy: 0.4742 - val_loss: 1.9277 - val_accuracy: 0.3263\n",
            "Epoch 15/20\n",
            "89/89 [==============================] - 15s 163ms/step - loss: 1.2635 - accuracy: 0.4834 - val_loss: 1.6741 - val_accuracy: 0.3365\n",
            "Epoch 16/20\n",
            "89/89 [==============================] - 14s 163ms/step - loss: 1.2341 - accuracy: 0.4977 - val_loss: 1.7794 - val_accuracy: 0.3513\n",
            "Epoch 17/20\n",
            "89/89 [==============================] - 14s 163ms/step - loss: 1.2021 - accuracy: 0.5159 - val_loss: 1.6602 - val_accuracy: 0.3686\n",
            "Epoch 18/20\n",
            "89/89 [==============================] - 15s 163ms/step - loss: 1.1749 - accuracy: 0.5262 - val_loss: 1.9157 - val_accuracy: 0.3487\n",
            "Epoch 19/20\n",
            "89/89 [==============================] - 15s 164ms/step - loss: 1.1507 - accuracy: 0.5355 - val_loss: 2.0575 - val_accuracy: 0.3407\n",
            "Epoch 20/20\n",
            "89/89 [==============================] - 15s 163ms/step - loss: 1.1522 - accuracy: 0.5433 - val_loss: 2.0777 - val_accuracy: 0.3181\n"
          ],
          "name": "stdout"
        },
        {
          "output_type": "display_data",
          "data": {
            "image/png": "[encoded data removed]",
            "text/plain": [
              "<Figure size 432x288 with 1 Axes>"
            ]
          },
          "metadata": {
            "tags": [],
            "needs_background": "light"
          }
        },
        {
          "output_type": "stream",
          "text": [
            "НЕЙРОНКА:  Embedding + LSTM\n",
            "\n",
            "О. Генри  распознано  0 % сеть считает, что это  Стругацкие ,  распознано НЕ ВЕРНО!\n",
            "Стругацкие  распознано  30 % сеть считает, что это  Саймак ,  распознано НЕ ВЕРНО!\n",
            "Булгаков  распознано  6 % сеть считает, что это  Стругацкие ,  распознано НЕ ВЕРНО!\n",
            "Саймак  распознано  53 % сеть считает, что это  Саймак ,  распознано ВЕРНО!\n",
            "Фрай  распознано  73 % сеть считает, что это  Фрай ,  распознано ВЕРНО!\n",
            "Брэдбери  распознано  0 % сеть считает, что это  Стругацкие ,  распознано НЕ ВЕРНО!\n",
            "\n",
            "Средний процент распознавания  31 %\n",
            "\n"
          ],
          "name": "stdout"
        }
      ]
    },
    {
      "cell_type": "markdown",
      "metadata": {
        "id": "t2EQNRBGP3-b",
        "colab_type": "text"
      },
      "source": [
        "**LSTM + Dense через последовательности**"
      ]
    },
    {
      "cell_type": "code",
      "metadata": {
        "id": "HsgzPciEPtdW",
        "colab_type": "code",
        "outputId": "c345c113-daba-41b5-fe24-45325b513f5c",
        "colab": {
          "base_uri": "https://localhost:8080/",
          "height": 1000
        }
      },
      "source": [
        "modelEL = Sequential() # создаём последовательную модель нейросети\n",
        "# преобразовываем каждое слово в многомерный вектор c указанием размерности вектора и длины входных данных\n",
        "modelEL.add(Embedding(maxWordsCount, 10, input_length=xLen))\n",
        "\n",
        "modelEL.add(SpatialDropout1D(0.4)) # добавляем слой регуляризации, \"выключая\" 1D карты объектов из эмбединг векторов, во избежание переобучения\n",
        "modelEL.add(BatchNormalization())  # добавляем слой нормализации данных\n",
        "modelEL.add(LSTM(4, return_sequences=1)) # добавляем слой LSTM, совместимый с Cuda при поддержке GPU\n",
        "modelEL.add(Dropout(0.5)) # добавляем слой регуляризации, \"выключая\" указанное количество нейронов, во избежание переобучения\n",
        "modelEL.add(BatchNormalization()) # добавляем слой нормализации данных\n",
        "modelEL.add(Dense(100, activation=\"relu\")) # добавляем полносвязный слой с указанием количества нейронов и функции активации\n",
        "modelEL.add(Dropout(0.5)) # добавляем слой регуляризации, \"выключая\" указанное количество нейронов, во избежание переобучения\n",
        "modelEL.add(BatchNormalization()) # добавляем слой нормализации данных\n",
        "modelEL.add(Flatten()) # добавляем слой выравнивания/сглаживания (\"сплющиваем\" данные в вектор)\n",
        "modelEL.add(Dense(6, activation='softmax')) # добавляем полносвязный слой на 6 нейронов, с функцией активации softmax на выходном слое\n",
        "\n",
        "# Компиляция, составление модели с выбором алгоритма оптимизации, функции потерь и метрики точности\n",
        "modelEL.compile(optimizer='rmsprop', \n",
        "              loss='categorical_crossentropy', \n",
        "              metrics=['accuracy'])\n",
        "\n",
        "# Обучаем сеть с указанием тренировочной выборки, количества эпох, размера минибатча для подачи сети, и тестовой выборки\n",
        "history = modelEL.fit(xTrain, \n",
        "                    yTrain, \n",
        "                    epochs=30,\n",
        "                    batch_size=200,\n",
        "                    validation_data=(xTest, yTest))\n",
        "\n",
        "# Строим график для отображения динамики обучения и точности предсказания сети\n",
        "plt.plot(history.history['accuracy'], \n",
        "         label='Доля верных ответов на обучающем наборе')\n",
        "plt.plot(history.history['val_accuracy'], \n",
        "         label='Доля верных ответов на проверочном наборе')\n",
        "plt.xlabel('Эпоха обучения')\n",
        "plt.ylabel('Доля верных ответов')\n",
        "plt.legend()\n",
        "plt.show()\n",
        "\n",
        "pred = recognizeMultiClass(modelEL, xTest6Classes, \"Embedding + LSTM\") #функция покажет какие классы и как распознаны верно"
      ],
      "execution_count": 0,
      "outputs": [
        {
          "output_type": "stream",
          "text": [
            "Epoch 1/30\n",
            "89/89 [==============================] - 15s 168ms/step - loss: 2.6366 - accuracy: 0.4975 - val_loss: 2.1228 - val_accuracy: 0.3350\n",
            "Epoch 2/30\n",
            "89/89 [==============================] - 14s 160ms/step - loss: 0.8675 - accuracy: 0.8278 - val_loss: 6.3487 - val_accuracy: 0.3049\n",
            "Epoch 3/30\n",
            "89/89 [==============================] - 14s 160ms/step - loss: 0.4245 - accuracy: 0.9228 - val_loss: 4.4378 - val_accuracy: 0.3805\n",
            "Epoch 4/30\n",
            "89/89 [==============================] - 14s 160ms/step - loss: 0.3152 - accuracy: 0.9490 - val_loss: 6.7381 - val_accuracy: 0.3254\n",
            "Epoch 5/30\n",
            "89/89 [==============================] - 14s 160ms/step - loss: 0.2601 - accuracy: 0.9608 - val_loss: 5.7987 - val_accuracy: 0.5362\n",
            "Epoch 6/30\n",
            "89/89 [==============================] - 14s 160ms/step - loss: 0.2863 - accuracy: 0.9651 - val_loss: 3.3266 - val_accuracy: 0.5988\n",
            "Epoch 7/30\n",
            "89/89 [==============================] - 14s 160ms/step - loss: 0.2340 - accuracy: 0.9688 - val_loss: 3.4235 - val_accuracy: 0.6531\n",
            "Epoch 8/30\n",
            "89/89 [==============================] - 14s 160ms/step - loss: 0.2048 - accuracy: 0.9734 - val_loss: 5.1861 - val_accuracy: 0.6922\n",
            "Epoch 9/30\n",
            "89/89 [==============================] - 14s 160ms/step - loss: 0.2074 - accuracy: 0.9745 - val_loss: 5.8937 - val_accuracy: 0.6795\n",
            "Epoch 10/30\n",
            "89/89 [==============================] - 14s 160ms/step - loss: 0.2146 - accuracy: 0.9753 - val_loss: 4.7745 - val_accuracy: 0.6611\n",
            "Epoch 11/30\n",
            "89/89 [==============================] - 14s 161ms/step - loss: 0.1695 - accuracy: 0.9784 - val_loss: 5.9685 - val_accuracy: 0.6314\n",
            "Epoch 12/30\n",
            "89/89 [==============================] - 14s 161ms/step - loss: 0.1783 - accuracy: 0.9801 - val_loss: 4.7675 - val_accuracy: 0.6789\n",
            "Epoch 13/30\n",
            "89/89 [==============================] - 14s 160ms/step - loss: 0.1758 - accuracy: 0.9796 - val_loss: 4.7476 - val_accuracy: 0.6892\n",
            "Epoch 14/30\n",
            "89/89 [==============================] - 14s 160ms/step - loss: 0.1948 - accuracy: 0.9800 - val_loss: 4.6037 - val_accuracy: 0.6873\n",
            "Epoch 15/30\n",
            "89/89 [==============================] - 14s 160ms/step - loss: 0.1653 - accuracy: 0.9805 - val_loss: 5.0532 - val_accuracy: 0.6892\n",
            "Epoch 16/30\n",
            "89/89 [==============================] - 14s 160ms/step - loss: 0.1696 - accuracy: 0.9807 - val_loss: 4.4886 - val_accuracy: 0.7222\n",
            "Epoch 17/30\n",
            "89/89 [==============================] - 14s 160ms/step - loss: 0.1532 - accuracy: 0.9825 - val_loss: 4.1970 - val_accuracy: 0.7066\n",
            "Epoch 18/30\n",
            "89/89 [==============================] - 14s 160ms/step - loss: 0.1613 - accuracy: 0.9814 - val_loss: 4.5823 - val_accuracy: 0.7152\n",
            "Epoch 19/30\n",
            "89/89 [==============================] - 14s 160ms/step - loss: 0.1532 - accuracy: 0.9830 - val_loss: 5.8294 - val_accuracy: 0.6601\n",
            "Epoch 20/30\n",
            "89/89 [==============================] - 14s 160ms/step - loss: 0.1309 - accuracy: 0.9841 - val_loss: 5.1629 - val_accuracy: 0.6919\n",
            "Epoch 21/30\n",
            "89/89 [==============================] - 14s 160ms/step - loss: 0.1422 - accuracy: 0.9843 - val_loss: 5.0249 - val_accuracy: 0.7109\n",
            "Epoch 22/30\n",
            "89/89 [==============================] - 14s 160ms/step - loss: 0.1210 - accuracy: 0.9850 - val_loss: 5.2224 - val_accuracy: 0.7137\n",
            "Epoch 23/30\n",
            "89/89 [==============================] - 14s 160ms/step - loss: 0.1432 - accuracy: 0.9841 - val_loss: 5.3380 - val_accuracy: 0.7214\n",
            "Epoch 24/30\n",
            "89/89 [==============================] - 14s 160ms/step - loss: 0.1272 - accuracy: 0.9849 - val_loss: 6.3762 - val_accuracy: 0.6599\n",
            "Epoch 25/30\n",
            "89/89 [==============================] - 14s 159ms/step - loss: 0.1564 - accuracy: 0.9840 - val_loss: 4.8896 - val_accuracy: 0.6948\n",
            "Epoch 26/30\n",
            "89/89 [==============================] - 14s 160ms/step - loss: 0.1240 - accuracy: 0.9855 - val_loss: 5.8729 - val_accuracy: 0.6398\n",
            "Epoch 27/30\n",
            "89/89 [==============================] - 14s 160ms/step - loss: 0.1136 - accuracy: 0.9867 - val_loss: 5.7883 - val_accuracy: 0.6968\n",
            "Epoch 28/30\n",
            "89/89 [==============================] - 14s 160ms/step - loss: 0.1273 - accuracy: 0.9843 - val_loss: 4.6128 - val_accuracy: 0.6921\n",
            "Epoch 29/30\n",
            "89/89 [==============================] - 14s 160ms/step - loss: 0.1219 - accuracy: 0.9843 - val_loss: 5.5010 - val_accuracy: 0.6939\n",
            "Epoch 30/30\n",
            "89/89 [==============================] - 14s 160ms/step - loss: 0.1227 - accuracy: 0.9853 - val_loss: 5.1292 - val_accuracy: 0.7143\n"
          ],
          "name": "stdout"
        },
        {
          "output_type": "display_data",
          "data": {
            "image/png": "[encoded data removed]",
            "text/plain": [
              "<Figure size 432x288 with 1 Axes>"
            ]
          },
          "metadata": {
            "tags": [],
            "needs_background": "light"
          }
        },
        {
          "output_type": "stream",
          "text": [
            "НЕЙРОНКА:  Embedding + LSTM\n",
            "\n",
            "О. Генри  распознано  41 % сеть считает, что это  О. Генри ,  распознано ВЕРНО!\n",
            "Стругацкие  распознано  80 % сеть считает, что это  Стругацкие ,  распознано ВЕРНО!\n",
            "Булгаков  распознано  73 % сеть считает, что это  Булгаков ,  распознано ВЕРНО!\n",
            "Саймак  распознано  57 % сеть считает, что это  Саймак ,  распознано ВЕРНО!\n",
            "Фрай  распознано  64 % сеть считает, что это  Фрай ,  распознано ВЕРНО!\n",
            "Брэдбери  распознано  89 % сеть считает, что это  Брэдбери ,  распознано ВЕРНО!\n",
            "\n",
            "Средний процент распознавания  71 %\n",
            "\n"
          ],
          "name": "stdout"
        }
      ]
    },
    {
      "cell_type": "markdown",
      "metadata": {
        "id": "2Io2JGoEEtLS",
        "colab_type": "text"
      },
      "source": [
        "**Двунаправленная LSTM**\n",
        "\n",
        "*Разбор данного раздела:* https://youtu.be/6KmWDCavCtw?t=5545"
      ]
    },
    {
      "cell_type": "code",
      "metadata": {
        "id": "p1p4c7EhXFaL",
        "colab_type": "code",
        "outputId": "a8e79b1b-8556-47ee-a845-f57c4c8689e0",
        "colab": {
          "base_uri": "https://localhost:8080/",
          "height": 636
        }
      },
      "source": [
        "modelEL = Sequential() #создаём последовательную модель нейросети\n",
        "\n",
        "#преобразовываем каждое слово в многомерный вектор c указанием размерности вектора и длины входных данных\n",
        "modelEL.add(Embedding(maxWordsCount, 50, input_length=xLen))\n",
        "\n",
        "modelEL.add(SpatialDropout1D(0.4)) #добавляем слой регуляризации, \"выключая\" 1D карты объектов из эмбединг векторов, во избежание переобучения\n",
        "modelEL.add(BatchNormalization()) #добавляем слой нормализации данных\n",
        "modelEL.add(Bidirectional(LSTM(8, return_sequences=1))) #добавляем слой с двунаправленным LSTM, совместимый с Cuda при поддержке GPU\n",
        "modelEL.add(Bidirectional(LSTM(8, return_sequences=1))) #добавляем слой с двунаправленным LSTM, совместимый с Cuda при поддержке GPU\n",
        "modelEL.add(Dropout(0.3)) #добавляем слой регуляризации, \"выключая\" указанное количество нейронов, во избежание переобучения\n",
        "modelEL.add(BatchNormalization()) #добавляем слой нормализации данных\n",
        "modelEL.add(GRU(16, return_sequences=1,reset_after=True)) #добавляем слой GRU, совместимый с Cuda при поддержке GPU\n",
        "modelEL.add(GRU(16, reset_after=True)) #добавляем слой GRU, совместимый с Cuda при поддержке GPU\n",
        "modelEL.add(Dropout(0.3)) #добавляем слой регуляризации, \"выключая\" указанное количество нейронов, во избежание переобучения\n",
        "modelEL.add(BatchNormalization()) #добавляем слой нормализации данных\n",
        "modelEL.add(Dense(200, activation='relu')) #добавляем полносвязный слой с указанием количества нейронов и функции активации\n",
        "modelEL.add(Dropout(0.3)) #добавляем слой регуляризации, \"выключая\" указанное количество нейронов, во избежание переобучения\n",
        "modelEL.add(BatchNormalization()) #добавляем слой нормализации данных\n",
        "modelEL.add(Dense(6, activation='softmax')) #добавляем полносвязный слой на 6 нейронов, с функцией активации softmax на выходном слое\n",
        "\n",
        "# Компиляция, составление модели с выбором алгоритма оптимизации, функции потерь и метрики точности\n",
        "modelEL.compile(optimizer='rmsprop', \n",
        "              loss='categorical_crossentropy', \n",
        "              metrics=['accuracy'])\n",
        "\n",
        "# Обучаем сеть с указанием тренировочной выборки, количества эпох, размера минибатча для подачи сети, и тестовой выборки\n",
        "history = modelEL.fit(xTrain, \n",
        "                    yTrain, \n",
        "                    epochs=5,\n",
        "                    batch_size=200,\n",
        "                    validation_data=(xTest, yTest))\n",
        "\n",
        "# Строим график для отображения динамики обучения и точности предсказания сети\n",
        "plt.plot(history.history['accuracy'], \n",
        "         label='Доля верных ответов на обучающем наборе')\n",
        "plt.plot(history.history['val_accuracy'], \n",
        "         label='Доля верных ответов на проверочном наборе')\n",
        "plt.xlabel('Эпоха обучения')\n",
        "plt.ylabel('Доля верных ответов')\n",
        "plt.legend()\n",
        "plt.show()\n",
        "\n",
        "pred = recognizeMultiClass(modelEL, xTest6Classes, \"Embedding + LSTM\") #функция покажет какие классы и как распознаны верно"
      ],
      "execution_count": 0,
      "outputs": [
        {
          "output_type": "stream",
          "text": [
            "Epoch 1/5\n",
            "89/89 [==============================] - 89s 1s/step - loss: 0.0232 - accuracy: 0.9938 - val_loss: 3.0209 - val_accuracy: 0.4696\n",
            "Epoch 2/5\n",
            "89/89 [==============================] - 87s 982ms/step - loss: 0.0130 - accuracy: 0.9968 - val_loss: 2.7210 - val_accuracy: 0.5961\n",
            "Epoch 3/5\n",
            "89/89 [==============================] - 88s 983ms/step - loss: 0.0148 - accuracy: 0.9957 - val_loss: 3.4298 - val_accuracy: 0.5924\n",
            "Epoch 4/5\n",
            "89/89 [==============================] - 87s 983ms/step - loss: 0.0175 - accuracy: 0.9963 - val_loss: 2.9432 - val_accuracy: 0.5667\n",
            "Epoch 5/5\n",
            "89/89 [==============================] - 88s 985ms/step - loss: 0.0084 - accuracy: 0.9978 - val_loss: 2.4868 - val_accuracy: 0.5818\n"
          ],
          "name": "stdout"
        },
        {
          "output_type": "display_data",
          "data": {
            "image/png": "[encoded data removed]",
            "text/plain": [
              "<Figure size 432x288 with 1 Axes>"
            ]
          },
          "metadata": {
            "tags": [],
            "needs_background": "light"
          }
        },
        {
          "output_type": "stream",
          "text": [
            "НЕЙРОНКА:  Embedding + LSTM\n",
            "\n",
            "О. Генри  распознано  72 % сеть считает, что это  О. Генри ,  распознано ВЕРНО!\n",
            "Стругацкие  распознано  31 % сеть считает, что это  Фрай ,  распознано НЕ ВЕРНО!\n",
            "Булгаков  распознано  27 % сеть считает, что это  Фрай ,  распознано НЕ ВЕРНО!\n",
            "Саймак  распознано  37 % сеть считает, что это  Фрай ,  распознано НЕ ВЕРНО!\n",
            "Фрай  распознано  97 % сеть считает, что это  Фрай ,  распознано ВЕРНО!\n",
            "Брэдбери  распознано  54 % сеть считает, что это  Брэдбери ,  распознано ВЕРНО!\n",
            "\n",
            "Средний процент распознавания  58 %\n",
            "\n"
          ],
          "name": "stdout"
        }
      ]
    },
    {
      "cell_type": "markdown",
      "metadata": {
        "id": "p4K32gEPmDA6",
        "colab_type": "text"
      },
      "source": [
        "## Conv1D\n",
        "\n",
        "*Разбор данного раздела:* https://youtu.be/6KmWDCavCtw?t=5650"
      ]
    },
    {
      "cell_type": "code",
      "metadata": {
        "id": "MlntD2yQmIws",
        "colab_type": "code",
        "outputId": "763cc9dd-a49e-4e97-baa5-ae8c515bcd76",
        "colab": {
          "base_uri": "https://localhost:8080/",
          "height": 1000
        }
      },
      "source": [
        "modelEC = Sequential() # создаём последовательную модель нейросети\n",
        "# преобразовываем каждое слово в многомерный вектор c указанием размерности вектора и длины входных данных\n",
        "modelEC.add(Embedding(maxWordsCount, 10, input_length=xLen))\n",
        "\n",
        "modelEC.add(SpatialDropout1D(0.2)) # добавляем слой регуляризации, \"выключая\" 1D карты объектов из эмбединг векторов, во избежание переобучения\n",
        "modelEC.add(BatchNormalization())  # добавляем слой нормализации данных\n",
        "modelEC.add(Conv1D(20, 5, activation=\"relu\")) # добавляем одномерный сверточный слой, указывая кол-во фильтров и ширину окна для фильтров \n",
        "#modelEC.add(MaxPooling1D(2)) # добавляем слой подвыборки/пулинга с функцией максимума\n",
        "modelEC.add(Conv1D(20, 5, activation=\"relu\")) # добавляем одномерный сверточный слой, указывая кол-во фильтров и ширину окна для фильтров \n",
        "modelEC.add(MaxPooling1D(2)) # добавляем слой подвыборки/пулинга с функцией максимума\n",
        "modelEC.add(Dropout(0.2)) # добавляем слой регуляризации, \"выключая\" указанное количество нейронов, во избежание переобучения\n",
        "modelEC.add(BatchNormalization()) # добавляем слой нормализации данных\n",
        "modelEC.add(Flatten()) # добавляем слой выравнивания/сглаживания (\"сплющиваем\" данные в вектор)\n",
        "modelEC.add(Dense(6, activation='softmax')) # добавляем полносвязный слой на 6 нейронов, с функцией активации softmax на выходном слое\n",
        "\n",
        "# Компиляция, составление модели с выбором алгоритма оптимизации, функции потерь и метрики точности\n",
        "modelEC.compile(optimizer='rmsprop', \n",
        "              loss='categorical_crossentropy', \n",
        "              metrics=['accuracy'])\n",
        "\n",
        "# Обучаем сеть с указанием тренировочной выборки, количества эпох, размера минибатча для подачи сети, и тестовой выборки\n",
        "history = modelEC.fit(xTrain, \n",
        "                    yTrain, \n",
        "                    epochs=20,\n",
        "                    batch_size=200,\n",
        "                    validation_data=(xTest, yTest))\n",
        "\n",
        "# Строим график для отображения динамики обучения и точности предсказания сети\n",
        "plt.plot(history.history['accuracy'], \n",
        "         label='Доля верных ответов на обучающем наборе')\n",
        "plt.plot(history.history['val_accuracy'], \n",
        "         label='Доля верных ответов на проверочном наборе')\n",
        "plt.xlabel('Эпоха обучения')\n",
        "plt.ylabel('Доля верных ответов')\n",
        "plt.legend()\n",
        "plt.show()\n",
        "\n",
        "pred = recognizeMultiClass(modelEC, xTest6Classes, \"Embedding + Dense\") #функция покажет какие классы и как распознаны верно"
      ],
      "execution_count": 0,
      "outputs": [
        {
          "output_type": "stream",
          "text": [
            "Epoch 1/20\n",
            "89/89 [==============================] - 2s 24ms/step - loss: 1.2426 - accuracy: 0.5672 - val_loss: 1.9331 - val_accuracy: 0.2556\n",
            "Epoch 2/20\n",
            "89/89 [==============================] - 2s 21ms/step - loss: 0.0682 - accuracy: 0.9786 - val_loss: 2.5123 - val_accuracy: 0.2928\n",
            "Epoch 3/20\n",
            "89/89 [==============================] - 2s 21ms/step - loss: 0.0150 - accuracy: 0.9952 - val_loss: 2.5013 - val_accuracy: 0.2586\n",
            "Epoch 4/20\n",
            "89/89 [==============================] - 2s 27ms/step - loss: 0.0137 - accuracy: 0.9956 - val_loss: 2.9398 - val_accuracy: 0.3566\n",
            "Epoch 5/20\n",
            "89/89 [==============================] - 2s 22ms/step - loss: 0.0092 - accuracy: 0.9969 - val_loss: 3.0516 - val_accuracy: 0.3886\n",
            "Epoch 6/20\n",
            "89/89 [==============================] - 2s 22ms/step - loss: 0.0113 - accuracy: 0.9967 - val_loss: 1.2127 - val_accuracy: 0.6540\n",
            "Epoch 7/20\n",
            "89/89 [==============================] - 2s 22ms/step - loss: 0.0102 - accuracy: 0.9972 - val_loss: 2.0118 - val_accuracy: 0.5687\n",
            "Epoch 8/20\n",
            "89/89 [==============================] - 2s 22ms/step - loss: 0.0085 - accuracy: 0.9973 - val_loss: 1.9648 - val_accuracy: 0.5938\n",
            "Epoch 9/20\n",
            "89/89 [==============================] - 2s 22ms/step - loss: 0.0103 - accuracy: 0.9965 - val_loss: 2.8138 - val_accuracy: 0.5433\n",
            "Epoch 10/20\n",
            "89/89 [==============================] - 2s 22ms/step - loss: 0.0088 - accuracy: 0.9975 - val_loss: 1.8512 - val_accuracy: 0.6577\n",
            "Epoch 11/20\n",
            "89/89 [==============================] - 2s 22ms/step - loss: 0.0053 - accuracy: 0.9977 - val_loss: 2.3165 - val_accuracy: 0.6490\n",
            "Epoch 12/20\n",
            "89/89 [==============================] - 2s 22ms/step - loss: 0.0071 - accuracy: 0.9975 - val_loss: 2.0712 - val_accuracy: 0.6538\n",
            "Epoch 13/20\n",
            "89/89 [==============================] - 2s 22ms/step - loss: 0.0090 - accuracy: 0.9976 - val_loss: 1.9409 - val_accuracy: 0.6948\n",
            "Epoch 14/20\n",
            "89/89 [==============================] - 2s 23ms/step - loss: 0.0088 - accuracy: 0.9973 - val_loss: 2.1067 - val_accuracy: 0.6915\n",
            "Epoch 15/20\n",
            "89/89 [==============================] - 2s 23ms/step - loss: 0.0101 - accuracy: 0.9972 - val_loss: 2.1866 - val_accuracy: 0.6735\n",
            "Epoch 16/20\n",
            "89/89 [==============================] - 2s 22ms/step - loss: 0.0076 - accuracy: 0.9978 - val_loss: 2.7930 - val_accuracy: 0.6431\n",
            "Epoch 17/20\n",
            "89/89 [==============================] - 2s 22ms/step - loss: 0.0078 - accuracy: 0.9978 - val_loss: 1.9504 - val_accuracy: 0.7157\n",
            "Epoch 18/20\n",
            "89/89 [==============================] - 2s 23ms/step - loss: 0.0091 - accuracy: 0.9973 - val_loss: 2.0826 - val_accuracy: 0.6964\n",
            "Epoch 19/20\n",
            "89/89 [==============================] - 2s 23ms/step - loss: 0.0073 - accuracy: 0.9980 - val_loss: 3.5412 - val_accuracy: 0.5963\n",
            "Epoch 20/20\n",
            "89/89 [==============================] - 2s 23ms/step - loss: 0.0086 - accuracy: 0.9979 - val_loss: 2.9021 - val_accuracy: 0.6541\n"
          ],
          "name": "stdout"
        },
        {
          "output_type": "display_data",
          "data": {
            "image/png": "[encoded data removed]",
            "text/plain": [
              "<Figure size 432x288 with 1 Axes>"
            ]
          },
          "metadata": {
            "tags": [],
            "needs_background": "light"
          }
        },
        {
          "output_type": "stream",
          "text": [
            "НЕЙРОНКА:  Embedding + Dense\n",
            "\n",
            "О. Генри  распознано  22 % сеть считает, что это  Булгаков ,  распознано НЕ ВЕРНО!\n",
            "Стругацкие  распознано  34 % сеть считает, что это  Фрай ,  распознано НЕ ВЕРНО!\n",
            "Булгаков  распознано  78 % сеть считает, что это  Булгаков ,  распознано ВЕРНО!\n",
            "Саймак  распознано  42 % сеть считает, что это  Саймак ,  распознано ВЕРНО!\n",
            "Фрай  распознано  95 % сеть считает, что это  Фрай ,  распознано ВЕРНО!\n",
            "Брэдбери  распознано  59 % сеть считает, что это  Брэдбери ,  распознано ВЕРНО!\n",
            "\n",
            "Средний процент распознавания  65 %\n",
            "\n"
          ],
          "name": "stdout"
        }
      ]
    },
    {
      "cell_type": "code",
      "metadata": {
        "id": "Z7OjLciN8sGq",
        "colab_type": "code",
        "outputId": "8a6e4a7a-dc5a-470c-8733-40e885159900",
        "colab": {
          "base_uri": "https://localhost:8080/",
          "height": 510
        }
      },
      "source": [
        "print(modelEC.summary()) # выведем на экран данные о модели"
      ],
      "execution_count": 0,
      "outputs": [
        {
          "output_type": "stream",
          "text": [
            "Model: \"sequential_19\"\n",
            "_________________________________________________________________\n",
            "Layer (type)                 Output Shape              Param #   \n",
            "=================================================================\n",
            "embedding_15 (Embedding)     (None, 1000, 10)          200000    \n",
            "_________________________________________________________________\n",
            "spatial_dropout1d_15 (Spatia (None, 1000, 10)          0         \n",
            "_________________________________________________________________\n",
            "batch_normalization_39 (Batc (None, 1000, 10)          40        \n",
            "_________________________________________________________________\n",
            "conv1d (Conv1D)              (None, 996, 20)           1020      \n",
            "_________________________________________________________________\n",
            "conv1d_1 (Conv1D)            (None, 992, 20)           2020      \n",
            "_________________________________________________________________\n",
            "max_pooling1d (MaxPooling1D) (None, 496, 20)           0         \n",
            "_________________________________________________________________\n",
            "dropout_19 (Dropout)         (None, 496, 20)           0         \n",
            "_________________________________________________________________\n",
            "batch_normalization_40 (Batc (None, 496, 20)           80        \n",
            "_________________________________________________________________\n",
            "flatten_4 (Flatten)          (None, 9920)              0         \n",
            "_________________________________________________________________\n",
            "dense_27 (Dense)             (None, 6)                 59526     \n",
            "=================================================================\n",
            "Total params: 262,686\n",
            "Trainable params: 262,626\n",
            "Non-trainable params: 60\n",
            "_________________________________________________________________\n",
            "None\n"
          ],
          "name": "stdout"
        }
      ]
    },
    {
      "cell_type": "markdown",
      "metadata": {
        "id": "g4WFwYN8Oxz6",
        "colab_type": "text"
      },
      "source": [
        "**Conv1D + Dense**\n",
        "\n",
        "*Разбор данного раздела:* https://youtu.be/6KmWDCavCtw?t=5734\n"
      ]
    },
    {
      "cell_type": "code",
      "metadata": {
        "id": "v8dQCD75O1b-",
        "colab_type": "code",
        "outputId": "15a02cea-a8dc-4e26-d864-967299f2f288",
        "colab": {
          "base_uri": "https://localhost:8080/",
          "height": 1000
        }
      },
      "source": [
        "modelEC = Sequential() # создаём последовательную модель нейросети\n",
        "# преобразовываем каждое слово в многомерный вектор c указанием размерности вектора и длины входных данных\n",
        "modelEC.add(Embedding(maxWordsCount, 50, input_length=xLen))\n",
        "\n",
        "modelEC.add(SpatialDropout1D(0.2)) # добавляем слой регуляризации, \"выключая\" 1D карты объектов из эмбединг векторов, во избежание переобучения\n",
        "modelEC.add(BatchNormalization())  # добавляем слой нормализации данных\n",
        "modelEC.add(Conv1D(20, 5, activation=\"relu\", padding='same')) # добавляем одномерный сверточный слой, указывая кол-во фильтров и ширину окна для фильтров \n",
        "modelEC.add(Conv1D(20, 5, activation=\"relu\", padding='same')) # добавляем одномерный сверточный слой, указывая кол-во фильтров и ширину окна для фильтров \n",
        "modelEC.add(MaxPooling1D(2)) # добавляем слой подвыборки/пулинга с функцией максимума\n",
        "modelEC.add(Dropout(0.2)) # добавляем слой регуляризации, \"выключая\" указанное количество нейронов, во избежание переобучения\n",
        "modelEC.add(BatchNormalization()) # добавляем слой нормализации данных\n",
        "modelEC.add(GlobalMaxPooling1D()) # добавляем слой подвыборки/пулинга с функцией максимума(по всей длине входящей последовательности)\n",
        "#modelEC.add(Flatten()) # добавляем слой выравнивания/сглаживания (\"сплющиваем\" данные в вектор)\n",
        "modelEC.add(Dense(20, activation=\"relu\")) # добавляем полносвязный слой с указанием количества нейронов и функции активации\n",
        "modelEC.add(Dropout(0.2)) # добавляем слой регуляризации, \"выключая\" указанное количество нейронов, во избежание переобучения\n",
        "modelEC.add(BatchNormalization()) # добавляем слой нормализации данных\n",
        "modelEC.add(Dense(6, activation='softmax')) # добавляем полносвязный слой на 6 нейронов, с функцией активации softmax на выходном слое\n",
        "\n",
        "# Компиляция, составление модели с выбором алгоритма оптимизации, функции потерь и метрики точности\n",
        "modelEC.compile(optimizer='rmsprop', \n",
        "              loss='categorical_crossentropy', \n",
        "              metrics=['accuracy'])\n",
        "\n",
        "# Обучаем сеть с указанием тренировочной выборки, количества эпох, размера минибатча для подачи сети, и тестовой выборки\n",
        "history = modelEC.fit(xTrain, \n",
        "                    yTrain, \n",
        "                    epochs=20,\n",
        "                    batch_size=200,\n",
        "                    validation_data=(xTest, yTest))\n",
        "\n",
        "# Строим график для отображения динамики обучения и точности предсказания сети\n",
        "plt.plot(history.history['accuracy'], \n",
        "         label='Доля верных ответов на обучающем наборе')\n",
        "plt.plot(history.history['val_accuracy'], \n",
        "         label='Доля верных ответов на проверочном наборе')\n",
        "plt.xlabel('Эпоха обучения')\n",
        "plt.ylabel('Доля верных ответов')\n",
        "plt.legend()\n",
        "plt.show()\n",
        "\n",
        "pred = recognizeMultiClass(modelEC, xTest6Classes, \"Embedding + Dense\") #функция покажет какие классы и как распознаны верно"
      ],
      "execution_count": 0,
      "outputs": [
        {
          "output_type": "stream",
          "text": [
            "Epoch 1/20\n",
            "89/89 [==============================] - 4s 49ms/step - loss: 1.3488 - accuracy: 0.5083 - val_loss: 1.7600 - val_accuracy: 0.1611\n",
            "Epoch 2/20\n",
            "89/89 [==============================] - 4s 46ms/step - loss: 0.6817 - accuracy: 0.8363 - val_loss: 1.8399 - val_accuracy: 0.1611\n",
            "Epoch 3/20\n",
            "89/89 [==============================] - 4s 46ms/step - loss: 0.3740 - accuracy: 0.9380 - val_loss: 1.8905 - val_accuracy: 0.1605\n",
            "Epoch 4/20\n",
            "89/89 [==============================] - 4s 47ms/step - loss: 0.2344 - accuracy: 0.9617 - val_loss: 1.6840 - val_accuracy: 0.2537\n",
            "Epoch 5/20\n",
            "89/89 [==============================] - 4s 47ms/step - loss: 0.1562 - accuracy: 0.9722 - val_loss: 1.4619 - val_accuracy: 0.4233\n",
            "Epoch 6/20\n",
            "89/89 [==============================] - 4s 48ms/step - loss: 0.1056 - accuracy: 0.9776 - val_loss: 1.3480 - val_accuracy: 0.4636\n",
            "Epoch 7/20\n",
            "89/89 [==============================] - 4s 46ms/step - loss: 0.0806 - accuracy: 0.9797 - val_loss: 1.4021 - val_accuracy: 0.4700\n",
            "Epoch 8/20\n",
            "89/89 [==============================] - 4s 46ms/step - loss: 0.0712 - accuracy: 0.9807 - val_loss: 1.4868 - val_accuracy: 0.4818\n",
            "Epoch 9/20\n",
            "89/89 [==============================] - 4s 47ms/step - loss: 0.0619 - accuracy: 0.9828 - val_loss: 1.8658 - val_accuracy: 0.4270\n",
            "Epoch 10/20\n",
            "89/89 [==============================] - 4s 47ms/step - loss: 0.0593 - accuracy: 0.9822 - val_loss: 1.7959 - val_accuracy: 0.4606\n",
            "Epoch 11/20\n",
            "89/89 [==============================] - 4s 48ms/step - loss: 0.0534 - accuracy: 0.9832 - val_loss: 1.8361 - val_accuracy: 0.4739\n",
            "Epoch 12/20\n",
            "89/89 [==============================] - 4s 48ms/step - loss: 0.0512 - accuracy: 0.9826 - val_loss: 2.0128 - val_accuracy: 0.4479\n",
            "Epoch 13/20\n",
            "89/89 [==============================] - 4s 49ms/step - loss: 0.0461 - accuracy: 0.9847 - val_loss: 2.1759 - val_accuracy: 0.4572\n",
            "Epoch 14/20\n",
            "89/89 [==============================] - 4s 49ms/step - loss: 0.0440 - accuracy: 0.9855 - val_loss: 2.2842 - val_accuracy: 0.4403\n",
            "Epoch 15/20\n",
            "89/89 [==============================] - 4s 48ms/step - loss: 0.0443 - accuracy: 0.9849 - val_loss: 2.5887 - val_accuracy: 0.4085\n",
            "Epoch 16/20\n",
            "89/89 [==============================] - 4s 47ms/step - loss: 0.0433 - accuracy: 0.9852 - val_loss: 2.6365 - val_accuracy: 0.4092\n",
            "Epoch 17/20\n",
            "89/89 [==============================] - 4s 47ms/step - loss: 0.0413 - accuracy: 0.9853 - val_loss: 2.6424 - val_accuracy: 0.4315\n",
            "Epoch 18/20\n",
            "89/89 [==============================] - 4s 47ms/step - loss: 0.0409 - accuracy: 0.9847 - val_loss: 2.7531 - val_accuracy: 0.4430\n",
            "Epoch 19/20\n",
            "89/89 [==============================] - 4s 47ms/step - loss: 0.0441 - accuracy: 0.9837 - val_loss: 2.8701 - val_accuracy: 0.4263\n",
            "Epoch 20/20\n",
            "89/89 [==============================] - 4s 47ms/step - loss: 0.0386 - accuracy: 0.9858 - val_loss: 3.2039 - val_accuracy: 0.3982\n"
          ],
          "name": "stdout"
        },
        {
          "output_type": "display_data",
          "data": {
            "image/png": "[encoded data removed]",
            "text/plain": [
              "<Figure size 432x288 with 1 Axes>"
            ]
          },
          "metadata": {
            "tags": [],
            "needs_background": "light"
          }
        },
        {
          "output_type": "stream",
          "text": [
            "НЕЙРОНКА:  Embedding + Dense\n",
            "\n",
            "О. Генри  распознано  90 % сеть считает, что это  О. Генри ,  распознано ВЕРНО!\n",
            "Стругацкие  распознано  3 % сеть считает, что это  Фрай ,  распознано НЕ ВЕРНО!\n",
            "Булгаков  распознано  11 % сеть считает, что это  О. Генри ,  распознано НЕ ВЕРНО!\n",
            "Саймак  распознано  24 % сеть считает, что это  О. Генри ,  распознано НЕ ВЕРНО!\n",
            "Фрай  распознано  79 % сеть считает, что это  Фрай ,  распознано ВЕРНО!\n",
            "Брэдбери  распознано  24 % сеть считает, что это  О. Генри ,  распознано НЕ ВЕРНО!\n",
            "\n",
            "Средний процент распознавания  39 %\n",
            "\n"
          ],
          "name": "stdout"
        }
      ]
    },
    {
      "cell_type": "code",
      "metadata": {
        "id": "WpgbSzqC9Zf4",
        "colab_type": "code",
        "outputId": "56eab692-c4d1-4157-f07d-cebf862ee279",
        "colab": {
          "base_uri": "https://localhost:8080/",
          "height": 612
        }
      },
      "source": [
        "print(modelEC.summary()) # выведем на экран данные о модели"
      ],
      "execution_count": 0,
      "outputs": [
        {
          "output_type": "stream",
          "text": [
            "Model: \"sequential_20\"\n",
            "_________________________________________________________________\n",
            "Layer (type)                 Output Shape              Param #   \n",
            "=================================================================\n",
            "embedding_16 (Embedding)     (None, 1000, 50)          1000000   \n",
            "_________________________________________________________________\n",
            "spatial_dropout1d_16 (Spatia (None, 1000, 50)          0         \n",
            "_________________________________________________________________\n",
            "batch_normalization_41 (Batc (None, 1000, 50)          200       \n",
            "_________________________________________________________________\n",
            "conv1d_2 (Conv1D)            (None, 1000, 20)          5020      \n",
            "_________________________________________________________________\n",
            "conv1d_3 (Conv1D)            (None, 1000, 20)          2020      \n",
            "_________________________________________________________________\n",
            "max_pooling1d_1 (MaxPooling1 (None, 500, 20)           0         \n",
            "_________________________________________________________________\n",
            "dropout_20 (Dropout)         (None, 500, 20)           0         \n",
            "_________________________________________________________________\n",
            "batch_normalization_42 (Batc (None, 500, 20)           80        \n",
            "_________________________________________________________________\n",
            "global_max_pooling1d (Global (None, 20)                0         \n",
            "_________________________________________________________________\n",
            "dense_28 (Dense)             (None, 20)                420       \n",
            "_________________________________________________________________\n",
            "dropout_21 (Dropout)         (None, 20)                0         \n",
            "_________________________________________________________________\n",
            "batch_normalization_43 (Batc (None, 20)                80        \n",
            "_________________________________________________________________\n",
            "dense_29 (Dense)             (None, 6)                 126       \n",
            "=================================================================\n",
            "Total params: 1,007,946\n",
            "Trainable params: 1,007,766\n",
            "Non-trainable params: 180\n",
            "_________________________________________________________________\n",
            "None\n"
          ],
          "name": "stdout"
        }
      ]
    },
    {
      "cell_type": "code",
      "metadata": {
        "id": "aXJzCij79j1S",
        "colab_type": "code",
        "outputId": "510d8132-735b-475a-ab29-728e67ebce3c",
        "colab": {
          "base_uri": "https://localhost:8080/",
          "height": 1000
        }
      },
      "source": [
        "modelEC = Sequential() # создаём последовательную модель нейросети\n",
        "# преобразовываем каждое слово в многомерный вектор c указанием размерности вектора и длины входных данных\n",
        "modelEC.add(Embedding(maxWordsCount, 10, input_length=xLen))\n",
        "\n",
        "modelEC.add(SpatialDropout1D(0.2)) # добавляем слой регуляризации, \"выключая\" 1D карты объектов из эмбединг векторов, во избежание переобучения\n",
        "modelEC.add(BatchNormalization())  # добавляем слой нормализации данных\n",
        "modelEC.add(Conv1D(20, 5, activation=\"relu\")) # добавляем одномерный сверточный слой, указывая кол-во фильтров и ширину окна для фильтров \n",
        "modelEC.add(Conv1D(20, 5, activation=\"relu\")) # добавляем одномерный сверточный слой, указывая кол-во фильтров и ширину окна для фильтров \n",
        "modelEC.add(MaxPooling1D(2)) # добавляем слой подвыборки/пулинга с функцией максимума\n",
        "modelEC.add(Dropout(0.2)) # добавляем слой регуляризации, \"выключая\" указанное количество нейронов, во избежание переобучения\n",
        "modelEC.add(BatchNormalization()) # добавляем слой нормализации данных\n",
        "modelEC.add(Conv1D(20, 5, activation=\"relu\")) # добавляем одномерный сверточный слой, указывая кол-во фильтров и ширину окна для фильтров \n",
        "modelEC.add(Conv1D(20, 5, activation=\"relu\")) # добавляем одномерный сверточный слой, указывая кол-во фильтров и ширину окна для фильтров \n",
        "modelEC.add(MaxPooling1D(2)) # добавляем слой подвыборки/пулинга с функцией максимума\n",
        "modelEC.add(Dropout(0.2)) # добавляем слой регуляризации, \"выключая\" указанное количество нейронов, во избежание переобучения\n",
        "modelEC.add(BatchNormalization()) # добавляем слой нормализации данных\n",
        "modelEC.add(Conv1D(20, 5, activation=\"relu\")) # добавляем одномерный сверточный слой, указывая кол-во фильтров и ширину окна для фильтров \n",
        "modelEC.add(Conv1D(20, 5, activation=\"relu\")) # добавляем одномерный сверточный слой, указывая кол-во фильтров и ширину окна для фильтров \n",
        "modelEC.add(MaxPooling1D(2)) # добавляем слой подвыборки/пулинга с функцией максимума\n",
        "modelEC.add(Dropout(0.2)) # добавляем слой регуляризации, \"выключая\" указанное количество нейронов, во избежание переобучения\n",
        "modelEC.add(BatchNormalization()) # добавляем слой нормализации данных\n",
        "modelEC.add(Flatten()) # добавляем слой выравнивания/сглаживания (\"сплющиваем\" данные в вектор)\n",
        "modelEC.add(Dense(64, activation='relu')) # добавляем полносвязный слой на 64 нейрона, с функцией активации relu\n",
        "modelEC.add(Dense(6, activation='softmax')) # добавляем полносвязный слой на 6 нейронов, с функцией активации softmax на выходном слое\n",
        "\n",
        "# Компиляция, составление модели с выбором алгоритма оптимизации, функции потерь и метрики точности\n",
        "modelEC.compile(optimizer='rmsprop', \n",
        "              loss='categorical_crossentropy', \n",
        "              metrics=['accuracy'])\n",
        "\n",
        "# Обучаем сеть с указанием тренировочной выборки, количества эпох, размера минибатча для подачи сети, и тестовой выборки\n",
        "history = modelEC.fit(xTrain, \n",
        "                    yTrain, \n",
        "                    epochs=20,\n",
        "                    batch_size=200,\n",
        "                    validation_data=(xTest, yTest))\n",
        "\n",
        "# Строим график для отображения динамики обучения и точности предсказания сети\n",
        "plt.plot(history.history['accuracy'], \n",
        "         label='Доля верных ответов на обучающем наборе')\n",
        "plt.plot(history.history['val_accuracy'], \n",
        "         label='Доля верных ответов на проверочном наборе')\n",
        "plt.xlabel('Эпоха обучения')\n",
        "plt.ylabel('Доля верных ответов')\n",
        "plt.legend()\n",
        "plt.show()\n",
        "\n",
        "pred = recognizeMultiClass(modelEC, xTest6Classes, \"Embedding + Dense\") #функция покажет какие классы и как распознаны верно"
      ],
      "execution_count": 0,
      "outputs": [
        {
          "output_type": "stream",
          "text": [
            "Train on 15779 samples, validate on 5674 samples\n",
            "Epoch 1/20\n",
            "15779/15779 [==============================] - 4s 224us/sample - loss: 1.5823 - acc: 0.3974 - val_loss: 2.2837 - val_acc: 0.0740\n",
            "Epoch 2/20\n",
            "15779/15779 [==============================] - 1s 90us/sample - loss: 0.3208 - acc: 0.8800 - val_loss: 5.3224 - val_acc: 0.3416\n",
            "Epoch 3/20\n",
            "15779/15779 [==============================] - 1s 90us/sample - loss: 0.0518 - acc: 0.9828 - val_loss: 5.4723 - val_acc: 0.0763\n",
            "Epoch 4/20\n",
            "15779/15779 [==============================] - 1s 89us/sample - loss: 0.0285 - acc: 0.9907 - val_loss: 5.0671 - val_acc: 0.3107\n",
            "Epoch 5/20\n",
            "15779/15779 [==============================] - 1s 89us/sample - loss: 0.0278 - acc: 0.9913 - val_loss: 1.8150 - val_acc: 0.5617\n",
            "Epoch 6/20\n",
            "15779/15779 [==============================] - 1s 90us/sample - loss: 0.0212 - acc: 0.9938 - val_loss: 1.4070 - val_acc: 0.7046\n",
            "Epoch 7/20\n",
            "15779/15779 [==============================] - 1s 90us/sample - loss: 0.0167 - acc: 0.9949 - val_loss: 2.0091 - val_acc: 0.6861\n",
            "Epoch 8/20\n",
            "15779/15779 [==============================] - 1s 89us/sample - loss: 0.0149 - acc: 0.9952 - val_loss: 1.5585 - val_acc: 0.7452\n",
            "Epoch 9/20\n",
            "15779/15779 [==============================] - 1s 90us/sample - loss: 0.0088 - acc: 0.9973 - val_loss: 0.8629 - val_acc: 0.8202\n",
            "Epoch 10/20\n",
            "15779/15779 [==============================] - 1s 91us/sample - loss: 0.0145 - acc: 0.9961 - val_loss: 1.7931 - val_acc: 0.7437\n",
            "Epoch 11/20\n",
            "15779/15779 [==============================] - 1s 91us/sample - loss: 0.0143 - acc: 0.9960 - val_loss: 1.5670 - val_acc: 0.7552\n",
            "Epoch 12/20\n",
            "15779/15779 [==============================] - 1s 90us/sample - loss: 0.0123 - acc: 0.9960 - val_loss: 1.0308 - val_acc: 0.7779\n",
            "Epoch 13/20\n",
            "15779/15779 [==============================] - 1s 90us/sample - loss: 0.0099 - acc: 0.9975 - val_loss: 1.1456 - val_acc: 0.7836\n",
            "Epoch 14/20\n",
            "15779/15779 [==============================] - 1s 89us/sample - loss: 0.0133 - acc: 0.9966 - val_loss: 1.8732 - val_acc: 0.7619\n",
            "Epoch 15/20\n",
            "15779/15779 [==============================] - 1s 88us/sample - loss: 0.0084 - acc: 0.9973 - val_loss: 1.1762 - val_acc: 0.7980\n",
            "Epoch 16/20\n",
            "15779/15779 [==============================] - 1s 91us/sample - loss: 0.0100 - acc: 0.9974 - val_loss: 1.7751 - val_acc: 0.7092\n",
            "Epoch 17/20\n",
            "15779/15779 [==============================] - 1s 90us/sample - loss: 0.0103 - acc: 0.9971 - val_loss: 2.5473 - val_acc: 0.7004\n",
            "Epoch 18/20\n",
            "15779/15779 [==============================] - 1s 91us/sample - loss: 0.0120 - acc: 0.9970 - val_loss: 1.5400 - val_acc: 0.7481\n",
            "Epoch 19/20\n",
            "15779/15779 [==============================] - 1s 91us/sample - loss: 0.0101 - acc: 0.9975 - val_loss: 2.0297 - val_acc: 0.6928\n",
            "Epoch 20/20\n",
            "15779/15779 [==============================] - 1s 91us/sample - loss: 0.0093 - acc: 0.9976 - val_loss: 1.6733 - val_acc: 0.7344\n"
          ],
          "name": "stdout"
        },
        {
          "output_type": "display_data",
          "data": {
            "image/png": "[encoded data removed]",
            "text/plain": [
              "<Figure size 432x288 with 1 Axes>"
            ]
          },
          "metadata": {
            "tags": []
          }
        },
        {
          "output_type": "stream",
          "text": [
            "НЕЙРОНКА:  Embedding + Dense\n",
            "\n",
            "О. Генри  распознано  100 % сеть считает, что это  О. Генри ,  распознано ВЕРНО!\n",
            "Стругацкие  распознано  35 % сеть считает, что это  Стругацкие ,  распознано ВЕРНО!\n",
            "Булгаков  распознано  80 % сеть считает, что это  Булгаков ,  распознано ВЕРНО!\n",
            "Саймак  распознано  22 % сеть считает, что это  О. Генри ,  распознано НЕ ВЕРНО!\n",
            "Фрай  распознано  78 % сеть считает, что это  Фрай ,  распознано ВЕРНО!\n",
            "Брэдбери  распознано  99 % сеть считает, что это  Брэдбери ,  распознано ВЕРНО!\n",
            "\n",
            "Средний процент распознавания  73 %\n",
            "\n"
          ],
          "name": "stdout"
        }
      ]
    },
    {
      "cell_type": "code",
      "metadata": {
        "id": "eJ-Utwhs08WH",
        "colab_type": "code",
        "outputId": "0605f879-1e84-41a3-8776-8ed0abd11459",
        "colab": {
          "base_uri": "https://localhost:8080/",
          "height": 578
        }
      },
      "source": [
        "modelEC = Sequential() # создаём последовательную модель нейросети\n",
        "# преобразовываем каждое слово в многомерный вектор c указанием размерности вектора и длины входных данных\n",
        "modelEC.add(Embedding(maxWordsCount, 50, input_length=xLen))\n",
        "\n",
        "modelEC.add(SpatialDropout1D(0.2)) # добавляем слой регуляризации, \"выключая\" 1D карты объектов из эмбединг векторов, во избежание переобучения\n",
        "modelEC.add(BatchNormalization())  # добавляем слой нормализации данных\n",
        "modelEC.add(Conv1D(20, 5, activation=\"relu\")) # добавляем одномерный сверточный слой, указывая кол-во фильтров и ширину окна для фильтров \n",
        "modelEC.add(MaxPooling1D(2)) # добавляем слой подвыборки/пулинга с функцией максимума\n",
        "modelEC.add(Dropout(0.2)) # добавляем слой регуляризации, \"выключая\" указанное количество нейронов, во избежание переобучения\n",
        "modelEC.add(BatchNormalization()) # добавляем слой нормализации данных\n",
        "modelEC.add(GlobalMaxPooling1D()) # добавляем слой подвыборки/пулинга с функцией максимума(по всей длине входящей последовательности)\n",
        "#modelEC.add(Flatten()) # добавляем слой выравнивания/сглаживания (\"сплющиваем\" данные в вектор)\n",
        "modelEC.add(Dense(20, activation=\"relu\")) # добавляем полносвязный слой с указанием количества нейронов и функции активации\n",
        "modelEC.add(Dropout(0.2)) # добавляем слой регуляризации, \"выключая\" указанное количество нейронов, во избежание переобучения\n",
        "modelEC.add(BatchNormalization()) # добавляем слой нормализации данных\n",
        "modelEC.add(Dense(6, activation='softmax')) # добавляем полносвязный слой на 6 нейронов, с функцией активации softmax на выходном слое\n",
        "\n",
        "# Компиляция, составление модели с выбором алгоритма оптимизации, функции потерь и метрики точности\n",
        "modelEC.compile(optimizer='rmsprop', \n",
        "              loss='categorical_crossentropy', \n",
        "              metrics=['accuracy'])\n",
        "\n",
        "print(modelEC.summary()) # выведем на экран данные о модели"
      ],
      "execution_count": 0,
      "outputs": [
        {
          "output_type": "stream",
          "text": [
            "Model: \"sequential_21\"\n",
            "_________________________________________________________________\n",
            "Layer (type)                 Output Shape              Param #   \n",
            "=================================================================\n",
            "embedding_17 (Embedding)     (None, 1000, 50)          1000000   \n",
            "_________________________________________________________________\n",
            "spatial_dropout1d_17 (Spatia (None, 1000, 50)          0         \n",
            "_________________________________________________________________\n",
            "batch_normalization_44 (Batc (None, 1000, 50)          200       \n",
            "_________________________________________________________________\n",
            "conv1d_4 (Conv1D)            (None, 996, 20)           5020      \n",
            "_________________________________________________________________\n",
            "max_pooling1d_2 (MaxPooling1 (None, 498, 20)           0         \n",
            "_________________________________________________________________\n",
            "dropout_22 (Dropout)         (None, 498, 20)           0         \n",
            "_________________________________________________________________\n",
            "batch_normalization_45 (Batc (None, 498, 20)           80        \n",
            "_________________________________________________________________\n",
            "global_max_pooling1d_1 (Glob (None, 20)                0         \n",
            "_________________________________________________________________\n",
            "dense_30 (Dense)             (None, 20)                420       \n",
            "_________________________________________________________________\n",
            "dropout_23 (Dropout)         (None, 20)                0         \n",
            "_________________________________________________________________\n",
            "batch_normalization_46 (Batc (None, 20)                80        \n",
            "_________________________________________________________________\n",
            "dense_31 (Dense)             (None, 6)                 126       \n",
            "=================================================================\n",
            "Total params: 1,005,926\n",
            "Trainable params: 1,005,746\n",
            "Non-trainable params: 180\n",
            "_________________________________________________________________\n",
            "None\n"
          ],
          "name": "stdout"
        }
      ]
    },
    {
      "cell_type": "markdown",
      "metadata": {
        "id": "H2JfQMrkO3aQ",
        "colab_type": "text"
      },
      "source": [
        "**LSTM + Conv1D**\n",
        "\n",
        "*Разбор данного раздела:* https://youtu.be/6KmWDCavCtw?t=5790"
      ]
    },
    {
      "cell_type": "code",
      "metadata": {
        "id": "54BmRGsfPCNU",
        "colab_type": "code",
        "outputId": "2cc26679-6b1e-43cc-8dea-4d4460f65a6a",
        "colab": {
          "base_uri": "https://localhost:8080/",
          "height": 636
        }
      },
      "source": [
        "modelEC = Sequential() # создаём последовательную модель нейросети\n",
        "# преобразовываем каждое слово в многомерный вектор c указанием размерности вектора и длины входных данных\n",
        "modelEC.add(Embedding(maxWordsCount, 10, input_length=xLen))\n",
        "\n",
        "modelEC.add(SpatialDropout1D(0.2)) # добавляем слой регуляризации, \"выключая\" 1D карты объектов из эмбединг векторов, во избежание переобучения\n",
        "modelEC.add(LSTM(4, return_sequences=1)) # добавляем слой LSTM, совместимый с Cuda при поддержке GPU\n",
        "modelEC.add(Dense(100, activation='relu')) # добавляем полносвязный слой с указанием количества нейронов и функции активации\n",
        "modelEC.add(Conv1D(20, 5, activation=\"relu\")) # добавляем одномерный сверточный слой, указывая кол-во фильтров и ширину окна для фильтров \n",
        "modelEC.add(LSTM(4, return_sequences=1)) # добавляем слой LSTM, совместимый с Cuda при поддержке GPU\n",
        "modelEC.add(Dropout(0.2)) # добавляем слой регуляризации, \"выключая\" указанное количество нейронов, во избежание переобучения\n",
        "modelEC.add(BatchNormalization()) # добавляем слой нормализации данных\n",
        "modelEC.add(Conv1D(20, 5, activation=\"relu\")) # добавляем одномерный сверточный слой, указывая кол-во фильтров и ширину окна для фильтров \n",
        "modelEC.add(Conv1D(20, 5, activation=\"relu\")) # добавляем одномерный сверточный слой, указывая кол-во фильтров и ширину окна для фильтров \n",
        "modelEC.add(MaxPooling1D(2)) # добавляем слой подвыборки/пулинга с функцией максимума\n",
        "modelEC.add(Dropout(0.2)) # добавляем слой регуляризации, \"выключая\" указанное количество нейронов, во избежание переобучения\n",
        "modelEC.add(BatchNormalization()) # добавляем слой нормализации данных\n",
        "modelEC.add(Flatten()) # добавляем слой выравнивания/сглаживания (\"сплющиваем\" данные в вектор)\n",
        "modelEC.add(Dense(6, activation='softmax')) # добавляем полносвязный слой на 6 нейронов, с функцией активации softmax на выходном слое\n",
        "\n",
        "# Компиляция, составление модели с выбором алгоритма оптимизации, функции потерь и метрики точности\n",
        "modelEC.compile(optimizer='rmsprop', \n",
        "              loss='categorical_crossentropy', \n",
        "              metrics=['accuracy'])\n",
        "\n",
        "# Обучаем сеть с указанием тренировочной выборки, количества эпох, размера минибатча для подачи сети, и тестовой выборки\n",
        "history = modelEC.fit(xTrain, \n",
        "                    yTrain, \n",
        "                    epochs=5,\n",
        "                    batch_size=200,\n",
        "                    validation_data=(xTest, yTest))\n",
        "\n",
        "# Строим график для отображения динамики обучения и точности предсказания сети\n",
        "plt.plot(history.history['accuracy'], \n",
        "         label='Доля верных ответов на обучающем наборе')\n",
        "plt.plot(history.history['val_accuracy'], \n",
        "         label='Доля верных ответов на проверочном наборе')\n",
        "plt.xlabel('Эпоха обучения')\n",
        "plt.ylabel('Доля верных ответов')\n",
        "plt.legend()\n",
        "plt.show()\n",
        "\n",
        "pred = recognizeMultiClass(modelEC, xTest6Classes, \"Embedding + Dense\") #функция покажет какие классы и как распознаны верно"
      ],
      "execution_count": 0,
      "outputs": [
        {
          "output_type": "stream",
          "text": [
            "Epoch 1/5\n",
            "89/89 [==============================] - 13s 145ms/step - loss: 0.6219 - accuracy: 0.7518 - val_loss: 2.7469 - val_accuracy: 0.1969\n",
            "Epoch 2/5\n",
            "89/89 [==============================] - 12s 135ms/step - loss: 0.0595 - accuracy: 0.9818 - val_loss: 3.4860 - val_accuracy: 0.1969\n",
            "Epoch 3/5\n",
            "89/89 [==============================] - 12s 135ms/step - loss: 0.0354 - accuracy: 0.9894 - val_loss: 3.5467 - val_accuracy: 0.2017\n",
            "Epoch 4/5\n",
            "89/89 [==============================] - 12s 134ms/step - loss: 0.0220 - accuracy: 0.9929 - val_loss: 4.2516 - val_accuracy: 0.3590\n",
            "Epoch 5/5\n",
            "89/89 [==============================] - 12s 134ms/step - loss: 0.0201 - accuracy: 0.9941 - val_loss: 8.9961 - val_accuracy: 0.2742\n"
          ],
          "name": "stdout"
        },
        {
          "output_type": "display_data",
          "data": {
            "image/png": "[encoded data removed]",
            "text/plain": [
              "<Figure size 432x288 with 1 Axes>"
            ]
          },
          "metadata": {
            "tags": [],
            "needs_background": "light"
          }
        },
        {
          "output_type": "stream",
          "text": [
            "НЕЙРОНКА:  Embedding + Dense\n",
            "\n",
            "О. Генри  распознано  0 % сеть считает, что это  Булгаков ,  распознано НЕ ВЕРНО!\n",
            "Стругацкие  распознано  58 % сеть считает, что это  Стругацкие ,  распознано ВЕРНО!\n",
            "Булгаков  распознано  91 % сеть считает, что это  Булгаков ,  распознано ВЕРНО!\n",
            "Саймак  распознано  0 % сеть считает, что это  Стругацкие ,  распознано НЕ ВЕРНО!\n",
            "Фрай  распознано  0 % сеть считает, что это  Стругацкие ,  распознано НЕ ВЕРНО!\n",
            "Брэдбери  распознано  0 % сеть считает, что это  Стругацкие ,  распознано НЕ ВЕРНО!\n",
            "\n",
            "Средний процент распознавания  27 %\n",
            "\n"
          ],
          "name": "stdout"
        }
      ]
    },
    {
      "cell_type": "code",
      "metadata": {
        "id": "HhiJg1hA-OVN",
        "colab_type": "code",
        "outputId": "79e809c8-f566-4dc0-a89d-62d3d18eaab9",
        "colab": {
          "base_uri": "https://localhost:8080/",
          "height": 680
        }
      },
      "source": [
        "modelEC = Sequential() # создаём последовательную модель нейросети\n",
        "# преобразовываем каждое слово в многомерный вектор c указанием размерности вектора и длины входных данных\n",
        "modelEC.add(Embedding(maxWordsCount, 10, input_length=xLen))\n",
        "\n",
        "modelEC.add(SpatialDropout1D(0.2)) # добавляем слой регуляризации, \"выключая\" 1D карты объектов из эмбединг векторов, во избежание переобучения\n",
        "modelEC.add(LSTM(4, return_sequences=1)) # добавляем слой LSTM, совместимый с Cuda при поддержке GPU\n",
        "modelEC.add(Dense(100, activation='relu')) # добавляем полносвязный слой с указанием количества нейронов и функции активации\n",
        "modelEC.add(Conv1D(20, 5, activation=\"relu\")) # добавляем одномерный сверточный слой, указывая кол-во фильтров и ширину окна для фильтров \n",
        "modelEC.add(LSTM(4, return_sequences=1)) # добавляем слой LSTM, совместимый с Cuda при поддержке GPU\n",
        "modelEC.add(Dropout(0.2)) # добавляем слой регуляризации, \"выключая\" указанное количество нейронов, во избежание переобучения\n",
        "modelEC.add(BatchNormalization()) # добавляем слой нормализации данных\n",
        "modelEC.add(Conv1D(20, 5, activation=\"relu\")) # добавляем одномерный сверточный слой, указывая кол-во фильтров и ширину окна для фильтров \n",
        "modelEC.add(Conv1D(20, 5, activation=\"relu\")) # добавляем одномерный сверточный слой, указывая кол-во фильтров и ширину окна для фильтров \n",
        "modelEC.add(MaxPooling1D(2)) # добавляем слой подвыборки/пулинга с функцией максимума\n",
        "modelEC.add(Dropout(0.2)) # добавляем слой регуляризации, \"выключая\" указанное количество нейронов, во избежание переобучения\n",
        "modelEC.add(BatchNormalization()) # добавляем слой нормализации данных\n",
        "modelEC.add(Flatten()) # добавляем слой выравнивания/сглаживания (\"сплющиваем\" данные в вектор)\n",
        "modelEC.add(Dense(6, activation='softmax')) # добавляем полносвязный слой на 6 нейронов, с функцией активации softmax на выходном слое\n",
        "\n",
        "# Компиляция, составление модели с выбором алгоритма оптимизации, функции потерь и метрики точности\n",
        "modelEC.compile(optimizer='rmsprop', \n",
        "              loss='categorical_crossentropy', \n",
        "              metrics=['accuracy'])\n",
        "\n",
        "print(modelEC.summary()) # выведем на экран данные о модели"
      ],
      "execution_count": 0,
      "outputs": [
        {
          "output_type": "stream",
          "text": [
            "Model: \"sequential_23\"\n",
            "_________________________________________________________________\n",
            "Layer (type)                 Output Shape              Param #   \n",
            "=================================================================\n",
            "embedding_19 (Embedding)     (None, 1000, 10)          200000    \n",
            "_________________________________________________________________\n",
            "spatial_dropout1d_19 (Spatia (None, 1000, 10)          0         \n",
            "_________________________________________________________________\n",
            "lstm_13 (LSTM)               (None, 1000, 4)           240       \n",
            "_________________________________________________________________\n",
            "dense_34 (Dense)             (None, 1000, 100)         500       \n",
            "_________________________________________________________________\n",
            "conv1d_8 (Conv1D)            (None, 996, 20)           10020     \n",
            "_________________________________________________________________\n",
            "lstm_14 (LSTM)               (None, 996, 4)            400       \n",
            "_________________________________________________________________\n",
            "dropout_26 (Dropout)         (None, 996, 4)            0         \n",
            "_________________________________________________________________\n",
            "batch_normalization_49 (Batc (None, 996, 4)            16        \n",
            "_________________________________________________________________\n",
            "conv1d_9 (Conv1D)            (None, 992, 20)           420       \n",
            "_________________________________________________________________\n",
            "conv1d_10 (Conv1D)           (None, 988, 20)           2020      \n",
            "_________________________________________________________________\n",
            "max_pooling1d_4 (MaxPooling1 (None, 494, 20)           0         \n",
            "_________________________________________________________________\n",
            "dropout_27 (Dropout)         (None, 494, 20)           0         \n",
            "_________________________________________________________________\n",
            "batch_normalization_50 (Batc (None, 494, 20)           80        \n",
            "_________________________________________________________________\n",
            "flatten_6 (Flatten)          (None, 9880)              0         \n",
            "_________________________________________________________________\n",
            "dense_35 (Dense)             (None, 6)                 59286     \n",
            "=================================================================\n",
            "Total params: 272,982\n",
            "Trainable params: 272,934\n",
            "Non-trainable params: 48\n",
            "_________________________________________________________________\n",
            "None\n"
          ],
          "name": "stdout"
        }
      ]
    },
    {
      "cell_type": "code",
      "metadata": {
        "id": "km4p9EEH51rn",
        "colab_type": "code",
        "outputId": "7af7a525-0632-4c63-e0b5-0c6c8d59c842",
        "colab": {
          "base_uri": "https://localhost:8080/",
          "height": 680
        }
      },
      "source": [
        "print(modelEC.summary()) # выведем на экран данные о модели"
      ],
      "execution_count": 0,
      "outputs": [
        {
          "output_type": "stream",
          "text": [
            "Model: \"sequential_23\"\n",
            "_________________________________________________________________\n",
            "Layer (type)                 Output Shape              Param #   \n",
            "=================================================================\n",
            "embedding_19 (Embedding)     (None, 1000, 10)          200000    \n",
            "_________________________________________________________________\n",
            "spatial_dropout1d_19 (Spatia (None, 1000, 10)          0         \n",
            "_________________________________________________________________\n",
            "lstm_13 (LSTM)               (None, 1000, 4)           240       \n",
            "_________________________________________________________________\n",
            "dense_34 (Dense)             (None, 1000, 100)         500       \n",
            "_________________________________________________________________\n",
            "conv1d_8 (Conv1D)            (None, 996, 20)           10020     \n",
            "_________________________________________________________________\n",
            "lstm_14 (LSTM)               (None, 996, 4)            400       \n",
            "_________________________________________________________________\n",
            "dropout_26 (Dropout)         (None, 996, 4)            0         \n",
            "_________________________________________________________________\n",
            "batch_normalization_49 (Batc (None, 996, 4)            16        \n",
            "_________________________________________________________________\n",
            "conv1d_9 (Conv1D)            (None, 992, 20)           420       \n",
            "_________________________________________________________________\n",
            "conv1d_10 (Conv1D)           (None, 988, 20)           2020      \n",
            "_________________________________________________________________\n",
            "max_pooling1d_4 (MaxPooling1 (None, 494, 20)           0         \n",
            "_________________________________________________________________\n",
            "dropout_27 (Dropout)         (None, 494, 20)           0         \n",
            "_________________________________________________________________\n",
            "batch_normalization_50 (Batc (None, 494, 20)           80        \n",
            "_________________________________________________________________\n",
            "flatten_6 (Flatten)          (None, 9880)              0         \n",
            "_________________________________________________________________\n",
            "dense_35 (Dense)             (None, 6)                 59286     \n",
            "=================================================================\n",
            "Total params: 272,982\n",
            "Trainable params: 272,934\n",
            "Non-trainable params: 48\n",
            "_________________________________________________________________\n",
            "None\n"
          ],
          "name": "stdout"
        }
      ]
    },
    {
      "cell_type": "markdown",
      "metadata": {
        "id": "dYzwVSOeQJ_D",
        "colab_type": "text"
      },
      "source": [
        "**Conv1D + LSTM**"
      ]
    },
    {
      "cell_type": "code",
      "metadata": {
        "id": "i42i-OWsQIzH",
        "colab_type": "code",
        "outputId": "738d1e3d-5fd4-47c4-cd67-df60a3bd4b6b",
        "colab": {
          "base_uri": "https://localhost:8080/",
          "height": 636
        }
      },
      "source": [
        "modelEC = Sequential() # создаём последовательную модель нейросети\n",
        "# преобразовываем каждое слово в многомерный вектор c указанием размерности вектора и длины входных данных\n",
        "modelEC.add(Embedding(maxWordsCount, 10, input_length=xLen))\n",
        "\n",
        "modelEC.add(SpatialDropout1D(0.2)) # добавляем слой регуляризации, \"выключая\" 1D карты объектов из эмбединг векторов, во избежание переобучения\n",
        "modelEC.add(Conv1D(20, 5, activation=\"relu\")) # добавляем одномерный сверточный слой, указывая кол-во фильтров и ширину окна для фильтров\n",
        "modelEC.add(MaxPooling1D(2)) # добавляем слой подвыборки/пулинга с функцией максимума\n",
        "modelEC.add(Dropout(0.2)) # добавляем слой регуляризации, \"выключая\" указанное количество нейронов, во избежание переобучения\n",
        "modelEC.add(BatchNormalization()) # добавляем слой нормализации данных\n",
        "modelEC.add(LSTM(4, return_sequences=1)) # добавляем слой LSTM, совместимый с Cuda при поддержке GPU\n",
        "modelEC.add(Dropout(0.2)) # добавляем слой регуляризации, \"выключая\" указанное количество нейронов, во избежание переобучения\n",
        "modelEC.add(BatchNormalization()) # добавляем слой нормализации данных\n",
        "modelEC.add(Flatten()) # добавляем слой выравнивания/сглаживания (\"сплющиваем\" данные в вектор)\n",
        "modelEC.add(Dense(6, activation='softmax')) # добавляем полносвязный слой на 6 нейронов, с функцией активации softmax на выходном слое\n",
        "\n",
        "# Компиляция, составление модели с выбором алгоритма оптимизации, функции потерь и метрики точности\n",
        "modelEC.compile(optimizer='rmsprop', \n",
        "              loss='categorical_crossentropy', \n",
        "              metrics=['accuracy'])\n",
        "\n",
        "# Обучаем сеть с указанием тренировочной выборки, количества эпох, размера минибатча для подачи сети, и тестовой выборки\n",
        "history = modelEC.fit(xTrain, \n",
        "                    yTrain, \n",
        "                    epochs=5,\n",
        "                    batch_size=200,\n",
        "                    validation_data=(xTest, yTest))\n",
        "\n",
        "# Строим график для отображения динамики обучения и точности предсказания сети\n",
        "plt.plot(history.history['accuracy'], \n",
        "         label='Доля верных ответов на обучающем наборе')\n",
        "plt.plot(history.history['val_accuracy'], \n",
        "         label='Доля верных ответов на проверочном наборе')\n",
        "plt.xlabel('Эпоха обучения')\n",
        "plt.ylabel('Доля верных ответов')\n",
        "plt.legend()\n",
        "plt.show()\n",
        "\n",
        "pred = recognizeMultiClass(modelEC, xTest6Classes, \"Embedding + Dense\") # функция покажет какие классы и как распознаны верно"
      ],
      "execution_count": 0,
      "outputs": [
        {
          "output_type": "stream",
          "text": [
            "Epoch 1/5\n",
            "89/89 [==============================] - 4s 44ms/step - loss: 1.0646 - accuracy: 0.6184 - val_loss: 2.6722 - val_accuracy: 0.1611\n",
            "Epoch 2/5\n",
            "89/89 [==============================] - 3s 39ms/step - loss: 0.0633 - accuracy: 0.9789 - val_loss: 3.8975 - val_accuracy: 0.1611\n",
            "Epoch 3/5\n",
            "89/89 [==============================] - 3s 39ms/step - loss: 0.0173 - accuracy: 0.9943 - val_loss: 3.8863 - val_accuracy: 0.1611\n",
            "Epoch 4/5\n",
            "89/89 [==============================] - 3s 39ms/step - loss: 0.0162 - accuracy: 0.9950 - val_loss: 4.4081 - val_accuracy: 0.3043\n",
            "Epoch 5/5\n",
            "89/89 [==============================] - 3s 39ms/step - loss: 0.0111 - accuracy: 0.9967 - val_loss: 4.4058 - val_accuracy: 0.3635\n"
          ],
          "name": "stdout"
        },
        {
          "output_type": "display_data",
          "data": {
            "image/png": "[encoded data removed]",
            "text/plain": [
              "<Figure size 432x288 with 1 Axes>"
            ]
          },
          "metadata": {
            "tags": [],
            "needs_background": "light"
          }
        },
        {
          "output_type": "stream",
          "text": [
            "НЕЙРОНКА:  Embedding + Dense\n",
            "\n",
            "О. Генри  распознано  18 % сеть считает, что это  Стругацкие ,  распознано НЕ ВЕРНО!\n",
            "Стругацкие  распознано  100 % сеть считает, что это  Стругацкие ,  распознано ВЕРНО!\n",
            "Булгаков  распознано  0 % сеть считает, что это  Стругацкие ,  распознано НЕ ВЕРНО!\n",
            "Саймак  распознано  10 % сеть считает, что это  Стругацкие ,  распознано НЕ ВЕРНО!\n",
            "Фрай  распознано  61 % сеть считает, что это  Фрай ,  распознано ВЕРНО!\n",
            "Брэдбери  распознано  0 % сеть считает, что это  Стругацкие ,  распознано НЕ ВЕРНО!\n",
            "\n",
            "Средний процент распознавания  36 %\n",
            "\n"
          ],
          "name": "stdout"
        }
      ]
    },
    {
      "cell_type": "markdown",
      "metadata": {
        "id": "Uglrz8xmRo2k",
        "colab_type": "text"
      },
      "source": [
        "**Дообучение**"
      ]
    },
    {
      "cell_type": "code",
      "metadata": {
        "id": "oh21__CtRsm1",
        "colab_type": "code",
        "outputId": "b48ab11a-9cd0-4e79-f8cc-0c37f1be453e",
        "colab": {
          "base_uri": "https://localhost:8080/",
          "height": 1000
        }
      },
      "source": [
        "modelEL = Sequential() # создаём последовательную модель нейросети\n",
        "# преобразовываем каждое слово в многомерный вектор c указанием размерности вектора и длины входных данных\n",
        "modelEL.add(Embedding(maxWordsCount, 10, input_length=xLen))\n",
        "\n",
        "modelEL.add(SpatialDropout1D(0.4)) # добавляем слой регуляризации, \"выключая\" 1D карты объектов из эмбединг векторов, во избежание переобучения\n",
        "modelEL.add(BatchNormalization()) # добавляем слой нормализации данных\n",
        "modelEL.add(GRU(4)) # добавляем слой GRU, совместимый с Cuda при поддержке GPU\n",
        "modelEL.add(Dropout(0.5)) # добавляем слой регуляризации, \"выключая\" указанное количество нейронов, во избежание переобучения\n",
        "modelEL.add(BatchNormalization()) # добавляем слой нормализации данных\n",
        "modelEL.add(Dense(6, activation='softmax')) # добавляем полносвязный слой на 6 нейронов, с функцией активации softmax на выходном слое\n",
        "\n",
        "# Компиляция, составление модели с выбором алгоритма оптимизации, функции потерь и метрики точности\n",
        "modelEL.compile(optimizer='rmsprop', \n",
        "              loss='categorical_crossentropy', \n",
        "              metrics=['accuracy'])\n",
        "\n",
        "# Обучаем сеть с указанием тренировочной выборки, количества эпох, размера минибатча для подачи сети, и тестовой выборки\n",
        "history1 = modelEL.fit(xTrain, \n",
        "                    yTrain, \n",
        "                    epochs=5,\n",
        "                    batch_size=200,\n",
        "                    validation_data=(xTest, yTest))\n",
        "# Снова компиляция, составление модели с выбором алгоритма оптимизации, функции потерь и метрики точности\n",
        "modelEL.compile(optimizer='rmsprop', \n",
        "             loss='categorical_crossentropy', \n",
        "             metrics=['accuracy'])\n",
        "\n",
        "# Дообучаем сеть с указанием тренировочной выборки, количества эпох, размера минибатча для подачи сети, и тестовой выборки\n",
        "history2 = modelEL.fit(xTrain, \n",
        "                    yTrain, \n",
        "                    epochs=5,\n",
        "                    batch_size=200,\n",
        "                    validation_data=(xTest, yTest))\n",
        "\n",
        "# Строим 1й график для отображения динамики обучения и точности предсказания сети\n",
        "plt.plot(history1.history['accuracy'], \n",
        "         label='Доля верных ответов на обучающем наборе')\n",
        "plt.plot(history1.history['val_accuracy'], \n",
        "         label='Доля верных ответов на проверочном наборе')\n",
        "plt.xlabel('Эпоха обучения')\n",
        "plt.ylabel('Доля верных ответов')\n",
        "plt.legend()\n",
        "plt.show()\n",
        "\n",
        "# Строим 2й график для отображения динамики обучения и точности предсказания сети\n",
        "plt.plot(history2.history['accuracy'], \n",
        "         label='Доля верных ответов на обучающем наборе')\n",
        "plt.plot(history2.history['val_accuracy'], \n",
        "         label='Доля верных ответов на проверочном наборе')\n",
        "plt.xlabel('Эпоха обучения')\n",
        "plt.ylabel('Доля верных ответов')\n",
        "plt.legend()\n",
        "plt.show()\n",
        "\n",
        "pred = recognizeMultiClass(modelEL, xTest6Classes, \"Embedding + LSTM\") # функция покажет какие классы и как распознаны верно"
      ],
      "execution_count": 0,
      "outputs": [
        {
          "output_type": "stream",
          "text": [
            "Epoch 1/5\n",
            "89/89 [==============================] - 6s 63ms/step - loss: 1.9061 - accuracy: 0.1921 - val_loss: 1.7672 - val_accuracy: 0.2916\n",
            "Epoch 2/5\n",
            "89/89 [==============================] - 5s 59ms/step - loss: 1.7676 - accuracy: 0.2623 - val_loss: 1.7505 - val_accuracy: 0.2928\n",
            "Epoch 3/5\n",
            "89/89 [==============================] - 5s 59ms/step - loss: 1.7004 - accuracy: 0.3097 - val_loss: 1.7343 - val_accuracy: 0.2928\n",
            "Epoch 4/5\n",
            "89/89 [==============================] - 5s 58ms/step - loss: 1.6498 - accuracy: 0.3430 - val_loss: 1.7166 - val_accuracy: 0.2922\n",
            "Epoch 5/5\n",
            "89/89 [==============================] - 5s 59ms/step - loss: 1.6121 - accuracy: 0.3611 - val_loss: 1.7019 - val_accuracy: 0.2964\n",
            "Epoch 1/5\n",
            "89/89 [==============================] - 6s 62ms/step - loss: 1.5592 - accuracy: 0.3792 - val_loss: 1.6752 - val_accuracy: 0.3145\n",
            "Epoch 2/5\n",
            "89/89 [==============================] - 5s 58ms/step - loss: 1.4876 - accuracy: 0.4066 - val_loss: 1.6559 - val_accuracy: 0.3314\n",
            "Epoch 3/5\n",
            "89/89 [==============================] - 5s 59ms/step - loss: 1.4082 - accuracy: 0.4352 - val_loss: 1.5893 - val_accuracy: 0.3681\n",
            "Epoch 4/5\n",
            "89/89 [==============================] - 5s 59ms/step - loss: 1.3230 - accuracy: 0.4656 - val_loss: 1.5534 - val_accuracy: 0.3844\n",
            "Epoch 5/5\n",
            "89/89 [==============================] - 5s 58ms/step - loss: 1.2497 - accuracy: 0.4865 - val_loss: 1.4404 - val_accuracy: 0.4260\n"
          ],
          "name": "stdout"
        },
        {
          "output_type": "display_data",
          "data": {
            "image/png": "[encoded data removed]",
            "text/plain": [
              "<Figure size 432x288 with 1 Axes>"
            ]
          },
          "metadata": {
            "tags": [],
            "needs_background": "light"
          }
        },
        {
          "output_type": "display_data",
          "data": {
            "image/png": "[encoded data removed]",
            "text/plain": [
              "<Figure size 432x288 with 1 Axes>"
            ]
          },
          "metadata": {
            "tags": [],
            "needs_background": "light"
          }
        },
        {
          "output_type": "stream",
          "text": [
            "НЕЙРОНКА:  Embedding + LSTM\n",
            "\n",
            "О. Генри  распознано  0 % сеть считает, что это  Стругацкие ,  распознано НЕ ВЕРНО!\n",
            "Стругацкие  распознано  37 % сеть считает, что это  Стругацкие ,  распознано ВЕРНО!\n",
            "Булгаков  распознано  57 % сеть считает, что это  Булгаков ,  распознано ВЕРНО!\n",
            "Саймак  распознано  1 % сеть считает, что это  Фрай ,  распознано НЕ ВЕРНО!\n",
            "Фрай  распознано  79 % сеть считает, что это  Фрай ,  распознано ВЕРНО!\n",
            "Брэдбери  распознано  9 % сеть считает, что это  Стругацкие ,  распознано НЕ ВЕРНО!\n",
            "\n",
            "Средний процент распознавания  42 %\n",
            "\n"
          ],
          "name": "stdout"
        }
      ]
    }
  ]
}