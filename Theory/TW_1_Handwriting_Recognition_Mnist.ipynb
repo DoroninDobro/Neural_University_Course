{
  "nbformat": 4,
  "nbformat_minor": 0,
  "metadata": {
    "colab": {
      "name": "Апрельский курс (2020). Pro. Занятие 1",
      "provenance": [],
      "collapsed_sections": [
        "jjqH_JaURnnK",
        "c4pg0HUQCdFk",
        "MMkWv4VhC2ti",
        "iD7hR5hXNLUe",
        "rrWmNM6jKBrc",
        "rstrtRs2O1so",
        "5BUXluCMWpMB",
        "dntk9WK6TbA-",
        "6tP0Iq2NX9qK",
        "c3-PovDMb2TU",
        "n3UgLD14-l72",
        "qLX9aj3eFCPB",
        "Pa2_uq889QCz"
      ]
    },
    "kernelspec": {
      "name": "python3",
      "display_name": "Python 3"
    },
    "accelerator": "GPU"
  },
  "cells": [
    {
      "cell_type": "markdown",
      "metadata": {
        "id": "vBvuSQtdCyPq",
        "colab_type": "text"
      },
      "source": [
        "Чтобы запускать и редактировать код, сохраните копию этого ноутбука себе (File->Save a copy in Drive...). Свою копию вы сможете изменять и запускать."
      ]
    },
    {
      "cell_type": "markdown",
      "metadata": {
        "id": "jjqH_JaURnnK",
        "colab_type": "text"
      },
      "source": [
        "# Создание простой нейронной сети\n",
        "\n",
        "*Разбор данного раздела:* https://youtu.be/lYcVD0Con-A?t=1143"
      ]
    },
    {
      "cell_type": "code",
      "metadata": {
        "id": "hBMkkgdRRgZd",
        "colab_type": "code",
        "colab": {}
      },
      "source": [
        "from tensorflow.keras.datasets import mnist #Библиотека с базой Mnist\n",
        "from tensorflow.keras.models import Sequential # Подлючаем класс создания модели Sequential\n",
        "from tensorflow.keras.layers import Dense # Подключаем класс Dense - полносвязный слой\n",
        "from tensorflow.keras.optimizers import Adam # Подключаем оптимизатор Adam\n",
        "from tensorflow.keras import utils #Утилиты для to_categorical\n",
        "from tensorflow.keras.preprocessing import image #Для отрисовки изображения\n",
        "import numpy as np # Подключаем библиотеку numpy\n",
        "import pylab # Модуль для построения графиков\n",
        "from mpl_toolkits.mplot3d import Axes3D # Модуль для трехмерной графики\n",
        "from google.colab import files #Для загрузки своей картинки\n",
        "import matplotlib.pyplot as plt #Отрисовка изображений\n",
        "from PIL import Image #Отрисовка изображений\n",
        "#Отрисовывать изображения в ноутбуке, а не в консоль или файл\n",
        "%matplotlib inline "
      ],
      "execution_count": 0,
      "outputs": []
    },
    {
      "cell_type": "code",
      "metadata": {
        "id": "DdB70L9oTpaX",
        "colab_type": "code",
        "colab": {}
      },
      "source": [
        "model = Sequential() # Создаем пустую модель нейронной сети\n",
        "model.add(Dense(2, input_dim = 2, use_bias=False)) # Добавляем полносвязный слой с 2мя нейронами (указываем, что на вход принимаем вектор из двух элементв) и отключаем использование нейрона смещения\n",
        "model.add(Dense(1, use_bias=False)) # Добавляем полносвязный слой с 1 нейроном (выходной слой нашей модели), здесь уже не требуется указывать размерность входных данных, и также отключаем использование нейрона смещения"
      ],
      "execution_count": 0,
      "outputs": []
    },
    {
      "cell_type": "code",
      "metadata": {
        "id": "C1BPKfEVU5k-",
        "colab_type": "code",
        "outputId": "ecba8895-8a45-4991-c3a2-3e2a3505870c",
        "colab": {
          "base_uri": "https://localhost:8080/",
          "height": 218
        }
      },
      "source": [
        "model.summary() # Отобразим данные созданной модели"
      ],
      "execution_count": 0,
      "outputs": [
        {
          "output_type": "stream",
          "text": [
            "Model: \"sequential\"\n",
            "_________________________________________________________________\n",
            "Layer (type)                 Output Shape              Param #   \n",
            "=================================================================\n",
            "dense (Dense)                (None, 2)                 4         \n",
            "_________________________________________________________________\n",
            "dense_1 (Dense)              (None, 1)                 2         \n",
            "=================================================================\n",
            "Total params: 6\n",
            "Trainable params: 6\n",
            "Non-trainable params: 0\n",
            "_________________________________________________________________\n"
          ],
          "name": "stdout"
        }
      ]
    },
    {
      "cell_type": "code",
      "metadata": {
        "id": "3qmopcttVC9A",
        "colab_type": "code",
        "outputId": "02bd6697-a634-4d5b-ab11-a98a69519193",
        "colab": {
          "base_uri": "https://localhost:8080/",
          "height": 67
        }
      },
      "source": [
        "weights = model.get_weights() # Получим веса нашей модели (генерируются случайным образом)\n",
        "print(weights) # Отбразим сгенерированные веса"
      ],
      "execution_count": 0,
      "outputs": [
        {
          "output_type": "stream",
          "text": [
            "[array([[ 0.8420919, -1.1485426],\n",
            "       [-0.8215822,  0.733376 ]], dtype=float32), array([[0.1165458],\n",
            "       [1.3065685]], dtype=float32)]\n"
          ],
          "name": "stdout"
        }
      ]
    },
    {
      "cell_type": "code",
      "metadata": {
        "id": "zH25v4fV7l7R",
        "colab_type": "code",
        "outputId": "2295b005-3d28-472c-966a-0b3f94c85dee",
        "colab": {
          "base_uri": "https://localhost:8080/",
          "height": 67
        }
      },
      "source": [
        "w1 = 0.42 # Зададим коэф. w1 вручную\n",
        "w2 = 0.15 # Зададим коэф. w2 вручную\n",
        "w3 = -0.56 # Зададим коэф. w3 вручную\n",
        "w4 = 0.83 # Зададим коэф. w4 вручную\n",
        "w5 = 0.93 # Зададим коэф. w5 вручную\n",
        "w6 = 0.02 # Зададим коэф. w6 вручную\n",
        "new_weight = [np.array([[w1,w3],[w2,w4]]), np.array([[w5],[w6]])] # Сформируем список весов\n",
        "print(new_weight) # Отобразим сформированный список весов\n",
        "model.set_weights(new_weight) # Устанавливаем модели свои собственные веса"
      ],
      "execution_count": 0,
      "outputs": [
        {
          "output_type": "stream",
          "text": [
            "[array([[ 0.42, -0.56],\n",
            "       [ 0.15,  0.83]]), array([[0.93],\n",
            "       [0.02]])]\n"
          ],
          "name": "stdout"
        }
      ]
    },
    {
      "cell_type": "code",
      "metadata": {
        "id": "yn9ZUfZh7saO",
        "colab_type": "code",
        "outputId": "cd8f62a2-4ac5-4e3d-f533-116ef656a03f",
        "colab": {
          "base_uri": "https://localhost:8080/",
          "height": 34
        }
      },
      "source": [
        "x1 = 7.2 # Установим значение x1\n",
        "x2 = -5.8 # Установим значение x2\n",
        "x_train = np.expand_dims(np.array([x1, x2]), 0) # Создадим набор данных для последующего обучения нейронной сети\n",
        "x_train.shape"
      ],
      "execution_count": 0,
      "outputs": [
        {
          "output_type": "execute_result",
          "data": {
            "text/plain": [
              "(1, 2)"
            ]
          },
          "metadata": {
            "tags": []
          },
          "execution_count": 6
        }
      ]
    },
    {
      "cell_type": "code",
      "metadata": {
        "id": "_HHEXTgN54ft",
        "colab_type": "code",
        "outputId": "2642b55a-20eb-430a-ea68-7c1a7dad7498",
        "colab": {
          "base_uri": "https://localhost:8080/",
          "height": 34
        }
      },
      "source": [
        "k = np.array([x1, x2])\n",
        "k.shape"
      ],
      "execution_count": 0,
      "outputs": [
        {
          "output_type": "execute_result",
          "data": {
            "text/plain": [
              "(2,)"
            ]
          },
          "metadata": {
            "tags": []
          },
          "execution_count": 11
        }
      ]
    },
    {
      "cell_type": "code",
      "metadata": {
        "id": "ceKeGvAr2lOa",
        "colab_type": "code",
        "outputId": "f0106945-ceb6-4c6c-807c-a6d71b485e9a",
        "colab": {
          "base_uri": "https://localhost:8080/",
          "height": 34
        }
      },
      "source": [
        "y_linear = model.predict(x_train) # Получим значение выхода сети, передав на вход вектор из двух элементов [x1, x2]\n",
        "print(y_linear) # Выведем результат работы сети"
      ],
      "execution_count": 0,
      "outputs": [
        {
          "output_type": "stream",
          "text": [
            "[[1.8262999]]\n"
          ],
          "name": "stdout"
        }
      ]
    },
    {
      "cell_type": "markdown",
      "metadata": {
        "id": "0Y6dbpFVBsHK",
        "colab_type": "text"
      },
      "source": [
        "**Посчитаем выход сети вручную**"
      ]
    },
    {
      "cell_type": "code",
      "metadata": {
        "id": "B4288wzs8JA2",
        "colab_type": "code",
        "outputId": "8f48f6a6-59f2-4bd6-befc-60fe71710344",
        "colab": {
          "base_uri": "https://localhost:8080/",
          "height": 50
        }
      },
      "source": [
        "H1 = x1 * w1 + x2 * w2 # Получим значение скрытого нейрона H1\n",
        "H2 = x1 * w3 + x2 * w4 # Получим значение скрытого нейрона H2\n",
        "print(H1) # Выведем значение нейрона H1\n",
        "print(H2) # Выведем значение нейрона H2"
      ],
      "execution_count": 0,
      "outputs": [
        {
          "output_type": "stream",
          "text": [
            "2.154\n",
            "-8.846\n"
          ],
          "name": "stdout"
        }
      ]
    },
    {
      "cell_type": "code",
      "metadata": {
        "id": "TR6mU4wq9E3O",
        "colab_type": "code",
        "outputId": "68b39540-b645-4e48-a665-c67b9b4a1339",
        "colab": {
          "base_uri": "https://localhost:8080/",
          "height": 34
        }
      },
      "source": [
        "Y_linear = H1 * w5 + H2 * w6 # Считаем выход сети\n",
        "print(Y_linear) # Отобразим вывод сети, посчитанный вручную"
      ],
      "execution_count": 0,
      "outputs": [
        {
          "output_type": "stream",
          "text": [
            "1.8263000000000003\n"
          ],
          "name": "stdout"
        }
      ]
    },
    {
      "cell_type": "code",
      "metadata": {
        "id": "-NxpXoS9HoIz",
        "colab_type": "code",
        "outputId": "66b818a0-0b62-4f70-99f6-f7494c3a2bef",
        "colab": {
          "base_uri": "https://localhost:8080/",
          "height": 50
        }
      },
      "source": [
        "print('Значение предикта модели:', round(y_linear[0][0], 6))\n",
        "print('Значение посчитанное вручную:', round(Y_linear, 6))"
      ],
      "execution_count": 0,
      "outputs": [
        {
          "output_type": "stream",
          "text": [
            "Значение предикта модели: 1.8263\n",
            "Значение посчитанное вручную: 1.8263\n"
          ],
          "name": "stdout"
        }
      ]
    },
    {
      "cell_type": "markdown",
      "metadata": {
        "id": "c4pg0HUQCdFk",
        "colab_type": "text"
      },
      "source": [
        "# Функции активации"
      ]
    },
    {
      "cell_type": "markdown",
      "metadata": {
        "id": "MMkWv4VhC2ti",
        "colab_type": "text"
      },
      "source": [
        "## sigmoid (сигмоид)\n",
        "\n",
        "*Разбор данного раздела:* https://youtu.be/lYcVD0Con-A?t=2587\n",
        "\n",
        "![alt text](https://wikimedia.org/api/rest_v1/media/math/render/svg/36f792c44c0a7069ad01386452569d6e34fe95d7) ![alt text](https://upload.wikimedia.org/wikipedia/commons/thumb/5/5b/Activation_logistic.svg/120px-Activation_logistic.svg.png)"
      ]
    },
    {
      "cell_type": "code",
      "metadata": {
        "id": "Z5wJ5XJ59UW_",
        "colab_type": "code",
        "colab": {}
      },
      "source": [
        "def sigmoid(x): # Зададим функцию расчета сигмоиды\n",
        "  return 1/(1+np.e ** (-x) )"
      ],
      "execution_count": 0,
      "outputs": []
    },
    {
      "cell_type": "code",
      "metadata": {
        "id": "CEI5bt2a92dP",
        "colab_type": "code",
        "outputId": "643bfe44-e408-488a-9511-a0f6d18ee569",
        "colab": {
          "base_uri": "https://localhost:8080/",
          "height": 218
        }
      },
      "source": [
        "# Пересоздадим нейронную сеть, указав в качестве функции активации сигмоиду\n",
        "model_sigmoid = Sequential() # Создаем пустую модель нейронной сети\n",
        "model_sigmoid.add(Dense(2, input_dim = 2, activation='sigmoid', use_bias=False)) # Добавляем полносвязный слой с 2мя нейронами (указываем, что на вход принимаем вектор из двух элементов), функция активация - sigmoid,  и отключаем использование нейрона смещения\n",
        "model_sigmoid.add(Dense(1, activation='sigmoid', use_bias=False)) # Добавляем полносвязный слой с 1 нейроном (выходной слой нашей модели), здесь уже не требуется указывать размерность входных данных, функция активация - sigmoid, и также отключаем использование нейрона смещения\n",
        "model_sigmoid.summary() # Отобразим структуру созданной сети (должна совпадать с первой моделью)\n",
        "model_sigmoid.set_weights(new_weight) # Установим посчитанные выше веса"
      ],
      "execution_count": 0,
      "outputs": [
        {
          "output_type": "stream",
          "text": [
            "Model: \"sequential_1\"\n",
            "_________________________________________________________________\n",
            "Layer (type)                 Output Shape              Param #   \n",
            "=================================================================\n",
            "dense_2 (Dense)              (None, 2)                 4         \n",
            "_________________________________________________________________\n",
            "dense_3 (Dense)              (None, 1)                 2         \n",
            "=================================================================\n",
            "Total params: 6\n",
            "Trainable params: 6\n",
            "Non-trainable params: 0\n",
            "_________________________________________________________________\n"
          ],
          "name": "stdout"
        }
      ]
    },
    {
      "cell_type": "code",
      "metadata": {
        "id": "Hrnda0PxGppt",
        "colab_type": "code",
        "outputId": "5447eae6-a82e-4caf-d69c-be777d513a28",
        "colab": {
          "base_uri": "https://localhost:8080/",
          "height": 34
        }
      },
      "source": [
        "# Выполним те же самые шаги, что и выше\n",
        "y_sigmoid = model_sigmoid.predict(x_train) # Получим значение выхода сети, передав на вход вектор из двух элементов [x1, x2]\n",
        "print(y_sigmoid) # Выведем результат работы сети"
      ],
      "execution_count": 0,
      "outputs": [
        {
          "output_type": "stream",
          "text": [
            "[[0.69705683]]\n"
          ],
          "name": "stdout"
        }
      ]
    },
    {
      "cell_type": "markdown",
      "metadata": {
        "id": "ugSnFfUK7puk",
        "colab_type": "text"
      },
      "source": [
        "*Посчитаем значение выхода сети вручную*"
      ]
    },
    {
      "cell_type": "code",
      "metadata": {
        "id": "6sqyNy5jHnI-",
        "colab_type": "code",
        "outputId": "c6c98fd1-7406-4b15-d389-1347021657d5",
        "colab": {
          "base_uri": "https://localhost:8080/",
          "height": 50
        }
      },
      "source": [
        "H1_sigmoid = sigmoid(x1 * w1 + x2 * w2) # Получим значение скрытого нейрона H1\n",
        "H2_sigmoid = sigmoid(x1 * w3 + x2 * w4) # Получим значение скрытого нейрона H2\n",
        "print(H1_sigmoid) # Выведем значение нейрона H1\n",
        "print(H2_sigmoid) # Выведем значение нейрона H2"
      ],
      "execution_count": 0,
      "outputs": [
        {
          "output_type": "stream",
          "text": [
            "0.8960419706149801\n",
            "0.00014393569134056814\n"
          ],
          "name": "stdout"
        }
      ]
    },
    {
      "cell_type": "code",
      "metadata": {
        "id": "a6Vs6rr-IBYM",
        "colab_type": "code",
        "outputId": "b3d584a3-ad5d-42f0-ddcb-b74ff3564899",
        "colab": {
          "base_uri": "https://localhost:8080/",
          "height": 34
        }
      },
      "source": [
        "Y_sigmoid = sigmoid(H1_sigmoid * w5 + H2_sigmoid * w6) # Считаем выход сети\n",
        "print(Y_sigmoid) # Отобразим вывод сети, посчитанный вручную"
      ],
      "execution_count": 0,
      "outputs": [
        {
          "output_type": "stream",
          "text": [
            "0.6970568720142808\n"
          ],
          "name": "stdout"
        }
      ]
    },
    {
      "cell_type": "code",
      "metadata": {
        "id": "i81i16C6ITjG",
        "colab_type": "code",
        "outputId": "e6b1f993-069b-4d5f-cf2c-e3233e5dd033",
        "colab": {
          "base_uri": "https://localhost:8080/",
          "height": 50
        }
      },
      "source": [
        "print('Значение предикта модели:', round(y_sigmoid[0][0], 6))\n",
        "print('Значение посчитанное вручную:', round(Y_sigmoid, 6))"
      ],
      "execution_count": 0,
      "outputs": [
        {
          "output_type": "stream",
          "text": [
            "Значение предикта модели: 0.697057\n",
            "Значение посчитанное вручную: 0.697057\n"
          ],
          "name": "stdout"
        }
      ]
    },
    {
      "cell_type": "markdown",
      "metadata": {
        "id": "iD7hR5hXNLUe",
        "colab_type": "text"
      },
      "source": [
        "## relu (линейный выпрямитель)\n",
        "\n",
        "*Разбор данного раздела:* https://youtu.be/lYcVD0Con-A?t=2972\n",
        "\n",
        "![alt text](https://wikimedia.org/api/rest_v1/media/math/render/svg/f4353f4e3e484130504049599d2e7b040793e1eb) ![alt text](https://upload.wikimedia.org/wikipedia/commons/thumb/f/fe/Activation_rectified_linear.svg/120px-Activation_rectified_linear.svg.png)"
      ]
    },
    {
      "cell_type": "code",
      "metadata": {
        "id": "2ZayzTYWNKYv",
        "colab_type": "code",
        "colab": {}
      },
      "source": [
        "def relu(x): # Зададим функцию расчета сигмоиды\n",
        "  return np.clip(x, 0, np.inf)"
      ],
      "execution_count": 0,
      "outputs": []
    },
    {
      "cell_type": "code",
      "metadata": {
        "id": "-uLeuUBMOjzf",
        "colab_type": "code",
        "outputId": "5bb60fda-ae74-4b20-b9cf-554c972cba6d",
        "colab": {
          "base_uri": "https://localhost:8080/",
          "height": 218
        }
      },
      "source": [
        "# Пересоздадим нейронную сеть, указав в качестве функции активации relu\n",
        "model_relu = Sequential() # Создаем пустую модель нейронной сети\n",
        "model_relu.add(Dense(2, input_dim = 2, activation='relu', use_bias=False)) # Добавляем полносвязный слой с 2мя нейронами (указываем, что на вход принимаем вектор из двух элементв), функция активация - relu,  и отключаем использование нейрона смещения\n",
        "model_relu.add(Dense(1, activation='relu', use_bias=False)) # Добавляем полносвязный слой с 1 нейроном (выходной слой нашей модели), здесь уже не требуется указывать размерность входных данных, функция активация - relu, и также отключаем использование нейрона смещения\n",
        "model_relu.summary() # Отобразим структуру созданной сети (должна совпадать с первой моделью)\n",
        "model_relu.set_weights(new_weight) # Установим посчитанные выше веса"
      ],
      "execution_count": 0,
      "outputs": [
        {
          "output_type": "stream",
          "text": [
            "Model: \"sequential_2\"\n",
            "_________________________________________________________________\n",
            "Layer (type)                 Output Shape              Param #   \n",
            "=================================================================\n",
            "dense_4 (Dense)              (None, 2)                 4         \n",
            "_________________________________________________________________\n",
            "dense_5 (Dense)              (None, 1)                 2         \n",
            "=================================================================\n",
            "Total params: 6\n",
            "Trainable params: 6\n",
            "Non-trainable params: 0\n",
            "_________________________________________________________________\n"
          ],
          "name": "stdout"
        }
      ]
    },
    {
      "cell_type": "code",
      "metadata": {
        "id": "vcTGL05mOp79",
        "colab_type": "code",
        "outputId": "794aabd0-fec3-4e82-8715-e1e2dd95e618",
        "colab": {
          "base_uri": "https://localhost:8080/",
          "height": 34
        }
      },
      "source": [
        "# Выполним теже самые шаги, что и выше\n",
        "y_relu = model_relu.predict(x_train) # Получим значение выхода сети, передав на вход вектор из двух элементов [x1, x2]\n",
        "print(y_relu) # Выведем результат работы сети"
      ],
      "execution_count": 0,
      "outputs": [
        {
          "output_type": "stream",
          "text": [
            "[[2.0032198]]\n"
          ],
          "name": "stdout"
        }
      ]
    },
    {
      "cell_type": "markdown",
      "metadata": {
        "id": "44A3y5NZ7zl4",
        "colab_type": "text"
      },
      "source": [
        "*Посчитаем значение выхода сети вручную*"
      ]
    },
    {
      "cell_type": "code",
      "metadata": {
        "id": "3crw4GxLOv31",
        "colab_type": "code",
        "outputId": "9745beba-7ed3-4950-bd3f-03fbeb060253",
        "colab": {
          "base_uri": "https://localhost:8080/",
          "height": 50
        }
      },
      "source": [
        "H1_relu = relu(x1 * w1 + x2 * w2) # Получим значение скрытого нейрона H1\n",
        "H2_relu = relu(x1 * w3 + x2 * w4) # Получим значение скрытого нейрона H2\n",
        "print(H1_relu) # Выведем значение нейрона H1\n",
        "print(H2_relu) # Выведем значение нейрона H2"
      ],
      "execution_count": 0,
      "outputs": [
        {
          "output_type": "stream",
          "text": [
            "2.154\n",
            "0.0\n"
          ],
          "name": "stdout"
        }
      ]
    },
    {
      "cell_type": "code",
      "metadata": {
        "id": "phDRSz7IO0_F",
        "colab_type": "code",
        "outputId": "6ca8792e-9312-4716-d783-b8347f91e19a",
        "colab": {
          "base_uri": "https://localhost:8080/",
          "height": 34
        }
      },
      "source": [
        "Y_relu = relu(H1_relu * w5 + H2_relu * w6) # Считаем выход сети\n",
        "print(Y_relu) # Отобразим вывод сети, посчитанный вручную"
      ],
      "execution_count": 0,
      "outputs": [
        {
          "output_type": "stream",
          "text": [
            "2.0032200000000002\n"
          ],
          "name": "stdout"
        }
      ]
    },
    {
      "cell_type": "code",
      "metadata": {
        "id": "OrDqUr9iPEQT",
        "colab_type": "code",
        "outputId": "3e7ec4b0-af87-4157-b5fb-a47d85ea0aed",
        "colab": {
          "base_uri": "https://localhost:8080/",
          "height": 50
        }
      },
      "source": [
        "print('Значение предикта модели:', round(y_relu[0][0], 6))\n",
        "print('Значение посчитанное вручную:', round(Y_relu, 6))"
      ],
      "execution_count": 0,
      "outputs": [
        {
          "output_type": "stream",
          "text": [
            "Значение предикта модели: 2.00322\n",
            "Значение посчитанное вручную: 2.00322\n"
          ],
          "name": "stdout"
        }
      ]
    },
    {
      "cell_type": "markdown",
      "metadata": {
        "id": "rrWmNM6jKBrc",
        "colab_type": "text"
      },
      "source": [
        "## tanh (гиперболический тангенс)\n",
        "\n",
        "*Разбор данного раздела:* https://youtu.be/lYcVD0Con-A?t=3194\n",
        "\n",
        "![alt text](https://wikimedia.org/api/rest_v1/media/math/render/svg/5fd13a1c501e64926c12d52b620f1e656251fc15) ![alt text](https://upload.wikimedia.org/wikipedia/commons/thumb/c/cb/Activation_tanh.svg/120px-Activation_tanh.svg.png)"
      ]
    },
    {
      "cell_type": "code",
      "metadata": {
        "id": "hNh2OiDSJuHR",
        "colab_type": "code",
        "colab": {}
      },
      "source": [
        "def th(x): # Зададим функцию расчета гиперболического тангенса\n",
        "  return (np.e ** x - np.e ** (-x)) / (np.e ** x + np.e ** (-x))"
      ],
      "execution_count": 0,
      "outputs": []
    },
    {
      "cell_type": "code",
      "metadata": {
        "id": "WkQLEOLbKv3p",
        "colab_type": "code",
        "outputId": "2f204fd6-33d0-40bd-dead-6058025b5e0d",
        "colab": {
          "base_uri": "https://localhost:8080/",
          "height": 218
        }
      },
      "source": [
        "# Пересоздадим нейронную сеть, указав в качестве функции активации - tanh\n",
        "model_th = Sequential() # Создаем пустую модель нейронной сети\n",
        "model_th.add(Dense(2, input_dim = 2, activation='tanh', use_bias=False)) # Добавляем полносвязный слой с 2мя нейронами (указываем, что на вход принимаем вектор из двух элементв), функция активация - tanh,  и отключаем использование нейрона смещения\n",
        "model_th.add(Dense(1, activation='tanh', use_bias=False)) # Добавляем полносвязный слой с 1 нейроном (выходной слой нашей модели) (здесь уже не требуется указывать размерность входных данных), функция активация - tanh, и так же отключаем использование нейрона смещения\n",
        "model_th.summary() # Отобразим структуру созданной сети (должна совпадать с первой моделью)\n",
        "model_th.set_weights(new_weight) # Установим посчитанные выше веса"
      ],
      "execution_count": 0,
      "outputs": [
        {
          "output_type": "stream",
          "text": [
            "Model: \"sequential_3\"\n",
            "_________________________________________________________________\n",
            "Layer (type)                 Output Shape              Param #   \n",
            "=================================================================\n",
            "dense_6 (Dense)              (None, 2)                 4         \n",
            "_________________________________________________________________\n",
            "dense_7 (Dense)              (None, 1)                 2         \n",
            "=================================================================\n",
            "Total params: 6\n",
            "Trainable params: 6\n",
            "Non-trainable params: 0\n",
            "_________________________________________________________________\n"
          ],
          "name": "stdout"
        }
      ]
    },
    {
      "cell_type": "code",
      "metadata": {
        "id": "kaB_JYZkK1SX",
        "colab_type": "code",
        "outputId": "b2ad282c-d42a-49e0-99e2-3436823e36c3",
        "colab": {
          "base_uri": "https://localhost:8080/",
          "height": 34
        }
      },
      "source": [
        "# Выполним теже самые шаги, что и выше\n",
        "y_th = model_th.predict(x_train) # Получим значение выхода сети, передав на вход вектор из двух элементов [x1, x2]\n",
        "print(y_th) # Выведем результат работы сети"
      ],
      "execution_count": 0,
      "outputs": [
        {
          "output_type": "stream",
          "text": [
            "[[0.7090626]]\n"
          ],
          "name": "stdout"
        }
      ]
    },
    {
      "cell_type": "markdown",
      "metadata": {
        "id": "IPZ23XCM73Tx",
        "colab_type": "text"
      },
      "source": [
        "*Посчитаем значение выхода сети вручную*"
      ]
    },
    {
      "cell_type": "code",
      "metadata": {
        "id": "E0LSRNn7K-0H",
        "colab_type": "code",
        "outputId": "3efed932-7ae8-44ac-c9c2-5805dd5b668a",
        "colab": {
          "base_uri": "https://localhost:8080/",
          "height": 50
        }
      },
      "source": [
        "H1_th = th(x1 * w1 + x2 * w2) # Получим значение скрытого нейрона H1\n",
        "H2_th = th(x1 * w3 + x2 * w4) # Получим значение скрытого нейрона H2\n",
        "print(H1_th) # Выведем значение нейрона H1\n",
        "print(H2_th) # Выведем значение нейрона H2"
      ],
      "execution_count": 0,
      "outputs": [
        {
          "output_type": "stream",
          "text": [
            "0.9734366670870239\n",
            "-0.9999999585531038\n"
          ],
          "name": "stdout"
        }
      ]
    },
    {
      "cell_type": "code",
      "metadata": {
        "id": "lQtXpfc_LFEY",
        "colab_type": "code",
        "outputId": "611b18af-1c9d-4201-a45b-9211bc22f927",
        "colab": {
          "base_uri": "https://localhost:8080/",
          "height": 34
        }
      },
      "source": [
        "Y_th = th(H1_th * w5 + H2_th * w6) # Считаем выход сети\n",
        "print(Y_th) # Отобразим вывод сети, посчитанный вручную"
      ],
      "execution_count": 0,
      "outputs": [
        {
          "output_type": "stream",
          "text": [
            "0.709062603515898\n"
          ],
          "name": "stdout"
        }
      ]
    },
    {
      "cell_type": "code",
      "metadata": {
        "id": "ZxXWF2yfLOGo",
        "colab_type": "code",
        "outputId": "8352a1a9-3422-40dd-e53c-a04b65f27871",
        "colab": {
          "base_uri": "https://localhost:8080/",
          "height": 50
        }
      },
      "source": [
        "print('Значение предикта модели:', round(y_th[0][0], 6))\n",
        "print('Значение посчитанное вручную:', round(Y_th, 6))"
      ],
      "execution_count": 0,
      "outputs": [
        {
          "output_type": "stream",
          "text": [
            "Значение предикта модели: 0.709063\n",
            "Значение посчитанное вручную: 0.709063\n"
          ],
          "name": "stdout"
        }
      ]
    },
    {
      "cell_type": "markdown",
      "metadata": {
        "id": "rstrtRs2O1so",
        "colab_type": "text"
      },
      "source": [
        "# Функции ошибок\n",
        "\n",
        "*Разбор данного раздела:* https://youtu.be/lYcVD0Con-A?t=4527"
      ]
    },
    {
      "cell_type": "code",
      "metadata": {
        "id": "QD6QYS68LRIn",
        "colab_type": "code",
        "colab": {}
      },
      "source": [
        "# Зададим значение, которое должна возвращать наша сеть\n",
        "y_real = 0.34"
      ],
      "execution_count": 0,
      "outputs": []
    },
    {
      "cell_type": "code",
      "metadata": {
        "id": "BT5IWsYuQLyH",
        "colab_type": "code",
        "outputId": "a00b3de6-c8cb-4aff-a228-f44d7ca81faa",
        "colab": {
          "base_uri": "https://localhost:8080/",
          "height": 50
        }
      },
      "source": [
        "# Возьмем значение, которое возвращает одна из рассмотренных выше сетей, например, сеть model_relu\n",
        "print ('Значение, к которому должна стремиться наша модель:', y_real)\n",
        "print ('Текущее значение, которое возвращает наша модель:', y_relu[0][0])"
      ],
      "execution_count": 0,
      "outputs": [
        {
          "output_type": "stream",
          "text": [
            "Значение, к которому должна стремиться наша модель: 0.34\n",
            "Текущее значение, которое возвращает наша модель: 2.0032198\n"
          ],
          "name": "stdout"
        }
      ]
    },
    {
      "cell_type": "code",
      "metadata": {
        "id": "6nnjNKvpUJ-_",
        "colab_type": "code",
        "outputId": "8242e7fa-92fa-479d-de2f-a9df91f5289c",
        "colab": {
          "base_uri": "https://localhost:8080/",
          "height": 50
        }
      },
      "source": [
        "# Создадим список y_true, где будут храниться значения, к которым должна стремиться модель, и список y_pred, где будут храниться текущие значения, которые возвращает модель\n",
        "y_true = [y_real]\n",
        "y_pred = [y_relu[0][0]]\n",
        "print(y_true)\n",
        "print(y_pred)"
      ],
      "execution_count": 0,
      "outputs": [
        {
          "output_type": "stream",
          "text": [
            "[0.34]\n",
            "[2.0032198]\n"
          ],
          "name": "stdout"
        }
      ]
    },
    {
      "cell_type": "markdown",
      "metadata": {
        "id": "5BUXluCMWpMB",
        "colab_type": "text"
      },
      "source": [
        "## MAE\n",
        "\n",
        "mean_absolute_error (средняя абсолютная ошибка)\n",
        "\n",
        "![alt text](https://wikimedia.org/api/rest_v1/media/math/render/svg/3ef87b78a9af65e308cf4aa9acf6f203efbdeded)\n"
      ]
    },
    {
      "cell_type": "code",
      "metadata": {
        "id": "yNg7t064VQZi",
        "colab_type": "code",
        "outputId": "dbcec3e9-0671-4629-96ae-4e203b703e23",
        "colab": {
          "base_uri": "https://localhost:8080/",
          "height": 34
        }
      },
      "source": [
        "n = 1 # Задаем количество элементов\n",
        "mae = 0 # Инициализируем начальное значение ошибки\n",
        "for i in range(n): # Проходим по всем элементам\n",
        "  mae += abs(y_true[i] - y_pred[i]) # Увеличиваем значение ошибки для текущего элемента\n",
        "mae /= n # Считаем среднее значение\n",
        "print ('Значение ошибки: ', mae) # Выводим посчитанное значение ошибки"
      ],
      "execution_count": 0,
      "outputs": [
        {
          "output_type": "stream",
          "text": [
            "Значение ошибки:  1.6632198429107665\n"
          ],
          "name": "stdout"
        }
      ]
    },
    {
      "cell_type": "code",
      "metadata": {
        "id": "ej--v7bkXcz-",
        "colab_type": "code",
        "outputId": "a3039aa8-f5e5-47c1-e6bb-df3a18f161ed",
        "colab": {
          "base_uri": "https://localhost:8080/",
          "height": 34
        }
      },
      "source": [
        "# Так как у нас всего одно выходное значение и один входной набор данных, то можно записать просто:\n",
        "mae2 = abs(y_real - y_relu[0][0]) # Считаем значение ошибки для единичного набора данных\n",
        "print(mae2) # Выводим посчитанное значение"
      ],
      "execution_count": 0,
      "outputs": [
        {
          "output_type": "stream",
          "text": [
            "1.6632198429107665\n"
          ],
          "name": "stdout"
        }
      ]
    },
    {
      "cell_type": "markdown",
      "metadata": {
        "id": "dntk9WK6TbA-",
        "colab_type": "text"
      },
      "source": [
        "## MSE\n",
        "\n",
        "mean_squared_error (среднеквадратическая ошибка)\n",
        "\n",
        "![alt text](https://wikimedia.org/api/rest_v1/media/math/render/svg/e258221518869aa1c6561bb75b99476c4734108e)"
      ]
    },
    {
      "cell_type": "code",
      "metadata": {
        "id": "V_0x3TgpQ2Xw",
        "colab_type": "code",
        "outputId": "ebb8b6ee-190d-4ea1-bfb1-cc0e4c666344",
        "colab": {
          "base_uri": "https://localhost:8080/",
          "height": 34
        }
      },
      "source": [
        "n = 1 # Задаем количество элементов\n",
        "mse = 0 # Инициализируем начальное значение ошибки\n",
        "for i in range(n): # Проходим по всем элементам\n",
        "  mse += (y_true[i] - y_pred[i]) ** 2 # Увеличиваем значение ошибки для текущего элемента\n",
        "mse /= n # Считаем среднее значение\n",
        "print ('Значение ошибки: ', mse) # Выводим посчитанное значение ошибки"
      ],
      "execution_count": 0,
      "outputs": [
        {
          "output_type": "stream",
          "text": [
            "Значение ошибки:  2.766300245852115\n"
          ],
          "name": "stdout"
        }
      ]
    },
    {
      "cell_type": "code",
      "metadata": {
        "id": "CUBAMFsIU3_I",
        "colab_type": "code",
        "outputId": "59112336-9fe9-4a89-b76b-8b66e212719e",
        "colab": {
          "base_uri": "https://localhost:8080/",
          "height": 34
        }
      },
      "source": [
        "# Так как у нас всего одно выходное значение и один входной набор данных, то можно записать просто:\n",
        "mse2 = (y_real - y_relu[0][0]) ** 2 # Считаем значение ошибки для единичного набора данных\n",
        "print(mse2) # Выводим посчитанное значение"
      ],
      "execution_count": 0,
      "outputs": [
        {
          "output_type": "stream",
          "text": [
            "2.766300245852115\n"
          ],
          "name": "stdout"
        }
      ]
    },
    {
      "cell_type": "markdown",
      "metadata": {
        "id": "6tP0Iq2NX9qK",
        "colab_type": "text"
      },
      "source": [
        "## BINARY_CROSSENTROPY\n",
        "\n",
        "бинарная кроссэнтропия\n",
        "\n",
        "![alt text](https://miro.medium.com/max/1096/1*rdBw0E-My8Gu3f_BOB6GMA.png)"
      ]
    },
    {
      "cell_type": "code",
      "metadata": {
        "id": "Xe3li7nNZZLR",
        "colab_type": "code",
        "outputId": "b4748b74-a9d8-4f86-f54f-7fa416a303da",
        "colab": {
          "base_uri": "https://localhost:8080/",
          "height": 34
        }
      },
      "source": [
        "# Так как у нас всего одно выходное значение и один входной набор данных, то можно записать просто:\n",
        "bc = - (y_real * np.log(y_sigmoid[0][0])  + (1 - y_real) * np.log(1 - y_sigmoid[0][0])) # Считаем значение ошибки\n",
        "print(bc) # Выводим посчитанное значение"
      ],
      "execution_count": 0,
      "outputs": [
        {
          "output_type": "stream",
          "text": [
            "0.9108806649907836\n"
          ],
          "name": "stdout"
        }
      ]
    },
    {
      "cell_type": "markdown",
      "metadata": {
        "id": "c3-PovDMb2TU",
        "colab_type": "text"
      },
      "source": [
        "# Оптимизаторы\n",
        "\n",
        "*Разбор данного раздела:* https://youtu.be/lYcVD0Con-A?t=5800\n"
      ]
    },
    {
      "cell_type": "code",
      "metadata": {
        "id": "qSBV9glSb3-f",
        "colab_type": "code",
        "outputId": "ce9c7bd6-2a11-4cec-e6fa-c77f4840fa0e",
        "colab": {
          "base_uri": "https://localhost:8080/",
          "height": 50
        }
      },
      "source": [
        "y_train = np.array(y_true) # Создадим numpy-массив значений, к которым должна стремиться модель (в нашем случае одно значение)\n",
        "print(y_train) # Выведем сформированный массив\n",
        "print(y_train.shape) # Выведем размерность сформированного массива"
      ],
      "execution_count": 0,
      "outputs": [
        {
          "output_type": "stream",
          "text": [
            "[0.34]\n",
            "(1,)\n"
          ],
          "name": "stdout"
        }
      ]
    },
    {
      "cell_type": "code",
      "metadata": {
        "id": "2j4NIT8EIzus",
        "colab_type": "code",
        "outputId": "b8fad516-0961-4a43-8f28-d9e7f15968e3",
        "colab": {
          "base_uri": "https://localhost:8080/",
          "height": 34
        }
      },
      "source": [
        "x_train.shape"
      ],
      "execution_count": 0,
      "outputs": [
        {
          "output_type": "execute_result",
          "data": {
            "text/plain": [
              "(1, 2)"
            ]
          },
          "metadata": {
            "tags": []
          },
          "execution_count": 47
        }
      ]
    },
    {
      "cell_type": "code",
      "metadata": {
        "id": "GqtLfYO3gkd4",
        "colab_type": "code",
        "colab": {}
      },
      "source": [
        "# Создадим модель, аналогичную ранее созданной с relu-активацией\n",
        "model_test = Sequential() # Создаем пустую модель нейронной сети\n",
        "model_test.add(Dense(2, input_dim = 2, activation='linear', use_bias=False)) # Добавляем полносвязный слой с 2мя нейронами (указываем, что на вход принимаем вектор из двух элементв), функция активация - relu,  и отключаем использование нейрона смещения\n",
        "model_test.add(Dense(1, activation='relu', use_bias=False)) # Добавляем полносвязный слой с 1 нейроном (выходной слой нашей модели), здесь уже не требуется указывать размерность входных данных, функция активация - relu, и также отключаем использование нейрона смещения\n",
        "model_test.set_weights(new_weight) # Установим посчитанные выше веса"
      ],
      "execution_count": 0,
      "outputs": []
    },
    {
      "cell_type": "code",
      "metadata": {
        "id": "z_2rXuzlcoZu",
        "colab_type": "code",
        "colab": {}
      },
      "source": [
        "#model_test.compile(optimizer='adam', loss='mse', metrics=['mae']) # Компилируем нашу модель, указав используемый оптимайзер, функцию ошибки и метрику\n",
        "model_test.compile(optimizer=Adam(0.001), loss='mse') # Альтернативный способ указания оптимизатора"
      ],
      "execution_count": 0,
      "outputs": []
    },
    {
      "cell_type": "code",
      "metadata": {
        "id": "24hP5EaOJEUg",
        "colab_type": "code",
        "outputId": "d81bde81-2abd-40b5-a61f-3e9ece7b7097",
        "colab": {
          "base_uri": "https://localhost:8080/",
          "height": 218
        }
      },
      "source": [
        "model_test.summary()"
      ],
      "execution_count": 0,
      "outputs": [
        {
          "output_type": "stream",
          "text": [
            "Model: \"sequential_5\"\n",
            "_________________________________________________________________\n",
            "Layer (type)                 Output Shape              Param #   \n",
            "=================================================================\n",
            "dense_10 (Dense)             (None, 2)                 4         \n",
            "_________________________________________________________________\n",
            "dense_11 (Dense)             (None, 1)                 2         \n",
            "=================================================================\n",
            "Total params: 6\n",
            "Trainable params: 6\n",
            "Non-trainable params: 0\n",
            "_________________________________________________________________\n"
          ],
          "name": "stdout"
        }
      ]
    },
    {
      "cell_type": "code",
      "metadata": {
        "id": "sRzTt3U5czH_",
        "colab_type": "code",
        "colab": {}
      },
      "source": [
        "l = model_test.train_on_batch(x_train, y_train) # Обучаем модель на одном наборе данных методом train_on_batch. Метод вернет ошибку и метрику"
      ],
      "execution_count": 0,
      "outputs": []
    },
    {
      "cell_type": "code",
      "metadata": {
        "id": "nx9xryureeac",
        "colab_type": "code",
        "outputId": "2e897dba-121a-4215-fc76-8cc752c96ac9",
        "colab": {
          "base_uri": "https://localhost:8080/",
          "height": 50
        }
      },
      "source": [
        "print(l) # Отобразим ошибку после обучения\n",
        "print(m) # Отобразим метрику после обучения"
      ],
      "execution_count": 0,
      "outputs": [
        {
          "output_type": "stream",
          "text": [
            "2.072443962097168\n",
            "1.4629491567611694\n"
          ],
          "name": "stdout"
        }
      ]
    },
    {
      "cell_type": "code",
      "metadata": {
        "id": "XR85tGcchYVs",
        "colab_type": "code",
        "outputId": "99abf1df-f7b6-4570-8060-cdc919ce6cfa",
        "colab": {
          "base_uri": "https://localhost:8080/",
          "height": 67
        }
      },
      "source": [
        "print(new_weight) # Выведем веса, которые были назначены модели в самом начале"
      ],
      "execution_count": 0,
      "outputs": [
        {
          "output_type": "stream",
          "text": [
            "[array([[ 0.42, -0.56],\n",
            "       [ 0.15,  0.83]]), array([[0.93],\n",
            "       [0.02]])]\n"
          ],
          "name": "stdout"
        }
      ]
    },
    {
      "cell_type": "code",
      "metadata": {
        "id": "XGfnoPnu7Tl2",
        "colab_type": "code",
        "outputId": "e9672a0f-32db-4ae5-ed03-85b69a54c03b",
        "colab": {
          "base_uri": "https://localhost:8080/",
          "height": 67
        }
      },
      "source": [
        "print(model_test.get_weights()) # Выведем измененные веса после одного шага обучения"
      ],
      "execution_count": 0,
      "outputs": [
        {
          "output_type": "stream",
          "text": [
            "[array([[ 0.41699994, -0.56300014],\n",
            "       [ 0.1530001 ,  0.8330001 ]], dtype=float32), array([[0.92699987],\n",
            "       [0.02300009]], dtype=float32)]\n"
          ],
          "name": "stdout"
        }
      ]
    },
    {
      "cell_type": "code",
      "metadata": {
        "id": "QZ4O6CnX7bEm",
        "colab_type": "code",
        "colab": {}
      },
      "source": [
        "for i in range(1000): # Пройдемся в цикле 1000 раз\n",
        "  loss = model_test.train_on_batch(x_train, y_train) # Выполним на каждом шаге обучение нашей модели\n",
        "print('Ошибка (mse) после 1000 шагов', loss)"
      ],
      "execution_count": 0,
      "outputs": []
    },
    {
      "cell_type": "code",
      "metadata": {
        "id": "9CYx77E776SW",
        "colab_type": "code",
        "outputId": "4d63344d-38c0-4419-a281-4495abb19801",
        "colab": {
          "base_uri": "https://localhost:8080/",
          "height": 50
        }
      },
      "source": [
        "y_pred = model_test.predict(x_train) # Получаем результат нашей модели\n",
        "print('Требуемое значение:', y_real)\n",
        "print('Значение модели:', y_pred[0][0])"
      ],
      "execution_count": 0,
      "outputs": [
        {
          "output_type": "stream",
          "text": [
            "Требуемое значение: 0.34\n",
            "Значение модели: 0.33999962\n"
          ],
          "name": "stdout"
        }
      ]
    },
    {
      "cell_type": "code",
      "metadata": {
        "id": "H0K40p5e8yWG",
        "colab_type": "code",
        "outputId": "d1bef868-cd5c-49cd-c4e4-90e03a72ecc8",
        "colab": {
          "base_uri": "https://localhost:8080/",
          "height": 84
        }
      },
      "source": [
        "print('Веса модели \\n', model_test.get_weights())"
      ],
      "execution_count": 0,
      "outputs": [
        {
          "output_type": "stream",
          "text": [
            "Веса модели \n",
            " [array([[ 0.3579119 , -0.6418423 ],\n",
            "       [ 0.21208806,  0.91184217]], dtype=float32), array([[0.87244684],\n",
            "       [0.08426479]], dtype=float32)]\n"
          ],
          "name": "stdout"
        }
      ]
    },
    {
      "cell_type": "markdown",
      "metadata": {
        "id": "n3UgLD14-l72",
        "colab_type": "text"
      },
      "source": [
        "# Демонстрация градиентного спуска\n",
        "\n",
        "*Разбор данного раздела:* https://youtu.be/lYcVD0Con-A?t=6579"
      ]
    },
    {
      "cell_type": "code",
      "metadata": {
        "id": "6afPVVK-UZvR",
        "colab_type": "code",
        "colab": {}
      },
      "source": [
        "def makeData2(model, x_train, y_train): # Функция возвращает сетку координат весов и массив ошибки, соответствующей этой сетке\n",
        "    x = np.arange(-1.5, 1.5, 0.05) # Создаем массив шагов по шкале x\n",
        "    y = np.arange(-1.5, 1.5, 0.05) # Создаем массив шагов по шкале y\n",
        "    xgrid, ygrid = np.meshgrid(x, y) # Создаем пересечение всех возможных точек пространства  xy\n",
        "\n",
        "    zgrid = np.zeros_like(xgrid) # Сздаем массив zgrid (в нем будет храниться значение ошибки)\n",
        "    for i in range (x.shape[0]): # Проходим по всем шагам по оси x\n",
        "      z_add = np.zeros(x.shape[0]) # Создаем массив из нулей, в который будем добавлять значения ошибки\n",
        "      for j in range(y.shape[0]): # Проходим по всем шагам по оси y\n",
        "        model_d.set_weights([np.array([[x[i]],[y[j]]])]) # Устанавливаем веса для модели в соответствии с текущими шагами по осям x и y\n",
        "        loss = model_d.train_on_batch(x_train, y_train) # Обучаем модель на установленных весах и получаем значение ошибки\n",
        "        z_add[j] = loss # Записываем полученное значение ошибки в соответствующее место массива z_add\n",
        "      zgrid[i] = z_add # Записываем сформированный массив z_add в общий массив, хранящий значение ошибки\n",
        "    return xgrid, ygrid, zgrid # Возвращаем шаги по осям x и y (xgrid, ygrid) и массив, содержащий значение ошибки (zgrid)"
      ],
      "execution_count": 0,
      "outputs": []
    },
    {
      "cell_type": "code",
      "metadata": {
        "id": "2GChy4ib-vh9",
        "colab_type": "code",
        "colab": {}
      },
      "source": [
        "model_d = Sequential() # Создаем класс модели\n",
        "model_d.add(Dense(1, input_dim=2, activation='linear', use_bias=False)) # Добавляем один Dense-слой с линейной активацией и отключенным bias'ом\n",
        "model_d.compile(optimizer=Adam(0.001), loss='mse') # Компилируем модель, указав оптимайзер и ошибку"
      ],
      "execution_count": 0,
      "outputs": []
    },
    {
      "cell_type": "code",
      "metadata": {
        "id": "iri8Mva5XTP8",
        "colab_type": "code",
        "outputId": "0fbde6ec-28c2-42ee-faf8-8b3fff150a47",
        "colab": {
          "base_uri": "https://localhost:8080/",
          "height": 50
        }
      },
      "source": [
        "start_weights = model_d.get_weights() # Запомним стартовое значение весов модели в переменной start_weights\n",
        "print ('Стартовые веса модели: ', start_weights) # Отобразим стартовые веса модели"
      ],
      "execution_count": 0,
      "outputs": [
        {
          "output_type": "stream",
          "text": [
            "Стартовые веса модели:  [array([[-0.17470849],\n",
            "       [-0.96945673]], dtype=float32)]\n"
          ],
          "name": "stdout"
        }
      ]
    },
    {
      "cell_type": "code",
      "metadata": {
        "id": "RKeJ2jRo2vcl",
        "colab_type": "code",
        "colab": {}
      },
      "source": [
        "start_weights = [np.array([[-1.2], [1.1]])] # Зададим свои стартовые веса модели\n",
        "model_d.set_weights(start_weights) # Установим модели указанные веса"
      ],
      "execution_count": 0,
      "outputs": []
    },
    {
      "cell_type": "code",
      "metadata": {
        "id": "ImLVzsCtze2G",
        "colab_type": "code",
        "colab": {}
      },
      "source": [
        "x_train = np.array([[1,0],[0,1]]) # Зададим x_train\n",
        "y_train = np.array([1,-1]) # Зададим y_train"
      ],
      "execution_count": 0,
      "outputs": []
    },
    {
      "cell_type": "code",
      "metadata": {
        "id": "LfZ7_AxgJyMb",
        "colab_type": "code",
        "outputId": "e286b25b-4beb-4017-bc16-682464b1737a",
        "colab": {
          "base_uri": "https://localhost:8080/",
          "height": 686
        }
      },
      "source": [
        "x, y, z = makeData2(model_d, x_train, y_train) # Вызываем функцию получения сетки весов и значений ошибки в этих весах\n",
        "model_d.set_weights(start_weights) # Устанвливаем модели стартовое значение весов\n",
        "l = model_d.train_on_batch(x_train, y_train) # Получим значение ошибки при стартовых весах\n",
        "fig = pylab.figure(figsize=(10,10)) # Создаем объект pylab.figure для построения графиков\n",
        "axes = Axes3D(fig) # Создаем объект Axes3D для построения трехмерного графика\n",
        "axes.plot_surface(x, y, z, rstride=1, cstride=1, alpha = 0.2) # Рисуем поверхность по параметрам x (веса w1), y (веса w2), z (значения ошибок)\n",
        "axes.scatter(start_weights[0][1], start_weights[0][0], l, s=30, color='red') # Рисуем стартовое значение ошибки (l) при стартовых весах\n",
        "pylab.show() # Отображаем график"
      ],
      "execution_count": 0,
      "outputs": [
        {
          "output_type": "display_data",
          "data": {
            "image/png": "[encoded data removed]",
            "text/plain": [
              "<Figure size 720x720 with 1 Axes>"
            ]
          },
          "metadata": {
            "tags": [],
            "needs_background": "light"
          }
        }
      ]
    },
    {
      "cell_type": "code",
      "metadata": {
        "id": "0joVPshffo8f",
        "colab_type": "code",
        "outputId": "55166067-d423-4e2a-b6fc-8c2f992ca8bf",
        "colab": {
          "base_uri": "https://localhost:8080/",
          "height": 34
        }
      },
      "source": [
        "save_weights = [] # Создаем пустой список, в котором будем сохранять веса модели после каждого шага обучения\n",
        "losses = [] # Создаем пустой список, в котором будем сохранять значение ошибки после каждого шага обучения\n",
        "for i in range(4000): # Проходим в цикле 4000 раз\n",
        "  save_weights.append(model_d.get_weights()[0]) # Добавляем в список весов текущее значение весов модели\n",
        "  l = model_d.train_on_batch(x_train, y_train) # Обучаем модель методом train_on_batch и получаем значение ошибки\n",
        "  losses.append(l) # Добавляем полученное значение ошибки в список ошибок\n",
        "print(l) # Выведем ошибку после последнего шага обучения"
      ],
      "execution_count": 0,
      "outputs": [
        {
          "output_type": "stream",
          "text": [
            "0.0001724994508549571\n"
          ],
          "name": "stdout"
        }
      ]
    },
    {
      "cell_type": "code",
      "metadata": {
        "id": "sGll50hcp2J1",
        "colab_type": "code",
        "outputId": "d231c01b-6750-4468-c163-d71900016670",
        "colab": {
          "base_uri": "https://localhost:8080/",
          "height": 50
        }
      },
      "source": [
        "save_weights = np.array(save_weights) # Преобразуем список save_weights в numpy-массив\n",
        "save_weights = save_weights.reshape(-1,2) # Изменим размерность сформированного массива\n",
        "print(save_weights[-1]) # Отобразим последнее значение в массиве (соответствует текущим весам модели)\n",
        "print(losses[-1]) # Отобразим последнее значение в списке ошибок"
      ],
      "execution_count": 0,
      "outputs": [
        {
          "output_type": "stream",
          "text": [
            "[ 0.9938851 -0.9824613]\n",
            "0.0001724994508549571\n"
          ],
          "name": "stdout"
        }
      ]
    },
    {
      "cell_type": "code",
      "metadata": {
        "id": "50-whMBlmt1E",
        "colab_type": "code",
        "outputId": "96d3d80d-9f66-4d07-d793-d01c4c2c6005",
        "colab": {
          "base_uri": "https://localhost:8080/",
          "height": 686
        }
      },
      "source": [
        "fig = pylab.figure(figsize=(10,10)) # Создаем объект pylab.figure для построения графиков\n",
        "axes = Axes3D(fig) # Создаем объект Axes3D для построения трехмерного графика\n",
        "axes.plot_surface(x, y, z, rstride=1, cstride=1, alpha = 0.2) # Рисуем поверхность по параметрам x (веса w1), y (веса w2), z (значения ошибок)\n",
        "axes.scatter(save_weights[0,1], save_weights[0,0], losses[0], s=30, color='red') # Рисуем стартовое значение ошибки (losses[0])\n",
        "axes.scatter(save_weights[:,1], save_weights[:,0], losses[:], s=1, color='green') # Рисуем все значения ошибок\n",
        "axes.scatter(save_weights[-1,1], save_weights[-1,0], losses[-1], s=30, color='black') # Рисуем финальное значение ошибки (losses[-1])\n",
        "pylab.show()"
      ],
      "execution_count": 0,
      "outputs": [
        {
          "output_type": "display_data",
          "data": {
            "image/png": "[encoded data removed]",
            "text/plain": [
              "<Figure size 720x720 with 1 Axes>"
            ]
          },
          "metadata": {
            "tags": [],
            "needs_background": "light"
          }
        }
      ]
    },
    {
      "cell_type": "markdown",
      "metadata": {
        "id": "nqZpzs2nBs63",
        "colab_type": "text"
      },
      "source": [
        "# Распознавание рукописных цифр MNIST"
      ]
    },
    {
      "cell_type": "markdown",
      "metadata": {
        "id": "qLX9aj3eFCPB",
        "colab_type": "text"
      },
      "source": [
        "## Подготовка данных\n",
        "\n",
        "*Разбор данного раздела:* https://youtu.be/lYcVD0Con-A?t=6879"
      ]
    },
    {
      "cell_type": "code",
      "metadata": {
        "id": "xnYVjcnJC4TY",
        "colab_type": "code",
        "outputId": "317e0f5f-a7e9-4f00-d794-b57d09897f02",
        "colab": {
          "base_uri": "https://localhost:8080/",
          "height": 70
        }
      },
      "source": [
        "(x_train_org, y_train_org), (x_test_org, y_test_org) = mnist.load_data() #Загрузка данных Mnist"
      ],
      "execution_count": 0,
      "outputs": [
        {
          "output_type": "stream",
          "text": [
            "Downloading data from https://storage.googleapis.com/tensorflow/tf-keras-datasets/mnist.npz\n",
            "11493376/11490434 [==============================] - 0s 0us/step\n"
          ],
          "name": "stdout"
        }
      ]
    },
    {
      "cell_type": "code",
      "metadata": {
        "id": "ts-z0Oh_EJJ_",
        "colab_type": "code",
        "outputId": "fbe3dc92-05fc-47f5-c9b3-1606dfa3ce51",
        "colab": {
          "base_uri": "https://localhost:8080/",
          "height": 265
        }
      },
      "source": [
        "n = 345 #Номер картинки\n",
        "plt.imshow(Image.fromarray(x_train_org[n]).convert('RGBA')) #Отрисовка картинки\n",
        "plt.show() # Вывод картинки"
      ],
      "execution_count": 0,
      "outputs": [
        {
          "output_type": "display_data",
          "data": {
            "image/png": "[encoded data removed]",
            "text/plain": [
              "<Figure size 432x288 with 1 Axes>"
            ]
          },
          "metadata": {
            "tags": [],
            "needs_background": "light"
          }
        }
      ]
    },
    {
      "cell_type": "code",
      "metadata": {
        "id": "StxOw0C6EQQd",
        "colab_type": "code",
        "outputId": "3ae5bc54-0301-4238-d07e-d10e0b6970d2",
        "colab": {
          "base_uri": "https://localhost:8080/",
          "height": 50
        }
      },
      "source": [
        "#Меняем формат входных картинок с 28х28 на 784х1\n",
        "x_train = x_train_org.reshape(60000, 784)\n",
        "x_test = x_test_org.reshape(10000, 784)\n",
        "print(x_train_org.shape)\n",
        "print(x_train.shape)"
      ],
      "execution_count": 0,
      "outputs": [
        {
          "output_type": "stream",
          "text": [
            "(60000, 28, 28)\n",
            "(60000, 784)\n"
          ],
          "name": "stdout"
        }
      ]
    },
    {
      "cell_type": "code",
      "metadata": {
        "id": "R5cW-u8eEXBN",
        "colab_type": "code",
        "colab": {}
      },
      "source": [
        "#Нормализуем входные картинки\n",
        "x_train = x_train.astype('float32') # преобразовываем x_train в тип float (цифры с плавающей точкой)\n",
        "x_train = x_train / 255 # делим на 255, чтобы диапазон был от 0 до 1\n",
        "x_test = x_test.astype('float32') # преобразовываем x_test в тип float (цифры с плавающей точкой)\n",
        "x_test = x_test / 255 # делим на 255, чтобы диапазон был от 0 до 1"
      ],
      "execution_count": 0,
      "outputs": []
    },
    {
      "cell_type": "code",
      "metadata": {
        "id": "zrxFxFA5EsVU",
        "colab_type": "code",
        "colab": {}
      },
      "source": [
        "# Преобразуем ответы в формат one_hot_encoding\n",
        "y_train = utils.to_categorical(y_train_org, 10)\n",
        "y_test = utils.to_categorical(y_test_org, 10)"
      ],
      "execution_count": 0,
      "outputs": []
    },
    {
      "cell_type": "code",
      "metadata": {
        "id": "7AiDf79FE2Xk",
        "colab_type": "code",
        "outputId": "fee2ab42-10e8-43d9-bc5d-409ba5a7a92b",
        "colab": {
          "base_uri": "https://localhost:8080/",
          "height": 34
        }
      },
      "source": [
        "#Выводим размер y_train\n",
        "#60 тысяч примеров, каждый размера 10 (так как 10 классов)\n",
        "print(y_train.shape)"
      ],
      "execution_count": 0,
      "outputs": [
        {
          "output_type": "stream",
          "text": [
            "(60000, 10)\n"
          ],
          "name": "stdout"
        }
      ]
    },
    {
      "cell_type": "code",
      "metadata": {
        "id": "i7MZ1HbBE7me",
        "colab_type": "code",
        "outputId": "80d7853e-7f1d-4479-f6b4-2cb07997b3a3",
        "colab": {
          "base_uri": "https://localhost:8080/",
          "height": 34
        }
      },
      "source": [
        "print(y_train[n]) #Выводим пример одного выходного вектора"
      ],
      "execution_count": 0,
      "outputs": [
        {
          "output_type": "stream",
          "text": [
            "[0. 1. 0. 0. 0. 0. 0. 0. 0. 0.]\n"
          ],
          "name": "stdout"
        }
      ]
    },
    {
      "cell_type": "code",
      "metadata": {
        "id": "LyIjTL5BNxus",
        "colab_type": "code",
        "outputId": "ee48f4ab-2c71-429a-d2bb-c82e4de52163",
        "colab": {
          "base_uri": "https://localhost:8080/",
          "height": 34
        }
      },
      "source": [
        "print(y_train_org.shape)"
      ],
      "execution_count": 0,
      "outputs": [
        {
          "output_type": "stream",
          "text": [
            "(60000,)\n"
          ],
          "name": "stdout"
        }
      ]
    },
    {
      "cell_type": "code",
      "metadata": {
        "id": "L6kqzxeiN0IK",
        "colab_type": "code",
        "outputId": "e4e1a1a3-c288-4bcf-9238-9804f3e858b3",
        "colab": {
          "base_uri": "https://localhost:8080/",
          "height": 34
        }
      },
      "source": [
        "print(y_train_org[36])"
      ],
      "execution_count": 0,
      "outputs": [
        {
          "output_type": "stream",
          "text": [
            "6\n"
          ],
          "name": "stdout"
        }
      ]
    },
    {
      "cell_type": "markdown",
      "metadata": {
        "id": "TR6ua7t7FEzn",
        "colab_type": "text"
      },
      "source": [
        "## Создание нейронной сети\n",
        "\n",
        "*Разбор данного раздела:* https://youtu.be/lYcVD0Con-A?t=7351"
      ]
    },
    {
      "cell_type": "code",
      "metadata": {
        "id": "odi8yVyxE-w5",
        "colab_type": "code",
        "colab": {}
      },
      "source": [
        "model = Sequential() # Создаём сеть прямого распространения\n",
        "model.add(Dense(800, input_dim=784, activation=\"relu\")) # Добавляем полносвязный слой на 800 нейронов с relu-активацией\n",
        "model.add(Dense(400, activation=\"relu\")) # Добавляем полносвязный слой на 400 нейронов с relu-активацией\n",
        "model.add(Dense(10, activation=\"softmax\")) # Добавляем полносвязный слой на 10 нейронов с softmax-активацией"
      ],
      "execution_count": 0,
      "outputs": []
    },
    {
      "cell_type": "code",
      "metadata": {
        "id": "6EMUkxTqFkc1",
        "colab_type": "code",
        "outputId": "49bf57cb-b5ff-4a3e-e89b-ef765828c8d7",
        "colab": {
          "base_uri": "https://localhost:8080/",
          "height": 269
        }
      },
      "source": [
        "model.compile(loss=\"categorical_crossentropy\", optimizer=\"adam\", metrics=[\"accuracy\"]) # Компилируем модель\n",
        "print(model.summary()) #Вывод структуры модели"
      ],
      "execution_count": 0,
      "outputs": [
        {
          "output_type": "stream",
          "text": [
            "Model: \"sequential_7\"\n",
            "_________________________________________________________________\n",
            "Layer (type)                 Output Shape              Param #   \n",
            "=================================================================\n",
            "dense_13 (Dense)             (None, 800)               628000    \n",
            "_________________________________________________________________\n",
            "dense_14 (Dense)             (None, 400)               320400    \n",
            "_________________________________________________________________\n",
            "dense_15 (Dense)             (None, 10)                4010      \n",
            "=================================================================\n",
            "Total params: 952,410\n",
            "Trainable params: 952,410\n",
            "Non-trainable params: 0\n",
            "_________________________________________________________________\n",
            "None\n"
          ],
          "name": "stdout"
        }
      ]
    },
    {
      "cell_type": "markdown",
      "metadata": {
        "id": "H4WWjjxnF3qn",
        "colab_type": "text"
      },
      "source": [
        "## Обучение нейронной сети\n",
        "\n",
        "*Разбор данного раздела:* https://youtu.be/lYcVD0Con-A?t=7634"
      ]
    },
    {
      "cell_type": "code",
      "metadata": {
        "id": "tzArU3n3F6Lo",
        "colab_type": "code",
        "outputId": "a389f945-4ec3-4a12-ce83-fcc5e8a41c6b",
        "colab": {
          "base_uri": "https://localhost:8080/",
          "height": 558
        }
      },
      "source": [
        "#fit - функция обучения нейронки\n",
        "#x_train, y_train - обучающая выборка, входные и выходные данные\n",
        "#batch_size - размер батча, количество примеров, которое обрабатывает нейронка перед одним изменением весов\n",
        "#epochs - количество эпох, когда нейронка обучается на всех примерах выборки\n",
        "#verbose - 0 - не визуализировать ход обучения, 1 - визуализировать\n",
        "model.fit(x_train, y_train, batch_size=128, epochs=15, verbose=1)"
      ],
      "execution_count": 0,
      "outputs": [
        {
          "output_type": "stream",
          "text": [
            "Epoch 1/15\n",
            "469/469 [==============================] - 1s 3ms/step - loss: 0.2059 - accuracy: 0.9380\n",
            "Epoch 2/15\n",
            "469/469 [==============================] - 1s 3ms/step - loss: 0.0756 - accuracy: 0.9765\n",
            "Epoch 3/15\n",
            "469/469 [==============================] - 1s 3ms/step - loss: 0.0476 - accuracy: 0.9846\n",
            "Epoch 4/15\n",
            "469/469 [==============================] - 1s 3ms/step - loss: 0.0336 - accuracy: 0.9890\n",
            "Epoch 5/15\n",
            "469/469 [==============================] - 1s 3ms/step - loss: 0.0261 - accuracy: 0.9909\n",
            "Epoch 6/15\n",
            "469/469 [==============================] - 1s 2ms/step - loss: 0.0220 - accuracy: 0.9929\n",
            "Epoch 7/15\n",
            "469/469 [==============================] - 1s 2ms/step - loss: 0.0146 - accuracy: 0.9950\n",
            "Epoch 8/15\n",
            "469/469 [==============================] - 1s 3ms/step - loss: 0.0185 - accuracy: 0.9936\n",
            "Epoch 9/15\n",
            "469/469 [==============================] - 1s 2ms/step - loss: 0.0135 - accuracy: 0.9956\n",
            "Epoch 10/15\n",
            "469/469 [==============================] - 1s 2ms/step - loss: 0.0128 - accuracy: 0.9958\n",
            "Epoch 11/15\n",
            "469/469 [==============================] - 1s 2ms/step - loss: 0.0124 - accuracy: 0.9958\n",
            "Epoch 12/15\n",
            "469/469 [==============================] - 1s 2ms/step - loss: 0.0081 - accuracy: 0.9972\n",
            "Epoch 13/15\n",
            "469/469 [==============================] - 1s 2ms/step - loss: 0.0137 - accuracy: 0.9953\n",
            "Epoch 14/15\n",
            "469/469 [==============================] - 1s 2ms/step - loss: 0.0089 - accuracy: 0.9973\n",
            "Epoch 15/15\n",
            "469/469 [==============================] - 1s 2ms/step - loss: 0.0094 - accuracy: 0.9969\n"
          ],
          "name": "stdout"
        },
        {
          "output_type": "execute_result",
          "data": {
            "text/plain": [
              "<tensorflow.python.keras.callbacks.History at 0x7f4689a8fd68>"
            ]
          },
          "metadata": {
            "tags": []
          },
          "execution_count": 95
        }
      ]
    },
    {
      "cell_type": "code",
      "metadata": {
        "id": "nmxH0W_QSOIX",
        "colab_type": "code",
        "colab": {}
      },
      "source": [
        "model.save_weights('model.h5')\n",
        "model.load_weights('model.h5')"
      ],
      "execution_count": 0,
      "outputs": []
    },
    {
      "cell_type": "markdown",
      "metadata": {
        "id": "ExUOoWQOGvw6",
        "colab_type": "text"
      },
      "source": [
        "## Распознавание рукописных цифр\n",
        "\n",
        "*Разбор данного раздела:* https://youtu.be/lYcVD0Con-A?t=7841"
      ]
    },
    {
      "cell_type": "code",
      "metadata": {
        "id": "ydE7Bb-5G82-",
        "colab_type": "code",
        "outputId": "5457e2b1-2d6f-4189-e279-11ae67ec3eb5",
        "colab": {
          "base_uri": "https://localhost:8080/",
          "height": 265
        }
      },
      "source": [
        "n_rec = 1234 #Номер тестовой цифры, которую будем распознавать\n",
        "plt.imshow(Image.fromarray(x_test_org[n_rec]).convert('RGBA')) # Нарисуем картинку из тестового набора под номером n_rec\n",
        "plt.show()"
      ],
      "execution_count": 0,
      "outputs": [
        {
          "output_type": "display_data",
          "data": {
            "image/png": "[encoded data removed]",
            "text/plain": [
              "<Figure size 432x288 with 1 Axes>"
            ]
          },
          "metadata": {
            "tags": [],
            "needs_background": "light"
          }
        }
      ]
    },
    {
      "cell_type": "code",
      "metadata": {
        "id": "_85gvY6uHABc",
        "colab_type": "code",
        "outputId": "b5828374-44d4-42d8-c9d7-4b74b2332014",
        "colab": {
          "base_uri": "https://localhost:8080/",
          "height": 34
        }
      },
      "source": [
        "#Выбираем нужную картинку из тестовой выборки\n",
        "x = x_test[n_rec]\n",
        "print(x.shape)"
      ],
      "execution_count": 0,
      "outputs": [
        {
          "output_type": "stream",
          "text": [
            "(784,)\n"
          ],
          "name": "stdout"
        }
      ]
    },
    {
      "cell_type": "code",
      "metadata": {
        "id": "IljyFhj0HPPC",
        "colab_type": "code",
        "outputId": "02db0c81-d15e-4106-bf12-d101a2a20bd7",
        "colab": {
          "base_uri": "https://localhost:8080/",
          "height": 34
        }
      },
      "source": [
        "#Добавляем одну размерность в конце, чтобы нейронка могла распознать пример\n",
        "#Потому что нейронка принимает именно массив примеров для распознавания\n",
        "#Мы делаем массив из одного примера\n",
        "x = np.expand_dims(x, axis=0)\n",
        "print(x.shape)"
      ],
      "execution_count": 0,
      "outputs": [
        {
          "output_type": "stream",
          "text": [
            "(1, 784)\n"
          ],
          "name": "stdout"
        }
      ]
    },
    {
      "cell_type": "code",
      "metadata": {
        "id": "VigT6aeAHQ91",
        "colab_type": "code",
        "colab": {}
      },
      "source": [
        "prediction = model.predict(x) #Распознаём наш пример"
      ],
      "execution_count": 0,
      "outputs": []
    },
    {
      "cell_type": "code",
      "metadata": {
        "id": "fGF9xUCRHSOE",
        "colab_type": "code",
        "outputId": "34a0aa6c-6847-49bf-a664-9a7d73e467c4",
        "colab": {
          "base_uri": "https://localhost:8080/",
          "height": 50
        }
      },
      "source": [
        "print(prediction) #Выводим результат, это 10 цифр"
      ],
      "execution_count": 0,
      "outputs": [
        {
          "output_type": "stream",
          "text": [
            "[[2.8463360e-14 1.4467623e-10 1.6205480e-09 1.4349602e-08 3.2107832e-16\n",
            "  1.3162562e-08 7.5701329e-10 1.2844487e-12 1.0000000e+00 4.5385347e-14]]\n"
          ],
          "name": "stdout"
        }
      ]
    },
    {
      "cell_type": "code",
      "metadata": {
        "id": "9pg67PW9HV4A",
        "colab_type": "code",
        "outputId": "fe775195-85a3-4902-e4d1-78a846054b8c",
        "colab": {
          "base_uri": "https://localhost:8080/",
          "height": 34
        }
      },
      "source": [
        "prediction = np.argmax(prediction) # Получаем индекс самого большого элемента (это итоговая цифра, которую распознала сеть)\n",
        "print(prediction)"
      ],
      "execution_count": 0,
      "outputs": [
        {
          "output_type": "stream",
          "text": [
            "8\n"
          ],
          "name": "stdout"
        }
      ]
    },
    {
      "cell_type": "code",
      "metadata": {
        "id": "72Rbs1E9HeRZ",
        "colab_type": "code",
        "outputId": "ff7bec47-6e5d-48e6-b07b-782f63cd0643",
        "colab": {
          "base_uri": "https://localhost:8080/",
          "height": 34
        }
      },
      "source": [
        "print(y_test_org[n_rec]) #выводим правильный ответ, для сравнения"
      ],
      "execution_count": 0,
      "outputs": [
        {
          "output_type": "stream",
          "text": [
            "8\n"
          ],
          "name": "stdout"
        }
      ]
    },
    {
      "cell_type": "markdown",
      "metadata": {
        "id": "Pa2_uq889QCz",
        "colab_type": "text"
      },
      "source": [
        "# Глоссарий"
      ]
    },
    {
      "cell_type": "markdown",
      "metadata": {
        "id": "uGF-KxJX9Uyx",
        "colab_type": "text"
      },
      "source": [
        "**Функции активации**\n",
        "\n",
        "https://keras.io/activations/ - документация\n",
        "\n",
        "*   sigmoid - на выходе значения от 0 до 1\n",
        "*   relu - на выходе значения от 0 до +∞\n",
        "*   tanh - на выходе значения от -1 до +1\n",
        "*   softmax - сумма значения выходов всех нейронов равна 1\n",
        "\n",
        "**Функции ошибок**\n",
        "\n",
        "https://keras.io/losses/ - документация\n",
        "\n",
        "\n",
        "*   mse - среднеквадратичное отклонение\n",
        "*   mae - среднее абсолютное значение\n",
        "*   binary_crossentropy - бинарная кроссэнтропия\n",
        "*   categorical_crossentropy - категориальная кроссэнтропия\n",
        "\n",
        "**Оптимизаторы**\n",
        "\n",
        "https://keras.io/optimizers/ - документация\n",
        "\n",
        "\n",
        "\n",
        "*   Adam\n",
        "*   RMSProp\n",
        "*   Adadelta\n",
        "\n",
        "**Градиентный спуск** - процесс поиска минимума функции ошибки\n",
        "\n",
        "**MNIST** - набор изображений рукописных цифр 28х28 пикселей\n",
        "\n",
        "**Способы обучения сети:**\n",
        "\n",
        "*   .train_on_batch - один шаг обучения на фиксированном наборе данных\n",
        "*   .fit - итерационное обучение сети с возможностью указания количества итераций (epochs) и размера пакета с обучающими данными (batch_size)\n",
        "\n",
        "**Загрузка изображения**\n",
        "\n",
        "image.load_img(path, target_size=(28, 28), color_mode = ‘grayscale’)\n",
        "\n",
        "\n",
        "\n"
      ]
    }
  ]
}