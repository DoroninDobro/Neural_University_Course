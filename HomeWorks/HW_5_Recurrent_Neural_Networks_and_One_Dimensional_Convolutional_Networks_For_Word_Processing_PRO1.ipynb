{
  "nbformat": 4,
  "nbformat_minor": 0,
  "metadata": {
    "colab": {
      "name": "HW_5_Recurrent_Neural_Networks_and_One_Dimensional_Convolutional_Networks_For_Word_Processing_PRO1.ipynb",
      "provenance": [],
      "collapsed_sections": [],
      "machine_shape": "hm"
    },
    "kernelspec": {
      "name": "python3",
      "display_name": "Python 3"
    },
    "accelerator": "GPU"
  },
  "cells": [
    {
      "cell_type": "markdown",
      "metadata": {
        "id": "HN6pm2WNSppR",
        "colab_type": "text"
      },
      "source": [
        "## Задание"
      ]
    },
    {
      "cell_type": "markdown",
      "metadata": {
        "id": "CZ3v_ZRuOGLn",
        "colab_type": "text"
      },
      "source": [
        "Напишите классификацию заболеваний по базе симптомов, используя любые подходы, связанные с обработкой текстов.\n",
        "\n",
        "- Embedding + LSTM сеть.\n",
        "- Embedding + Conv1D сеть.\n",
        "- Embedding + сложная сеть из Dense, LSTM и Conv1D.\n",
        "\n",
        "Добейтесь максимальной точности распознавания.\n",
        "Используйте xLen = 50.\n",
        "\n"
      ]
    },
    {
      "cell_type": "code",
      "metadata": {
        "id": "9c-p9wyqmSKJ",
        "colab_type": "code",
        "colab": {}
      },
      "source": [
        "from tensorflow.keras import utils\n",
        "from tensorflow.keras.models import Sequential\n",
        "from tensorflow.keras.layers import Dense, Dropout, BatchNormalization, Embedding, Flatten, Activation\n",
        "from tensorflow.keras.layers import Conv1D, SpatialDropout1D, MaxPooling1D, GlobalAveragePooling1D, GlobalMaxPooling1D\n",
        "from tensorflow.keras.layers import LSTM, GRU, SimpleRNN, Bidirectional\n",
        "from tensorflow.python.keras.optimizers import Adam, RMSprop\n",
        "from keras.preprocessing.text import Tokenizer, text_to_word_sequence\n",
        "from sklearn.model_selection import train_test_split\n",
        "from google.colab import files\n",
        "import numpy as np\n",
        "import pandas as pd\n",
        "import os\n",
        "import matplotlib.pyplot as plt\n",
        "%matplotlib inline"
      ],
      "execution_count": 0,
      "outputs": []
    },
    {
      "cell_type": "code",
      "metadata": {
        "id": "X7sTBsOrA_gb",
        "colab_type": "code",
        "outputId": "f25c7772-e307-42bb-882a-aa2f2773f0f5",
        "colab": {
          "base_uri": "https://localhost:8080/",
          "height": 128
        }
      },
      "source": [
        "from google.colab import drive\n",
        "drive.mount('/content/drive')"
      ],
      "execution_count": 3,
      "outputs": [
        {
          "output_type": "stream",
          "text": [
            "Go to this URL in a browser: https://accounts.google.com/o/oauth2/auth?client_id=947318989803-6bn6qk8qdgf4n4g3pfee6491hc0brc4i.apps.googleusercontent.com&redirect_uri=urn%3aietf%3awg%3aoauth%3a2.0%3aoob&response_type=code&scope=email%20https%3a%2f%2fwww.googleapis.com%2fauth%2fdocs.test%20https%3a%2f%2fwww.googleapis.com%2fauth%2fdrive%20https%3a%2f%2fwww.googleapis.com%2fauth%2fdrive.photos.readonly%20https%3a%2f%2fwww.googleapis.com%2fauth%2fpeopleapi.readonly\n",
            "\n",
            "Enter your authorization code:\n",
            "··········\n",
            "Mounted at /content/drive\n"
          ],
          "name": "stdout"
        }
      ]
    },
    {
      "cell_type": "code",
      "metadata": {
        "id": "n9g3RU6D6olY",
        "colab_type": "code",
        "colab": {}
      },
      "source": [
        "!unzip -q '/content/drive/My Drive/Болезни.zip' -d /content/texts"
      ],
      "execution_count": 0,
      "outputs": []
    },
    {
      "cell_type": "code",
      "metadata": {
        "id": "8nYuUzgw6NLd",
        "colab_type": "code",
        "outputId": "6339609a-db79-4172-850a-fa5569525073",
        "colab": {
          "base_uri": "https://localhost:8080/",
          "height": 35
        }
      },
      "source": [
        "!ls"
      ],
      "execution_count": 5,
      "outputs": [
        {
          "output_type": "stream",
          "text": [
            "drive  sample_data  texts\n"
          ],
          "name": "stdout"
        }
      ]
    },
    {
      "cell_type": "code",
      "metadata": {
        "colab_type": "code",
        "id": "axpjh6YdzX9r",
        "colab": {}
      },
      "source": [
        "def readText(fileName):\n",
        "  f = open(fileName, 'r')\n",
        "  text = f.read().replace('\\n', ' ')\n",
        "  return text\n",
        "\n",
        "className = [\"Аппендицит\", \"Гастрит\", \"Гепатит\", \"Дуоденит\", \"Колит\", \"Панкреатит\", 'Холицестит', 'Эзофагит', 'Энтерит', 'Язва']\n",
        "nClasses = len(className)\n",
        "\n",
        "trainText = []\n",
        "testText = []\n",
        "import re\n",
        "regex = re.compile('\\W+')\n",
        "\n",
        "for i in className:\n",
        "  fileName = 'texts/Болезни/' + i + '.txt'\n",
        "  text = readText(fileName)\n",
        "  trainText.append(regex.sub(' ', text))\n",
        "\n",
        "base_text = trainText.copy()\n",
        "for i, t in enumerate(trainText):\n",
        "  testText.append(trainText[i][-len(trainText[i])*3//10:])\n",
        "  trainText[i] = t[:-len(trainText[i])*3//10]"
      ],
      "execution_count": 0,
      "outputs": []
    },
    {
      "cell_type": "code",
      "metadata": {
        "id": "Z-GInD1pO1Z3",
        "colab_type": "code",
        "colab": {}
      },
      "source": [
        "tokenizer = Tokenizer(num_words=500, filters='!\"#$%&()*+,-–—./…:;<=>?@[\\\\]^_`{|}~«»\\t\\n\\xa0', lower=True, split=' ', oov_token='unknown', char_level=False)\n",
        "tokenizer.fit_on_texts(trainText)\n",
        "trainWordIndexes = tokenizer.texts_to_sequences(trainText)\n",
        "testWordIndexes = tokenizer.texts_to_sequences(testText)"
      ],
      "execution_count": 0,
      "outputs": []
    },
    {
      "cell_type": "code",
      "metadata": {
        "id": "gFW19Gq0PBZ8",
        "colab_type": "code",
        "colab": {}
      },
      "source": [
        "def getSetFromIndexes(wordIndexes, xLen, step):\n",
        "  xSample = []\n",
        "  wordsLen = len(wordIndexes)\n",
        "  index = 0\n",
        "  while (index + xLen <= wordsLen):\n",
        "    xSample.append(wordIndexes[index:index+xLen])\n",
        "    index += step\n",
        "  return xSample\n",
        "\n",
        "def createSetsMultiClasses(wordIndexes, xLen, step):\n",
        "  nClasses = len(wordIndexes)\n",
        "  classesXSamples = []\n",
        "  for wI in wordIndexes:\n",
        "    classesXSamples.append(getSetFromIndexes(wI, xLen, step)) \n",
        "  xSamples = []\n",
        "  ySamples = []\n",
        "  for t in range(nClasses):\n",
        "    xT = classesXSamples[t]\n",
        "    for i in range(len(xT)):\n",
        "      xSamples.append(xT[i])\n",
        "      ySamples.append(utils.to_categorical(t, nClasses))\n",
        "  xSamples = np.array(xSamples)\n",
        "  ySamples = np.array(ySamples)\n",
        "  return (xSamples, ySamples)"
      ],
      "execution_count": 0,
      "outputs": []
    },
    {
      "cell_type": "code",
      "metadata": {
        "id": "SgzoAiyawSwJ",
        "colab_type": "code",
        "colab": {}
      },
      "source": [
        "xLen = 50\n",
        "step = 5"
      ],
      "execution_count": 0,
      "outputs": []
    },
    {
      "cell_type": "code",
      "metadata": {
        "id": "CqAgZWT8RH0b",
        "colab_type": "code",
        "colab": {}
      },
      "source": [
        "xTrain, yTrain = createSetsMultiClasses(trainWordIndexes, xLen, step)\n",
        "xTest, yTest = createSetsMultiClasses(testWordIndexes, xLen, step)"
      ],
      "execution_count": 0,
      "outputs": []
    },
    {
      "cell_type": "code",
      "metadata": {
        "id": "SP5rNgVXzyFt",
        "colab_type": "code",
        "outputId": "3847d311-6899-4f2b-d5f1-cc9b5b097a8e",
        "colab": {
          "base_uri": "https://localhost:8080/",
          "height": 1000
        }
      },
      "source": [
        "model = Sequential()\n",
        "model.add(Embedding(500, 12, input_length=xLen))\n",
        "model.add(LSTM(4))\n",
        "model.add(Flatten())\n",
        "model.add(BatchNormalization())\n",
        "model.add(Dense(10, activation='softmax'))\n",
        "\n",
        "model.compile(optimizer='adam', \n",
        "              loss='categorical_crossentropy', \n",
        "              metrics=['accuracy'])\n",
        "\n",
        "history = model.fit(xTrain, \n",
        "                    yTrain, \n",
        "                    epochs=20,\n",
        "                    batch_size=25,\n",
        "                    validation_data=(xTest, yTest))\n",
        "\n",
        "plt.plot(history.history['accuracy'], \n",
        "         label='Доля верных ответов на обучающем наборе')\n",
        "plt.plot(history.history['val_accuracy'], \n",
        "         label='Доля верных ответов на проверочном наборе')\n",
        "plt.xlabel('Эпоха обучения')\n",
        "plt.ylabel('Доля верных ответов')\n",
        "plt.legend()\n",
        "plt.show()"
      ],
      "execution_count": 43,
      "outputs": [
        {
          "output_type": "stream",
          "text": [
            "Epoch 1/20\n",
            "42/42 [==============================] - 1s 25ms/step - loss: 2.1897 - accuracy: 0.1948 - val_loss: 2.2827 - val_accuracy: 0.1892\n",
            "Epoch 2/20\n",
            "42/42 [==============================] - 1s 13ms/step - loss: 1.9250 - accuracy: 0.3572 - val_loss: 2.2698 - val_accuracy: 0.1400\n",
            "Epoch 3/20\n",
            "42/42 [==============================] - 1s 14ms/step - loss: 1.6337 - accuracy: 0.4222 - val_loss: 2.2066 - val_accuracy: 0.3219\n",
            "Epoch 4/20\n",
            "42/42 [==============================] - 1s 14ms/step - loss: 1.4489 - accuracy: 0.4890 - val_loss: 2.1468 - val_accuracy: 0.2654\n",
            "Epoch 5/20\n",
            "42/42 [==============================] - 1s 14ms/step - loss: 1.3127 - accuracy: 0.5406 - val_loss: 2.1015 - val_accuracy: 0.2162\n",
            "Epoch 6/20\n",
            "42/42 [==============================] - 1s 14ms/step - loss: 1.1931 - accuracy: 0.5817 - val_loss: 2.0428 - val_accuracy: 0.2776\n",
            "Epoch 7/20\n",
            "42/42 [==============================] - 1s 14ms/step - loss: 1.0933 - accuracy: 0.6418 - val_loss: 1.9148 - val_accuracy: 0.3194\n",
            "Epoch 8/20\n",
            "42/42 [==============================] - 1s 14ms/step - loss: 1.0049 - accuracy: 0.7326 - val_loss: 1.8017 - val_accuracy: 0.4005\n",
            "Epoch 9/20\n",
            "42/42 [==============================] - 1s 14ms/step - loss: 0.9352 - accuracy: 0.7908 - val_loss: 1.7547 - val_accuracy: 0.3833\n",
            "Epoch 10/20\n",
            "42/42 [==============================] - 1s 14ms/step - loss: 0.8525 - accuracy: 0.8415 - val_loss: 1.7911 - val_accuracy: 0.3292\n",
            "Epoch 11/20\n",
            "42/42 [==============================] - 1s 14ms/step - loss: 0.7874 - accuracy: 0.8806 - val_loss: 1.6057 - val_accuracy: 0.3931\n",
            "Epoch 12/20\n",
            "42/42 [==============================] - 1s 14ms/step - loss: 0.7108 - accuracy: 0.8959 - val_loss: 1.5776 - val_accuracy: 0.4275\n",
            "Epoch 13/20\n",
            "42/42 [==============================] - 1s 14ms/step - loss: 0.6737 - accuracy: 0.8968 - val_loss: 1.5949 - val_accuracy: 0.4201\n",
            "Epoch 14/20\n",
            "42/42 [==============================] - 1s 14ms/step - loss: 0.6032 - accuracy: 0.9217 - val_loss: 1.5295 - val_accuracy: 0.4767\n",
            "Epoch 15/20\n",
            "42/42 [==============================] - 1s 13ms/step - loss: 0.5492 - accuracy: 0.9274 - val_loss: 1.5439 - val_accuracy: 0.4791\n",
            "Epoch 16/20\n",
            "42/42 [==============================] - 1s 14ms/step - loss: 0.5102 - accuracy: 0.9360 - val_loss: 1.5946 - val_accuracy: 0.4521\n",
            "Epoch 17/20\n",
            "42/42 [==============================] - 1s 14ms/step - loss: 0.4801 - accuracy: 0.9408 - val_loss: 1.5669 - val_accuracy: 0.4889\n",
            "Epoch 18/20\n",
            "42/42 [==============================] - 1s 13ms/step - loss: 0.4401 - accuracy: 0.9465 - val_loss: 1.5134 - val_accuracy: 0.4939\n",
            "Epoch 19/20\n",
            "42/42 [==============================] - 1s 14ms/step - loss: 0.4089 - accuracy: 0.9542 - val_loss: 1.4470 - val_accuracy: 0.5135\n",
            "Epoch 20/20\n",
            "42/42 [==============================] - 1s 14ms/step - loss: 0.3792 - accuracy: 0.9589 - val_loss: 1.5921 - val_accuracy: 0.4816\n"
          ],
          "name": "stdout"
        },
        {
          "output_type": "display_data",
          "data": {
            "image/png": "[encoded data removed]",
            "text/plain": [
              "<Figure size 432x288 with 1 Axes>"
            ]
          },
          "metadata": {
            "tags": [],
            "needs_background": "light"
          }
        }
      ]
    },
    {
      "cell_type": "code",
      "metadata": {
        "id": "LWFCqDALzHOR",
        "colab_type": "code",
        "outputId": "9fb39c9f-b6e5-4dc5-805f-0124c13c002f",
        "colab": {
          "base_uri": "https://localhost:8080/",
          "height": 1000
        }
      },
      "source": [
        "model = Sequential()\n",
        "model.add(Embedding(500, 12, input_length=xLen))\n",
        "model.add(SpatialDropout1D(0.2))\n",
        "model.add(Flatten())\n",
        "model.add(BatchNormalization())\n",
        "model.add(Dense(10, activation='softmax'))\n",
        "\n",
        "model.compile(optimizer='adam', \n",
        "              loss='categorical_crossentropy', \n",
        "              metrics=['accuracy'])\n",
        "\n",
        "history = model.fit(xTrain, \n",
        "                    yTrain, \n",
        "                    epochs=30,\n",
        "                    batch_size=25,\n",
        "                    validation_data=(xTest, yTest))\n",
        "\n",
        "plt.plot(history.history['accuracy'], \n",
        "         label='Доля верных ответов на обучающем наборе')\n",
        "plt.plot(history.history['val_accuracy'], \n",
        "         label='Доля верных ответов на проверочном наборе')\n",
        "plt.xlabel('Эпоха обучения')\n",
        "plt.ylabel('Доля верных ответов')\n",
        "plt.legend()\n",
        "plt.show()"
      ],
      "execution_count": 44,
      "outputs": [
        {
          "output_type": "stream",
          "text": [
            "Epoch 1/30\n",
            "42/42 [==============================] - 0s 9ms/step - loss: 2.5271 - accuracy: 0.1423 - val_loss: 2.2234 - val_accuracy: 0.2064\n",
            "Epoch 2/30\n",
            "42/42 [==============================] - 0s 7ms/step - loss: 1.7601 - accuracy: 0.4088 - val_loss: 2.1958 - val_accuracy: 0.2064\n",
            "Epoch 3/30\n",
            "42/42 [==============================] - 0s 7ms/step - loss: 1.1378 - accuracy: 0.6753 - val_loss: 2.1762 - val_accuracy: 0.2727\n",
            "Epoch 4/30\n",
            "42/42 [==============================] - 0s 6ms/step - loss: 0.6318 - accuracy: 0.8825 - val_loss: 2.1521 - val_accuracy: 0.2752\n",
            "Epoch 5/30\n",
            "42/42 [==============================] - 0s 6ms/step - loss: 0.3583 - accuracy: 0.9580 - val_loss: 2.1158 - val_accuracy: 0.2703\n",
            "Epoch 6/30\n",
            "42/42 [==============================] - 0s 6ms/step - loss: 0.2199 - accuracy: 0.9885 - val_loss: 2.0702 - val_accuracy: 0.3047\n",
            "Epoch 7/30\n",
            "42/42 [==============================] - 0s 6ms/step - loss: 0.1497 - accuracy: 0.9885 - val_loss: 2.0237 - val_accuracy: 0.3415\n",
            "Epoch 8/30\n",
            "42/42 [==============================] - 0s 6ms/step - loss: 0.1089 - accuracy: 0.9943 - val_loss: 1.9665 - val_accuracy: 0.3464\n",
            "Epoch 9/30\n",
            "42/42 [==============================] - 0s 6ms/step - loss: 0.0870 - accuracy: 0.9952 - val_loss: 1.9059 - val_accuracy: 0.3636\n",
            "Epoch 10/30\n",
            "42/42 [==============================] - 0s 6ms/step - loss: 0.0702 - accuracy: 0.9981 - val_loss: 1.8489 - val_accuracy: 0.3833\n",
            "Epoch 11/30\n",
            "42/42 [==============================] - 0s 6ms/step - loss: 0.0505 - accuracy: 0.9990 - val_loss: 1.7985 - val_accuracy: 0.3956\n",
            "Epoch 12/30\n",
            "42/42 [==============================] - 0s 7ms/step - loss: 0.0556 - accuracy: 0.9952 - val_loss: 1.7637 - val_accuracy: 0.4103\n",
            "Epoch 13/30\n",
            "42/42 [==============================] - 0s 6ms/step - loss: 0.0406 - accuracy: 0.9990 - val_loss: 1.7383 - val_accuracy: 0.4226\n",
            "Epoch 14/30\n",
            "42/42 [==============================] - 0s 6ms/step - loss: 0.0425 - accuracy: 0.9990 - val_loss: 1.7333 - val_accuracy: 0.4275\n",
            "Epoch 15/30\n",
            "42/42 [==============================] - 0s 6ms/step - loss: 0.0302 - accuracy: 1.0000 - val_loss: 1.7360 - val_accuracy: 0.4300\n",
            "Epoch 16/30\n",
            "42/42 [==============================] - 0s 6ms/step - loss: 0.0317 - accuracy: 1.0000 - val_loss: 1.7408 - val_accuracy: 0.4251\n",
            "Epoch 17/30\n",
            "42/42 [==============================] - 0s 6ms/step - loss: 0.0239 - accuracy: 0.9990 - val_loss: 1.7839 - val_accuracy: 0.4251\n",
            "Epoch 18/30\n",
            "42/42 [==============================] - 0s 6ms/step - loss: 0.0204 - accuracy: 0.9990 - val_loss: 1.7989 - val_accuracy: 0.4324\n",
            "Epoch 19/30\n",
            "42/42 [==============================] - 0s 6ms/step - loss: 0.0254 - accuracy: 1.0000 - val_loss: 1.7743 - val_accuracy: 0.4324\n",
            "Epoch 20/30\n",
            "42/42 [==============================] - 0s 7ms/step - loss: 0.0184 - accuracy: 1.0000 - val_loss: 1.7944 - val_accuracy: 0.4423\n",
            "Epoch 21/30\n",
            "42/42 [==============================] - 0s 6ms/step - loss: 0.0213 - accuracy: 0.9962 - val_loss: 1.7940 - val_accuracy: 0.4570\n",
            "Epoch 22/30\n",
            "42/42 [==============================] - 0s 6ms/step - loss: 0.0190 - accuracy: 1.0000 - val_loss: 1.7858 - val_accuracy: 0.4619\n",
            "Epoch 23/30\n",
            "42/42 [==============================] - 0s 6ms/step - loss: 0.0187 - accuracy: 0.9990 - val_loss: 1.7954 - val_accuracy: 0.4496\n",
            "Epoch 24/30\n",
            "42/42 [==============================] - 0s 6ms/step - loss: 0.0179 - accuracy: 1.0000 - val_loss: 1.7945 - val_accuracy: 0.4447\n",
            "Epoch 25/30\n",
            "42/42 [==============================] - 0s 6ms/step - loss: 0.0131 - accuracy: 0.9990 - val_loss: 1.7969 - val_accuracy: 0.4472\n",
            "Epoch 26/30\n",
            "42/42 [==============================] - 0s 6ms/step - loss: 0.0147 - accuracy: 1.0000 - val_loss: 1.7806 - val_accuracy: 0.4717\n",
            "Epoch 27/30\n",
            "42/42 [==============================] - 0s 6ms/step - loss: 0.0102 - accuracy: 1.0000 - val_loss: 1.8087 - val_accuracy: 0.4619\n",
            "Epoch 28/30\n",
            "42/42 [==============================] - 0s 6ms/step - loss: 0.0100 - accuracy: 1.0000 - val_loss: 1.8181 - val_accuracy: 0.4644\n",
            "Epoch 29/30\n",
            "42/42 [==============================] - 0s 6ms/step - loss: 0.0095 - accuracy: 1.0000 - val_loss: 1.8136 - val_accuracy: 0.4521\n",
            "Epoch 30/30\n",
            "42/42 [==============================] - 0s 7ms/step - loss: 0.0107 - accuracy: 1.0000 - val_loss: 1.7897 - val_accuracy: 0.4742\n"
          ],
          "name": "stdout"
        },
        {
          "output_type": "display_data",
          "data": {
            "image/png": "[encoded data removed]",
            "text/plain": [
              "<Figure size 432x288 with 1 Axes>"
            ]
          },
          "metadata": {
            "tags": [],
            "needs_background": "light"
          }
        }
      ]
    },
    {
      "cell_type": "code",
      "metadata": {
        "id": "k3TMKevK-p6N",
        "colab_type": "code",
        "outputId": "457fdccf-e921-4376-e382-d4d382444710",
        "colab": {
          "base_uri": "https://localhost:8080/",
          "height": 1000
        }
      },
      "source": [
        "model = Sequential()\n",
        "model.add(Embedding(500, 12, input_length=xLen))\n",
        "model.add(SpatialDropout1D(0.2))\n",
        "model.add(LSTM(4))\n",
        "model.add(Flatten())\n",
        "model.add(BatchNormalization())\n",
        "model.add(Dense(10, activation='softmax'))\n",
        "\n",
        "model.compile(optimizer='adam', \n",
        "              loss='categorical_crossentropy', \n",
        "              metrics=['accuracy'])\n",
        "\n",
        "history = model.fit(xTrain, \n",
        "                    yTrain, \n",
        "                    epochs=30,\n",
        "                    batch_size=25,\n",
        "                    validation_data=(xTest, yTest))\n",
        "\n",
        "plt.plot(history.history['accuracy'], \n",
        "         label='Доля верных ответов на обучающем наборе')\n",
        "plt.plot(history.history['val_accuracy'], \n",
        "         label='Доля верных ответов на проверочном наборе')\n",
        "plt.xlabel('Эпоха обучения')\n",
        "plt.ylabel('Доля верных ответов')\n",
        "plt.legend()\n",
        "plt.show()"
      ],
      "execution_count": 45,
      "outputs": [
        {
          "output_type": "stream",
          "text": [
            "Epoch 1/30\n",
            "42/42 [==============================] - 1s 25ms/step - loss: 2.2786 - accuracy: 0.1671 - val_loss: 2.2861 - val_accuracy: 0.2064\n",
            "Epoch 2/30\n",
            "42/42 [==============================] - 1s 14ms/step - loss: 2.1256 - accuracy: 0.2942 - val_loss: 2.2706 - val_accuracy: 0.2113\n",
            "Epoch 3/30\n",
            "42/42 [==============================] - 1s 14ms/step - loss: 1.9668 - accuracy: 0.3706 - val_loss: 2.2511 - val_accuracy: 0.2162\n",
            "Epoch 4/30\n",
            "42/42 [==============================] - 1s 14ms/step - loss: 1.7493 - accuracy: 0.4565 - val_loss: 2.2130 - val_accuracy: 0.3194\n",
            "Epoch 5/30\n",
            "42/42 [==============================] - 1s 14ms/step - loss: 1.5932 - accuracy: 0.4842 - val_loss: 2.1590 - val_accuracy: 0.2236\n",
            "Epoch 6/30\n",
            "42/42 [==============================] - 1s 14ms/step - loss: 1.4815 - accuracy: 0.5291 - val_loss: 2.1199 - val_accuracy: 0.2948\n",
            "Epoch 7/30\n",
            "42/42 [==============================] - 1s 14ms/step - loss: 1.3810 - accuracy: 0.5482 - val_loss: 2.1714 - val_accuracy: 0.2064\n",
            "Epoch 8/30\n",
            "42/42 [==============================] - 1s 14ms/step - loss: 1.2864 - accuracy: 0.5950 - val_loss: 2.0370 - val_accuracy: 0.2998\n",
            "Epoch 9/30\n",
            "42/42 [==============================] - 1s 14ms/step - loss: 1.1927 - accuracy: 0.6304 - val_loss: 2.0314 - val_accuracy: 0.3071\n",
            "Epoch 10/30\n",
            "42/42 [==============================] - 1s 14ms/step - loss: 1.0869 - accuracy: 0.6819 - val_loss: 2.0457 - val_accuracy: 0.3317\n",
            "Epoch 11/30\n",
            "42/42 [==============================] - 1s 14ms/step - loss: 0.9716 - accuracy: 0.7335 - val_loss: 2.0875 - val_accuracy: 0.3489\n",
            "Epoch 12/30\n",
            "42/42 [==============================] - 1s 14ms/step - loss: 0.8722 - accuracy: 0.7803 - val_loss: 2.2822 - val_accuracy: 0.3170\n",
            "Epoch 13/30\n",
            "42/42 [==============================] - 1s 14ms/step - loss: 0.7773 - accuracy: 0.8128 - val_loss: 2.1239 - val_accuracy: 0.3538\n",
            "Epoch 14/30\n",
            "42/42 [==============================] - 1s 14ms/step - loss: 0.6680 - accuracy: 0.8625 - val_loss: 2.3265 - val_accuracy: 0.3366\n",
            "Epoch 15/30\n",
            "42/42 [==============================] - 1s 14ms/step - loss: 0.6208 - accuracy: 0.8653 - val_loss: 2.0175 - val_accuracy: 0.3784\n",
            "Epoch 16/30\n",
            "42/42 [==============================] - 1s 14ms/step - loss: 0.5609 - accuracy: 0.8730 - val_loss: 1.9124 - val_accuracy: 0.4005\n",
            "Epoch 17/30\n",
            "42/42 [==============================] - 1s 14ms/step - loss: 0.4956 - accuracy: 0.9035 - val_loss: 1.6731 - val_accuracy: 0.4816\n",
            "Epoch 18/30\n",
            "42/42 [==============================] - 1s 14ms/step - loss: 0.4498 - accuracy: 0.9140 - val_loss: 1.9434 - val_accuracy: 0.4079\n",
            "Epoch 19/30\n",
            "42/42 [==============================] - 1s 14ms/step - loss: 0.4123 - accuracy: 0.9226 - val_loss: 1.6387 - val_accuracy: 0.5037\n",
            "Epoch 20/30\n",
            "42/42 [==============================] - 1s 14ms/step - loss: 0.3906 - accuracy: 0.9217 - val_loss: 1.6770 - val_accuracy: 0.4840\n",
            "Epoch 21/30\n",
            "42/42 [==============================] - 1s 14ms/step - loss: 0.3514 - accuracy: 0.9331 - val_loss: 1.5943 - val_accuracy: 0.4963\n",
            "Epoch 22/30\n",
            "42/42 [==============================] - 1s 14ms/step - loss: 0.3400 - accuracy: 0.9293 - val_loss: 1.5643 - val_accuracy: 0.5209\n",
            "Epoch 23/30\n",
            "42/42 [==============================] - 1s 14ms/step - loss: 0.3004 - accuracy: 0.9484 - val_loss: 2.0167 - val_accuracy: 0.4644\n",
            "Epoch 24/30\n",
            "42/42 [==============================] - 1s 14ms/step - loss: 0.2735 - accuracy: 0.9503 - val_loss: 1.7177 - val_accuracy: 0.4988\n",
            "Epoch 25/30\n",
            "42/42 [==============================] - 1s 13ms/step - loss: 0.2425 - accuracy: 0.9647 - val_loss: 1.6043 - val_accuracy: 0.4988\n",
            "Epoch 26/30\n",
            "42/42 [==============================] - 1s 14ms/step - loss: 0.2223 - accuracy: 0.9752 - val_loss: 1.8055 - val_accuracy: 0.4840\n",
            "Epoch 27/30\n",
            "42/42 [==============================] - 1s 14ms/step - loss: 0.2136 - accuracy: 0.9761 - val_loss: 1.7450 - val_accuracy: 0.4889\n",
            "Epoch 28/30\n",
            "42/42 [==============================] - 1s 14ms/step - loss: 0.1979 - accuracy: 0.9761 - val_loss: 1.7772 - val_accuracy: 0.5012\n",
            "Epoch 29/30\n",
            "42/42 [==============================] - 1s 14ms/step - loss: 0.1961 - accuracy: 0.9742 - val_loss: 2.1033 - val_accuracy: 0.4644\n",
            "Epoch 30/30\n",
            "42/42 [==============================] - 1s 14ms/step - loss: 0.1769 - accuracy: 0.9771 - val_loss: 1.9983 - val_accuracy: 0.4816\n"
          ],
          "name": "stdout"
        },
        {
          "output_type": "display_data",
          "data": {
            "image/png": "[encoded data removed]",
            "text/plain": [
              "<Figure size 432x288 with 1 Axes>"
            ]
          },
          "metadata": {
            "tags": [],
            "needs_background": "light"
          }
        }
      ]
    },
    {
      "cell_type": "markdown",
      "metadata": {
        "id": "o5sRuAIwGkNT",
        "colab_type": "text"
      },
      "source": [
        "Я считаю, что результат явно показывает нам, что xLen 50 - плохая идея. Надеюсь так и было задумано. Бесспорно тут можно наковырять побольше %, пообрабатывая данные получше. Но я полагаю урок извлечен."
      ]
    }
  ]
}