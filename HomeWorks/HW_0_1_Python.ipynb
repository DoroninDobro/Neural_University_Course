{
  "nbformat": 4,
  "nbformat_minor": 0,
  "metadata": {
    "kernelspec": {
      "display_name": "Python 3",
      "language": "python",
      "name": "python3"
    },
    "language_info": {
      "codemirror_mode": {
        "name": "ipython",
        "version": 3
      },
      "file_extension": ".py",
      "mimetype": "text/x-python",
      "name": "python",
      "nbconvert_exporter": "python",
      "pygments_lexer": "ipython3",
      "version": "3.6.8"
    },
    "colab": {
      "name": "Февральский_курс_2020_Light_Python,_домашнее_задание_1.ipynb",
      "provenance": [],
      "collapsed_sections": []
    }
  },
  "cells": [
    {
      "cell_type": "markdown",
      "metadata": {
        "id": "U7hoFvcehdnc",
        "colab_type": "text"
      },
      "source": [
        "## Домашнее задание 1: Введение в Python"
      ]
    },
    {
      "cell_type": "markdown",
      "metadata": {
        "id": "kiq257P0oEKM",
        "colab_type": "text"
      },
      "source": [
        "Добрый день. На всякий случай уточняю свою ситуацию, хотя мне сказали, что вам расскажут. Мне летом необходимо будет сделать перерыв на месяц, поэтому я делаю задания вашего потока, чтобы уйти вперед. В тоже время мне важно трудоустройство и просто по возможности большие баллы, поэтому мне пошли на встречу и обещали не снижать баллы за то, что задание сдано уже после разбора. Я в свою очередь беру обязательство не смотреть разбор до завершения и сдачи ДЗ. \n",
        "\n",
        "Благодарю вас за проверку. "
      ]
    },
    {
      "cell_type": "markdown",
      "metadata": {
        "id": "UHGuEnWxr8qp",
        "colab_type": "text"
      },
      "source": [
        "\n",
        "Also, my english is very bad))) But I learn write comments in english. Sorry for mistakes)"
      ]
    },
    {
      "cell_type": "markdown",
      "metadata": {
        "id": "0cQ01NCnkysR",
        "colab_type": "text"
      },
      "source": [
        "## Light версия"
      ]
    },
    {
      "cell_type": "markdown",
      "metadata": {
        "id": "bW_kKRKthdn7",
        "colab_type": "text"
      },
      "source": [
        "### Задача 1\n",
        "\n",
        "Считайте с входящей строки два целых числа и выведите их сумму, разность, произведение."
      ]
    },
    {
      "cell_type": "code",
      "metadata": {
        "id": "-jAIl8baoySf",
        "colab_type": "code",
        "colab": {
          "base_uri": "https://localhost:8080/",
          "height": 85
        },
        "outputId": "520f068d-9fea-46c4-933c-4eac4a6b75e3"
      },
      "source": [
        " n, m = map(int, input('Введите пожалуйста два целых числа через пробел: ').split())\n",
        " # function 'map' apply func 'int' for every element func 'input'\n",
        " print('Их сумма:', n + m)\n",
        " print('Их разность:', n-m)\n",
        " # In fact, there could have been m-n, but I suppose we need only one example\n",
        " print('Их произведение:', n*m)"
      ],
      "execution_count": 10,
      "outputs": [
        {
          "output_type": "stream",
          "text": [
            "Введите пожалуйста два целых числа через пробел: 4 56\n",
            "Их сумма: 60\n",
            "Их разность: -52\n",
            "Их произведение: 224\n"
          ],
          "name": "stdout"
        }
      ]
    },
    {
      "cell_type": "markdown",
      "metadata": {
        "id": "PguJdnEqhdoI",
        "colab_type": "text"
      },
      "source": [
        "### Задача 2\n",
        "\n",
        "Дан ряд целых чисел от 10 до 25 включительно. Используя цикл for выведите на экран сумму двух последовательно идущих чисел.\n",
        "\n",
        "\n",
        "**Пример**: \n",
        "\n",
        "Для ряда от 2 до 6 включительно выдача выглядит так: \n",
        "\n",
        "5\n",
        "\n",
        "7\n",
        "\n",
        "9\n",
        "\n",
        "11\n"
      ]
    },
    {
      "cell_type": "code",
      "metadata": {
        "id": "lK2ofdrhrPMI",
        "colab_type": "code",
        "colab": {
          "base_uri": "https://localhost:8080/",
          "height": 272
        },
        "outputId": "3e1d1cce-79df-4a1b-b15b-b46760d2d97d"
      },
      "source": [
        "for i in range(10, 25):\n",
        "  print(i * 2 + 1)\n",
        "# Although 25 is not included in our range, we don't need this number, \n",
        "# otherwise we will get one answer more than necessary"
      ],
      "execution_count": 9,
      "outputs": [
        {
          "output_type": "stream",
          "text": [
            "21\n",
            "23\n",
            "25\n",
            "27\n",
            "29\n",
            "31\n",
            "33\n",
            "35\n",
            "37\n",
            "39\n",
            "41\n",
            "43\n",
            "45\n",
            "47\n",
            "49\n"
          ],
          "name": "stdout"
        }
      ]
    },
    {
      "cell_type": "markdown",
      "metadata": {
        "id": "CZpydHtThdoR",
        "colab_type": "text"
      },
      "source": [
        "### Задача 3\n",
        "\n",
        "Для ряда целых чисел от 100 до 150 включительно выведите на экран только те, что делятся на 5 без остатка."
      ]
    },
    {
      "cell_type": "code",
      "metadata": {
        "id": "cqtzc_kKuKSJ",
        "colab_type": "code",
        "colab": {
          "base_uri": "https://localhost:8080/",
          "height": 204
        },
        "outputId": "2680110b-1b89-4e48-ad22-3aef8a53a88f"
      },
      "source": [
        "for i in range(100, 151, 5):\n",
        "  print(i)"
      ],
      "execution_count": 11,
      "outputs": [
        {
          "output_type": "stream",
          "text": [
            "100\n",
            "105\n",
            "110\n",
            "115\n",
            "120\n",
            "125\n",
            "130\n",
            "135\n",
            "140\n",
            "145\n",
            "150\n"
          ],
          "name": "stdout"
        }
      ]
    },
    {
      "cell_type": "markdown",
      "metadata": {
        "id": "_L4Bd414hdog",
        "colab_type": "text"
      },
      "source": [
        "### Задача 4\n",
        "\n",
        "Считайте с входящей строки целое положительное число и сохраните его в переменную N. Используя конструкцию if...else выведите на экран результат в зависимости от условий:\n",
        "\n",
        "* Если N нечетное, то выведите на экран \"N нечетное\"\n",
        "* Если N четное и входит в интервал от 5 до 10 включительно, выведите на экран \"N четное и принадлежит интервалу [5, 10]\"\n",
        "* Если N четное и больше 10, выведите на экран \"N четное и N > 10\"\n",
        "* Если N четное и меньше 5, выведите на экран \"N четное и N < 5\""
      ]
    },
    {
      "cell_type": "code",
      "metadata": {
        "id": "8rkGXVr7uaHa",
        "colab_type": "code",
        "colab": {
          "base_uri": "https://localhost:8080/",
          "height": 51
        },
        "outputId": "9008f056-dd6a-414f-e851-48253cc31446"
      },
      "source": [
        "N = int(input('Пожалуйста, введите целое положительное число: '))\n",
        "if N % 2 != 0:\n",
        "  print(\"N нечетное\")\n",
        "elif N > 10:\n",
        "  print(\"N четное и N > 10\")\n",
        "elif N < 5:\n",
        "  print(\"N четное и N < 5\")\n",
        "else:\n",
        "  print(\"N четное и принадлежит интервалу [5, 10]\")"
      ],
      "execution_count": 16,
      "outputs": [
        {
          "output_type": "stream",
          "text": [
            "Пожалуйста, введите целое положительное число: 8\n",
            "N четное и принадлежит интервалу [5, 10]\n"
          ],
          "name": "stdout"
        }
      ]
    },
    {
      "cell_type": "markdown",
      "metadata": {
        "id": "WQweBQ8nhdol",
        "colab_type": "text"
      },
      "source": [
        "### Задача 5\n",
        "\n",
        "Используя цикл while, посчитайте и выведите на экран сумму всех целых чисел от 15 до 22 включительно.\n"
      ]
    },
    {
      "cell_type": "code",
      "metadata": {
        "id": "FmgBcuJzvQBQ",
        "colab_type": "code",
        "colab": {
          "base_uri": "https://localhost:8080/",
          "height": 34
        },
        "outputId": "e7248e8a-9871-4aec-a9d3-825d659a88c6"
      },
      "source": [
        "i = 15\n",
        "summa = 0\n",
        "while i < 23:\n",
        "  summa += i\n",
        "  i += 1\n",
        "print(summa)"
      ],
      "execution_count": 19,
      "outputs": [
        {
          "output_type": "stream",
          "text": [
            "148\n"
          ],
          "name": "stdout"
        }
      ]
    },
    {
      "cell_type": "code",
      "metadata": {
        "id": "Fr-brZs3vlvq",
        "colab_type": "code",
        "colab": {
          "base_uri": "https://localhost:8080/",
          "height": 34
        },
        "outputId": "ef15cccc-84cd-434d-83d8-b9bc2c4b47be"
      },
      "source": [
        "# this is my test\n",
        "37 * 4\n"
      ],
      "execution_count": 21,
      "outputs": [
        {
          "output_type": "execute_result",
          "data": {
            "text/plain": [
              "148"
            ]
          },
          "metadata": {
            "tags": []
          },
          "execution_count": 21
        }
      ]
    },
    {
      "cell_type": "markdown",
      "metadata": {
        "id": "YhJKiRAchdow",
        "colab_type": "text"
      },
      "source": [
        "### Задача 6\n",
        "\n",
        "Используя цикл for, найдите сумму всех элементов заданного списка. (Без использования встроенных функций sum и т.д.)"
      ]
    },
    {
      "cell_type": "code",
      "metadata": {
        "id": "Im5W6TNGhdo6",
        "colab_type": "code",
        "colab": {
          "base_uri": "https://localhost:8080/",
          "height": 34
        },
        "outputId": "2a001f22-c1a6-4c23-d777-fd05cdf2cc27"
      },
      "source": [
        "my_list = [56, 23, 67, 45, 67, 2, 47, 158, 31, 34, 78, 23, 78, 23, 89, 23, 36]\n",
        "summa = 0\n",
        "for i in my_list:\n",
        "  summa += i\n",
        "print(summa)"
      ],
      "execution_count": 24,
      "outputs": [
        {
          "output_type": "stream",
          "text": [
            "880\n"
          ],
          "name": "stdout"
        }
      ]
    },
    {
      "cell_type": "markdown",
      "metadata": {
        "id": "wIZELo0mhdpU",
        "colab_type": "text"
      },
      "source": [
        "### Задача 7\n",
        "\n",
        "Используя цикл (любой) найдите значение максимального элемента списка из предыдущего задания. (Без использования встроенных функций max и т.д.) Можно использовать встроенные методы списков (любые). \n",
        "\n",
        "P.S.: не стесняйтесь гуглить :)\n",
        "\n",
        "P.S.2: гуглить нужно фразу \"алгоритм поиска максимального элемента массива\"\n",
        "\n",
        "Пример: для списка [3, 4, 1, 7, 2] значением максимального элемента является число 7"
      ]
    },
    {
      "cell_type": "code",
      "metadata": {
        "id": "0cDnQHUpwY8r",
        "colab_type": "code",
        "colab": {
          "base_uri": "https://localhost:8080/",
          "height": 34
        },
        "outputId": "35651b9b-7f17-4dbd-a29c-21a9e33ee7d8"
      },
      "source": [
        "# I was a little surprised that nothing better than brute force\n",
        "\n",
        "def maximum(m):\n",
        "  local_maximum = float('-inf')\n",
        "  for i in m:\n",
        "    if i > local_maximum:\n",
        "      local_maximum = i\n",
        "  return local_maximum\n",
        "\n",
        "print(maximum([3, 4, 1, 7, 2]))"
      ],
      "execution_count": 33,
      "outputs": [
        {
          "output_type": "stream",
          "text": [
            "7\n"
          ],
          "name": "stdout"
        }
      ]
    },
    {
      "cell_type": "markdown",
      "metadata": {
        "id": "omPfU7u9hdpi",
        "colab_type": "text"
      },
      "source": [
        "### Задача 8\n",
        "\n",
        "Создайте словарь, соответствующий следующему описанию: \n",
        "    \n",
        "В честь 8 марта начальник отдела Валера решил принести на работу коробку конфет и угостить коллег :) Красотка Наташа съела две конфеты, ее подруга Алина - целых три, разработчик Марат унес с собой в соседний опен-спейс целых пятнадцать, чтобы поделиться со своей командой, менеджер проекта Лев проходил мимо и съел одну конфету, а сам Валера, будучи сторонником здорового образа жизни, ни съел ни одной.\n",
        "\n",
        "P.S. все совпадения случайны :)"
      ]
    },
    {
      "cell_type": "code",
      "metadata": {
        "id": "Arkg14Yq0JwV",
        "colab_type": "code",
        "colab": {}
      },
      "source": [
        "candy_from_Valera = {'Наташа' : 2, \n",
        "         'Алина' : 3, \n",
        "         'Марат' : 15,\n",
        "         'Лев' : 1,\n",
        "         'Валера' : 0\n",
        "        }"
      ],
      "execution_count": 0,
      "outputs": []
    },
    {
      "cell_type": "markdown",
      "metadata": {
        "id": "UUK9d5hUhdpz",
        "colab_type": "text"
      },
      "source": [
        "### Задача 9\n",
        "\n",
        "Добавьте в словарь из предыдущего задания данные для студента Ромы, который работает неполный рабочий день, и, придя на работу после экзамена, с удовольствием съел 4 конфеты.\n",
        "\n",
        "P.S. используйте встроенный метод .update"
      ]
    },
    {
      "cell_type": "code",
      "metadata": {
        "id": "PypDPg-i13an",
        "colab_type": "code",
        "colab": {}
      },
      "source": [
        "# wait but why 'update'? I find it strange))  But O-K..\n",
        "later = dict(Рома = 4)\n",
        "candy_from_Valera.update(later)"
      ],
      "execution_count": 0,
      "outputs": []
    },
    {
      "cell_type": "code",
      "metadata": {
        "id": "e8pcyh3C3IHG",
        "colab_type": "code",
        "colab": {
          "base_uri": "https://localhost:8080/",
          "height": 34
        },
        "outputId": "a7d66a90-33d8-4096-9299-45548bd23129"
      },
      "source": [
        "# it is not task, it is my test\n",
        "print(candy_from_Valera)"
      ],
      "execution_count": 41,
      "outputs": [
        {
          "output_type": "stream",
          "text": [
            "{'Наташа': 2, 'Алина': 3, 'Марат': 15, 'Лев': 1, 'Валера': 0, 'Рома': 4}\n"
          ],
          "name": "stdout"
        }
      ]
    },
    {
      "cell_type": "markdown",
      "metadata": {
        "id": "vpQOcxmhhdp9",
        "colab_type": "text"
      },
      "source": [
        "## Pro версия"
      ]
    },
    {
      "cell_type": "markdown",
      "metadata": {
        "id": "g9pd3inChdqC",
        "colab_type": "text"
      },
      "source": [
        "### Задача 1\n",
        "\n",
        "Выведите на экран следующий паттерн:\n",
        "\n",
        "@\n",
        "\n",
        "@ @\n",
        "\n",
        "@ @ @\n",
        "\n",
        "@ @ @ @ @\n",
        "\n",
        "Обратите внимание на пробел между символами"
      ]
    },
    {
      "cell_type": "code",
      "metadata": {
        "id": "pSxLy2Wt3xUW",
        "colab_type": "code",
        "colab": {
          "base_uri": "https://localhost:8080/",
          "height": 153
        },
        "outputId": "2fd0550c-f82d-4ae3-89fc-031bc7f39d9d"
      },
      "source": [
        "# This is an intentionally complex, but more universal solution.\n",
        "# n >= 1\n",
        "def sobaken(n):\n",
        "  m_fib = [1, 1]\n",
        "  current_n = 2\n",
        "  count = 1\n",
        "  print('@\\n')\n",
        "  while count < n:\n",
        "    print(('@ ' * current_n).rstrip())\n",
        "    m_fib.append(m_fib[-2] + m_fib[-1])\n",
        "    count += 1\n",
        "    current_n = m_fib[-2] + m_fib[-1]\n",
        "    print('')\n",
        "\n",
        "\n",
        "sobaken(4)"
      ],
      "execution_count": 97,
      "outputs": [
        {
          "output_type": "stream",
          "text": [
            "@\n",
            "\n",
            "@ @\n",
            "\n",
            "@ @ @\n",
            "\n",
            "@ @ @ @ @\n",
            "\n"
          ],
          "name": "stdout"
        }
      ]
    },
    {
      "cell_type": "markdown",
      "metadata": {
        "id": "Vh7SqVB5hdqL",
        "colab_type": "text"
      },
      "source": [
        "### Задача 2\n",
        "\n",
        "Выведите на экран следующий паттерн:\n",
        "\n",
        "1\n",
        "\n",
        "2 2 \n",
        "\n",
        "3 3 3 \n",
        "\n",
        "4 4 4 4 \n",
        "\n",
        "5 5 5 5 5\n",
        "\n",
        "6 6 6 6\n",
        "\n",
        "7 7 7\n",
        "\n",
        "8 8\n",
        "\n",
        "9\n",
        "\n",
        "Обратите внимание на пробел между символами"
      ]
    },
    {
      "cell_type": "code",
      "metadata": {
        "id": "VixRyQJ1Q4kf",
        "colab_type": "code",
        "colab": {
          "base_uri": "https://localhost:8080/",
          "height": 306
        },
        "outputId": "7c6e0404-dee0-46b2-ae0b-4fd6f319db6a"
      },
      "source": [
        "# This is an intentionally complex, but more universal solution.\n",
        "# n >= 1\n",
        "def number_montain(n):\n",
        "  m = [i for i in range(1, n+1)]\n",
        "  l_str = ''\n",
        "  r_str = ''\n",
        "  count = 1\n",
        "  while len(m) > 0:\n",
        "    l_str += (str(m[0]) + ' ') * count + '\\n\\n'\n",
        "    if len(m) > 1:\n",
        "      r_str = (str(m[-1]) + ' ') * count + '\\n\\n' + r_str\n",
        "    count += 1\n",
        "    del m[0]\n",
        "    if len(m) > 0:\n",
        "      del m[-1]\n",
        "  ans = l_str + r_str\n",
        "  return(ans[:-3])\n",
        "\n",
        "\n",
        "print(number_montain(9))\n",
        "# oh, I hope I haven’t missed anything =)"
      ],
      "execution_count": 58,
      "outputs": [
        {
          "output_type": "stream",
          "text": [
            "1 \n",
            "\n",
            "2 2 \n",
            "\n",
            "3 3 3 \n",
            "\n",
            "4 4 4 4 \n",
            "\n",
            "5 5 5 5 5 \n",
            "\n",
            "6 6 6 6 \n",
            "\n",
            "7 7 7 \n",
            "\n",
            "8 8 \n",
            "\n",
            "9\n"
          ],
          "name": "stdout"
        }
      ]
    },
    {
      "cell_type": "markdown",
      "metadata": {
        "id": "IMoF_J7AhdqT",
        "colab_type": "text"
      },
      "source": [
        "### Задача 3\n",
        "\n",
        "Используя цикл while, выведите на экран таблицу умножения для числа 7.\n",
        "\n",
        "**Пример:**\n",
        "    \n",
        "Для числе 5 выдача выглядит так:\n",
        "    \n",
        "5 * 1 = 5\n",
        "\n",
        "5 * 2 = 10\n",
        "\n",
        "5 * 3 = 15\n",
        "\n",
        "5 * 4 = 20\n",
        "\n",
        "5 * 5 = 25\n",
        "\n",
        "...\n",
        "\n",
        "5 * 9 = 45"
      ]
    },
    {
      "cell_type": "code",
      "metadata": {
        "id": "agZcJ71iX8yZ",
        "colab_type": "code",
        "colab": {
          "base_uri": "https://localhost:8080/",
          "height": 306
        },
        "outputId": "cd30980d-1df8-4942-a889-59e01c437ef7"
      },
      "source": [
        "def table_mult(m1):\n",
        "  m2 = 1\n",
        "  while m2 < 10:\n",
        "    print(f'{m1} * {m2} =', m1 * m2)\n",
        "    if m2 != 9:\n",
        "      print('')\n",
        "    m2 += 1\n",
        "\n",
        "\n",
        "table_mult(7)\n"
      ],
      "execution_count": 61,
      "outputs": [
        {
          "output_type": "stream",
          "text": [
            "7 * 1 = 7\n",
            "\n",
            "7 * 2 = 14\n",
            "\n",
            "7 * 3 = 21\n",
            "\n",
            "7 * 4 = 28\n",
            "\n",
            "7 * 5 = 35\n",
            "\n",
            "7 * 6 = 42\n",
            "\n",
            "7 * 7 = 49\n",
            "\n",
            "7 * 8 = 56\n",
            "\n",
            "7 * 9 = 63\n"
          ],
          "name": "stdout"
        }
      ]
    },
    {
      "cell_type": "markdown",
      "metadata": {
        "id": "rvEbKNeIhdqY",
        "colab_type": "text"
      },
      "source": [
        "### Задача 4\n",
        "\n",
        "Представьте, что вы подбрасываете два кубика одновременно. Считайте с входящей строки два целых числа d1 и d2. Проверьте, соответсуют ли введенные числа интервалу значений для кубика. Если нет, то выведите на экран строку \"Ошибка! Значение на кубике (1 или 2, вставьте подходящее значение) не входит в интервал [1, 6]\". В противном случае посчитайте сумму выпавших значений. Если сумма равна 7 или 11, выведите на экран \"Я победил!!!\". Если сумма равна 2, 3 или 12, то выведите на экран \"Я проиграл :(\". Во всех остальных случаях выведите на экран сумму значений.\n"
      ]
    },
    {
      "cell_type": "code",
      "metadata": {
        "id": "LD0dB_EOaNcr",
        "colab_type": "code",
        "colab": {
          "base_uri": "https://localhost:8080/",
          "height": 51
        },
        "outputId": "af4880e5-1d4e-4f6a-c33a-dacc2ba9d32c"
      },
      "source": [
        "# It is not obvious whether to check the value of the second cube if the first is erroneous. \n",
        "# I chose a simpler option.\n",
        "d1, d2 = map(int, input('Введите два целых числа: ').split())\n",
        "if d1 < 1 or d1 > 6:\n",
        "  print(\"Ошибка! Значение на первом кубике не входит в интервал [1, 6]\")\n",
        "elif d2 < 1 or d2 > 6:\n",
        "  print(\"Ошибка! Значение на втором кубике не входит в интервал [1, 6]\")\n",
        "else:\n",
        "  summa = d1 + d2\n",
        "  if summa == 7 or summa == 11:\n",
        "    print(\"Я победил!!!\")\n",
        "  elif summa == 2 or summa == 3 or summa == 12:\n",
        "    print(\"Я проиграл :(\")\n",
        "  else:\n",
        "    print(summa)\n",
        "# I don't like too much conditions =("
      ],
      "execution_count": 72,
      "outputs": [
        {
          "output_type": "stream",
          "text": [
            "Введите два целых числа: 4 4\n",
            "8\n"
          ],
          "name": "stdout"
        }
      ]
    },
    {
      "cell_type": "markdown",
      "metadata": {
        "id": "OTSU9QTLhdqe",
        "colab_type": "text"
      },
      "source": [
        "### Задача 5\n",
        "\n",
        "Напишите код, который ищет все числа в интервале от 3000 до 4300 включительно, делящиеся на 11, но не делящиеся на 5. Выведите на экран все найденные числа."
      ]
    },
    {
      "cell_type": "code",
      "metadata": {
        "id": "achTXZTmnwNP",
        "colab_type": "code",
        "colab": {
          "base_uri": "https://localhost:8080/",
          "height": 204
        },
        "outputId": "532136f5-d09e-4473-cf2a-9dd2a2e381c6"
      },
      "source": [
        "# According to the signs of dividing by 11, the first number will be 3003\n",
        "count = 0\n",
        "for i in range(3003, 4301, 11):\n",
        "  if count == 9:\n",
        "    print('')\n",
        "    count = 0\n",
        "  if i % 5 != 0:\n",
        "    print(i, end=' ')\n",
        "    count += 1\n",
        "# it is interesting that 4301 already suits us\n",
        "# I complicated the code a bit so that the answer is readable"
      ],
      "execution_count": 83,
      "outputs": [
        {
          "output_type": "stream",
          "text": [
            "3003 3014 3036 3047 3058 3069 3091 3102 3113 \n",
            "3124 3146 3157 3168 3179 3201 3212 3223 3234 \n",
            "3256 3267 3278 3289 3311 3322 3333 3344 3366 \n",
            "3377 3388 3399 3421 3432 3443 3454 3476 3487 \n",
            "3498 3509 3531 3542 3553 3564 3586 3597 3608 \n",
            "3619 3641 3652 3663 3674 3696 3707 3718 3729 \n",
            "3751 3762 3773 3784 3806 3817 3828 3839 3861 \n",
            "3872 3883 3894 3916 3927 3938 3949 3971 3982 \n",
            "3993 4004 4026 4037 4048 4059 4081 4092 4103 \n",
            "4114 4136 4147 4158 4169 4191 4202 4213 4224 \n",
            "4246 4257 4268 4279 "
          ],
          "name": "stdout"
        }
      ]
    },
    {
      "cell_type": "markdown",
      "metadata": {
        "id": "m-pYH0xDhdqk",
        "colab_type": "text"
      },
      "source": [
        "### Задача 6\n",
        "\n",
        "Используя циклы, напишите код, который создает список (list) путем конкатенации значений данного листа с целыми числами от 1 до (произвольного) n включительно.\n",
        "\n",
        "Пример:\n",
        "\n",
        "для списка [\"сосиски\", \"горчица\"] при n = 3 результат должен выглядеть так:\n",
        "\n",
        "['сосиски$\\_$1', 'горчица$\\_$1', 'сосиски$\\_2$', 'горчица$\\_$2', 'сосиски$\\_$3', 'горчица$\\_$3']"
      ]
    },
    {
      "cell_type": "code",
      "metadata": {
        "id": "Eqz3zAL-hdqq",
        "colab_type": "code",
        "colab": {
          "base_uri": "https://localhost:8080/",
          "height": 34
        },
        "outputId": "c53668b0-8df1-445b-f47c-0a94347962cc"
      },
      "source": [
        "def task_6(l, n):\n",
        "  new_list = []\n",
        "  for j in range(n):\n",
        "    for i in l:\n",
        "      new_list.append(i + '_' + str(j+1))\n",
        "  return new_list\n",
        "\n",
        "\n",
        "sample_list = [\"мандаринки\", \"киви\", \"лимон\"]\n",
        "n = int(input('Введите целое число: '))\n",
        "new_list = task_6(sample_list, n)"
      ],
      "execution_count": 88,
      "outputs": [
        {
          "output_type": "stream",
          "text": [
            "Введите целое число: 3\n"
          ],
          "name": "stdout"
        }
      ]
    },
    {
      "cell_type": "code",
      "metadata": {
        "id": "u_DP8IV8rgKF",
        "colab_type": "code",
        "colab": {
          "base_uri": "https://localhost:8080/",
          "height": 34
        },
        "outputId": "8ef80248-883f-47db-edff-ed6633905f69"
      },
      "source": [
        "# it is not task, it is my test and visualation)\n",
        "print(new_list)"
      ],
      "execution_count": 89,
      "outputs": [
        {
          "output_type": "stream",
          "text": [
            "['мандаринки_1', 'киви_1', 'лимон_1', 'мандаринки_2', 'киви_2', 'лимон_2', 'мандаринки_3', 'киви_3', 'лимон_3']\n"
          ],
          "name": "stdout"
        }
      ]
    },
    {
      "cell_type": "markdown",
      "metadata": {
        "id": "WtwsV6BRhdrE",
        "colab_type": "text"
      },
      "source": [
        "### Задача 7\n",
        "\n",
        "Напишите код, который считает количество элементов в заданном списке до тех пор, пока не встретится элемент типа словарь.\n",
        "\n",
        "Пример:\n",
        "\n",
        "для списка [3, \"котики\", 0.45, 5, {'котики' : 2, 'слоники' : 9}, \"слоники\", 34] на выходе должны получить число 4"
      ]
    },
    {
      "cell_type": "code",
      "metadata": {
        "id": "m5iv-Hj9hdrM",
        "colab_type": "code",
        "outputId": "2cc78419-58c2-45b6-c275-f7cfcfa09533",
        "colab": {
          "base_uri": "https://localhost:8080/",
          "height": 51
        }
      },
      "source": [
        "def no_pasaran_dict(m):\n",
        "  count = 0\n",
        "  for i in m:\n",
        "    if (type(i) == dict) == False:\n",
        "      count += 1\n",
        "    else:\n",
        "      return count\n",
        "  return count\n",
        "\n",
        "\n",
        "list_for_pro_task_2 = [35, 0.24, 3 + 4j, \"котики\", 0.45, (8, 9), \"слоники\", {\"Мадрид\": 3, 'Лондон':5}, 23498]\n",
        "print(list_for_pro_task_2)\n",
        "print(no_pasaran_dict(list_for_pro_task_2))\n",
        "# but it is task_7, not 2! =))"
      ],
      "execution_count": 94,
      "outputs": [
        {
          "output_type": "stream",
          "text": [
            "[35, 0.24, (3+4j), 'котики', 0.45, (8, 9), 'слоники', {'Мадрид': 3, 'Лондон': 5}, 23498]\n",
            "7\n"
          ],
          "name": "stdout"
        }
      ]
    },
    {
      "cell_type": "markdown",
      "metadata": {
        "id": "fHMBDh-ahdrz",
        "colab_type": "text"
      },
      "source": [
        "### Задача 8\n",
        "\n",
        "Создайте словарь (dict) c ключами, соответствующими числам от 1 до 20 включительно и значениями, соответствующими квадратам ключей. \n",
        "\n",
        "P.S. используйте циклы или функции, прямое \"ручное\" присваивание не допускается (!!!)\n",
        "\n",
        "Пример: \n",
        "\n",
        "для чисел от 1 до 3 включительно словарь должен выглядеть так: {1 : 1, 2 : 4, 3 : 9}"
      ]
    },
    {
      "cell_type": "code",
      "metadata": {
        "id": "VVBMwt3su5e2",
        "colab_type": "code",
        "colab": {
          "base_uri": "https://localhost:8080/",
          "height": 54
        },
        "outputId": "b419e1f8-e7e3-4676-fe91-8ae5463ef914"
      },
      "source": [
        "n_and_q = dict()\n",
        "for i in range(1, 21):\n",
        "  n_and_q[i] = i**2\n",
        "print(n_and_q)"
      ],
      "execution_count": 95,
      "outputs": [
        {
          "output_type": "stream",
          "text": [
            "{1: 1, 2: 4, 3: 9, 4: 16, 5: 25, 6: 36, 7: 49, 8: 64, 9: 81, 10: 100, 11: 121, 12: 144, 13: 169, 14: 196, 15: 225, 16: 256, 17: 289, 18: 324, 19: 361, 20: 400}\n"
          ],
          "name": "stdout"
        }
      ]
    }
  ]
}