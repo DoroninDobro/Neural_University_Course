{
  "nbformat": 4,
  "nbformat_minor": 0,
  "metadata": {
    "colab": {
      "name": "HW_3_Convolutional_Neural_Networks_LIGHT.ipynb",
      "provenance": [],
      "collapsed_sections": []
    },
    "kernelspec": {
      "name": "python3",
      "display_name": "Python 3"
    },
    "accelerator": "GPU"
  },
  "cells": [
    {
      "cell_type": "markdown",
      "metadata": {
        "id": "nScIT02iM25P",
        "colab_type": "text"
      },
      "source": [
        "### Задача."
      ]
    },
    {
      "cell_type": "markdown",
      "metadata": {
        "id": "22izaqNhM6ki",
        "colab_type": "text"
      },
      "source": [
        "1. Импорт библиотек.\n",
        "2. Загрузка базы mnist.\n",
        "3. Нормирование и преобразование x_train и y_train.\n",
        "4. Создание сверточной нейронной сети.\n",
        "5. Обучение сверточной нейронной сети."
      ]
    },
    {
      "cell_type": "code",
      "metadata": {
        "id": "f0BpJ8OWM8xh",
        "colab_type": "code",
        "colab": {}
      },
      "source": [
        "from tensorflow.keras.datasets import mnist\n",
        "from tensorflow.keras.models import Sequential\n",
        "from tensorflow.keras.layers import Dense, Conv2D, MaxPooling2D, Flatten, Dropout, BatchNormalization\n",
        "from tensorflow.keras import utils\n",
        "from google.colab import drive\n",
        "import matplotlib.pyplot as plt\n",
        "import numpy as np\n",
        "%matplotlib inline"
      ],
      "execution_count": 0,
      "outputs": []
    },
    {
      "cell_type": "code",
      "metadata": {
        "id": "8yD85ypSORvA",
        "colab_type": "code",
        "outputId": "4c103e70-239d-46fc-b1f7-20bf5d707737",
        "colab": {
          "base_uri": "https://localhost:8080/",
          "height": 51
        }
      },
      "source": [
        "(x_train, y_train), (x_test, y_test) = mnist.load_data()"
      ],
      "execution_count": 0,
      "outputs": [
        {
          "output_type": "stream",
          "text": [
            "Downloading data from https://storage.googleapis.com/tensorflow/tf-keras-datasets/mnist.npz\n",
            "11493376/11490434 [==============================] - 0s 0us/step\n"
          ],
          "name": "stdout"
        }
      ]
    },
    {
      "cell_type": "code",
      "metadata": {
        "id": "3HN_zXvzP9LP",
        "colab_type": "code",
        "colab": {}
      },
      "source": [
        "y_train = utils.to_categorical(y_train, 10)\n",
        "y_test = utils.to_categorical(y_test, 10)\n",
        "x_train = x_train.reshape(x_train.shape[0], 28, 28, 1)\n",
        "x_test = x_test.reshape(x_test.shape[0], 28, 28, 1)"
      ],
      "execution_count": 0,
      "outputs": []
    },
    {
      "cell_type": "code",
      "metadata": {
        "id": "dx6O0ty_QBxH",
        "colab_type": "code",
        "outputId": "c9156f95-e74e-437f-c60d-385d3ca1daca",
        "colab": {
          "base_uri": "https://localhost:8080/",
          "height": 809
        }
      },
      "source": [
        "model = Sequential()\n",
        "model.add(BatchNormalization(input_shape=(28,28,1)))\n",
        "model.add(Conv2D(32, (3,3), padding='same', activation='relu'))\n",
        "model.add(Conv2D(32, (3,3), padding='same', activation='relu'))\n",
        "model.add(MaxPooling2D(pool_size=(2,2)))\n",
        "model.add(Dropout(0.25))\n",
        "model.add(Flatten())\n",
        "model.add(Dense(256, activation='relu'))\n",
        "model.add(Dropout(0.25))\n",
        "model.add(Dense(10, activation='softmax'))\n",
        "model.compile(loss='categorical_crossentropy', optimizer='adam', metrics=['accuracy'])\n",
        "\n",
        "history = model.fit(x_train, y_train, batch_size=128, epochs=15, validation_data=(x_test, y_test), verbose=1)\n",
        "plt.plot(history.history['accuracy'], label='Right on train')\n",
        "plt.plot(history.history['val_accuracy'], label='Right on check')\n",
        "plt.xlabel('Epoch')\n",
        "plt.ylabel('Right %')\n",
        "plt.legend()\n",
        "plt.show()"
      ],
      "execution_count": 0,
      "outputs": [
        {
          "output_type": "stream",
          "text": [
            "Epoch 1/15\n",
            "469/469 [==============================] - 3s 6ms/step - loss: 0.1579 - accuracy: 0.9521 - val_loss: 0.0449 - val_accuracy: 0.9856\n",
            "Epoch 2/15\n",
            "469/469 [==============================] - 3s 6ms/step - loss: 0.0508 - accuracy: 0.9843 - val_loss: 0.0326 - val_accuracy: 0.9886\n",
            "Epoch 3/15\n",
            "469/469 [==============================] - 3s 6ms/step - loss: 0.0331 - accuracy: 0.9895 - val_loss: 0.0297 - val_accuracy: 0.9902\n",
            "Epoch 4/15\n",
            "469/469 [==============================] - 3s 6ms/step - loss: 0.0255 - accuracy: 0.9920 - val_loss: 0.0337 - val_accuracy: 0.9892\n",
            "Epoch 5/15\n",
            "469/469 [==============================] - 3s 6ms/step - loss: 0.0221 - accuracy: 0.9927 - val_loss: 0.0380 - val_accuracy: 0.9885\n",
            "Epoch 6/15\n",
            "469/469 [==============================] - 3s 6ms/step - loss: 0.0174 - accuracy: 0.9943 - val_loss: 0.0364 - val_accuracy: 0.9901\n",
            "Epoch 7/15\n",
            "469/469 [==============================] - 3s 6ms/step - loss: 0.0149 - accuracy: 0.9948 - val_loss: 0.0347 - val_accuracy: 0.9903\n",
            "Epoch 8/15\n",
            "469/469 [==============================] - 3s 6ms/step - loss: 0.0139 - accuracy: 0.9952 - val_loss: 0.0277 - val_accuracy: 0.9914\n",
            "Epoch 9/15\n",
            "469/469 [==============================] - 3s 6ms/step - loss: 0.0119 - accuracy: 0.9958 - val_loss: 0.0285 - val_accuracy: 0.9917\n",
            "Epoch 10/15\n",
            "469/469 [==============================] - 3s 6ms/step - loss: 0.0114 - accuracy: 0.9962 - val_loss: 0.0289 - val_accuracy: 0.9926\n",
            "Epoch 11/15\n",
            "469/469 [==============================] - 3s 6ms/step - loss: 0.0099 - accuracy: 0.9966 - val_loss: 0.0324 - val_accuracy: 0.9914\n",
            "Epoch 12/15\n",
            "469/469 [==============================] - 3s 6ms/step - loss: 0.0090 - accuracy: 0.9970 - val_loss: 0.0374 - val_accuracy: 0.9899\n",
            "Epoch 13/15\n",
            "469/469 [==============================] - 3s 6ms/step - loss: 0.0091 - accuracy: 0.9969 - val_loss: 0.0362 - val_accuracy: 0.9912\n",
            "Epoch 14/15\n",
            "469/469 [==============================] - 3s 6ms/step - loss: 0.0080 - accuracy: 0.9973 - val_loss: 0.0309 - val_accuracy: 0.9929\n",
            "Epoch 15/15\n",
            "469/469 [==============================] - 3s 6ms/step - loss: 0.0075 - accuracy: 0.9974 - val_loss: 0.0301 - val_accuracy: 0.9922\n"
          ],
          "name": "stdout"
        },
        {
          "output_type": "display_data",
          "data": {
            "image/png": "[encoded data removed]",
            "text/plain": [
              "<Figure size 432x288 with 1 Axes>"
            ]
          },
          "metadata": {
            "tags": [],
            "needs_background": "light"
          }
        }
      ]
    }
  ]
}