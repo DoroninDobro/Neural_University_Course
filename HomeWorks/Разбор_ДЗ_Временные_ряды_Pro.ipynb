{
  "nbformat": 4,
  "nbformat_minor": 0,
  "metadata": {
    "colab": {
      "name": "Разбор ДЗ. Временные ряды. Pro.ipynb",
      "provenance": [],
      "collapsed_sections": []
    },
    "kernelspec": {
      "name": "python3",
      "display_name": "Python 3"
    }
  },
  "cells": [
    {
      "cell_type": "markdown",
      "metadata": {
        "id": "l2JCHSv9hYv7"
      },
      "source": [
        "# Pro задание\n",
        "\n",
        "Сделайте несколько усовершенствований в предсказании временного ряда.\n",
        "Добавьте к исходному сигналу расширенные данные:\n",
        "\n",
        "* попарные разности каналов\n",
        "* модули попарных разностей каналов\n",
        "* попарные произведения каналов\n",
        "* обратное значение каналов x_new = 1/(x + 1e-3)\n",
        "* первые производные каналов (x[n] - x[n-1])\n",
        "* вторые производные каналов (x[n] - 2*x[n-1] + x[n-2])\n",
        "\n",
        "Сделайте бОльший “просмотр сети в прошлое”, при формировании входного сигнала используйте\n",
        "\n",
        "* 100 точек с шагом назад по 1,\n",
        "\n",
        "* 100 точек с шагом назад по 10 (или сами точки, или среднее по отрезку в 10 точек).\n"
      ]
    },
    {
      "cell_type": "code",
      "metadata": {
        "id": "HKTqY3gi-K_H"
      },
      "source": [
        "#Загружаем библиотеки\n",
        "\n",
        "import pandas as pd #Пандас\n",
        "import matplotlib.pyplot as plt #Отрисовка графиков\n",
        "import numpy as np #Numpy\n",
        "from tensorflow.keras.optimizers import Adam #Оптимизатор\n",
        "from tensorflow.keras.models import Sequential, Model #Два варианта моделей\n",
        "from tensorflow.keras.layers import concatenate, Input, Dense, Dropout, BatchNormalization, Flatten, Conv1D, LSTM #Стандартные слои\n",
        "from sklearn.preprocessing import StandardScaler, MinMaxScaler #Нормировщики\n",
        "from tensorflow.keras.preprocessing.sequence import TimeseriesGenerator # для генерации выборки временных рядов\n",
        "\n",
        "# Рисовать графики сразу же\n",
        "%matplotlib inline"
      ],
      "execution_count": null,
      "outputs": []
    },
    {
      "cell_type": "code",
      "metadata": {
        "id": "WjKF-7Hm5ssj"
      },
      "source": [
        "from google.colab import drive\n",
        "drive.mount('/content/drive/')"
      ],
      "execution_count": null,
      "outputs": []
    },
    {
      "cell_type": "code",
      "metadata": {
        "id": "NMIu5EJZ9VWn",
        "colab": {
          "base_uri": "https://localhost:8080/",
          "height": 419
        },
        "outputId": "3f7de9f5-87fc-4146-dc3f-ddcac87d232e"
      },
      "source": [
        "base_data16 = pd.read_csv('/content/drive/My Drive/Акции лукойл/акции лукойл/16_17.csv', sep=';')\n",
        "base_data18 = pd.read_csv('/content/drive/My Drive/Акции лукойл/акции лукойл/18_19.csv', sep=';')\n",
        "data16_17 = base_data16.iloc[:,2:]\n",
        "data18_19 = base_data18.iloc[:,2:]\n",
        "data = pd.concat([data16_17,data18_19]) # Объединяем\n",
        "data = data.reset_index(drop = True) #Обнуляем индексы\n",
        "data #Выводим таблицу"
      ],
      "execution_count": null,
      "outputs": [
        {
          "output_type": "execute_result",
          "data": {
            "text/html": [
              "<div>\n",
              "<style scoped>\n",
              "    .dataframe tbody tr th:only-of-type {\n",
              "        vertical-align: middle;\n",
              "    }\n",
              "\n",
              "    .dataframe tbody tr th {\n",
              "        vertical-align: top;\n",
              "    }\n",
              "\n",
              "    .dataframe thead th {\n",
              "        text-align: right;\n",
              "    }\n",
              "</style>\n",
              "<table border=\"1\" class=\"dataframe\">\n",
              "  <thead>\n",
              "    <tr style=\"text-align: right;\">\n",
              "      <th></th>\n",
              "      <th>OPEN</th>\n",
              "      <th>MAX</th>\n",
              "      <th>MIN</th>\n",
              "      <th>CLOSE</th>\n",
              "      <th>VOLUME</th>\n",
              "    </tr>\n",
              "  </thead>\n",
              "  <tbody>\n",
              "    <tr>\n",
              "      <th>0</th>\n",
              "      <td>2351.0</td>\n",
              "      <td>2355.8</td>\n",
              "      <td>2350.0</td>\n",
              "      <td>2350.0</td>\n",
              "      <td>2547</td>\n",
              "    </tr>\n",
              "    <tr>\n",
              "      <th>1</th>\n",
              "      <td>2352.9</td>\n",
              "      <td>2355.7</td>\n",
              "      <td>2350.0</td>\n",
              "      <td>2355.7</td>\n",
              "      <td>195</td>\n",
              "    </tr>\n",
              "    <tr>\n",
              "      <th>2</th>\n",
              "      <td>2355.6</td>\n",
              "      <td>2356.0</td>\n",
              "      <td>2351.4</td>\n",
              "      <td>2354.1</td>\n",
              "      <td>257</td>\n",
              "    </tr>\n",
              "    <tr>\n",
              "      <th>3</th>\n",
              "      <td>2354.5</td>\n",
              "      <td>2355.0</td>\n",
              "      <td>2351.2</td>\n",
              "      <td>2353.7</td>\n",
              "      <td>763</td>\n",
              "    </tr>\n",
              "    <tr>\n",
              "      <th>4</th>\n",
              "      <td>2353.1</td>\n",
              "      <td>2353.9</td>\n",
              "      <td>2353.1</td>\n",
              "      <td>2353.6</td>\n",
              "      <td>231</td>\n",
              "    </tr>\n",
              "    <tr>\n",
              "      <th>...</th>\n",
              "      <td>...</td>\n",
              "      <td>...</td>\n",
              "      <td>...</td>\n",
              "      <td>...</td>\n",
              "      <td>...</td>\n",
              "    </tr>\n",
              "    <tr>\n",
              "      <th>481867</th>\n",
              "      <td>5183.5</td>\n",
              "      <td>5183.5</td>\n",
              "      <td>5183.5</td>\n",
              "      <td>5183.5</td>\n",
              "      <td>31523</td>\n",
              "    </tr>\n",
              "    <tr>\n",
              "      <th>481868</th>\n",
              "      <td>5183.5</td>\n",
              "      <td>5183.5</td>\n",
              "      <td>5183.5</td>\n",
              "      <td>5183.5</td>\n",
              "      <td>5090</td>\n",
              "    </tr>\n",
              "    <tr>\n",
              "      <th>481869</th>\n",
              "      <td>5183.5</td>\n",
              "      <td>5183.5</td>\n",
              "      <td>5183.5</td>\n",
              "      <td>5183.5</td>\n",
              "      <td>230</td>\n",
              "    </tr>\n",
              "    <tr>\n",
              "      <th>481870</th>\n",
              "      <td>5183.5</td>\n",
              "      <td>5183.5</td>\n",
              "      <td>5183.5</td>\n",
              "      <td>5183.5</td>\n",
              "      <td>5</td>\n",
              "    </tr>\n",
              "    <tr>\n",
              "      <th>481871</th>\n",
              "      <td>5183.5</td>\n",
              "      <td>5183.5</td>\n",
              "      <td>5183.5</td>\n",
              "      <td>5183.5</td>\n",
              "      <td>994</td>\n",
              "    </tr>\n",
              "  </tbody>\n",
              "</table>\n",
              "<p>481872 rows × 5 columns</p>\n",
              "</div>"
            ],
            "text/plain": [
              "          OPEN     MAX     MIN   CLOSE  VOLUME\n",
              "0       2351.0  2355.8  2350.0  2350.0    2547\n",
              "1       2352.9  2355.7  2350.0  2355.7     195\n",
              "2       2355.6  2356.0  2351.4  2354.1     257\n",
              "3       2354.5  2355.0  2351.2  2353.7     763\n",
              "4       2353.1  2353.9  2353.1  2353.6     231\n",
              "...        ...     ...     ...     ...     ...\n",
              "481867  5183.5  5183.5  5183.5  5183.5   31523\n",
              "481868  5183.5  5183.5  5183.5  5183.5    5090\n",
              "481869  5183.5  5183.5  5183.5  5183.5     230\n",
              "481870  5183.5  5183.5  5183.5  5183.5       5\n",
              "481871  5183.5  5183.5  5183.5  5183.5     994\n",
              "\n",
              "[481872 rows x 5 columns]"
            ]
          },
          "metadata": {
            "tags": []
          },
          "execution_count": 3
        }
      ]
    },
    {
      "cell_type": "code",
      "metadata": {
        "id": "Fopi2EUZwry0",
        "colab": {
          "base_uri": "https://localhost:8080/",
          "height": 34
        },
        "outputId": "4292c2d3-cdfd-431f-e44e-c3aea2feeb10"
      },
      "source": [
        "col = data.columns #Получаем названия столбцов\n",
        "print(col) #Выводим"
      ],
      "execution_count": null,
      "outputs": [
        {
          "output_type": "stream",
          "text": [
            "Index(['OPEN', 'MAX', 'MIN', 'CLOSE', 'VOLUME'], dtype='object')\n"
          ],
          "name": "stdout"
        }
      ]
    },
    {
      "cell_type": "code",
      "metadata": {
        "id": "bQQbLhbnwiM_",
        "colab": {
          "base_uri": "https://localhost:8080/",
          "height": 187
        },
        "outputId": "f1304a02-7729-4f2c-8a9f-612199750f8b"
      },
      "source": [
        "#Задаем циклы для столбцов таким образом, чтобы происходил перебор всех возможных пар:\n",
        "#Проходим по индексам массива с именами столбцов 'OPEN', 'MAX', 'MIN', 'CLOSE', 'VOLUME', \n",
        "#получая пары 'OPEN' и 'MAX', 'OPEN' и 'MIN', 'OPEN' и 'CLOSE' ..., 'MAX' и 'MIN', 'MAX' и 'CLOSE' и т.д\n",
        "for i in range(col.shape[0]):                                                   #Для всех пар\n",
        "  for j in range(i + 1 , col.shape[0]):                                         #Считаем\n",
        "    data[col[i] + '-' + col[j]] = data[col[i]] - data[col[j]]                   #Разности\n",
        "    data['|' + col[i] + '-' + col[j] + '|'] = abs(data[col[i]] - data[col[j]])  #Модули разностей\n",
        "    data[col[i] + '*' + col[j]] = data[col[i]] * data[col[j]]                   #Произведения\n",
        "\n",
        "#Для каждого столбца 'OPEN', 'MAX', 'MIN', 'CLOSE', 'VOLUME' считаем:\n",
        "for i in col:\n",
        "  data['Обратный ' + i] = 1 / (data[i] + 1e-3) #обратные значения. 1e-3 в формуле нужно, чтобы случайно не разделить на 0\n",
        "  data['Производная от ' + i] = np.nan #Создаем пустой столбец \n",
        "  data['Производная от ' + i][1:] = data[i][1:].reset_index(drop=True) - data[i][:-1].reset_index(drop=True) #При помощи срезов считаем первые производные .reset_index(drop=True) нужен для корректных подсчетов\n",
        "  data['Вторая производная от ' + i] = np.nan #Создаем пустой столбец \n",
        "  data['Вторая производная от ' + i][2:] = data[i][2:].reset_index(drop=True) - 2 * data[i][1:-1].reset_index(drop=True) + data[i][:-2].reset_index(drop=True) #При помощи срезов считаем вторые производные \n"
      ],
      "execution_count": null,
      "outputs": [
        {
          "output_type": "stream",
          "text": [
            "/usr/local/lib/python3.6/dist-packages/ipykernel_launcher.py:14: SettingWithCopyWarning: \n",
            "A value is trying to be set on a copy of a slice from a DataFrame\n",
            "\n",
            "See the caveats in the documentation: https://pandas.pydata.org/pandas-docs/stable/user_guide/indexing.html#returning-a-view-versus-a-copy\n",
            "  \n",
            "/usr/local/lib/python3.6/dist-packages/ipykernel_launcher.py:16: SettingWithCopyWarning: \n",
            "A value is trying to be set on a copy of a slice from a DataFrame\n",
            "\n",
            "See the caveats in the documentation: https://pandas.pydata.org/pandas-docs/stable/user_guide/indexing.html#returning-a-view-versus-a-copy\n",
            "  app.launch_new_instance()\n"
          ],
          "name": "stderr"
        }
      ]
    },
    {
      "cell_type": "code",
      "metadata": {
        "id": "QqZi-MIOyFQs",
        "colab": {
          "base_uri": "https://localhost:8080/",
          "height": 473
        },
        "outputId": "76bab64a-1fe6-4727-d56a-c3eab380e8d2"
      },
      "source": [
        "data #Смотрим, что получилось"
      ],
      "execution_count": null,
      "outputs": [
        {
          "output_type": "execute_result",
          "data": {
            "text/html": [
              "<div>\n",
              "<style scoped>\n",
              "    .dataframe tbody tr th:only-of-type {\n",
              "        vertical-align: middle;\n",
              "    }\n",
              "\n",
              "    .dataframe tbody tr th {\n",
              "        vertical-align: top;\n",
              "    }\n",
              "\n",
              "    .dataframe thead th {\n",
              "        text-align: right;\n",
              "    }\n",
              "</style>\n",
              "<table border=\"1\" class=\"dataframe\">\n",
              "  <thead>\n",
              "    <tr style=\"text-align: right;\">\n",
              "      <th></th>\n",
              "      <th>OPEN</th>\n",
              "      <th>MAX</th>\n",
              "      <th>MIN</th>\n",
              "      <th>CLOSE</th>\n",
              "      <th>VOLUME</th>\n",
              "      <th>OPEN-MAX</th>\n",
              "      <th>|OPEN-MAX|</th>\n",
              "      <th>OPEN*MAX</th>\n",
              "      <th>OPEN-MIN</th>\n",
              "      <th>|OPEN-MIN|</th>\n",
              "      <th>OPEN*MIN</th>\n",
              "      <th>OPEN-CLOSE</th>\n",
              "      <th>|OPEN-CLOSE|</th>\n",
              "      <th>OPEN*CLOSE</th>\n",
              "      <th>OPEN-VOLUME</th>\n",
              "      <th>|OPEN-VOLUME|</th>\n",
              "      <th>OPEN*VOLUME</th>\n",
              "      <th>MAX-MIN</th>\n",
              "      <th>|MAX-MIN|</th>\n",
              "      <th>MAX*MIN</th>\n",
              "      <th>MAX-CLOSE</th>\n",
              "      <th>|MAX-CLOSE|</th>\n",
              "      <th>MAX*CLOSE</th>\n",
              "      <th>MAX-VOLUME</th>\n",
              "      <th>|MAX-VOLUME|</th>\n",
              "      <th>MAX*VOLUME</th>\n",
              "      <th>MIN-CLOSE</th>\n",
              "      <th>|MIN-CLOSE|</th>\n",
              "      <th>MIN*CLOSE</th>\n",
              "      <th>MIN-VOLUME</th>\n",
              "      <th>|MIN-VOLUME|</th>\n",
              "      <th>MIN*VOLUME</th>\n",
              "      <th>CLOSE-VOLUME</th>\n",
              "      <th>|CLOSE-VOLUME|</th>\n",
              "      <th>CLOSE*VOLUME</th>\n",
              "      <th>Обратный OPEN</th>\n",
              "      <th>Производная от OPEN</th>\n",
              "      <th>Вторая производная от OPEN</th>\n",
              "      <th>Обратный MAX</th>\n",
              "      <th>Производная от MAX</th>\n",
              "      <th>Вторая производная от MAX</th>\n",
              "      <th>Обратный MIN</th>\n",
              "      <th>Производная от MIN</th>\n",
              "      <th>Вторая производная от MIN</th>\n",
              "      <th>Обратный CLOSE</th>\n",
              "      <th>Производная от CLOSE</th>\n",
              "      <th>Вторая производная от CLOSE</th>\n",
              "      <th>Обратный VOLUME</th>\n",
              "      <th>Производная от VOLUME</th>\n",
              "      <th>Вторая производная от VOLUME</th>\n",
              "    </tr>\n",
              "  </thead>\n",
              "  <tbody>\n",
              "    <tr>\n",
              "      <th>0</th>\n",
              "      <td>2351.0</td>\n",
              "      <td>2355.8</td>\n",
              "      <td>2350.0</td>\n",
              "      <td>2350.0</td>\n",
              "      <td>2547</td>\n",
              "      <td>-4.8</td>\n",
              "      <td>4.8</td>\n",
              "      <td>5538485.80</td>\n",
              "      <td>1.0</td>\n",
              "      <td>1.0</td>\n",
              "      <td>5524850.00</td>\n",
              "      <td>1.0</td>\n",
              "      <td>1.0</td>\n",
              "      <td>5524850.00</td>\n",
              "      <td>-196.0</td>\n",
              "      <td>196.0</td>\n",
              "      <td>5987997.0</td>\n",
              "      <td>5.8</td>\n",
              "      <td>5.8</td>\n",
              "      <td>5536130.00</td>\n",
              "      <td>5.8</td>\n",
              "      <td>5.8</td>\n",
              "      <td>5536130.00</td>\n",
              "      <td>-191.2</td>\n",
              "      <td>191.2</td>\n",
              "      <td>6000222.6</td>\n",
              "      <td>0.0</td>\n",
              "      <td>0.0</td>\n",
              "      <td>5522500.00</td>\n",
              "      <td>-197.0</td>\n",
              "      <td>197.0</td>\n",
              "      <td>5985450.0</td>\n",
              "      <td>-197.0</td>\n",
              "      <td>197.0</td>\n",
              "      <td>5985450.0</td>\n",
              "      <td>0.000425</td>\n",
              "      <td>NaN</td>\n",
              "      <td>NaN</td>\n",
              "      <td>0.000424</td>\n",
              "      <td>NaN</td>\n",
              "      <td>NaN</td>\n",
              "      <td>0.000426</td>\n",
              "      <td>NaN</td>\n",
              "      <td>NaN</td>\n",
              "      <td>0.000426</td>\n",
              "      <td>NaN</td>\n",
              "      <td>NaN</td>\n",
              "      <td>0.000393</td>\n",
              "      <td>NaN</td>\n",
              "      <td>NaN</td>\n",
              "    </tr>\n",
              "    <tr>\n",
              "      <th>1</th>\n",
              "      <td>2352.9</td>\n",
              "      <td>2355.7</td>\n",
              "      <td>2350.0</td>\n",
              "      <td>2355.7</td>\n",
              "      <td>195</td>\n",
              "      <td>-2.8</td>\n",
              "      <td>2.8</td>\n",
              "      <td>5542726.53</td>\n",
              "      <td>2.9</td>\n",
              "      <td>2.9</td>\n",
              "      <td>5529315.00</td>\n",
              "      <td>-2.8</td>\n",
              "      <td>2.8</td>\n",
              "      <td>5542726.53</td>\n",
              "      <td>2157.9</td>\n",
              "      <td>2157.9</td>\n",
              "      <td>458815.5</td>\n",
              "      <td>5.7</td>\n",
              "      <td>5.7</td>\n",
              "      <td>5535895.00</td>\n",
              "      <td>0.0</td>\n",
              "      <td>0.0</td>\n",
              "      <td>5549322.49</td>\n",
              "      <td>2160.7</td>\n",
              "      <td>2160.7</td>\n",
              "      <td>459361.5</td>\n",
              "      <td>-5.7</td>\n",
              "      <td>5.7</td>\n",
              "      <td>5535895.00</td>\n",
              "      <td>2155.0</td>\n",
              "      <td>2155.0</td>\n",
              "      <td>458250.0</td>\n",
              "      <td>2160.7</td>\n",
              "      <td>2160.7</td>\n",
              "      <td>459361.5</td>\n",
              "      <td>0.000425</td>\n",
              "      <td>1.9</td>\n",
              "      <td>NaN</td>\n",
              "      <td>0.000425</td>\n",
              "      <td>-0.1</td>\n",
              "      <td>NaN</td>\n",
              "      <td>0.000426</td>\n",
              "      <td>0.0</td>\n",
              "      <td>NaN</td>\n",
              "      <td>0.000425</td>\n",
              "      <td>5.7</td>\n",
              "      <td>NaN</td>\n",
              "      <td>0.005128</td>\n",
              "      <td>-2352.0</td>\n",
              "      <td>NaN</td>\n",
              "    </tr>\n",
              "    <tr>\n",
              "      <th>2</th>\n",
              "      <td>2355.6</td>\n",
              "      <td>2356.0</td>\n",
              "      <td>2351.4</td>\n",
              "      <td>2354.1</td>\n",
              "      <td>257</td>\n",
              "      <td>-0.4</td>\n",
              "      <td>0.4</td>\n",
              "      <td>5549793.60</td>\n",
              "      <td>4.2</td>\n",
              "      <td>4.2</td>\n",
              "      <td>5538957.84</td>\n",
              "      <td>1.5</td>\n",
              "      <td>1.5</td>\n",
              "      <td>5545317.96</td>\n",
              "      <td>2098.6</td>\n",
              "      <td>2098.6</td>\n",
              "      <td>605389.2</td>\n",
              "      <td>4.6</td>\n",
              "      <td>4.6</td>\n",
              "      <td>5539898.40</td>\n",
              "      <td>1.9</td>\n",
              "      <td>1.9</td>\n",
              "      <td>5546259.60</td>\n",
              "      <td>2099.0</td>\n",
              "      <td>2099.0</td>\n",
              "      <td>605492.0</td>\n",
              "      <td>-2.7</td>\n",
              "      <td>2.7</td>\n",
              "      <td>5535430.74</td>\n",
              "      <td>2094.4</td>\n",
              "      <td>2094.4</td>\n",
              "      <td>604309.8</td>\n",
              "      <td>2097.1</td>\n",
              "      <td>2097.1</td>\n",
              "      <td>605003.7</td>\n",
              "      <td>0.000425</td>\n",
              "      <td>2.7</td>\n",
              "      <td>0.8</td>\n",
              "      <td>0.000424</td>\n",
              "      <td>0.3</td>\n",
              "      <td>0.4</td>\n",
              "      <td>0.000425</td>\n",
              "      <td>1.4</td>\n",
              "      <td>1.4</td>\n",
              "      <td>0.000425</td>\n",
              "      <td>-1.6</td>\n",
              "      <td>-7.3</td>\n",
              "      <td>0.003891</td>\n",
              "      <td>62.0</td>\n",
              "      <td>2414.0</td>\n",
              "    </tr>\n",
              "    <tr>\n",
              "      <th>3</th>\n",
              "      <td>2354.5</td>\n",
              "      <td>2355.0</td>\n",
              "      <td>2351.2</td>\n",
              "      <td>2353.7</td>\n",
              "      <td>763</td>\n",
              "      <td>-0.5</td>\n",
              "      <td>0.5</td>\n",
              "      <td>5544847.50</td>\n",
              "      <td>3.3</td>\n",
              "      <td>3.3</td>\n",
              "      <td>5535900.40</td>\n",
              "      <td>0.8</td>\n",
              "      <td>0.8</td>\n",
              "      <td>5541786.65</td>\n",
              "      <td>1591.5</td>\n",
              "      <td>1591.5</td>\n",
              "      <td>1796483.5</td>\n",
              "      <td>3.8</td>\n",
              "      <td>3.8</td>\n",
              "      <td>5537076.00</td>\n",
              "      <td>1.3</td>\n",
              "      <td>1.3</td>\n",
              "      <td>5542963.50</td>\n",
              "      <td>1592.0</td>\n",
              "      <td>1592.0</td>\n",
              "      <td>1796865.0</td>\n",
              "      <td>-2.5</td>\n",
              "      <td>2.5</td>\n",
              "      <td>5534019.44</td>\n",
              "      <td>1588.2</td>\n",
              "      <td>1588.2</td>\n",
              "      <td>1793965.6</td>\n",
              "      <td>1590.7</td>\n",
              "      <td>1590.7</td>\n",
              "      <td>1795873.1</td>\n",
              "      <td>0.000425</td>\n",
              "      <td>-1.1</td>\n",
              "      <td>-3.8</td>\n",
              "      <td>0.000425</td>\n",
              "      <td>-1.0</td>\n",
              "      <td>-1.3</td>\n",
              "      <td>0.000425</td>\n",
              "      <td>-0.2</td>\n",
              "      <td>-1.6</td>\n",
              "      <td>0.000425</td>\n",
              "      <td>-0.4</td>\n",
              "      <td>1.2</td>\n",
              "      <td>0.001311</td>\n",
              "      <td>506.0</td>\n",
              "      <td>444.0</td>\n",
              "    </tr>\n",
              "    <tr>\n",
              "      <th>4</th>\n",
              "      <td>2353.1</td>\n",
              "      <td>2353.9</td>\n",
              "      <td>2353.1</td>\n",
              "      <td>2353.6</td>\n",
              "      <td>231</td>\n",
              "      <td>-0.8</td>\n",
              "      <td>0.8</td>\n",
              "      <td>5538962.09</td>\n",
              "      <td>0.0</td>\n",
              "      <td>0.0</td>\n",
              "      <td>5537079.61</td>\n",
              "      <td>-0.5</td>\n",
              "      <td>0.5</td>\n",
              "      <td>5538256.16</td>\n",
              "      <td>2122.1</td>\n",
              "      <td>2122.1</td>\n",
              "      <td>543566.1</td>\n",
              "      <td>0.8</td>\n",
              "      <td>0.8</td>\n",
              "      <td>5538962.09</td>\n",
              "      <td>0.3</td>\n",
              "      <td>0.3</td>\n",
              "      <td>5540139.04</td>\n",
              "      <td>2122.9</td>\n",
              "      <td>2122.9</td>\n",
              "      <td>543750.9</td>\n",
              "      <td>-0.5</td>\n",
              "      <td>0.5</td>\n",
              "      <td>5538256.16</td>\n",
              "      <td>2122.1</td>\n",
              "      <td>2122.1</td>\n",
              "      <td>543566.1</td>\n",
              "      <td>2122.6</td>\n",
              "      <td>2122.6</td>\n",
              "      <td>543681.6</td>\n",
              "      <td>0.000425</td>\n",
              "      <td>-1.4</td>\n",
              "      <td>-0.3</td>\n",
              "      <td>0.000425</td>\n",
              "      <td>-1.1</td>\n",
              "      <td>-0.1</td>\n",
              "      <td>0.000425</td>\n",
              "      <td>1.9</td>\n",
              "      <td>2.1</td>\n",
              "      <td>0.000425</td>\n",
              "      <td>-0.1</td>\n",
              "      <td>0.3</td>\n",
              "      <td>0.004329</td>\n",
              "      <td>-532.0</td>\n",
              "      <td>-1038.0</td>\n",
              "    </tr>\n",
              "    <tr>\n",
              "      <th>...</th>\n",
              "      <td>...</td>\n",
              "      <td>...</td>\n",
              "      <td>...</td>\n",
              "      <td>...</td>\n",
              "      <td>...</td>\n",
              "      <td>...</td>\n",
              "      <td>...</td>\n",
              "      <td>...</td>\n",
              "      <td>...</td>\n",
              "      <td>...</td>\n",
              "      <td>...</td>\n",
              "      <td>...</td>\n",
              "      <td>...</td>\n",
              "      <td>...</td>\n",
              "      <td>...</td>\n",
              "      <td>...</td>\n",
              "      <td>...</td>\n",
              "      <td>...</td>\n",
              "      <td>...</td>\n",
              "      <td>...</td>\n",
              "      <td>...</td>\n",
              "      <td>...</td>\n",
              "      <td>...</td>\n",
              "      <td>...</td>\n",
              "      <td>...</td>\n",
              "      <td>...</td>\n",
              "      <td>...</td>\n",
              "      <td>...</td>\n",
              "      <td>...</td>\n",
              "      <td>...</td>\n",
              "      <td>...</td>\n",
              "      <td>...</td>\n",
              "      <td>...</td>\n",
              "      <td>...</td>\n",
              "      <td>...</td>\n",
              "      <td>...</td>\n",
              "      <td>...</td>\n",
              "      <td>...</td>\n",
              "      <td>...</td>\n",
              "      <td>...</td>\n",
              "      <td>...</td>\n",
              "      <td>...</td>\n",
              "      <td>...</td>\n",
              "      <td>...</td>\n",
              "      <td>...</td>\n",
              "      <td>...</td>\n",
              "      <td>...</td>\n",
              "      <td>...</td>\n",
              "      <td>...</td>\n",
              "      <td>...</td>\n",
              "    </tr>\n",
              "    <tr>\n",
              "      <th>481867</th>\n",
              "      <td>5183.5</td>\n",
              "      <td>5183.5</td>\n",
              "      <td>5183.5</td>\n",
              "      <td>5183.5</td>\n",
              "      <td>31523</td>\n",
              "      <td>0.0</td>\n",
              "      <td>0.0</td>\n",
              "      <td>26868672.25</td>\n",
              "      <td>0.0</td>\n",
              "      <td>0.0</td>\n",
              "      <td>26868672.25</td>\n",
              "      <td>0.0</td>\n",
              "      <td>0.0</td>\n",
              "      <td>26868672.25</td>\n",
              "      <td>-26339.5</td>\n",
              "      <td>26339.5</td>\n",
              "      <td>163399470.5</td>\n",
              "      <td>0.0</td>\n",
              "      <td>0.0</td>\n",
              "      <td>26868672.25</td>\n",
              "      <td>0.0</td>\n",
              "      <td>0.0</td>\n",
              "      <td>26868672.25</td>\n",
              "      <td>-26339.5</td>\n",
              "      <td>26339.5</td>\n",
              "      <td>163399470.5</td>\n",
              "      <td>0.0</td>\n",
              "      <td>0.0</td>\n",
              "      <td>26868672.25</td>\n",
              "      <td>-26339.5</td>\n",
              "      <td>26339.5</td>\n",
              "      <td>163399470.5</td>\n",
              "      <td>-26339.5</td>\n",
              "      <td>26339.5</td>\n",
              "      <td>163399470.5</td>\n",
              "      <td>0.000193</td>\n",
              "      <td>13.5</td>\n",
              "      <td>13.5</td>\n",
              "      <td>0.000193</td>\n",
              "      <td>11.5</td>\n",
              "      <td>11.5</td>\n",
              "      <td>0.000193</td>\n",
              "      <td>16.0</td>\n",
              "      <td>18.0</td>\n",
              "      <td>0.000193</td>\n",
              "      <td>11.5</td>\n",
              "      <td>10.0</td>\n",
              "      <td>0.000032</td>\n",
              "      <td>29174.0</td>\n",
              "      <td>29480.0</td>\n",
              "    </tr>\n",
              "    <tr>\n",
              "      <th>481868</th>\n",
              "      <td>5183.5</td>\n",
              "      <td>5183.5</td>\n",
              "      <td>5183.5</td>\n",
              "      <td>5183.5</td>\n",
              "      <td>5090</td>\n",
              "      <td>0.0</td>\n",
              "      <td>0.0</td>\n",
              "      <td>26868672.25</td>\n",
              "      <td>0.0</td>\n",
              "      <td>0.0</td>\n",
              "      <td>26868672.25</td>\n",
              "      <td>0.0</td>\n",
              "      <td>0.0</td>\n",
              "      <td>26868672.25</td>\n",
              "      <td>93.5</td>\n",
              "      <td>93.5</td>\n",
              "      <td>26384015.0</td>\n",
              "      <td>0.0</td>\n",
              "      <td>0.0</td>\n",
              "      <td>26868672.25</td>\n",
              "      <td>0.0</td>\n",
              "      <td>0.0</td>\n",
              "      <td>26868672.25</td>\n",
              "      <td>93.5</td>\n",
              "      <td>93.5</td>\n",
              "      <td>26384015.0</td>\n",
              "      <td>0.0</td>\n",
              "      <td>0.0</td>\n",
              "      <td>26868672.25</td>\n",
              "      <td>93.5</td>\n",
              "      <td>93.5</td>\n",
              "      <td>26384015.0</td>\n",
              "      <td>93.5</td>\n",
              "      <td>93.5</td>\n",
              "      <td>26384015.0</td>\n",
              "      <td>0.000193</td>\n",
              "      <td>0.0</td>\n",
              "      <td>-13.5</td>\n",
              "      <td>0.000193</td>\n",
              "      <td>0.0</td>\n",
              "      <td>-11.5</td>\n",
              "      <td>0.000193</td>\n",
              "      <td>0.0</td>\n",
              "      <td>-16.0</td>\n",
              "      <td>0.000193</td>\n",
              "      <td>0.0</td>\n",
              "      <td>-11.5</td>\n",
              "      <td>0.000196</td>\n",
              "      <td>-26433.0</td>\n",
              "      <td>-55607.0</td>\n",
              "    </tr>\n",
              "    <tr>\n",
              "      <th>481869</th>\n",
              "      <td>5183.5</td>\n",
              "      <td>5183.5</td>\n",
              "      <td>5183.5</td>\n",
              "      <td>5183.5</td>\n",
              "      <td>230</td>\n",
              "      <td>0.0</td>\n",
              "      <td>0.0</td>\n",
              "      <td>26868672.25</td>\n",
              "      <td>0.0</td>\n",
              "      <td>0.0</td>\n",
              "      <td>26868672.25</td>\n",
              "      <td>0.0</td>\n",
              "      <td>0.0</td>\n",
              "      <td>26868672.25</td>\n",
              "      <td>4953.5</td>\n",
              "      <td>4953.5</td>\n",
              "      <td>1192205.0</td>\n",
              "      <td>0.0</td>\n",
              "      <td>0.0</td>\n",
              "      <td>26868672.25</td>\n",
              "      <td>0.0</td>\n",
              "      <td>0.0</td>\n",
              "      <td>26868672.25</td>\n",
              "      <td>4953.5</td>\n",
              "      <td>4953.5</td>\n",
              "      <td>1192205.0</td>\n",
              "      <td>0.0</td>\n",
              "      <td>0.0</td>\n",
              "      <td>26868672.25</td>\n",
              "      <td>4953.5</td>\n",
              "      <td>4953.5</td>\n",
              "      <td>1192205.0</td>\n",
              "      <td>4953.5</td>\n",
              "      <td>4953.5</td>\n",
              "      <td>1192205.0</td>\n",
              "      <td>0.000193</td>\n",
              "      <td>0.0</td>\n",
              "      <td>0.0</td>\n",
              "      <td>0.000193</td>\n",
              "      <td>0.0</td>\n",
              "      <td>0.0</td>\n",
              "      <td>0.000193</td>\n",
              "      <td>0.0</td>\n",
              "      <td>0.0</td>\n",
              "      <td>0.000193</td>\n",
              "      <td>0.0</td>\n",
              "      <td>0.0</td>\n",
              "      <td>0.004348</td>\n",
              "      <td>-4860.0</td>\n",
              "      <td>21573.0</td>\n",
              "    </tr>\n",
              "    <tr>\n",
              "      <th>481870</th>\n",
              "      <td>5183.5</td>\n",
              "      <td>5183.5</td>\n",
              "      <td>5183.5</td>\n",
              "      <td>5183.5</td>\n",
              "      <td>5</td>\n",
              "      <td>0.0</td>\n",
              "      <td>0.0</td>\n",
              "      <td>26868672.25</td>\n",
              "      <td>0.0</td>\n",
              "      <td>0.0</td>\n",
              "      <td>26868672.25</td>\n",
              "      <td>0.0</td>\n",
              "      <td>0.0</td>\n",
              "      <td>26868672.25</td>\n",
              "      <td>5178.5</td>\n",
              "      <td>5178.5</td>\n",
              "      <td>25917.5</td>\n",
              "      <td>0.0</td>\n",
              "      <td>0.0</td>\n",
              "      <td>26868672.25</td>\n",
              "      <td>0.0</td>\n",
              "      <td>0.0</td>\n",
              "      <td>26868672.25</td>\n",
              "      <td>5178.5</td>\n",
              "      <td>5178.5</td>\n",
              "      <td>25917.5</td>\n",
              "      <td>0.0</td>\n",
              "      <td>0.0</td>\n",
              "      <td>26868672.25</td>\n",
              "      <td>5178.5</td>\n",
              "      <td>5178.5</td>\n",
              "      <td>25917.5</td>\n",
              "      <td>5178.5</td>\n",
              "      <td>5178.5</td>\n",
              "      <td>25917.5</td>\n",
              "      <td>0.000193</td>\n",
              "      <td>0.0</td>\n",
              "      <td>0.0</td>\n",
              "      <td>0.000193</td>\n",
              "      <td>0.0</td>\n",
              "      <td>0.0</td>\n",
              "      <td>0.000193</td>\n",
              "      <td>0.0</td>\n",
              "      <td>0.0</td>\n",
              "      <td>0.000193</td>\n",
              "      <td>0.0</td>\n",
              "      <td>0.0</td>\n",
              "      <td>0.199960</td>\n",
              "      <td>-225.0</td>\n",
              "      <td>4635.0</td>\n",
              "    </tr>\n",
              "    <tr>\n",
              "      <th>481871</th>\n",
              "      <td>5183.5</td>\n",
              "      <td>5183.5</td>\n",
              "      <td>5183.5</td>\n",
              "      <td>5183.5</td>\n",
              "      <td>994</td>\n",
              "      <td>0.0</td>\n",
              "      <td>0.0</td>\n",
              "      <td>26868672.25</td>\n",
              "      <td>0.0</td>\n",
              "      <td>0.0</td>\n",
              "      <td>26868672.25</td>\n",
              "      <td>0.0</td>\n",
              "      <td>0.0</td>\n",
              "      <td>26868672.25</td>\n",
              "      <td>4189.5</td>\n",
              "      <td>4189.5</td>\n",
              "      <td>5152399.0</td>\n",
              "      <td>0.0</td>\n",
              "      <td>0.0</td>\n",
              "      <td>26868672.25</td>\n",
              "      <td>0.0</td>\n",
              "      <td>0.0</td>\n",
              "      <td>26868672.25</td>\n",
              "      <td>4189.5</td>\n",
              "      <td>4189.5</td>\n",
              "      <td>5152399.0</td>\n",
              "      <td>0.0</td>\n",
              "      <td>0.0</td>\n",
              "      <td>26868672.25</td>\n",
              "      <td>4189.5</td>\n",
              "      <td>4189.5</td>\n",
              "      <td>5152399.0</td>\n",
              "      <td>4189.5</td>\n",
              "      <td>4189.5</td>\n",
              "      <td>5152399.0</td>\n",
              "      <td>0.000193</td>\n",
              "      <td>0.0</td>\n",
              "      <td>0.0</td>\n",
              "      <td>0.000193</td>\n",
              "      <td>0.0</td>\n",
              "      <td>0.0</td>\n",
              "      <td>0.000193</td>\n",
              "      <td>0.0</td>\n",
              "      <td>0.0</td>\n",
              "      <td>0.000193</td>\n",
              "      <td>0.0</td>\n",
              "      <td>0.0</td>\n",
              "      <td>0.001006</td>\n",
              "      <td>989.0</td>\n",
              "      <td>1214.0</td>\n",
              "    </tr>\n",
              "  </tbody>\n",
              "</table>\n",
              "<p>481872 rows × 50 columns</p>\n",
              "</div>"
            ],
            "text/plain": [
              "          OPEN     MAX  ...  Производная от VOLUME  Вторая производная от VOLUME\n",
              "0       2351.0  2355.8  ...                    NaN                           NaN\n",
              "1       2352.9  2355.7  ...                -2352.0                           NaN\n",
              "2       2355.6  2356.0  ...                   62.0                        2414.0\n",
              "3       2354.5  2355.0  ...                  506.0                         444.0\n",
              "4       2353.1  2353.9  ...                 -532.0                       -1038.0\n",
              "...        ...     ...  ...                    ...                           ...\n",
              "481867  5183.5  5183.5  ...                29174.0                       29480.0\n",
              "481868  5183.5  5183.5  ...               -26433.0                      -55607.0\n",
              "481869  5183.5  5183.5  ...                -4860.0                       21573.0\n",
              "481870  5183.5  5183.5  ...                 -225.0                        4635.0\n",
              "481871  5183.5  5183.5  ...                  989.0                        1214.0\n",
              "\n",
              "[481872 rows x 50 columns]"
            ]
          },
          "metadata": {
            "tags": []
          },
          "execution_count": 6
        }
      ]
    },
    {
      "cell_type": "code",
      "metadata": {
        "id": "ieoPO92Wwc_p"
      },
      "source": [
        "data = np.array(data.iloc[2:]) #Берем все столбцы с первых двух\n",
        "data = np.array(data) #Переводим в numpy\n",
        "columnsamount = data.shape[1] #При помощи этой переменной будем использовать одну и ту же архитектуру под разные матрицы"
      ],
      "execution_count": null,
      "outputs": []
    },
    {
      "cell_type": "markdown",
      "metadata": {
        "id": "CKpTtma9Vw8W"
      },
      "source": [
        "**Функция загрузки данных**"
      ]
    },
    {
      "cell_type": "code",
      "metadata": {
        "id": "kQ4it_i3KSLU"
      },
      "source": [
        "#Формируем параметры загрузки данных\n",
        "\n",
        "xLen = 300                      #Анализируем по 300 прошедшим точкам \n",
        "valLen = 30000                  #Используем 30.000 записей для проверки\n",
        "\n",
        "trainLen = data.shape[0]-valLen # Размер тренировочной выборки\n",
        "\n",
        "#Делим данные на тренировочную и тестовую выборки \n",
        "xTrain,xTest = data[:trainLen], data[trainLen+xLen+2:]\n",
        "\n",
        "#Масштабируем данные (отдельно для X и Y), чтобы их легче было скормить сетке\n",
        "xScaler = MinMaxScaler()\n",
        "xScaler.fit(xTrain)\n",
        "xTrain = xScaler.transform(xTrain)\n",
        "xTest = xScaler.transform(xTest)\n",
        "\n",
        "#Делаем reshape,т. к. у нас только один столбец по одному значению\n",
        "yTrain,yTest = np.reshape(data[:trainLen,3],(-1,1)), np.reshape(data[trainLen+xLen+2:,3],(-1,1)) \n",
        "yScaler = MinMaxScaler()\n",
        "yScaler.fit(yTrain)\n",
        "yTrain = yScaler.transform(yTrain)\n",
        "yTest = yScaler.transform(yTest)\n",
        "\n",
        "#Создаем генератор для обучения\n",
        "trainDataGen = TimeseriesGenerator(xTrain, yTrain,           #В качестве параметров наши выборки\n",
        "                               length=xLen, stride=1, #Для каждой точки (из промежутка длины xLen)\n",
        "                               batch_size=20)                #Размер batch, который будем скармливать модели\n",
        "\n",
        "#Создаем аналогичный генератор для валидации при обучении\n",
        "testDataGen = TimeseriesGenerator(xTest, yTest,\n",
        "                               length=xLen, stride=1,\n",
        "                               batch_size=20)"
      ],
      "execution_count": null,
      "outputs": []
    },
    {
      "cell_type": "code",
      "metadata": {
        "id": "zPQhpZrFVaTe",
        "colab": {
          "base_uri": "https://localhost:8080/",
          "height": 238
        },
        "outputId": "3d15164b-4a8d-4aca-b975-bfb7acada61b"
      },
      "source": [
        "xTrain[0]"
      ],
      "execution_count": null,
      "outputs": [
        {
          "output_type": "execute_result",
          "data": {
            "text/plain": [
              "array([7.95549374e-02, 7.82709985e-02, 7.87523084e-02, 7.91423298e-02,\n",
              "       5.98183431e-05, 9.97260274e-01, 2.73972603e-03, 4.30300821e-02,\n",
              "       2.47058824e-02, 2.47058824e-02, 4.32954053e-02, 6.48793566e-01,\n",
              "       1.25523013e-02, 4.30775888e-02, 9.99094556e-01, 4.89042680e-04,\n",
              "       2.76290371e-05, 2.70588235e-02, 2.70588235e-02, 4.28884957e-02,\n",
              "       1.85365854e-02, 1.85365854e-02, 4.30582515e-02, 9.99094649e-01,\n",
              "       4.89135893e-04, 2.76337287e-05, 9.77593361e-01, 2.24066390e-02,\n",
              "       4.31147298e-02, 9.99093579e-01, 4.88063942e-04, 2.75797749e-05,\n",
              "       9.99094207e-01, 4.88693131e-04, 2.76114434e-05, 7.97515918e-01,\n",
              "       4.70294785e-01, 5.06467662e-01, 8.00801025e-01, 4.13608247e-01,\n",
              "       5.50337838e-01, 7.99284485e-01, 4.90387374e-01, 3.41990521e-01,\n",
              "       7.98420931e-01, 4.60678643e-01, 4.63214286e-01, 3.89080269e-06,\n",
              "       4.99379452e-01, 6.73841210e-01])"
            ]
          },
          "metadata": {
            "tags": []
          },
          "execution_count": 9
        }
      ]
    },
    {
      "cell_type": "code",
      "metadata": {
        "id": "kPFgJJuOzLvv",
        "colab": {
          "base_uri": "https://localhost:8080/",
          "height": 34
        },
        "outputId": "587f8acd-7561-42b8-d103-f5d004c1f258"
      },
      "source": [
        "print(trainDataGen[0][0].shape,\n",
        "      trainDataGen[0][1].shape)"
      ],
      "execution_count": null,
      "outputs": [
        {
          "output_type": "stream",
          "text": [
            "(20, 300, 50) (20, 1)\n"
          ],
          "name": "stdout"
        }
      ]
    },
    {
      "cell_type": "markdown",
      "metadata": {
        "id": "wxxzUkDTLG32"
      },
      "source": [
        "## Визуализация результатов"
      ]
    },
    {
      "cell_type": "code",
      "metadata": {
        "id": "EsJKpEEwLG32"
      },
      "source": [
        "# Функция рассчитывает результаты прогнозирования сети\n",
        "# В аргументы принимает сеть (currModel) и проверочную выборку\n",
        "# Выдаёт результаты предсказания predVal\n",
        "# И правильные ответы в исходной размерности yValUnscaled (какими они были до нормирования)\n",
        "def getPred(currModel, xVal, yVal, yScaler):\n",
        "  # Предсказываем ответ сети по проверочной выборке\n",
        "  # И возвращаем исходный масштаб данных, до нормализации\n",
        "  predVal = yScaler.inverse_transform(currModel.predict(xVal))\n",
        "  yValUnscaled = yScaler.inverse_transform(yVal)\n",
        "  \n",
        "  return (predVal, yValUnscaled)\n",
        "\n",
        "# Функция визуализирует графики, что предсказала сеть и какие были правильные ответы\n",
        "# start - точка, с которой начинаем отрисовку графика\n",
        "# step - длина графика, которую отрисовываем\n",
        "# channel - какой канал отрисовываем\n",
        "def showPredict(start, step, channel, predVal, yValUnscaled):\n",
        "  plt.plot(predVal[start:start+step, channel],\n",
        "           label='Прогноз')\n",
        "  plt.plot(yValUnscaled[start:start+step, channel], \n",
        "           label='Базовый ряд')\n",
        "  plt.xlabel('Время')\n",
        "  plt.ylabel('Значение Close')\n",
        "  plt.legend()\n",
        "  plt.show()\n",
        "  \n",
        "# Функция расчёта корреляции двух одномерных векторов\n",
        "def correlate(a, b):\n",
        "  # Рассчитываем основные показатели\n",
        "  ma = a.mean() # Среднее значение первого вектора\n",
        "  mb = b.mean() # Среднее значение второго вектора\n",
        "  mab = (a*b).mean() # Среднее значение произведения векторов\n",
        "  sa = a.std() # Среднеквадратичное отклонение первого вектора\n",
        "  sb = b.std() # Среднеквадратичное отклонение второго вектора\n",
        "  \n",
        "  #Рассчитываем корреляцию\n",
        "  val = 1\n",
        "  if ((sa>0) & (sb>0)):\n",
        "    val = (mab-ma*mb)/(sa*sb)\n",
        "  return val\n",
        "\n",
        "# Функция рисует корреляцию прогнозированного сигнала с правильным\n",
        "# Смещая на различное количество шагов назад\n",
        "# Для проверки появления эффекта автокорреляции\n",
        "# channels - по каким каналам отображать корреляцию\n",
        "# corrSteps - на какое количество шагов смещать сигнал назад для расчёта корреляции\n",
        "def showCorr(channels, corrSteps, predVal, yValUnscaled):\n",
        "  # Проходим по всем каналам\n",
        "  for ch in channels:\n",
        "    corr = [] # Создаём пустой лист, в нём будут корреляции при смещении на i рагов обратно\n",
        "    yLen = yValUnscaled.shape[0] # Запоминаем размер проверочной выборки\n",
        "\n",
        "      # Постепенно увеличиваем шаг, насколько смещаем сигнал для проверки автокорреляции\n",
        "    for i in range(corrSteps):\n",
        "      # Получаем сигнал, смещённый на i шагов назад\n",
        "      # predVal[i:, ch]\n",
        "      # Сравниваем его с верными ответами, без смещения назад\n",
        "      # yValUnscaled[:yLen-i,ch]\n",
        "      # Рассчитываем их корреляцию и добавляем в лист\n",
        "      corr.append(correlate(yValUnscaled[:yLen-i,ch], predVal[i:, 0]))\n",
        "\n",
        "    own_corr = [] # Создаём пустой лист, в нём будут корреляции при смещении на i шагов обратно\n",
        "\n",
        "      # Постепенно увеличиваем шаг, насколько смещаем сигнал для проверки автокорреляции\n",
        "    for i in range(corrSteps):\n",
        "      # Получаем сигнал, смещённый на i шагов назад\n",
        "      # predVal[i:, ch]\n",
        "      # Сравниваем его с верными ответами, без смещения назад\n",
        "      # yValUnscaled[:yLen-i,ch]\n",
        "      # Рассчитываем их корреляцию и добавляем в лист\n",
        "      own_corr.append(correlate(yValUnscaled[:yLen-i,ch], yValUnscaled[i:, ch]))\n",
        "\n",
        "    # Отображаем график корреляций для данного шага\n",
        "    plt.plot(corr, label='Предсказание на ' + str(ch+1) + ' шаг')\n",
        "    plt.plot(own_corr, label='Эталон')\n",
        "\n",
        "  plt.xlabel('Время')\n",
        "  plt.ylabel('Значение')\n",
        "  plt.legend()\n",
        "  plt.show()"
      ],
      "execution_count": null,
      "outputs": []
    },
    {
      "cell_type": "code",
      "metadata": {
        "id": "6gmQcSBqLG35"
      },
      "source": [
        "#Создадим генератор проверочной выборки, из которой потом вытащим xVal, yVal для проверки\n",
        "DataGen = TimeseriesGenerator(xTest, yTest,\n",
        "                               length=xLen, sampling_rate=1,\n",
        "                               batch_size=len(xTest)) #размер batch будет равен длине нашей выборки\n",
        "xVal = []\n",
        "yVal = []\n",
        "for i in DataGen:\n",
        "  xVal.append(i[0])\n",
        "  yVal.append(i[1])\n",
        "\n",
        "xVal = np.array(xVal)\n",
        "yVal = np.array(yVal)"
      ],
      "execution_count": null,
      "outputs": []
    },
    {
      "cell_type": "markdown",
      "metadata": {
        "id": "rDUh-Cb5c5qY"
      },
      "source": [
        "## Полносвязная сеть"
      ]
    },
    {
      "cell_type": "code",
      "metadata": {
        "scrolled": false,
        "id": "fhDSHVgDLG3z",
        "colab": {
          "base_uri": "https://localhost:8080/",
          "height": 945
        },
        "outputId": "b2bf4646-aa72-4b4b-e0a7-46c7d8e2e5b0"
      },
      "source": [
        "#Создаём нейронку\n",
        "modelD = Sequential()\n",
        "modelD.add(Dense(150,input_shape = (xLen,columnsamount), activation=\"linear\" )) \n",
        "modelD.add(Flatten())\n",
        "modelD.add(Dense(1, activation=\"linear\"))\n",
        "\n",
        "#Компилируем\n",
        "modelD.compile(loss=\"mse\", optimizer=Adam(lr=1e-4))\n",
        "\n",
        "#Запускаем обучение\n",
        "history = modelD.fit_generator(\n",
        "                    trainDataGen, \n",
        "                    epochs=20, \n",
        "                    verbose=1, \n",
        "                    validation_data = testDataGen \n",
        "                    )\n",
        "\n",
        "#Выводим графики\n",
        "plt.plot(history.history['loss'], \n",
        "         label='Средняя абсолютная ошибка на обучающем наборе')\n",
        "plt.plot(history.history['val_loss'], \n",
        "         label='Средняя абсолютная ошибка на проверочном наборе')\n",
        "plt.ylabel('Средняя ошибка')\n",
        "plt.legend()\n",
        "plt.show()"
      ],
      "execution_count": null,
      "outputs": [
        {
          "output_type": "stream",
          "text": [
            "Epoch 1/20\n",
            "22579/22579 [==============================] - 94s 4ms/step - loss: 0.0061 - val_loss: 0.0110\n",
            "Epoch 2/20\n",
            "22579/22579 [==============================] - 93s 4ms/step - loss: 6.0378e-04 - val_loss: 7.1288e-04\n",
            "Epoch 3/20\n",
            "22579/22579 [==============================] - 95s 4ms/step - loss: 3.3218e-04 - val_loss: 5.1155e-04\n",
            "Epoch 4/20\n",
            "22579/22579 [==============================] - 93s 4ms/step - loss: 1.9470e-04 - val_loss: 0.0015\n",
            "Epoch 5/20\n",
            "22579/22579 [==============================] - 93s 4ms/step - loss: 1.2335e-04 - val_loss: 6.7443e-06\n",
            "Epoch 6/20\n",
            "22579/22579 [==============================] - 94s 4ms/step - loss: 1.1764e-04 - val_loss: 1.9738e-05\n",
            "Epoch 7/20\n",
            "22579/22579 [==============================] - 94s 4ms/step - loss: 9.2912e-05 - val_loss: 1.4233e-05\n",
            "Epoch 8/20\n",
            "22579/22579 [==============================] - 93s 4ms/step - loss: 1.3769e-04 - val_loss: 6.1034e-06\n",
            "Epoch 9/20\n",
            "22579/22579 [==============================] - 93s 4ms/step - loss: 9.4871e-05 - val_loss: 4.9698e-06\n",
            "Epoch 10/20\n",
            "22579/22579 [==============================] - 94s 4ms/step - loss: 8.1293e-05 - val_loss: 1.7130e-05\n",
            "Epoch 11/20\n",
            "22579/22579 [==============================] - 93s 4ms/step - loss: 8.8046e-05 - val_loss: 4.1592e-05\n",
            "Epoch 12/20\n",
            "22579/22579 [==============================] - 94s 4ms/step - loss: 9.7433e-05 - val_loss: 1.0364e-05\n",
            "Epoch 13/20\n",
            "22579/22579 [==============================] - 94s 4ms/step - loss: 7.2624e-05 - val_loss: 0.0468\n",
            "Epoch 14/20\n",
            "22579/22579 [==============================] - 93s 4ms/step - loss: 7.1881e-05 - val_loss: 2.6446e-06\n",
            "Epoch 15/20\n",
            "22579/22579 [==============================] - 93s 4ms/step - loss: 9.0068e-05 - val_loss: 3.6221e-06\n",
            "Epoch 16/20\n",
            "22579/22579 [==============================] - 94s 4ms/step - loss: 4.6773e-05 - val_loss: 4.5851e-06\n",
            "Epoch 17/20\n",
            "22579/22579 [==============================] - 94s 4ms/step - loss: 7.5995e-05 - val_loss: 1.6507e-06\n",
            "Epoch 18/20\n",
            "22579/22579 [==============================] - 93s 4ms/step - loss: 5.5777e-05 - val_loss: 4.0407e-06\n",
            "Epoch 19/20\n",
            "22579/22579 [==============================] - 94s 4ms/step - loss: 5.7047e-05 - val_loss: 1.5987e-04\n",
            "Epoch 20/20\n",
            "22579/22579 [==============================] - 94s 4ms/step - loss: 6.5436e-05 - val_loss: 2.0029e-06\n"
          ],
          "name": "stdout"
        },
        {
          "output_type": "display_data",
          "data": {
            "image/png": "[encoded data removed]",
            "text/plain": [
              "<Figure size 432x288 with 1 Axes>"
            ]
          },
          "metadata": {
            "tags": [],
            "needs_background": "light"
          }
        }
      ]
    },
    {
      "cell_type": "code",
      "metadata": {
        "id": "KopYI9dEH96Q",
        "colab": {
          "base_uri": "https://localhost:8080/",
          "height": 279
        },
        "outputId": "d85520b6-4ba7-4781-9762-558a8a3d9a26"
      },
      "source": [
        "#Прогнозируем данные текущей сетью\n",
        "currModel = modelD #Выбираем текущую модель\n",
        "(predVal, yValUnscaled) = getPred(currModel, xVal[0], yVal[0], yScaler) #Прогнозируем данные\n",
        "\n",
        "#Отображаем графики\n",
        "showPredict(0, 160, 0, predVal, yValUnscaled)\n"
      ],
      "execution_count": null,
      "outputs": [
        {
          "output_type": "display_data",
          "data": {
            "image/png": "[encoded data removed]",
            "text/plain": [
              "<Figure size 432x288 with 1 Axes>"
            ]
          },
          "metadata": {
            "tags": [],
            "needs_background": "light"
          }
        }
      ]
    },
    {
      "cell_type": "code",
      "metadata": {
        "id": "vfWyIb7JIkBp",
        "colab": {
          "base_uri": "https://localhost:8080/",
          "height": 279
        },
        "outputId": "d7e9e47f-7bf3-4ea3-a4f2-beee736ffef7"
      },
      "source": [
        "#Отображаем корреляцию\n",
        "#Используем выходной канал - только open\n",
        "#Проверяем корреляцию на глубину 60 шагов\n",
        "showCorr([0], 60, predVal, yValUnscaled)"
      ],
      "execution_count": null,
      "outputs": [
        {
          "output_type": "display_data",
          "data": {
            "image/png": "[encoded data removed]",
            "text/plain": [
              "<Figure size 432x288 with 1 Axes>"
            ]
          },
          "metadata": {
            "tags": [],
            "needs_background": "light"
          }
        }
      ]
    },
    {
      "cell_type": "code",
      "metadata": {
        "id": "71mYMmZRIOf4",
        "colab": {
          "base_uri": "https://localhost:8080/",
          "height": 265
        },
        "outputId": "a9e9e21a-d1e5-4adc-db3a-58b2081674f0"
      },
      "source": [
        "#Выводим графики\n",
        "plt.plot(history.history['loss'][2:], \n",
        "         label='Средняя абсолютная ошибка на обучающем наборе')\n",
        "plt.plot(history.history['val_loss'][2:], \n",
        "         label='Средняя абсолютная ошибка на проверочном наборе')\n",
        "plt.ylabel('Средняя ошибка')\n",
        "plt.legend()\n",
        "plt.show()"
      ],
      "execution_count": null,
      "outputs": [
        {
          "output_type": "display_data",
          "data": {
            "image/png": "[encoded data removed]",
            "text/plain": [
              "<Figure size 432x288 with 1 Axes>"
            ]
          },
          "metadata": {
            "tags": [],
            "needs_background": "light"
          }
        }
      ]
    },
    {
      "cell_type": "markdown",
      "metadata": {
        "id": "8yi0jvoDkfqG"
      },
      "source": [
        "## Одномерная свёртка"
      ]
    },
    {
      "cell_type": "code",
      "metadata": {
        "id": "Tb223GxDkHVI",
        "colab": {
          "base_uri": "https://localhost:8080/",
          "height": 510
        },
        "outputId": "88695f12-5121-4893-ca7f-2cf22e2b8a71"
      },
      "source": [
        "modelC = Sequential()\n",
        "\n",
        "modelC.add(Conv1D(200, 5, input_shape = (xLen, columnsamount), activation=\"linear\"))\n",
        "modelC.add(Flatten())\n",
        "modelC.add(Dense(100, activation=\"linear\"))\n",
        "modelC.add(Dense(1, activation=\"linear\"))\n",
        "\n",
        "modelC.compile(loss=\"mse\", optimizer=Adam(lr=1e-4))\n",
        "\n",
        "history = modelC.fit_generator(trainDataGen,\n",
        "                    epochs=20, \n",
        "                    verbose=1,\n",
        "                    validation_data=testDataGen)\n",
        "\n",
        "plt.plot(history.history['loss'], \n",
        "         label='Средняя абсолютная ошибка на обучающем наборе')\n",
        "plt.plot(history.history['val_loss'], \n",
        "         label='Средняя абсолютная ошибка на проверочном наборе')\n",
        "plt.ylabel('Средняя ошибка')\n",
        "plt.legend()\n",
        "plt.show()\n",
        "\n"
      ],
      "execution_count": null,
      "outputs": [
        {
          "output_type": "stream",
          "text": [
            "WARNING:tensorflow:From <ipython-input-11-877e51298786>:13: Model.fit_generator (from tensorflow.python.keras.engine.training) is deprecated and will be removed in a future version.\n",
            "Instructions for updating:\n",
            "Please use Model.fit, which supports generators.\n",
            "Epoch 1/20\n",
            "22579/22579 [==============================] - 251s 11ms/step - loss: 0.1982 - val_loss: 8.3754e-04\n",
            "Epoch 2/20\n",
            "22579/22579 [==============================] - 251s 11ms/step - loss: 0.0059 - val_loss: 6.2002e-05\n",
            "Epoch 3/20\n",
            "22579/22579 [==============================] - 249s 11ms/step - loss: 7.1113e-04 - val_loss: 3.0314e-04\n",
            "Epoch 4/20\n",
            "22579/22579 [==============================] - 275s 12ms/step - loss: 2.2739e-04 - val_loss: 1.8838e-05\n",
            "Epoch 5/20\n",
            "22579/22579 [==============================] - 268s 12ms/step - loss: 6.6862e-05 - val_loss: 1.2387e-05\n",
            "Epoch 6/20\n",
            "22579/22579 [==============================] - 257s 11ms/step - loss: 7.2650e-05 - val_loss: 2.0364e-05\n",
            "Epoch 7/20\n",
            "22579/22579 [==============================] - 281s 12ms/step - loss: 4.7977e-05 - val_loss: 7.8071e-05\n",
            "Epoch 8/20\n",
            "22579/22579 [==============================] - 271s 12ms/step - loss: 3.3944e-05 - val_loss: 0.0015\n",
            "Epoch 9/20\n",
            "22579/22579 [==============================] - 271s 12ms/step - loss: 3.4047e-05 - val_loss: 1.3127e-05\n",
            "Epoch 10/20\n",
            "22579/22579 [==============================] - 283s 13ms/step - loss: 3.0872e-05 - val_loss: 8.0826e-06\n",
            "Epoch 11/20\n",
            "22579/22579 [==============================] - 287s 13ms/step - loss: 2.3834e-05 - val_loss: 0.0015\n",
            "Epoch 12/20\n",
            "22579/22579 [==============================] - 289s 13ms/step - loss: 3.3970e-05 - val_loss: 8.6332e-06\n",
            "Epoch 13/20\n",
            "19372/22579 [========================>.....] - ETA: 40s - loss: 2.4462e-05Buffered data was truncated after reaching the output size limit."
          ],
          "name": "stdout"
        }
      ]
    },
    {
      "cell_type": "code",
      "metadata": {
        "id": "a0WtnxdD4peR"
      },
      "source": [
        "#Прогнозируем данные текущей сетью\n",
        "currModel = modelC\n",
        "(predVal, yValUnscaled) = getPred(currModel, xVal[0], yVal[0], yScaler)"
      ],
      "execution_count": null,
      "outputs": []
    },
    {
      "cell_type": "code",
      "metadata": {
        "id": "I_Gf04M_4rXO",
        "colab": {
          "base_uri": "https://localhost:8080/",
          "height": 279
        },
        "outputId": "ced880b6-aa9c-4db9-9c6c-52f74949f118"
      },
      "source": [
        "#Отображаем графики\n",
        "showPredict(10000, 400, 0, predVal, yValUnscaled)"
      ],
      "execution_count": null,
      "outputs": [
        {
          "output_type": "display_data",
          "data": {
            "image/png": "[encoded data removed]",
            "text/plain": [
              "<Figure size 432x288 with 1 Axes>"
            ]
          },
          "metadata": {
            "tags": [],
            "needs_background": "light"
          }
        }
      ]
    },
    {
      "cell_type": "code",
      "metadata": {
        "id": "ty_rUCnrotFr",
        "colab": {
          "base_uri": "https://localhost:8080/",
          "height": 279
        },
        "outputId": "36c645f9-b8ba-4349-fe47-86c77474936e"
      },
      "source": [
        "#Отображаем корреляцию\n",
        "showCorr([0], 10, predVal, yValUnscaled)"
      ],
      "execution_count": null,
      "outputs": [
        {
          "output_type": "display_data",
          "data": {
            "image/png": "[encoded data removed]",
            "text/plain": [
              "<Figure size 432x288 with 1 Axes>"
            ]
          },
          "metadata": {
            "tags": [],
            "needs_background": "light"
          }
        }
      ]
    },
    {
      "cell_type": "markdown",
      "metadata": {
        "id": "M6SshjGDXXWq"
      },
      "source": [
        "## Увеличенный \"просмотр сети в прошлое\" без наращивания данных"
      ]
    },
    {
      "cell_type": "code",
      "metadata": {
        "id": "wDV2LKzdH2Fx",
        "colab": {
          "base_uri": "https://localhost:8080/",
          "height": 419
        },
        "outputId": "965769a1-4725-4a1e-d43e-14cbd9d0745c"
      },
      "source": [
        "base_data16 = pd.read_csv('/content/drive/My Drive/Акции лукойл/акции лукойл/16_17.csv', sep=';')\n",
        "base_data18 = pd.read_csv('/content/drive/My Drive/Акции лукойл/акции лукойл/18_19.csv', sep=';')\n",
        "data16_17 = base_data16.iloc[:,2:]\n",
        "data18_19 = base_data18.iloc[:,2:]\n",
        "data = pd.concat([data16_17,data18_19]) # Объединяем\n",
        "data = data.reset_index(drop = True) #Обнуляем индесы\n",
        "data #Выводим таблицу"
      ],
      "execution_count": null,
      "outputs": [
        {
          "output_type": "execute_result",
          "data": {
            "text/html": [
              "<div>\n",
              "<style scoped>\n",
              "    .dataframe tbody tr th:only-of-type {\n",
              "        vertical-align: middle;\n",
              "    }\n",
              "\n",
              "    .dataframe tbody tr th {\n",
              "        vertical-align: top;\n",
              "    }\n",
              "\n",
              "    .dataframe thead th {\n",
              "        text-align: right;\n",
              "    }\n",
              "</style>\n",
              "<table border=\"1\" class=\"dataframe\">\n",
              "  <thead>\n",
              "    <tr style=\"text-align: right;\">\n",
              "      <th></th>\n",
              "      <th>OPEN</th>\n",
              "      <th>MAX</th>\n",
              "      <th>MIN</th>\n",
              "      <th>CLOSE</th>\n",
              "      <th>VOLUME</th>\n",
              "    </tr>\n",
              "  </thead>\n",
              "  <tbody>\n",
              "    <tr>\n",
              "      <th>0</th>\n",
              "      <td>2351.0</td>\n",
              "      <td>2355.8</td>\n",
              "      <td>2350.0</td>\n",
              "      <td>2350.0</td>\n",
              "      <td>2547</td>\n",
              "    </tr>\n",
              "    <tr>\n",
              "      <th>1</th>\n",
              "      <td>2352.9</td>\n",
              "      <td>2355.7</td>\n",
              "      <td>2350.0</td>\n",
              "      <td>2355.7</td>\n",
              "      <td>195</td>\n",
              "    </tr>\n",
              "    <tr>\n",
              "      <th>2</th>\n",
              "      <td>2355.6</td>\n",
              "      <td>2356.0</td>\n",
              "      <td>2351.4</td>\n",
              "      <td>2354.1</td>\n",
              "      <td>257</td>\n",
              "    </tr>\n",
              "    <tr>\n",
              "      <th>3</th>\n",
              "      <td>2354.5</td>\n",
              "      <td>2355.0</td>\n",
              "      <td>2351.2</td>\n",
              "      <td>2353.7</td>\n",
              "      <td>763</td>\n",
              "    </tr>\n",
              "    <tr>\n",
              "      <th>4</th>\n",
              "      <td>2353.1</td>\n",
              "      <td>2353.9</td>\n",
              "      <td>2353.1</td>\n",
              "      <td>2353.6</td>\n",
              "      <td>231</td>\n",
              "    </tr>\n",
              "    <tr>\n",
              "      <th>...</th>\n",
              "      <td>...</td>\n",
              "      <td>...</td>\n",
              "      <td>...</td>\n",
              "      <td>...</td>\n",
              "      <td>...</td>\n",
              "    </tr>\n",
              "    <tr>\n",
              "      <th>481867</th>\n",
              "      <td>5183.5</td>\n",
              "      <td>5183.5</td>\n",
              "      <td>5183.5</td>\n",
              "      <td>5183.5</td>\n",
              "      <td>31523</td>\n",
              "    </tr>\n",
              "    <tr>\n",
              "      <th>481868</th>\n",
              "      <td>5183.5</td>\n",
              "      <td>5183.5</td>\n",
              "      <td>5183.5</td>\n",
              "      <td>5183.5</td>\n",
              "      <td>5090</td>\n",
              "    </tr>\n",
              "    <tr>\n",
              "      <th>481869</th>\n",
              "      <td>5183.5</td>\n",
              "      <td>5183.5</td>\n",
              "      <td>5183.5</td>\n",
              "      <td>5183.5</td>\n",
              "      <td>230</td>\n",
              "    </tr>\n",
              "    <tr>\n",
              "      <th>481870</th>\n",
              "      <td>5183.5</td>\n",
              "      <td>5183.5</td>\n",
              "      <td>5183.5</td>\n",
              "      <td>5183.5</td>\n",
              "      <td>5</td>\n",
              "    </tr>\n",
              "    <tr>\n",
              "      <th>481871</th>\n",
              "      <td>5183.5</td>\n",
              "      <td>5183.5</td>\n",
              "      <td>5183.5</td>\n",
              "      <td>5183.5</td>\n",
              "      <td>994</td>\n",
              "    </tr>\n",
              "  </tbody>\n",
              "</table>\n",
              "<p>481872 rows × 5 columns</p>\n",
              "</div>"
            ],
            "text/plain": [
              "          OPEN     MAX     MIN   CLOSE  VOLUME\n",
              "0       2351.0  2355.8  2350.0  2350.0    2547\n",
              "1       2352.9  2355.7  2350.0  2355.7     195\n",
              "2       2355.6  2356.0  2351.4  2354.1     257\n",
              "3       2354.5  2355.0  2351.2  2353.7     763\n",
              "4       2353.1  2353.9  2353.1  2353.6     231\n",
              "...        ...     ...     ...     ...     ...\n",
              "481867  5183.5  5183.5  5183.5  5183.5   31523\n",
              "481868  5183.5  5183.5  5183.5  5183.5    5090\n",
              "481869  5183.5  5183.5  5183.5  5183.5     230\n",
              "481870  5183.5  5183.5  5183.5  5183.5       5\n",
              "481871  5183.5  5183.5  5183.5  5183.5     994\n",
              "\n",
              "[481872 rows x 5 columns]"
            ]
          },
          "metadata": {
            "tags": []
          },
          "execution_count": 20
        }
      ]
    },
    {
      "cell_type": "code",
      "metadata": {
        "id": "bPCVhTW1H2GG"
      },
      "source": [
        "data = np.array(data) #Переводим в numpy\n",
        "columnsamount = data.shape[1] #При помощи этой переменной будем использовать одну и ту же архитетуру под разные матрицы"
      ],
      "execution_count": null,
      "outputs": []
    },
    {
      "cell_type": "code",
      "metadata": {
        "id": "ndyIkc8OXg2E"
      },
      "source": [
        "#Собственная функция для формирования обучающей и тестовой выборки для временных рядов \n",
        "#numofpoints - число точек, выбираемых с определенным шагом\n",
        "#stepamongpoints - шаг, с которым выбираются точки \n",
        "#continuouslinelen - длина выборки, выбираемая \"как есть\"\n",
        "#stride - шаг, с которым предсказываем\n",
        "\n",
        "def ourTimeseriesGenerator(xTrain, yTrain, numofpoints = 100, stepamongpoints = 10, continuouslinelen = 100, stride = 1):\n",
        "  x, y, = [], [] #Создаем списки для x и для y\n",
        "\n",
        "  index = 0 #Начальный индекс задаем равный нулю \n",
        "\n",
        "  #считаем длину вектора, который мы захватим при раскусывании на numofpoints точек с шагом stepamongpoints\n",
        "  periodlinelen = stepamongpoints * (numofpoints - 1) + 1 \n",
        "\n",
        "  #считаем длину вектора, который мы захватим при раскусывании на numofpoints точек с шагом stepamongpoints и на участок с непрерывной линией\n",
        "  line = periodlinelen + continuouslinelen\n",
        "\n",
        "  while index + line + stride < xTrain.shape[0]: # Определеям, позволяет ли длина выборки раскусить данные \n",
        "\n",
        "    endperiodline = index + periodlinelen #Вычисляем индекс, где закончится раскусывание с шагом\n",
        "    periodline = xTrain[index:endperiodline:stepamongpoints] #Раскусываем с шагом\n",
        "    continuousline = xTrain[endperiodline: endperiodline + continuouslinelen] #Берем непрерывную линию\n",
        "\n",
        "    x.append(np.concatenate([periodline, continuousline])) #Объединяем две линии и добавляем в x\n",
        "    y.append(yTrain[endperiodline + continuouslinelen - 1 + stride]) #Элемент, следующий после выборки x через шаг stride отправляем в y\n",
        "    index += 1 #Увеличиваем индекс на 1\n",
        "\n",
        "  x = np.array(x) #Преобразуем в numpy\n",
        "  y = np.array(y) #Преобразуем в numpy\n",
        "  \n",
        "  return x, y #Возвращаем x и y"
      ],
      "execution_count": null,
      "outputs": []
    },
    {
      "cell_type": "code",
      "metadata": {
        "id": "iYa1UwfxhW5f"
      },
      "source": [
        "##Формируем параметры загрузки данных\n",
        "\n",
        "valLen = 30000                  #Используем 30.000 записей для проверки\n",
        "numofpoints = 100\n",
        "stepamongpoints = 10\n",
        "continuouslinelen = 100\n",
        "\n",
        "trainLen = data.shape[0] - valLen # Размер тренировочной выборки\n",
        "\n",
        "#Делим данные на тренировочную и тестовую выборки \n",
        "xTrain, xTest = data[:trainLen], data[trainLen + stepamongpoints * (numofpoints - 1) + 2:]\n",
        "\n",
        "#Масштабируем данные (отдельно для X и Y), чтобы их легче было скормить сетке\n",
        "xScaler = MinMaxScaler()\n",
        "xScaler.fit(xTrain)\n",
        "xTrain = xScaler.transform(xTrain)\n",
        "xTest = xScaler.transform(xTest)\n",
        "\n",
        "#Делаем reshape,т. к. у нас только один столбец по одному значению\n",
        "yTrain,yTest = np.reshape(data[:trainLen,3],(-1,1)), np.reshape(data[trainLen + stepamongpoints * (numofpoints - 1) + 2:,3],(-1,1)) \n",
        "yScaler = MinMaxScaler()\n",
        "yScaler.fit(yTrain)\n",
        "yTrain = yScaler.transform(yTrain)\n",
        "yTest = yScaler.transform(yTest)\n",
        "\n",
        "xTrainFinal, yTrainFinal = ourTimeseriesGenerator(xTrain, yTrain)\n",
        "xTestFinal, yTestFinal = ourTimeseriesGenerator(xTest, yTest)"
      ],
      "execution_count": null,
      "outputs": []
    },
    {
      "cell_type": "code",
      "metadata": {
        "id": "T0m_LtRc3NM9",
        "colab": {
          "base_uri": "https://localhost:8080/",
          "height": 85
        },
        "outputId": "66ab3308-e355-47a4-f917-633ef710b1cf"
      },
      "source": [
        "print(xTrainFinal.shape)\n",
        "print(yTrainFinal.shape)\n",
        "print(xTestFinal.shape)\n",
        "print(yTestFinal.shape)"
      ],
      "execution_count": null,
      "outputs": [
        {
          "output_type": "stream",
          "text": [
            "(450780, 200, 5)\n",
            "(450780, 1)\n",
            "(27916, 200, 5)\n",
            "(27916, 1)\n"
          ],
          "name": "stdout"
        }
      ]
    },
    {
      "cell_type": "code",
      "metadata": {
        "id": "44Deg9NTisHv",
        "colab": {
          "base_uri": "https://localhost:8080/",
          "height": 945
        },
        "outputId": "16938298-c5e1-4024-bc9f-619034f7914c"
      },
      "source": [
        "#Создаём нейронку\n",
        "modelD = Sequential()\n",
        "modelD.add(Dense(150,input_shape = (200, columnsamount), activation=\"linear\" )) \n",
        "modelD.add(Flatten())\n",
        "modelD.add(Dense(1, activation=\"linear\"))\n",
        "\n",
        "#Компилируем\n",
        "modelD.compile(loss=\"mse\", optimizer=Adam(lr=1e-4))\n",
        "\n",
        "#Запускаем обучение\n",
        "history = modelD.fit(xTrainFinal,\n",
        "                     yTrainFinal, \n",
        "                    epochs=20, \n",
        "                    verbose=1, \n",
        "                    validation_data = (xTestFinal, yTestFinal) \n",
        "                    )\n",
        "\n",
        "#Выводим графики\n",
        "plt.plot(history.history['loss'], \n",
        "         label='Средняя абсолютная ошибка на обучающем наборе')\n",
        "plt.plot(history.history['val_loss'], \n",
        "         label='Средняя абсолютная ошибка на проверочном наборе')\n",
        "plt.ylabel('Средняя ошибка')\n",
        "plt.legend()\n",
        "plt.show()"
      ],
      "execution_count": null,
      "outputs": [
        {
          "output_type": "stream",
          "text": [
            "Epoch 1/20\n",
            "14087/14087 [==============================] - 45s 3ms/step - loss: 1.0058e-04 - val_loss: 1.4000e-04\n",
            "Epoch 2/20\n",
            "14087/14087 [==============================] - 52s 4ms/step - loss: 2.9657e-05 - val_loss: 3.0544e-06\n",
            "Epoch 3/20\n",
            "14087/14087 [==============================] - 65s 5ms/step - loss: 1.2526e-05 - val_loss: 2.1822e-06\n",
            "Epoch 4/20\n",
            "14087/14087 [==============================] - 58s 4ms/step - loss: 7.5860e-06 - val_loss: 1.8284e-06\n",
            "Epoch 5/20\n",
            "14087/14087 [==============================] - 56s 4ms/step - loss: 5.0419e-06 - val_loss: 5.2263e-06\n",
            "Epoch 6/20\n",
            "14087/14087 [==============================] - 49s 4ms/step - loss: 3.6366e-06 - val_loss: 1.1612e-06\n",
            "Epoch 7/20\n",
            "14087/14087 [==============================] - 55s 4ms/step - loss: 3.2477e-06 - val_loss: 1.6904e-05\n",
            "Epoch 8/20\n",
            "14087/14087 [==============================] - 53s 4ms/step - loss: 2.9309e-06 - val_loss: 6.4957e-06\n",
            "Epoch 9/20\n",
            "14087/14087 [==============================] - 50s 4ms/step - loss: 2.6105e-06 - val_loss: 1.6394e-06\n",
            "Epoch 10/20\n",
            "14087/14087 [==============================] - 45s 3ms/step - loss: 2.3197e-06 - val_loss: 1.2608e-05\n",
            "Epoch 11/20\n",
            "14087/14087 [==============================] - 49s 3ms/step - loss: 2.2482e-06 - val_loss: 1.6713e-05\n",
            "Epoch 12/20\n",
            "14087/14087 [==============================] - 48s 3ms/step - loss: 2.1215e-06 - val_loss: 9.8629e-07\n",
            "Epoch 13/20\n",
            "14087/14087 [==============================] - 52s 4ms/step - loss: 1.8753e-06 - val_loss: 2.0351e-06\n",
            "Epoch 14/20\n",
            "14087/14087 [==============================] - 50s 4ms/step - loss: 1.8065e-06 - val_loss: 1.4276e-06\n",
            "Epoch 15/20\n",
            "14087/14087 [==============================] - 51s 4ms/step - loss: 1.7368e-06 - val_loss: 1.0157e-06\n",
            "Epoch 16/20\n",
            "14087/14087 [==============================] - 51s 4ms/step - loss: 1.6882e-06 - val_loss: 3.2322e-06\n",
            "Epoch 17/20\n",
            "14087/14087 [==============================] - 50s 4ms/step - loss: 1.6419e-06 - val_loss: 1.1834e-06\n",
            "Epoch 18/20\n",
            "14087/14087 [==============================] - 49s 4ms/step - loss: 1.5845e-06 - val_loss: 9.9167e-07\n",
            "Epoch 19/20\n",
            "14087/14087 [==============================] - 51s 4ms/step - loss: 1.5290e-06 - val_loss: 1.4207e-05\n",
            "Epoch 20/20\n",
            "14087/14087 [==============================] - 55s 4ms/step - loss: 1.4839e-06 - val_loss: 1.6437e-06\n"
          ],
          "name": "stdout"
        },
        {
          "output_type": "display_data",
          "data": {
            "image/png": "[encoded data removed]",
            "text/plain": [
              "<Figure size 432x288 with 1 Axes>"
            ]
          },
          "metadata": {
            "tags": [],
            "needs_background": "light"
          }
        }
      ]
    },
    {
      "cell_type": "code",
      "metadata": {
        "id": "NgT9yyVa9495",
        "colab": {
          "base_uri": "https://localhost:8080/",
          "height": 279
        },
        "outputId": "e00fd12a-92bf-4a6b-e6fd-8db6c211e3ce"
      },
      "source": [
        "#Прогнозируем данные текущей сетью\n",
        "currModel = modelD #Выбираем текущую модель\n",
        "(predVal, yValUnscaled) = getPred(currModel, xTestFinal, yTestFinal, yScaler) #Прогнозируем данные\n",
        "\n",
        "#Отображаем графики\n",
        "showPredict(0, 160, 0, predVal, yValUnscaled)\n"
      ],
      "execution_count": null,
      "outputs": [
        {
          "output_type": "display_data",
          "data": {
            "image/png": "[encoded data removed]",
            "text/plain": [
              "<Figure size 432x288 with 1 Axes>"
            ]
          },
          "metadata": {
            "tags": [],
            "needs_background": "light"
          }
        }
      ]
    },
    {
      "cell_type": "code",
      "metadata": {
        "id": "yZjQCFy_AHV1",
        "colab": {
          "base_uri": "https://localhost:8080/",
          "height": 279
        },
        "outputId": "2e3ca643-8d75-4fe3-a62e-07571e0955e9"
      },
      "source": [
        "#Отображаем корреляцию\n",
        "showCorr([0], 10, predVal, yValUnscaled)"
      ],
      "execution_count": null,
      "outputs": [
        {
          "output_type": "display_data",
          "data": {
            "image/png": "[encoded data removed]",
            "text/plain": [
              "<Figure size 432x288 with 1 Axes>"
            ]
          },
          "metadata": {
            "tags": [],
            "needs_background": "light"
          }
        }
      ]
    }
  ]
}