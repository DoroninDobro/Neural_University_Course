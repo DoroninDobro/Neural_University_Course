{
  "nbformat": 4,
  "nbformat_minor": 0,
  "metadata": {
    "colab": {
      "name": "HW_4_Text_Classification_PRO2.ipynb",
      "provenance": [],
      "collapsed_sections": []
    },
    "kernelspec": {
      "name": "python3",
      "display_name": "Python 3"
    },
    "accelerator": "GPU"
  },
  "cells": [
    {
      "cell_type": "markdown",
      "metadata": {
        "id": "Z3bB37Gvc8Ox",
        "colab_type": "text"
      },
      "source": [
        "## Задание."
      ]
    },
    {
      "cell_type": "markdown",
      "metadata": {
        "id": "A0DEU3V4dAS3",
        "colab_type": "text"
      },
      "source": [
        "1. Используйте разбиение текстов на фрагменты на базе обращения граждан в органы власти, как при распознавании писателей, например, размер блока - 20 слов, шаг - 1 слово.\n",
        "\n",
        "2. Сравните точность с базовым ноутбуком, проверьте 5 различных архитектур сети.\n",
        "\n",
        "3. Напишите функцию распознавания нужного обращения разделением его на фрагменты и распознаванием фрагментов.\n",
        "\n",
        "4. Попробуйте разные параметры фильтрации выборки. Добавьте какой-нибудь свой критерий для фильтрации.\n",
        "\n",
        "5. Запишите в конце ноутбука выводы о полученных исследованиях.\n"
      ]
    },
    {
      "cell_type": "code",
      "metadata": {
        "id": "oURKxi58c_ai",
        "colab_type": "code",
        "colab": {}
      },
      "source": [
        "from google.colab import files\n",
        "import numpy as np\n",
        "import pandas as pd\n",
        "import matplotlib.pyplot as plt\n",
        "import os\n",
        "%matplotlib inline\n",
        "\n",
        "from tensorflow.keras import utils\n",
        "from tensorflow.keras.models import Sequential\n",
        "from tensorflow.keras.layers import Dense, Dropout, LeakyReLU, SpatialDropout1D, BatchNormalization, Embedding, Flatten, Activation \n",
        "from tensorflow.keras.preprocessing.text import Tokenizer\n",
        "from tensorflow.keras.preprocessing.sequence import pad_sequences\n",
        "\n",
        "from sklearn.preprocessing import LabelEncoder\n",
        "from sklearn.model_selection import train_test_split\n",
        "from google.colab import drive"
      ],
      "execution_count": 0,
      "outputs": []
    },
    {
      "cell_type": "code",
      "metadata": {
        "id": "jPqcqyKfezFA",
        "colab_type": "code",
        "outputId": "4890533b-8c94-4b24-8b89-ddb44a218b2f",
        "colab": {
          "base_uri": "https://localhost:8080/",
          "height": 128
        }
      },
      "source": [
        "drive.mount('/content/drive')"
      ],
      "execution_count": 0,
      "outputs": [
        {
          "output_type": "stream",
          "text": [
            "Go to this URL in a browser: https://accounts.google.com/o/oauth2/auth?client_id=947318989803-6bn6qk8qdgf4n4g3pfee6491hc0brc4i.apps.googleusercontent.com&redirect_uri=urn%3aietf%3awg%3aoauth%3a2.0%3aoob&response_type=code&scope=email%20https%3a%2f%2fwww.googleapis.com%2fauth%2fdocs.test%20https%3a%2f%2fwww.googleapis.com%2fauth%2fdrive%20https%3a%2f%2fwww.googleapis.com%2fauth%2fdrive.photos.readonly%20https%3a%2f%2fwww.googleapis.com%2fauth%2fpeopleapi.readonly\n",
            "\n",
            "Enter your authorization code:\n",
            "··········\n",
            "Mounted at /content/drive\n"
          ],
          "name": "stdout"
        }
      ]
    },
    {
      "cell_type": "code",
      "metadata": {
        "id": "eqXfmNxZi6OO",
        "colab_type": "code",
        "colab": {}
      },
      "source": [
        "df = pd.read_csv('/content/drive/My Drive/clean_data.csv')\n",
        "df = df.iloc[:, :2]\n",
        "# delete rows with nan\n",
        "df = df.dropna()"
      ],
      "execution_count": 0,
      "outputs": []
    },
    {
      "cell_type": "markdown",
      "metadata": {
        "id": "22Bjsz5kZwOB",
        "colab_type": "text"
      },
      "source": [
        "### Part I"
      ]
    },
    {
      "cell_type": "code",
      "metadata": {
        "id": "f_wdwYaxkU9E",
        "colab_type": "code",
        "colab": {}
      },
      "source": [
        "maxWordsCount = 20000\n",
        "tokenizer = Tokenizer(num_words=maxWordsCount, filters='!\"#$%&()*+,-./:;<=>?@[\\\\]^_`{|}~\\t\\n', lower=True, split=' ', oov_token='unknown', char_level=False)\n",
        "tokenizer.fit_on_texts(df['text'].tolist())\n",
        "X = tokenizer.texts_to_sequences(df['text'].tolist())"
      ],
      "execution_count": 0,
      "outputs": []
    },
    {
      "cell_type": "code",
      "metadata": {
        "id": "xh1ao2XTIyTi",
        "colab_type": "code",
        "outputId": "11878977-6d63-436a-90ed-40f736527a95",
        "colab": {
          "base_uri": "https://localhost:8080/",
          "height": 35
        }
      },
      "source": [
        "df['target'] = df['category'].astype('category').cat.codes\n",
        "y = df['target'].tolist()\n",
        "classes = len(set(y))\n",
        "y_cat = utils.to_categorical(y)\n",
        "y_cat.shape"
      ],
      "execution_count": 0,
      "outputs": [
        {
          "output_type": "execute_result",
          "data": {
            "text/plain": [
              "(8262, 21)"
            ]
          },
          "metadata": {
            "tags": []
          },
          "execution_count": 5
        }
      ]
    },
    {
      "cell_type": "code",
      "metadata": {
        "id": "crYep10eWsHK",
        "colab_type": "code",
        "colab": {}
      },
      "source": [
        "class_clean = df['category'].tolist()\n",
        "encoder = LabelEncoder()\n",
        "encoder.fit(class_clean)\n",
        "classesEncoded = encoder.transform(class_clean) #кодируем категории\n",
        "yAll = utils.to_categorical(classesEncoded, classes)"
      ],
      "execution_count": 0,
      "outputs": []
    },
    {
      "cell_type": "code",
      "metadata": {
        "id": "zkShY4F5lA-Z",
        "colab_type": "code",
        "colab": {}
      },
      "source": [
        "def get_slices(sequence, slice_len, step):\n",
        "  slices = []\n",
        "  max_len = len(sequence)\n",
        "  start = 0\n",
        "  while (start+step<=max_len):\n",
        "    slices.append(sequence[start:start+slice_len])\n",
        "    start+=step\n",
        "  return slices\n",
        "\n",
        "def create_ds(wordIndexes, target, xLen, step):\n",
        "  classes = target.shape[1]\n",
        "  seq_slices = [] \n",
        "  target_to_slice = []\n",
        "  for i in range(len(wordIndexes)):\n",
        "    seq_slices_local = get_slices(wordIndexes[i], xLen, step)\n",
        "    seq_slices+=seq_slices_local\n",
        "    for j in seq_slices_local:\n",
        "      target_to_slice.append(target[i])\n",
        "  seq_slices = np.asarray(seq_slices)\n",
        "  target_to_slice = np.asarray(target_to_slice)\n",
        "  return (seq_slices, target_to_slice)"
      ],
      "execution_count": 0,
      "outputs": []
    },
    {
      "cell_type": "code",
      "metadata": {
        "id": "uYtNBKVRLr6J",
        "colab_type": "code",
        "outputId": "fcac4042-4af4-453e-dae9-f9d01933b343",
        "colab": {
          "base_uri": "https://localhost:8080/",
          "height": 35
        }
      },
      "source": [
        "# if take 20 and 1 - RAM is dead))\n",
        "slice_len = 100\n",
        "step = 50\n",
        "\n",
        "x_new, y_new = create_ds(X, yAll, slice_len, step)\n",
        "print(x_new.shape, y_new.shape)"
      ],
      "execution_count": 0,
      "outputs": [
        {
          "output_type": "stream",
          "text": [
            "(18065,) (18065, 21)\n"
          ],
          "name": "stdout"
        }
      ]
    },
    {
      "cell_type": "code",
      "metadata": {
        "id": "XHNpqPilI0jC",
        "colab_type": "code",
        "colab": {}
      },
      "source": [
        "x_train, x_test, y_train, y_test = train_test_split(x_new, y_new, test_size=0.2)"
      ],
      "execution_count": 0,
      "outputs": []
    },
    {
      "cell_type": "code",
      "metadata": {
        "id": "v381JntN5K90",
        "colab_type": "code",
        "colab": {}
      },
      "source": [
        "xTrain01 = tokenizer.sequences_to_matrix(x_train.tolist())\n",
        "xTest01 = tokenizer.sequences_to_matrix(x_test.tolist())"
      ],
      "execution_count": 0,
      "outputs": []
    },
    {
      "cell_type": "code",
      "metadata": {
        "id": "-03PMMT5F3Ty",
        "colab_type": "code",
        "outputId": "5306208e-a125-440f-da22-ab8c71bac753",
        "colab": {
          "base_uri": "https://localhost:8080/",
          "height": 35
        }
      },
      "source": [
        "xTrain01.shape"
      ],
      "execution_count": 0,
      "outputs": [
        {
          "output_type": "execute_result",
          "data": {
            "text/plain": [
              "(14452, 20000)"
            ]
          },
          "metadata": {
            "tags": []
          },
          "execution_count": 21
        }
      ]
    },
    {
      "cell_type": "code",
      "metadata": {
        "id": "ZWSFv-Kf5Yoc",
        "colab_type": "code",
        "outputId": "5a905b7e-27eb-4731-faef-58d07ecaae67",
        "colab": {
          "base_uri": "https://localhost:8080/",
          "height": 663
        }
      },
      "source": [
        "model01 = Sequential()\n",
        "model01.add(Dense(200, input_dim=20000, activation=\"relu\"))\n",
        "model01.add(Dropout(0.25))\n",
        "model01.add(BatchNormalization())\n",
        "model01.add(Dense(21, activation='sigmoid'))\n",
        "model01.compile(optimizer='adam', \n",
        "              loss='categorical_crossentropy', \n",
        "              metrics=['accuracy'])\n",
        "\n",
        "history = model01.fit(xTrain01, \n",
        "                      y_train, \n",
        "                      epochs=10,\n",
        "                      batch_size=128,\n",
        "                      validation_data=(xTest01, y_test))\n",
        "\n",
        "plt.plot(history.history['accuracy'], \n",
        "         label='Доля верных ответов на обучающем наборе')\n",
        "plt.plot(history.history['val_accuracy'], \n",
        "         label='Доля верных ответов на проверочном наборе')\n",
        "plt.xlabel('Эпоха обучения')\n",
        "plt.ylabel('Доля верных ответов')\n",
        "plt.legend()\n",
        "plt.show()"
      ],
      "execution_count": 0,
      "outputs": [
        {
          "output_type": "stream",
          "text": [
            "Epoch 1/10\n",
            "113/113 [==============================] - 1s 11ms/step - loss: 2.2476 - accuracy: 0.6070 - val_loss: 2.0316 - val_accuracy: 0.5405\n",
            "Epoch 2/10\n",
            "113/113 [==============================] - 1s 10ms/step - loss: 1.1306 - accuracy: 0.8054 - val_loss: 1.2997 - val_accuracy: 0.6900\n",
            "Epoch 3/10\n",
            "113/113 [==============================] - 1s 10ms/step - loss: 0.4767 - accuracy: 0.9016 - val_loss: 0.7529 - val_accuracy: 0.8040\n",
            "Epoch 4/10\n",
            "113/113 [==============================] - 1s 10ms/step - loss: 0.2153 - accuracy: 0.9573 - val_loss: 0.5649 - val_accuracy: 0.8566\n",
            "Epoch 5/10\n",
            "113/113 [==============================] - 1s 10ms/step - loss: 0.1082 - accuracy: 0.9777 - val_loss: 0.5314 - val_accuracy: 0.8680\n",
            "Epoch 6/10\n",
            "113/113 [==============================] - 1s 10ms/step - loss: 0.0579 - accuracy: 0.9866 - val_loss: 0.5090 - val_accuracy: 0.8746\n",
            "Epoch 7/10\n",
            "113/113 [==============================] - 1s 9ms/step - loss: 0.0376 - accuracy: 0.9903 - val_loss: 0.5151 - val_accuracy: 0.8702\n",
            "Epoch 8/10\n",
            "113/113 [==============================] - 1s 10ms/step - loss: 0.0281 - accuracy: 0.9917 - val_loss: 0.5119 - val_accuracy: 0.8766\n",
            "Epoch 9/10\n",
            "113/113 [==============================] - 1s 10ms/step - loss: 0.0224 - accuracy: 0.9929 - val_loss: 0.5146 - val_accuracy: 0.8774\n",
            "Epoch 10/10\n",
            "113/113 [==============================] - 1s 10ms/step - loss: 0.0199 - accuracy: 0.9933 - val_loss: 0.5229 - val_accuracy: 0.8732\n"
          ],
          "name": "stdout"
        },
        {
          "output_type": "display_data",
          "data": {
            "image/png": "[encoded data removed]",
            "text/plain": [
              "<Figure size 432x288 with 1 Axes>"
            ]
          },
          "metadata": {
            "tags": [],
            "needs_background": "light"
          }
        }
      ]
    },
    {
      "cell_type": "markdown",
      "metadata": {
        "id": "tc877cRz_5q1",
        "colab_type": "text"
      },
      "source": [
        "#### Итог.\n",
        "\n",
        "Результат получился даже выше, чем в ноутбуке урока. Попробуем еще несколько архитектур."
      ]
    },
    {
      "cell_type": "markdown",
      "metadata": {
        "id": "VW29XXoiaGtk",
        "colab_type": "text"
      },
      "source": [
        "### Part II"
      ]
    },
    {
      "cell_type": "code",
      "metadata": {
        "id": "b6YVSC4MFt7d",
        "colab_type": "code",
        "outputId": "fa55cab5-3f9b-491f-f0e2-87e3fb8ebd2c",
        "colab": {
          "base_uri": "https://localhost:8080/",
          "height": 663
        }
      },
      "source": [
        "# let's simplify to the maximum\n",
        "\n",
        "model01 = Sequential()\n",
        "model01.add(Dense(100, activation='relu', input_dim=20000))\n",
        "model01.add(Dense(21, activation='softmax'))\n",
        "model01.compile(optimizer='adam', \n",
        "              loss='categorical_crossentropy', \n",
        "              metrics=['accuracy'])\n",
        "history = model01.fit(xTrain01, \n",
        "                      y_train, \n",
        "                      epochs=10,\n",
        "                      batch_size=128,\n",
        "                      validation_data=(xTest01, y_test))\n",
        "\n",
        "plt.plot(history.history['accuracy'], \n",
        "         label='Доля верных ответов на обучающем наборе')\n",
        "plt.plot(history.history['val_accuracy'], \n",
        "         label='Доля верных ответов на проверочном наборе')\n",
        "plt.xlabel('Эпоха обучения')\n",
        "plt.ylabel('Доля верных ответов')\n",
        "plt.legend()\n",
        "plt.show()"
      ],
      "execution_count": 0,
      "outputs": [
        {
          "output_type": "stream",
          "text": [
            "Epoch 1/10\n",
            "113/113 [==============================] - 1s 10ms/step - loss: 1.6829 - accuracy: 0.5466 - val_loss: 1.0677 - val_accuracy: 0.7285\n",
            "Epoch 2/10\n",
            "113/113 [==============================] - 1s 9ms/step - loss: 0.4965 - accuracy: 0.9006 - val_loss: 0.6776 - val_accuracy: 0.8309\n",
            "Epoch 3/10\n",
            "113/113 [==============================] - 1s 9ms/step - loss: 0.1493 - accuracy: 0.9795 - val_loss: 0.5639 - val_accuracy: 0.8505\n",
            "Epoch 4/10\n",
            "113/113 [==============================] - 1s 9ms/step - loss: 0.0627 - accuracy: 0.9921 - val_loss: 0.5247 - val_accuracy: 0.8600\n",
            "Epoch 5/10\n",
            "113/113 [==============================] - 1s 9ms/step - loss: 0.0385 - accuracy: 0.9944 - val_loss: 0.5286 - val_accuracy: 0.8622\n",
            "Epoch 6/10\n",
            "113/113 [==============================] - 1s 9ms/step - loss: 0.0278 - accuracy: 0.9953 - val_loss: 0.5322 - val_accuracy: 0.8613\n",
            "Epoch 7/10\n",
            "113/113 [==============================] - 1s 9ms/step - loss: 0.0243 - accuracy: 0.9952 - val_loss: 0.5302 - val_accuracy: 0.8635\n",
            "Epoch 8/10\n",
            "113/113 [==============================] - 1s 10ms/step - loss: 0.0219 - accuracy: 0.9955 - val_loss: 0.5222 - val_accuracy: 0.8611\n",
            "Epoch 9/10\n",
            "113/113 [==============================] - 1s 10ms/step - loss: 0.0211 - accuracy: 0.9953 - val_loss: 0.5362 - val_accuracy: 0.8624\n",
            "Epoch 10/10\n",
            "113/113 [==============================] - 1s 9ms/step - loss: 0.0178 - accuracy: 0.9955 - val_loss: 0.5309 - val_accuracy: 0.8669\n"
          ],
          "name": "stdout"
        },
        {
          "output_type": "display_data",
          "data": {
            "image/png": "[encoded data removed]",
            "text/plain": [
              "<Figure size 432x288 with 1 Axes>"
            ]
          },
          "metadata": {
            "tags": [],
            "needs_background": "light"
          }
        }
      ]
    },
    {
      "cell_type": "markdown",
      "metadata": {
        "id": "kAGzPLsvbIDK",
        "colab_type": "text"
      },
      "source": [
        "Результат почти не изменился."
      ]
    },
    {
      "cell_type": "code",
      "metadata": {
        "id": "98u_ZQkqawLj",
        "colab_type": "code",
        "outputId": "34858e10-6a09-41e7-e014-ce038b946e0f",
        "colab": {
          "base_uri": "https://localhost:8080/",
          "height": 783
        }
      },
      "source": [
        "# complicate a little\n",
        "model = Sequential()\n",
        "model.add(Dense(100, activation='linear', input_dim=20000))\n",
        "model.add(Dropout(0.2))\n",
        "model.add(Dense(50))\n",
        "model.add(LeakyReLU(alpha=0.2))\n",
        "model.add(BatchNormalization())\n",
        "model.add(Dropout(0.2))\n",
        "model.add(Dense(21, activation='softmax'))\n",
        "model.compile(optimizer='adam', \n",
        "              loss='categorical_crossentropy', \n",
        "              metrics=['accuracy'])\n",
        "\n",
        "model.fit(xTrain01,\n",
        "          y_train,\n",
        "          validation_data=(xTest01, y_test),\n",
        "          epochs=20,\n",
        "          batch_size=256,\n",
        "          verbose=1)"
      ],
      "execution_count": 0,
      "outputs": [
        {
          "output_type": "stream",
          "text": [
            "Epoch 1/20\n",
            "57/57 [==============================] - 1s 20ms/step - loss: 1.6892 - accuracy: 0.5658 - val_loss: 2.0328 - val_accuracy: 0.7050\n",
            "Epoch 2/20\n",
            "57/57 [==============================] - 1s 19ms/step - loss: 0.4371 - accuracy: 0.9164 - val_loss: 1.4999 - val_accuracy: 0.8057\n",
            "Epoch 3/20\n",
            "57/57 [==============================] - 1s 17ms/step - loss: 0.1580 - accuracy: 0.9787 - val_loss: 1.0597 - val_accuracy: 0.8447\n",
            "Epoch 4/20\n",
            "57/57 [==============================] - 1s 18ms/step - loss: 0.0807 - accuracy: 0.9914 - val_loss: 0.7794 - val_accuracy: 0.8497\n",
            "Epoch 5/20\n",
            "57/57 [==============================] - 1s 18ms/step - loss: 0.0590 - accuracy: 0.9931 - val_loss: 0.6330 - val_accuracy: 0.8561\n",
            "Epoch 6/20\n",
            "57/57 [==============================] - 1s 18ms/step - loss: 0.0424 - accuracy: 0.9938 - val_loss: 0.5743 - val_accuracy: 0.8611\n",
            "Epoch 7/20\n",
            "57/57 [==============================] - 1s 18ms/step - loss: 0.0381 - accuracy: 0.9942 - val_loss: 0.5709 - val_accuracy: 0.8635\n",
            "Epoch 8/20\n",
            "57/57 [==============================] - 1s 18ms/step - loss: 0.0353 - accuracy: 0.9943 - val_loss: 0.5723 - val_accuracy: 0.8644\n",
            "Epoch 9/20\n",
            "57/57 [==============================] - 1s 18ms/step - loss: 0.0279 - accuracy: 0.9959 - val_loss: 0.5907 - val_accuracy: 0.8633\n",
            "Epoch 10/20\n",
            "57/57 [==============================] - 1s 19ms/step - loss: 0.0275 - accuracy: 0.9949 - val_loss: 0.5857 - val_accuracy: 0.8669\n",
            "Epoch 11/20\n",
            "57/57 [==============================] - 1s 19ms/step - loss: 0.0254 - accuracy: 0.9955 - val_loss: 0.5894 - val_accuracy: 0.8674\n",
            "Epoch 12/20\n",
            "57/57 [==============================] - 1s 18ms/step - loss: 0.0235 - accuracy: 0.9954 - val_loss: 0.5951 - val_accuracy: 0.8680\n",
            "Epoch 13/20\n",
            "57/57 [==============================] - 1s 17ms/step - loss: 0.0242 - accuracy: 0.9962 - val_loss: 0.6013 - val_accuracy: 0.8644\n",
            "Epoch 14/20\n",
            "57/57 [==============================] - 1s 17ms/step - loss: 0.0219 - accuracy: 0.9956 - val_loss: 0.5983 - val_accuracy: 0.8635\n",
            "Epoch 15/20\n",
            "57/57 [==============================] - 1s 17ms/step - loss: 0.0223 - accuracy: 0.9961 - val_loss: 0.6073 - val_accuracy: 0.8702\n",
            "Epoch 16/20\n",
            "57/57 [==============================] - 1s 17ms/step - loss: 0.0233 - accuracy: 0.9956 - val_loss: 0.6042 - val_accuracy: 0.8671\n",
            "Epoch 17/20\n",
            "57/57 [==============================] - 1s 17ms/step - loss: 0.0173 - accuracy: 0.9963 - val_loss: 0.6107 - val_accuracy: 0.8677\n",
            "Epoch 18/20\n",
            "57/57 [==============================] - 1s 17ms/step - loss: 0.0200 - accuracy: 0.9958 - val_loss: 0.6261 - val_accuracy: 0.8658\n",
            "Epoch 19/20\n",
            "57/57 [==============================] - 1s 17ms/step - loss: 0.0179 - accuracy: 0.9957 - val_loss: 0.6102 - val_accuracy: 0.8696\n",
            "Epoch 20/20\n",
            "57/57 [==============================] - 1s 17ms/step - loss: 0.0198 - accuracy: 0.9963 - val_loss: 0.6191 - val_accuracy: 0.8674\n"
          ],
          "name": "stdout"
        },
        {
          "output_type": "execute_result",
          "data": {
            "text/plain": [
              "<tensorflow.python.keras.callbacks.History at 0x7f36dd66fdd8>"
            ]
          },
          "metadata": {
            "tags": []
          },
          "execution_count": 22
        }
      ]
    },
    {
      "cell_type": "markdown",
      "metadata": {
        "id": "zwCBCX39dTm8",
        "colab_type": "text"
      },
      "source": [
        "Результат не изменился практически."
      ]
    },
    {
      "cell_type": "code",
      "metadata": {
        "id": "cOQXzSrWcmGw",
        "colab_type": "code",
        "outputId": "708c334a-15c7-4c94-c5e0-fe5234c241ae",
        "colab": {
          "base_uri": "https://localhost:8080/",
          "height": 663
        }
      },
      "source": [
        "# more complicate\n",
        "model = Sequential()\n",
        "model.add(Dense(200, activation='relu', input_dim=20000))\n",
        "model.add(Dropout(0.2))\n",
        "model.add(Dense(150, activation='relu'))\n",
        "model.add(BatchNormalization())\n",
        "model.add(Dropout(0.2))\n",
        "model.add(Dense(150, activation='relu'))\n",
        "model.add(Dropout(0.2))\n",
        "model.add(Dense(100, activation='relu'))\n",
        "model.add(Dropout(0.1))\n",
        "model.add(Dense(21, activation='softmax'))\n",
        "model.compile(optimizer='adam', \n",
        "              loss='categorical_crossentropy', \n",
        "              metrics=['accuracy'])\n",
        "\n",
        "history = model.fit(xTrain01, \n",
        "                      y_train, \n",
        "                      epochs=10,\n",
        "                      batch_size=128,\n",
        "                      validation_data=(xTest01, y_test))\n",
        "\n",
        "plt.plot(history.history['accuracy'], \n",
        "         label='Доля верных ответов на обучающем наборе')\n",
        "plt.plot(history.history['val_accuracy'], \n",
        "         label='Доля верных ответов на проверочном наборе')\n",
        "plt.xlabel('Эпоха обучения')\n",
        "plt.ylabel('Доля верных ответов')\n",
        "plt.legend()\n",
        "plt.show()"
      ],
      "execution_count": 0,
      "outputs": [
        {
          "output_type": "stream",
          "text": [
            "Epoch 1/10\n",
            "113/113 [==============================] - 2s 14ms/step - loss: 1.8370 - accuracy: 0.4735 - val_loss: 2.1101 - val_accuracy: 0.6358\n",
            "Epoch 2/10\n",
            "113/113 [==============================] - 1s 11ms/step - loss: 0.7598 - accuracy: 0.7840 - val_loss: 1.1747 - val_accuracy: 0.7991\n",
            "Epoch 3/10\n",
            "113/113 [==============================] - 1s 11ms/step - loss: 0.2765 - accuracy: 0.9226 - val_loss: 0.6955 - val_accuracy: 0.8242\n",
            "Epoch 4/10\n",
            "113/113 [==============================] - 1s 11ms/step - loss: 0.1273 - accuracy: 0.9651 - val_loss: 0.6667 - val_accuracy: 0.8445\n",
            "Epoch 5/10\n",
            "113/113 [==============================] - 1s 10ms/step - loss: 0.0906 - accuracy: 0.9770 - val_loss: 0.7489 - val_accuracy: 0.8420\n",
            "Epoch 6/10\n",
            "113/113 [==============================] - 1s 11ms/step - loss: 0.0676 - accuracy: 0.9810 - val_loss: 0.8147 - val_accuracy: 0.8428\n",
            "Epoch 7/10\n",
            "113/113 [==============================] - 1s 11ms/step - loss: 0.0516 - accuracy: 0.9863 - val_loss: 0.8478 - val_accuracy: 0.8445\n",
            "Epoch 8/10\n",
            "113/113 [==============================] - 1s 11ms/step - loss: 0.0500 - accuracy: 0.9862 - val_loss: 0.8622 - val_accuracy: 0.8411\n",
            "Epoch 9/10\n",
            "113/113 [==============================] - 1s 11ms/step - loss: 0.0425 - accuracy: 0.9875 - val_loss: 0.8654 - val_accuracy: 0.8467\n",
            "Epoch 10/10\n",
            "113/113 [==============================] - 1s 11ms/step - loss: 0.0405 - accuracy: 0.9883 - val_loss: 0.8573 - val_accuracy: 0.8464\n"
          ],
          "name": "stdout"
        },
        {
          "output_type": "display_data",
          "data": {
            "image/png": "[encoded data removed]",
            "text/plain": [
              "<Figure size 432x288 with 1 Axes>"
            ]
          },
          "metadata": {
            "tags": [],
            "needs_background": "light"
          }
        }
      ]
    },
    {
      "cell_type": "markdown",
      "metadata": {
        "id": "bCWI3luSe5Ho",
        "colab_type": "text"
      },
      "source": [
        "На результат почти не отразилось) Давайте еще одну)"
      ]
    },
    {
      "cell_type": "code",
      "metadata": {
        "id": "Q6azU1PteMYX",
        "colab_type": "code",
        "outputId": "b1767d05-33be-4bc8-e22f-0ff6eb206a09",
        "colab": {
          "base_uri": "https://localhost:8080/",
          "height": 664
        }
      },
      "source": [
        "model = Sequential()\n",
        "model.add(Dense(300, activation='linear', input_dim=20000))\n",
        "model.add(Dropout(0.4))\n",
        "model.add(Dense(200))\n",
        "model.add(LeakyReLU(alpha=0.2))\n",
        "model.add(BatchNormalization())\n",
        "model.add(Dropout(0.4))\n",
        "model.add(Flatten())\n",
        "model.add(Dense(150, activation='relu'))\n",
        "model.add(BatchNormalization())\n",
        "model.add(Dropout(0.4))\n",
        "model.add(Dense(100, activation='relu'))\n",
        "model.add(BatchNormalization())\n",
        "model.add(Dropout(0.4))\n",
        "model.add(Dense(21, activation='softmax'))\n",
        "model.compile(optimizer='adam', \n",
        "              loss='categorical_crossentropy', \n",
        "              metrics=['accuracy'])\n",
        "\n",
        "history = model.fit(xTrain01, \n",
        "                      y_train, \n",
        "                      epochs=10,\n",
        "                      batch_size=128,\n",
        "                      validation_data=(xTest01, y_test))\n",
        "\n",
        "plt.plot(history.history['accuracy'], \n",
        "         label='Доля верных ответов на обучающем наборе')\n",
        "plt.plot(history.history['val_accuracy'], \n",
        "         label='Доля верных ответов на проверочном наборе')\n",
        "plt.xlabel('Эпоха обучения')\n",
        "plt.ylabel('Доля верных ответов')\n",
        "plt.legend()\n",
        "plt.show()"
      ],
      "execution_count": 0,
      "outputs": [
        {
          "output_type": "stream",
          "text": [
            "Epoch 1/10\n",
            "113/113 [==============================] - 2s 15ms/step - loss: 2.5225 - accuracy: 0.3370 - val_loss: 1.9132 - val_accuracy: 0.5389\n",
            "Epoch 2/10\n",
            "113/113 [==============================] - 1s 12ms/step - loss: 1.3408 - accuracy: 0.6234 - val_loss: 1.2316 - val_accuracy: 0.6704\n",
            "Epoch 3/10\n",
            "113/113 [==============================] - 1s 12ms/step - loss: 0.8791 - accuracy: 0.7516 - val_loss: 0.9197 - val_accuracy: 0.7603\n",
            "Epoch 4/10\n",
            "113/113 [==============================] - 1s 12ms/step - loss: 0.5491 - accuracy: 0.8470 - val_loss: 0.8228 - val_accuracy: 0.7960\n",
            "Epoch 5/10\n",
            "113/113 [==============================] - 1s 12ms/step - loss: 0.3559 - accuracy: 0.9055 - val_loss: 0.7955 - val_accuracy: 0.8231\n",
            "Epoch 6/10\n",
            "113/113 [==============================] - 1s 12ms/step - loss: 0.2342 - accuracy: 0.9361 - val_loss: 0.8138 - val_accuracy: 0.8276\n",
            "Epoch 7/10\n",
            "113/113 [==============================] - 1s 12ms/step - loss: 0.1662 - accuracy: 0.9571 - val_loss: 0.8196 - val_accuracy: 0.8320\n",
            "Epoch 8/10\n",
            "113/113 [==============================] - 1s 12ms/step - loss: 0.1315 - accuracy: 0.9674 - val_loss: 0.8014 - val_accuracy: 0.8378\n",
            "Epoch 9/10\n",
            "113/113 [==============================] - 1s 12ms/step - loss: 0.0983 - accuracy: 0.9764 - val_loss: 0.8353 - val_accuracy: 0.8370\n",
            "Epoch 10/10\n",
            "113/113 [==============================] - 1s 11ms/step - loss: 0.0882 - accuracy: 0.9790 - val_loss: 0.8340 - val_accuracy: 0.8392\n"
          ],
          "name": "stdout"
        },
        {
          "output_type": "display_data",
          "data": {
            "image/png": "[encoded data removed]",
            "text/plain": [
              "<Figure size 432x288 with 1 Axes>"
            ]
          },
          "metadata": {
            "tags": [],
            "needs_background": "light"
          }
        }
      ]
    },
    {
      "cell_type": "markdown",
      "metadata": {
        "id": "RN3mOuc5iUpN",
        "colab_type": "text"
      },
      "source": [
        "Стало даже хуже)"
      ]
    },
    {
      "cell_type": "markdown",
      "metadata": {
        "id": "fVOVTvmzgGzR",
        "colab_type": "text"
      },
      "source": [
        "### Part III\n",
        "\n",
        "Сделаем функцию распознавания новых обращений."
      ]
    },
    {
      "cell_type": "code",
      "metadata": {
        "id": "QquRjPuy8vgi",
        "colab_type": "code",
        "outputId": "8a0d6667-3f57-48f8-f41e-43c294909f3a",
        "colab": {
          "base_uri": "https://localhost:8080/",
          "height": 35
        }
      },
      "source": [
        "df['category'][44]"
      ],
      "execution_count": 0,
      "outputs": [
        {
          "output_type": "execute_result",
          "data": {
            "text/plain": [
              "'Спорт'"
            ]
          },
          "metadata": {
            "tags": []
          },
          "execution_count": 28
        }
      ]
    },
    {
      "cell_type": "code",
      "metadata": {
        "id": "fo8FoB-pf9Eq",
        "colab_type": "code",
        "outputId": "98899696-e4a9-4bfe-b0fd-ce3fc157cc7c",
        "colab": {
          "base_uri": "https://localhost:8080/",
          "height": 55
        }
      },
      "source": [
        "df['text'][44]"
      ],
      "execution_count": 0,
      "outputs": [
        {
          "output_type": "execute_result",
          "data": {
            "text/plain": [
              "'\" xxxx Обращаюсь к вам от всего тренерского состава, детей и их родителей СДЮШОРа Металлург. Так уж сложились обстоятельства, что с наступлением холодов нашим воспитанникам негде тренироваться. Бывший губернатор со своими соратниками взорвали замечательный манеж Юбилейный а обещанного нового к сожалению мы не увидели. Во всех соседних областях уже давно ребятишки зимой занимаются в крытом манеже с искусственным полем, мы дожили до того, что в Тамбове открыли футбольный интернат только к сожалению наша область в плане развития детского футбола откатывается назад. Очень сильно просим вас не оставаться безразличным в этой проблеме. С уважением к Вам тренер СДЮШОР. \"'"
            ]
          },
          "metadata": {
            "tags": []
          },
          "execution_count": 29
        }
      ]
    },
    {
      "cell_type": "code",
      "metadata": {
        "id": "seeZUyqkJYwd",
        "colab_type": "code",
        "colab": {}
      },
      "source": [
        "def what_is_category(text):\n",
        "  global model\n",
        "  text_in_WordInd_1 = tokenizer.texts_to_sequences([text])\n",
        "  if len(text_in_WordInd_1[0]) > 100:\n",
        "    split_text = get_slices(text_in_WordInd_1[0], 100, 50)\n",
        "  else:\n",
        "    split_text = text_in_WordInd_1\n",
        "  split_texts_1 = []\n",
        "  items = list(tokenizer.word_index.items())\n",
        "  for num in range(len(split_text)):\n",
        "    cur_text = split_text[num]\n",
        "    cur_mes = []\n",
        "    for i in cur_text:\n",
        "      char = items[i-1][0]\n",
        "      cur_mes.append(char)\n",
        "    split_texts_1.append(cur_mes)\n",
        "  xTex = tokenizer.texts_to_matrix(split_texts_1) \n",
        "  currPred = model.predict(xTex)\n",
        "  list_pred =[]\n",
        "  for i in currPred:\n",
        "    recognizedClass = np.argmax(i)\n",
        "    list_pred.append(recognizedClass)\n",
        "  list_pred_set = set(list_pred) \n",
        "  dict_count_class = {}\n",
        "  for i in list_pred_set:\n",
        "    count = 0\n",
        "    for j in list_pred:\n",
        "      if i == j:\n",
        "        count += 1\n",
        "    dict_count_class[i]=count\n",
        "  win_class = 0\n",
        "  for i in dict_count_class:\n",
        "    if dict_count_class[i] > win_class:\n",
        "      win_class = i\n",
        "  return win_class, encoder.inverse_transform([win_class])[0]"
      ],
      "execution_count": 0,
      "outputs": []
    },
    {
      "cell_type": "code",
      "metadata": {
        "id": "n-BG9eVF0TKZ",
        "colab_type": "code",
        "outputId": "c9c8ad87-cbcb-44ea-ee65-2efeec27e561",
        "colab": {
          "base_uri": "https://localhost:8080/",
          "height": 35
        }
      },
      "source": [
        "print(what_is_category(df['text'][44]))"
      ],
      "execution_count": 0,
      "outputs": [
        {
          "output_type": "stream",
          "text": [
            "(16, 'Спорт')\n"
          ],
          "name": "stdout"
        }
      ]
    },
    {
      "cell_type": "markdown",
      "metadata": {
        "id": "Sb4PoiindKrm",
        "colab_type": "text"
      },
      "source": [
        "### Part IV\n",
        "\n",
        "Попробуем другой вид фильтрации. А именно удалим все запросы, в которых количество символов меньше 40, как не несущих смысла или неполных."
      ]
    },
    {
      "cell_type": "code",
      "metadata": {
        "id": "YLq4iHZAdpaF",
        "colab_type": "code",
        "colab": {}
      },
      "source": [
        "texts = df['text'].values\n",
        "classes = list(df['category'].values)\n",
        "texts_clean = []\n",
        "class_clean = []\n",
        "min_con = 40\n",
        "\n",
        "for i in range(len(texts)):\n",
        "  if len(texts[i]) > min_con:\n",
        "    texts_clean.append(texts[i])\n",
        "    class_clean.append(classes[i])"
      ],
      "execution_count": 0,
      "outputs": []
    },
    {
      "cell_type": "code",
      "metadata": {
        "id": "eSRk39g0hHJQ",
        "colab_type": "code",
        "colab": {}
      },
      "source": [
        "maxWordsCount = 20000\n",
        "tokenizer = Tokenizer(num_words=maxWordsCount, filters='!\"#$%&()*+,-./:;<=>?@[\\\\]^_`{|}~\\t\\n', lower=True, split=' ', oov_token='unknown', char_level=False)\n",
        "tokenizer.fit_on_texts(texts_clean)\n",
        "X = tokenizer.texts_to_sequences(texts_clean)"
      ],
      "execution_count": 0,
      "outputs": []
    },
    {
      "cell_type": "code",
      "metadata": {
        "id": "jV1splHshOva",
        "colab_type": "code",
        "colab": {}
      },
      "source": [
        "encoder = LabelEncoder()\n",
        "encoder.fit(class_clean)\n",
        "classesEncoded = encoder.transform(class_clean) #кодируем категории\n",
        "yAll = utils.to_categorical(classesEncoded, len(set(classes)))"
      ],
      "execution_count": 0,
      "outputs": []
    },
    {
      "cell_type": "code",
      "metadata": {
        "id": "-y0zDaOuhPCk",
        "colab_type": "code",
        "outputId": "d1468c2c-54c4-4ce5-f421-061d2d031dcd",
        "colab": {
          "base_uri": "https://localhost:8080/",
          "height": 54
        }
      },
      "source": [
        "slice_len = 100\n",
        "step = 50\n",
        "\n",
        "x_new, y_new = create_ds(X, yAll, slice_len, step)\n",
        "print(x_new.shape, y_new.shape)\n",
        "x_train, x_test, y_train, y_test = train_test_split(x_new, y_new, test_size=0.2)\n",
        "xTrain01 = tokenizer.sequences_to_matrix(x_train.tolist())\n",
        "xTest01 = tokenizer.sequences_to_matrix(x_test.tolist())\n",
        "xTrain01.shape"
      ],
      "execution_count": 0,
      "outputs": [
        {
          "output_type": "stream",
          "text": [
            "(18065,) (18065, 21)\n"
          ],
          "name": "stdout"
        },
        {
          "output_type": "execute_result",
          "data": {
            "text/plain": [
              "(14452, 20000)"
            ]
          },
          "metadata": {
            "tags": []
          },
          "execution_count": 46
        }
      ]
    },
    {
      "cell_type": "code",
      "metadata": {
        "id": "aGDFhrn7hHcu",
        "colab_type": "code",
        "outputId": "d3c0b31e-9e46-4678-f25f-4956c477b84e",
        "colab": {
          "base_uri": "https://localhost:8080/",
          "height": 663
        }
      },
      "source": [
        "# возьмем ту же самую нейроночку\n",
        "# complicate a little\n",
        "model = Sequential()\n",
        "model.add(Dense(100, activation='linear', input_dim=20000))\n",
        "model.add(Dropout(0.2))\n",
        "model.add(Dense(50))\n",
        "model.add(LeakyReLU(alpha=0.2))\n",
        "model.add(BatchNormalization())\n",
        "model.add(Dropout(0.2))\n",
        "model.add(Dense(21, activation='softmax'))\n",
        "model.compile(optimizer='adam', \n",
        "              loss='categorical_crossentropy', \n",
        "              metrics=['accuracy'])\n",
        "\n",
        "history = model.fit(xTrain01, \n",
        "                      y_train, \n",
        "                      epochs=10,\n",
        "                      batch_size=128,\n",
        "                      validation_data=(xTest01, y_test))\n",
        "\n",
        "plt.plot(history.history['accuracy'], \n",
        "         label='Доля верных ответов на обучающем наборе')\n",
        "plt.plot(history.history['val_accuracy'], \n",
        "         label='Доля верных ответов на проверочном наборе')\n",
        "plt.xlabel('Эпоха обучения')\n",
        "plt.ylabel('Доля верных ответов')\n",
        "plt.legend()\n",
        "plt.show()"
      ],
      "execution_count": 0,
      "outputs": [
        {
          "output_type": "stream",
          "text": [
            "Epoch 1/10\n",
            "113/113 [==============================] - 1s 11ms/step - loss: 1.5313 - accuracy: 0.5987 - val_loss: 1.6334 - val_accuracy: 0.7393\n",
            "Epoch 2/10\n",
            "113/113 [==============================] - 1s 11ms/step - loss: 0.3390 - accuracy: 0.9340 - val_loss: 0.8231 - val_accuracy: 0.8431\n",
            "Epoch 3/10\n",
            "113/113 [==============================] - 1s 11ms/step - loss: 0.1133 - accuracy: 0.9846 - val_loss: 0.5857 - val_accuracy: 0.8580\n",
            "Epoch 4/10\n",
            "113/113 [==============================] - 1s 10ms/step - loss: 0.0671 - accuracy: 0.9907 - val_loss: 0.5689 - val_accuracy: 0.8550\n",
            "Epoch 5/10\n",
            "113/113 [==============================] - 1s 10ms/step - loss: 0.0450 - accuracy: 0.9932 - val_loss: 0.5792 - val_accuracy: 0.8572\n",
            "Epoch 6/10\n",
            "113/113 [==============================] - 1s 11ms/step - loss: 0.0441 - accuracy: 0.9934 - val_loss: 0.6033 - val_accuracy: 0.8583\n",
            "Epoch 7/10\n",
            "113/113 [==============================] - 1s 10ms/step - loss: 0.0381 - accuracy: 0.9939 - val_loss: 0.5946 - val_accuracy: 0.8583\n",
            "Epoch 8/10\n",
            "113/113 [==============================] - 1s 11ms/step - loss: 0.0273 - accuracy: 0.9950 - val_loss: 0.6016 - val_accuracy: 0.8552\n",
            "Epoch 9/10\n",
            "113/113 [==============================] - 1s 11ms/step - loss: 0.0273 - accuracy: 0.9950 - val_loss: 0.6205 - val_accuracy: 0.8575\n",
            "Epoch 10/10\n",
            "113/113 [==============================] - 1s 10ms/step - loss: 0.0254 - accuracy: 0.9949 - val_loss: 0.6301 - val_accuracy: 0.8597\n"
          ],
          "name": "stdout"
        },
        {
          "output_type": "display_data",
          "data": {
            "image/png": "[encoded data removed]",
            "text/plain": [
              "<Figure size 432x288 with 1 Axes>"
            ]
          },
          "metadata": {
            "tags": [],
            "needs_background": "light"
          }
        }
      ]
    },
    {
      "cell_type": "markdown",
      "metadata": {
        "id": "1DjMtlKmmOpn",
        "colab_type": "text"
      },
      "source": [
        "К сожалению, это не принесло улучшения результатов."
      ]
    },
    {
      "cell_type": "markdown",
      "metadata": {
        "id": "MwVsABTuzDpD",
        "colab_type": "text"
      },
      "source": [
        "### Part V\n",
        "\n",
        "Я бы сказал, что на данной неделе главный вывод для меня - что качество данных намного важнее, чем архитектура нейросети. Сбалансированность данных, наличие достаточного количества примеров похожих на любой вариант в проверочной выборке."
      ]
    }
  ]
}