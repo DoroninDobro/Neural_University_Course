{
  "nbformat": 4,
  "nbformat_minor": 0,
  "metadata": {
    "colab": {
      "name": "HW5 Lite.ipynb",
      "provenance": [],
      "collapsed_sections": []
    },
    "kernelspec": {
      "name": "python3",
      "display_name": "Python 3"
    },
    "language_info": {
      "name": "python"
    },
    "accelerator": "GPU"
  },
  "cells": [
    {
      "cell_type": "code",
      "metadata": {
        "id": "A_guVnwqKa5G"
      },
      "source": [
        "from tensorflow.keras import utils\n",
        "from tensorflow.keras.models import Sequential\n",
        "from tensorflow.keras.layers import Dense, Dropout, BatchNormalization, Embedding, Flatten, Activation\n",
        "from tensorflow.keras.layers import Conv1D, SpatialDropout1D, MaxPooling1D, GlobalAveragePooling1D, GlobalMaxPooling1D\n",
        "from tensorflow.keras.layers import LSTM, GRU, SimpleRNN, Bidirectional\n",
        "from tensorflow.keras.optimizers import Adam, RMSprop\n",
        "from keras.preprocessing.text import Tokenizer, text_to_word_sequence\n",
        "from sklearn.model_selection import train_test_split\n",
        "from google.colab import files\n",
        "import numpy as np\n",
        "import pandas as pd\n",
        "import os\n",
        "import matplotlib.pyplot as plt\n",
        "%matplotlib inline"
      ],
      "execution_count": 1,
      "outputs": []
    },
    {
      "cell_type": "code",
      "metadata": {
        "colab": {
          "base_uri": "https://localhost:8080/"
        },
        "id": "j6Wt4JpNL2EG",
        "outputId": "fd34f789-e0c3-44d3-b88f-c50af58762fc"
      },
      "source": [
        "from google.colab import drive\n",
        "drive.mount('/content/drive')"
      ],
      "execution_count": 2,
      "outputs": [
        {
          "output_type": "stream",
          "text": [
            "Mounted at /content/drive\n"
          ],
          "name": "stdout"
        }
      ]
    },
    {
      "cell_type": "code",
      "metadata": {
        "id": "ZcyYfBb5MF5C"
      },
      "source": [
        "!unzip -q '/content/drive/My Drive/bases/diseases.zip' -d /content/texts"
      ],
      "execution_count": 3,
      "outputs": []
    },
    {
      "cell_type": "code",
      "metadata": {
        "colab": {
          "base_uri": "https://localhost:8080/"
        },
        "id": "EDwJNf9ZMwdd",
        "outputId": "a030e876-555f-4a19-cc15-a1efafcaadc0"
      },
      "source": [
        "!ls"
      ],
      "execution_count": 4,
      "outputs": [
        {
          "output_type": "stream",
          "text": [
            "drive  sample_data  texts\n"
          ],
          "name": "stdout"
        }
      ]
    },
    {
      "cell_type": "code",
      "metadata": {
        "id": "Sg8sgR5qMyKy"
      },
      "source": [
        "def readText(fileName):\n",
        "  f = open(fileName, 'r')\n",
        "  text = f.read().replace('\\n', ' ')\n",
        "  return text\n",
        "\n",
        "className = [\"Аппендицит\", \"Гастрит\", \"Гепатит\", \"Дуоденит\", \"Колит\", \"Панкреатит\", 'Холицестит', 'Эзофагит', 'Энтерит', 'Язва']\n",
        "nClasses = len(className)\n",
        "\n",
        "trainText = []\n",
        "testText = []\n",
        "import re\n",
        "regex = re.compile('W+')\n",
        "\n",
        "for i in className:\n",
        "  fileName = 'texts/Болезни/' + i + '.txt'\n",
        "  text = readText(fileName)\n",
        "  trainText.append(regex.sub(' ', text))\n",
        "\n",
        "base_text = trainText.copy()\n",
        "for i, t in enumerate(trainText):\n",
        "  testText.append(trainText[i][-len(trainText[i])*3//10:])\n",
        "  trainText[i] = t[:-len(trainText[i])*3//10]"
      ],
      "execution_count": 9,
      "outputs": []
    },
    {
      "cell_type": "code",
      "metadata": {
        "id": "X-3XNkM_EuZz"
      },
      "source": [
        "tokenizer = Tokenizer(num_words=500, filters='!\"#$%&()*+,-–—./…:;<=>?@[\\\\]^_`{|}~«»\\t\\n\\xa0', lower=True, split=' ', oov_token='unknown', char_level=False)\n",
        "tokenizer.fit_on_texts(trainText)\n",
        "trainWordIndexes = tokenizer.texts_to_sequences(trainText)\n",
        "testWordIndexes = tokenizer.texts_to_sequences(testText)"
      ],
      "execution_count": 10,
      "outputs": []
    },
    {
      "cell_type": "code",
      "metadata": {
        "id": "3hBJn1ZAFT5V"
      },
      "source": [
        "def getSetFromIndexes(wordIndexes, xLen, step):\n",
        "  xSample = []\n",
        "  wordsLen = len(wordIndexes)\n",
        "  index = 0\n",
        "  while (index + xLen <= wordsLen):\n",
        "    xSample.append(wordIndexes[index:index+xLen])\n",
        "    index += step\n",
        "  return xSample\n",
        "\n",
        "def createSetMultiClasses(wordIndexes, xLen, step):\n",
        "  nClasses = len(wordIndexes)\n",
        "  classesXSamples = []\n",
        "  for wI in wordIndexes:\n",
        "    classesXSamples.append(getSetFromIndexes(wI, xLen, step))\n",
        "  xSamples = []\n",
        "  ySamples = []\n",
        "  for t in range(nClasses):\n",
        "    xT = classesXSamples[t]\n",
        "    for i in range(len(xT)):\n",
        "      xSamples.append(xT[i])\n",
        "      ySamples.append(utils.to_categorical(t, nClasses))\n",
        "  xSamples = np.array(xSamples)\n",
        "  ySamples = np.array(ySamples)\n",
        "  return(xSamples, ySamples)"
      ],
      "execution_count": 14,
      "outputs": []
    },
    {
      "cell_type": "code",
      "metadata": {
        "id": "ILZbHK1LGlAV"
      },
      "source": [
        "xLen = 50\n",
        "step = 5"
      ],
      "execution_count": 15,
      "outputs": []
    },
    {
      "cell_type": "code",
      "metadata": {
        "id": "z1aP8vGhNZj0"
      },
      "source": [
        "xTrain, yTrain = createSetMultiClasses(trainWordIndexes, xLen, step)\n",
        "xTest, yTest = createSetMultiClasses(testWordIndexes, xLen, step)"
      ],
      "execution_count": 16,
      "outputs": []
    },
    {
      "cell_type": "markdown",
      "metadata": {
        "id": "mPaYjKBETFVl"
      },
      "source": [
        "1. Embedding + LSTM сеть.\n",
        "2. Embedding + Conv1D сеть.\n",
        "3. Embedding + сложная сеть из Dense, LSTM и Conv1D."
      ]
    },
    {
      "cell_type": "code",
      "metadata": {
        "colab": {
          "base_uri": "https://localhost:8080/",
          "height": 1000
        },
        "id": "-stwSQK9O2PU",
        "outputId": "8b131c91-6532-41ac-b7ff-f13d0562e7a7"
      },
      "source": [
        "model = Sequential()\n",
        "model.add(Embedding(500, 12, input_length=xLen))\n",
        "model.add(LSTM(4))\n",
        "model.add(Flatten())\n",
        "model.add(BatchNormalization())\n",
        "model.add(Dense(10, activation='softmax'))\n",
        "\n",
        "model.compile(optimizer='adam', \n",
        "              loss='categorical_crossentropy', \n",
        "              metrics=['accuracy'])\n",
        "\n",
        "history = model.fit(xTrain, \n",
        "                    yTrain, \n",
        "                    epochs=40,\n",
        "                    batch_size=25,\n",
        "                    validation_data=(xTest, yTest))\n",
        "\n",
        "plt.plot(history.history['accuracy'], \n",
        "         label='Доля верных ответов на обучающем наборе')\n",
        "plt.plot(history.history['val_accuracy'], \n",
        "         label='Доля верных ответов на проверочном наборе')\n",
        "plt.xlabel('Эпоха обучения')\n",
        "plt.ylabel('Доля верных ответов')\n",
        "plt.legend()\n",
        "plt.show()"
      ],
      "execution_count": 18,
      "outputs": [
        {
          "output_type": "stream",
          "text": [
            "Epoch 1/40\n",
            "42/42 [==============================] - 2s 17ms/step - loss: 2.2277 - accuracy: 0.1746 - val_loss: 2.2870 - val_accuracy: 0.1675\n",
            "Epoch 2/40\n",
            "42/42 [==============================] - 0s 8ms/step - loss: 1.9839 - accuracy: 0.3473 - val_loss: 2.2617 - val_accuracy: 0.1552\n",
            "Epoch 3/40\n",
            "42/42 [==============================] - 0s 8ms/step - loss: 1.7537 - accuracy: 0.4027 - val_loss: 2.2307 - val_accuracy: 0.1552\n",
            "Epoch 4/40\n",
            "42/42 [==============================] - 0s 8ms/step - loss: 1.5544 - accuracy: 0.4866 - val_loss: 2.2351 - val_accuracy: 0.2340\n",
            "Epoch 5/40\n",
            "42/42 [==============================] - 0s 8ms/step - loss: 1.3265 - accuracy: 0.6126 - val_loss: 2.2069 - val_accuracy: 0.2512\n",
            "Epoch 6/40\n",
            "42/42 [==============================] - 0s 7ms/step - loss: 1.1502 - accuracy: 0.7013 - val_loss: 2.1025 - val_accuracy: 0.2635\n",
            "Epoch 7/40\n",
            "42/42 [==============================] - 0s 8ms/step - loss: 1.0393 - accuracy: 0.7366 - val_loss: 2.0213 - val_accuracy: 0.2980\n",
            "Epoch 8/40\n",
            "42/42 [==============================] - 0s 8ms/step - loss: 0.9516 - accuracy: 0.7615 - val_loss: 2.0756 - val_accuracy: 0.2537\n",
            "Epoch 9/40\n",
            "42/42 [==============================] - 0s 7ms/step - loss: 0.8594 - accuracy: 0.8254 - val_loss: 2.0142 - val_accuracy: 0.2906\n",
            "Epoch 10/40\n",
            "42/42 [==============================] - 0s 7ms/step - loss: 0.7664 - accuracy: 0.8702 - val_loss: 2.0083 - val_accuracy: 0.3325\n",
            "Epoch 11/40\n",
            "42/42 [==============================] - 0s 8ms/step - loss: 0.6879 - accuracy: 0.8874 - val_loss: 1.7562 - val_accuracy: 0.4113\n",
            "Epoch 12/40\n",
            "42/42 [==============================] - 0s 7ms/step - loss: 0.6273 - accuracy: 0.9151 - val_loss: 1.8036 - val_accuracy: 0.4212\n",
            "Epoch 13/40\n",
            "42/42 [==============================] - 0s 7ms/step - loss: 0.5499 - accuracy: 0.9542 - val_loss: 1.7203 - val_accuracy: 0.4433\n",
            "Epoch 14/40\n",
            "42/42 [==============================] - 0s 8ms/step - loss: 0.4919 - accuracy: 0.9647 - val_loss: 1.6993 - val_accuracy: 0.4606\n",
            "Epoch 15/40\n",
            "42/42 [==============================] - 0s 7ms/step - loss: 0.4181 - accuracy: 0.9819 - val_loss: 1.6988 - val_accuracy: 0.4360\n",
            "Epoch 16/40\n",
            "42/42 [==============================] - 0s 8ms/step - loss: 0.3842 - accuracy: 0.9828 - val_loss: 1.6369 - val_accuracy: 0.4655\n",
            "Epoch 17/40\n",
            "42/42 [==============================] - 0s 7ms/step - loss: 0.3277 - accuracy: 0.9885 - val_loss: 1.7019 - val_accuracy: 0.4335\n",
            "Epoch 18/40\n",
            "42/42 [==============================] - 0s 7ms/step - loss: 0.2928 - accuracy: 0.9943 - val_loss: 1.7270 - val_accuracy: 0.4680\n",
            "Epoch 19/40\n",
            "42/42 [==============================] - 0s 7ms/step - loss: 0.2645 - accuracy: 0.9943 - val_loss: 1.6874 - val_accuracy: 0.4655\n",
            "Epoch 20/40\n",
            "42/42 [==============================] - 0s 8ms/step - loss: 0.2435 - accuracy: 0.9952 - val_loss: 1.8122 - val_accuracy: 0.4532\n",
            "Epoch 21/40\n",
            "42/42 [==============================] - 0s 8ms/step - loss: 0.2123 - accuracy: 0.9981 - val_loss: 2.3741 - val_accuracy: 0.3596\n",
            "Epoch 22/40\n",
            "42/42 [==============================] - 0s 8ms/step - loss: 0.1924 - accuracy: 0.9981 - val_loss: 1.6594 - val_accuracy: 0.4778\n",
            "Epoch 23/40\n",
            "42/42 [==============================] - 0s 8ms/step - loss: 0.1762 - accuracy: 0.9981 - val_loss: 2.1032 - val_accuracy: 0.4064\n",
            "Epoch 24/40\n",
            "42/42 [==============================] - 0s 7ms/step - loss: 0.1590 - accuracy: 0.9971 - val_loss: 1.6407 - val_accuracy: 0.4926\n",
            "Epoch 25/40\n",
            "42/42 [==============================] - 0s 7ms/step - loss: 0.1327 - accuracy: 1.0000 - val_loss: 1.6618 - val_accuracy: 0.4754\n",
            "Epoch 26/40\n",
            "42/42 [==============================] - 0s 8ms/step - loss: 0.1326 - accuracy: 0.9990 - val_loss: 1.6778 - val_accuracy: 0.4384\n",
            "Epoch 27/40\n",
            "42/42 [==============================] - 0s 8ms/step - loss: 0.1183 - accuracy: 1.0000 - val_loss: 1.6437 - val_accuracy: 0.5148\n",
            "Epoch 28/40\n",
            "42/42 [==============================] - 0s 8ms/step - loss: 0.1126 - accuracy: 0.9990 - val_loss: 1.9354 - val_accuracy: 0.4409\n",
            "Epoch 29/40\n",
            "42/42 [==============================] - 0s 7ms/step - loss: 0.1058 - accuracy: 0.9990 - val_loss: 1.6294 - val_accuracy: 0.5148\n",
            "Epoch 30/40\n",
            "42/42 [==============================] - 0s 8ms/step - loss: 0.0959 - accuracy: 0.9990 - val_loss: 1.6681 - val_accuracy: 0.5099\n",
            "Epoch 31/40\n",
            "42/42 [==============================] - 0s 7ms/step - loss: 0.0883 - accuracy: 0.9990 - val_loss: 1.6565 - val_accuracy: 0.4877\n",
            "Epoch 32/40\n",
            "42/42 [==============================] - 0s 8ms/step - loss: 0.0767 - accuracy: 1.0000 - val_loss: 1.8382 - val_accuracy: 0.4680\n",
            "Epoch 33/40\n",
            "42/42 [==============================] - 0s 8ms/step - loss: 0.0722 - accuracy: 1.0000 - val_loss: 1.7156 - val_accuracy: 0.5074\n",
            "Epoch 34/40\n",
            "42/42 [==============================] - 0s 8ms/step - loss: 0.0721 - accuracy: 1.0000 - val_loss: 1.8439 - val_accuracy: 0.4631\n",
            "Epoch 35/40\n",
            "42/42 [==============================] - 0s 8ms/step - loss: 0.0683 - accuracy: 1.0000 - val_loss: 1.7412 - val_accuracy: 0.5197\n",
            "Epoch 36/40\n",
            "42/42 [==============================] - 0s 8ms/step - loss: 0.0617 - accuracy: 1.0000 - val_loss: 1.7695 - val_accuracy: 0.4655\n",
            "Epoch 37/40\n",
            "42/42 [==============================] - 0s 8ms/step - loss: 0.0536 - accuracy: 1.0000 - val_loss: 1.8839 - val_accuracy: 0.4704\n",
            "Epoch 38/40\n",
            "42/42 [==============================] - 0s 8ms/step - loss: 0.0506 - accuracy: 1.0000 - val_loss: 1.8227 - val_accuracy: 0.4606\n",
            "Epoch 39/40\n",
            "42/42 [==============================] - 0s 8ms/step - loss: 0.0580 - accuracy: 1.0000 - val_loss: 1.9297 - val_accuracy: 0.4557\n",
            "Epoch 40/40\n",
            "42/42 [==============================] - 0s 8ms/step - loss: 0.0477 - accuracy: 1.0000 - val_loss: 1.9115 - val_accuracy: 0.4680\n"
          ],
          "name": "stdout"
        },
        {
          "output_type": "display_data",
          "data": {
            "image/png": "[encoded data removed]",
            "text/plain": [
              "<Figure size 432x288 with 1 Axes>"
            ]
          },
          "metadata": {
            "tags": [],
            "needs_background": "light"
          }
        }
      ]
    },
    {
      "cell_type": "code",
      "metadata": {
        "colab": {
          "base_uri": "https://localhost:8080/",
          "height": 1000
        },
        "id": "dqb1tB7zTk_z",
        "outputId": "0b465317-b490-4a7d-d9d9-16706ed58823"
      },
      "source": [
        "model = Sequential()\n",
        "model.add(Embedding(500, 12, input_length=xLen))\n",
        "model.add(Conv1D(20, 5, activation=\"relu\", padding='same')) \n",
        "model.add(Conv1D(20, 5, activation=\"relu\"))\n",
        "model.add(SpatialDropout1D(0.2))\n",
        "model.add(MaxPooling1D(2))\n",
        "model.add(Flatten())\n",
        "model.add(BatchNormalization())\n",
        "model.add(Dense(10, activation='softmax'))\n",
        "\n",
        "model.compile(optimizer='adam', \n",
        "              loss='categorical_crossentropy', \n",
        "              metrics=['accuracy'])\n",
        "\n",
        "history = model.fit(xTrain, \n",
        "                    yTrain, \n",
        "                    epochs=40,\n",
        "                    batch_size=25,\n",
        "                    validation_data=(xTest, yTest))\n",
        "\n",
        "plt.plot(history.history['accuracy'], \n",
        "         label='Доля верных ответов на обучающем наборе')\n",
        "plt.plot(history.history['val_accuracy'], \n",
        "         label='Доля верных ответов на проверочном наборе')\n",
        "plt.xlabel('Эпоха обучения')\n",
        "plt.ylabel('Доля верных ответов')\n",
        "plt.legend()\n",
        "plt.show()"
      ],
      "execution_count": 29,
      "outputs": [
        {
          "output_type": "stream",
          "text": [
            "Epoch 1/40\n",
            "40/40 [==============================] - 1s 9ms/step - loss: 2.2122 - accuracy: 0.2054 - val_loss: 2.2025 - val_accuracy: 0.2219\n",
            "Epoch 2/40\n",
            "40/40 [==============================] - 0s 6ms/step - loss: 1.6609 - accuracy: 0.4269 - val_loss: 2.1849 - val_accuracy: 0.1629\n",
            "Epoch 3/40\n",
            "40/40 [==============================] - 0s 6ms/step - loss: 1.0043 - accuracy: 0.7024 - val_loss: 2.1631 - val_accuracy: 0.1629\n",
            "Epoch 4/40\n",
            "40/40 [==============================] - 0s 5ms/step - loss: 0.4801 - accuracy: 0.8727 - val_loss: 2.1240 - val_accuracy: 0.1657\n",
            "Epoch 5/40\n",
            "40/40 [==============================] - 0s 5ms/step - loss: 0.2629 - accuracy: 0.9409 - val_loss: 2.0721 - val_accuracy: 0.2584\n",
            "Epoch 6/40\n",
            "40/40 [==============================] - 0s 6ms/step - loss: 0.1591 - accuracy: 0.9659 - val_loss: 1.9879 - val_accuracy: 0.2697\n",
            "Epoch 7/40\n",
            "40/40 [==============================] - 0s 7ms/step - loss: 0.1149 - accuracy: 0.9800 - val_loss: 1.9247 - val_accuracy: 0.3680\n",
            "Epoch 8/40\n",
            "40/40 [==============================] - 0s 6ms/step - loss: 0.0901 - accuracy: 0.9820 - val_loss: 1.8347 - val_accuracy: 0.4663\n",
            "Epoch 9/40\n",
            "40/40 [==============================] - 0s 5ms/step - loss: 0.0646 - accuracy: 0.9830 - val_loss: 1.7359 - val_accuracy: 0.4635\n",
            "Epoch 10/40\n",
            "40/40 [==============================] - 0s 5ms/step - loss: 0.0435 - accuracy: 0.9950 - val_loss: 1.6268 - val_accuracy: 0.5000\n",
            "Epoch 11/40\n",
            "40/40 [==============================] - 0s 6ms/step - loss: 0.0361 - accuracy: 0.9950 - val_loss: 1.5423 - val_accuracy: 0.5309\n",
            "Epoch 12/40\n",
            "40/40 [==============================] - 0s 5ms/step - loss: 0.0374 - accuracy: 0.9930 - val_loss: 1.6155 - val_accuracy: 0.5225\n",
            "Epoch 13/40\n",
            "40/40 [==============================] - 0s 6ms/step - loss: 0.0239 - accuracy: 0.9980 - val_loss: 1.4565 - val_accuracy: 0.5225\n",
            "Epoch 14/40\n",
            "40/40 [==============================] - 0s 6ms/step - loss: 0.0241 - accuracy: 0.9970 - val_loss: 1.4601 - val_accuracy: 0.5393\n",
            "Epoch 15/40\n",
            "40/40 [==============================] - 0s 6ms/step - loss: 0.0262 - accuracy: 0.9940 - val_loss: 1.6567 - val_accuracy: 0.5225\n",
            "Epoch 16/40\n",
            "40/40 [==============================] - 0s 6ms/step - loss: 0.0148 - accuracy: 0.9990 - val_loss: 1.4376 - val_accuracy: 0.5478\n",
            "Epoch 17/40\n",
            "40/40 [==============================] - 0s 6ms/step - loss: 0.0264 - accuracy: 0.9970 - val_loss: 1.6774 - val_accuracy: 0.5449\n",
            "Epoch 18/40\n",
            "40/40 [==============================] - 0s 6ms/step - loss: 0.0192 - accuracy: 0.9980 - val_loss: 1.7182 - val_accuracy: 0.5309\n",
            "Epoch 19/40\n",
            "40/40 [==============================] - 0s 6ms/step - loss: 0.0201 - accuracy: 0.9960 - val_loss: 1.6639 - val_accuracy: 0.5421\n",
            "Epoch 20/40\n",
            "40/40 [==============================] - 0s 6ms/step - loss: 0.0181 - accuracy: 0.9970 - val_loss: 1.7882 - val_accuracy: 0.5337\n",
            "Epoch 21/40\n",
            "40/40 [==============================] - 0s 5ms/step - loss: 0.0149 - accuracy: 0.9990 - val_loss: 1.7053 - val_accuracy: 0.5253\n",
            "Epoch 22/40\n",
            "40/40 [==============================] - 0s 6ms/step - loss: 0.0070 - accuracy: 1.0000 - val_loss: 1.7207 - val_accuracy: 0.5309\n",
            "Epoch 23/40\n",
            "40/40 [==============================] - 0s 6ms/step - loss: 0.0152 - accuracy: 0.9980 - val_loss: 2.0389 - val_accuracy: 0.5337\n",
            "Epoch 24/40\n",
            "40/40 [==============================] - 0s 6ms/step - loss: 0.0113 - accuracy: 0.9990 - val_loss: 1.8091 - val_accuracy: 0.5253\n",
            "Epoch 25/40\n",
            "40/40 [==============================] - 0s 6ms/step - loss: 0.0135 - accuracy: 0.9970 - val_loss: 1.9558 - val_accuracy: 0.5140\n",
            "Epoch 26/40\n",
            "40/40 [==============================] - 0s 5ms/step - loss: 0.0129 - accuracy: 0.9970 - val_loss: 2.2430 - val_accuracy: 0.4860\n",
            "Epoch 27/40\n",
            "40/40 [==============================] - 0s 6ms/step - loss: 0.0076 - accuracy: 0.9990 - val_loss: 1.7001 - val_accuracy: 0.5197\n",
            "Epoch 28/40\n",
            "40/40 [==============================] - 0s 7ms/step - loss: 0.0061 - accuracy: 0.9990 - val_loss: 1.9614 - val_accuracy: 0.5253\n",
            "Epoch 29/40\n",
            "40/40 [==============================] - 0s 6ms/step - loss: 0.0073 - accuracy: 0.9990 - val_loss: 1.9790 - val_accuracy: 0.5225\n",
            "Epoch 30/40\n",
            "40/40 [==============================] - 0s 6ms/step - loss: 0.0094 - accuracy: 0.9980 - val_loss: 1.8883 - val_accuracy: 0.5281\n",
            "Epoch 31/40\n",
            "40/40 [==============================] - 0s 5ms/step - loss: 0.0079 - accuracy: 0.9990 - val_loss: 1.8857 - val_accuracy: 0.5084\n",
            "Epoch 32/40\n",
            "40/40 [==============================] - 0s 6ms/step - loss: 0.0079 - accuracy: 0.9990 - val_loss: 1.9261 - val_accuracy: 0.5140\n",
            "Epoch 33/40\n",
            "40/40 [==============================] - 0s 6ms/step - loss: 0.0093 - accuracy: 0.9980 - val_loss: 2.2187 - val_accuracy: 0.5056\n",
            "Epoch 34/40\n",
            "40/40 [==============================] - 0s 5ms/step - loss: 0.0075 - accuracy: 0.9990 - val_loss: 2.1207 - val_accuracy: 0.5365\n",
            "Epoch 35/40\n",
            "40/40 [==============================] - 0s 5ms/step - loss: 0.0086 - accuracy: 0.9970 - val_loss: 2.2024 - val_accuracy: 0.5056\n",
            "Epoch 36/40\n",
            "40/40 [==============================] - 0s 6ms/step - loss: 0.0048 - accuracy: 1.0000 - val_loss: 2.0636 - val_accuracy: 0.5084\n",
            "Epoch 37/40\n",
            "40/40 [==============================] - 0s 7ms/step - loss: 0.0074 - accuracy: 0.9980 - val_loss: 2.1873 - val_accuracy: 0.5169\n",
            "Epoch 38/40\n",
            "40/40 [==============================] - 0s 6ms/step - loss: 0.0038 - accuracy: 0.9990 - val_loss: 1.8971 - val_accuracy: 0.5140\n",
            "Epoch 39/40\n",
            "40/40 [==============================] - 0s 6ms/step - loss: 0.0042 - accuracy: 0.9990 - val_loss: 2.1876 - val_accuracy: 0.5000\n",
            "Epoch 40/40\n",
            "40/40 [==============================] - 0s 6ms/step - loss: 0.0026 - accuracy: 1.0000 - val_loss: 2.0785 - val_accuracy: 0.5084\n"
          ],
          "name": "stdout"
        },
        {
          "output_type": "display_data",
          "data": {
            "image/png": "[encoded data removed]",
            "text/plain": [
              "<Figure size 432x288 with 1 Axes>"
            ]
          },
          "metadata": {
            "tags": [],
            "needs_background": "light"
          }
        }
      ]
    },
    {
      "cell_type": "code",
      "metadata": {
        "colab": {
          "base_uri": "https://localhost:8080/",
          "height": 1000
        },
        "id": "mT7efUw_TwtI",
        "outputId": "de6a9878-ac6e-4d03-b79f-ffb7614244d8"
      },
      "source": [
        "model = Sequential()\n",
        "model.add(Embedding(500, 12, input_length=xLen))\n",
        "model.add(Conv1D(20, 5, activation=\"relu\", padding='same')) \n",
        "model.add(Conv1D(20, 5, activation=\"relu\"))\n",
        "model.add(SpatialDropout1D(0.2))\n",
        "model.add(LSTM(4))\n",
        "model.add(Flatten())\n",
        "model.add(BatchNormalization())\n",
        "model.add(Dense(10, activation='softmax'))\n",
        "\n",
        "model.compile(optimizer='adam', \n",
        "              loss='categorical_crossentropy', \n",
        "              metrics=['accuracy'])\n",
        "\n",
        "history = model.fit(xTrain, \n",
        "                    yTrain, \n",
        "                    epochs=40,\n",
        "                    batch_size=25,\n",
        "                    validation_data=(xTest, yTest))\n",
        "\n",
        "plt.plot(history.history['accuracy'], \n",
        "         label='Доля верных ответов на обучающем наборе')\n",
        "plt.plot(history.history['val_accuracy'], \n",
        "         label='Доля верных ответов на проверочном наборе')\n",
        "plt.xlabel('Эпоха обучения')\n",
        "plt.ylabel('Доля верных ответов')\n",
        "plt.legend()\n",
        "plt.show()"
      ],
      "execution_count": 22,
      "outputs": [
        {
          "output_type": "stream",
          "text": [
            "Epoch 1/40\n",
            "42/42 [==============================] - 2s 18ms/step - loss: 2.2400 - accuracy: 0.1317 - val_loss: 2.2877 - val_accuracy: 0.1404\n",
            "Epoch 2/40\n",
            "42/42 [==============================] - 0s 8ms/step - loss: 1.9722 - accuracy: 0.2347 - val_loss: 2.2652 - val_accuracy: 0.1059\n",
            "Epoch 3/40\n",
            "42/42 [==============================] - 0s 9ms/step - loss: 1.7491 - accuracy: 0.3769 - val_loss: 2.2001 - val_accuracy: 0.1872\n",
            "Epoch 4/40\n",
            "42/42 [==============================] - 0s 8ms/step - loss: 1.5709 - accuracy: 0.4723 - val_loss: 2.1201 - val_accuracy: 0.2759\n",
            "Epoch 5/40\n",
            "42/42 [==============================] - 0s 8ms/step - loss: 1.4375 - accuracy: 0.5162 - val_loss: 2.0329 - val_accuracy: 0.3103\n",
            "Epoch 6/40\n",
            "42/42 [==============================] - 0s 9ms/step - loss: 1.3449 - accuracy: 0.5487 - val_loss: 1.9714 - val_accuracy: 0.3276\n",
            "Epoch 7/40\n",
            "42/42 [==============================] - 0s 8ms/step - loss: 1.2582 - accuracy: 0.5792 - val_loss: 1.9622 - val_accuracy: 0.3153\n",
            "Epoch 8/40\n",
            "42/42 [==============================] - 0s 8ms/step - loss: 1.1671 - accuracy: 0.6145 - val_loss: 1.8973 - val_accuracy: 0.3547\n",
            "Epoch 9/40\n",
            "42/42 [==============================] - 0s 8ms/step - loss: 1.0766 - accuracy: 0.6298 - val_loss: 1.8040 - val_accuracy: 0.3867\n",
            "Epoch 10/40\n",
            "42/42 [==============================] - 0s 8ms/step - loss: 1.0233 - accuracy: 0.6365 - val_loss: 1.7397 - val_accuracy: 0.4433\n",
            "Epoch 11/40\n",
            "42/42 [==============================] - 0s 8ms/step - loss: 0.9551 - accuracy: 0.6660 - val_loss: 1.6927 - val_accuracy: 0.4606\n",
            "Epoch 12/40\n",
            "42/42 [==============================] - 0s 8ms/step - loss: 0.8876 - accuracy: 0.6861 - val_loss: 1.6935 - val_accuracy: 0.4704\n",
            "Epoch 13/40\n",
            "42/42 [==============================] - 0s 8ms/step - loss: 0.8468 - accuracy: 0.7242 - val_loss: 1.6128 - val_accuracy: 0.4975\n",
            "Epoch 14/40\n",
            "42/42 [==============================] - 0s 8ms/step - loss: 0.7980 - accuracy: 0.7595 - val_loss: 1.6757 - val_accuracy: 0.4532\n",
            "Epoch 15/40\n",
            "42/42 [==============================] - 0s 9ms/step - loss: 0.7615 - accuracy: 0.7853 - val_loss: 1.5768 - val_accuracy: 0.4877\n",
            "Epoch 16/40\n",
            "42/42 [==============================] - 0s 8ms/step - loss: 0.7236 - accuracy: 0.8073 - val_loss: 1.6369 - val_accuracy: 0.4877\n",
            "Epoch 17/40\n",
            "42/42 [==============================] - 0s 8ms/step - loss: 0.6907 - accuracy: 0.8292 - val_loss: 1.7339 - val_accuracy: 0.4458\n",
            "Epoch 18/40\n",
            "42/42 [==============================] - 0s 8ms/step - loss: 0.6069 - accuracy: 0.8626 - val_loss: 1.5991 - val_accuracy: 0.5074\n",
            "Epoch 19/40\n",
            "42/42 [==============================] - 0s 8ms/step - loss: 0.5727 - accuracy: 0.8664 - val_loss: 1.5714 - val_accuracy: 0.5025\n",
            "Epoch 20/40\n",
            "42/42 [==============================] - 0s 8ms/step - loss: 0.5465 - accuracy: 0.8626 - val_loss: 1.4957 - val_accuracy: 0.5320\n",
            "Epoch 21/40\n",
            "42/42 [==============================] - 0s 9ms/step - loss: 0.5070 - accuracy: 0.8788 - val_loss: 1.5318 - val_accuracy: 0.5049\n",
            "Epoch 22/40\n",
            "42/42 [==============================] - 0s 8ms/step - loss: 0.4821 - accuracy: 0.8807 - val_loss: 1.4966 - val_accuracy: 0.5296\n",
            "Epoch 23/40\n",
            "42/42 [==============================] - 0s 8ms/step - loss: 0.4535 - accuracy: 0.8903 - val_loss: 1.4788 - val_accuracy: 0.5271\n",
            "Epoch 24/40\n",
            "42/42 [==============================] - 0s 8ms/step - loss: 0.4527 - accuracy: 0.8884 - val_loss: 1.5201 - val_accuracy: 0.5419\n",
            "Epoch 25/40\n",
            "42/42 [==============================] - 0s 8ms/step - loss: 0.3866 - accuracy: 0.9084 - val_loss: 1.4441 - val_accuracy: 0.5369\n",
            "Epoch 26/40\n",
            "42/42 [==============================] - 0s 9ms/step - loss: 0.3543 - accuracy: 0.9122 - val_loss: 1.4050 - val_accuracy: 0.5419\n",
            "Epoch 27/40\n",
            "42/42 [==============================] - 0s 8ms/step - loss: 0.3461 - accuracy: 0.9179 - val_loss: 1.5609 - val_accuracy: 0.5320\n",
            "Epoch 28/40\n",
            "42/42 [==============================] - 0s 8ms/step - loss: 0.3136 - accuracy: 0.9294 - val_loss: 1.5315 - val_accuracy: 0.5345\n",
            "Epoch 29/40\n",
            "42/42 [==============================] - 0s 8ms/step - loss: 0.3125 - accuracy: 0.9237 - val_loss: 1.6726 - val_accuracy: 0.4877\n",
            "Epoch 30/40\n",
            "42/42 [==============================] - 0s 8ms/step - loss: 0.2813 - accuracy: 0.9351 - val_loss: 1.6038 - val_accuracy: 0.5049\n",
            "Epoch 31/40\n",
            "42/42 [==============================] - 0s 8ms/step - loss: 0.2737 - accuracy: 0.9313 - val_loss: 1.5064 - val_accuracy: 0.5246\n",
            "Epoch 32/40\n",
            "42/42 [==============================] - 0s 9ms/step - loss: 0.2590 - accuracy: 0.9351 - val_loss: 1.6463 - val_accuracy: 0.5197\n",
            "Epoch 33/40\n",
            "42/42 [==============================] - 0s 8ms/step - loss: 0.2519 - accuracy: 0.9370 - val_loss: 1.5646 - val_accuracy: 0.5246\n",
            "Epoch 34/40\n",
            "42/42 [==============================] - 0s 8ms/step - loss: 0.2527 - accuracy: 0.9342 - val_loss: 1.6833 - val_accuracy: 0.5320\n",
            "Epoch 35/40\n",
            "42/42 [==============================] - 0s 8ms/step - loss: 0.2324 - accuracy: 0.9456 - val_loss: 1.5466 - val_accuracy: 0.5394\n",
            "Epoch 36/40\n",
            "42/42 [==============================] - 0s 9ms/step - loss: 0.2241 - accuracy: 0.9494 - val_loss: 1.6874 - val_accuracy: 0.5517\n",
            "Epoch 37/40\n",
            "42/42 [==============================] - 0s 9ms/step - loss: 0.2064 - accuracy: 0.9504 - val_loss: 1.5871 - val_accuracy: 0.5493\n",
            "Epoch 38/40\n",
            "42/42 [==============================] - 0s 8ms/step - loss: 0.1747 - accuracy: 0.9695 - val_loss: 1.7265 - val_accuracy: 0.5493\n",
            "Epoch 39/40\n",
            "42/42 [==============================] - 0s 8ms/step - loss: 0.1806 - accuracy: 0.9637 - val_loss: 1.9304 - val_accuracy: 0.4975\n",
            "Epoch 40/40\n",
            "42/42 [==============================] - 0s 8ms/step - loss: 0.1845 - accuracy: 0.9656 - val_loss: 1.7511 - val_accuracy: 0.5320\n"
          ],
          "name": "stdout"
        },
        {
          "output_type": "display_data",
          "data": {
            "image/png": "[encoded data removed]",
            "text/plain": [
              "<Figure size 432x288 with 1 Axes>"
            ]
          },
          "metadata": {
            "tags": [],
            "needs_background": "light"
          }
        }
      ]
    },
    {
      "cell_type": "markdown",
      "metadata": {
        "id": "WUCrx3kvVT3G"
      },
      "source": [
        "Мне кажется, что глобально 55% для такого количества классов и такой маленькой выборки - это не так уж и плохо. Однако мы можем попробовать другие размеры xLen.\n",
        "\n",
        "З.Ы. Но в реальное боевой задачи я бы работал над увеличением базы текстов, можно даже просто используя интернет."
      ]
    },
    {
      "cell_type": "code",
      "metadata": {
        "id": "fLlCf4TdVZtm"
      },
      "source": [
        "xLen = 15\n",
        "step = 5"
      ],
      "execution_count": 23,
      "outputs": []
    },
    {
      "cell_type": "code",
      "metadata": {
        "id": "ZM5CffRkVaXe"
      },
      "source": [
        "xTrain, yTrain = createSetMultiClasses(trainWordIndexes, xLen, step)\n",
        "xTest, yTest = createSetMultiClasses(testWordIndexes, xLen, step)"
      ],
      "execution_count": 24,
      "outputs": []
    },
    {
      "cell_type": "code",
      "metadata": {
        "colab": {
          "base_uri": "https://localhost:8080/",
          "height": 1000
        },
        "id": "6HHBqJeJVao5",
        "outputId": "ba24d0f8-435a-49c4-ae22-c73802f8a7d8"
      },
      "source": [
        "model = Sequential()\n",
        "model.add(Embedding(500, 12, input_length=xLen))\n",
        "model.add(Conv1D(20, 5, activation=\"relu\", padding='same')) \n",
        "model.add(Conv1D(20, 5, activation=\"relu\"))\n",
        "model.add(SpatialDropout1D(0.2))\n",
        "model.add(LSTM(4))\n",
        "model.add(Flatten())\n",
        "model.add(BatchNormalization())\n",
        "model.add(Dense(10, activation='softmax'))\n",
        "\n",
        "model.compile(optimizer='adam', \n",
        "              loss='categorical_crossentropy', \n",
        "              metrics=['accuracy'])\n",
        "\n",
        "history = model.fit(xTrain, \n",
        "                    yTrain, \n",
        "                    epochs=40,\n",
        "                    batch_size=25,\n",
        "                    validation_data=(xTest, yTest))\n",
        "\n",
        "plt.plot(history.history['accuracy'], \n",
        "         label='Доля верных ответов на обучающем наборе')\n",
        "plt.plot(history.history['val_accuracy'], \n",
        "         label='Доля верных ответов на проверочном наборе')\n",
        "plt.xlabel('Эпоха обучения')\n",
        "plt.ylabel('Доля верных ответов')\n",
        "plt.legend()\n",
        "plt.show()"
      ],
      "execution_count": 28,
      "outputs": [
        {
          "output_type": "stream",
          "text": [
            "Epoch 1/40\n",
            "40/40 [==============================] - 2s 19ms/step - loss: 2.2469 - accuracy: 0.1904 - val_loss: 2.2908 - val_accuracy: 0.2079\n",
            "Epoch 2/40\n",
            "40/40 [==============================] - 0s 9ms/step - loss: 2.0330 - accuracy: 0.3156 - val_loss: 2.2745 - val_accuracy: 0.1685\n",
            "Epoch 3/40\n",
            "40/40 [==============================] - 0s 9ms/step - loss: 1.7364 - accuracy: 0.4289 - val_loss: 2.2629 - val_accuracy: 0.1629\n",
            "Epoch 4/40\n",
            "40/40 [==============================] - 0s 9ms/step - loss: 1.4921 - accuracy: 0.5591 - val_loss: 2.2722 - val_accuracy: 0.1742\n",
            "Epoch 5/40\n",
            "40/40 [==============================] - 0s 9ms/step - loss: 1.3289 - accuracy: 0.6253 - val_loss: 2.1951 - val_accuracy: 0.2022\n",
            "Epoch 6/40\n",
            "40/40 [==============================] - 0s 9ms/step - loss: 1.1834 - accuracy: 0.6703 - val_loss: 2.0877 - val_accuracy: 0.3062\n",
            "Epoch 7/40\n",
            "40/40 [==============================] - 0s 9ms/step - loss: 1.0938 - accuracy: 0.7084 - val_loss: 2.0061 - val_accuracy: 0.3455\n",
            "Epoch 8/40\n",
            "40/40 [==============================] - 0s 9ms/step - loss: 1.0013 - accuracy: 0.7244 - val_loss: 1.9483 - val_accuracy: 0.3511\n",
            "Epoch 9/40\n",
            "40/40 [==============================] - 0s 9ms/step - loss: 0.9371 - accuracy: 0.7435 - val_loss: 1.8067 - val_accuracy: 0.4185\n",
            "Epoch 10/40\n",
            "40/40 [==============================] - 0s 9ms/step - loss: 0.8770 - accuracy: 0.7605 - val_loss: 1.7873 - val_accuracy: 0.3876\n",
            "Epoch 11/40\n",
            "40/40 [==============================] - 0s 9ms/step - loss: 0.8091 - accuracy: 0.7745 - val_loss: 1.6670 - val_accuracy: 0.4466\n",
            "Epoch 12/40\n",
            "40/40 [==============================] - 0s 9ms/step - loss: 0.7565 - accuracy: 0.7886 - val_loss: 1.7162 - val_accuracy: 0.4073\n",
            "Epoch 13/40\n",
            "40/40 [==============================] - 0s 9ms/step - loss: 0.7308 - accuracy: 0.8016 - val_loss: 1.7552 - val_accuracy: 0.4438\n",
            "Epoch 14/40\n",
            "40/40 [==============================] - 0s 9ms/step - loss: 0.6541 - accuracy: 0.8267 - val_loss: 1.6863 - val_accuracy: 0.4607\n",
            "Epoch 15/40\n",
            "40/40 [==============================] - 0s 9ms/step - loss: 0.6321 - accuracy: 0.8487 - val_loss: 1.7237 - val_accuracy: 0.4410\n",
            "Epoch 16/40\n",
            "40/40 [==============================] - 0s 9ms/step - loss: 0.6028 - accuracy: 0.8647 - val_loss: 1.8666 - val_accuracy: 0.4382\n",
            "Epoch 17/40\n",
            "40/40 [==============================] - 0s 9ms/step - loss: 0.5439 - accuracy: 0.8938 - val_loss: 1.6851 - val_accuracy: 0.4691\n",
            "Epoch 18/40\n",
            "40/40 [==============================] - 0s 9ms/step - loss: 0.5106 - accuracy: 0.9038 - val_loss: 1.8109 - val_accuracy: 0.4298\n",
            "Epoch 19/40\n",
            "40/40 [==============================] - 0s 9ms/step - loss: 0.4770 - accuracy: 0.9098 - val_loss: 1.8097 - val_accuracy: 0.4579\n",
            "Epoch 20/40\n",
            "40/40 [==============================] - 0s 9ms/step - loss: 0.4678 - accuracy: 0.9058 - val_loss: 1.7938 - val_accuracy: 0.4635\n",
            "Epoch 21/40\n",
            "40/40 [==============================] - 0s 9ms/step - loss: 0.4219 - accuracy: 0.9118 - val_loss: 1.7930 - val_accuracy: 0.4635\n",
            "Epoch 22/40\n",
            "40/40 [==============================] - 0s 10ms/step - loss: 0.3981 - accuracy: 0.9158 - val_loss: 1.8648 - val_accuracy: 0.4466\n",
            "Epoch 23/40\n",
            "40/40 [==============================] - 0s 9ms/step - loss: 0.3857 - accuracy: 0.9148 - val_loss: 1.9161 - val_accuracy: 0.4579\n",
            "Epoch 24/40\n",
            "40/40 [==============================] - 0s 10ms/step - loss: 0.3518 - accuracy: 0.9299 - val_loss: 1.8199 - val_accuracy: 0.4607\n",
            "Epoch 25/40\n",
            "40/40 [==============================] - 0s 9ms/step - loss: 0.3188 - accuracy: 0.9399 - val_loss: 1.8114 - val_accuracy: 0.5028\n",
            "Epoch 26/40\n",
            "40/40 [==============================] - 0s 9ms/step - loss: 0.3178 - accuracy: 0.9329 - val_loss: 1.7452 - val_accuracy: 0.4916\n",
            "Epoch 27/40\n",
            "40/40 [==============================] - 0s 9ms/step - loss: 0.2808 - accuracy: 0.9409 - val_loss: 1.7569 - val_accuracy: 0.4916\n",
            "Epoch 28/40\n",
            "40/40 [==============================] - 0s 9ms/step - loss: 0.2473 - accuracy: 0.9539 - val_loss: 1.7571 - val_accuracy: 0.4972\n",
            "Epoch 29/40\n",
            "40/40 [==============================] - 0s 9ms/step - loss: 0.2533 - accuracy: 0.9459 - val_loss: 1.7895 - val_accuracy: 0.5197\n",
            "Epoch 30/40\n",
            "40/40 [==============================] - 0s 9ms/step - loss: 0.2243 - accuracy: 0.9679 - val_loss: 1.7873 - val_accuracy: 0.5253\n",
            "Epoch 31/40\n",
            "40/40 [==============================] - 0s 9ms/step - loss: 0.2008 - accuracy: 0.9639 - val_loss: 1.9553 - val_accuracy: 0.5140\n",
            "Epoch 32/40\n",
            "40/40 [==============================] - 0s 9ms/step - loss: 0.2007 - accuracy: 0.9659 - val_loss: 2.0454 - val_accuracy: 0.4972\n",
            "Epoch 33/40\n",
            "40/40 [==============================] - 0s 9ms/step - loss: 0.1853 - accuracy: 0.9699 - val_loss: 1.9454 - val_accuracy: 0.4719\n",
            "Epoch 34/40\n",
            "40/40 [==============================] - 0s 9ms/step - loss: 0.1842 - accuracy: 0.9679 - val_loss: 2.1474 - val_accuracy: 0.4747\n",
            "Epoch 35/40\n",
            "40/40 [==============================] - 0s 10ms/step - loss: 0.1701 - accuracy: 0.9780 - val_loss: 2.1300 - val_accuracy: 0.4803\n",
            "Epoch 36/40\n",
            "40/40 [==============================] - 0s 9ms/step - loss: 0.1689 - accuracy: 0.9749 - val_loss: 1.9043 - val_accuracy: 0.5112\n",
            "Epoch 37/40\n",
            "40/40 [==============================] - 0s 9ms/step - loss: 0.1595 - accuracy: 0.9719 - val_loss: 1.9004 - val_accuracy: 0.4972\n",
            "Epoch 38/40\n",
            "40/40 [==============================] - 0s 10ms/step - loss: 0.1446 - accuracy: 0.9749 - val_loss: 2.3017 - val_accuracy: 0.4663\n",
            "Epoch 39/40\n",
            "40/40 [==============================] - 0s 10ms/step - loss: 0.1289 - accuracy: 0.9850 - val_loss: 2.3648 - val_accuracy: 0.4831\n",
            "Epoch 40/40\n",
            "40/40 [==============================] - 0s 9ms/step - loss: 0.1513 - accuracy: 0.9749 - val_loss: 2.5134 - val_accuracy: 0.4747\n"
          ],
          "name": "stdout"
        },
        {
          "output_type": "display_data",
          "data": {
            "image/png": "[encoded data removed]",
            "text/plain": [
              "<Figure size 432x288 with 1 Axes>"
            ]
          },
          "metadata": {
            "tags": [],
            "needs_background": "light"
          }
        }
      ]
    },
    {
      "cell_type": "code",
      "metadata": {
        "colab": {
          "base_uri": "https://localhost:8080/",
          "height": 1000
        },
        "id": "7aYME8PefYFr",
        "outputId": "f9dd13cf-7069-48c6-dddd-ce02fba99ad7"
      },
      "source": [
        "xLen = 75\n",
        "step = 5\n",
        "xTrain, yTrain = createSetMultiClasses(trainWordIndexes, xLen, step)\n",
        "xTest, yTest = createSetMultiClasses(testWordIndexes, xLen, step)\n",
        "model = Sequential()\n",
        "model.add(Embedding(500, 12, input_length=xLen))\n",
        "model.add(Conv1D(20, 5, activation=\"relu\", padding='same')) \n",
        "model.add(Conv1D(20, 5, activation=\"relu\"))\n",
        "model.add(SpatialDropout1D(0.2))\n",
        "model.add(LSTM(4))\n",
        "model.add(Flatten())\n",
        "model.add(BatchNormalization())\n",
        "model.add(Dense(10, activation='softmax'))\n",
        "\n",
        "model.compile(optimizer='adam', \n",
        "              loss='categorical_crossentropy', \n",
        "              metrics=['accuracy'])\n",
        "\n",
        "history = model.fit(xTrain, \n",
        "                    yTrain, \n",
        "                    epochs=70,\n",
        "                    batch_size=25,\n",
        "                    validation_data=(xTest, yTest))\n",
        "\n",
        "plt.plot(history.history['accuracy'], \n",
        "         label='Доля верных ответов на обучающем наборе')\n",
        "plt.plot(history.history['val_accuracy'], \n",
        "         label='Доля верных ответов на проверочном наборе')\n",
        "plt.xlabel('Эпоха обучения')\n",
        "plt.ylabel('Доля верных ответов')\n",
        "plt.legend()\n",
        "plt.show()"
      ],
      "execution_count": 38,
      "outputs": [
        {
          "output_type": "stream",
          "text": [
            "Epoch 1/70\n",
            "40/40 [==============================] - 2s 19ms/step - loss: 2.2730 - accuracy: 0.1353 - val_loss: 2.2861 - val_accuracy: 0.2219\n",
            "Epoch 2/70\n",
            "40/40 [==============================] - 0s 10ms/step - loss: 2.1134 - accuracy: 0.2725 - val_loss: 2.2696 - val_accuracy: 0.2388\n",
            "Epoch 3/70\n",
            "40/40 [==============================] - 0s 9ms/step - loss: 1.8076 - accuracy: 0.4088 - val_loss: 2.2693 - val_accuracy: 0.1433\n",
            "Epoch 4/70\n",
            "40/40 [==============================] - 0s 9ms/step - loss: 1.5151 - accuracy: 0.5060 - val_loss: 2.2277 - val_accuracy: 0.1994\n",
            "Epoch 5/70\n",
            "40/40 [==============================] - 0s 9ms/step - loss: 1.3342 - accuracy: 0.5661 - val_loss: 2.1184 - val_accuracy: 0.3567\n",
            "Epoch 6/70\n",
            "40/40 [==============================] - 0s 9ms/step - loss: 1.1895 - accuracy: 0.6202 - val_loss: 2.1050 - val_accuracy: 0.3258\n",
            "Epoch 7/70\n",
            "40/40 [==============================] - 0s 10ms/step - loss: 1.0694 - accuracy: 0.6874 - val_loss: 1.9498 - val_accuracy: 0.4466\n",
            "Epoch 8/70\n",
            "40/40 [==============================] - 0s 10ms/step - loss: 0.9679 - accuracy: 0.7435 - val_loss: 1.8617 - val_accuracy: 0.4298\n",
            "Epoch 9/70\n",
            "40/40 [==============================] - 0s 10ms/step - loss: 0.8774 - accuracy: 0.8006 - val_loss: 1.7564 - val_accuracy: 0.4494\n",
            "Epoch 10/70\n",
            "40/40 [==============================] - 0s 9ms/step - loss: 0.8166 - accuracy: 0.8277 - val_loss: 1.6329 - val_accuracy: 0.5084\n",
            "Epoch 11/70\n",
            "40/40 [==============================] - 0s 9ms/step - loss: 0.7342 - accuracy: 0.8567 - val_loss: 1.5612 - val_accuracy: 0.4944\n",
            "Epoch 12/70\n",
            "40/40 [==============================] - 0s 9ms/step - loss: 0.6783 - accuracy: 0.8747 - val_loss: 1.5439 - val_accuracy: 0.4719\n",
            "Epoch 13/70\n",
            "40/40 [==============================] - 0s 9ms/step - loss: 0.6342 - accuracy: 0.8858 - val_loss: 1.4556 - val_accuracy: 0.5393\n",
            "Epoch 14/70\n",
            "40/40 [==============================] - 0s 9ms/step - loss: 0.5669 - accuracy: 0.8948 - val_loss: 1.4880 - val_accuracy: 0.5281\n",
            "Epoch 15/70\n",
            "40/40 [==============================] - 0s 9ms/step - loss: 0.5196 - accuracy: 0.8978 - val_loss: 1.5166 - val_accuracy: 0.5562\n",
            "Epoch 16/70\n",
            "40/40 [==============================] - 0s 9ms/step - loss: 0.4635 - accuracy: 0.9148 - val_loss: 1.4188 - val_accuracy: 0.5758\n",
            "Epoch 17/70\n",
            "40/40 [==============================] - 0s 9ms/step - loss: 0.4474 - accuracy: 0.9218 - val_loss: 1.6358 - val_accuracy: 0.4663\n",
            "Epoch 18/70\n",
            "40/40 [==============================] - 0s 9ms/step - loss: 0.4241 - accuracy: 0.9208 - val_loss: 1.4882 - val_accuracy: 0.5365\n",
            "Epoch 19/70\n",
            "40/40 [==============================] - 0s 9ms/step - loss: 0.3846 - accuracy: 0.9299 - val_loss: 1.5407 - val_accuracy: 0.5421\n",
            "Epoch 20/70\n",
            "40/40 [==============================] - 0s 9ms/step - loss: 0.3484 - accuracy: 0.9329 - val_loss: 1.4896 - val_accuracy: 0.5225\n",
            "Epoch 21/70\n",
            "40/40 [==============================] - 0s 9ms/step - loss: 0.3261 - accuracy: 0.9419 - val_loss: 1.4438 - val_accuracy: 0.5590\n",
            "Epoch 22/70\n",
            "40/40 [==============================] - 0s 9ms/step - loss: 0.3169 - accuracy: 0.9309 - val_loss: 1.5966 - val_accuracy: 0.5253\n",
            "Epoch 23/70\n",
            "40/40 [==============================] - 0s 9ms/step - loss: 0.2887 - accuracy: 0.9439 - val_loss: 1.3790 - val_accuracy: 0.5871\n",
            "Epoch 24/70\n",
            "40/40 [==============================] - 0s 9ms/step - loss: 0.2653 - accuracy: 0.9439 - val_loss: 1.4592 - val_accuracy: 0.5955\n",
            "Epoch 25/70\n",
            "40/40 [==============================] - 0s 9ms/step - loss: 0.2685 - accuracy: 0.9419 - val_loss: 1.5348 - val_accuracy: 0.5506\n",
            "Epoch 26/70\n",
            "40/40 [==============================] - 0s 9ms/step - loss: 0.2384 - accuracy: 0.9459 - val_loss: 1.4440 - val_accuracy: 0.5787\n",
            "Epoch 27/70\n",
            "40/40 [==============================] - 0s 9ms/step - loss: 0.2255 - accuracy: 0.9469 - val_loss: 1.4452 - val_accuracy: 0.5449\n",
            "Epoch 28/70\n",
            "40/40 [==============================] - 0s 10ms/step - loss: 0.2336 - accuracy: 0.9439 - val_loss: 1.3693 - val_accuracy: 0.5955\n",
            "Epoch 29/70\n",
            "40/40 [==============================] - 0s 9ms/step - loss: 0.2140 - accuracy: 0.9529 - val_loss: 1.4468 - val_accuracy: 0.5955\n",
            "Epoch 30/70\n",
            "40/40 [==============================] - 0s 9ms/step - loss: 0.2124 - accuracy: 0.9609 - val_loss: 1.6345 - val_accuracy: 0.5758\n",
            "Epoch 31/70\n",
            "40/40 [==============================] - 0s 9ms/step - loss: 0.2071 - accuracy: 0.9489 - val_loss: 1.4579 - val_accuracy: 0.6067\n",
            "Epoch 32/70\n",
            "40/40 [==============================] - 0s 9ms/step - loss: 0.1819 - accuracy: 0.9629 - val_loss: 1.4931 - val_accuracy: 0.6320\n",
            "Epoch 33/70\n",
            "40/40 [==============================] - 0s 9ms/step - loss: 0.1864 - accuracy: 0.9499 - val_loss: 1.5497 - val_accuracy: 0.5534\n",
            "Epoch 34/70\n",
            "40/40 [==============================] - 0s 9ms/step - loss: 0.1732 - accuracy: 0.9669 - val_loss: 1.5068 - val_accuracy: 0.6124\n",
            "Epoch 35/70\n",
            "40/40 [==============================] - 0s 9ms/step - loss: 0.1870 - accuracy: 0.9549 - val_loss: 1.7735 - val_accuracy: 0.5421\n",
            "Epoch 36/70\n",
            "40/40 [==============================] - 0s 9ms/step - loss: 0.1710 - accuracy: 0.9609 - val_loss: 1.6269 - val_accuracy: 0.5871\n",
            "Epoch 37/70\n",
            "40/40 [==============================] - 0s 9ms/step - loss: 0.1793 - accuracy: 0.9659 - val_loss: 1.5692 - val_accuracy: 0.5983\n",
            "Epoch 38/70\n",
            "40/40 [==============================] - 0s 10ms/step - loss: 0.1732 - accuracy: 0.9579 - val_loss: 1.5029 - val_accuracy: 0.5730\n",
            "Epoch 39/70\n",
            "40/40 [==============================] - 0s 9ms/step - loss: 0.1525 - accuracy: 0.9689 - val_loss: 1.5756 - val_accuracy: 0.5899\n",
            "Epoch 40/70\n",
            "40/40 [==============================] - 0s 9ms/step - loss: 0.1563 - accuracy: 0.9659 - val_loss: 1.5231 - val_accuracy: 0.5787\n",
            "Epoch 41/70\n",
            "40/40 [==============================] - 0s 9ms/step - loss: 0.1439 - accuracy: 0.9699 - val_loss: 1.5523 - val_accuracy: 0.5899\n",
            "Epoch 42/70\n",
            "40/40 [==============================] - 0s 9ms/step - loss: 0.1448 - accuracy: 0.9739 - val_loss: 1.4226 - val_accuracy: 0.6180\n",
            "Epoch 43/70\n",
            "40/40 [==============================] - 0s 9ms/step - loss: 0.1437 - accuracy: 0.9669 - val_loss: 1.8637 - val_accuracy: 0.5421\n",
            "Epoch 44/70\n",
            "40/40 [==============================] - 0s 9ms/step - loss: 0.1506 - accuracy: 0.9709 - val_loss: 1.6955 - val_accuracy: 0.5702\n",
            "Epoch 45/70\n",
            "40/40 [==============================] - 0s 9ms/step - loss: 0.1167 - accuracy: 0.9739 - val_loss: 1.5632 - val_accuracy: 0.6067\n",
            "Epoch 46/70\n",
            "40/40 [==============================] - 0s 9ms/step - loss: 0.1227 - accuracy: 0.9770 - val_loss: 1.7235 - val_accuracy: 0.5871\n",
            "Epoch 47/70\n",
            "40/40 [==============================] - 0s 9ms/step - loss: 0.1234 - accuracy: 0.9719 - val_loss: 1.5860 - val_accuracy: 0.6039\n",
            "Epoch 48/70\n",
            "40/40 [==============================] - 0s 9ms/step - loss: 0.1111 - accuracy: 0.9880 - val_loss: 1.5519 - val_accuracy: 0.6208\n",
            "Epoch 49/70\n",
            "40/40 [==============================] - 0s 9ms/step - loss: 0.1066 - accuracy: 0.9830 - val_loss: 1.7942 - val_accuracy: 0.5506\n",
            "Epoch 50/70\n",
            "40/40 [==============================] - 0s 9ms/step - loss: 0.1210 - accuracy: 0.9800 - val_loss: 1.5874 - val_accuracy: 0.5674\n",
            "Epoch 51/70\n",
            "40/40 [==============================] - 0s 9ms/step - loss: 0.1177 - accuracy: 0.9719 - val_loss: 1.5288 - val_accuracy: 0.6208\n",
            "Epoch 52/70\n",
            "40/40 [==============================] - 0s 9ms/step - loss: 0.1493 - accuracy: 0.9589 - val_loss: 1.5159 - val_accuracy: 0.6124\n",
            "Epoch 53/70\n",
            "40/40 [==============================] - 0s 9ms/step - loss: 0.1229 - accuracy: 0.9639 - val_loss: 1.7623 - val_accuracy: 0.5562\n",
            "Epoch 54/70\n",
            "40/40 [==============================] - 0s 9ms/step - loss: 0.0998 - accuracy: 0.9840 - val_loss: 1.8776 - val_accuracy: 0.5506\n",
            "Epoch 55/70\n",
            "40/40 [==============================] - 0s 9ms/step - loss: 0.1043 - accuracy: 0.9790 - val_loss: 1.7483 - val_accuracy: 0.5590\n",
            "Epoch 56/70\n",
            "40/40 [==============================] - 0s 9ms/step - loss: 0.0921 - accuracy: 0.9810 - val_loss: 1.8408 - val_accuracy: 0.5562\n",
            "Epoch 57/70\n",
            "40/40 [==============================] - 0s 10ms/step - loss: 0.0991 - accuracy: 0.9790 - val_loss: 1.7153 - val_accuracy: 0.5674\n",
            "Epoch 58/70\n",
            "40/40 [==============================] - 0s 10ms/step - loss: 0.0956 - accuracy: 0.9810 - val_loss: 1.9674 - val_accuracy: 0.5899\n",
            "Epoch 59/70\n",
            "40/40 [==============================] - 0s 9ms/step - loss: 0.0973 - accuracy: 0.9840 - val_loss: 1.8450 - val_accuracy: 0.5983\n",
            "Epoch 60/70\n",
            "40/40 [==============================] - 0s 9ms/step - loss: 0.1132 - accuracy: 0.9830 - val_loss: 2.0323 - val_accuracy: 0.5337\n",
            "Epoch 61/70\n",
            "40/40 [==============================] - 0s 9ms/step - loss: 0.0933 - accuracy: 0.9830 - val_loss: 1.9485 - val_accuracy: 0.5871\n",
            "Epoch 62/70\n",
            "40/40 [==============================] - 0s 9ms/step - loss: 0.0980 - accuracy: 0.9770 - val_loss: 2.0286 - val_accuracy: 0.5815\n",
            "Epoch 63/70\n",
            "40/40 [==============================] - 0s 9ms/step - loss: 0.1177 - accuracy: 0.9719 - val_loss: 2.6243 - val_accuracy: 0.4831\n",
            "Epoch 64/70\n",
            "40/40 [==============================] - 0s 9ms/step - loss: 0.0862 - accuracy: 0.9830 - val_loss: 1.7660 - val_accuracy: 0.5899\n",
            "Epoch 65/70\n",
            "40/40 [==============================] - 0s 9ms/step - loss: 0.0675 - accuracy: 0.9890 - val_loss: 1.9027 - val_accuracy: 0.5478\n",
            "Epoch 66/70\n",
            "40/40 [==============================] - 0s 10ms/step - loss: 0.0644 - accuracy: 0.9910 - val_loss: 1.8454 - val_accuracy: 0.5787\n",
            "Epoch 67/70\n",
            "40/40 [==============================] - 0s 9ms/step - loss: 0.0640 - accuracy: 0.9910 - val_loss: 1.8500 - val_accuracy: 0.5730\n",
            "Epoch 68/70\n",
            "40/40 [==============================] - 0s 9ms/step - loss: 0.0607 - accuracy: 0.9950 - val_loss: 1.9915 - val_accuracy: 0.5562\n",
            "Epoch 69/70\n",
            "40/40 [==============================] - 0s 10ms/step - loss: 0.0715 - accuracy: 0.9850 - val_loss: 1.7685 - val_accuracy: 0.5927\n",
            "Epoch 70/70\n",
            "40/40 [==============================] - 0s 9ms/step - loss: 0.0833 - accuracy: 0.9870 - val_loss: 1.7381 - val_accuracy: 0.5955\n"
          ],
          "name": "stdout"
        },
        {
          "output_type": "display_data",
          "data": {
            "image/png": "[encoded data removed]",
            "text/plain": [
              "<Figure size 432x288 with 1 Axes>"
            ]
          },
          "metadata": {
            "tags": [],
            "needs_background": "light"
          }
        }
      ]
    },
    {
      "cell_type": "markdown",
      "metadata": {
        "id": "dNxPBcoTVbIQ"
      },
      "source": [
        "Ну между прочим стало немного лучше =) Но самое главное, что самостоятельный Embedding еще ни разу не показал себя хорошо. Давайте попробуем Bag of Words, хотя у нас будут сложности с разной размерностью при передаче в слои LSTM (если использовать их вместе)."
      ]
    },
    {
      "cell_type": "code",
      "metadata": {
        "id": "bhXwW80VZX5u"
      },
      "source": [
        "xLen = 50\n",
        "step = 5\n",
        "xTrain, yTrain = createSetMultiClasses(trainWordIndexes, xLen, step)\n",
        "xTest, yTest = createSetMultiClasses(testWordIndexes, xLen, step)\n",
        "xTrain01 = tokenizer.sequences_to_matrix(xTrain.tolist())\n",
        "xTest01 = tokenizer.sequences_to_matrix(xTest.tolist())\n",
        "# xTrain01 = np.expand_dims(xTrain01, axis=1)\n",
        "# xTest01 = np.expand_dims(xTest01, axis=1)"
      ],
      "execution_count": 43,
      "outputs": []
    },
    {
      "cell_type": "code",
      "metadata": {
        "colab": {
          "base_uri": "https://localhost:8080/",
          "height": 1000
        },
        "id": "lLK41erzcTCF",
        "outputId": "9b1d42ae-296c-4b15-d116-fc9555bbf2b3"
      },
      "source": [
        "# сначала напишем самую прсотенькую сеть\n",
        "model01 = Sequential()\n",
        "model01.add(Dense(200, input_dim=500, activation=\"relu\"))\n",
        "model01.add(Dropout(0.25))\n",
        "model01.add(BatchNormalization())\n",
        "model01.add(Dense(10, activation='softmax'))\n",
        "\n",
        "model01.compile(optimizer='adam', \n",
        "              loss='categorical_crossentropy', \n",
        "              metrics=['accuracy'])\n",
        "model.summary()\n",
        "\n",
        "history = model01.fit(xTrain01, \n",
        "                      yTrain, \n",
        "                      epochs=40,\n",
        "                      batch_size=25,\n",
        "                      validation_data=(xTest01, yTest))\n",
        "\n",
        "plt.plot(history.history['accuracy'], \n",
        "         label='Доля верных ответов на обучающем наборе')\n",
        "plt.plot(history.history['val_accuracy'], \n",
        "         label='Доля верных ответов на проверочном наборе')\n",
        "plt.xlabel('Эпоха обучения')\n",
        "plt.ylabel('Доля верных ответов')\n",
        "plt.legend()\n",
        "plt.show()"
      ],
      "execution_count": 50,
      "outputs": [
        {
          "output_type": "stream",
          "text": [
            "Model: \"sequential_16\"\n",
            "_________________________________________________________________\n",
            "Layer (type)                 Output Shape              Param #   \n",
            "=================================================================\n",
            "embedding_12 (Embedding)     (None, 75, 12)            6000      \n",
            "_________________________________________________________________\n",
            "conv1d_21 (Conv1D)           (None, 75, 20)            1220      \n",
            "_________________________________________________________________\n",
            "conv1d_22 (Conv1D)           (None, 71, 20)            2020      \n",
            "_________________________________________________________________\n",
            "spatial_dropout1d_10 (Spatia (None, 71, 20)            0         \n",
            "_________________________________________________________________\n",
            "lstm_10 (LSTM)               (None, 4)                 400       \n",
            "_________________________________________________________________\n",
            "flatten_11 (Flatten)         (None, 4)                 0         \n",
            "_________________________________________________________________\n",
            "batch_normalization_13 (Batc (None, 4)                 16        \n",
            "_________________________________________________________________\n",
            "dense_15 (Dense)             (None, 10)                50        \n",
            "=================================================================\n",
            "Total params: 9,706\n",
            "Trainable params: 9,698\n",
            "Non-trainable params: 8\n",
            "_________________________________________________________________\n",
            "Epoch 1/40\n",
            "42/42 [==============================] - 1s 7ms/step - loss: 1.0116 - accuracy: 0.7061 - val_loss: 1.7294 - val_accuracy: 0.6995\n",
            "Epoch 2/40\n",
            "42/42 [==============================] - 0s 4ms/step - loss: 0.0697 - accuracy: 0.9981 - val_loss: 1.5246 - val_accuracy: 0.7266\n",
            "Epoch 3/40\n",
            "42/42 [==============================] - 0s 4ms/step - loss: 0.0403 - accuracy: 0.9990 - val_loss: 1.3693 - val_accuracy: 0.7192\n",
            "Epoch 4/40\n",
            "42/42 [==============================] - 0s 4ms/step - loss: 0.0200 - accuracy: 1.0000 - val_loss: 1.2344 - val_accuracy: 0.7266\n",
            "Epoch 5/40\n",
            "42/42 [==============================] - 0s 5ms/step - loss: 0.0156 - accuracy: 1.0000 - val_loss: 1.1198 - val_accuracy: 0.7266\n",
            "Epoch 6/40\n",
            "42/42 [==============================] - 0s 4ms/step - loss: 0.0119 - accuracy: 1.0000 - val_loss: 1.0336 - val_accuracy: 0.7217\n",
            "Epoch 7/40\n",
            "42/42 [==============================] - 0s 4ms/step - loss: 0.0090 - accuracy: 1.0000 - val_loss: 0.9712 - val_accuracy: 0.7266\n",
            "Epoch 8/40\n",
            "42/42 [==============================] - 0s 4ms/step - loss: 0.0076 - accuracy: 1.0000 - val_loss: 0.9348 - val_accuracy: 0.7241\n",
            "Epoch 9/40\n",
            "42/42 [==============================] - 0s 5ms/step - loss: 0.0052 - accuracy: 1.0000 - val_loss: 0.9138 - val_accuracy: 0.7167\n",
            "Epoch 10/40\n",
            "42/42 [==============================] - 0s 4ms/step - loss: 0.0057 - accuracy: 1.0000 - val_loss: 0.9007 - val_accuracy: 0.7143\n",
            "Epoch 11/40\n",
            "42/42 [==============================] - 0s 4ms/step - loss: 0.0042 - accuracy: 1.0000 - val_loss: 0.8911 - val_accuracy: 0.7118\n",
            "Epoch 12/40\n",
            "42/42 [==============================] - 0s 5ms/step - loss: 0.0043 - accuracy: 1.0000 - val_loss: 0.8873 - val_accuracy: 0.7069\n",
            "Epoch 13/40\n",
            "42/42 [==============================] - 0s 5ms/step - loss: 0.0045 - accuracy: 1.0000 - val_loss: 0.8866 - val_accuracy: 0.7094\n",
            "Epoch 14/40\n",
            "42/42 [==============================] - 0s 4ms/step - loss: 0.0028 - accuracy: 1.0000 - val_loss: 0.8835 - val_accuracy: 0.7094\n",
            "Epoch 15/40\n",
            "42/42 [==============================] - 0s 4ms/step - loss: 0.0030 - accuracy: 1.0000 - val_loss: 0.8902 - val_accuracy: 0.6995\n",
            "Epoch 16/40\n",
            "42/42 [==============================] - 0s 4ms/step - loss: 0.0026 - accuracy: 1.0000 - val_loss: 0.8903 - val_accuracy: 0.7020\n",
            "Epoch 17/40\n",
            "42/42 [==============================] - 0s 4ms/step - loss: 0.0019 - accuracy: 1.0000 - val_loss: 0.8910 - val_accuracy: 0.7044\n",
            "Epoch 18/40\n",
            "42/42 [==============================] - 0s 5ms/step - loss: 0.0023 - accuracy: 1.0000 - val_loss: 0.8935 - val_accuracy: 0.7044\n",
            "Epoch 19/40\n",
            "42/42 [==============================] - 0s 4ms/step - loss: 0.0017 - accuracy: 1.0000 - val_loss: 0.8935 - val_accuracy: 0.7020\n",
            "Epoch 20/40\n",
            "42/42 [==============================] - 0s 4ms/step - loss: 0.0017 - accuracy: 1.0000 - val_loss: 0.8947 - val_accuracy: 0.7020\n",
            "Epoch 21/40\n",
            "42/42 [==============================] - 0s 5ms/step - loss: 0.0015 - accuracy: 1.0000 - val_loss: 0.8882 - val_accuracy: 0.7069\n",
            "Epoch 22/40\n",
            "42/42 [==============================] - 0s 4ms/step - loss: 0.0015 - accuracy: 1.0000 - val_loss: 0.8833 - val_accuracy: 0.7094\n",
            "Epoch 23/40\n",
            "42/42 [==============================] - 0s 5ms/step - loss: 0.0012 - accuracy: 1.0000 - val_loss: 0.8824 - val_accuracy: 0.6995\n",
            "Epoch 24/40\n",
            "42/42 [==============================] - 0s 4ms/step - loss: 0.0013 - accuracy: 1.0000 - val_loss: 0.8813 - val_accuracy: 0.7020\n",
            "Epoch 25/40\n",
            "42/42 [==============================] - 0s 4ms/step - loss: 0.0011 - accuracy: 1.0000 - val_loss: 0.8809 - val_accuracy: 0.7020\n",
            "Epoch 26/40\n",
            "42/42 [==============================] - 0s 5ms/step - loss: 0.0011 - accuracy: 1.0000 - val_loss: 0.8820 - val_accuracy: 0.7069\n",
            "Epoch 27/40\n",
            "42/42 [==============================] - 0s 4ms/step - loss: 9.5682e-04 - accuracy: 1.0000 - val_loss: 0.8836 - val_accuracy: 0.7094\n",
            "Epoch 28/40\n",
            "42/42 [==============================] - 0s 5ms/step - loss: 9.8669e-04 - accuracy: 1.0000 - val_loss: 0.8861 - val_accuracy: 0.7143\n",
            "Epoch 29/40\n",
            "42/42 [==============================] - 0s 4ms/step - loss: 0.0011 - accuracy: 1.0000 - val_loss: 0.8854 - val_accuracy: 0.7192\n",
            "Epoch 30/40\n",
            "42/42 [==============================] - 0s 4ms/step - loss: 7.0546e-04 - accuracy: 1.0000 - val_loss: 0.8851 - val_accuracy: 0.7192\n",
            "Epoch 31/40\n",
            "42/42 [==============================] - 0s 5ms/step - loss: 6.6572e-04 - accuracy: 1.0000 - val_loss: 0.8842 - val_accuracy: 0.7167\n",
            "Epoch 32/40\n",
            "42/42 [==============================] - 0s 5ms/step - loss: 6.8829e-04 - accuracy: 1.0000 - val_loss: 0.8889 - val_accuracy: 0.7118\n",
            "Epoch 33/40\n",
            "42/42 [==============================] - 0s 5ms/step - loss: 6.6737e-04 - accuracy: 1.0000 - val_loss: 0.8862 - val_accuracy: 0.7094\n",
            "Epoch 34/40\n",
            "42/42 [==============================] - 0s 4ms/step - loss: 5.6745e-04 - accuracy: 1.0000 - val_loss: 0.8841 - val_accuracy: 0.7094\n",
            "Epoch 35/40\n",
            "42/42 [==============================] - 0s 4ms/step - loss: 5.9992e-04 - accuracy: 1.0000 - val_loss: 0.8859 - val_accuracy: 0.7118\n",
            "Epoch 36/40\n",
            "42/42 [==============================] - 0s 4ms/step - loss: 5.5277e-04 - accuracy: 1.0000 - val_loss: 0.8875 - val_accuracy: 0.7143\n",
            "Epoch 37/40\n",
            "42/42 [==============================] - 0s 4ms/step - loss: 6.1718e-04 - accuracy: 1.0000 - val_loss: 0.8874 - val_accuracy: 0.7167\n",
            "Epoch 38/40\n",
            "42/42 [==============================] - 0s 4ms/step - loss: 5.4782e-04 - accuracy: 1.0000 - val_loss: 0.8876 - val_accuracy: 0.7167\n",
            "Epoch 39/40\n",
            "42/42 [==============================] - 0s 4ms/step - loss: 4.6045e-04 - accuracy: 1.0000 - val_loss: 0.8883 - val_accuracy: 0.7167\n",
            "Epoch 40/40\n",
            "42/42 [==============================] - 0s 4ms/step - loss: 4.0656e-04 - accuracy: 1.0000 - val_loss: 0.8864 - val_accuracy: 0.7167\n"
          ],
          "name": "stdout"
        },
        {
          "output_type": "display_data",
          "data": {
            "image/png": "[encoded data removed]",
            "text/plain": [
              "<Figure size 432x288 with 1 Axes>"
            ]
          },
          "metadata": {
            "tags": [],
            "needs_background": "light"
          }
        }
      ]
    },
    {
      "cell_type": "code",
      "metadata": {
        "id": "RBr3oYETcbZr"
      },
      "source": [
        "# А что если взять прошлую структуру...\n",
        "xLen = 50\n",
        "step = 5\n",
        "xTrain, yTrain = createSetMultiClasses(trainWordIndexes, xLen, step)\n",
        "xTest, yTest = createSetMultiClasses(testWordIndexes, xLen, step)\n",
        "xTrain01 = tokenizer.sequences_to_matrix(xTrain.tolist())\n",
        "xTest01 = tokenizer.sequences_to_matrix(xTest.tolist())\n",
        "xTrain01 = np.expand_dims(xTrain01, axis=2)\n",
        "xTest01 = np.expand_dims(xTest01, axis=2)"
      ],
      "execution_count": 64,
      "outputs": []
    },
    {
      "cell_type": "code",
      "metadata": {
        "colab": {
          "base_uri": "https://localhost:8080/"
        },
        "id": "XJ1IiuoOtSW1",
        "outputId": "bd6f2d6d-6f05-4752-8e14-578487228670"
      },
      "source": [
        "xTest01.shape"
      ],
      "execution_count": 65,
      "outputs": [
        {
          "output_type": "execute_result",
          "data": {
            "text/plain": [
              "(406, 500, 1)"
            ]
          },
          "metadata": {
            "tags": []
          },
          "execution_count": 65
        }
      ]
    },
    {
      "cell_type": "code",
      "metadata": {
        "colab": {
          "base_uri": "https://localhost:8080/",
          "height": 1000
        },
        "id": "1W3gGtwysc-b",
        "outputId": "c664028e-42e7-4238-c426-1c8378ce8d01"
      },
      "source": [
        "model = Sequential()\n",
        "# model.add(Dense(200, input_dim=500, activation=\"relu\"))\n",
        "# model.add(Dropout(0.25))\n",
        "model.add(LSTM(4))\n",
        "model.add(Flatten())\n",
        "model.add(Dense(200, activation=\"relu\"))\n",
        "model.add(Dropout(0.25))\n",
        "model.add(BatchNormalization())\n",
        "model.add(Dense(10, activation='softmax'))\n",
        "\n",
        "model.compile(optimizer='adam', \n",
        "              loss='categorical_crossentropy', \n",
        "              metrics=['accuracy'])\n",
        "\n",
        "history = model.fit(xTrain01, \n",
        "                    yTrain, \n",
        "                    epochs=70,\n",
        "                    batch_size=25,\n",
        "                    validation_data=(xTest01, yTest))\n",
        "\n",
        "plt.plot(history.history['accuracy'], \n",
        "         label='Доля верных ответов на обучающем наборе')\n",
        "plt.plot(history.history['val_accuracy'], \n",
        "         label='Доля верных ответов на проверочном наборе')\n",
        "plt.xlabel('Эпоха обучения')\n",
        "plt.ylabel('Доля верных ответов')\n",
        "plt.legend()\n",
        "plt.show()"
      ],
      "execution_count": 69,
      "outputs": [
        {
          "output_type": "stream",
          "text": [
            "Epoch 1/70\n",
            "42/42 [==============================] - 3s 30ms/step - loss: 2.2107 - accuracy: 0.1975 - val_loss: 2.2401 - val_accuracy: 0.2069\n",
            "Epoch 2/70\n",
            "42/42 [==============================] - 1s 19ms/step - loss: 2.1130 - accuracy: 0.2366 - val_loss: 2.2043 - val_accuracy: 0.2069\n",
            "Epoch 3/70\n",
            "42/42 [==============================] - 1s 20ms/step - loss: 2.0684 - accuracy: 0.2567 - val_loss: 2.2024 - val_accuracy: 0.1823\n",
            "Epoch 4/70\n",
            "42/42 [==============================] - 1s 20ms/step - loss: 2.0418 - accuracy: 0.2653 - val_loss: 2.2050 - val_accuracy: 0.1773\n",
            "Epoch 5/70\n",
            "42/42 [==============================] - 1s 20ms/step - loss: 2.0270 - accuracy: 0.2653 - val_loss: 2.2010 - val_accuracy: 0.1552\n",
            "Epoch 6/70\n",
            "42/42 [==============================] - 1s 20ms/step - loss: 1.9662 - accuracy: 0.2939 - val_loss: 2.1958 - val_accuracy: 0.1552\n",
            "Epoch 7/70\n",
            "42/42 [==============================] - 1s 19ms/step - loss: 1.8391 - accuracy: 0.3426 - val_loss: 2.1689 - val_accuracy: 0.1749\n",
            "Epoch 8/70\n",
            "42/42 [==============================] - 1s 19ms/step - loss: 1.6438 - accuracy: 0.4246 - val_loss: 2.1743 - val_accuracy: 0.1798\n",
            "Epoch 9/70\n",
            "42/42 [==============================] - 1s 20ms/step - loss: 1.5600 - accuracy: 0.4532 - val_loss: 2.1687 - val_accuracy: 0.2685\n",
            "Epoch 10/70\n",
            "42/42 [==============================] - 1s 19ms/step - loss: 1.4633 - accuracy: 0.4962 - val_loss: 2.1871 - val_accuracy: 0.2833\n",
            "Epoch 11/70\n",
            "42/42 [==============================] - 1s 20ms/step - loss: 1.4280 - accuracy: 0.4819 - val_loss: 2.1918 - val_accuracy: 0.2685\n",
            "Epoch 12/70\n",
            "42/42 [==============================] - 1s 19ms/step - loss: 1.3751 - accuracy: 0.4952 - val_loss: 2.2643 - val_accuracy: 0.2512\n",
            "Epoch 13/70\n",
            "42/42 [==============================] - 1s 19ms/step - loss: 1.3860 - accuracy: 0.4857 - val_loss: 2.2440 - val_accuracy: 0.2808\n",
            "Epoch 14/70\n",
            "42/42 [==============================] - 1s 20ms/step - loss: 1.3464 - accuracy: 0.5010 - val_loss: 2.4410 - val_accuracy: 0.2463\n",
            "Epoch 15/70\n",
            "42/42 [==============================] - 1s 19ms/step - loss: 1.3557 - accuracy: 0.4876 - val_loss: 2.3569 - val_accuracy: 0.2340\n",
            "Epoch 16/70\n",
            "42/42 [==============================] - 1s 19ms/step - loss: 1.3248 - accuracy: 0.4914 - val_loss: 2.4576 - val_accuracy: 0.2759\n",
            "Epoch 17/70\n",
            "42/42 [==============================] - 1s 19ms/step - loss: 1.2976 - accuracy: 0.5181 - val_loss: 2.4807 - val_accuracy: 0.2660\n",
            "Epoch 18/70\n",
            "42/42 [==============================] - 1s 20ms/step - loss: 1.3338 - accuracy: 0.5076 - val_loss: 2.5048 - val_accuracy: 0.2438\n",
            "Epoch 19/70\n",
            "42/42 [==============================] - 1s 19ms/step - loss: 1.3334 - accuracy: 0.5210 - val_loss: 2.4136 - val_accuracy: 0.2759\n",
            "Epoch 20/70\n",
            "42/42 [==============================] - 1s 19ms/step - loss: 1.2952 - accuracy: 0.5305 - val_loss: 2.7297 - val_accuracy: 0.2512\n",
            "Epoch 21/70\n",
            "42/42 [==============================] - 1s 20ms/step - loss: 1.3006 - accuracy: 0.5095 - val_loss: 2.7344 - val_accuracy: 0.2266\n",
            "Epoch 22/70\n",
            "42/42 [==============================] - 1s 20ms/step - loss: 1.2908 - accuracy: 0.5248 - val_loss: 2.5670 - val_accuracy: 0.3128\n",
            "Epoch 23/70\n",
            "42/42 [==============================] - 1s 20ms/step - loss: 1.2870 - accuracy: 0.5258 - val_loss: 2.7560 - val_accuracy: 0.2488\n",
            "Epoch 24/70\n",
            "42/42 [==============================] - 1s 20ms/step - loss: 1.2782 - accuracy: 0.5277 - val_loss: 2.7911 - val_accuracy: 0.2808\n",
            "Epoch 25/70\n",
            "42/42 [==============================] - 1s 19ms/step - loss: 1.2575 - accuracy: 0.5305 - val_loss: 2.4658 - val_accuracy: 0.3005\n",
            "Epoch 26/70\n",
            "42/42 [==============================] - 1s 19ms/step - loss: 1.2716 - accuracy: 0.5248 - val_loss: 2.5938 - val_accuracy: 0.2438\n",
            "Epoch 27/70\n",
            "42/42 [==============================] - 1s 20ms/step - loss: 1.2879 - accuracy: 0.5191 - val_loss: 2.7708 - val_accuracy: 0.2537\n",
            "Epoch 28/70\n",
            "42/42 [==============================] - 1s 20ms/step - loss: 1.2502 - accuracy: 0.5334 - val_loss: 2.5538 - val_accuracy: 0.2734\n",
            "Epoch 29/70\n",
            "42/42 [==============================] - 1s 20ms/step - loss: 1.2797 - accuracy: 0.5210 - val_loss: 2.8274 - val_accuracy: 0.2611\n",
            "Epoch 30/70\n",
            "42/42 [==============================] - 1s 20ms/step - loss: 1.2512 - accuracy: 0.5181 - val_loss: 2.7016 - val_accuracy: 0.2512\n",
            "Epoch 31/70\n",
            "42/42 [==============================] - 1s 20ms/step - loss: 1.2529 - accuracy: 0.5372 - val_loss: 2.6956 - val_accuracy: 0.2463\n",
            "Epoch 32/70\n",
            "42/42 [==============================] - 1s 19ms/step - loss: 1.2478 - accuracy: 0.5372 - val_loss: 2.7241 - val_accuracy: 0.2414\n",
            "Epoch 33/70\n",
            "42/42 [==============================] - 1s 20ms/step - loss: 1.2327 - accuracy: 0.5468 - val_loss: 2.8812 - val_accuracy: 0.2537\n",
            "Epoch 34/70\n",
            "42/42 [==============================] - 1s 20ms/step - loss: 1.2625 - accuracy: 0.5286 - val_loss: 2.6446 - val_accuracy: 0.2685\n",
            "Epoch 35/70\n",
            "42/42 [==============================] - 1s 19ms/step - loss: 1.2518 - accuracy: 0.5134 - val_loss: 2.6899 - val_accuracy: 0.2365\n",
            "Epoch 36/70\n",
            "42/42 [==============================] - 1s 20ms/step - loss: 1.2324 - accuracy: 0.5324 - val_loss: 2.6920 - val_accuracy: 0.2611\n",
            "Epoch 37/70\n",
            "42/42 [==============================] - 1s 20ms/step - loss: 1.2409 - accuracy: 0.5363 - val_loss: 2.8726 - val_accuracy: 0.2635\n",
            "Epoch 38/70\n",
            "42/42 [==============================] - 1s 20ms/step - loss: 1.2396 - accuracy: 0.5391 - val_loss: 2.8803 - val_accuracy: 0.2266\n",
            "Epoch 39/70\n",
            "42/42 [==============================] - 1s 19ms/step - loss: 1.2362 - accuracy: 0.5286 - val_loss: 2.9574 - val_accuracy: 0.2266\n",
            "Epoch 40/70\n",
            "42/42 [==============================] - 1s 20ms/step - loss: 1.2214 - accuracy: 0.5458 - val_loss: 2.8899 - val_accuracy: 0.2340\n",
            "Epoch 41/70\n",
            "42/42 [==============================] - 1s 20ms/step - loss: 1.2268 - accuracy: 0.5210 - val_loss: 2.9510 - val_accuracy: 0.2315\n",
            "Epoch 42/70\n",
            "42/42 [==============================] - 1s 20ms/step - loss: 1.2257 - accuracy: 0.5296 - val_loss: 2.7295 - val_accuracy: 0.2611\n",
            "Epoch 43/70\n",
            "42/42 [==============================] - 1s 20ms/step - loss: 1.2311 - accuracy: 0.5382 - val_loss: 3.0615 - val_accuracy: 0.2463\n",
            "Epoch 44/70\n",
            "42/42 [==============================] - 1s 20ms/step - loss: 1.2042 - accuracy: 0.5477 - val_loss: 2.8475 - val_accuracy: 0.2414\n",
            "Epoch 45/70\n",
            "42/42 [==============================] - 1s 19ms/step - loss: 1.2159 - accuracy: 0.5353 - val_loss: 2.9025 - val_accuracy: 0.2759\n",
            "Epoch 46/70\n",
            "42/42 [==============================] - 1s 19ms/step - loss: 1.2127 - accuracy: 0.5410 - val_loss: 3.1530 - val_accuracy: 0.2586\n",
            "Epoch 47/70\n",
            "42/42 [==============================] - 1s 20ms/step - loss: 1.2412 - accuracy: 0.5258 - val_loss: 2.7858 - val_accuracy: 0.2586\n",
            "Epoch 48/70\n",
            "42/42 [==============================] - 1s 19ms/step - loss: 1.1984 - accuracy: 0.5582 - val_loss: 2.8869 - val_accuracy: 0.2537\n",
            "Epoch 49/70\n",
            "42/42 [==============================] - 1s 19ms/step - loss: 1.2038 - accuracy: 0.5544 - val_loss: 2.8150 - val_accuracy: 0.2512\n",
            "Epoch 50/70\n",
            "42/42 [==============================] - 1s 20ms/step - loss: 1.1760 - accuracy: 0.5630 - val_loss: 2.9449 - val_accuracy: 0.2537\n",
            "Epoch 51/70\n",
            "42/42 [==============================] - 1s 19ms/step - loss: 1.1898 - accuracy: 0.5468 - val_loss: 2.9439 - val_accuracy: 0.2808\n",
            "Epoch 52/70\n",
            "42/42 [==============================] - 1s 19ms/step - loss: 1.1737 - accuracy: 0.5592 - val_loss: 2.7000 - val_accuracy: 0.2537\n",
            "Epoch 53/70\n",
            "42/42 [==============================] - 1s 19ms/step - loss: 1.1993 - accuracy: 0.5487 - val_loss: 2.8701 - val_accuracy: 0.2685\n",
            "Epoch 54/70\n",
            "42/42 [==============================] - 1s 19ms/step - loss: 1.1922 - accuracy: 0.5439 - val_loss: 2.9676 - val_accuracy: 0.2586\n",
            "Epoch 55/70\n",
            "42/42 [==============================] - 1s 19ms/step - loss: 1.2024 - accuracy: 0.5496 - val_loss: 2.6860 - val_accuracy: 0.2685\n",
            "Epoch 56/70\n",
            "42/42 [==============================] - 1s 19ms/step - loss: 1.1781 - accuracy: 0.5344 - val_loss: 2.8886 - val_accuracy: 0.2660\n",
            "Epoch 57/70\n",
            "42/42 [==============================] - 1s 19ms/step - loss: 1.2031 - accuracy: 0.5429 - val_loss: 2.7940 - val_accuracy: 0.2635\n",
            "Epoch 58/70\n",
            "42/42 [==============================] - 1s 20ms/step - loss: 1.1663 - accuracy: 0.5506 - val_loss: 2.8621 - val_accuracy: 0.2537\n",
            "Epoch 59/70\n",
            "42/42 [==============================] - 1s 19ms/step - loss: 1.1690 - accuracy: 0.5448 - val_loss: 2.9999 - val_accuracy: 0.2438\n",
            "Epoch 60/70\n",
            "42/42 [==============================] - 1s 20ms/step - loss: 1.1822 - accuracy: 0.5382 - val_loss: 2.8928 - val_accuracy: 0.2340\n",
            "Epoch 61/70\n",
            "42/42 [==============================] - 1s 19ms/step - loss: 1.1998 - accuracy: 0.5611 - val_loss: 2.8466 - val_accuracy: 0.2463\n",
            "Epoch 62/70\n",
            "42/42 [==============================] - 1s 19ms/step - loss: 1.1917 - accuracy: 0.5353 - val_loss: 2.9614 - val_accuracy: 0.2783\n",
            "Epoch 63/70\n",
            "42/42 [==============================] - 1s 20ms/step - loss: 1.1819 - accuracy: 0.5468 - val_loss: 2.9662 - val_accuracy: 0.2463\n",
            "Epoch 64/70\n",
            "42/42 [==============================] - 1s 20ms/step - loss: 1.1806 - accuracy: 0.5515 - val_loss: 3.1290 - val_accuracy: 0.2611\n",
            "Epoch 65/70\n",
            "42/42 [==============================] - 1s 19ms/step - loss: 1.1599 - accuracy: 0.5391 - val_loss: 3.1656 - val_accuracy: 0.2512\n",
            "Epoch 66/70\n",
            "42/42 [==============================] - 1s 20ms/step - loss: 1.1575 - accuracy: 0.5468 - val_loss: 2.8669 - val_accuracy: 0.2512\n",
            "Epoch 67/70\n",
            "42/42 [==============================] - 1s 20ms/step - loss: 1.2003 - accuracy: 0.5496 - val_loss: 3.0540 - val_accuracy: 0.2562\n",
            "Epoch 68/70\n",
            "42/42 [==============================] - 1s 20ms/step - loss: 1.1944 - accuracy: 0.5458 - val_loss: 3.1595 - val_accuracy: 0.2882\n",
            "Epoch 69/70\n",
            "42/42 [==============================] - 1s 19ms/step - loss: 1.1866 - accuracy: 0.5468 - val_loss: 3.1566 - val_accuracy: 0.2611\n",
            "Epoch 70/70\n",
            "42/42 [==============================] - 1s 19ms/step - loss: 1.1657 - accuracy: 0.5448 - val_loss: 2.9654 - val_accuracy: 0.2857\n"
          ],
          "name": "stdout"
        },
        {
          "output_type": "display_data",
          "data": {
            "image/png": "[encoded data removed]",
            "text/plain": [
              "<Figure size 432x288 with 1 Axes>"
            ]
          },
          "metadata": {
            "tags": [],
            "needs_background": "light"
          }
        }
      ]
    },
    {
      "cell_type": "markdown",
      "metadata": {
        "id": "NB5iH_csug8l"
      },
      "source": [
        "Ладно, последний франкенштейн совсем не але)) Тем не менее нам удалось достигнуть 72.6% корректных ответов на 10 классов на ужасной маленькой выборке. Когда я делал это домашнее задание в прошлый раз, то результат был значительно хуже =)"
      ]
    }
  ]
}
