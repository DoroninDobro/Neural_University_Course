{
  "nbformat": 4,
  "nbformat_minor": 0,
  "metadata": {
    "colab": {
      "name": "HW_3_Convolutional_Neural_Networks_PRO1.ipynb",
      "provenance": [],
      "collapsed_sections": [],
      "toc_visible": true
    },
    "kernelspec": {
      "name": "python3",
      "display_name": "Python 3"
    },
    "accelerator": "GPU"
  },
  "cells": [
    {
      "cell_type": "markdown",
      "metadata": {
        "id": "nScIT02iM25P",
        "colab_type": "text"
      },
      "source": [
        "### Задача."
      ]
    },
    {
      "cell_type": "markdown",
      "metadata": {
        "id": "xOK2xW6QrmYH",
        "colab_type": "text"
      },
      "source": [
        "Провести ряд экспериментов с архитектурой нейронных сетей.\n",
        "1. Исследовать влияние количества слоев conv2_d.\n",
        "2. Исследовать влияние количества нейронов.\n",
        "3. Исследовать влияние MaxPooling2D в сети.\n",
        "4. Исследовать влияние Dropout.\n",
        "5. Написать выводы по результатам проведенных тестов."
      ]
    },
    {
      "cell_type": "code",
      "metadata": {
        "id": "UcKHhNrwrs7P",
        "colab_type": "code",
        "colab": {}
      },
      "source": [
        "# времени на этой неделе мало, но мне важно выполнять задания в полном объеме. \n",
        "# Поэтому, извините, в этот раз весьма формально. Но полагаю все выполнено."
      ],
      "execution_count": 0,
      "outputs": []
    },
    {
      "cell_type": "code",
      "metadata": {
        "id": "f0BpJ8OWM8xh",
        "colab_type": "code",
        "colab": {}
      },
      "source": [
        "from tensorflow.keras.datasets import mnist\n",
        "from tensorflow.keras.models import Sequential\n",
        "from tensorflow.python.keras.preprocessing.image import ImageDataGenerator\n",
        "from tensorflow.keras.layers import Dense, Conv2D, MaxPooling2D, Flatten, Dropout, BatchNormalization\n",
        "from tensorflow.keras import utils\n",
        "from google.colab import drive\n",
        "import matplotlib.pyplot as plt\n",
        "import numpy as np\n",
        "%matplotlib inline"
      ],
      "execution_count": 0,
      "outputs": []
    },
    {
      "cell_type": "code",
      "metadata": {
        "id": "dBEmnZfOA2e3",
        "colab_type": "code",
        "outputId": "f1c993a9-22c5-4e30-877e-1aa326c68d6e",
        "colab": {
          "base_uri": "https://localhost:8080/",
          "height": 122
        }
      },
      "source": [
        "from google.colab import drive\n",
        "drive.mount('/content/drive')"
      ],
      "execution_count": 0,
      "outputs": [
        {
          "output_type": "stream",
          "text": [
            "Go to this URL in a browser: https://accounts.google.com/o/oauth2/auth?client_id=947318989803-6bn6qk8qdgf4n4g3pfee6491hc0brc4i.apps.googleusercontent.com&redirect_uri=urn%3aietf%3awg%3aoauth%3a2.0%3aoob&response_type=code&scope=email%20https%3a%2f%2fwww.googleapis.com%2fauth%2fdocs.test%20https%3a%2f%2fwww.googleapis.com%2fauth%2fdrive%20https%3a%2f%2fwww.googleapis.com%2fauth%2fdrive.photos.readonly%20https%3a%2f%2fwww.googleapis.com%2fauth%2fpeopleapi.readonly\n",
            "\n",
            "Enter your authorization code:\n",
            "··········\n",
            "Mounted at /content/drive\n"
          ],
          "name": "stdout"
        }
      ]
    },
    {
      "cell_type": "code",
      "metadata": {
        "id": "5CR596I9o6-4",
        "colab_type": "code",
        "colab": {}
      },
      "source": [
        "!unzip -q \"/content/drive/My Drive/middle_fmr.zip\" -d /content/cars #Указываем путь к базе в Google Drive"
      ],
      "execution_count": 0,
      "outputs": []
    },
    {
      "cell_type": "code",
      "metadata": {
        "id": "9wQn1jyRBpPQ",
        "colab_type": "code",
        "colab": {}
      },
      "source": [
        "train_path = '/content/cars'\n",
        "batch_size = 25\n",
        "img_width = 96\n",
        "img_height = 54"
      ],
      "execution_count": 0,
      "outputs": []
    },
    {
      "cell_type": "code",
      "metadata": {
        "id": "gA7tVly5LNkk",
        "colab_type": "code",
        "colab": {}
      },
      "source": [
        "datagen = ImageDataGenerator(\n",
        "    rescale = 1. / 255, # change color on fractional\n",
        "    rotation_range=10, # turn on generation\n",
        "    width_shift_range=0.1,\n",
        "    height_shift_range=0.1,\n",
        "    zoom_range=0.1,\n",
        "    horizontal_flip=True,\n",
        "    fill_mode='nearest',\n",
        "    validation_split = 0.2\n",
        ")"
      ],
      "execution_count": 0,
      "outputs": []
    },
    {
      "cell_type": "code",
      "metadata": {
        "id": "BO8MjzYtPghS",
        "colab_type": "code",
        "outputId": "e9aadd20-51dd-4f77-f88f-645b60900c12",
        "colab": {
          "base_uri": "https://localhost:8080/",
          "height": 51
        }
      },
      "source": [
        "train_generator = datagen.flow_from_directory(\n",
        "    train_path,\n",
        "    target_size=(img_width, img_height),\n",
        "    batch_size=batch_size,\n",
        "    class_mode='categorical',\n",
        "    shuffle=True,\n",
        "    subset='training'\n",
        ")\n",
        "validation_generator = datagen.flow_from_directory(\n",
        "    train_path,\n",
        "    target_size=(img_width, img_height),\n",
        "    batch_size=batch_size,\n",
        "    class_mode='categorical',\n",
        "    shuffle=True,\n",
        "    subset='validation'\n",
        ")"
      ],
      "execution_count": 0,
      "outputs": [
        {
          "output_type": "stream",
          "text": [
            "Found 2743 images belonging to 3 classes.\n",
            "Found 684 images belonging to 3 classes.\n"
          ],
          "name": "stdout"
        }
      ]
    },
    {
      "cell_type": "code",
      "metadata": {
        "id": "dx6O0ty_QBxH",
        "colab_type": "code",
        "colab": {}
      },
      "source": [
        "# baseline\n",
        "model = Sequential()\n",
        "model.add(Conv2D(256, (3, 3), padding='same', activation='relu', input_shape=(img_width, img_height, 3)))\n",
        "model.add(MaxPooling2D(pool_size=(3, 3)))\n",
        "model.add(Conv2D(256, (3, 3), padding='same', activation='relu'))\n",
        "model.add(Dropout(0.2))\n",
        "model.add(Conv2D(256, (3, 3), padding='same', activation='relu'))\n",
        "model.add(MaxPooling2D(pool_size=(3, 3)))\n",
        "model.add(Dropout(0.2))\n",
        "model.add(Conv2D(512, (3, 3), padding='same', activation='relu'))\n",
        "model.add(MaxPooling2D(pool_size=(3, 3)))\n",
        "model.add(Dropout(0.2))\n",
        "model.add(Flatten())\n",
        "model.add(Dense(2048, activation='relu'))\n",
        "model.add(Dense(4096, activation='relu'))\n",
        "model.add(Dense(len(train_generator.class_indices), activation='softmax'))\n",
        "model.compile(loss='categorical_crossentropy', optimizer='adam', metrics=['accuracy'])"
      ],
      "execution_count": 0,
      "outputs": []
    },
    {
      "cell_type": "code",
      "metadata": {
        "id": "Lq34T11t2CUX",
        "colab_type": "code",
        "outputId": "f097ad7f-8ddb-43d4-ea22-f2934836264a",
        "colab": {
          "base_uri": "https://localhost:8080/",
          "height": 1000
        }
      },
      "source": [
        "history = model.fit_generator(\n",
        "    train_generator,\n",
        "    steps_per_epoch = train_generator.samples // batch_size,\n",
        "    validation_data = validation_generator, \n",
        "    validation_steps = validation_generator.samples // batch_size,\n",
        "    epochs=70,\n",
        "    verbose=1)"
      ],
      "execution_count": 0,
      "outputs": [
        {
          "output_type": "stream",
          "text": [
            "Epoch 1/70\n",
            "109/109 [==============================] - 14s 126ms/step - loss: 0.9890 - accuracy: 0.4823 - val_loss: 0.9440 - val_accuracy: 0.4859\n",
            "Epoch 2/70\n",
            "109/109 [==============================] - 13s 122ms/step - loss: 0.9024 - accuracy: 0.5408 - val_loss: 0.9314 - val_accuracy: 0.5081\n",
            "Epoch 3/70\n",
            "109/109 [==============================] - 14s 125ms/step - loss: 0.9020 - accuracy: 0.5497 - val_loss: 0.9276 - val_accuracy: 0.5422\n",
            "Epoch 4/70\n",
            "109/109 [==============================] - 14s 133ms/step - loss: 0.8835 - accuracy: 0.5640 - val_loss: 0.9420 - val_accuracy: 0.5422\n",
            "Epoch 5/70\n",
            "109/109 [==============================] - 14s 124ms/step - loss: 0.8684 - accuracy: 0.5725 - val_loss: 0.9968 - val_accuracy: 0.5348\n",
            "Epoch 6/70\n",
            "109/109 [==============================] - 14s 126ms/step - loss: 0.8505 - accuracy: 0.6001 - val_loss: 0.9290 - val_accuracy: 0.5126\n",
            "Epoch 7/70\n",
            "109/109 [==============================] - 13s 123ms/step - loss: 0.8552 - accuracy: 0.6060 - val_loss: 0.9068 - val_accuracy: 0.5896\n",
            "Epoch 8/70\n",
            "109/109 [==============================] - 14s 124ms/step - loss: 0.8263 - accuracy: 0.6203 - val_loss: 0.8914 - val_accuracy: 0.5822\n",
            "Epoch 9/70\n",
            "109/109 [==============================] - 14s 128ms/step - loss: 0.8118 - accuracy: 0.6192 - val_loss: 0.8973 - val_accuracy: 0.5941\n",
            "Epoch 10/70\n",
            "109/109 [==============================] - 13s 123ms/step - loss: 0.7911 - accuracy: 0.6394 - val_loss: 0.9011 - val_accuracy: 0.5763\n",
            "Epoch 11/70\n",
            "109/109 [==============================] - 13s 122ms/step - loss: 0.7564 - accuracy: 0.6703 - val_loss: 0.9510 - val_accuracy: 0.6030\n",
            "Epoch 12/70\n",
            "109/109 [==============================] - 13s 119ms/step - loss: 0.7483 - accuracy: 0.6611 - val_loss: 0.8684 - val_accuracy: 0.6267\n",
            "Epoch 13/70\n",
            "109/109 [==============================] - 13s 120ms/step - loss: 0.7331 - accuracy: 0.6851 - val_loss: 0.8639 - val_accuracy: 0.5970\n",
            "Epoch 14/70\n",
            "109/109 [==============================] - 13s 120ms/step - loss: 0.7237 - accuracy: 0.6762 - val_loss: 0.8594 - val_accuracy: 0.6059\n",
            "Epoch 15/70\n",
            "109/109 [==============================] - 13s 123ms/step - loss: 0.6979 - accuracy: 0.6818 - val_loss: 0.8724 - val_accuracy: 0.6356\n",
            "Epoch 16/70\n",
            "109/109 [==============================] - 13s 123ms/step - loss: 0.6757 - accuracy: 0.7119 - val_loss: 0.8337 - val_accuracy: 0.6311\n",
            "Epoch 17/70\n",
            "109/109 [==============================] - 13s 120ms/step - loss: 0.6628 - accuracy: 0.7127 - val_loss: 0.9665 - val_accuracy: 0.6133\n",
            "Epoch 18/70\n",
            "109/109 [==============================] - 13s 120ms/step - loss: 0.6636 - accuracy: 0.7079 - val_loss: 0.8651 - val_accuracy: 0.6385\n",
            "Epoch 19/70\n",
            "109/109 [==============================] - 13s 121ms/step - loss: 0.6242 - accuracy: 0.7314 - val_loss: 0.8427 - val_accuracy: 0.6415\n",
            "Epoch 20/70\n",
            "109/109 [==============================] - 13s 124ms/step - loss: 0.6334 - accuracy: 0.7230 - val_loss: 0.8084 - val_accuracy: 0.6711\n",
            "Epoch 21/70\n",
            "109/109 [==============================] - 13s 122ms/step - loss: 0.6186 - accuracy: 0.7362 - val_loss: 0.7321 - val_accuracy: 0.6800\n",
            "Epoch 22/70\n",
            "109/109 [==============================] - 13s 120ms/step - loss: 0.5995 - accuracy: 0.7380 - val_loss: 0.8354 - val_accuracy: 0.6607\n",
            "Epoch 23/70\n",
            "109/109 [==============================] - 13s 119ms/step - loss: 0.6071 - accuracy: 0.7391 - val_loss: 0.7609 - val_accuracy: 0.6874\n",
            "Epoch 24/70\n",
            "109/109 [==============================] - 13s 120ms/step - loss: 0.5650 - accuracy: 0.7609 - val_loss: 0.7949 - val_accuracy: 0.6489\n",
            "Epoch 25/70\n",
            "109/109 [==============================] - 13s 123ms/step - loss: 0.5720 - accuracy: 0.7579 - val_loss: 0.7738 - val_accuracy: 0.6578\n",
            "Epoch 26/70\n",
            "109/109 [==============================] - 13s 120ms/step - loss: 0.5614 - accuracy: 0.7710 - val_loss: 0.7294 - val_accuracy: 0.6919\n",
            "Epoch 27/70\n",
            "109/109 [==============================] - 13s 118ms/step - loss: 0.5522 - accuracy: 0.7712 - val_loss: 0.7910 - val_accuracy: 0.6844\n",
            "Epoch 28/70\n",
            "109/109 [==============================] - 13s 117ms/step - loss: 0.5455 - accuracy: 0.7756 - val_loss: 0.8005 - val_accuracy: 0.6667\n",
            "Epoch 29/70\n",
            "109/109 [==============================] - 13s 119ms/step - loss: 0.5486 - accuracy: 0.7741 - val_loss: 0.7862 - val_accuracy: 0.6681\n",
            "Epoch 30/70\n",
            "109/109 [==============================] - 13s 122ms/step - loss: 0.5199 - accuracy: 0.7844 - val_loss: 0.7364 - val_accuracy: 0.6919\n",
            "Epoch 31/70\n",
            "109/109 [==============================] - 13s 124ms/step - loss: 0.5370 - accuracy: 0.7715 - val_loss: 0.7442 - val_accuracy: 0.6770\n",
            "Epoch 32/70\n",
            "109/109 [==============================] - 13s 121ms/step - loss: 0.4940 - accuracy: 0.7940 - val_loss: 0.7507 - val_accuracy: 0.6919\n",
            "Epoch 33/70\n",
            "109/109 [==============================] - 13s 119ms/step - loss: 0.4826 - accuracy: 0.7991 - val_loss: 0.7867 - val_accuracy: 0.7037\n",
            "Epoch 34/70\n",
            "109/109 [==============================] - 13s 119ms/step - loss: 0.4972 - accuracy: 0.8013 - val_loss: 0.7230 - val_accuracy: 0.6933\n",
            "Epoch 35/70\n",
            "109/109 [==============================] - 13s 123ms/step - loss: 0.4482 - accuracy: 0.8087 - val_loss: 0.6978 - val_accuracy: 0.7289\n",
            "Epoch 36/70\n",
            "109/109 [==============================] - 14s 125ms/step - loss: 0.4547 - accuracy: 0.8068 - val_loss: 0.7341 - val_accuracy: 0.7022\n",
            "Epoch 37/70\n",
            "109/109 [==============================] - 13s 122ms/step - loss: 0.4692 - accuracy: 0.8076 - val_loss: 0.7153 - val_accuracy: 0.7230\n",
            "Epoch 38/70\n",
            "109/109 [==============================] - 13s 119ms/step - loss: 0.4637 - accuracy: 0.7985 - val_loss: 0.7196 - val_accuracy: 0.7037\n",
            "Epoch 39/70\n",
            "109/109 [==============================] - 13s 119ms/step - loss: 0.4285 - accuracy: 0.8260 - val_loss: 0.7658 - val_accuracy: 0.7230\n",
            "Epoch 40/70\n",
            "109/109 [==============================] - 13s 123ms/step - loss: 0.4292 - accuracy: 0.8330 - val_loss: 0.7036 - val_accuracy: 0.7022\n",
            "Epoch 41/70\n",
            "109/109 [==============================] - 13s 123ms/step - loss: 0.3975 - accuracy: 0.8425 - val_loss: 0.7451 - val_accuracy: 0.7289\n",
            "Epoch 42/70\n",
            "109/109 [==============================] - 13s 119ms/step - loss: 0.4087 - accuracy: 0.8352 - val_loss: 0.6787 - val_accuracy: 0.7200\n",
            "Epoch 43/70\n",
            "109/109 [==============================] - 13s 118ms/step - loss: 0.3824 - accuracy: 0.8481 - val_loss: 0.8802 - val_accuracy: 0.6963\n",
            "Epoch 44/70\n",
            "109/109 [==============================] - 13s 117ms/step - loss: 0.4068 - accuracy: 0.8414 - val_loss: 0.7481 - val_accuracy: 0.7052\n",
            "Epoch 45/70\n",
            "109/109 [==============================] - 13s 120ms/step - loss: 0.3670 - accuracy: 0.8554 - val_loss: 0.8184 - val_accuracy: 0.7215\n",
            "Epoch 46/70\n",
            "109/109 [==============================] - 13s 121ms/step - loss: 0.3900 - accuracy: 0.8451 - val_loss: 0.8007 - val_accuracy: 0.7081\n",
            "Epoch 47/70\n",
            "109/109 [==============================] - 13s 122ms/step - loss: 0.3800 - accuracy: 0.8447 - val_loss: 0.8278 - val_accuracy: 0.7007\n",
            "Epoch 48/70\n",
            "109/109 [==============================] - 13s 122ms/step - loss: 0.3781 - accuracy: 0.8440 - val_loss: 0.7279 - val_accuracy: 0.7170\n",
            "Epoch 49/70\n",
            "109/109 [==============================] - 13s 121ms/step - loss: 0.3578 - accuracy: 0.8554 - val_loss: 0.8323 - val_accuracy: 0.7393\n",
            "Epoch 50/70\n",
            "109/109 [==============================] - 13s 119ms/step - loss: 0.3392 - accuracy: 0.8646 - val_loss: 0.8335 - val_accuracy: 0.7170\n",
            "Epoch 51/70\n",
            "109/109 [==============================] - 13s 118ms/step - loss: 0.3633 - accuracy: 0.8477 - val_loss: 0.7063 - val_accuracy: 0.7304\n",
            "Epoch 52/70\n",
            "109/109 [==============================] - 13s 121ms/step - loss: 0.3238 - accuracy: 0.8749 - val_loss: 0.7805 - val_accuracy: 0.7156\n",
            "Epoch 53/70\n",
            "109/109 [==============================] - 13s 123ms/step - loss: 0.3502 - accuracy: 0.8580 - val_loss: 0.7484 - val_accuracy: 0.7304\n",
            "Epoch 54/70\n",
            "109/109 [==============================] - 13s 123ms/step - loss: 0.3341 - accuracy: 0.8698 - val_loss: 0.8274 - val_accuracy: 0.7259\n",
            "Epoch 55/70\n",
            "109/109 [==============================] - 13s 121ms/step - loss: 0.3554 - accuracy: 0.8657 - val_loss: 0.8196 - val_accuracy: 0.7230\n",
            "Epoch 56/70\n",
            "109/109 [==============================] - 13s 118ms/step - loss: 0.3197 - accuracy: 0.8727 - val_loss: 0.8165 - val_accuracy: 0.7333\n",
            "Epoch 57/70\n",
            "109/109 [==============================] - 13s 117ms/step - loss: 0.3096 - accuracy: 0.8815 - val_loss: 0.8322 - val_accuracy: 0.7170\n",
            "Epoch 58/70\n",
            "109/109 [==============================] - 13s 119ms/step - loss: 0.3335 - accuracy: 0.8679 - val_loss: 0.7402 - val_accuracy: 0.7467\n",
            "Epoch 59/70\n",
            "109/109 [==============================] - 13s 122ms/step - loss: 0.3008 - accuracy: 0.8848 - val_loss: 0.7494 - val_accuracy: 0.7244\n",
            "Epoch 60/70\n",
            "109/109 [==============================] - 13s 120ms/step - loss: 0.3095 - accuracy: 0.8786 - val_loss: 0.8944 - val_accuracy: 0.7230\n",
            "Epoch 61/70\n",
            "109/109 [==============================] - 13s 118ms/step - loss: 0.3179 - accuracy: 0.8745 - val_loss: 0.7077 - val_accuracy: 0.7615\n",
            "Epoch 62/70\n",
            "109/109 [==============================] - 13s 117ms/step - loss: 0.3041 - accuracy: 0.8856 - val_loss: 0.7658 - val_accuracy: 0.7437\n",
            "Epoch 63/70\n",
            "109/109 [==============================] - 13s 119ms/step - loss: 0.2970 - accuracy: 0.8852 - val_loss: 0.7935 - val_accuracy: 0.7185\n",
            "Epoch 64/70\n",
            "109/109 [==============================] - 13s 119ms/step - loss: 0.2907 - accuracy: 0.8885 - val_loss: 0.7810 - val_accuracy: 0.7467\n",
            "Epoch 65/70\n",
            "109/109 [==============================] - 13s 122ms/step - loss: 0.3027 - accuracy: 0.8823 - val_loss: 0.7622 - val_accuracy: 0.7289\n",
            "Epoch 66/70\n",
            "109/109 [==============================] - 13s 122ms/step - loss: 0.2950 - accuracy: 0.8837 - val_loss: 0.8069 - val_accuracy: 0.7452\n",
            "Epoch 67/70\n",
            "109/109 [==============================] - 13s 122ms/step - loss: 0.2739 - accuracy: 0.8907 - val_loss: 0.8619 - val_accuracy: 0.7126\n",
            "Epoch 68/70\n",
            "109/109 [==============================] - 13s 119ms/step - loss: 0.2586 - accuracy: 0.8996 - val_loss: 0.8109 - val_accuracy: 0.7393\n",
            "Epoch 69/70\n",
            "109/109 [==============================] - 13s 121ms/step - loss: 0.2660 - accuracy: 0.9021 - val_loss: 0.7347 - val_accuracy: 0.7556\n",
            "Epoch 70/70\n",
            "109/109 [==============================] - 13s 122ms/step - loss: 0.2551 - accuracy: 0.8996 - val_loss: 0.9801 - val_accuracy: 0.7170\n"
          ],
          "name": "stdout"
        }
      ]
    },
    {
      "cell_type": "code",
      "metadata": {
        "id": "km7fUBkF9ch7",
        "colab_type": "code",
        "outputId": "6259a084-4665-4982-d96e-4531c1df43a3",
        "colab": {
          "base_uri": "https://localhost:8080/",
          "height": 279
        }
      },
      "source": [
        "plt.plot(history.history['accuracy'], \n",
        "         label='Доля верных ответов на обучающем наборе')\n",
        "plt.plot(history.history['val_accuracy'], \n",
        "         label='Доля верных ответов на проверочном наборе')\n",
        "plt.xlabel('Эпоха обучения')\n",
        "plt.ylabel('Доля верных ответов')\n",
        "plt.legend()\n",
        "plt.show()"
      ],
      "execution_count": 0,
      "outputs": [
        {
          "output_type": "display_data",
          "data": {
            "image/png": "[encoded data removed]",
            "text/plain": [
              "<Figure size 432x288 with 1 Axes>"
            ]
          },
          "metadata": {
            "tags": [],
            "needs_background": "light"
          }
        }
      ]
    },
    {
      "cell_type": "code",
      "metadata": {
        "id": "S5Lb6GCj-5RD",
        "colab_type": "code",
        "colab": {}
      },
      "source": [
        "# 75% с хвостиком при такой архитектуре потолок"
      ],
      "execution_count": 0,
      "outputs": []
    },
    {
      "cell_type": "code",
      "metadata": {
        "id": "JzVnP2ll8mvt",
        "colab_type": "code",
        "colab": {}
      },
      "source": [
        "# add two conv2D\n",
        "model1 = Sequential()\n",
        "model1.add(Conv2D(256, (3, 3), padding='same', activation='relu'))\n",
        "model1.add(Conv2D(256, (3, 3), padding='same', activation='relu'))\n",
        "model1.add(MaxPooling2D(pool_size=(3, 3)))\n",
        "model1.add(Conv2D(256, (3, 3), padding='same', activation='relu'))\n",
        "model1.add(Dropout(0.2))\n",
        "model1.add(Conv2D(256, (3, 3), padding='same', activation='relu'))\n",
        "model1.add(MaxPooling2D(pool_size=(3, 3)))\n",
        "model1.add(Dropout(0.2))\n",
        "model1.add(Conv2D(512, (3, 3), padding='same', activation='relu'))\n",
        "model1.add(Conv2D(1024, (3, 3), padding='same', activation='relu'))\n",
        "model1.add(MaxPooling2D(pool_size=(3, 3)))\n",
        "model1.add(Dropout(0.2))\n",
        "model1.add(Flatten())\n",
        "\n",
        "model1.add(Dense(2048, activation='relu'))\n",
        "model1.add(Dense(4096, activation='relu'))\n",
        "model1.add(Dense(len(train_generator.class_indices), activation='softmax'))\n",
        "model1.compile(loss='categorical_crossentropy', optimizer='adam', metrics=['accuracy'])"
      ],
      "execution_count": 0,
      "outputs": []
    },
    {
      "cell_type": "code",
      "metadata": {
        "id": "ar1LhvbZ_BR8",
        "colab_type": "code",
        "outputId": "9ae0b1fe-f1af-4873-a211-0f83cd2b5f99",
        "colab": {
          "base_uri": "https://localhost:8080/",
          "height": 1000
        }
      },
      "source": [
        "history = model1.fit_generator(\n",
        "    train_generator,\n",
        "    steps_per_epoch = train_generator.samples // batch_size,\n",
        "    validation_data = validation_generator, \n",
        "    validation_steps = validation_generator.samples // batch_size,\n",
        "    epochs=70,\n",
        "    verbose=1\n",
        ")"
      ],
      "execution_count": 0,
      "outputs": [
        {
          "output_type": "stream",
          "text": [
            "Epoch 1/70\n",
            "109/109 [==============================] - 24s 222ms/step - loss: 1.1504 - accuracy: 0.3366 - val_loss: 1.0655 - val_accuracy: 0.4074\n",
            "Epoch 2/70\n",
            "109/109 [==============================] - 24s 222ms/step - loss: 1.1022 - accuracy: 0.3499 - val_loss: 1.1020 - val_accuracy: 0.3437\n",
            "Epoch 3/70\n",
            "109/109 [==============================] - 24s 218ms/step - loss: 1.0784 - accuracy: 0.3929 - val_loss: 0.9998 - val_accuracy: 0.4741\n",
            "Epoch 4/70\n",
            "109/109 [==============================] - 24s 216ms/step - loss: 0.9601 - accuracy: 0.5055 - val_loss: 0.9443 - val_accuracy: 0.5215\n",
            "Epoch 5/70\n",
            "109/109 [==============================] - 24s 217ms/step - loss: 0.9206 - accuracy: 0.5272 - val_loss: 0.9526 - val_accuracy: 0.5081\n",
            "Epoch 6/70\n",
            "109/109 [==============================] - 23s 215ms/step - loss: 0.9091 - accuracy: 0.5335 - val_loss: 0.9571 - val_accuracy: 0.5141\n",
            "Epoch 7/70\n",
            "109/109 [==============================] - 23s 215ms/step - loss: 0.9061 - accuracy: 0.5412 - val_loss: 0.9466 - val_accuracy: 0.5230\n",
            "Epoch 8/70\n",
            "109/109 [==============================] - 24s 219ms/step - loss: 0.9052 - accuracy: 0.5338 - val_loss: 0.9450 - val_accuracy: 0.5333\n",
            "Epoch 9/70\n",
            "109/109 [==============================] - 24s 218ms/step - loss: 0.9078 - accuracy: 0.5331 - val_loss: 0.9478 - val_accuracy: 0.5200\n",
            "Epoch 10/70\n",
            "109/109 [==============================] - 24s 218ms/step - loss: 0.9111 - accuracy: 0.5397 - val_loss: 0.9421 - val_accuracy: 0.5393\n",
            "Epoch 11/70\n",
            "109/109 [==============================] - 24s 220ms/step - loss: 0.9100 - accuracy: 0.5405 - val_loss: 0.9618 - val_accuracy: 0.5067\n",
            "Epoch 12/70\n",
            "109/109 [==============================] - 24s 216ms/step - loss: 0.9006 - accuracy: 0.5453 - val_loss: 1.0606 - val_accuracy: 0.4741\n",
            "Epoch 13/70\n",
            "109/109 [==============================] - 24s 217ms/step - loss: 0.8920 - accuracy: 0.5625 - val_loss: 0.9358 - val_accuracy: 0.5481\n",
            "Epoch 14/70\n",
            "109/109 [==============================] - 24s 216ms/step - loss: 0.8837 - accuracy: 0.5736 - val_loss: 0.9625 - val_accuracy: 0.5111\n",
            "Epoch 15/70\n",
            "109/109 [==============================] - 24s 216ms/step - loss: 0.8794 - accuracy: 0.5769 - val_loss: 0.9668 - val_accuracy: 0.4993\n",
            "Epoch 16/70\n",
            "109/109 [==============================] - 24s 216ms/step - loss: 0.8688 - accuracy: 0.5879 - val_loss: 0.9208 - val_accuracy: 0.5393\n",
            "Epoch 17/70\n",
            "109/109 [==============================] - 24s 219ms/step - loss: 0.8642 - accuracy: 0.5883 - val_loss: 0.9101 - val_accuracy: 0.5644\n",
            "Epoch 18/70\n",
            "109/109 [==============================] - 24s 218ms/step - loss: 0.8164 - accuracy: 0.6380 - val_loss: 0.8987 - val_accuracy: 0.6015\n",
            "Epoch 19/70\n",
            "109/109 [==============================] - 24s 218ms/step - loss: 0.8383 - accuracy: 0.6100 - val_loss: 0.8925 - val_accuracy: 0.5793\n",
            "Epoch 20/70\n",
            "109/109 [==============================] - 24s 220ms/step - loss: 0.8042 - accuracy: 0.6306 - val_loss: 0.8846 - val_accuracy: 0.6089\n",
            "Epoch 21/70\n",
            "109/109 [==============================] - 24s 217ms/step - loss: 0.7897 - accuracy: 0.6483 - val_loss: 0.8613 - val_accuracy: 0.6044\n",
            "Epoch 22/70\n",
            "109/109 [==============================] - 24s 216ms/step - loss: 0.7696 - accuracy: 0.6523 - val_loss: 0.9173 - val_accuracy: 0.5748\n",
            "Epoch 23/70\n",
            "109/109 [==============================] - 24s 216ms/step - loss: 0.7398 - accuracy: 0.6729 - val_loss: 0.8588 - val_accuracy: 0.6252\n",
            "Epoch 24/70\n",
            "109/109 [==============================] - 24s 216ms/step - loss: 0.7316 - accuracy: 0.6788 - val_loss: 0.8075 - val_accuracy: 0.6504\n",
            "Epoch 25/70\n",
            "109/109 [==============================] - 23s 215ms/step - loss: 0.7214 - accuracy: 0.6924 - val_loss: 0.8148 - val_accuracy: 0.6489\n",
            "Epoch 26/70\n",
            "109/109 [==============================] - 24s 218ms/step - loss: 0.7000 - accuracy: 0.7009 - val_loss: 0.8337 - val_accuracy: 0.6385\n",
            "Epoch 27/70\n",
            "109/109 [==============================] - 24s 217ms/step - loss: 0.7012 - accuracy: 0.6921 - val_loss: 0.7916 - val_accuracy: 0.6622\n",
            "Epoch 28/70\n",
            "109/109 [==============================] - 24s 218ms/step - loss: 0.6778 - accuracy: 0.7057 - val_loss: 0.8683 - val_accuracy: 0.6178\n",
            "Epoch 29/70\n",
            "109/109 [==============================] - 24s 220ms/step - loss: 0.6534 - accuracy: 0.7174 - val_loss: 0.8613 - val_accuracy: 0.6563\n",
            "Epoch 30/70\n",
            "109/109 [==============================] - 24s 217ms/step - loss: 0.6531 - accuracy: 0.7127 - val_loss: 0.8668 - val_accuracy: 0.6193\n",
            "Epoch 31/70\n",
            "109/109 [==============================] - 24s 217ms/step - loss: 0.6359 - accuracy: 0.7266 - val_loss: 0.9141 - val_accuracy: 0.5867\n",
            "Epoch 32/70\n",
            "109/109 [==============================] - 24s 216ms/step - loss: 0.6428 - accuracy: 0.7259 - val_loss: 0.8325 - val_accuracy: 0.6741\n",
            "Epoch 33/70\n",
            "109/109 [==============================] - 23s 215ms/step - loss: 0.6251 - accuracy: 0.7414 - val_loss: 0.8012 - val_accuracy: 0.6607\n",
            "Epoch 34/70\n",
            "109/109 [==============================] - 24s 217ms/step - loss: 0.5784 - accuracy: 0.7612 - val_loss: 0.7783 - val_accuracy: 0.6607\n",
            "Epoch 35/70\n",
            "109/109 [==============================] - 24s 217ms/step - loss: 0.5828 - accuracy: 0.7528 - val_loss: 0.7998 - val_accuracy: 0.6533\n",
            "Epoch 36/70\n",
            "109/109 [==============================] - 24s 217ms/step - loss: 0.5952 - accuracy: 0.7465 - val_loss: 0.7614 - val_accuracy: 0.6815\n",
            "Epoch 37/70\n",
            "109/109 [==============================] - 24s 219ms/step - loss: 0.5856 - accuracy: 0.7594 - val_loss: 0.7792 - val_accuracy: 0.6830\n",
            "Epoch 38/70\n",
            "109/109 [==============================] - 24s 218ms/step - loss: 0.5552 - accuracy: 0.7675 - val_loss: 0.7505 - val_accuracy: 0.6696\n",
            "Epoch 39/70\n",
            "109/109 [==============================] - 23s 215ms/step - loss: 0.5375 - accuracy: 0.7726 - val_loss: 0.7264 - val_accuracy: 0.6874\n",
            "Epoch 40/70\n",
            "109/109 [==============================] - 24s 216ms/step - loss: 0.5542 - accuracy: 0.7660 - val_loss: 0.7045 - val_accuracy: 0.7126\n",
            "Epoch 41/70\n",
            "109/109 [==============================] - 24s 216ms/step - loss: 0.5349 - accuracy: 0.7921 - val_loss: 0.7505 - val_accuracy: 0.6756\n",
            "Epoch 42/70\n",
            "109/109 [==============================] - 23s 215ms/step - loss: 0.5128 - accuracy: 0.7896 - val_loss: 0.7335 - val_accuracy: 0.6904\n",
            "Epoch 43/70\n",
            "109/109 [==============================] - 24s 218ms/step - loss: 0.5030 - accuracy: 0.7936 - val_loss: 0.7925 - val_accuracy: 0.6800\n",
            "Epoch 44/70\n",
            "109/109 [==============================] - 24s 218ms/step - loss: 0.4940 - accuracy: 0.8013 - val_loss: 0.7247 - val_accuracy: 0.7007\n",
            "Epoch 45/70\n",
            "109/109 [==============================] - 24s 217ms/step - loss: 0.4852 - accuracy: 0.8013 - val_loss: 0.6891 - val_accuracy: 0.7081\n",
            "Epoch 46/70\n",
            "109/109 [==============================] - 24s 220ms/step - loss: 0.4621 - accuracy: 0.8175 - val_loss: 0.8303 - val_accuracy: 0.7007\n",
            "Epoch 47/70\n",
            "109/109 [==============================] - 24s 217ms/step - loss: 0.4587 - accuracy: 0.8109 - val_loss: 0.7521 - val_accuracy: 0.7007\n",
            "Epoch 48/70\n",
            "109/109 [==============================] - 23s 215ms/step - loss: 0.4512 - accuracy: 0.8171 - val_loss: 0.6755 - val_accuracy: 0.7230\n",
            "Epoch 49/70\n",
            "109/109 [==============================] - 24s 216ms/step - loss: 0.4433 - accuracy: 0.8219 - val_loss: 0.6928 - val_accuracy: 0.7111\n",
            "Epoch 50/70\n",
            "109/109 [==============================] - 24s 216ms/step - loss: 0.4346 - accuracy: 0.8230 - val_loss: 0.7007 - val_accuracy: 0.7319\n",
            "Epoch 51/70\n",
            "109/109 [==============================] - 23s 215ms/step - loss: 0.4050 - accuracy: 0.8411 - val_loss: 0.7398 - val_accuracy: 0.7037\n",
            "Epoch 52/70\n",
            "109/109 [==============================] - 24s 217ms/step - loss: 0.4052 - accuracy: 0.8359 - val_loss: 0.7385 - val_accuracy: 0.7170\n",
            "Epoch 53/70\n",
            "109/109 [==============================] - 24s 218ms/step - loss: 0.3945 - accuracy: 0.8422 - val_loss: 0.6617 - val_accuracy: 0.7526\n",
            "Epoch 54/70\n",
            "109/109 [==============================] - 24s 217ms/step - loss: 0.4172 - accuracy: 0.8374 - val_loss: 0.7040 - val_accuracy: 0.7230\n",
            "Epoch 55/70\n",
            "109/109 [==============================] - 24s 220ms/step - loss: 0.4075 - accuracy: 0.8414 - val_loss: 0.7179 - val_accuracy: 0.7081\n",
            "Epoch 56/70\n",
            "109/109 [==============================] - 24s 217ms/step - loss: 0.3810 - accuracy: 0.8462 - val_loss: 0.7351 - val_accuracy: 0.7126\n",
            "Epoch 57/70\n",
            "109/109 [==============================] - 23s 214ms/step - loss: 0.3742 - accuracy: 0.8440 - val_loss: 0.7338 - val_accuracy: 0.7156\n",
            "Epoch 58/70\n",
            "109/109 [==============================] - 23s 215ms/step - loss: 0.3621 - accuracy: 0.8543 - val_loss: 0.7621 - val_accuracy: 0.7244\n",
            "Epoch 59/70\n",
            "109/109 [==============================] - 23s 215ms/step - loss: 0.3591 - accuracy: 0.8584 - val_loss: 0.7329 - val_accuracy: 0.7452\n",
            "Epoch 60/70\n",
            "109/109 [==============================] - 24s 216ms/step - loss: 0.3742 - accuracy: 0.8492 - val_loss: 0.7733 - val_accuracy: 0.7289\n",
            "Epoch 61/70\n",
            "109/109 [==============================] - 23s 215ms/step - loss: 0.3321 - accuracy: 0.8624 - val_loss: 0.7381 - val_accuracy: 0.7452\n",
            "Epoch 62/70\n",
            "109/109 [==============================] - 23s 214ms/step - loss: 0.3662 - accuracy: 0.8488 - val_loss: 0.8098 - val_accuracy: 0.7333\n",
            "Epoch 63/70\n",
            "109/109 [==============================] - 24s 216ms/step - loss: 0.3468 - accuracy: 0.8631 - val_loss: 0.7256 - val_accuracy: 0.7259\n",
            "Epoch 64/70\n",
            "109/109 [==============================] - 24s 217ms/step - loss: 0.3256 - accuracy: 0.8668 - val_loss: 0.7823 - val_accuracy: 0.7215\n",
            "Epoch 65/70\n",
            "109/109 [==============================] - 23s 214ms/step - loss: 0.3116 - accuracy: 0.8694 - val_loss: 0.7970 - val_accuracy: 0.7052\n",
            "Epoch 66/70\n",
            "109/109 [==============================] - 23s 215ms/step - loss: 0.3271 - accuracy: 0.8734 - val_loss: 0.9179 - val_accuracy: 0.7259\n",
            "Epoch 67/70\n",
            "109/109 [==============================] - 24s 218ms/step - loss: 0.3154 - accuracy: 0.8793 - val_loss: 0.7410 - val_accuracy: 0.7393\n",
            "Epoch 68/70\n",
            "109/109 [==============================] - 24s 217ms/step - loss: 0.2951 - accuracy: 0.8845 - val_loss: 0.6552 - val_accuracy: 0.7304\n",
            "Epoch 69/70\n",
            "109/109 [==============================] - 23s 215ms/step - loss: 0.3126 - accuracy: 0.8812 - val_loss: 0.8618 - val_accuracy: 0.7259\n",
            "Epoch 70/70\n",
            "109/109 [==============================] - 24s 216ms/step - loss: 0.2884 - accuracy: 0.8859 - val_loss: 0.6842 - val_accuracy: 0.7452\n"
          ],
          "name": "stdout"
        }
      ]
    },
    {
      "cell_type": "code",
      "metadata": {
        "id": "ivoL6ylE_ThP",
        "colab_type": "code",
        "outputId": "3924f6e0-02f5-4f0d-e4f2-c6ab7946378b",
        "colab": {
          "base_uri": "https://localhost:8080/",
          "height": 279
        }
      },
      "source": [
        "plt.plot(history.history['accuracy'], \n",
        "         label='Доля верных ответов на обучающем наборе')\n",
        "plt.plot(history.history['val_accuracy'], \n",
        "         label='Доля верных ответов на проверочном наборе')\n",
        "plt.xlabel('Эпоха обучения')\n",
        "plt.ylabel('Доля верных ответов')\n",
        "plt.legend()\n",
        "plt.show()"
      ],
      "execution_count": 0,
      "outputs": [
        {
          "output_type": "display_data",
          "data": {
            "image/png": "[encoded data removed]",
            "text/plain": [
              "<Figure size 432x288 with 1 Axes>"
            ]
          },
          "metadata": {
            "tags": [],
            "needs_background": "light"
          }
        }
      ]
    },
    {
      "cell_type": "code",
      "metadata": {
        "id": "D7Nie3HQDUlV",
        "colab_type": "code",
        "colab": {}
      },
      "source": [
        "# странно, но результат даже похуже"
      ],
      "execution_count": 0,
      "outputs": []
    },
    {
      "cell_type": "code",
      "metadata": {
        "id": "ql_6-s99DmBB",
        "colab_type": "code",
        "colab": {}
      },
      "source": [
        "# снизим количество нейронов вдвое\n",
        "model = Sequential()\n",
        "model.add(Conv2D(128, (3, 3), padding='same', activation='relu', input_shape=(img_width, img_height, 3)))\n",
        "model.add(Conv2D(128, (3, 3), padding='same', activation='relu'))\n",
        "model.add(MaxPooling2D(pool_size=(3, 3)))\n",
        "model.add(Conv2D(128, (3, 3), padding='same', activation='relu'))\n",
        "model.add(Dropout(0.2))\n",
        "model.add(Conv2D(128, (3, 3), padding='same', activation='relu'))\n",
        "model.add(MaxPooling2D(pool_size=(3, 3)))\n",
        "model.add(Dropout(0.2))\n",
        "model.add(Conv2D(256, (3, 3), padding='same', activation='relu'))\n",
        "model.add(Conv2D(512, (3, 3), padding='same', activation='relu'))\n",
        "model.add(MaxPooling2D(pool_size=(3, 3)))\n",
        "model.add(Dropout(0.2))\n",
        "model.add(Flatten())\n",
        "model.add(Dense(2048, activation='relu'))\n",
        "model.add(Dense(4096, activation='relu'))\n",
        "model.add(Dense(len(train_generator.class_indices), activation='softmax'))\n",
        "model.compile(loss='categorical_crossentropy', optimizer='adam', metrics=['accuracy'])"
      ],
      "execution_count": 0,
      "outputs": []
    },
    {
      "cell_type": "code",
      "metadata": {
        "id": "NAb57CaEHmWi",
        "colab_type": "code",
        "outputId": "185d3e4c-707e-47c7-d8b9-d9e9f8b72557",
        "colab": {
          "base_uri": "https://localhost:8080/",
          "height": 1000
        }
      },
      "source": [
        "history = model.fit_generator(\n",
        "    train_generator,\n",
        "    steps_per_epoch = train_generator.samples // batch_size,\n",
        "    validation_data = validation_generator, \n",
        "    validation_steps = validation_generator.samples // batch_size,\n",
        "    epochs=70,\n",
        "    verbose=1\n",
        ")"
      ],
      "execution_count": 0,
      "outputs": [
        {
          "output_type": "stream",
          "text": [
            "Epoch 1/70\n",
            "109/109 [==============================] - 14s 130ms/step - loss: 1.0894 - accuracy: 0.4165 - val_loss: 0.9757 - val_accuracy: 0.4874\n",
            "Epoch 2/70\n",
            "109/109 [==============================] - 13s 117ms/step - loss: 0.9282 - accuracy: 0.5287 - val_loss: 1.0371 - val_accuracy: 0.5052\n",
            "Epoch 3/70\n",
            "109/109 [==============================] - 13s 120ms/step - loss: 0.9255 - accuracy: 0.5239 - val_loss: 0.9675 - val_accuracy: 0.4919\n",
            "Epoch 4/70\n",
            "109/109 [==============================] - 13s 123ms/step - loss: 0.9159 - accuracy: 0.5283 - val_loss: 0.9315 - val_accuracy: 0.5185\n",
            "Epoch 5/70\n",
            "109/109 [==============================] - 13s 123ms/step - loss: 0.8917 - accuracy: 0.5493 - val_loss: 0.9519 - val_accuracy: 0.5096\n",
            "Epoch 6/70\n",
            "109/109 [==============================] - 13s 119ms/step - loss: 0.8899 - accuracy: 0.5611 - val_loss: 0.9495 - val_accuracy: 0.5052\n",
            "Epoch 7/70\n",
            "109/109 [==============================] - 13s 116ms/step - loss: 0.8816 - accuracy: 0.5570 - val_loss: 0.9474 - val_accuracy: 0.5452\n",
            "Epoch 8/70\n",
            "109/109 [==============================] - 13s 116ms/step - loss: 0.8644 - accuracy: 0.5942 - val_loss: 0.9220 - val_accuracy: 0.5556\n",
            "Epoch 9/70\n",
            "109/109 [==============================] - 13s 116ms/step - loss: 0.8506 - accuracy: 0.6034 - val_loss: 0.9298 - val_accuracy: 0.5481\n",
            "Epoch 10/70\n",
            "109/109 [==============================] - 13s 123ms/step - loss: 0.8203 - accuracy: 0.6295 - val_loss: 0.9587 - val_accuracy: 0.5570\n",
            "Epoch 11/70\n",
            "109/109 [==============================] - 14s 127ms/step - loss: 0.8063 - accuracy: 0.6317 - val_loss: 0.8875 - val_accuracy: 0.5778\n",
            "Epoch 12/70\n",
            "109/109 [==============================] - 14s 125ms/step - loss: 0.7855 - accuracy: 0.6402 - val_loss: 0.9570 - val_accuracy: 0.5452\n",
            "Epoch 13/70\n",
            "109/109 [==============================] - 13s 119ms/step - loss: 0.7799 - accuracy: 0.6472 - val_loss: 1.0071 - val_accuracy: 0.5867\n",
            "Epoch 14/70\n",
            "109/109 [==============================] - 13s 116ms/step - loss: 0.7507 - accuracy: 0.6700 - val_loss: 0.8646 - val_accuracy: 0.5926\n",
            "Epoch 15/70\n",
            "109/109 [==============================] - 13s 115ms/step - loss: 0.7501 - accuracy: 0.6645 - val_loss: 0.8674 - val_accuracy: 0.6222\n",
            "Epoch 16/70\n",
            "109/109 [==============================] - 14s 125ms/step - loss: 0.7185 - accuracy: 0.6928 - val_loss: 0.8339 - val_accuracy: 0.6104\n",
            "Epoch 17/70\n",
            "109/109 [==============================] - 13s 124ms/step - loss: 0.6962 - accuracy: 0.7013 - val_loss: 0.8176 - val_accuracy: 0.6578\n",
            "Epoch 18/70\n",
            "109/109 [==============================] - 13s 122ms/step - loss: 0.6777 - accuracy: 0.7130 - val_loss: 0.8676 - val_accuracy: 0.6341\n",
            "Epoch 19/70\n",
            "109/109 [==============================] - 13s 121ms/step - loss: 0.6963 - accuracy: 0.6991 - val_loss: 0.8094 - val_accuracy: 0.6533\n",
            "Epoch 20/70\n",
            "109/109 [==============================] - 13s 119ms/step - loss: 0.6544 - accuracy: 0.7226 - val_loss: 0.8888 - val_accuracy: 0.6489\n",
            "Epoch 21/70\n",
            "109/109 [==============================] - 13s 123ms/step - loss: 0.6331 - accuracy: 0.7358 - val_loss: 0.7968 - val_accuracy: 0.6533\n",
            "Epoch 22/70\n",
            "109/109 [==============================] - 13s 124ms/step - loss: 0.6261 - accuracy: 0.7454 - val_loss: 0.8037 - val_accuracy: 0.6504\n",
            "Epoch 23/70\n",
            "109/109 [==============================] - 13s 119ms/step - loss: 0.5996 - accuracy: 0.7506 - val_loss: 0.7886 - val_accuracy: 0.6504\n",
            "Epoch 24/70\n",
            "109/109 [==============================] - 13s 116ms/step - loss: 0.5852 - accuracy: 0.7535 - val_loss: 0.7868 - val_accuracy: 0.6607\n",
            "Epoch 25/70\n",
            "109/109 [==============================] - 13s 116ms/step - loss: 0.5669 - accuracy: 0.7671 - val_loss: 0.8141 - val_accuracy: 0.6652\n",
            "Epoch 26/70\n",
            "109/109 [==============================] - 13s 123ms/step - loss: 0.5688 - accuracy: 0.7719 - val_loss: 0.7553 - val_accuracy: 0.6800\n",
            "Epoch 27/70\n",
            "109/109 [==============================] - 14s 129ms/step - loss: 0.5422 - accuracy: 0.7848 - val_loss: 0.7957 - val_accuracy: 0.6622\n",
            "Epoch 28/70\n",
            "109/109 [==============================] - 13s 120ms/step - loss: 0.5245 - accuracy: 0.7837 - val_loss: 0.7254 - val_accuracy: 0.7067\n",
            "Epoch 29/70\n",
            "109/109 [==============================] - 13s 117ms/step - loss: 0.5291 - accuracy: 0.7833 - val_loss: 0.7176 - val_accuracy: 0.7333\n",
            "Epoch 30/70\n",
            "109/109 [==============================] - 12s 114ms/step - loss: 0.5026 - accuracy: 0.7969 - val_loss: 0.7626 - val_accuracy: 0.6593\n",
            "Epoch 31/70\n",
            "109/109 [==============================] - 13s 120ms/step - loss: 0.4946 - accuracy: 0.7969 - val_loss: 0.8012 - val_accuracy: 0.7037\n",
            "Epoch 32/70\n",
            "109/109 [==============================] - 13s 122ms/step - loss: 0.4840 - accuracy: 0.7969 - val_loss: 0.7537 - val_accuracy: 0.7022\n",
            "Epoch 33/70\n",
            "109/109 [==============================] - 14s 125ms/step - loss: 0.4659 - accuracy: 0.8109 - val_loss: 0.7093 - val_accuracy: 0.6993\n",
            "Epoch 34/70\n",
            "109/109 [==============================] - 13s 123ms/step - loss: 0.4466 - accuracy: 0.8274 - val_loss: 0.7568 - val_accuracy: 0.7007\n",
            "Epoch 35/70\n",
            "109/109 [==============================] - 13s 120ms/step - loss: 0.4528 - accuracy: 0.8212 - val_loss: 0.6831 - val_accuracy: 0.7052\n",
            "Epoch 36/70\n",
            "109/109 [==============================] - 13s 119ms/step - loss: 0.4275 - accuracy: 0.8263 - val_loss: 0.7235 - val_accuracy: 0.7274\n",
            "Epoch 37/70\n",
            "109/109 [==============================] - 13s 123ms/step - loss: 0.4000 - accuracy: 0.8381 - val_loss: 0.6746 - val_accuracy: 0.7274\n",
            "Epoch 38/70\n",
            "109/109 [==============================] - 13s 123ms/step - loss: 0.4015 - accuracy: 0.8392 - val_loss: 0.7400 - val_accuracy: 0.7081\n",
            "Epoch 39/70\n",
            "109/109 [==============================] - 13s 116ms/step - loss: 0.4164 - accuracy: 0.8300 - val_loss: 0.6518 - val_accuracy: 0.7393\n",
            "Epoch 40/70\n",
            "109/109 [==============================] - 13s 116ms/step - loss: 0.3820 - accuracy: 0.8484 - val_loss: 0.6591 - val_accuracy: 0.7200\n",
            "Epoch 41/70\n",
            "109/109 [==============================] - 13s 117ms/step - loss: 0.3690 - accuracy: 0.8447 - val_loss: 0.7446 - val_accuracy: 0.6993\n",
            "Epoch 42/70\n",
            "109/109 [==============================] - 14s 127ms/step - loss: 0.3691 - accuracy: 0.8521 - val_loss: 0.7829 - val_accuracy: 0.7067\n",
            "Epoch 43/70\n",
            "109/109 [==============================] - 14s 125ms/step - loss: 0.3537 - accuracy: 0.8550 - val_loss: 0.7501 - val_accuracy: 0.7333\n",
            "Epoch 44/70\n",
            "109/109 [==============================] - 13s 119ms/step - loss: 0.3648 - accuracy: 0.8506 - val_loss: 0.6950 - val_accuracy: 0.7304\n",
            "Epoch 45/70\n",
            "109/109 [==============================] - 13s 115ms/step - loss: 0.3548 - accuracy: 0.8565 - val_loss: 0.6827 - val_accuracy: 0.7511\n",
            "Epoch 46/70\n",
            "109/109 [==============================] - 13s 120ms/step - loss: 0.3245 - accuracy: 0.8745 - val_loss: 0.7529 - val_accuracy: 0.7407\n",
            "Epoch 47/70\n",
            "109/109 [==============================] - 14s 124ms/step - loss: 0.3504 - accuracy: 0.8635 - val_loss: 0.7170 - val_accuracy: 0.7230\n",
            "Epoch 48/70\n",
            "109/109 [==============================] - 13s 123ms/step - loss: 0.3346 - accuracy: 0.8753 - val_loss: 0.7681 - val_accuracy: 0.7141\n",
            "Epoch 49/70\n",
            "109/109 [==============================] - 13s 123ms/step - loss: 0.3383 - accuracy: 0.8675 - val_loss: 0.6772 - val_accuracy: 0.7467\n",
            "Epoch 50/70\n",
            "109/109 [==============================] - 13s 117ms/step - loss: 0.3194 - accuracy: 0.8782 - val_loss: 0.7030 - val_accuracy: 0.7452\n",
            "Epoch 51/70\n",
            "109/109 [==============================] - 13s 120ms/step - loss: 0.3475 - accuracy: 0.8565 - val_loss: 0.7674 - val_accuracy: 0.7511\n",
            "Epoch 52/70\n",
            "109/109 [==============================] - 13s 123ms/step - loss: 0.3040 - accuracy: 0.8753 - val_loss: 0.8876 - val_accuracy: 0.7363\n",
            "Epoch 53/70\n",
            "109/109 [==============================] - 13s 123ms/step - loss: 0.3053 - accuracy: 0.8856 - val_loss: 0.7581 - val_accuracy: 0.7333\n",
            "Epoch 54/70\n",
            "109/109 [==============================] - 13s 115ms/step - loss: 0.2920 - accuracy: 0.8863 - val_loss: 0.6987 - val_accuracy: 0.7615\n",
            "Epoch 55/70\n",
            "109/109 [==============================] - 13s 115ms/step - loss: 0.2921 - accuracy: 0.8863 - val_loss: 0.8876 - val_accuracy: 0.7585\n",
            "Epoch 56/70\n",
            "109/109 [==============================] - 13s 116ms/step - loss: 0.3301 - accuracy: 0.8716 - val_loss: 0.6636 - val_accuracy: 0.7496\n",
            "Epoch 57/70\n",
            "109/109 [==============================] - 14s 127ms/step - loss: 0.2955 - accuracy: 0.8834 - val_loss: 0.6726 - val_accuracy: 0.7363\n",
            "Epoch 58/70\n",
            "109/109 [==============================] - 14s 125ms/step - loss: 0.2673 - accuracy: 0.8933 - val_loss: 0.7302 - val_accuracy: 0.7348\n",
            "Epoch 59/70\n",
            "109/109 [==============================] - 13s 118ms/step - loss: 0.2843 - accuracy: 0.8944 - val_loss: 0.7289 - val_accuracy: 0.7407\n",
            "Epoch 60/70\n",
            "109/109 [==============================] - 13s 115ms/step - loss: 0.2882 - accuracy: 0.8907 - val_loss: 0.8445 - val_accuracy: 0.7422\n",
            "Epoch 61/70\n",
            "109/109 [==============================] - 13s 118ms/step - loss: 0.2552 - accuracy: 0.9014 - val_loss: 0.7140 - val_accuracy: 0.7674\n",
            "Epoch 62/70\n",
            "109/109 [==============================] - 14s 126ms/step - loss: 0.2538 - accuracy: 0.9025 - val_loss: 0.7532 - val_accuracy: 0.7807\n",
            "Epoch 63/70\n",
            "109/109 [==============================] - 13s 124ms/step - loss: 0.2438 - accuracy: 0.9032 - val_loss: 0.8591 - val_accuracy: 0.7585\n",
            "Epoch 64/70\n",
            "109/109 [==============================] - 13s 124ms/step - loss: 0.2454 - accuracy: 0.9088 - val_loss: 0.7434 - val_accuracy: 0.7674\n",
            "Epoch 65/70\n",
            "109/109 [==============================] - 13s 118ms/step - loss: 0.2349 - accuracy: 0.9091 - val_loss: 0.8591 - val_accuracy: 0.7363\n",
            "Epoch 66/70\n",
            "109/109 [==============================] - 13s 119ms/step - loss: 0.2477 - accuracy: 0.9069 - val_loss: 0.8083 - val_accuracy: 0.7481\n",
            "Epoch 67/70\n",
            "109/109 [==============================] - 14s 126ms/step - loss: 0.2474 - accuracy: 0.9062 - val_loss: 0.7444 - val_accuracy: 0.7467\n",
            "Epoch 68/70\n",
            "109/109 [==============================] - 13s 122ms/step - loss: 0.2679 - accuracy: 0.8977 - val_loss: 0.9003 - val_accuracy: 0.7437\n",
            "Epoch 69/70\n",
            "109/109 [==============================] - 13s 116ms/step - loss: 0.2526 - accuracy: 0.9062 - val_loss: 0.6938 - val_accuracy: 0.7496\n",
            "Epoch 70/70\n",
            "109/109 [==============================] - 13s 115ms/step - loss: 0.2435 - accuracy: 0.9099 - val_loss: 0.7926 - val_accuracy: 0.7526\n"
          ],
          "name": "stdout"
        }
      ]
    },
    {
      "cell_type": "code",
      "metadata": {
        "id": "uXCDgAs3HnMc",
        "colab_type": "code",
        "outputId": "370c82d9-5c60-4d58-ab87-4d89317c724f",
        "colab": {
          "base_uri": "https://localhost:8080/",
          "height": 279
        }
      },
      "source": [
        "plt.plot(history.history['accuracy'], \n",
        "         label='Доля верных ответов на обучающем наборе')\n",
        "plt.plot(history.history['val_accuracy'], \n",
        "         label='Доля верных ответов на проверочном наборе')\n",
        "plt.xlabel('Эпоха обучения')\n",
        "plt.ylabel('Доля верных ответов')\n",
        "plt.legend()\n",
        "plt.show()"
      ],
      "execution_count": 0,
      "outputs": [
        {
          "output_type": "display_data",
          "data": {
            "image/png": "[encoded data removed]",
            "text/plain": [
              "<Figure size 432x288 with 1 Axes>"
            ]
          },
          "metadata": {
            "tags": [],
            "needs_background": "light"
          }
        }
      ]
    },
    {
      "cell_type": "code",
      "metadata": {
        "id": "Ks5iqOcXN8_3",
        "colab_type": "code",
        "colab": {}
      },
      "source": [
        "# не впечатляет)"
      ],
      "execution_count": 0,
      "outputs": []
    },
    {
      "cell_type": "code",
      "metadata": {
        "id": "HbUhxJtLN_hJ",
        "colab_type": "code",
        "colab": {}
      },
      "source": [
        "# delete maxpool layers and lower count neuron in Dense-layers\n",
        "# because memory problem\n",
        "model = Sequential()\n",
        "model.add(Conv2D(256, (3, 3), padding='same', activation='relu', input_shape=(img_width, img_height, 3)))\n",
        "model.add(Conv2D(256, (3, 3), padding='same', activation='relu'))\n",
        "model.add(Conv2D(256, (3, 3), padding='same', activation='relu'))\n",
        "model.add(Dropout(0.2))\n",
        "model.add(Conv2D(256, (3, 3), padding='same', activation='relu'))\n",
        "model.add(Dropout(0.2))\n",
        "model.add(Flatten())\n",
        "model.add(Dense(148, activation='relu'))\n",
        "model.add(Dense(96, activation='relu'))\n",
        "model.add(Dense(len(train_generator.class_indices), activation='softmax'))\n",
        "model.compile(loss='categorical_crossentropy', optimizer='adam', metrics=['accuracy'])"
      ],
      "execution_count": 0,
      "outputs": []
    },
    {
      "cell_type": "code",
      "metadata": {
        "id": "WBGMzgI_OAM_",
        "colab_type": "code",
        "outputId": "aff314e2-b9dc-4432-8389-8233953e0e63",
        "colab": {
          "base_uri": "https://localhost:8080/",
          "height": 1000
        }
      },
      "source": [
        "history = model.fit_generator(\n",
        "    train_generator,\n",
        "    steps_per_epoch = train_generator.samples // batch_size,\n",
        "    validation_data = validation_generator, \n",
        "    validation_steps = validation_generator.samples // batch_size,\n",
        "    epochs=70,\n",
        "    verbose=1\n",
        ")"
      ],
      "execution_count": 0,
      "outputs": [
        {
          "output_type": "stream",
          "text": [
            "WARNING:tensorflow:From <ipython-input-8-024e8631c8d8>:7: Model.fit_generator (from tensorflow.python.keras.engine.training) is deprecated and will be removed in a future version.\n",
            "Instructions for updating:\n",
            "Please use Model.fit, which supports generators.\n",
            "Epoch 1/70\n",
            "109/109 [==============================] - 61s 562ms/step - loss: 1.4514 - accuracy: 0.3503 - val_loss: 1.0981 - val_accuracy: 0.3437\n",
            "Epoch 2/70\n",
            "109/109 [==============================] - 60s 554ms/step - loss: 1.0581 - accuracy: 0.4025 - val_loss: 0.9526 - val_accuracy: 0.5067\n",
            "Epoch 3/70\n",
            "109/109 [==============================] - 61s 556ms/step - loss: 0.9382 - accuracy: 0.5313 - val_loss: 0.9430 - val_accuracy: 0.5259\n",
            "Epoch 4/70\n",
            "109/109 [==============================] - 61s 556ms/step - loss: 0.8934 - accuracy: 0.5655 - val_loss: 0.9656 - val_accuracy: 0.5111\n",
            "Epoch 5/70\n",
            "109/109 [==============================] - 61s 556ms/step - loss: 0.8904 - accuracy: 0.5688 - val_loss: 0.9655 - val_accuracy: 0.4904\n",
            "Epoch 6/70\n",
            "109/109 [==============================] - 61s 557ms/step - loss: 0.8863 - accuracy: 0.5681 - val_loss: 0.9423 - val_accuracy: 0.5259\n",
            "Epoch 7/70\n",
            "109/109 [==============================] - 61s 556ms/step - loss: 0.8712 - accuracy: 0.5791 - val_loss: 1.0662 - val_accuracy: 0.5081\n",
            "Epoch 8/70\n",
            "109/109 [==============================] - 60s 555ms/step - loss: 0.8812 - accuracy: 0.5728 - val_loss: 0.9476 - val_accuracy: 0.5274\n",
            "Epoch 9/70\n",
            "109/109 [==============================] - 61s 555ms/step - loss: 0.8679 - accuracy: 0.5802 - val_loss: 0.9462 - val_accuracy: 0.5111\n",
            "Epoch 10/70\n",
            "109/109 [==============================] - 60s 555ms/step - loss: 0.8640 - accuracy: 0.5820 - val_loss: 0.9310 - val_accuracy: 0.5348\n",
            "Epoch 11/70\n",
            "109/109 [==============================] - 60s 555ms/step - loss: 0.8686 - accuracy: 0.5828 - val_loss: 0.9507 - val_accuracy: 0.5304\n",
            "Epoch 12/70\n",
            "109/109 [==============================] - 61s 555ms/step - loss: 0.8485 - accuracy: 0.5968 - val_loss: 0.9548 - val_accuracy: 0.5467\n",
            "Epoch 13/70\n",
            "109/109 [==============================] - 61s 555ms/step - loss: 0.8426 - accuracy: 0.5971 - val_loss: 1.0745 - val_accuracy: 0.5170\n",
            "Epoch 14/70\n",
            "109/109 [==============================] - 60s 554ms/step - loss: 0.8408 - accuracy: 0.5975 - val_loss: 0.9518 - val_accuracy: 0.5170\n",
            "Epoch 15/70\n",
            "109/109 [==============================] - 60s 555ms/step - loss: 0.8384 - accuracy: 0.6056 - val_loss: 0.9421 - val_accuracy: 0.5363\n",
            "Epoch 16/70\n",
            "109/109 [==============================] - 60s 555ms/step - loss: 0.8259 - accuracy: 0.6008 - val_loss: 0.9260 - val_accuracy: 0.5778\n",
            "Epoch 17/70\n",
            "109/109 [==============================] - 60s 554ms/step - loss: 0.8138 - accuracy: 0.6255 - val_loss: 0.9572 - val_accuracy: 0.5526\n",
            "Epoch 18/70\n",
            "109/109 [==============================] - 60s 554ms/step - loss: 0.8103 - accuracy: 0.6085 - val_loss: 0.9789 - val_accuracy: 0.5274\n",
            "Epoch 19/70\n",
            "109/109 [==============================] - 60s 554ms/step - loss: 0.8006 - accuracy: 0.6361 - val_loss: 1.0005 - val_accuracy: 0.5689\n",
            "Epoch 20/70\n",
            "109/109 [==============================] - 60s 552ms/step - loss: 0.8286 - accuracy: 0.6118 - val_loss: 1.0054 - val_accuracy: 0.5215\n",
            "Epoch 21/70\n",
            "109/109 [==============================] - 60s 553ms/step - loss: 0.8253 - accuracy: 0.5960 - val_loss: 0.9733 - val_accuracy: 0.5319\n",
            "Epoch 22/70\n",
            "109/109 [==============================] - 61s 556ms/step - loss: 0.7992 - accuracy: 0.6210 - val_loss: 0.9791 - val_accuracy: 0.5511\n",
            "Epoch 23/70\n",
            "109/109 [==============================] - 61s 555ms/step - loss: 0.7749 - accuracy: 0.6387 - val_loss: 1.0497 - val_accuracy: 0.5215\n",
            "Epoch 24/70\n",
            "109/109 [==============================] - 61s 556ms/step - loss: 0.7735 - accuracy: 0.6424 - val_loss: 0.9441 - val_accuracy: 0.5630\n",
            "Epoch 25/70\n",
            "109/109 [==============================] - 60s 555ms/step - loss: 0.7679 - accuracy: 0.6394 - val_loss: 0.9662 - val_accuracy: 0.5585\n",
            "Epoch 26/70\n",
            "109/109 [==============================] - 61s 556ms/step - loss: 0.7442 - accuracy: 0.6505 - val_loss: 0.9542 - val_accuracy: 0.5793\n",
            "Epoch 27/70\n",
            "109/109 [==============================] - 61s 556ms/step - loss: 0.7269 - accuracy: 0.6670 - val_loss: 0.9482 - val_accuracy: 0.5822\n",
            "Epoch 28/70\n",
            "109/109 [==============================] - 61s 555ms/step - loss: 0.7338 - accuracy: 0.6593 - val_loss: 0.9355 - val_accuracy: 0.5852\n",
            "Epoch 29/70\n",
            "109/109 [==============================] - 61s 555ms/step - loss: 0.7342 - accuracy: 0.6630 - val_loss: 0.9028 - val_accuracy: 0.5941\n",
            "Epoch 30/70\n",
            "109/109 [==============================] - 61s 555ms/step - loss: 0.7049 - accuracy: 0.6777 - val_loss: 0.9403 - val_accuracy: 0.5896\n",
            "Epoch 31/70\n",
            "109/109 [==============================] - 61s 555ms/step - loss: 0.7453 - accuracy: 0.6626 - val_loss: 0.9036 - val_accuracy: 0.5881\n",
            "Epoch 32/70\n",
            "109/109 [==============================] - 60s 555ms/step - loss: 0.7034 - accuracy: 0.6884 - val_loss: 1.0176 - val_accuracy: 0.5941\n",
            "Epoch 33/70\n",
            "109/109 [==============================] - 61s 556ms/step - loss: 0.6881 - accuracy: 0.6939 - val_loss: 0.9259 - val_accuracy: 0.5748\n",
            "Epoch 34/70\n",
            "109/109 [==============================] - 61s 555ms/step - loss: 0.6840 - accuracy: 0.6909 - val_loss: 1.0284 - val_accuracy: 0.6119\n",
            "Epoch 35/70\n",
            "109/109 [==============================] - 61s 556ms/step - loss: 0.6882 - accuracy: 0.6968 - val_loss: 0.9387 - val_accuracy: 0.6119\n",
            "Epoch 36/70\n",
            "109/109 [==============================] - 61s 556ms/step - loss: 0.6732 - accuracy: 0.7108 - val_loss: 0.8802 - val_accuracy: 0.6207\n",
            "Epoch 37/70\n",
            "109/109 [==============================] - 60s 554ms/step - loss: 0.6599 - accuracy: 0.7119 - val_loss: 0.8907 - val_accuracy: 0.6296\n",
            "Epoch 38/70\n",
            "109/109 [==============================] - 60s 554ms/step - loss: 0.6546 - accuracy: 0.7042 - val_loss: 0.9961 - val_accuracy: 0.6104\n",
            "Epoch 39/70\n",
            "109/109 [==============================] - 61s 555ms/step - loss: 0.6580 - accuracy: 0.7167 - val_loss: 0.8976 - val_accuracy: 0.6074\n",
            "Epoch 40/70\n",
            "109/109 [==============================] - 61s 555ms/step - loss: 0.6336 - accuracy: 0.7230 - val_loss: 0.8990 - val_accuracy: 0.6281\n",
            "Epoch 41/70\n",
            "109/109 [==============================] - 61s 556ms/step - loss: 0.6200 - accuracy: 0.7311 - val_loss: 0.8543 - val_accuracy: 0.6459\n",
            "Epoch 42/70\n",
            "109/109 [==============================] - 61s 555ms/step - loss: 0.6127 - accuracy: 0.7373 - val_loss: 0.8458 - val_accuracy: 0.6504\n",
            "Epoch 43/70\n",
            "109/109 [==============================] - 61s 556ms/step - loss: 0.6128 - accuracy: 0.7443 - val_loss: 0.9714 - val_accuracy: 0.6267\n",
            "Epoch 44/70\n",
            "109/109 [==============================] - 60s 555ms/step - loss: 0.5866 - accuracy: 0.7601 - val_loss: 0.9694 - val_accuracy: 0.6415\n",
            "Epoch 45/70\n",
            "109/109 [==============================] - 61s 555ms/step - loss: 0.5946 - accuracy: 0.7454 - val_loss: 0.9394 - val_accuracy: 0.6296\n",
            "Epoch 46/70\n",
            "109/109 [==============================] - 60s 555ms/step - loss: 0.5688 - accuracy: 0.7568 - val_loss: 0.9608 - val_accuracy: 0.6311\n",
            "Epoch 47/70\n",
            "109/109 [==============================] - 61s 555ms/step - loss: 0.5664 - accuracy: 0.7550 - val_loss: 0.9644 - val_accuracy: 0.6326\n",
            "Epoch 48/70\n",
            "109/109 [==============================] - 60s 555ms/step - loss: 0.5584 - accuracy: 0.7697 - val_loss: 0.9496 - val_accuracy: 0.6415\n",
            "Epoch 49/70\n",
            "109/109 [==============================] - 60s 555ms/step - loss: 0.5437 - accuracy: 0.7712 - val_loss: 1.0545 - val_accuracy: 0.6296\n",
            "Epoch 50/70\n",
            "109/109 [==============================] - 60s 555ms/step - loss: 0.5522 - accuracy: 0.7693 - val_loss: 0.9419 - val_accuracy: 0.5941\n",
            "Epoch 51/70\n",
            "109/109 [==============================] - 60s 555ms/step - loss: 0.5398 - accuracy: 0.7767 - val_loss: 0.9701 - val_accuracy: 0.6296\n",
            "Epoch 52/70\n",
            "109/109 [==============================] - 60s 553ms/step - loss: 0.5567 - accuracy: 0.7601 - val_loss: 0.9722 - val_accuracy: 0.6444\n",
            "Epoch 53/70\n",
            "109/109 [==============================] - 60s 553ms/step - loss: 0.5484 - accuracy: 0.7737 - val_loss: 0.9656 - val_accuracy: 0.6578\n",
            "Epoch 54/70\n",
            "109/109 [==============================] - 60s 554ms/step - loss: 0.5499 - accuracy: 0.7719 - val_loss: 0.9304 - val_accuracy: 0.6474\n",
            "Epoch 55/70\n",
            "109/109 [==============================] - 60s 555ms/step - loss: 0.4986 - accuracy: 0.7991 - val_loss: 0.9289 - val_accuracy: 0.6385\n",
            "Epoch 56/70\n",
            "109/109 [==============================] - 61s 555ms/step - loss: 0.5120 - accuracy: 0.7925 - val_loss: 0.9598 - val_accuracy: 0.5926\n",
            "Epoch 57/70\n",
            "109/109 [==============================] - 61s 556ms/step - loss: 0.4936 - accuracy: 0.7903 - val_loss: 1.0143 - val_accuracy: 0.6563\n",
            "Epoch 58/70\n",
            "109/109 [==============================] - 61s 555ms/step - loss: 0.4811 - accuracy: 0.8028 - val_loss: 1.0021 - val_accuracy: 0.6311\n",
            "Epoch 59/70\n",
            "109/109 [==============================] - 61s 556ms/step - loss: 0.4686 - accuracy: 0.8061 - val_loss: 0.8549 - val_accuracy: 0.6830\n",
            "Epoch 60/70\n",
            "109/109 [==============================] - 61s 555ms/step - loss: 0.4542 - accuracy: 0.8149 - val_loss: 1.0072 - val_accuracy: 0.6400\n",
            "Epoch 61/70\n",
            "109/109 [==============================] - 60s 555ms/step - loss: 0.4808 - accuracy: 0.7947 - val_loss: 1.0305 - val_accuracy: 0.6281\n",
            "Epoch 62/70\n",
            "109/109 [==============================] - 61s 556ms/step - loss: 0.4453 - accuracy: 0.8238 - val_loss: 0.9830 - val_accuracy: 0.6741\n",
            "Epoch 63/70\n",
            "109/109 [==============================] - 61s 555ms/step - loss: 0.4411 - accuracy: 0.8149 - val_loss: 0.9668 - val_accuracy: 0.6593\n",
            "Epoch 64/70\n",
            "109/109 [==============================] - 60s 555ms/step - loss: 0.4283 - accuracy: 0.8282 - val_loss: 1.0063 - val_accuracy: 0.6474\n",
            "Epoch 65/70\n",
            "109/109 [==============================] - 60s 555ms/step - loss: 0.4143 - accuracy: 0.8282 - val_loss: 0.9651 - val_accuracy: 0.6489\n",
            "Epoch 66/70\n",
            "109/109 [==============================] - 60s 555ms/step - loss: 0.4221 - accuracy: 0.8230 - val_loss: 1.0518 - val_accuracy: 0.6444\n",
            "Epoch 67/70\n",
            "109/109 [==============================] - 60s 555ms/step - loss: 0.4164 - accuracy: 0.8359 - val_loss: 1.0973 - val_accuracy: 0.6785\n",
            "Epoch 68/70\n",
            "109/109 [==============================] - 61s 557ms/step - loss: 0.3929 - accuracy: 0.8436 - val_loss: 1.0388 - val_accuracy: 0.6193\n",
            "Epoch 69/70\n",
            "109/109 [==============================] - 61s 556ms/step - loss: 0.4002 - accuracy: 0.8330 - val_loss: 0.9388 - val_accuracy: 0.6563\n",
            "Epoch 70/70\n",
            "109/109 [==============================] - 61s 556ms/step - loss: 0.4085 - accuracy: 0.8326 - val_loss: 0.9901 - val_accuracy: 0.6652\n"
          ],
          "name": "stdout"
        }
      ]
    },
    {
      "cell_type": "code",
      "metadata": {
        "id": "SIfInCobOLE-",
        "colab_type": "code",
        "outputId": "f6964bf9-354b-41b4-ee30-3f601ed69dd4",
        "colab": {
          "base_uri": "https://localhost:8080/",
          "height": 279
        }
      },
      "source": [
        "plt.plot(history.history['accuracy'], \n",
        "         label='Доля верных ответов на обучающем наборе')\n",
        "plt.plot(history.history['val_accuracy'], \n",
        "         label='Доля верных ответов на проверочном наборе')\n",
        "plt.xlabel('Эпоха обучения')\n",
        "plt.ylabel('Доля верных ответов')\n",
        "plt.legend()\n",
        "plt.show()"
      ],
      "execution_count": 0,
      "outputs": [
        {
          "output_type": "display_data",
          "data": {
            "image/png": "[encoded data removed]",
            "text/plain": [
              "<Figure size 432x288 with 1 Axes>"
            ]
          },
          "metadata": {
            "tags": [],
            "needs_background": "light"
          }
        }
      ]
    },
    {
      "cell_type": "code",
      "metadata": {
        "id": "2-pgvOTjON3k",
        "colab_type": "code",
        "colab": {}
      },
      "source": [
        "# ну этого и следовало ожидать"
      ],
      "execution_count": 0,
      "outputs": []
    },
    {
      "cell_type": "code",
      "metadata": {
        "id": "1XlN95WQOhtV",
        "colab_type": "code",
        "colab": {}
      },
      "source": [
        "# delete dropout layers\n",
        "model = Sequential()\n",
        "model.add(Conv2D(256, (3, 3), padding='same', activation='relu', input_shape=(img_width, img_height, 3)))\n",
        "model.add(Conv2D(256, (3, 3), padding='same', activation='relu'))\n",
        "model.add(MaxPooling2D(pool_size=(3, 3)))\n",
        "model.add(Conv2D(256, (3, 3), padding='same', activation='relu'))\n",
        "model.add(Conv2D(256, (3, 3), padding='same', activation='relu'))\n",
        "model.add(MaxPooling2D(pool_size=(3, 3)))\n",
        "model.add(Conv2D(512, (3, 3), padding='same', activation='relu'))\n",
        "model.add(Conv2D(1024, (3, 3), padding='same', activation='relu'))\n",
        "model.add(MaxPooling2D(pool_size=(3, 3)))\n",
        "model.add(Flatten())\n",
        "model.add(Dense(2048, activation='relu'))\n",
        "model.add(Dense(4096, activation='relu'))\n",
        "model.add(Dense(len(train_generator.class_indices), activation='softmax'))\n",
        "model.compile(loss='categorical_crossentropy', optimizer='adam', metrics=['accuracy'])"
      ],
      "execution_count": 0,
      "outputs": []
    },
    {
      "cell_type": "code",
      "metadata": {
        "id": "8C4QTsU4PihS",
        "colab_type": "code",
        "outputId": "d8528f59-948a-44df-969e-4d9d770d4bbd",
        "colab": {
          "base_uri": "https://localhost:8080/",
          "height": 1000
        }
      },
      "source": [
        "history = model.fit_generator(\n",
        "    train_generator,\n",
        "    steps_per_epoch = train_generator.samples // batch_size,\n",
        "    validation_data = validation_generator, \n",
        "    validation_steps = validation_generator.samples // batch_size,\n",
        "    epochs=70,\n",
        "    verbose=1\n",
        ")"
      ],
      "execution_count": 0,
      "outputs": [
        {
          "output_type": "stream",
          "text": [
            "Epoch 1/70\n",
            "109/109 [==============================] - 24s 222ms/step - loss: 1.0634 - accuracy: 0.4198 - val_loss: 0.9534 - val_accuracy: 0.4756\n",
            "Epoch 2/70\n",
            "109/109 [==============================] - 24s 216ms/step - loss: 0.9404 - accuracy: 0.5173 - val_loss: 0.9476 - val_accuracy: 0.5007\n",
            "Epoch 3/70\n",
            "109/109 [==============================] - 23s 213ms/step - loss: 0.9186 - accuracy: 0.5335 - val_loss: 0.9428 - val_accuracy: 0.5230\n",
            "Epoch 4/70\n",
            "109/109 [==============================] - 23s 215ms/step - loss: 0.9078 - accuracy: 0.5280 - val_loss: 0.9419 - val_accuracy: 0.5141\n",
            "Epoch 5/70\n",
            "109/109 [==============================] - 23s 215ms/step - loss: 0.8958 - accuracy: 0.5574 - val_loss: 0.9741 - val_accuracy: 0.5333\n",
            "Epoch 6/70\n",
            "109/109 [==============================] - 23s 213ms/step - loss: 0.8868 - accuracy: 0.5497 - val_loss: 0.9303 - val_accuracy: 0.5141\n",
            "Epoch 7/70\n",
            "109/109 [==============================] - 24s 217ms/step - loss: 0.8861 - accuracy: 0.5611 - val_loss: 0.9449 - val_accuracy: 0.5259\n",
            "Epoch 8/70\n",
            "109/109 [==============================] - 23s 215ms/step - loss: 0.8818 - accuracy: 0.5717 - val_loss: 0.9335 - val_accuracy: 0.5215\n",
            "Epoch 9/70\n",
            "109/109 [==============================] - 23s 214ms/step - loss: 0.8677 - accuracy: 0.5795 - val_loss: 1.1031 - val_accuracy: 0.4800\n",
            "Epoch 10/70\n",
            "109/109 [==============================] - 24s 218ms/step - loss: 0.8726 - accuracy: 0.5703 - val_loss: 0.9114 - val_accuracy: 0.5467\n",
            "Epoch 11/70\n",
            "109/109 [==============================] - 23s 214ms/step - loss: 0.8485 - accuracy: 0.5993 - val_loss: 0.9206 - val_accuracy: 0.5437\n",
            "Epoch 12/70\n",
            "109/109 [==============================] - 23s 214ms/step - loss: 0.8312 - accuracy: 0.5960 - val_loss: 0.9432 - val_accuracy: 0.5289\n",
            "Epoch 13/70\n",
            "109/109 [==============================] - 23s 215ms/step - loss: 0.8249 - accuracy: 0.6115 - val_loss: 0.8995 - val_accuracy: 0.5733\n",
            "Epoch 14/70\n",
            "109/109 [==============================] - 23s 213ms/step - loss: 0.7879 - accuracy: 0.6244 - val_loss: 0.8743 - val_accuracy: 0.5778\n",
            "Epoch 15/70\n",
            "109/109 [==============================] - 23s 213ms/step - loss: 0.7824 - accuracy: 0.6343 - val_loss: 0.8790 - val_accuracy: 0.5822\n",
            "Epoch 16/70\n",
            "109/109 [==============================] - 24s 216ms/step - loss: 0.7435 - accuracy: 0.6645 - val_loss: 0.8574 - val_accuracy: 0.6074\n",
            "Epoch 17/70\n",
            "109/109 [==============================] - 23s 213ms/step - loss: 0.7274 - accuracy: 0.6718 - val_loss: 0.8557 - val_accuracy: 0.6133\n",
            "Epoch 18/70\n",
            "109/109 [==============================] - 24s 217ms/step - loss: 0.6797 - accuracy: 0.7024 - val_loss: 0.9163 - val_accuracy: 0.5985\n",
            "Epoch 19/70\n",
            "109/109 [==============================] - 23s 215ms/step - loss: 0.6831 - accuracy: 0.7016 - val_loss: 0.8202 - val_accuracy: 0.6193\n",
            "Epoch 20/70\n",
            "109/109 [==============================] - 23s 213ms/step - loss: 0.6707 - accuracy: 0.7079 - val_loss: 0.9932 - val_accuracy: 0.6074\n",
            "Epoch 21/70\n",
            "109/109 [==============================] - 23s 214ms/step - loss: 0.6310 - accuracy: 0.7266 - val_loss: 0.8493 - val_accuracy: 0.6133\n",
            "Epoch 22/70\n",
            "109/109 [==============================] - 23s 213ms/step - loss: 0.6102 - accuracy: 0.7311 - val_loss: 0.9130 - val_accuracy: 0.6533\n",
            "Epoch 23/70\n",
            "109/109 [==============================] - 23s 213ms/step - loss: 0.6187 - accuracy: 0.7421 - val_loss: 0.8420 - val_accuracy: 0.6444\n",
            "Epoch 24/70\n",
            "109/109 [==============================] - 23s 215ms/step - loss: 0.5838 - accuracy: 0.7561 - val_loss: 0.8161 - val_accuracy: 0.6785\n",
            "Epoch 25/70\n",
            "109/109 [==============================] - 23s 215ms/step - loss: 0.5361 - accuracy: 0.7826 - val_loss: 0.7666 - val_accuracy: 0.6800\n",
            "Epoch 26/70\n",
            "109/109 [==============================] - 23s 213ms/step - loss: 0.5243 - accuracy: 0.7851 - val_loss: 0.7379 - val_accuracy: 0.6948\n",
            "Epoch 27/70\n",
            "109/109 [==============================] - 24s 217ms/step - loss: 0.5302 - accuracy: 0.7918 - val_loss: 0.7534 - val_accuracy: 0.6889\n",
            "Epoch 28/70\n",
            "109/109 [==============================] - 23s 213ms/step - loss: 0.4882 - accuracy: 0.8002 - val_loss: 0.7747 - val_accuracy: 0.6919\n",
            "Epoch 29/70\n",
            "109/109 [==============================] - 23s 213ms/step - loss: 0.4914 - accuracy: 0.7965 - val_loss: 0.8066 - val_accuracy: 0.6593\n",
            "Epoch 30/70\n",
            "109/109 [==============================] - 23s 215ms/step - loss: 0.4709 - accuracy: 0.8065 - val_loss: 0.9133 - val_accuracy: 0.6578\n",
            "Epoch 31/70\n",
            "109/109 [==============================] - 23s 215ms/step - loss: 0.4405 - accuracy: 0.8289 - val_loss: 0.8606 - val_accuracy: 0.6711\n",
            "Epoch 32/70\n",
            "109/109 [==============================] - 23s 213ms/step - loss: 0.4456 - accuracy: 0.8208 - val_loss: 0.7524 - val_accuracy: 0.7022\n",
            "Epoch 33/70\n",
            "109/109 [==============================] - 24s 217ms/step - loss: 0.4083 - accuracy: 0.8366 - val_loss: 0.8378 - val_accuracy: 0.7081\n",
            "Epoch 34/70\n",
            "109/109 [==============================] - 23s 215ms/step - loss: 0.3960 - accuracy: 0.8377 - val_loss: 0.8788 - val_accuracy: 0.6978\n",
            "Epoch 35/70\n",
            "109/109 [==============================] - 23s 215ms/step - loss: 0.3813 - accuracy: 0.8484 - val_loss: 0.7559 - val_accuracy: 0.6904\n",
            "Epoch 36/70\n",
            "109/109 [==============================] - 24s 218ms/step - loss: 0.3847 - accuracy: 0.8466 - val_loss: 0.8129 - val_accuracy: 0.7126\n",
            "Epoch 37/70\n",
            "109/109 [==============================] - 23s 215ms/step - loss: 0.3794 - accuracy: 0.8447 - val_loss: 0.7705 - val_accuracy: 0.7126\n",
            "Epoch 38/70\n",
            "109/109 [==============================] - 23s 213ms/step - loss: 0.3558 - accuracy: 0.8628 - val_loss: 0.9259 - val_accuracy: 0.6844\n",
            "Epoch 39/70\n",
            "109/109 [==============================] - 23s 214ms/step - loss: 0.3517 - accuracy: 0.8617 - val_loss: 0.7048 - val_accuracy: 0.7452\n",
            "Epoch 40/70\n",
            "109/109 [==============================] - 23s 213ms/step - loss: 0.3300 - accuracy: 0.8683 - val_loss: 0.7410 - val_accuracy: 0.7230\n",
            "Epoch 41/70\n",
            "109/109 [==============================] - 23s 213ms/step - loss: 0.3271 - accuracy: 0.8679 - val_loss: 0.7933 - val_accuracy: 0.7200\n",
            "Epoch 42/70\n",
            "109/109 [==============================] - 23s 216ms/step - loss: 0.2903 - accuracy: 0.8834 - val_loss: 0.8131 - val_accuracy: 0.7244\n",
            "Epoch 43/70\n",
            "109/109 [==============================] - 23s 215ms/step - loss: 0.2788 - accuracy: 0.8911 - val_loss: 0.8304 - val_accuracy: 0.7348\n",
            "Epoch 44/70\n",
            "109/109 [==============================] - 23s 215ms/step - loss: 0.2820 - accuracy: 0.8929 - val_loss: 0.8589 - val_accuracy: 0.7274\n",
            "Epoch 45/70\n",
            "109/109 [==============================] - 24s 218ms/step - loss: 0.2698 - accuracy: 0.8940 - val_loss: 0.7729 - val_accuracy: 0.7200\n",
            "Epoch 46/70\n",
            "109/109 [==============================] - 23s 215ms/step - loss: 0.2409 - accuracy: 0.9128 - val_loss: 0.9793 - val_accuracy: 0.7319\n",
            "Epoch 47/70\n",
            "109/109 [==============================] - 23s 215ms/step - loss: 0.2493 - accuracy: 0.8988 - val_loss: 0.8946 - val_accuracy: 0.7215\n",
            "Epoch 48/70\n",
            "109/109 [==============================] - 23s 215ms/step - loss: 0.2339 - accuracy: 0.9099 - val_loss: 0.9849 - val_accuracy: 0.7126\n",
            "Epoch 49/70\n",
            "109/109 [==============================] - 23s 213ms/step - loss: 0.2182 - accuracy: 0.9139 - val_loss: 1.0614 - val_accuracy: 0.7452\n",
            "Epoch 50/70\n",
            "109/109 [==============================] - 23s 214ms/step - loss: 0.2122 - accuracy: 0.9146 - val_loss: 0.9938 - val_accuracy: 0.7230\n",
            "Epoch 51/70\n",
            "109/109 [==============================] - 24s 216ms/step - loss: 0.2305 - accuracy: 0.9124 - val_loss: 0.9328 - val_accuracy: 0.7170\n",
            "Epoch 52/70\n",
            "109/109 [==============================] - 24s 216ms/step - loss: 0.2224 - accuracy: 0.9084 - val_loss: 0.8184 - val_accuracy: 0.7215\n",
            "Epoch 53/70\n",
            "109/109 [==============================] - 23s 215ms/step - loss: 0.2001 - accuracy: 0.9220 - val_loss: 0.9075 - val_accuracy: 0.7319\n",
            "Epoch 54/70\n",
            "109/109 [==============================] - 24s 217ms/step - loss: 0.1923 - accuracy: 0.9268 - val_loss: 0.9872 - val_accuracy: 0.7422\n",
            "Epoch 55/70\n",
            "109/109 [==============================] - 23s 215ms/step - loss: 0.2148 - accuracy: 0.9176 - val_loss: 0.8015 - val_accuracy: 0.7274\n",
            "Epoch 56/70\n",
            "109/109 [==============================] - 23s 214ms/step - loss: 0.1936 - accuracy: 0.9283 - val_loss: 1.0182 - val_accuracy: 0.7170\n",
            "Epoch 57/70\n",
            "109/109 [==============================] - 23s 214ms/step - loss: 0.1800 - accuracy: 0.9319 - val_loss: 0.9411 - val_accuracy: 0.7496\n",
            "Epoch 58/70\n",
            "109/109 [==============================] - 23s 215ms/step - loss: 0.1721 - accuracy: 0.9352 - val_loss: 0.9904 - val_accuracy: 0.7481\n",
            "Epoch 59/70\n",
            "109/109 [==============================] - 23s 215ms/step - loss: 0.1801 - accuracy: 0.9375 - val_loss: 0.8182 - val_accuracy: 0.7348\n",
            "Epoch 60/70\n",
            "109/109 [==============================] - 24s 216ms/step - loss: 0.1780 - accuracy: 0.9305 - val_loss: 0.8317 - val_accuracy: 0.7526\n",
            "Epoch 61/70\n",
            "109/109 [==============================] - 23s 215ms/step - loss: 0.2101 - accuracy: 0.9242 - val_loss: 1.1236 - val_accuracy: 0.7481\n",
            "Epoch 62/70\n",
            "109/109 [==============================] - 24s 217ms/step - loss: 0.1836 - accuracy: 0.9360 - val_loss: 0.9533 - val_accuracy: 0.7348\n",
            "Epoch 63/70\n",
            "109/109 [==============================] - 23s 214ms/step - loss: 0.1784 - accuracy: 0.9334 - val_loss: 1.0997 - val_accuracy: 0.7393\n",
            "Epoch 64/70\n",
            "109/109 [==============================] - 23s 215ms/step - loss: 0.1538 - accuracy: 0.9437 - val_loss: 0.9803 - val_accuracy: 0.7452\n",
            "Epoch 65/70\n",
            "109/109 [==============================] - 23s 215ms/step - loss: 0.1515 - accuracy: 0.9430 - val_loss: 1.0958 - val_accuracy: 0.7422\n",
            "Epoch 66/70\n",
            "109/109 [==============================] - 23s 214ms/step - loss: 0.1450 - accuracy: 0.9422 - val_loss: 1.2401 - val_accuracy: 0.7348\n",
            "Epoch 67/70\n",
            "109/109 [==============================] - 23s 214ms/step - loss: 0.1380 - accuracy: 0.9459 - val_loss: 1.1364 - val_accuracy: 0.7541\n",
            "Epoch 68/70\n",
            "109/109 [==============================] - 24s 217ms/step - loss: 0.1305 - accuracy: 0.9508 - val_loss: 0.9818 - val_accuracy: 0.7541\n",
            "Epoch 69/70\n",
            "109/109 [==============================] - 24s 216ms/step - loss: 0.1282 - accuracy: 0.9500 - val_loss: 1.0560 - val_accuracy: 0.7437\n",
            "Epoch 70/70\n",
            "109/109 [==============================] - 23s 215ms/step - loss: 0.1051 - accuracy: 0.9639 - val_loss: 1.3987 - val_accuracy: 0.7496\n"
          ],
          "name": "stdout"
        }
      ]
    },
    {
      "cell_type": "code",
      "metadata": {
        "id": "prqaOjuXPjYw",
        "colab_type": "code",
        "outputId": "47b9c8c1-4c7d-437a-9907-dfa7178a0083",
        "colab": {
          "base_uri": "https://localhost:8080/",
          "height": 279
        }
      },
      "source": [
        "plt.plot(history.history['accuracy'], \n",
        "         label='Доля верных ответов на обучающем наборе')\n",
        "plt.plot(history.history['val_accuracy'], \n",
        "         label='Доля верных ответов на проверочном наборе')\n",
        "plt.xlabel('Эпоха обучения')\n",
        "plt.ylabel('Доля верных ответов')\n",
        "plt.legend()\n",
        "plt.show()"
      ],
      "execution_count": 0,
      "outputs": [
        {
          "output_type": "display_data",
          "data": {
            "image/png": "[encoded data removed]",
            "text/plain": [
              "<Figure size 432x288 with 1 Axes>"
            ]
          },
          "metadata": {
            "tags": [],
            "needs_background": "light"
          }
        }
      ]
    },
    {
      "cell_type": "markdown",
      "metadata": {
        "id": "RFkPNdhBPmyQ",
        "colab_type": "text"
      },
      "source": [
        "# Итоги."
      ]
    },
    {
      "cell_type": "markdown",
      "metadata": {
        "id": "PZmec7xFPpn7",
        "colab_type": "text"
      },
      "source": [
        "1. Количество слоев положительно не отразилось. \n",
        "2. Уменьшение нейронов дало негативный результат.\n",
        "3. Убирание слоев дропаута предсказуемо ухудшило результат.\n",
        "4. C макспулом вообще все сложно, возникли проблемы с памятью, пришлось сильно менять всю нейронку и это дало плохие результаты. Это важный слой при работе с изображениями. "
      ]
    }
  ]
}