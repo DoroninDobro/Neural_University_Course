{
  "nbformat": 4,
  "nbformat_minor": 0,
  "metadata": {
    "colab": {
      "name": "HW_5_Recurrent_Neural_Networks_and_One_Dimensional_Convolutional_Networks_For_Word_Processing_LIGHT.ipynb",
      "provenance": [],
      "collapsed_sections": [],
      "machine_shape": "hm"
    },
    "kernelspec": {
      "name": "python3",
      "display_name": "Python 3"
    },
    "accelerator": "GPU"
  },
  "cells": [
    {
      "cell_type": "markdown",
      "metadata": {
        "id": "HN6pm2WNSppR",
        "colab_type": "text"
      },
      "source": [
        "## Задание"
      ]
    },
    {
      "cell_type": "markdown",
      "metadata": {
        "id": "CZ3v_ZRuOGLn",
        "colab_type": "text"
      },
      "source": [
        "Используя шаблон ноутбука, напишите четыре нейронки для распознавания писателей. Для этого выполните следующее:\n",
        "- Загрузите данные и разделите на слова.\n",
        "- Создайте словарь и превратите данные в индексы.\n",
        "- Превратите данные в обучающую выборку.\n",
        "- Напишите нейронные сети.\n",
        "\n",
        "Четыре нейронки, которые нужно написать:\n",
        "- Embedding + Dense сеть.\n",
        "- Embedding + LSTM сеть.\n",
        "- Embedding + Conv1D сеть.\n",
        "- Embedding + сложная сеть из Dense, LSTM и Conv1D.\n",
        "\n",
        "Для выполнения задания можно смотреть в ноутбук задания, но код желательно писать своими руками, а не копировать.\n"
      ]
    },
    {
      "cell_type": "code",
      "metadata": {
        "id": "9c-p9wyqmSKJ",
        "colab_type": "code",
        "outputId": "96d0b9a3-f409-4fd9-8cb7-8e05ca42bf0d",
        "colab": {
          "base_uri": "https://localhost:8080/",
          "height": 35
        }
      },
      "source": [
        "from tensorflow.keras import utils\n",
        "from tensorflow.keras.models import Sequential\n",
        "from tensorflow.keras.layers import Dense, Dropout, BatchNormalization, Embedding, Flatten, Activation\n",
        "from tensorflow.keras.layers import Conv1D, SpatialDropout1D, MaxPooling1D, GlobalAveragePooling1D, GlobalMaxPooling1D\n",
        "from tensorflow.keras.layers import LSTM, GRU, SimpleRNN, Bidirectional\n",
        "from tensorflow.python.keras.optimizers import Adam, RMSprop\n",
        "from keras.preprocessing.text import Tokenizer, text_to_word_sequence\n",
        "from sklearn.model_selection import train_test_split\n",
        "from google.colab import files\n",
        "import numpy as np\n",
        "import pandas as pd\n",
        "import os\n",
        "import matplotlib.pyplot as plt\n",
        "%matplotlib inline"
      ],
      "execution_count": 2,
      "outputs": [
        {
          "output_type": "stream",
          "text": [
            "Using TensorFlow backend.\n"
          ],
          "name": "stderr"
        }
      ]
    },
    {
      "cell_type": "code",
      "metadata": {
        "id": "X7sTBsOrA_gb",
        "colab_type": "code",
        "outputId": "b33f9207-c970-419d-cccc-e9e752b00eb6",
        "colab": {
          "base_uri": "https://localhost:8080/",
          "height": 128
        }
      },
      "source": [
        "from google.colab import drive\n",
        "drive.mount('/content/drive')"
      ],
      "execution_count": 3,
      "outputs": [
        {
          "output_type": "stream",
          "text": [
            "Go to this URL in a browser: https://accounts.google.com/o/oauth2/auth?client_id=947318989803-6bn6qk8qdgf4n4g3pfee6491hc0brc4i.apps.googleusercontent.com&redirect_uri=urn%3aietf%3awg%3aoauth%3a2.0%3aoob&response_type=code&scope=email%20https%3a%2f%2fwww.googleapis.com%2fauth%2fdocs.test%20https%3a%2f%2fwww.googleapis.com%2fauth%2fdrive%20https%3a%2f%2fwww.googleapis.com%2fauth%2fdrive.photos.readonly%20https%3a%2f%2fwww.googleapis.com%2fauth%2fpeopleapi.readonly\n",
            "\n",
            "Enter your authorization code:\n",
            "··········\n",
            "Mounted at /content/drive\n"
          ],
          "name": "stdout"
        }
      ]
    },
    {
      "cell_type": "code",
      "metadata": {
        "id": "n9g3RU6D6olY",
        "colab_type": "code",
        "colab": {}
      },
      "source": [
        "!unzip -q '/content/drive/My Drive/Тексты писателей.zip' -d /content/texts"
      ],
      "execution_count": 0,
      "outputs": []
    },
    {
      "cell_type": "code",
      "metadata": {
        "id": "8nYuUzgw6NLd",
        "colab_type": "code",
        "colab": {
          "base_uri": "https://localhost:8080/",
          "height": 35
        },
        "outputId": "65166997-909e-49c4-a389-de3adbd63928"
      },
      "source": [
        "!ls"
      ],
      "execution_count": 5,
      "outputs": [
        {
          "output_type": "stream",
          "text": [
            "drive  sample_data  texts\n"
          ],
          "name": "stdout"
        }
      ]
    },
    {
      "cell_type": "code",
      "metadata": {
        "colab_type": "code",
        "id": "axpjh6YdzX9r",
        "colab": {
          "base_uri": "https://localhost:8080/",
          "height": 35
        },
        "outputId": "62eee6d4-27ad-44d8-e314-d3822f1c04c8"
      },
      "source": [
        "def readText(fileName):\n",
        "  f = open(fileName, 'r')\n",
        "  text = f.read().replace('\\n', ' ')\n",
        "  return text\n",
        "\n",
        "className = [\"О. Генри\", \"Стругацкие\", \"Булгаков\", \"Саймак\", \"Фрай\", \"Брэдберри\"]\n",
        "nClasses = len(className)\n",
        "\n",
        "trainText = []\n",
        "testText = []\n",
        "\n",
        "\n",
        "for i in className:\n",
        "  for j in os.listdir('texts/'):\n",
        "    if i in j:\n",
        "      if 'Обучающая' in j: \n",
        "        trainText.append(readText('texts/' + j))\n",
        "      if 'Тестовая' in j:\n",
        "        testText.append(readText('texts/' + j))\n",
        "print(len(trainText))\n",
        "\n",
        "tokenizer = Tokenizer(num_words=20000, filters='!\"#$%&()*+,-–—./…:;<=>?@[\\\\]^_`{|}~«»\\t\\n\\xa0', lower=True, split=' ', oov_token='unknown', char_level=False)\n",
        "tokenizer.fit_on_texts(trainText)\n",
        "trainWordIndexes = tokenizer.texts_to_sequences(trainText)\n",
        "testWordIndexes = tokenizer.texts_to_sequences(testText)"
      ],
      "execution_count": 6,
      "outputs": [
        {
          "output_type": "stream",
          "text": [
            "6\n"
          ],
          "name": "stdout"
        }
      ]
    },
    {
      "cell_type": "code",
      "metadata": {
        "id": "8QxpPm4mM9o6",
        "colab_type": "code",
        "colab": {}
      },
      "source": [
        "def getSetFromIndexes(wordIndexes, xLen, step):\n",
        "  xSample = []\n",
        "  wordsLen = len(wordIndexes)\n",
        "  index = 0\n",
        "  while (index + xLen <= wordsLen):\n",
        "    xSample.append(wordIndexes[index:index+xLen])\n",
        "    index += step\n",
        "  return xSample\n",
        "\n",
        "def createSetsMultiClasses(wordIndexes, xLen, step):\n",
        "  nClasses = len(wordIndexes)\n",
        "  classesXSamples = []\n",
        "  for wI in wordIndexes:\n",
        "    classesXSamples.append(getSetFromIndexes(wI, xLen, step)) \n",
        "  xSamples = []\n",
        "  ySamples = []\n",
        "  for t in range(nClasses):\n",
        "    xT = classesXSamples[t]\n",
        "    for i in range(len(xT)):\n",
        "      xSamples.append(xT[i])\n",
        "      ySamples.append(utils.to_categorical(t, nClasses))\n",
        "  xSamples = np.array(xSamples)\n",
        "  ySamples = np.array(ySamples)\n",
        "  return (xSamples, ySamples)"
      ],
      "execution_count": 0,
      "outputs": []
    },
    {
      "cell_type": "code",
      "metadata": {
        "id": "SgzoAiyawSwJ",
        "colab_type": "code",
        "colab": {}
      },
      "source": [
        "xLen = 1000\n",
        "step = 100"
      ],
      "execution_count": 0,
      "outputs": []
    },
    {
      "cell_type": "code",
      "metadata": {
        "id": "CqAgZWT8RH0b",
        "colab_type": "code",
        "colab": {}
      },
      "source": [
        "xTrain, yTrain = createSetsMultiClasses(trainWordIndexes, xLen, step)\n",
        "xTest, yTest = createSetsMultiClasses(testWordIndexes, xLen, step)"
      ],
      "execution_count": 0,
      "outputs": []
    },
    {
      "cell_type": "code",
      "metadata": {
        "id": "XwAE3_dRtyHv",
        "colab_type": "code",
        "outputId": "bf3caa18-e148-4ff6-9574-1c83ca5d8aee",
        "colab": {
          "base_uri": "https://localhost:8080/",
          "height": 1000
        }
      },
      "source": [
        "model = Sequential()\n",
        "model.add(Embedding(20000, 12, input_length=xLen))\n",
        "model.add(Flatten())\n",
        "model.add(BatchNormalization())\n",
        "model.add(Dense(6, activation='softmax'))\n",
        "\n",
        "model.compile(optimizer='adam', \n",
        "              loss='categorical_crossentropy', \n",
        "              metrics=['accuracy'])\n",
        "\n",
        "history = model.fit(xTrain, \n",
        "                    yTrain, \n",
        "                    epochs=40,\n",
        "                    batch_size=512,\n",
        "                    validation_data=(xTest, yTest))\n",
        "\n",
        "plt.plot(history.history['accuracy'], \n",
        "         label='Доля верных ответов на обучающем наборе')\n",
        "plt.plot(history.history['val_accuracy'], \n",
        "         label='Доля верных ответов на проверочном наборе')\n",
        "plt.xlabel('Эпоха обучения')\n",
        "plt.ylabel('Доля верных ответов')\n",
        "plt.legend()\n",
        "plt.show()"
      ],
      "execution_count": 19,
      "outputs": [
        {
          "output_type": "stream",
          "text": [
            "Epoch 1/40\n",
            "35/35 [==============================] - 1s 35ms/step - loss: 1.2642 - accuracy: 0.5222 - val_loss: 1.7734 - val_accuracy: 0.3356\n",
            "Epoch 2/40\n",
            "35/35 [==============================] - 1s 33ms/step - loss: 0.0359 - accuracy: 0.9986 - val_loss: 1.7892 - val_accuracy: 0.3649\n",
            "Epoch 3/40\n",
            "35/35 [==============================] - 1s 33ms/step - loss: 0.0054 - accuracy: 1.0000 - val_loss: 1.7461 - val_accuracy: 0.3832\n",
            "Epoch 4/40\n",
            "35/35 [==============================] - 1s 33ms/step - loss: 0.0034 - accuracy: 1.0000 - val_loss: 1.7038 - val_accuracy: 0.3869\n",
            "Epoch 5/40\n",
            "35/35 [==============================] - 1s 33ms/step - loss: 0.0024 - accuracy: 1.0000 - val_loss: 1.6563 - val_accuracy: 0.3926\n",
            "Epoch 6/40\n",
            "35/35 [==============================] - 1s 32ms/step - loss: 0.0019 - accuracy: 1.0000 - val_loss: 1.6014 - val_accuracy: 0.4046\n",
            "Epoch 7/40\n",
            "35/35 [==============================] - 1s 33ms/step - loss: 0.0015 - accuracy: 1.0000 - val_loss: 1.5379 - val_accuracy: 0.4276\n",
            "Epoch 8/40\n",
            "35/35 [==============================] - 1s 33ms/step - loss: 0.0012 - accuracy: 1.0000 - val_loss: 1.4687 - val_accuracy: 0.4544\n",
            "Epoch 9/40\n",
            "35/35 [==============================] - 1s 33ms/step - loss: 0.0010 - accuracy: 1.0000 - val_loss: 1.3911 - val_accuracy: 0.4856\n",
            "Epoch 10/40\n",
            "35/35 [==============================] - 1s 33ms/step - loss: 8.6363e-04 - accuracy: 1.0000 - val_loss: 1.3124 - val_accuracy: 0.5147\n",
            "Epoch 11/40\n",
            "35/35 [==============================] - 1s 33ms/step - loss: 7.1915e-04 - accuracy: 1.0000 - val_loss: 1.2296 - val_accuracy: 0.5450\n",
            "Epoch 12/40\n",
            "35/35 [==============================] - 1s 33ms/step - loss: 6.3446e-04 - accuracy: 1.0000 - val_loss: 1.1498 - val_accuracy: 0.5764\n",
            "Epoch 13/40\n",
            "35/35 [==============================] - 1s 34ms/step - loss: 5.5937e-04 - accuracy: 1.0000 - val_loss: 1.0713 - val_accuracy: 0.6053\n",
            "Epoch 14/40\n",
            "35/35 [==============================] - 1s 33ms/step - loss: 4.9566e-04 - accuracy: 1.0000 - val_loss: 1.0031 - val_accuracy: 0.6324\n",
            "Epoch 15/40\n",
            "35/35 [==============================] - 1s 33ms/step - loss: 4.3971e-04 - accuracy: 1.0000 - val_loss: 0.9469 - val_accuracy: 0.6542\n",
            "Epoch 16/40\n",
            "35/35 [==============================] - 1s 33ms/step - loss: 3.9057e-04 - accuracy: 1.0000 - val_loss: 0.8986 - val_accuracy: 0.6757\n",
            "Epoch 17/40\n",
            "35/35 [==============================] - 1s 33ms/step - loss: 3.5478e-04 - accuracy: 1.0000 - val_loss: 0.8658 - val_accuracy: 0.6932\n",
            "Epoch 18/40\n",
            "35/35 [==============================] - 1s 33ms/step - loss: 3.1970e-04 - accuracy: 1.0000 - val_loss: 0.8452 - val_accuracy: 0.7019\n",
            "Epoch 19/40\n",
            "35/35 [==============================] - 1s 33ms/step - loss: 3.0109e-04 - accuracy: 1.0000 - val_loss: 0.8313 - val_accuracy: 0.7133\n",
            "Epoch 20/40\n",
            "35/35 [==============================] - 1s 33ms/step - loss: 2.6851e-04 - accuracy: 1.0000 - val_loss: 0.8249 - val_accuracy: 0.7196\n",
            "Epoch 21/40\n",
            "35/35 [==============================] - 1s 33ms/step - loss: 2.4496e-04 - accuracy: 1.0000 - val_loss: 0.8226 - val_accuracy: 0.7242\n",
            "Epoch 22/40\n",
            "35/35 [==============================] - 1s 33ms/step - loss: 2.2809e-04 - accuracy: 1.0000 - val_loss: 0.8209 - val_accuracy: 0.7275\n",
            "Epoch 23/40\n",
            "35/35 [==============================] - 1s 33ms/step - loss: 2.0957e-04 - accuracy: 1.0000 - val_loss: 0.8216 - val_accuracy: 0.7297\n",
            "Epoch 24/40\n",
            "35/35 [==============================] - 1s 33ms/step - loss: 1.9421e-04 - accuracy: 1.0000 - val_loss: 0.8220 - val_accuracy: 0.7315\n",
            "Epoch 25/40\n",
            "35/35 [==============================] - 1s 33ms/step - loss: 1.7867e-04 - accuracy: 1.0000 - val_loss: 0.8231 - val_accuracy: 0.7327\n",
            "Epoch 26/40\n",
            "35/35 [==============================] - 1s 32ms/step - loss: 1.6973e-04 - accuracy: 1.0000 - val_loss: 0.8224 - val_accuracy: 0.7348\n",
            "Epoch 27/40\n",
            "35/35 [==============================] - 1s 33ms/step - loss: 1.5739e-04 - accuracy: 1.0000 - val_loss: 0.8219 - val_accuracy: 0.7368\n",
            "Epoch 28/40\n",
            "35/35 [==============================] - 1s 33ms/step - loss: 1.4602e-04 - accuracy: 1.0000 - val_loss: 0.8209 - val_accuracy: 0.7384\n",
            "Epoch 29/40\n",
            "35/35 [==============================] - 1s 33ms/step - loss: 1.3630e-04 - accuracy: 1.0000 - val_loss: 0.8201 - val_accuracy: 0.7396\n",
            "Epoch 30/40\n",
            "35/35 [==============================] - 1s 33ms/step - loss: 1.2977e-04 - accuracy: 1.0000 - val_loss: 0.8194 - val_accuracy: 0.7408\n",
            "Epoch 31/40\n",
            "35/35 [==============================] - 1s 33ms/step - loss: 1.2420e-04 - accuracy: 1.0000 - val_loss: 0.8199 - val_accuracy: 0.7410\n",
            "Epoch 32/40\n",
            "35/35 [==============================] - 1s 34ms/step - loss: 1.1625e-04 - accuracy: 1.0000 - val_loss: 0.8170 - val_accuracy: 0.7420\n",
            "Epoch 33/40\n",
            "35/35 [==============================] - 1s 34ms/step - loss: 1.1008e-04 - accuracy: 1.0000 - val_loss: 0.8165 - val_accuracy: 0.7430\n",
            "Epoch 34/40\n",
            "35/35 [==============================] - 1s 33ms/step - loss: 1.0340e-04 - accuracy: 1.0000 - val_loss: 0.8155 - val_accuracy: 0.7444\n",
            "Epoch 35/40\n",
            "35/35 [==============================] - 1s 34ms/step - loss: 9.8894e-05 - accuracy: 1.0000 - val_loss: 0.8134 - val_accuracy: 0.7454\n",
            "Epoch 36/40\n",
            "35/35 [==============================] - 1s 33ms/step - loss: 9.3577e-05 - accuracy: 1.0000 - val_loss: 0.8132 - val_accuracy: 0.7469\n",
            "Epoch 37/40\n",
            "35/35 [==============================] - 1s 33ms/step - loss: 8.8350e-05 - accuracy: 1.0000 - val_loss: 0.8119 - val_accuracy: 0.7471\n",
            "Epoch 38/40\n",
            "35/35 [==============================] - 1s 34ms/step - loss: 8.3860e-05 - accuracy: 1.0000 - val_loss: 0.8109 - val_accuracy: 0.7478\n",
            "Epoch 39/40\n",
            "35/35 [==============================] - 1s 34ms/step - loss: 7.9687e-05 - accuracy: 1.0000 - val_loss: 0.8101 - val_accuracy: 0.7484\n",
            "Epoch 40/40\n",
            "35/35 [==============================] - 1s 33ms/step - loss: 7.6005e-05 - accuracy: 1.0000 - val_loss: 0.8093 - val_accuracy: 0.7487\n"
          ],
          "name": "stdout"
        },
        {
          "output_type": "display_data",
          "data": {
            "image/png": "[encoded data removed]",
            "text/plain": [
              "<Figure size 432x288 with 1 Axes>"
            ]
          },
          "metadata": {
            "tags": [],
            "needs_background": "light"
          }
        }
      ]
    },
    {
      "cell_type": "code",
      "metadata": {
        "id": "SP5rNgVXzyFt",
        "colab_type": "code",
        "colab": {
          "base_uri": "https://localhost:8080/",
          "height": 1000
        },
        "outputId": "ba4986e6-a652-483b-a27d-27fc67a791cd"
      },
      "source": [
        "model = Sequential()\n",
        "model.add(Embedding(20000, 12, input_length=xLen))\n",
        "model.add(LSTM(4))\n",
        "model.add(Flatten())\n",
        "model.add(BatchNormalization())\n",
        "model.add(Dense(6, activation='softmax'))\n",
        "\n",
        "model.compile(optimizer='adam', \n",
        "              loss='categorical_crossentropy', \n",
        "              metrics=['accuracy'])\n",
        "\n",
        "history = model.fit(xTrain, \n",
        "                    yTrain, \n",
        "                    epochs=20,\n",
        "                    batch_size=512,\n",
        "                    validation_data=(xTest, yTest))\n",
        "\n",
        "plt.plot(history.history['accuracy'], \n",
        "         label='Доля верных ответов на обучающем наборе')\n",
        "plt.plot(history.history['val_accuracy'], \n",
        "         label='Доля верных ответов на проверочном наборе')\n",
        "plt.xlabel('Эпоха обучения')\n",
        "plt.ylabel('Доля верных ответов')\n",
        "plt.legend()\n",
        "plt.show()"
      ],
      "execution_count": 15,
      "outputs": [
        {
          "output_type": "stream",
          "text": [
            "Epoch 1/20\n",
            "35/35 [==============================] - 3s 72ms/step - loss: 1.7338 - accuracy: 0.2597 - val_loss: 1.7695 - val_accuracy: 0.2929\n",
            "Epoch 2/20\n",
            "35/35 [==============================] - 2s 62ms/step - loss: 1.4406 - accuracy: 0.4992 - val_loss: 1.7432 - val_accuracy: 0.2929\n",
            "Epoch 3/20\n",
            "35/35 [==============================] - 2s 62ms/step - loss: 1.0854 - accuracy: 0.6229 - val_loss: 1.7170 - val_accuracy: 0.2964\n",
            "Epoch 4/20\n",
            "35/35 [==============================] - 2s 62ms/step - loss: 0.8288 - accuracy: 0.7558 - val_loss: 1.6604 - val_accuracy: 0.3560\n",
            "Epoch 5/20\n",
            "35/35 [==============================] - 2s 62ms/step - loss: 0.6539 - accuracy: 0.8457 - val_loss: 1.5651 - val_accuracy: 0.3769\n",
            "Epoch 6/20\n",
            "35/35 [==============================] - 2s 61ms/step - loss: 0.5384 - accuracy: 0.8997 - val_loss: 1.4889 - val_accuracy: 0.4086\n",
            "Epoch 7/20\n",
            "35/35 [==============================] - 2s 62ms/step - loss: 0.4710 - accuracy: 0.9423 - val_loss: 1.4559 - val_accuracy: 0.4150\n",
            "Epoch 8/20\n",
            "35/35 [==============================] - 2s 62ms/step - loss: 0.4065 - accuracy: 0.9693 - val_loss: 1.4581 - val_accuracy: 0.4146\n",
            "Epoch 9/20\n",
            "35/35 [==============================] - 2s 63ms/step - loss: 0.3511 - accuracy: 0.9808 - val_loss: 1.4370 - val_accuracy: 0.4345\n",
            "Epoch 10/20\n",
            "35/35 [==============================] - 2s 61ms/step - loss: 0.3064 - accuracy: 0.9867 - val_loss: 1.3828 - val_accuracy: 0.4752\n",
            "Epoch 11/20\n",
            "35/35 [==============================] - 2s 63ms/step - loss: 0.2668 - accuracy: 0.9909 - val_loss: 1.4120 - val_accuracy: 0.4643\n",
            "Epoch 12/20\n",
            "35/35 [==============================] - 2s 63ms/step - loss: 0.2723 - accuracy: 0.9811 - val_loss: 1.3595 - val_accuracy: 0.4837\n",
            "Epoch 13/20\n",
            "35/35 [==============================] - 2s 63ms/step - loss: 0.2218 - accuracy: 0.9918 - val_loss: 1.5511 - val_accuracy: 0.4366\n",
            "Epoch 14/20\n",
            "35/35 [==============================] - 2s 63ms/step - loss: 0.1862 - accuracy: 0.9962 - val_loss: 1.4254 - val_accuracy: 0.4844\n",
            "Epoch 15/20\n",
            "35/35 [==============================] - 2s 63ms/step - loss: 0.1613 - accuracy: 0.9972 - val_loss: 1.4326 - val_accuracy: 0.4949\n",
            "Epoch 16/20\n",
            "35/35 [==============================] - 2s 61ms/step - loss: 0.1417 - accuracy: 0.9977 - val_loss: 1.5597 - val_accuracy: 0.4702\n",
            "Epoch 17/20\n",
            "35/35 [==============================] - 2s 63ms/step - loss: 0.1275 - accuracy: 0.9980 - val_loss: 1.6445 - val_accuracy: 0.4662\n",
            "Epoch 18/20\n",
            "35/35 [==============================] - 2s 63ms/step - loss: 0.1147 - accuracy: 0.9988 - val_loss: 1.4729 - val_accuracy: 0.5046\n",
            "Epoch 19/20\n",
            "35/35 [==============================] - 2s 63ms/step - loss: 0.1014 - accuracy: 0.9989 - val_loss: 1.6263 - val_accuracy: 0.4779\n",
            "Epoch 20/20\n",
            "35/35 [==============================] - 2s 63ms/step - loss: 0.0902 - accuracy: 0.9993 - val_loss: 1.6944 - val_accuracy: 0.4723\n"
          ],
          "name": "stdout"
        },
        {
          "output_type": "display_data",
          "data": {
            "image/png": "[encoded data removed]",
            "text/plain": [
              "<Figure size 432x288 with 1 Axes>"
            ]
          },
          "metadata": {
            "tags": [],
            "needs_background": "light"
          }
        }
      ]
    },
    {
      "cell_type": "code",
      "metadata": {
        "id": "LWFCqDALzHOR",
        "colab_type": "code",
        "colab": {
          "base_uri": "https://localhost:8080/",
          "height": 1000
        },
        "outputId": "6f1b21f1-c949-4529-e042-97ffa3ee4b88"
      },
      "source": [
        "model = Sequential()\n",
        "model.add(Embedding(20000, 12, input_length=xLen))\n",
        "model.add(Conv1D(20, 5, activation=\"relu\"))\n",
        "model.add(Flatten())\n",
        "model.add(BatchNormalization())\n",
        "model.add(Dense(6, activation='softmax'))\n",
        "\n",
        "model.compile(optimizer='adam', \n",
        "              loss='categorical_crossentropy', \n",
        "              metrics=['accuracy'])\n",
        "\n",
        "history = model.fit(xTrain, \n",
        "                    yTrain, \n",
        "                    epochs=30,\n",
        "                    batch_size=512,\n",
        "                    validation_data=(xTest, yTest))\n",
        "\n",
        "plt.plot(history.history['accuracy'], \n",
        "         label='Доля верных ответов на обучающем наборе')\n",
        "plt.plot(history.history['val_accuracy'], \n",
        "         label='Доля верных ответов на проверочном наборе')\n",
        "plt.xlabel('Эпоха обучения')\n",
        "plt.ylabel('Доля верных ответов')\n",
        "plt.legend()\n",
        "plt.show()"
      ],
      "execution_count": 10,
      "outputs": [
        {
          "output_type": "stream",
          "text": [
            "Epoch 1/30\n",
            "35/35 [==============================] - 2s 47ms/step - loss: 1.0887 - accuracy: 0.5750 - val_loss: 2.3243 - val_accuracy: 0.0739\n",
            "Epoch 2/30\n",
            "35/35 [==============================] - 1s 41ms/step - loss: 0.0201 - accuracy: 0.9988 - val_loss: 2.9416 - val_accuracy: 0.0739\n",
            "Epoch 3/30\n",
            "35/35 [==============================] - 1s 41ms/step - loss: 0.0013 - accuracy: 1.0000 - val_loss: 2.8489 - val_accuracy: 0.0739\n",
            "Epoch 4/30\n",
            "35/35 [==============================] - 1s 40ms/step - loss: 8.4201e-04 - accuracy: 1.0000 - val_loss: 2.7331 - val_accuracy: 0.0751\n",
            "Epoch 5/30\n",
            "35/35 [==============================] - 1s 41ms/step - loss: 6.0140e-04 - accuracy: 1.0000 - val_loss: 2.6183 - val_accuracy: 0.0918\n",
            "Epoch 6/30\n",
            "35/35 [==============================] - 1s 42ms/step - loss: 4.5864e-04 - accuracy: 1.0000 - val_loss: 2.4969 - val_accuracy: 0.1265\n",
            "Epoch 7/30\n",
            "35/35 [==============================] - 1s 41ms/step - loss: 3.6513e-04 - accuracy: 1.0000 - val_loss: 2.3717 - val_accuracy: 0.1716\n",
            "Epoch 8/30\n",
            "35/35 [==============================] - 1s 41ms/step - loss: 3.0549e-04 - accuracy: 1.0000 - val_loss: 2.2366 - val_accuracy: 0.2121\n",
            "Epoch 9/30\n",
            "35/35 [==============================] - 1s 42ms/step - loss: 2.5830e-04 - accuracy: 1.0000 - val_loss: 2.0937 - val_accuracy: 0.2365\n",
            "Epoch 10/30\n",
            "35/35 [==============================] - 1s 42ms/step - loss: 2.1298e-04 - accuracy: 1.0000 - val_loss: 1.9481 - val_accuracy: 0.2544\n",
            "Epoch 11/30\n",
            "35/35 [==============================] - 1s 42ms/step - loss: 1.8925e-04 - accuracy: 1.0000 - val_loss: 1.7959 - val_accuracy: 0.2936\n",
            "Epoch 12/30\n",
            "35/35 [==============================] - 1s 42ms/step - loss: 1.5820e-04 - accuracy: 1.0000 - val_loss: 1.6486 - val_accuracy: 0.3525\n",
            "Epoch 13/30\n",
            "35/35 [==============================] - 1s 42ms/step - loss: 1.4320e-04 - accuracy: 1.0000 - val_loss: 1.5175 - val_accuracy: 0.4168\n",
            "Epoch 14/30\n",
            "35/35 [==============================] - 1s 42ms/step - loss: 1.2952e-04 - accuracy: 1.0000 - val_loss: 1.3970 - val_accuracy: 0.4786\n",
            "Epoch 15/30\n",
            "35/35 [==============================] - 1s 43ms/step - loss: 1.1574e-04 - accuracy: 1.0000 - val_loss: 1.2988 - val_accuracy: 0.5347\n",
            "Epoch 16/30\n",
            "35/35 [==============================] - 1s 43ms/step - loss: 1.0139e-04 - accuracy: 1.0000 - val_loss: 1.2301 - val_accuracy: 0.5755\n",
            "Epoch 17/30\n",
            "35/35 [==============================] - 1s 42ms/step - loss: 9.5472e-05 - accuracy: 1.0000 - val_loss: 1.1862 - val_accuracy: 0.6054\n",
            "Epoch 18/30\n",
            "35/35 [==============================] - 1s 42ms/step - loss: 8.2233e-05 - accuracy: 1.0000 - val_loss: 1.1644 - val_accuracy: 0.6292\n",
            "Epoch 19/30\n",
            "35/35 [==============================] - 1s 42ms/step - loss: 7.6686e-05 - accuracy: 1.0000 - val_loss: 1.1584 - val_accuracy: 0.6448\n",
            "Epoch 20/30\n",
            "35/35 [==============================] - 1s 43ms/step - loss: 7.2530e-05 - accuracy: 1.0000 - val_loss: 1.1662 - val_accuracy: 0.6529\n",
            "Epoch 21/30\n",
            "35/35 [==============================] - 2s 43ms/step - loss: 6.1720e-05 - accuracy: 1.0000 - val_loss: 1.1791 - val_accuracy: 0.6596\n",
            "Epoch 22/30\n",
            "35/35 [==============================] - 2s 43ms/step - loss: 5.7861e-05 - accuracy: 1.0000 - val_loss: 1.1945 - val_accuracy: 0.6638\n",
            "Epoch 23/30\n",
            "35/35 [==============================] - 2s 43ms/step - loss: 5.7158e-05 - accuracy: 1.0000 - val_loss: 1.2083 - val_accuracy: 0.6671\n",
            "Epoch 24/30\n",
            "35/35 [==============================] - 1s 43ms/step - loss: 4.8991e-05 - accuracy: 1.0000 - val_loss: 1.2251 - val_accuracy: 0.6692\n",
            "Epoch 25/30\n",
            "35/35 [==============================] - 2s 44ms/step - loss: 4.5605e-05 - accuracy: 1.0000 - val_loss: 1.2371 - val_accuracy: 0.6714\n",
            "Epoch 26/30\n",
            "35/35 [==============================] - 1s 43ms/step - loss: 4.3313e-05 - accuracy: 1.0000 - val_loss: 1.2463 - val_accuracy: 0.6738\n",
            "Epoch 27/30\n",
            "35/35 [==============================] - 1s 43ms/step - loss: 4.0097e-05 - accuracy: 1.0000 - val_loss: 1.2544 - val_accuracy: 0.6751\n",
            "Epoch 28/30\n",
            "35/35 [==============================] - 1s 43ms/step - loss: 3.8077e-05 - accuracy: 1.0000 - val_loss: 1.2621 - val_accuracy: 0.6754\n",
            "Epoch 29/30\n",
            "35/35 [==============================] - 2s 43ms/step - loss: 3.7560e-05 - accuracy: 1.0000 - val_loss: 1.2666 - val_accuracy: 0.6762\n",
            "Epoch 30/30\n",
            "35/35 [==============================] - 2s 44ms/step - loss: 3.3168e-05 - accuracy: 1.0000 - val_loss: 1.2712 - val_accuracy: 0.6768\n"
          ],
          "name": "stdout"
        },
        {
          "output_type": "display_data",
          "data": {
            "image/png": "[encoded data removed]",
            "text/plain": [
              "<Figure size 432x288 with 1 Axes>"
            ]
          },
          "metadata": {
            "tags": [],
            "needs_background": "light"
          }
        }
      ]
    },
    {
      "cell_type": "code",
      "metadata": {
        "id": "k3TMKevK-p6N",
        "colab_type": "code",
        "colab": {
          "base_uri": "https://localhost:8080/",
          "height": 1000
        },
        "outputId": "3e7b7143-aaea-44ab-a36f-9afb7d866ef0"
      },
      "source": [
        "model = Sequential()\n",
        "model.add(Embedding(20000, 12, input_length=xLen))\n",
        "model.add(Conv1D(20, 5, activation=\"relu\"))\n",
        "model.add(LSTM(4))\n",
        "model.add(Flatten())\n",
        "model.add(BatchNormalization())\n",
        "model.add(Dense(6, activation='softmax'))\n",
        "\n",
        "model.compile(optimizer='adam', \n",
        "              loss='categorical_crossentropy', \n",
        "              metrics=['accuracy'])\n",
        "\n",
        "history = model.fit(xTrain, \n",
        "                    yTrain, \n",
        "                    epochs=30,\n",
        "                    batch_size=512,\n",
        "                    validation_data=(xTest, yTest))\n",
        "\n",
        "plt.plot(history.history['accuracy'], \n",
        "         label='Доля верных ответов на обучающем наборе')\n",
        "plt.plot(history.history['val_accuracy'], \n",
        "         label='Доля верных ответов на проверочном наборе')\n",
        "plt.xlabel('Эпоха обучения')\n",
        "plt.ylabel('Доля верных ответов')\n",
        "plt.legend()\n",
        "plt.show()"
      ],
      "execution_count": 11,
      "outputs": [
        {
          "output_type": "stream",
          "text": [
            "Epoch 1/30\n",
            "35/35 [==============================] - 3s 97ms/step - loss: 1.7613 - accuracy: 0.1967 - val_loss: 1.7800 - val_accuracy: 0.2912\n",
            "Epoch 2/30\n",
            "35/35 [==============================] - 3s 86ms/step - loss: 1.5602 - accuracy: 0.3300 - val_loss: 1.7738 - val_accuracy: 0.2559\n",
            "Epoch 3/30\n",
            "35/35 [==============================] - 3s 86ms/step - loss: 1.2643 - accuracy: 0.4511 - val_loss: 1.7328 - val_accuracy: 0.2098\n",
            "Epoch 4/30\n",
            "35/35 [==============================] - 3s 86ms/step - loss: 1.0296 - accuracy: 0.6390 - val_loss: 1.6722 - val_accuracy: 0.3525\n",
            "Epoch 5/30\n",
            "35/35 [==============================] - 3s 87ms/step - loss: 0.8191 - accuracy: 0.8130 - val_loss: 1.6173 - val_accuracy: 0.3703\n",
            "Epoch 6/30\n",
            "35/35 [==============================] - 3s 87ms/step - loss: 0.6422 - accuracy: 0.9015 - val_loss: 1.6052 - val_accuracy: 0.3561\n",
            "Epoch 7/30\n",
            "35/35 [==============================] - 3s 86ms/step - loss: 0.4923 - accuracy: 0.9509 - val_loss: 1.5621 - val_accuracy: 0.3757\n",
            "Epoch 8/30\n",
            "35/35 [==============================] - 3s 86ms/step - loss: 0.3821 - accuracy: 0.9759 - val_loss: 1.5376 - val_accuracy: 0.3884\n",
            "Epoch 9/30\n",
            "35/35 [==============================] - 3s 87ms/step - loss: 0.3015 - accuracy: 0.9872 - val_loss: 1.5498 - val_accuracy: 0.3968\n",
            "Epoch 10/30\n",
            "35/35 [==============================] - 3s 86ms/step - loss: 0.2421 - accuracy: 0.9922 - val_loss: 1.5704 - val_accuracy: 0.4082\n",
            "Epoch 11/30\n",
            "35/35 [==============================] - 3s 87ms/step - loss: 0.1983 - accuracy: 0.9952 - val_loss: 1.5380 - val_accuracy: 0.4281\n",
            "Epoch 12/30\n",
            "35/35 [==============================] - 3s 87ms/step - loss: 0.1635 - accuracy: 0.9973 - val_loss: 1.6291 - val_accuracy: 0.4257\n",
            "Epoch 13/30\n",
            "35/35 [==============================] - 3s 87ms/step - loss: 0.1358 - accuracy: 0.9986 - val_loss: 1.6715 - val_accuracy: 0.4200\n",
            "Epoch 14/30\n",
            "35/35 [==============================] - 3s 87ms/step - loss: 0.1154 - accuracy: 0.9988 - val_loss: 1.7496 - val_accuracy: 0.4260\n",
            "Epoch 15/30\n",
            "35/35 [==============================] - 3s 87ms/step - loss: 0.0985 - accuracy: 0.9993 - val_loss: 1.7544 - val_accuracy: 0.4333\n",
            "Epoch 16/30\n",
            "35/35 [==============================] - 3s 86ms/step - loss: 0.0849 - accuracy: 0.9993 - val_loss: 1.7993 - val_accuracy: 0.4358\n",
            "Epoch 17/30\n",
            "35/35 [==============================] - 3s 85ms/step - loss: 0.0737 - accuracy: 0.9998 - val_loss: 1.8865 - val_accuracy: 0.4270\n",
            "Epoch 18/30\n",
            "35/35 [==============================] - 3s 84ms/step - loss: 0.0646 - accuracy: 0.9998 - val_loss: 1.9310 - val_accuracy: 0.4264\n",
            "Epoch 19/30\n",
            "35/35 [==============================] - 3s 84ms/step - loss: 0.0561 - accuracy: 0.9998 - val_loss: 1.9692 - val_accuracy: 0.4278\n",
            "Epoch 20/30\n",
            "35/35 [==============================] - 3s 86ms/step - loss: 0.0494 - accuracy: 1.0000 - val_loss: 2.0024 - val_accuracy: 0.4306\n",
            "Epoch 21/30\n",
            "35/35 [==============================] - 3s 83ms/step - loss: 0.0445 - accuracy: 1.0000 - val_loss: 2.0463 - val_accuracy: 0.4260\n",
            "Epoch 22/30\n",
            "35/35 [==============================] - 3s 84ms/step - loss: 0.0398 - accuracy: 1.0000 - val_loss: 2.1028 - val_accuracy: 0.4213\n",
            "Epoch 23/30\n",
            "35/35 [==============================] - 3s 87ms/step - loss: 0.0357 - accuracy: 1.0000 - val_loss: 2.1377 - val_accuracy: 0.4230\n",
            "Epoch 24/30\n",
            "35/35 [==============================] - 3s 86ms/step - loss: 0.0323 - accuracy: 1.0000 - val_loss: 2.1669 - val_accuracy: 0.4258\n",
            "Epoch 25/30\n",
            "35/35 [==============================] - 3s 86ms/step - loss: 0.0292 - accuracy: 1.0000 - val_loss: 2.2302 - val_accuracy: 0.4243\n",
            "Epoch 26/30\n",
            "35/35 [==============================] - 3s 86ms/step - loss: 0.0269 - accuracy: 0.9999 - val_loss: 2.1814 - val_accuracy: 0.4257\n",
            "Epoch 27/30\n",
            "35/35 [==============================] - 3s 87ms/step - loss: 0.0247 - accuracy: 0.9999 - val_loss: 2.2544 - val_accuracy: 0.4248\n",
            "Epoch 28/30\n",
            "35/35 [==============================] - 3s 86ms/step - loss: 0.0224 - accuracy: 1.0000 - val_loss: 2.3419 - val_accuracy: 0.4153\n",
            "Epoch 29/30\n",
            "35/35 [==============================] - 3s 87ms/step - loss: 0.0208 - accuracy: 1.0000 - val_loss: 2.3224 - val_accuracy: 0.4210\n",
            "Epoch 30/30\n",
            "35/35 [==============================] - 3s 86ms/step - loss: 0.0191 - accuracy: 1.0000 - val_loss: 2.3885 - val_accuracy: 0.4161\n"
          ],
          "name": "stdout"
        },
        {
          "output_type": "display_data",
          "data": {
            "image/png": "[encoded data removed]",
            "text/plain": [
              "<Figure size 432x288 with 1 Axes>"
            ]
          },
          "metadata": {
            "tags": [],
            "needs_background": "light"
          }
        }
      ]
    },
    {
      "cell_type": "markdown",
      "metadata": {
        "id": "o5sRuAIwGkNT",
        "colab_type": "text"
      },
      "source": [
        "Лучший результат дал самый простой вариант нейросети.\n",
        "\n",
        "75% не так уж и плохо =)"
      ]
    }
  ]
}