{
  "nbformat": 4,
  "nbformat_minor": 0,
  "metadata": {
    "kernelspec": {
      "display_name": "Python 3",
      "language": "python",
      "name": "python3"
    },
    "language_info": {
      "codemirror_mode": {
        "name": "ipython",
        "version": 3
      },
      "file_extension": ".py",
      "mimetype": "text/x-python",
      "name": "python",
      "nbconvert_exporter": "python",
      "pygments_lexer": "ipython3",
      "version": "3.6.8"
    },
    "colab": {
      "name": "Февральский_курс_2020_Light_Python_Домашнее_задание_2_Numpy.ipynb",
      "provenance": [],
      "collapsed_sections": []
    }
  },
  "cells": [
    {
      "cell_type": "markdown",
      "metadata": {
        "id": "rt7rnNMZ8SYb",
        "colab_type": "text"
      },
      "source": [
        "# Нейронные сети\n",
        "\n",
        "## Домашнее задание 2: numpy и функции\n",
        "\n",
        "# Light"
      ]
    },
    {
      "cell_type": "markdown",
      "metadata": {
        "id": "x3viGq298SYv",
        "colab_type": "text"
      },
      "source": [
        "### Задача 1\n",
        "\n",
        "Подгрузите файл **train_vector_1.csv** с помощью функции **np.loadtxt**. Назовите подгруженный массив my_array. Убедитесь, что подгруженный массив имеет тип np.ndarray\n",
        "\n",
        "https://drive.google.com/open?id=1ngnrhmoMInequrA6JyAe90lEPhcbi0iH"
      ]
    },
    {
      "cell_type": "code",
      "metadata": {
        "id": "SLXOnJJqlIQY",
        "colab_type": "code",
        "outputId": "4b259732-636e-4184-9f1e-78ff4b3d2f5a",
        "colab": {
          "base_uri": "https://localhost:8080/",
          "height": 125
        }
      },
      "source": [
        "from google.colab import drive\n",
        "drive.mount('/content/drive')"
      ],
      "execution_count": 4,
      "outputs": [
        {
          "output_type": "stream",
          "text": [
            "Go to this URL in a browser: https://accounts.google.com/o/oauth2/auth?client_id=947318989803-6bn6qk8qdgf4n4g3pfee6491hc0brc4i.apps.googleusercontent.com&redirect_uri=urn%3aietf%3awg%3aoauth%3a2.0%3aoob&response_type=code&scope=email%20https%3a%2f%2fwww.googleapis.com%2fauth%2fdocs.test%20https%3a%2f%2fwww.googleapis.com%2fauth%2fdrive%20https%3a%2f%2fwww.googleapis.com%2fauth%2fdrive.photos.readonly%20https%3a%2f%2fwww.googleapis.com%2fauth%2fpeopleapi.readonly\n",
            "\n",
            "Enter your authorization code:\n",
            "··········\n",
            "Mounted at /content/drive\n"
          ],
          "name": "stdout"
        }
      ]
    },
    {
      "cell_type": "code",
      "metadata": {
        "id": "hNzYcuhtzkxE",
        "colab_type": "code",
        "colab": {
          "base_uri": "https://localhost:8080/",
          "height": 34
        },
        "outputId": "d31e1910-c1e8-4dd7-fbf4-0c5465d0f51c"
      },
      "source": [
        "# грузим массив из файла .csv\n",
        "import numpy as np\n",
        "my_array = np.loadtxt('/content/drive/My Drive/train_vector_1.csv', delimiter=',')\n",
        "type(my_array)"
      ],
      "execution_count": 5,
      "outputs": [
        {
          "output_type": "execute_result",
          "data": {
            "text/plain": [
              "numpy.ndarray"
            ]
          },
          "metadata": {
            "tags": []
          },
          "execution_count": 5
        }
      ]
    },
    {
      "cell_type": "code",
      "metadata": {
        "id": "BbEvyPyvSchn",
        "colab_type": "code",
        "colab": {
          "base_uri": "https://localhost:8080/",
          "height": 230
        },
        "outputId": "8d6bd888-91f6-4faf-a212-ec16f4dbdd7b"
      },
      "source": [
        "my_array"
      ],
      "execution_count": 6,
      "outputs": [
        {
          "output_type": "execute_result",
          "data": {
            "text/plain": [
              "array([3.5, 3. , 3.2, 3.1, 3.6, 3.9, 3.4, 3.4, 2.9, 3.1, 3.7, 3.4, 3. ,\n",
              "       3. , 4. , 4.4, 3.9, 3.5, 3.8, 3.8, 3.4, 3.7, 3.6, 3.3, 3.4, 3. ,\n",
              "       3.4, 3.5, 3.4, 3.2, 3.1, 3.4, 4.1, 4.2, 3.1, 3.2, 3.5, 3.6, 3. ,\n",
              "       3.4, 3.5, 2.3, 3.2, 3.5, 3.8, 3. , 3.8, 3.2, 3.7, 3.3, 3.2, 3.2,\n",
              "       3.1, 2.3, 2.8, 2.8, 3.3, 2.4, 2.9, 2.7, 2. , 3. , 2.2, 2.9, 2.9,\n",
              "       3.1, 3. , 2.7, 2.2, 2.5, 3.2, 2.8, 2.5, 2.8, 2.9, 3. , 2.8, 3. ,\n",
              "       2.9, 2.6, 2.4, 2.4, 2.7, 2.7, 3. , 3.4, 3.1, 2.3, 3. , 2.5, 2.6,\n",
              "       3. , 2.6, 2.3, 2.7, 3. , 2.9, 2.9, 2.5, 2.8, 3.3, 2.7, 3. , 2.9,\n",
              "       3. , 3. , 2.5, 2.9, 2.5, 3.6, 3.2, 2.7, 3. , 2.5, 2.8, 3.2, 3. ,\n",
              "       3.8, 2.6, 2.2, 3.2, 2.8, 2.8, 2.7, 3.3, 3.2, 2.8, 3. , 2.8, 3. ,\n",
              "       2.8, 3.8, 2.8, 2.8, 2.6, 3. , 3.4, 3.1, 3. , 3.1, 3.1, 3.1, 2.7,\n",
              "       3.2, 3.3, 3. , 2.5, 3. , 3.4, 3. ])"
            ]
          },
          "metadata": {
            "tags": []
          },
          "execution_count": 6
        }
      ]
    },
    {
      "cell_type": "markdown",
      "metadata": {
        "id": "Sa06XNJq8SY4",
        "colab_type": "text"
      },
      "source": [
        "### Задача 2\n",
        "\n",
        "Напишите код, который считает среднее значение всех элементов массива (без использования встроенных функций np.mean и т.д.)\n",
        "* Примените ее к подгруженному массиву my_array\n",
        "* Преобразуйте массив my_array в список, сохраните его в переменной my_list\n",
        "* Примените функцию к списку my_list\n",
        "* Сравните производительность по времени написанного вами кода в зависимости от типа данных (список и np.array), для этого используйте %%timeit"
      ]
    },
    {
      "cell_type": "code",
      "metadata": {
        "id": "_Am4WXujSqy7",
        "colab_type": "code",
        "colab": {
          "base_uri": "https://localhost:8080/",
          "height": 34
        },
        "outputId": "b9022faa-a250-4151-8f17-2d8dc691a392"
      },
      "source": [
        "def my_mean(m):\n",
        "  count = 0\n",
        "  summa = 0\n",
        "  for i in m:\n",
        "    count += 1\n",
        "    summa += i\n",
        "  return summa/count\n",
        "\n",
        "print(my_mean(my_array))\n",
        "# this is test\n",
        "assert my_mean([i for i in range(1, 11)]) == 5.5"
      ],
      "execution_count": 11,
      "outputs": [
        {
          "output_type": "stream",
          "text": [
            "3.057333333333334\n"
          ],
          "name": "stdout"
        }
      ]
    },
    {
      "cell_type": "code",
      "metadata": {
        "id": "kbKLflCETyEI",
        "colab_type": "code",
        "colab": {
          "base_uri": "https://localhost:8080/",
          "height": 34
        },
        "outputId": "1e901cb0-97da-4858-9df5-d443ec0ce83c"
      },
      "source": [
        "my_list = my_array.tolist()\n",
        "type(my_list)"
      ],
      "execution_count": 26,
      "outputs": [
        {
          "output_type": "execute_result",
          "data": {
            "text/plain": [
              "list"
            ]
          },
          "metadata": {
            "tags": []
          },
          "execution_count": 26
        }
      ]
    },
    {
      "cell_type": "code",
      "metadata": {
        "id": "ZhOLDGTDgGKz",
        "colab_type": "code",
        "colab": {
          "base_uri": "https://localhost:8080/",
          "height": 52
        },
        "outputId": "aa8499fe-cba0-4ddc-a472-e89ae337a381"
      },
      "source": [
        "print(type(my_array))\n",
        "print(type(my_list))"
      ],
      "execution_count": 27,
      "outputs": [
        {
          "output_type": "stream",
          "text": [
            "<class 'numpy.ndarray'>\n",
            "<class 'list'>\n"
          ],
          "name": "stdout"
        }
      ]
    },
    {
      "cell_type": "code",
      "metadata": {
        "id": "FGT5K2zpT5T5",
        "colab_type": "code",
        "colab": {
          "base_uri": "https://localhost:8080/",
          "height": 52
        },
        "outputId": "1f5d9312-960a-44e9-83f5-a937daed9cf5"
      },
      "source": [
        "%%timeit\n",
        "my_mean(my_array)\n"
      ],
      "execution_count": 28,
      "outputs": [
        {
          "output_type": "stream",
          "text": [
            "The slowest run took 5.70 times longer than the fastest. This could mean that an intermediate result is being cached.\n",
            "10000 loops, best of 3: 34.4 µs per loop\n"
          ],
          "name": "stdout"
        }
      ]
    },
    {
      "cell_type": "code",
      "metadata": {
        "id": "NAnJ1T_nUSZn",
        "colab_type": "code",
        "colab": {
          "base_uri": "https://localhost:8080/",
          "height": 34
        },
        "outputId": "e78f56e8-926d-40ba-bac4-2ebfadff6af9"
      },
      "source": [
        "%%timeit\n",
        "my_mean(my_list)"
      ],
      "execution_count": 29,
      "outputs": [
        {
          "output_type": "stream",
          "text": [
            "100000 loops, best of 3: 6.87 µs per loop\n"
          ],
          "name": "stdout"
        }
      ]
    },
    {
      "cell_type": "code",
      "metadata": {
        "id": "Y-prv4LIgyGf",
        "colab_type": "code",
        "colab": {
          "base_uri": "https://localhost:8080/",
          "height": 52
        },
        "outputId": "bcd72f44-6117-458c-dbcd-229e2e024815"
      },
      "source": [
        "%%timeit\n",
        "my_array.mean()"
      ],
      "execution_count": 21,
      "outputs": [
        {
          "output_type": "stream",
          "text": [
            "The slowest run took 20.18 times longer than the fastest. This could mean that an intermediate result is being cached.\n",
            "100000 loops, best of 3: 4.55 µs per loop\n"
          ],
          "name": "stdout"
        }
      ]
    },
    {
      "cell_type": "code",
      "metadata": {
        "id": "YbsD0itPg4bc",
        "colab_type": "code",
        "colab": {
          "base_uri": "https://localhost:8080/",
          "height": 70
        },
        "outputId": "dfaee35a-18eb-4832-c4a2-1bcfcc11033a"
      },
      "source": [
        "print(len(my_list))\n",
        "print(len(my_array))\n",
        "print(my_array.shape)"
      ],
      "execution_count": 25,
      "outputs": [
        {
          "output_type": "stream",
          "text": [
            "150\n",
            "150\n",
            "(150,)\n"
          ],
          "name": "stdout"
        }
      ]
    },
    {
      "cell_type": "code",
      "metadata": {
        "id": "u62ygZ1mmoc3",
        "colab_type": "code",
        "colab": {
          "base_uri": "https://localhost:8080/",
          "height": 34
        },
        "outputId": "45a5033c-ad29-49c6-c60d-816b32bb9f53"
      },
      "source": [
        "def my_mean1(m):\n",
        "  summa = 0\n",
        "  for i in range(len(m)):\n",
        "    summa += m[i]\n",
        "  return summa/len(m)\n",
        "\n",
        "print(my_mean(my_array))\n",
        "# this is test\n",
        "assert my_mean([i for i in range(1, 11)]) == 5.5"
      ],
      "execution_count": 33,
      "outputs": [
        {
          "output_type": "stream",
          "text": [
            "3.057333333333334\n"
          ],
          "name": "stdout"
        }
      ]
    },
    {
      "cell_type": "code",
      "metadata": {
        "id": "sukb37k-m_GX",
        "colab_type": "code",
        "colab": {
          "base_uri": "https://localhost:8080/",
          "height": 34
        },
        "outputId": "e5efb629-9f76-4fdd-d5aa-636cf6eb74da"
      },
      "source": [
        "%%timeit\n",
        "my_mean1(my_list)"
      ],
      "execution_count": 34,
      "outputs": [
        {
          "output_type": "stream",
          "text": [
            "100000 loops, best of 3: 6.29 µs per loop\n"
          ],
          "name": "stdout"
        }
      ]
    },
    {
      "cell_type": "code",
      "metadata": {
        "id": "TNNS-66lnEoB",
        "colab_type": "code",
        "colab": {
          "base_uri": "https://localhost:8080/",
          "height": 34
        },
        "outputId": "34189be1-f05e-4c1e-cf2f-93c9c3e625df"
      },
      "source": [
        "%%timeit\n",
        "my_mean1(my_array)"
      ],
      "execution_count": 35,
      "outputs": [
        {
          "output_type": "stream",
          "text": [
            "10000 loops, best of 3: 36.1 µs per loop\n"
          ],
          "name": "stdout"
        }
      ]
    },
    {
      "cell_type": "markdown",
      "metadata": {
        "id": "kVwLLPpS11HN",
        "colab_type": "text"
      },
      "source": [
        "We were so surprised that regular lists work faster that they spammed three tons of water in common chat))"
      ]
    },
    {
      "cell_type": "markdown",
      "metadata": {
        "id": "Z7JZ-m918SZA",
        "colab_type": "text"
      },
      "source": [
        "### Задача 3\n",
        "\n",
        "Подгрузите файл **iris.csv** с помощью встроенной функции **np.loadtxt**. Назовите его my_2d_array. Напиишите код, который считает сумму элементов массива по столбцам. "
      ]
    },
    {
      "cell_type": "code",
      "metadata": {
        "colab_type": "code",
        "id": "K32W70Sk5KAP",
        "colab": {
          "base_uri": "https://localhost:8080/",
          "height": 52
        },
        "outputId": "ae1fa4a4-0082-4f31-850d-48f14bd686d8"
      },
      "source": [
        "# грузим массив из файла .csv\n",
        "my_2d_array = np.loadtxt('/content/drive/My Drive/iris.csv', delimiter=',', skiprows=1) # skiprows=1 - пропускаем первую строку, поскольку в ней названия колонок базы\n",
        "print(my_2d_array.shape)\n",
        "my_2d_array.sum(axis = 0)"
      ],
      "execution_count": 40,
      "outputs": [
        {
          "output_type": "stream",
          "text": [
            "(150, 5)\n"
          ],
          "name": "stdout"
        },
        {
          "output_type": "execute_result",
          "data": {
            "text/plain": [
              "array([11175. ,   876.5,   458.6,   563.7,   179.9])"
            ]
          },
          "metadata": {
            "tags": []
          },
          "execution_count": 40
        }
      ]
    },
    {
      "cell_type": "markdown",
      "metadata": {
        "id": "5lm0wgbRzVSA",
        "colab_type": "text"
      },
      "source": [
        "### Задача 4 \n",
        "\n",
        "* Используя библиотеку numpy, создайте массив 3x3, значения которого находятся в диапазоне от 11 до 40. \n",
        "\n",
        "* Не используя цикл for,  выведите на экран список элементов, которые меньше 20.\n",
        "\n",
        "* Просуммируйте все элементы (не используя цикл for)\n"
      ]
    },
    {
      "cell_type": "code",
      "metadata": {
        "id": "6A7aVjIQ69pM",
        "colab_type": "code",
        "colab": {
          "base_uri": "https://localhost:8080/",
          "height": 70
        },
        "outputId": "90ab074e-d39c-4ba3-e112-a99d70b2599f"
      },
      "source": [
        "from random import randint\n",
        "\n",
        "m = np.zeros((3,3))\n",
        "for i in range(0,3):\n",
        "  for j in range(0,3):\n",
        "    m[i][j] = randint(11, 40)\n",
        "m"
      ],
      "execution_count": 45,
      "outputs": [
        {
          "output_type": "execute_result",
          "data": {
            "text/plain": [
              "array([[27., 25., 29.],\n",
              "       [16., 14., 11.],\n",
              "       [16., 35., 27.]])"
            ]
          },
          "metadata": {
            "tags": []
          },
          "execution_count": 45
        }
      ]
    },
    {
      "cell_type": "code",
      "metadata": {
        "id": "7LRdnaxy9FRk",
        "colab_type": "code",
        "colab": {
          "base_uri": "https://localhost:8080/",
          "height": 87
        },
        "outputId": "ea116744-c5a4-48dc-a064-05a3677a0495"
      },
      "source": [
        "mask = m < 20\n",
        "print(mask)\n",
        "print(m[mask])"
      ],
      "execution_count": 50,
      "outputs": [
        {
          "output_type": "stream",
          "text": [
            "[[False False False]\n",
            " [ True  True  True]\n",
            " [ True False False]]\n",
            "[16. 14. 11. 16.]\n"
          ],
          "name": "stdout"
        }
      ]
    },
    {
      "cell_type": "code",
      "metadata": {
        "id": "9r3sVJvk-p4a",
        "colab_type": "code",
        "colab": {
          "base_uri": "https://localhost:8080/",
          "height": 34
        },
        "outputId": "5ce21447-ce2d-4610-f511-638f55951d12"
      },
      "source": [
        "a = np.sum(m)\n",
        "print(a)"
      ],
      "execution_count": 53,
      "outputs": [
        {
          "output_type": "stream",
          "text": [
            "200.0\n"
          ],
          "name": "stdout"
        }
      ]
    },
    {
      "cell_type": "markdown",
      "metadata": {
        "colab_type": "text",
        "id": "4t6Yrs7Vj80p"
      },
      "source": [
        "### Задача 5\n",
        "\n",
        "* Создайте массив, который будет содержать списки с именем студента(str), его возрастом(int) и средней оценкой(float). \n",
        "* Отсортируйте такой массив\n",
        "* Замените значение, отвечающее за возраст, у всех студентов на одно и то же, например, 10. Отсортируйте такой массив теперь. "
      ]
    },
    {
      "cell_type": "code",
      "metadata": {
        "id": "THOXBcCdFCS0",
        "colab_type": "code",
        "colab": {
          "base_uri": "https://localhost:8080/",
          "height": 70
        },
        "outputId": "5d7a7e47-e9f6-4c2b-edf6-abcdc8bda60b"
      },
      "source": [
        "t5 = np.array([['Вася', 50, 3.76], ['Петя', 70, 4.32], ['Оля', 20, 4.92]])\n",
        "t5.sort()\n",
        "t5"
      ],
      "execution_count": 56,
      "outputs": [
        {
          "output_type": "execute_result",
          "data": {
            "text/plain": [
              "array([['3.76', '50', 'Вася'],\n",
              "       ['4.32', '70', 'Петя'],\n",
              "       ['20', '4.92', 'Оля']], dtype='<U4')"
            ]
          },
          "metadata": {
            "tags": []
          },
          "execution_count": 56
        }
      ]
    },
    {
      "cell_type": "code",
      "metadata": {
        "id": "UCWjluqrGWQ3",
        "colab_type": "code",
        "colab": {
          "base_uri": "https://localhost:8080/",
          "height": 70
        },
        "outputId": "e352f287-6c61-4d52-b221-4f9b1bccca1d"
      },
      "source": [
        "t5_1 = np.array([['Вася', 10, 3.76], ['Петя', 10, 4.32], ['Оля', 10, 4.92]])\n",
        "t5_1.sort()\n",
        "t5_1"
      ],
      "execution_count": 58,
      "outputs": [
        {
          "output_type": "execute_result",
          "data": {
            "text/plain": [
              "array([['10', '3.76', 'Вася'],\n",
              "       ['10', '4.32', 'Петя'],\n",
              "       ['10', '4.92', 'Оля']], dtype='<U4')"
            ]
          },
          "metadata": {
            "tags": []
          },
          "execution_count": 58
        }
      ]
    },
    {
      "cell_type": "code",
      "metadata": {
        "id": "CWdOuNBYG-5r",
        "colab_type": "code",
        "colab": {}
      },
      "source": [
        "# mm, okey, it happened because np.array transform every element in str, because he can use only one type elements and '1' always first"
      ],
      "execution_count": 0,
      "outputs": []
    },
    {
      "cell_type": "markdown",
      "metadata": {
        "id": "vl0mM1mc8SZc",
        "colab_type": "text"
      },
      "source": [
        "## Pro версия"
      ]
    },
    {
      "cell_type": "markdown",
      "metadata": {
        "id": "iQhtbx8Z8SZj",
        "colab_type": "text"
      },
      "source": [
        "### Задача 1\n",
        "\n",
        "* Подгрузите массив **iris.csv** и назовите его my_array. \n",
        "\n",
        "* В документации библиотеки numpy найдите функцию, генерирующую случаные числа.\n",
        "\n",
        "* Создайте двумерный массив из случайных чисел той же размерности, что и my_array.\n",
        "\n",
        "* Назовите его my_generated_array"
      ]
    },
    {
      "cell_type": "code",
      "metadata": {
        "id": "V1vMSIiMHJN2",
        "colab_type": "code",
        "colab": {}
      },
      "source": [
        "my_array = np.loadtxt('/content/drive/My Drive/iris.csv', delimiter=',', skiprows=1)\n",
        "rng = np.random.default_rng()\n",
        "my_generated_array = rng.random((my_array.shape))\n",
        "my_generated_array"
      ],
      "execution_count": 0,
      "outputs": []
    },
    {
      "cell_type": "markdown",
      "metadata": {
        "id": "hzR46ceA8SZp",
        "colab_type": "text"
      },
      "source": [
        "### Задача 2\n",
        "\n",
        "* Выполните поэлементное умножение my_array на my_generated_array\n",
        "\n",
        "* Склейте массивы my_array, my_generated_array в один\n",
        "\n",
        "* Возьмите склеенный массив и разделите его на равные части (больше двух)"
      ]
    },
    {
      "cell_type": "code",
      "metadata": {
        "id": "K93vW7fbI-im",
        "colab_type": "code",
        "colab": {}
      },
      "source": [
        "print(my_array * my_generated_array)"
      ],
      "execution_count": 0,
      "outputs": []
    },
    {
      "cell_type": "code",
      "metadata": {
        "id": "3QuIbYt7JWb8",
        "colab_type": "code",
        "colab": {
          "base_uri": "https://localhost:8080/",
          "height": 247
        },
        "outputId": "56ba74af-d88a-4fd7-f936-53164eefef7d"
      },
      "source": [
        "print(np.concatenate((my_array, my_generated_array), axis = 0))"
      ],
      "execution_count": 66,
      "outputs": [
        {
          "output_type": "stream",
          "text": [
            "[[0.00000000e+00 5.10000000e+00 3.50000000e+00 1.40000000e+00\n",
            "  2.00000000e-01]\n",
            " [1.00000000e+00 4.90000000e+00 3.00000000e+00 1.40000000e+00\n",
            "  2.00000000e-01]\n",
            " [2.00000000e+00 4.70000000e+00 3.20000000e+00 1.30000000e+00\n",
            "  2.00000000e-01]\n",
            " ...\n",
            " [6.12787326e-01 4.03568733e-01 4.95746874e-01 4.73018948e-01\n",
            "  3.55305703e-01]\n",
            " [3.12547240e-01 9.80880545e-01 4.43716695e-01 6.49267449e-01\n",
            "  9.07304780e-04]\n",
            " [3.34554929e-01 8.02726309e-01 3.14084629e-02 7.98496334e-01\n",
            "  7.54246112e-01]]\n"
          ],
          "name": "stdout"
        }
      ]
    },
    {
      "cell_type": "code",
      "metadata": {
        "id": "Mb0CZOXwJ7fs",
        "colab_type": "code",
        "colab": {}
      },
      "source": [
        "last_array = np.concatenate((my_array, my_generated_array), axis = 0)\n",
        "last_array.reshape(4, int(last_array.shape[0]/4), last_array.shape[1])\n",
        "# or more right\n",
        "np.split(last_array, 3)"
      ],
      "execution_count": 0,
      "outputs": []
    },
    {
      "cell_type": "markdown",
      "metadata": {
        "id": "z08ODJt78SZw",
        "colab_type": "text"
      },
      "source": [
        "### Задача 3\n",
        "\n",
        "* Найдите все элементы массива my_array, которые больше трех и меньше 5 одновременно. Используйте методологию подвыборки массива с условием"
      ]
    },
    {
      "cell_type": "code",
      "metadata": {
        "id": "F_0sfPoJMrXg",
        "colab_type": "code",
        "colab": {
          "base_uri": "https://localhost:8080/",
          "height": 212
        },
        "outputId": "73e48a0b-7c62-4997-d216-ff99120352a4"
      },
      "source": [
        "my_array[(my_array > 3) & (my_array < 5)]"
      ],
      "execution_count": 76,
      "outputs": [
        {
          "output_type": "execute_result",
          "data": {
            "text/plain": [
              "array([3.5, 4.9, 4.7, 3.2, 4.6, 3.1, 4. , 3.6, 3.9, 4.6, 3.4, 3.4, 4.4,\n",
              "       4.9, 3.1, 3.7, 4.8, 3.4, 4.8, 4.3, 4. , 4.4, 3.9, 3.5, 3.8, 3.8,\n",
              "       3.4, 3.7, 4.6, 3.6, 3.3, 4.8, 3.4, 3.4, 3.5, 3.4, 4.7, 3.2, 4.8,\n",
              "       3.1, 3.4, 4.1, 4.2, 4.9, 3.1, 3.2, 3.5, 4.9, 3.6, 4.4, 3.4, 3.5,\n",
              "       4.5, 4.4, 3.2, 3.5, 3.8, 4.8, 3.8, 4.6, 3.2, 3.7, 3.3, 3.2, 4.7,\n",
              "       3.2, 4.5, 3.1, 4.9, 4. , 4.6, 4.5, 3.3, 4.7, 4.9, 3.3, 4.6, 3.9,\n",
              "       3.5, 4.2, 4. , 4.7, 3.6, 3.1, 4.4, 4.5, 4.1, 4.5, 3.9, 3.2, 4.8,\n",
              "       4. , 4.9, 4.7, 4.3, 4.4, 4.8, 4.5, 3.5, 3.8, 3.7, 3.9, 4.5, 3.4,\n",
              "       4.5, 3.1, 4.7, 4.4, 4.1, 4. , 4.4, 4.6, 4. , 3.3, 4.2, 4.2, 4.2,\n",
              "       4.3, 4.1, 3.3, 4.9, 4.5, 3.6, 3.2, 3.2, 3.8, 3.2, 4.9, 4.9, 3.3,\n",
              "       3.2, 4.8, 4.9, 3.8, 3.4, 3.1, 4.8, 3.1, 3.1, 3.1, 3.2, 3.3, 3.4])"
            ]
          },
          "metadata": {
            "tags": []
          },
          "execution_count": 76
        }
      ]
    },
    {
      "cell_type": "markdown",
      "metadata": {
        "id": "P_O3RZUR8SZ6",
        "colab_type": "text"
      },
      "source": [
        "### Задача 4\n",
        "\n",
        "Создайте трехмерный массив размера 2 на 3 на 4, состоящий из случайных вещественных чисел от 15 до 37. Используйте встроенные методы библиотеки  np.random..."
      ]
    },
    {
      "cell_type": "code",
      "metadata": {
        "id": "MTbjIA5hNT-A",
        "colab_type": "code",
        "colab": {
          "base_uri": "https://localhost:8080/",
          "height": 141
        },
        "outputId": "3dc91073-82a6-4f8f-bf34-16b751716d0b"
      },
      "source": [
        "rr = np.random.randint(15, 38, (2,3,4))\n",
        "print(rr)"
      ],
      "execution_count": 28,
      "outputs": [
        {
          "output_type": "stream",
          "text": [
            "[[[35 35 16 33]\n",
            "  [30 23 16 31]\n",
            "  [35 37 33 28]]\n",
            "\n",
            " [[15 17 31 29]\n",
            "  [26 32 25 27]\n",
            "  [25 25 25 35]]]\n"
          ],
          "name": "stdout"
        }
      ]
    },
    {
      "cell_type": "markdown",
      "metadata": {
        "id": "_8q3NF_k8SaA",
        "colab_type": "text"
      },
      "source": [
        "### Задача 5\n",
        "\n",
        "Используя массив из предыдущей задачи, преобразуйте его в новый массив со следующими значениями:\n",
        "\n",
        "    * \"small\", если значения меньше 20\n",
        "    * \"medium\", если значения в промежутке [20, 30]\n",
        "    * \"large\", если значения больше 30"
      ]
    },
    {
      "cell_type": "code",
      "metadata": {
        "id": "YPGvDJNrCBDx",
        "colab_type": "code",
        "colab": {
          "base_uri": "https://localhost:8080/",
          "height": 141
        },
        "outputId": "964e144d-b7b7-4336-813d-30b850c647ec"
      },
      "source": [
        "rr = np.where(rr<20,'small', np.where(rr>30,'large', 'medium'))\n",
        "rr"
      ],
      "execution_count": 49,
      "outputs": [
        {
          "output_type": "execute_result",
          "data": {
            "text/plain": [
              "array([[['large', 'large', 'small', 'large'],\n",
              "        ['medium', 'medium', 'small', 'large'],\n",
              "        ['large', 'large', 'large', 'medium']],\n",
              "\n",
              "       [['small', 'small', 'large', 'medium'],\n",
              "        ['medium', 'large', 'medium', 'medium'],\n",
              "        ['medium', 'medium', 'medium', 'large']]], dtype='<U6')"
            ]
          },
          "metadata": {
            "tags": []
          },
          "execution_count": 49
        }
      ]
    },
    {
      "cell_type": "markdown",
      "metadata": {
        "id": "hOhMOcs18SaF",
        "colab_type": "text"
      },
      "source": [
        "### Задача 6\n",
        "\n",
        "Создайте одномерный массив из случайных 10 значений. \n",
        "\n",
        "* Не используя цикл for, сумму значений с 3 по 7 элемент.\n",
        "* Найдите сумму квадратов последних двух элементов."
      ]
    },
    {
      "cell_type": "code",
      "metadata": {
        "id": "R21IPLOiPTBr",
        "colab_type": "code",
        "colab": {
          "base_uri": "https://localhost:8080/",
          "height": 52
        },
        "outputId": "e591cf21-16f8-4e8b-a4bc-150f983f3724"
      },
      "source": [
        "randy = np.random.sample(10)\n",
        "randy"
      ],
      "execution_count": 6,
      "outputs": [
        {
          "output_type": "execute_result",
          "data": {
            "text/plain": [
              "array([0.58721121, 0.61904111, 0.30478246, 0.43512747, 0.10977834,\n",
              "       0.61835879, 0.23953021, 0.22077853, 0.24121676, 0.19441362])"
            ]
          },
          "metadata": {
            "tags": []
          },
          "execution_count": 6
        }
      ]
    },
    {
      "cell_type": "code",
      "metadata": {
        "id": "s1VrGtWrPcY5",
        "colab_type": "code",
        "colab": {
          "base_uri": "https://localhost:8080/",
          "height": 52
        },
        "outputId": "fc1685bf-5a1e-40ec-acbd-b60e6330f2a1"
      },
      "source": [
        "print(randy[2:7].sum())\n",
        "sum([0.30478246, 0.43512747, 0.10977834, 0.61835879, 0.23953021])"
      ],
      "execution_count": 13,
      "outputs": [
        {
          "output_type": "stream",
          "text": [
            "1.707577277892164\n"
          ],
          "name": "stdout"
        },
        {
          "output_type": "execute_result",
          "data": {
            "text/plain": [
              "1.70757727"
            ]
          },
          "metadata": {
            "tags": []
          },
          "execution_count": 13
        }
      ]
    },
    {
      "cell_type": "code",
      "metadata": {
        "id": "0akYmcbh-Lgq",
        "colab_type": "code",
        "colab": {}
      },
      "source": [
        "assert round(sum([0.30478246, 0.43512747, 0.10977834, 0.61835879, 0.23953021]),2) == round(randy[2:7].sum(), 2)"
      ],
      "execution_count": 0,
      "outputs": []
    },
    {
      "cell_type": "code",
      "metadata": {
        "id": "2Z6z_ndc_xV2",
        "colab_type": "code",
        "colab": {
          "base_uri": "https://localhost:8080/",
          "height": 52
        },
        "outputId": "4a39d2e5-4fb1-435d-d937-0078b9e163ec"
      },
      "source": [
        "print(randy[-2:]**2)\n",
        "# this is test\n",
        "[randy[-2]**2, randy[-1]**2]"
      ],
      "execution_count": 20,
      "outputs": [
        {
          "output_type": "stream",
          "text": [
            "[0.05818552 0.03779665]\n"
          ],
          "name": "stdout"
        },
        {
          "output_type": "execute_result",
          "data": {
            "text/plain": [
              "[0.058185523303008635, 0.03779665391757645]"
            ]
          },
          "metadata": {
            "tags": []
          },
          "execution_count": 20
        }
      ]
    },
    {
      "cell_type": "code",
      "metadata": {
        "id": "aYH7OmbuASQ6",
        "colab_type": "code",
        "colab": {}
      },
      "source": [
        ""
      ],
      "execution_count": 0,
      "outputs": []
    }
  ]
}