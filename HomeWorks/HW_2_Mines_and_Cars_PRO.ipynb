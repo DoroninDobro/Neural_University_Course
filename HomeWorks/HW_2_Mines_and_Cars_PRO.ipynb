{
  "nbformat": 4,
  "nbformat_minor": 0,
  "metadata": {
    "colab": {
      "name": "HW_2_Mines_and_Cars.ipynb",
      "provenance": [],
      "collapsed_sections": [
        "zfSGtJ-nEYnV",
        "tDpeJfRBzC1U",
        "H5HKBRKjItWc"
      ]
    },
    "kernelspec": {
      "name": "python3",
      "display_name": "Python 3"
    },
    "accelerator": "GPU"
  },
  "cells": [
    {
      "cell_type": "code",
      "metadata": {
        "id": "u4mVxmFIwGn6",
        "colab_type": "code",
        "colab": {}
      },
      "source": [
        "from tensorflow.keras.models import Sequential\n",
        "from tensorflow.keras.layers import Dense, Activation, Dropout, BatchNormalization\n",
        "from tensorflow.keras import utils\n",
        "from tensorflow.keras.optimizers import Adam, Adadelta\n",
        "from sklearn.model_selection import train_test_split\n",
        "import numpy as np\n",
        "import matplotlib.pyplot as plt\n",
        "import pandas as pd\n",
        "from google.colab import files\n",
        "%matplotlib inline"
      ],
      "execution_count": 0,
      "outputs": []
    },
    {
      "cell_type": "markdown",
      "metadata": {
        "id": "UF8IxWsQwDJR",
        "colab_type": "text"
      },
      "source": [
        "# ProV1."
      ]
    },
    {
      "cell_type": "markdown",
      "metadata": {
        "id": "CPxSpAS5w64b",
        "colab_type": "text"
      },
      "source": [
        "### Задача."
      ]
    },
    {
      "cell_type": "markdown",
      "metadata": {
        "id": "vlTarFMHw9mI",
        "colab_type": "text"
      },
      "source": [
        "Повысьте точность модели по обнаружению мин до 90 % на тестовой выборке. Можно использовать различные варианты слоев Dropout и BatchNormalization. Можно менять количество примеров в обучающей и проверочной выборках, но нельзя менять количество примеров в тестовой. \n"
      ]
    },
    {
      "cell_type": "markdown",
      "metadata": {
        "id": "pv8qtwcbC9Wz",
        "colab_type": "text"
      },
      "source": [
        "### Решение."
      ]
    },
    {
      "cell_type": "markdown",
      "metadata": {
        "id": "oNkKGDjoEN0C",
        "colab_type": "text"
      },
      "source": [
        "##### Сделаем Baseline на основе урока."
      ]
    },
    {
      "cell_type": "code",
      "metadata": {
        "id": "-SVcdeQJ7Np8",
        "colab_type": "code",
        "outputId": "af966a51-46fc-498e-dadd-0cd51e1d188f",
        "colab": {
          "resources": {
            "http://localhost:8080/nbextensions/google.colab/files.js": {
              "data": "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",
              "ok": true,
              "headers": [
                [
                  "content-type",
                  "application/javascript"
                ]
              ],
              "status": 200,
              "status_text": ""
            }
          },
          "base_uri": "https://localhost:8080/",
          "height": 74
        }
      },
      "source": [
        "# prepare data\n",
        "files.upload()\n",
        "sonar = pd.read_csv(\"sonar.csv\", header=None)   # header=None, когда данные не имеют строки с заголовками\n",
        "X = sonar.values[:,0:60].astype(float)\n",
        "Y = sonar.values[:,60]\n",
        "Y[Y=='R'] = '0'\n",
        "Y[Y=='M'] = '1'\n",
        "Y = Y.astype(int)"
      ],
      "execution_count": 0,
      "outputs": [
        {
          "output_type": "display_data",
          "data": {
            "text/html": [
              "\n",
              "     <input type=\"file\" id=\"files-c88c9e6e-2363-4398-9014-0bfbbfe8b0c9\" name=\"files[]\" multiple disabled />\n",
              "     <output id=\"result-c88c9e6e-2363-4398-9014-0bfbbfe8b0c9\">\n",
              "      Upload widget is only available when the cell has been executed in the\n",
              "      current browser session. Please rerun this cell to enable.\n",
              "      </output>\n",
              "      <script src=\"/nbextensions/google.colab/files.js\"></script> "
            ],
            "text/plain": [
              "<IPython.core.display.HTML object>"
            ]
          },
          "metadata": {
            "tags": []
          }
        },
        {
          "output_type": "stream",
          "text": [
            "Saving sonar.csv to sonar.csv\n"
          ],
          "name": "stdout"
        }
      ]
    },
    {
      "cell_type": "code",
      "metadata": {
        "id": "MQE1XaRLGPdS",
        "colab_type": "code",
        "colab": {}
      },
      "source": [
        "# make train and test sample   \n",
        "x_train, x_test, y_train, y_test = train_test_split(X, Y, test_size=0.2, shuffle=True)"
      ],
      "execution_count": 0,
      "outputs": []
    },
    {
      "cell_type": "code",
      "metadata": {
        "id": "C0HTI733GPkT",
        "colab_type": "code",
        "outputId": "07ee3353-2ca7-4e4b-d99a-2aa156d7fed3",
        "colab": {
          "base_uri": "https://localhost:8080/",
          "height": 85
        }
      },
      "source": [
        "# make first model and try another count epochs\n",
        "ep_list = [25, 50, 100, 200]\n",
        "for ep in ep_list:\n",
        "  model = Sequential()\n",
        "  model.add(Dense(60, input_dim=60, activation='relu'))\n",
        "  model.add(Dense(30, activation='relu'))\n",
        "  model.add(Dense(1, activation='sigmoid'))\n",
        "  model.compile(loss='binary_crossentropy', optimizer=Adam(lr=0.001), metrics=['accuracy'])\n",
        "  model.fit(x_train, y_train, batch_size=8, epochs=ep, verbose=0)\n",
        "  res_base = model.evaluate(x_test, y_test, verbose=0)\n",
        "  print('Epochs:', ep, 'Accuracy:', res_base[1])"
      ],
      "execution_count": 0,
      "outputs": [
        {
          "output_type": "stream",
          "text": [
            "Epochs: 25 Accuracy: 0.8571428656578064\n",
            "Epochs: 50 Accuracy: 0.8333333134651184\n",
            "Epochs: 100 Accuracy: 0.8571428656578064\n",
            "Epochs: 200 Accuracy: 0.9047619104385376\n"
          ],
          "name": "stdout"
        }
      ]
    },
    {
      "cell_type": "markdown",
      "metadata": {
        "id": "RECSeTomK02n",
        "colab_type": "text"
      },
      "source": [
        "~~Довольно ужасно. Но кажется, что нам стоит избегать большого количества эпох, в силу переобучения. Продолжим.~~\n",
        "\n",
        "Тут случилась магия. В первый раз когда я запускал этот код, то лучшим результатом было 85% причем после 25 эпох. Полагаю что такие большие разбросы вызваны маленькой выборкой. Чтож сохраним веса. "
      ]
    },
    {
      "cell_type": "code",
      "metadata": {
        "id": "PJg4tiVeokI_",
        "colab_type": "code",
        "colab": {}
      },
      "source": [
        "# save model and weight\n",
        "weights = model.get_weights()\n",
        "np.save('sonar_weights', weights)\n",
        "model.save(\"sonar.h5\")\n",
        "files.download('sonar.h5')\n",
        "files.download('sonar_weights.npy')"
      ],
      "execution_count": 0,
      "outputs": []
    },
    {
      "cell_type": "code",
      "metadata": {
        "id": "vvfsxuH6pjyV",
        "colab_type": "code",
        "outputId": "661ae28f-fb71-407a-c192-b64836b857fe",
        "colab": {
          "base_uri": "https://localhost:8080/",
          "height": 34
        }
      },
      "source": [
        "# сheck that everything is according to plan\n",
        "model = Sequential()\n",
        "model.add(Dense(60, input_dim=60, activation='relu'))\n",
        "model.add(Dense(30, activation='relu'))\n",
        "model.add(Dense(1, activation='sigmoid'))\n",
        "model.compile(loss='binary_crossentropy', optimizer=Adam(lr=0.001), metrics=['accuracy'])\n",
        "model.load_weights('sonar.h5')\n",
        "res_base = model.evaluate(x_test, y_test, verbose=0)\n",
        "print('Accuracy:', res_base[1])"
      ],
      "execution_count": 0,
      "outputs": [
        {
          "output_type": "stream",
          "text": [
            "Accuracy: 0.9047619104385376\n"
          ],
          "name": "stdout"
        }
      ]
    },
    {
      "cell_type": "markdown",
      "metadata": {
        "id": "JML3KW6Kri2-",
        "colab_type": "text"
      },
      "source": [
        "Yeah! \"Все идет по плану!\" (с)\n",
        "\n",
        "Но изучим те гипотезы, которые я разработал вчера. Хотя наверняка их влияние на модель с 85% успехом было бы более вероятно, чем их влияние на уже хорошую модель с показателем 90%."
      ]
    },
    {
      "cell_type": "markdown",
      "metadata": {
        "id": "zfSGtJ-nEYnV",
        "colab_type": "text"
      },
      "source": [
        "##### Первая гипотеза. \"Слишком много данных\""
      ]
    },
    {
      "cell_type": "markdown",
      "metadata": {
        "id": "aUL2m3zZDSyo",
        "colab_type": "text"
      },
      "source": [
        "Ну прежде всего меня удивляет, что на такой выборке и с таким количеством параметров можно сделать такой результат. \n",
        "\n",
        "Я читал о проклятии размерности, поэтому первое, что я попробую это убрать несущественные признаки и заного пересчитать модель."
      ]
    },
    {
      "cell_type": "code",
      "metadata": {
        "id": "SWeBa7KNLWYp",
        "colab_type": "code",
        "colab": {}
      },
      "source": [
        "# remove signs that have a low correlation with the target sign\n",
        "sonar = sonar.replace(to_replace=['R', 'M'], value=[0,1])\n",
        "list_cor = sonar.corr().iloc[:,60].to_list()\n",
        "list_del = []\n",
        "for cor in range(len(list_cor)):\n",
        "  if list_cor[cor] > -0.09 and list_cor[cor] < 0.09:\n",
        "    list_del.append(cor)\n",
        "x_train1 = np.delete(x_train, list_del, axis=1)\n",
        "x_test1 = np.delete(x_test, list_del, axis=1)"
      ],
      "execution_count": 0,
      "outputs": []
    },
    {
      "cell_type": "code",
      "metadata": {
        "id": "K6NmkVL-S3aL",
        "colab_type": "code",
        "outputId": "543652b1-352e-4adb-e082-912081376866",
        "colab": {
          "base_uri": "https://localhost:8080/",
          "height": 153
        }
      },
      "source": [
        "# full data\n",
        "ep_list = [25, 50, 100, 200]\n",
        "for ep in ep_list:\n",
        "  model = Sequential()\n",
        "  model.add(Dense(60, input_dim=60, activation='relu'))\n",
        "  model.add(Dense(30, activation='relu'))\n",
        "  model.add(Dense(1, activation='sigmoid'))\n",
        "  model.compile(loss='binary_crossentropy', optimizer=Adam(lr=0.001), metrics=['accuracy'])\n",
        "  model.fit(x_train, y_train, batch_size=8, epochs=ep, verbose=0)\n",
        "  res_base = model.evaluate(x_test, y_test, verbose=1)\n",
        "  print('Epochs:', ep, 'Accuracy:', res_base[1])"
      ],
      "execution_count": 0,
      "outputs": [
        {
          "output_type": "stream",
          "text": [
            "2/2 [==============================] - 0s 4ms/step - loss: 0.3642 - accuracy: 0.8095\n",
            "Epochs: 25 Accuracy: 0.8095238208770752\n",
            "2/2 [==============================] - 0s 2ms/step - loss: 0.4155 - accuracy: 0.7857\n",
            "Epochs: 50 Accuracy: 0.7857142686843872\n",
            "2/2 [==============================] - 0s 3ms/step - loss: 0.4963 - accuracy: 0.7857\n",
            "Epochs: 100 Accuracy: 0.7857142686843872\n",
            "2/2 [==============================] - 0s 3ms/step - loss: 0.4387 - accuracy: 0.8571\n",
            "Epochs: 200 Accuracy: 0.8571428656578064\n"
          ],
          "name": "stdout"
        }
      ]
    },
    {
      "cell_type": "code",
      "metadata": {
        "id": "Px8lCh1-wad-",
        "colab_type": "code",
        "outputId": "5fa99b69-b401-4d46-d7d3-87d8c53fbfe1",
        "colab": {
          "base_uri": "https://localhost:8080/",
          "height": 153
        }
      },
      "source": [
        "# mini data\n",
        "ep_list = [25, 50, 100, 200]\n",
        "for ep in ep_list:\n",
        "  model = Sequential()\n",
        "  model.add(Dense(60, input_dim=43, activation='relu'))\n",
        "  model.add(Dense(30, activation='relu'))\n",
        "  model.add(Dense(1, activation='sigmoid'))\n",
        "  model.compile(loss='binary_crossentropy', optimizer=Adam(lr=0.001), metrics=['accuracy'])\n",
        "  model.fit(x_train1, y_train, batch_size=8, epochs=ep, verbose=0)\n",
        "  res_base = model.evaluate(x_test1, y_test, verbose=1)\n",
        "  print('Epochs:', ep, 'Accuracy:', res_base[1])"
      ],
      "execution_count": 0,
      "outputs": [
        {
          "output_type": "stream",
          "text": [
            "2/2 [==============================] - 0s 3ms/step - loss: 0.3745 - accuracy: 0.8333\n",
            "Epochs: 25 Accuracy: 0.8333333134651184\n",
            "2/2 [==============================] - 0s 3ms/step - loss: 0.3522 - accuracy: 0.7857\n",
            "Epochs: 50 Accuracy: 0.7857142686843872\n",
            "2/2 [==============================] - 0s 4ms/step - loss: 0.3593 - accuracy: 0.8810\n",
            "Epochs: 100 Accuracy: 0.8809523582458496\n",
            "2/2 [==============================] - 0s 6ms/step - loss: 0.5905 - accuracy: 0.7857\n",
            "Epochs: 200 Accuracy: 0.7857142686843872\n"
          ],
          "name": "stdout"
        }
      ]
    },
    {
      "cell_type": "markdown",
      "metadata": {
        "id": "BbiuVH1fxJCv",
        "colab_type": "text"
      },
      "source": [
        "Вроде бы улучшили результаты, но до тех случайных 90% не довели. Хорошо бы сохранить веса, поэтому сделаем так:"
      ]
    },
    {
      "cell_type": "code",
      "metadata": {
        "id": "St5HgIIkxia9",
        "colab_type": "code",
        "outputId": "acc4160c-6d25-4eb8-f118-5f89fd7099b3",
        "colab": {
          "base_uri": "https://localhost:8080/",
          "height": 170
        }
      },
      "source": [
        "ep_list = [25, 50, 100, 200]\n",
        "level = 0.87\n",
        "for ep in ep_list:\n",
        "  model = Sequential()\n",
        "  model.add(Dense(60, input_dim=43, activation='relu'))\n",
        "  model.add(Dense(30, activation='relu'))\n",
        "  model.add(Dense(1, activation='sigmoid'))\n",
        "  model.compile(loss='binary_crossentropy', optimizer=Adam(lr=0.001), metrics=['accuracy'])\n",
        "  model.fit(x_train1, y_train, batch_size=8, epochs=ep, verbose=0)\n",
        "  res_base = model.evaluate(x_test1, y_test, verbose=1)\n",
        "  if res_base[1] > level:\n",
        "    s_weights = model.get_weights()\n",
        "    level = res_base[1]\n",
        "    print('Success!')\n",
        "  print('Epochs:', ep, 'Accuracy:', res_base[1])"
      ],
      "execution_count": 0,
      "outputs": [
        {
          "output_type": "stream",
          "text": [
            "2/2 [==============================] - 0s 4ms/step - loss: 0.3544 - accuracy: 0.8333\n",
            "Epochs: 25 Accuracy: 0.8333333134651184\n",
            "2/2 [==============================] - 0s 3ms/step - loss: 0.3567 - accuracy: 0.8571\n",
            "Epochs: 50 Accuracy: 0.8571428656578064\n",
            "2/2 [==============================] - 0s 4ms/step - loss: 0.3752 - accuracy: 0.8333\n",
            "Epochs: 100 Accuracy: 0.8333333134651184\n",
            "2/2 [==============================] - 0s 4ms/step - loss: 0.4462 - accuracy: 0.8810\n",
            "Success!\n",
            "Epochs: 200 Accuracy: 0.8809523582458496\n"
          ],
          "name": "stdout"
        }
      ]
    },
    {
      "cell_type": "markdown",
      "metadata": {
        "id": "hF7DsXudyNau",
        "colab_type": "text"
      },
      "source": [
        "Я считаю, что гипотеза в целом успешная. Повторить сейчас 88% по полным данным было бы сложнее и потребовало больше итераций. Дальнейшие гипотезы я проверю на этой урезанной модели."
      ]
    },
    {
      "cell_type": "markdown",
      "metadata": {
        "id": "tDpeJfRBzC1U",
        "colab_type": "text"
      },
      "source": [
        "##### Вторая гипотеза. \"Но все что мне нужно - место для шага вперед\" (с) Виктор Цой"
      ]
    },
    {
      "cell_type": "markdown",
      "metadata": {
        "id": "2KjDHZdIzkM6",
        "colab_type": "text"
      },
      "source": [
        "Попробуем поиграться с шагом модели Adam. Понятно, что можно было бы применить другие модели. Я думаю, что вариантов экспериментов можно придумать тысячи."
      ]
    },
    {
      "cell_type": "code",
      "metadata": {
        "id": "QU6noFNOy9J1",
        "colab_type": "code",
        "outputId": "96609aed-eb1e-4d2c-92a6-9887d03e14b3",
        "colab": {
          "base_uri": "https://localhost:8080/",
          "height": 221
        }
      },
      "source": [
        "ep_list = [100, 200, 500]\n",
        "step_list = [0.01, 0.0001]\n",
        "for ep in ep_list:\n",
        "  for lr in step_list:\n",
        "    model = Sequential()\n",
        "    model.add(Dense(60, input_dim=43, activation='relu'))\n",
        "    model.add(Dense(30, activation='relu'))\n",
        "    model.add(Dense(1, activation='sigmoid'))\n",
        "    model.compile(loss='binary_crossentropy', optimizer=Adam(lr=lr), metrics=['accuracy'])\n",
        "    model.fit(x_train1, y_train, batch_size=8, epochs=ep, verbose=0)\n",
        "    res_base = model.evaluate(x_test1, y_test, verbose=1)\n",
        "    if res_base[1] > level:\n",
        "      lr_weights = model.get_weights()\n",
        "      level = res_base[1]\n",
        "      print('Success!')\n",
        "    print('Epochs:', ep, 'Step:', lr, 'Accuracy:', res_base[1])"
      ],
      "execution_count": 0,
      "outputs": [
        {
          "output_type": "stream",
          "text": [
            "2/2 [==============================] - 0s 2ms/step - loss: 0.8247 - accuracy: 0.8333\n",
            "Epochs: 100 Step: 0.01 Accuracy: 0.8333333134651184\n",
            "2/2 [==============================] - 0s 4ms/step - loss: 0.4621 - accuracy: 0.7619\n",
            "Epochs: 100 Step: 0.0001 Accuracy: 0.761904776096344\n",
            "2/2 [==============================] - 0s 4ms/step - loss: 1.6432 - accuracy: 0.8095\n",
            "Epochs: 200 Step: 0.01 Accuracy: 0.8095238208770752\n",
            "2/2 [==============================] - 0s 4ms/step - loss: 0.3736 - accuracy: 0.8333\n",
            "Epochs: 200 Step: 0.0001 Accuracy: 0.8333333134651184\n",
            "2/2 [==============================] - 0s 4ms/step - loss: 2.1407 - accuracy: 0.8333\n",
            "Epochs: 500 Step: 0.01 Accuracy: 0.8333333134651184\n",
            "2/2 [==============================] - 0s 6ms/step - loss: 0.3141 - accuracy: 0.8571\n",
            "Epochs: 500 Step: 0.0001 Accuracy: 0.8571428656578064\n"
          ],
          "name": "stdout"
        }
      ]
    },
    {
      "cell_type": "markdown",
      "metadata": {
        "id": "Gxw9Plq10_Vu",
        "colab_type": "text"
      },
      "source": [
        "В целом никаких улучшений, но вот последний обнадеживающий. Попробуем дожать его, хотя веры в успех мало. Еще попробуем на полной выборке."
      ]
    },
    {
      "cell_type": "code",
      "metadata": {
        "id": "kxd7gL3Ny9WS",
        "colab_type": "code",
        "outputId": "4e62e2c8-805d-4147-ec53-41f599660302",
        "colab": {
          "base_uri": "https://localhost:8080/",
          "height": 85
        }
      },
      "source": [
        "ep_list = [1000, 2000]\n",
        "for ep in ep_list:\n",
        "    model = Sequential()\n",
        "    model.add(Dense(60, input_dim=43, activation='relu'))\n",
        "    model.add(Dense(30, activation='relu'))\n",
        "    model.add(Dense(1, activation='sigmoid'))\n",
        "    model.compile(loss='binary_crossentropy', optimizer=Adam(lr=0.0001), metrics=['accuracy'])\n",
        "    model.fit(x_train1, y_train, batch_size=8, epochs=ep, verbose=0)\n",
        "    res_base = model.evaluate(x_test1, y_test, verbose=1)\n",
        "    if res_base[1] > level:\n",
        "      lr_weights = model.get_weights()\n",
        "      level = res_base[1]\n",
        "      print('Success!')\n",
        "    print('Epochs:', ep, 'Step:', lr, 'Accuracy:', res_base[1])"
      ],
      "execution_count": 0,
      "outputs": [
        {
          "output_type": "stream",
          "text": [
            "2/2 [==============================] - 0s 4ms/step - loss: 0.3697 - accuracy: 0.8333\n",
            "Epochs: 1000 Step: 0.0001 Accuracy: 0.8333333134651184\n",
            "2/2 [==============================] - 0s 4ms/step - loss: 1.1267 - accuracy: 0.8095\n",
            "Epochs: 2000 Step: 0.0001 Accuracy: 0.8095238208770752\n"
          ],
          "name": "stdout"
        }
      ]
    },
    {
      "cell_type": "code",
      "metadata": {
        "id": "8qkopa6Vy9aO",
        "colab_type": "code",
        "outputId": "65789276-a750-409c-f1bb-976d30a3f59b",
        "colab": {
          "base_uri": "https://localhost:8080/",
          "height": 119
        }
      },
      "source": [
        "ep_list = [500, 1000, 2000]\n",
        "for ep in ep_list:\n",
        "    model = Sequential()\n",
        "    model.add(Dense(60, input_dim=60, activation='relu'))\n",
        "    model.add(Dense(30, activation='relu'))\n",
        "    model.add(Dense(1, activation='sigmoid'))\n",
        "    model.compile(loss='binary_crossentropy', optimizer=Adam(lr=0.0001), metrics=['accuracy'])\n",
        "    model.fit(x_train, y_train, batch_size=8, epochs=ep, verbose=0)\n",
        "    res_base = model.evaluate(x_test, y_test, verbose=1)\n",
        "    if res_base[1] > level:\n",
        "      lr_weights = model.get_weights()\n",
        "      level = res_base[1]\n",
        "      print('Success!')\n",
        "    print('Epochs:', ep, 'Step:', lr, 'Accuracy:', res_base[1])"
      ],
      "execution_count": 0,
      "outputs": [
        {
          "output_type": "stream",
          "text": [
            "2/2 [==============================] - 0s 4ms/step - loss: 0.3563 - accuracy: 0.8810\n",
            "Epochs: 500 Step: 0.0001 Accuracy: 0.8809523582458496\n",
            "2/2 [==============================] - 0s 4ms/step - loss: 0.5998 - accuracy: 0.8333\n",
            "Epochs: 1000 Step: 0.0001 Accuracy: 0.8333333134651184\n",
            "2/2 [==============================] - 0s 4ms/step - loss: 1.1662 - accuracy: 0.8810\n",
            "Epochs: 2000 Step: 0.0001 Accuracy: 0.8809523582458496\n"
          ],
          "name": "stdout"
        }
      ]
    },
    {
      "cell_type": "markdown",
      "metadata": {
        "id": "EK02RLIa3bZ8",
        "colab_type": "text"
      },
      "source": [
        "В разныз моделях показатель точен до десятого знака после запятой, это значит что не могут обозначиться одни и теже примеры. А это в свою очередь значит, что нужные 90% зависят во многом еще и от того, как перемешаются данные."
      ]
    },
    {
      "cell_type": "markdown",
      "metadata": {
        "id": "H5HKBRKjItWc",
        "colab_type": "text"
      },
      "source": [
        "##### Третья гипотеза. \"Dropout спасет мир\""
      ]
    },
    {
      "cell_type": "markdown",
      "metadata": {
        "id": "MXpJXzkeJBbs",
        "colab_type": "text"
      },
      "source": [
        "Еще на уроке этот метод показал очень близкие к 90% результаты. И в задании Light хорошо показал себя. Давайте попробуем применить его. Очень хочется снова получить 90% =))) Поэтому тут добавим побольше вариаций разных."
      ]
    },
    {
      "cell_type": "code",
      "metadata": {
        "id": "wOt_hQKLI96_",
        "colab_type": "code",
        "outputId": "d77738e5-e627-4a6a-a2fc-5cd8f0e45a37",
        "colab": {
          "base_uri": "https://localhost:8080/",
          "height": 714
        }
      },
      "source": [
        "# for full data\n",
        "ep_list = [25, 50, 100, 200]\n",
        "drop_list = [0.1, 0.2, 0.3, 0.4, 0.5] \n",
        "level = 0.88\n",
        "for do in drop_list:\n",
        "  for ep in ep_list:\n",
        "    model = Sequential()\n",
        "    model.add(Dropout(do, input_shape=(60,)))\n",
        "    model.add(Dense(60, activation='relu'))\n",
        "    model.add(Dropout(do))\n",
        "    model.add(Dense(30, activation='relu'))\n",
        "    model.add(Dropout(do))\n",
        "    model.add(Dense(1, activation='sigmoid'))\n",
        "    model.compile(loss='binary_crossentropy', optimizer=Adam(lr=0.001), metrics=['accuracy'])\n",
        "    model.fit(x_train, y_train, batch_size=8, epochs=ep, verbose=0)\n",
        "    res_base = model.evaluate(x_test, y_test, verbose=1)\n",
        "    if res_base[1] > level:\n",
        "        dof_weights = model.get_weights()\n",
        "        level = res_base[1]\n",
        "        print('Success!')\n",
        "    print('Epochs:', ep, 'Dropout:', do, 'Accuracy:', res_base[1])"
      ],
      "execution_count": 0,
      "outputs": [
        {
          "output_type": "stream",
          "text": [
            "2/2 [==============================] - 0s 4ms/step - loss: 0.3828 - accuracy: 0.8571\n",
            "Epochs: 25 Dropout: 0.1 Accuracy: 0.8571428656578064\n",
            "2/2 [==============================] - 0s 3ms/step - loss: 0.3265 - accuracy: 0.8810\n",
            "Success!\n",
            "Epochs: 50 Dropout: 0.1 Accuracy: 0.8809523582458496\n",
            "2/2 [==============================] - 0s 4ms/step - loss: 0.3146 - accuracy: 0.8810\n",
            "Epochs: 100 Dropout: 0.1 Accuracy: 0.8809523582458496\n",
            "2/2 [==============================] - 0s 4ms/step - loss: 0.3122 - accuracy: 0.8810\n",
            "Epochs: 200 Dropout: 0.1 Accuracy: 0.8809523582458496\n",
            "2/2 [==============================] - 0s 3ms/step - loss: 0.4513 - accuracy: 0.7857\n",
            "Epochs: 25 Dropout: 0.2 Accuracy: 0.7857142686843872\n",
            "2/2 [==============================] - 0s 3ms/step - loss: 0.3766 - accuracy: 0.8810\n",
            "Epochs: 50 Dropout: 0.2 Accuracy: 0.8809523582458496\n",
            "2/2 [==============================] - 0s 3ms/step - loss: 0.3545 - accuracy: 0.8571\n",
            "Epochs: 100 Dropout: 0.2 Accuracy: 0.8571428656578064\n",
            "2/2 [==============================] - 0s 3ms/step - loss: 0.3246 - accuracy: 0.8810\n",
            "Epochs: 200 Dropout: 0.2 Accuracy: 0.8809523582458496\n",
            "2/2 [==============================] - 0s 3ms/step - loss: 0.5156 - accuracy: 0.7857\n",
            "Epochs: 25 Dropout: 0.3 Accuracy: 0.7857142686843872\n",
            "2/2 [==============================] - 0s 3ms/step - loss: 0.4755 - accuracy: 0.7381\n",
            "Epochs: 50 Dropout: 0.3 Accuracy: 0.738095223903656\n",
            "2/2 [==============================] - 0s 3ms/step - loss: 0.3761 - accuracy: 0.8810\n",
            "Epochs: 100 Dropout: 0.3 Accuracy: 0.8809523582458496\n",
            "2/2 [==============================] - 0s 4ms/step - loss: 0.3934 - accuracy: 0.8333\n",
            "Epochs: 200 Dropout: 0.3 Accuracy: 0.8333333134651184\n",
            "2/2 [==============================] - 0s 3ms/step - loss: 0.5783 - accuracy: 0.7143\n",
            "Epochs: 25 Dropout: 0.4 Accuracy: 0.7142857313156128\n",
            "2/2 [==============================] - 0s 4ms/step - loss: 0.5182 - accuracy: 0.7619\n",
            "Epochs: 50 Dropout: 0.4 Accuracy: 0.761904776096344\n",
            "2/2 [==============================] - 0s 3ms/step - loss: 0.4556 - accuracy: 0.8571\n",
            "Epochs: 100 Dropout: 0.4 Accuracy: 0.8571428656578064\n",
            "2/2 [==============================] - 0s 4ms/step - loss: 0.4194 - accuracy: 0.8095\n",
            "Epochs: 200 Dropout: 0.4 Accuracy: 0.8095238208770752\n",
            "2/2 [==============================] - 0s 3ms/step - loss: 0.6498 - accuracy: 0.7143\n",
            "Epochs: 25 Dropout: 0.5 Accuracy: 0.7142857313156128\n",
            "2/2 [==============================] - 0s 4ms/step - loss: 0.6105 - accuracy: 0.6429\n",
            "Epochs: 50 Dropout: 0.5 Accuracy: 0.6428571343421936\n",
            "2/2 [==============================] - 0s 4ms/step - loss: 0.5564 - accuracy: 0.7619\n",
            "Epochs: 100 Dropout: 0.5 Accuracy: 0.761904776096344\n",
            "2/2 [==============================] - 0s 4ms/step - loss: 0.4838 - accuracy: 0.8095\n",
            "Epochs: 200 Dropout: 0.5 Accuracy: 0.8095238208770752\n"
          ],
          "name": "stdout"
        }
      ]
    },
    {
      "cell_type": "code",
      "metadata": {
        "id": "yjwXjmQ_I-ux",
        "colab_type": "code",
        "outputId": "7ffdb677-0958-4f56-c649-7f0d95a8042e",
        "colab": {
          "base_uri": "https://localhost:8080/",
          "height": 714
        }
      },
      "source": [
        "# for small data\n",
        "ep_list = [25, 50, 100, 200]\n",
        "drop_list = [0.1, 0.2, 0.3, 0.4, 0.5] \n",
        "level = 0.88\n",
        "for do in drop_list:\n",
        "  for ep in ep_list:\n",
        "    model = Sequential()\n",
        "    model.add(Dropout(do, input_shape=(43,)))\n",
        "    model.add(Dense(60, activation='relu'))\n",
        "    model.add(Dropout(do))\n",
        "    model.add(Dense(30, activation='relu'))\n",
        "    model.add(Dropout(do))\n",
        "    model.add(Dense(1, activation='sigmoid'))\n",
        "    model.compile(loss='binary_crossentropy', optimizer=Adam(lr=0.001), metrics=['accuracy'])\n",
        "    model.fit(x_train1, y_train, batch_size=8, epochs=ep, verbose=0)\n",
        "    res_base = model.evaluate(x_test1, y_test, verbose=1)\n",
        "    if res_base[1] > level:\n",
        "        dos_weights = model.get_weights()\n",
        "        level = res_base[1]\n",
        "        print('Success!')\n",
        "    print('Epochs:', ep, 'Dropout:', do, 'Accuracy:', res_base[1])"
      ],
      "execution_count": 0,
      "outputs": [
        {
          "output_type": "stream",
          "text": [
            "2/2 [==============================] - 0s 4ms/step - loss: 0.4028 - accuracy: 0.8571\n",
            "Epochs: 25 Dropout: 0.1 Accuracy: 0.8571428656578064\n",
            "2/2 [==============================] - 0s 4ms/step - loss: 0.3727 - accuracy: 0.8333\n",
            "Epochs: 50 Dropout: 0.1 Accuracy: 0.8333333134651184\n",
            "2/2 [==============================] - 0s 5ms/step - loss: 0.3186 - accuracy: 0.8571\n",
            "Epochs: 100 Dropout: 0.1 Accuracy: 0.8571428656578064\n",
            "2/2 [==============================] - 0s 4ms/step - loss: 0.3403 - accuracy: 0.8810\n",
            "Success!\n",
            "Epochs: 200 Dropout: 0.1 Accuracy: 0.8809523582458496\n",
            "2/2 [==============================] - 0s 4ms/step - loss: 0.4461 - accuracy: 0.8571\n",
            "Epochs: 25 Dropout: 0.2 Accuracy: 0.8571428656578064\n",
            "2/2 [==============================] - 0s 4ms/step - loss: 0.4055 - accuracy: 0.8333\n",
            "Epochs: 50 Dropout: 0.2 Accuracy: 0.8333333134651184\n",
            "2/2 [==============================] - 0s 3ms/step - loss: 0.3842 - accuracy: 0.8810\n",
            "Epochs: 100 Dropout: 0.2 Accuracy: 0.8809523582458496\n",
            "2/2 [==============================] - 0s 4ms/step - loss: 0.3565 - accuracy: 0.8571\n",
            "Epochs: 200 Dropout: 0.2 Accuracy: 0.8571428656578064\n",
            "2/2 [==============================] - 0s 4ms/step - loss: 0.4958 - accuracy: 0.7381\n",
            "Epochs: 25 Dropout: 0.3 Accuracy: 0.738095223903656\n",
            "2/2 [==============================] - 0s 4ms/step - loss: 0.4513 - accuracy: 0.8571\n",
            "Epochs: 50 Dropout: 0.3 Accuracy: 0.8571428656578064\n",
            "2/2 [==============================] - 0s 4ms/step - loss: 0.3938 - accuracy: 0.8810\n",
            "Epochs: 100 Dropout: 0.3 Accuracy: 0.8809523582458496\n",
            "2/2 [==============================] - 0s 4ms/step - loss: 0.4076 - accuracy: 0.8333\n",
            "Epochs: 200 Dropout: 0.3 Accuracy: 0.8333333134651184\n",
            "2/2 [==============================] - 0s 4ms/step - loss: 0.5495 - accuracy: 0.6905\n",
            "Epochs: 25 Dropout: 0.4 Accuracy: 0.6904761791229248\n",
            "2/2 [==============================] - 0s 4ms/step - loss: 0.5072 - accuracy: 0.7143\n",
            "Epochs: 50 Dropout: 0.4 Accuracy: 0.7142857313156128\n",
            "2/2 [==============================] - 0s 4ms/step - loss: 0.4727 - accuracy: 0.7619\n",
            "Epochs: 100 Dropout: 0.4 Accuracy: 0.761904776096344\n",
            "2/2 [==============================] - 0s 4ms/step - loss: 0.4397 - accuracy: 0.8810\n",
            "Epochs: 200 Dropout: 0.4 Accuracy: 0.8809523582458496\n",
            "2/2 [==============================] - 0s 4ms/step - loss: 0.6257 - accuracy: 0.7381\n",
            "Epochs: 25 Dropout: 0.5 Accuracy: 0.738095223903656\n",
            "2/2 [==============================] - 0s 3ms/step - loss: 0.5722 - accuracy: 0.7619\n",
            "Epochs: 50 Dropout: 0.5 Accuracy: 0.761904776096344\n",
            "2/2 [==============================] - 0s 4ms/step - loss: 0.5507 - accuracy: 0.8333\n",
            "Epochs: 100 Dropout: 0.5 Accuracy: 0.8333333134651184\n",
            "2/2 [==============================] - 0s 4ms/step - loss: 0.5131 - accuracy: 0.7857\n",
            "Epochs: 200 Dropout: 0.5 Accuracy: 0.7857142686843872\n"
          ],
          "name": "stdout"
        }
      ]
    },
    {
      "cell_type": "markdown",
      "metadata": {
        "id": "aQw2zFU26H5i",
        "colab_type": "text"
      },
      "source": [
        "### Итоги."
      ]
    },
    {
      "cell_type": "code",
      "metadata": {
        "id": "Ptj4zU-K6Ue5",
        "colab_type": "code",
        "outputId": "8c577d31-e83a-48fd-bed2-10bd2af97858",
        "colab": {
          "base_uri": "https://localhost:8080/",
          "height": 34
        }
      },
      "source": [
        "# have done! \n",
        "model = Sequential()\n",
        "model.add(Dense(60, input_dim=60, activation='relu'))\n",
        "model.add(Dense(30, activation='relu'))\n",
        "model.add(Dense(1, activation='sigmoid'))\n",
        "model.compile(loss='binary_crossentropy', optimizer=Adam(lr=0.001), metrics=['accuracy'])\n",
        "model.load_weights('sonar.h5')\n",
        "res_base = model.evaluate(x_test, y_test, verbose=0)\n",
        "print('Accuracy:', res_base[1])\n",
        "assert(res_base[1] > 0.9)"
      ],
      "execution_count": 0,
      "outputs": [
        {
          "output_type": "stream",
          "text": [
            "Accuracy: 0.9047619104385376\n"
          ],
          "name": "stdout"
        }
      ]
    },
    {
      "cell_type": "markdown",
      "metadata": {
        "id": "6te-5AD163-x",
        "colab_type": "text"
      },
      "source": [
        "На данном этапе слишком многое зависит от удачи. Например одним из эффективнейших приемов решения этого ДЗ на мой взгляд является перемешивание в начале выборки. Она настолько маленькая, что это сильно влияет. Но очевидно, что для живых задач такой подход не имеет смысла.\n",
        "\n",
        "Поэтому увеличиваем количество и качество данных. Проводим бесчиленное количество экспериментов и углубляемся в теорию, чтобы лучше понимать, что и почему происходит))"
      ]
    }
  ]
}