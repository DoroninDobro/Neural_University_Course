{
  "nbformat": 4,
  "nbformat_minor": 0,
  "metadata": {
    "colab": {
      "name": "HW_4_Text_Classification_ULTRA.ipynb",
      "provenance": [],
      "collapsed_sections": []
    },
    "kernelspec": {
      "name": "python3",
      "display_name": "Python 3"
    },
    "accelerator": "GPU"
  },
  "cells": [
    {
      "cell_type": "markdown",
      "metadata": {
        "id": "Z3bB37Gvc8Ox",
        "colab_type": "text"
      },
      "source": [
        "## Задание."
      ]
    },
    {
      "cell_type": "markdown",
      "metadata": {
        "id": "A0DEU3V4dAS3",
        "colab_type": "text"
      },
      "source": [
        "Напишите нейронную сеть на базе болезней и добейтесь хорошей точности.\n",
        "\n",
        "Хорошей точностью на уроке назвали 50%+. Я воспользуюсь основой про-задания. Надеюсь не придется многое менять.\n"
      ]
    },
    {
      "cell_type": "code",
      "metadata": {
        "id": "oURKxi58c_ai",
        "colab_type": "code",
        "colab": {}
      },
      "source": [
        "from google.colab import files\n",
        "import numpy as np\n",
        "import pandas as pd\n",
        "import matplotlib.pyplot as plt\n",
        "import os\n",
        "%matplotlib inline\n",
        "\n",
        "from tensorflow.keras import utils\n",
        "from tensorflow.keras.models import Sequential\n",
        "from tensorflow.keras.layers import Dense, Dropout, LeakyReLU, SpatialDropout1D, BatchNormalization, Embedding, Flatten, Activation \n",
        "from tensorflow.keras.preprocessing.text import Tokenizer\n",
        "from tensorflow.keras.preprocessing.sequence import pad_sequences\n",
        "\n",
        "from sklearn.preprocessing import LabelEncoder\n",
        "from sklearn.model_selection import train_test_split\n",
        "from google.colab import drive"
      ],
      "execution_count": 0,
      "outputs": []
    },
    {
      "cell_type": "code",
      "metadata": {
        "id": "jPqcqyKfezFA",
        "colab_type": "code",
        "outputId": "e2283be3-fb70-4bb1-c6ba-693d3b48cd64",
        "colab": {
          "base_uri": "https://localhost:8080/",
          "height": 128
        }
      },
      "source": [
        "drive.mount('/content/drive')"
      ],
      "execution_count": 0,
      "outputs": [
        {
          "output_type": "stream",
          "text": [
            "Go to this URL in a browser: https://accounts.google.com/o/oauth2/auth?client_id=947318989803-6bn6qk8qdgf4n4g3pfee6491hc0brc4i.apps.googleusercontent.com&redirect_uri=urn%3aietf%3awg%3aoauth%3a2.0%3aoob&response_type=code&scope=email%20https%3a%2f%2fwww.googleapis.com%2fauth%2fdocs.test%20https%3a%2f%2fwww.googleapis.com%2fauth%2fdrive%20https%3a%2f%2fwww.googleapis.com%2fauth%2fdrive.photos.readonly%20https%3a%2f%2fwww.googleapis.com%2fauth%2fpeopleapi.readonly\n",
            "\n",
            "Enter your authorization code:\n",
            "··········\n",
            "Mounted at /content/drive\n"
          ],
          "name": "stdout"
        }
      ]
    },
    {
      "cell_type": "code",
      "metadata": {
        "id": "arPiJ3zCZbcr",
        "colab_type": "code",
        "colab": {}
      },
      "source": [
        "!unzip -q '/content/drive/My Drive/Болезни.zip' -d /content/texts"
      ],
      "execution_count": 0,
      "outputs": []
    },
    {
      "cell_type": "code",
      "metadata": {
        "id": "IdrMt7JdaKAQ",
        "colab_type": "code",
        "colab": {}
      },
      "source": [
        "def readText(fileName):\n",
        "  f = open(fileName, 'r')\n",
        "  text = f.read().replace('\\n', ' ')\n",
        "  return text\n",
        "\n",
        "className = [\"Аппендицит\", \"Гастрит\", \"Гепатит\", \"Дуоденит\", \"Колит\", \"Панкреатит\", 'Холицестит', 'Эзофагит', 'Энтерит', 'Язва']\n",
        "nClasses = len(className)"
      ],
      "execution_count": 0,
      "outputs": []
    },
    {
      "cell_type": "code",
      "metadata": {
        "id": "ESbsIB2MaKKS",
        "colab_type": "code",
        "outputId": "0705348a-6922-4e47-f838-85840888e2f4",
        "colab": {
          "base_uri": "https://localhost:8080/",
          "height": 35
        }
      },
      "source": [
        "df = pd.DataFrame(columns=['data', 'category'])\n",
        "for i in className:\n",
        "  fileName = 'texts/Болезни/' + i + '.txt'\n",
        "  text = readText(fileName)\n",
        "  group = text.split('  ')\n",
        "  for h in group:\n",
        "    if len(h.replace(' ', '')) > 5:\n",
        "      df = df.append({'data': h, 'category': i}, ignore_index=True)\n",
        "df.shape"
      ],
      "execution_count": 0,
      "outputs": [
        {
          "output_type": "execute_result",
          "data": {
            "text/plain": [
              "(380, 2)"
            ]
          },
          "metadata": {
            "tags": []
          },
          "execution_count": 11
        }
      ]
    },
    {
      "cell_type": "code",
      "metadata": {
        "id": "v2othXQlaKY6",
        "colab_type": "code",
        "colab": {}
      },
      "source": [
        "maxWordsCount = 20000\n",
        "tokenizer = Tokenizer(num_words=maxWordsCount, filters='!\"#$%&()*+,-./:;<=>?@[\\\\]^_`{|}~\\t\\n', lower=True, split=' ', oov_token='unknown', char_level=False)\n",
        "tokenizer.fit_on_texts(df['data'].tolist())\n",
        "X = tokenizer.texts_to_sequences(df['data'].tolist())\n",
        "class_clean = df['category'].tolist()\n",
        "encoder = LabelEncoder()\n",
        "encoder.fit(class_clean)\n",
        "classesEncoded = encoder.transform(class_clean) #кодируем категории\n",
        "yAll = utils.to_categorical(classesEncoded, nClasses)"
      ],
      "execution_count": 0,
      "outputs": []
    },
    {
      "cell_type": "code",
      "metadata": {
        "id": "dZRjgfg9aKio",
        "colab_type": "code",
        "colab": {}
      },
      "source": [
        ""
      ],
      "execution_count": 0,
      "outputs": []
    },
    {
      "cell_type": "code",
      "metadata": {
        "id": "x7657TsyaKUl",
        "colab_type": "code",
        "colab": {}
      },
      "source": [
        ""
      ],
      "execution_count": 0,
      "outputs": []
    },
    {
      "cell_type": "code",
      "metadata": {
        "id": "XHNpqPilI0jC",
        "colab_type": "code",
        "colab": {}
      },
      "source": [
        "x_train, x_test, y_train, y_test = train_test_split(X, yAll, test_size=0.15)"
      ],
      "execution_count": 0,
      "outputs": []
    },
    {
      "cell_type": "code",
      "metadata": {
        "id": "v381JntN5K90",
        "colab_type": "code",
        "colab": {}
      },
      "source": [
        "xTrain01 = tokenizer.sequences_to_matrix(x_train)\n",
        "xTest01 = tokenizer.sequences_to_matrix(x_test)"
      ],
      "execution_count": 0,
      "outputs": []
    },
    {
      "cell_type": "code",
      "metadata": {
        "id": "-03PMMT5F3Ty",
        "colab_type": "code",
        "outputId": "0a1ddb69-47a6-4757-9ced-af8aa1d42248",
        "colab": {
          "base_uri": "https://localhost:8080/",
          "height": 35
        }
      },
      "source": [
        "xTrain01.shape"
      ],
      "execution_count": 0,
      "outputs": [
        {
          "output_type": "execute_result",
          "data": {
            "text/plain": [
              "(323, 20000)"
            ]
          },
          "metadata": {
            "tags": []
          },
          "execution_count": 17
        }
      ]
    },
    {
      "cell_type": "code",
      "metadata": {
        "id": "ZWSFv-Kf5Yoc",
        "colab_type": "code",
        "outputId": "1507b943-062e-4a5f-ba25-a622de861065",
        "colab": {
          "base_uri": "https://localhost:8080/",
          "height": 663
        }
      },
      "source": [
        "model01 = Sequential()\n",
        "model01.add(Dense(200, input_dim=20000, activation=\"relu\"))\n",
        "model01.add(Dropout(0.25))\n",
        "model01.add(BatchNormalization())\n",
        "model01.add(Dense(nClasses, activation='sigmoid'))\n",
        "model01.compile(optimizer='adam', \n",
        "              loss='categorical_crossentropy', \n",
        "              metrics=['accuracy'])\n",
        "\n",
        "history = model01.fit(xTrain01, \n",
        "                      y_train, \n",
        "                      epochs=10,\n",
        "                      batch_size=128,\n",
        "                      validation_data=(xTest01, y_test))\n",
        "\n",
        "plt.plot(history.history['accuracy'], \n",
        "         label='Доля верных ответов на обучающем наборе')\n",
        "plt.plot(history.history['val_accuracy'], \n",
        "         label='Доля верных ответов на проверочном наборе')\n",
        "plt.xlabel('Эпоха обучения')\n",
        "plt.ylabel('Доля верных ответов')\n",
        "plt.legend()\n",
        "plt.show()"
      ],
      "execution_count": 0,
      "outputs": [
        {
          "output_type": "stream",
          "text": [
            "Epoch 1/10\n",
            "3/3 [==============================] - 0s 60ms/step - loss: 2.2955 - accuracy: 0.1765 - val_loss: 2.2820 - val_accuracy: 0.3158\n",
            "Epoch 2/10\n",
            "3/3 [==============================] - 0s 14ms/step - loss: 1.7753 - accuracy: 0.7028 - val_loss: 2.2647 - val_accuracy: 0.4211\n",
            "Epoch 3/10\n",
            "3/3 [==============================] - 0s 14ms/step - loss: 1.6458 - accuracy: 0.8266 - val_loss: 2.2511 - val_accuracy: 0.4737\n",
            "Epoch 4/10\n",
            "3/3 [==============================] - 0s 16ms/step - loss: 1.5826 - accuracy: 0.8885 - val_loss: 2.2392 - val_accuracy: 0.5263\n",
            "Epoch 5/10\n",
            "3/3 [==============================] - 0s 15ms/step - loss: 1.5282 - accuracy: 0.8978 - val_loss: 2.2278 - val_accuracy: 0.5439\n",
            "Epoch 6/10\n",
            "3/3 [==============================] - 0s 14ms/step - loss: 1.4944 - accuracy: 0.9133 - val_loss: 2.2166 - val_accuracy: 0.5263\n",
            "Epoch 7/10\n",
            "3/3 [==============================] - 0s 15ms/step - loss: 1.4552 - accuracy: 0.8978 - val_loss: 2.2058 - val_accuracy: 0.5088\n",
            "Epoch 8/10\n",
            "3/3 [==============================] - 0s 14ms/step - loss: 1.4242 - accuracy: 0.9071 - val_loss: 2.1954 - val_accuracy: 0.5439\n",
            "Epoch 9/10\n",
            "3/3 [==============================] - 0s 15ms/step - loss: 1.3903 - accuracy: 0.9133 - val_loss: 2.1854 - val_accuracy: 0.5439\n",
            "Epoch 10/10\n",
            "3/3 [==============================] - 0s 17ms/step - loss: 1.3631 - accuracy: 0.9133 - val_loss: 2.1757 - val_accuracy: 0.5439\n"
          ],
          "name": "stdout"
        },
        {
          "output_type": "display_data",
          "data": {
            "image/png": "[encoded data removed]",
            "text/plain": [
              "<Figure size 432x288 with 1 Axes>"
            ]
          },
          "metadata": {
            "tags": [],
            "needs_background": "light"
          }
        }
      ]
    },
    {
      "cell_type": "markdown",
      "metadata": {
        "id": "tc877cRz_5q1",
        "colab_type": "text"
      },
      "source": [
        "#### Итог.\n",
        "\n",
        "Ну и славненько. Результат конечно на грани, но извините, не успеваю с работой и детьми. Считаю что выполнил ДЗ 4ой недели на 100%"
      ]
    }
  ]
}