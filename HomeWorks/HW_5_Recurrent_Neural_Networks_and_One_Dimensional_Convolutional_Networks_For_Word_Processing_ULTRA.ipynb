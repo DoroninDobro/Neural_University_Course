{
  "nbformat": 4,
  "nbformat_minor": 0,
  "metadata": {
    "colab": {
      "name": "HW_5_Recurrent_Neural_Networks_and_One_Dimensional_Convolutional_Networks_For_Word_Processing_ULTRA.ipynb",
      "provenance": [],
      "collapsed_sections": [],
      "machine_shape": "hm"
    },
    "kernelspec": {
      "name": "python3",
      "display_name": "Python 3"
    },
    "accelerator": "GPU"
  },
  "cells": [
    {
      "cell_type": "markdown",
      "metadata": {
        "id": "HN6pm2WNSppR",
        "colab_type": "text"
      },
      "source": [
        "## Задание"
      ]
    },
    {
      "cell_type": "markdown",
      "metadata": {
        "id": "CZ3v_ZRuOGLn",
        "colab_type": "text"
      },
      "source": [
        "Найдите любую базу с текстами разных классов и напишите их распознавание, используя рекуррентные или сверточные слои. Для этого выполните следующее:\n",
        "\n",
        "- Спарсите тексты, превратите их в индексы.\n",
        "- Разделите данные на обучающую и проверочную выборки.\n",
        "- Напишите сеть для распознавания текстов.\n",
        "- Сделайте визуализацию результата.\n",
        "- Напишите ваши результаты и выводы.\n",
        "\n"
      ]
    },
    {
      "cell_type": "code",
      "metadata": {
        "id": "9c-p9wyqmSKJ",
        "colab_type": "code",
        "outputId": "1dcbc572-d356-4f13-c5f6-36ff30c7ad72",
        "colab": {
          "base_uri": "https://localhost:8080/",
          "height": 35
        }
      },
      "source": [
        "from tensorflow.keras import utils\n",
        "from tensorflow.keras.models import Sequential\n",
        "from tensorflow.keras.layers import Dense, Dropout, BatchNormalization, Embedding, Flatten, Activation\n",
        "from tensorflow.keras.layers import Conv1D, SpatialDropout1D, MaxPooling1D, GlobalAveragePooling1D, GlobalMaxPooling1D\n",
        "from tensorflow.keras.layers import LSTM, GRU, SimpleRNN, Bidirectional\n",
        "from tensorflow.python.keras.optimizers import Adam, RMSprop\n",
        "from keras.preprocessing.text import Tokenizer, text_to_word_sequence\n",
        "from sklearn.model_selection import train_test_split\n",
        "from google.colab import files\n",
        "import numpy as np\n",
        "import pandas as pd\n",
        "import os\n",
        "import matplotlib.pyplot as plt\n",
        "%matplotlib inline"
      ],
      "execution_count": 1,
      "outputs": [
        {
          "output_type": "stream",
          "text": [
            "Using TensorFlow backend.\n"
          ],
          "name": "stderr"
        }
      ]
    },
    {
      "cell_type": "code",
      "metadata": {
        "colab_type": "code",
        "id": "axpjh6YdzX9r",
        "colab": {}
      },
      "source": [
        "import os\n",
        "import re\n",
        "import requests\n",
        "from bs4 import BeautifulSoup\n",
        "from random import randint\n",
        "\n",
        "className = [\"Егор Летов\", \"Вероника Тушнова\"]\n",
        "nClasses = len(className)\n",
        "\n",
        "trainText = []\n",
        "testText = []\n",
        "\n",
        "# here className[0]\n",
        "letov = ''\n",
        "list_links = []\n",
        "r = requests.get('http://www.gr-oborona.ru/texts/')\n",
        "soup = BeautifulSoup(r.text, 'lxml')\n",
        "div = soup.find_all('a')\n",
        "# we make list all links songs\n",
        "for a in div:\n",
        "    link = a.get('href')\n",
        "    if link[:6] == '/texts':\n",
        "        list_links.append('http://www.gr-oborona.ru' + link)\n",
        "# we make list all links songs\n",
        "for link in list_links:\n",
        "    r = requests.get(link)\n",
        "    soup = BeautifulSoup(r.text, 'lxml')\n",
        "    # we add song's name in our dict\n",
        "    div = str(soup.find('h3'))\n",
        "    name = div[4:]\n",
        "    name = name[:-5]\n",
        "    # we add song's name in our dict\n",
        "    # we formatting song's text\n",
        "    find_text = soup.find('div', {'id': 'cont'})\n",
        "    rega = re.compile(r'Альбом:(.*?)<strong>')\n",
        "    find_text = rega.findall(str(find_text))\n",
        "    rega2 = re.compile(r'</p>(.*?)<p>')\n",
        "    find_text = rega2.findall(str(find_text))\n",
        "    find_text = str(find_text)\n",
        "    find_text = find_text.replace('[\"', '').replace('\\\\xa0', ' ').replace('\\\\', '').replace('<br/>', '\\n').replace('\"]', '')\n",
        "    # we formatting song's text\n",
        "    letov += find_text + '\\n\\n\\n'\n",
        "\n",
        "# here className[1]\n",
        "veronika = ''\n",
        "for n in range(13564,13687):\n",
        "    r = requests.get(f'http://ruspoeti.ru/aut/tushnova/{n}/')\n",
        "    soup = BeautifulSoup(r.text, 'lxml')\n",
        "    soup = str(soup)\n",
        "    start = soup.find('class=\"pcont\"')\n",
        "    finish = soup.find('class=\"pfoot\"')\n",
        "    soup = soup[start:finish]\n",
        "    st = 'Тушнова</em><br/><br/>'\n",
        "    start = soup.find('Тушнова</em><br/><br/>')\n",
        "    finish = soup.find('</p><div') \n",
        "    soup = soup[start+len(st):finish]\n",
        "    soup = soup.replace('<br/>', '')\n",
        "    veronika += soup + '\\n\\n\\n'\n",
        "\n",
        "trainText.append(letov)\n",
        "trainText.append(veronika)\n",
        "\n",
        "tokenizer = Tokenizer(num_words=20000, filters='!\"#$%&()*+,-–—./…:;<=>?@[\\\\]^_`{|}~«»\\t\\n\\xa0', lower=True, split=' ', oov_token='unknown', char_level=False)\n",
        "tokenizer.fit_on_texts(trainText)\n",
        "\n",
        "trainWordIndexes = tokenizer.texts_to_sequences(trainText)"
      ],
      "execution_count": 0,
      "outputs": []
    },
    {
      "cell_type": "code",
      "metadata": {
        "id": "zdmTo8rFTV5a",
        "colab_type": "code",
        "colab": {}
      },
      "source": [
        "s0 = len(trainWordIndexes[0])//10*8\n",
        "s1 = len(trainWordIndexes[1])//10*8\n",
        "assert(s0 % 1 == 0)\n",
        "assert(s1 % 1 == 0)"
      ],
      "execution_count": 0,
      "outputs": []
    },
    {
      "cell_type": "code",
      "metadata": {
        "id": "bRDPQztIdt7A",
        "colab_type": "code",
        "colab": {}
      },
      "source": [
        "testWordIndexes = []\n",
        "testWordIndexes.append(trainWordIndexes[0][s0:])\n",
        "testWordIndexes.append(trainWordIndexes[1][s1:])\n",
        "trainWordIndexes[0] = trainWordIndexes[0][:s0]\n",
        "trainWordIndexes[1] = trainWordIndexes[1][:s1]"
      ],
      "execution_count": 0,
      "outputs": []
    },
    {
      "cell_type": "code",
      "metadata": {
        "id": "8QxpPm4mM9o6",
        "colab_type": "code",
        "colab": {}
      },
      "source": [
        "def getSetFromIndexes(wordIndexes, xLen, step):\n",
        "  xSample = []\n",
        "  wordsLen = len(wordIndexes)\n",
        "  index = 0\n",
        "  while (index + xLen <= wordsLen):\n",
        "    xSample.append(wordIndexes[index:index+xLen])\n",
        "    index += step\n",
        "  return xSample\n",
        "\n",
        "def createSetsMultiClasses(wordIndexes, xLen, step):\n",
        "  nClasses = len(wordIndexes)\n",
        "  classesXSamples = []\n",
        "  for wI in wordIndexes:\n",
        "    classesXSamples.append(getSetFromIndexes(wI, xLen, step)) \n",
        "  xSamples = []\n",
        "  ySamples = []\n",
        "  for t in range(nClasses):\n",
        "    xT = classesXSamples[t]\n",
        "    for i in range(len(xT)):\n",
        "      xSamples.append(xT[i])\n",
        "      ySamples.append(utils.to_categorical(t, nClasses))\n",
        "  xSamples = np.array(xSamples)\n",
        "  ySamples = np.array(ySamples)\n",
        "  return (xSamples, ySamples)"
      ],
      "execution_count": 0,
      "outputs": []
    },
    {
      "cell_type": "code",
      "metadata": {
        "id": "SgzoAiyawSwJ",
        "colab_type": "code",
        "colab": {}
      },
      "source": [
        "xLen = 25\n",
        "step = 5"
      ],
      "execution_count": 0,
      "outputs": []
    },
    {
      "cell_type": "code",
      "metadata": {
        "id": "CqAgZWT8RH0b",
        "colab_type": "code",
        "colab": {}
      },
      "source": [
        "xTrain, yTrain = createSetsMultiClasses(trainWordIndexes, xLen, step)\n",
        "xTest, yTest = createSetsMultiClasses(testWordIndexes, xLen, step)"
      ],
      "execution_count": 0,
      "outputs": []
    },
    {
      "cell_type": "code",
      "metadata": {
        "id": "XwAE3_dRtyHv",
        "colab_type": "code",
        "outputId": "f67b92d2-d919-42dd-e8cc-4fe903461985",
        "colab": {
          "base_uri": "https://localhost:8080/",
          "height": 1000
        }
      },
      "source": [
        "model = Sequential()\n",
        "model.add(Embedding(20000, 12, input_length=xLen))\n",
        "model.add(Flatten())\n",
        "model.add(BatchNormalization())\n",
        "model.add(Dense(2, activation='softmax'))\n",
        "\n",
        "model.compile(optimizer='adam', \n",
        "              loss='categorical_crossentropy', \n",
        "              metrics=['accuracy'])\n",
        "\n",
        "history = model.fit(xTrain, \n",
        "                    yTrain, \n",
        "                    epochs=90,\n",
        "                    batch_size=50,\n",
        "                    validation_data=(xTest, yTest))\n",
        "\n",
        "plt.plot(history.history['accuracy'], \n",
        "         label='Доля верных ответов на обучающем наборе')\n",
        "plt.plot(history.history['val_accuracy'], \n",
        "         label='Доля верных ответов на проверочном наборе')\n",
        "plt.xlabel('Эпоха обучения')\n",
        "plt.ylabel('Доля верных ответов')\n",
        "plt.legend()\n",
        "plt.show()"
      ],
      "execution_count": 40,
      "outputs": [
        {
          "output_type": "stream",
          "text": [
            "Epoch 1/90\n",
            "100/100 [==============================] - 1s 8ms/step - loss: 0.3017 - accuracy: 0.8626 - val_loss: 0.5666 - val_accuracy: 0.9611\n",
            "Epoch 2/90\n",
            "100/100 [==============================] - 1s 7ms/step - loss: 0.0108 - accuracy: 1.0000 - val_loss: 0.4575 - val_accuracy: 0.9789\n",
            "Epoch 3/90\n",
            "100/100 [==============================] - 1s 6ms/step - loss: 0.0042 - accuracy: 1.0000 - val_loss: 0.3290 - val_accuracy: 0.9870\n",
            "Epoch 4/90\n",
            "100/100 [==============================] - 1s 7ms/step - loss: 0.0037 - accuracy: 1.0000 - val_loss: 0.2012 - val_accuracy: 0.9903\n",
            "Epoch 5/90\n",
            "100/100 [==============================] - 1s 7ms/step - loss: 0.0014 - accuracy: 1.0000 - val_loss: 0.1089 - val_accuracy: 0.9911\n",
            "Epoch 6/90\n",
            "100/100 [==============================] - 1s 7ms/step - loss: 0.0012 - accuracy: 1.0000 - val_loss: 0.0632 - val_accuracy: 0.9903\n",
            "Epoch 7/90\n",
            "100/100 [==============================] - 1s 7ms/step - loss: 8.9868e-04 - accuracy: 1.0000 - val_loss: 0.0438 - val_accuracy: 0.9911\n",
            "Epoch 8/90\n",
            "100/100 [==============================] - 1s 6ms/step - loss: 6.5956e-04 - accuracy: 1.0000 - val_loss: 0.0363 - val_accuracy: 0.9911\n",
            "Epoch 9/90\n",
            "100/100 [==============================] - 1s 7ms/step - loss: 4.7216e-04 - accuracy: 1.0000 - val_loss: 0.0328 - val_accuracy: 0.9919\n",
            "Epoch 10/90\n",
            "100/100 [==============================] - 1s 7ms/step - loss: 5.1017e-04 - accuracy: 1.0000 - val_loss: 0.0313 - val_accuracy: 0.9903\n",
            "Epoch 11/90\n",
            "100/100 [==============================] - 1s 6ms/step - loss: 3.9488e-04 - accuracy: 1.0000 - val_loss: 0.0299 - val_accuracy: 0.9911\n",
            "Epoch 12/90\n",
            "100/100 [==============================] - 1s 7ms/step - loss: 3.2030e-04 - accuracy: 1.0000 - val_loss: 0.0290 - val_accuracy: 0.9927\n",
            "Epoch 13/90\n",
            "100/100 [==============================] - 1s 7ms/step - loss: 2.4652e-04 - accuracy: 1.0000 - val_loss: 0.0283 - val_accuracy: 0.9927\n",
            "Epoch 14/90\n",
            "100/100 [==============================] - 1s 8ms/step - loss: 2.5685e-04 - accuracy: 1.0000 - val_loss: 0.0277 - val_accuracy: 0.9927\n",
            "Epoch 15/90\n",
            "100/100 [==============================] - 1s 6ms/step - loss: 2.1274e-04 - accuracy: 1.0000 - val_loss: 0.0271 - val_accuracy: 0.9927\n",
            "Epoch 16/90\n",
            "100/100 [==============================] - 1s 7ms/step - loss: 1.9951e-04 - accuracy: 1.0000 - val_loss: 0.0264 - val_accuracy: 0.9927\n",
            "Epoch 17/90\n",
            "100/100 [==============================] - 1s 7ms/step - loss: 2.0362e-04 - accuracy: 1.0000 - val_loss: 0.0262 - val_accuracy: 0.9927\n",
            "Epoch 18/90\n",
            "100/100 [==============================] - 1s 7ms/step - loss: 1.5459e-04 - accuracy: 1.0000 - val_loss: 0.0257 - val_accuracy: 0.9919\n",
            "Epoch 19/90\n",
            "100/100 [==============================] - 1s 7ms/step - loss: 1.2237e-04 - accuracy: 1.0000 - val_loss: 0.0253 - val_accuracy: 0.9927\n",
            "Epoch 20/90\n",
            "100/100 [==============================] - 1s 6ms/step - loss: 1.3880e-04 - accuracy: 1.0000 - val_loss: 0.0249 - val_accuracy: 0.9927\n",
            "Epoch 21/90\n",
            "100/100 [==============================] - 1s 7ms/step - loss: 1.0716e-04 - accuracy: 1.0000 - val_loss: 0.0245 - val_accuracy: 0.9927\n",
            "Epoch 22/90\n",
            "100/100 [==============================] - 1s 7ms/step - loss: 6.9533e-05 - accuracy: 1.0000 - val_loss: 0.0244 - val_accuracy: 0.9927\n",
            "Epoch 23/90\n",
            "100/100 [==============================] - 1s 6ms/step - loss: 1.2588e-04 - accuracy: 1.0000 - val_loss: 0.0243 - val_accuracy: 0.9927\n",
            "Epoch 24/90\n",
            "100/100 [==============================] - 1s 7ms/step - loss: 1.1639e-04 - accuracy: 1.0000 - val_loss: 0.0241 - val_accuracy: 0.9927\n",
            "Epoch 25/90\n",
            "100/100 [==============================] - 1s 7ms/step - loss: 9.5511e-04 - accuracy: 0.9998 - val_loss: 0.0253 - val_accuracy: 0.9919\n",
            "Epoch 26/90\n",
            "100/100 [==============================] - 1s 7ms/step - loss: 6.2118e-05 - accuracy: 1.0000 - val_loss: 0.0240 - val_accuracy: 0.9927\n",
            "Epoch 27/90\n",
            "100/100 [==============================] - 1s 6ms/step - loss: 1.0336e-04 - accuracy: 1.0000 - val_loss: 0.0239 - val_accuracy: 0.9919\n",
            "Epoch 28/90\n",
            "100/100 [==============================] - 1s 6ms/step - loss: 1.7951e-04 - accuracy: 1.0000 - val_loss: 0.0226 - val_accuracy: 0.9919\n",
            "Epoch 29/90\n",
            "100/100 [==============================] - 1s 7ms/step - loss: 0.0016 - accuracy: 0.9994 - val_loss: 0.0194 - val_accuracy: 0.9951\n",
            "Epoch 30/90\n",
            "100/100 [==============================] - 1s 7ms/step - loss: 1.8284e-04 - accuracy: 1.0000 - val_loss: 0.0242 - val_accuracy: 0.9935\n",
            "Epoch 31/90\n",
            "100/100 [==============================] - 1s 7ms/step - loss: 9.0716e-05 - accuracy: 1.0000 - val_loss: 0.0237 - val_accuracy: 0.9943\n",
            "Epoch 32/90\n",
            "100/100 [==============================] - 1s 6ms/step - loss: 8.2748e-05 - accuracy: 1.0000 - val_loss: 0.0238 - val_accuracy: 0.9943\n",
            "Epoch 33/90\n",
            "100/100 [==============================] - 1s 6ms/step - loss: 5.6236e-05 - accuracy: 1.0000 - val_loss: 0.0235 - val_accuracy: 0.9943\n",
            "Epoch 34/90\n",
            "100/100 [==============================] - 1s 6ms/step - loss: 9.0040e-04 - accuracy: 0.9996 - val_loss: 0.0215 - val_accuracy: 0.9943\n",
            "Epoch 35/90\n",
            "100/100 [==============================] - 1s 7ms/step - loss: 0.0027 - accuracy: 0.9996 - val_loss: 0.0268 - val_accuracy: 0.9895\n",
            "Epoch 36/90\n",
            "100/100 [==============================] - 1s 7ms/step - loss: 1.1571e-04 - accuracy: 1.0000 - val_loss: 0.0375 - val_accuracy: 0.9870\n",
            "Epoch 37/90\n",
            "100/100 [==============================] - 1s 6ms/step - loss: 1.1391e-04 - accuracy: 1.0000 - val_loss: 0.0442 - val_accuracy: 0.9854\n",
            "Epoch 38/90\n",
            "100/100 [==============================] - 1s 6ms/step - loss: 1.1116e-04 - accuracy: 1.0000 - val_loss: 0.0456 - val_accuracy: 0.9862\n",
            "Epoch 39/90\n",
            "100/100 [==============================] - 1s 7ms/step - loss: 7.0897e-04 - accuracy: 0.9996 - val_loss: 0.0434 - val_accuracy: 0.9854\n",
            "Epoch 40/90\n",
            "100/100 [==============================] - 1s 7ms/step - loss: 1.9271e-04 - accuracy: 1.0000 - val_loss: 0.0356 - val_accuracy: 0.9887\n",
            "Epoch 41/90\n",
            "100/100 [==============================] - 1s 7ms/step - loss: 7.0519e-04 - accuracy: 0.9998 - val_loss: 0.0260 - val_accuracy: 0.9911\n",
            "Epoch 42/90\n",
            "100/100 [==============================] - 1s 6ms/step - loss: 1.5262e-04 - accuracy: 1.0000 - val_loss: 0.0226 - val_accuracy: 0.9919\n",
            "Epoch 43/90\n",
            "100/100 [==============================] - 1s 6ms/step - loss: 1.7758e-04 - accuracy: 1.0000 - val_loss: 0.0238 - val_accuracy: 0.9903\n",
            "Epoch 44/90\n",
            "100/100 [==============================] - 1s 6ms/step - loss: 9.7999e-05 - accuracy: 1.0000 - val_loss: 0.0252 - val_accuracy: 0.9903\n",
            "Epoch 45/90\n",
            "100/100 [==============================] - 1s 6ms/step - loss: 2.1127e-04 - accuracy: 1.0000 - val_loss: 0.0297 - val_accuracy: 0.9895\n",
            "Epoch 46/90\n",
            "100/100 [==============================] - 1s 7ms/step - loss: 7.9984e-04 - accuracy: 0.9996 - val_loss: 0.0263 - val_accuracy: 0.9911\n",
            "Epoch 47/90\n",
            "100/100 [==============================] - 1s 6ms/step - loss: 1.0324e-04 - accuracy: 1.0000 - val_loss: 0.0294 - val_accuracy: 0.9911\n",
            "Epoch 48/90\n",
            "100/100 [==============================] - 1s 6ms/step - loss: 4.7037e-05 - accuracy: 1.0000 - val_loss: 0.0319 - val_accuracy: 0.9911\n",
            "Epoch 49/90\n",
            "100/100 [==============================] - 1s 6ms/step - loss: 5.4691e-05 - accuracy: 1.0000 - val_loss: 0.0334 - val_accuracy: 0.9911\n",
            "Epoch 50/90\n",
            "100/100 [==============================] - 1s 7ms/step - loss: 3.7634e-05 - accuracy: 1.0000 - val_loss: 0.0349 - val_accuracy: 0.9911\n",
            "Epoch 51/90\n",
            "100/100 [==============================] - 1s 6ms/step - loss: 3.9694e-05 - accuracy: 1.0000 - val_loss: 0.0337 - val_accuracy: 0.9911\n",
            "Epoch 52/90\n",
            "100/100 [==============================] - 1s 6ms/step - loss: 2.6403e-05 - accuracy: 1.0000 - val_loss: 0.0334 - val_accuracy: 0.9903\n",
            "Epoch 53/90\n",
            "100/100 [==============================] - 1s 6ms/step - loss: 1.8376e-05 - accuracy: 1.0000 - val_loss: 0.0354 - val_accuracy: 0.9895\n",
            "Epoch 54/90\n",
            "100/100 [==============================] - 1s 6ms/step - loss: 4.0878e-05 - accuracy: 1.0000 - val_loss: 0.0351 - val_accuracy: 0.9887\n",
            "Epoch 55/90\n",
            "100/100 [==============================] - 1s 6ms/step - loss: 1.7768e-05 - accuracy: 1.0000 - val_loss: 0.0367 - val_accuracy: 0.9887\n",
            "Epoch 56/90\n",
            "100/100 [==============================] - 1s 7ms/step - loss: 9.8766e-06 - accuracy: 1.0000 - val_loss: 0.0359 - val_accuracy: 0.9887\n",
            "Epoch 57/90\n",
            "100/100 [==============================] - 1s 7ms/step - loss: 2.0526e-05 - accuracy: 1.0000 - val_loss: 0.0360 - val_accuracy: 0.9895\n",
            "Epoch 58/90\n",
            "100/100 [==============================] - 1s 7ms/step - loss: 1.1960e-05 - accuracy: 1.0000 - val_loss: 0.0343 - val_accuracy: 0.9895\n",
            "Epoch 59/90\n",
            "100/100 [==============================] - 1s 6ms/step - loss: 1.3039e-05 - accuracy: 1.0000 - val_loss: 0.0342 - val_accuracy: 0.9887\n",
            "Epoch 60/90\n",
            "100/100 [==============================] - 1s 6ms/step - loss: 1.1080e-05 - accuracy: 1.0000 - val_loss: 0.0334 - val_accuracy: 0.9895\n",
            "Epoch 61/90\n",
            "100/100 [==============================] - 1s 6ms/step - loss: 4.5097e-05 - accuracy: 1.0000 - val_loss: 0.0307 - val_accuracy: 0.9895\n",
            "Epoch 62/90\n",
            "100/100 [==============================] - 1s 6ms/step - loss: 1.0607e-05 - accuracy: 1.0000 - val_loss: 0.0315 - val_accuracy: 0.9895\n",
            "Epoch 63/90\n",
            "100/100 [==============================] - 1s 6ms/step - loss: 2.8014e-05 - accuracy: 1.0000 - val_loss: 0.0335 - val_accuracy: 0.9895\n",
            "Epoch 64/90\n",
            "100/100 [==============================] - 1s 7ms/step - loss: 2.2672e-05 - accuracy: 1.0000 - val_loss: 0.0315 - val_accuracy: 0.9903\n",
            "Epoch 65/90\n",
            "100/100 [==============================] - 1s 7ms/step - loss: 5.6007e-05 - accuracy: 1.0000 - val_loss: 0.0251 - val_accuracy: 0.9903\n",
            "Epoch 66/90\n",
            "100/100 [==============================] - 1s 6ms/step - loss: 6.2843e-06 - accuracy: 1.0000 - val_loss: 0.0239 - val_accuracy: 0.9903\n",
            "Epoch 67/90\n",
            "100/100 [==============================] - 1s 6ms/step - loss: 1.5489e-05 - accuracy: 1.0000 - val_loss: 0.0237 - val_accuracy: 0.9919\n",
            "Epoch 68/90\n",
            "100/100 [==============================] - 1s 6ms/step - loss: 2.0672e-05 - accuracy: 1.0000 - val_loss: 0.0227 - val_accuracy: 0.9919\n",
            "Epoch 69/90\n",
            "100/100 [==============================] - 1s 6ms/step - loss: 5.1898e-06 - accuracy: 1.0000 - val_loss: 0.0229 - val_accuracy: 0.9919\n",
            "Epoch 70/90\n",
            "100/100 [==============================] - 1s 6ms/step - loss: 5.5929e-06 - accuracy: 1.0000 - val_loss: 0.0221 - val_accuracy: 0.9927\n",
            "Epoch 71/90\n",
            "100/100 [==============================] - 1s 7ms/step - loss: 1.2444e-05 - accuracy: 1.0000 - val_loss: 0.0236 - val_accuracy: 0.9919\n",
            "Epoch 72/90\n",
            "100/100 [==============================] - 1s 6ms/step - loss: 3.7888e-06 - accuracy: 1.0000 - val_loss: 0.0219 - val_accuracy: 0.9919\n",
            "Epoch 73/90\n",
            "100/100 [==============================] - 1s 6ms/step - loss: 1.9205e-05 - accuracy: 1.0000 - val_loss: 0.0208 - val_accuracy: 0.9927\n",
            "Epoch 74/90\n",
            "100/100 [==============================] - 1s 7ms/step - loss: 3.2867e-05 - accuracy: 1.0000 - val_loss: 0.0211 - val_accuracy: 0.9927\n",
            "Epoch 75/90\n",
            "100/100 [==============================] - 1s 7ms/step - loss: 5.2923e-06 - accuracy: 1.0000 - val_loss: 0.0219 - val_accuracy: 0.9927\n",
            "Epoch 76/90\n",
            "100/100 [==============================] - 1s 7ms/step - loss: 2.2347e-06 - accuracy: 1.0000 - val_loss: 0.0218 - val_accuracy: 0.9927\n",
            "Epoch 77/90\n",
            "100/100 [==============================] - 1s 7ms/step - loss: 2.1698e-05 - accuracy: 1.0000 - val_loss: 0.0204 - val_accuracy: 0.9943\n",
            "Epoch 78/90\n",
            "100/100 [==============================] - 1s 7ms/step - loss: 7.0662e-06 - accuracy: 1.0000 - val_loss: 0.0218 - val_accuracy: 0.9927\n",
            "Epoch 79/90\n",
            "100/100 [==============================] - 1s 7ms/step - loss: 1.7771e-05 - accuracy: 1.0000 - val_loss: 0.0262 - val_accuracy: 0.9919\n",
            "Epoch 80/90\n",
            "100/100 [==============================] - 1s 6ms/step - loss: 5.6468e-06 - accuracy: 1.0000 - val_loss: 0.0264 - val_accuracy: 0.9919\n",
            "Epoch 81/90\n",
            "100/100 [==============================] - 1s 6ms/step - loss: 1.2311e-05 - accuracy: 1.0000 - val_loss: 0.0282 - val_accuracy: 0.9919\n",
            "Epoch 82/90\n",
            "100/100 [==============================] - 1s 7ms/step - loss: 2.9718e-06 - accuracy: 1.0000 - val_loss: 0.0290 - val_accuracy: 0.9919\n",
            "Epoch 83/90\n",
            "100/100 [==============================] - 1s 7ms/step - loss: 1.3199e-05 - accuracy: 1.0000 - val_loss: 0.0282 - val_accuracy: 0.9919\n",
            "Epoch 84/90\n",
            "100/100 [==============================] - 1s 7ms/step - loss: 3.6558e-06 - accuracy: 1.0000 - val_loss: 0.0284 - val_accuracy: 0.9919\n",
            "Epoch 85/90\n",
            "100/100 [==============================] - 1s 7ms/step - loss: 3.7751e-06 - accuracy: 1.0000 - val_loss: 0.0276 - val_accuracy: 0.9919\n",
            "Epoch 86/90\n",
            "100/100 [==============================] - 1s 6ms/step - loss: 1.4384e-06 - accuracy: 1.0000 - val_loss: 0.0284 - val_accuracy: 0.9919\n",
            "Epoch 87/90\n",
            "100/100 [==============================] - 1s 6ms/step - loss: 5.3197e-06 - accuracy: 1.0000 - val_loss: 0.0281 - val_accuracy: 0.9919\n",
            "Epoch 88/90\n",
            "100/100 [==============================] - 1s 6ms/step - loss: 3.7167e-05 - accuracy: 1.0000 - val_loss: 0.0284 - val_accuracy: 0.9919\n",
            "Epoch 89/90\n",
            "100/100 [==============================] - 1s 6ms/step - loss: 8.5322e-04 - accuracy: 0.9996 - val_loss: 0.0345 - val_accuracy: 0.9919\n",
            "Epoch 90/90\n",
            "100/100 [==============================] - 1s 6ms/step - loss: 0.0054 - accuracy: 0.9986 - val_loss: 0.0173 - val_accuracy: 0.9927\n"
          ],
          "name": "stdout"
        },
        {
          "output_type": "display_data",
          "data": {
            "image/png": "[encoded data removed]",
            "text/plain": [
              "<Figure size 432x288 with 1 Axes>"
            ]
          },
          "metadata": {
            "tags": [],
            "needs_background": "light"
          }
        }
      ]
    },
    {
      "cell_type": "markdown",
      "metadata": {
        "id": "o5sRuAIwGkNT",
        "colab_type": "text"
      },
      "source": [
        "Ну мы заведомо выбрали уж очень разных поэтов) Не удивительно, что результат такой. Зато хорошо научились парсить и форматировать тексты с использовнаием регулярных выражений."
      ]
    }
  ]
}