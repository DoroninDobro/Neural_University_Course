{
  "nbformat": 4,
  "nbformat_minor": 0,
  "metadata": {
    "colab": {
      "name": "HW Pro7.ipynb",
      "provenance": [],
      "collapsed_sections": []
    },
    "kernelspec": {
      "name": "python3",
      "display_name": "Python 3"
    },
    "language_info": {
      "name": "python"
    },
    "accelerator": "GPU"
  },
  "cells": [
    {
      "cell_type": "markdown",
      "metadata": {
        "id": "B4kvKcn262YL"
      },
      "source": [
        "Сделайте несколько усовершенствований в предсказании временного ряда\n",
        "\n",
        "1. Добавьте к исходному временному ряду следующие данные, в виде новых каналов:\n",
        "\n",
        "попарные разности каналов\n",
        "модули попарных разностей каналов\n",
        "попарные произведения каналов\n",
        "обратное значение каналов x_new = 1/(x + 1e-3)\n",
        "первые производные каналов (x[n] - x[n-1])\n",
        "вторые производные каналов (x[n] - 2*x[n-1] + x[n-2])\n",
        "2. Сделайте предсказание нейросети, сравните эталонный сигнал с настоящим. При формировании входного сигнала используйте:\n",
        "\n",
        "100 точек с шагом назад по 1\n",
        "100 точек с шагом назад по 10 (или сами точки, или среднее по отрезку в 10 точек)"
      ]
    },
    {
      "cell_type": "code",
      "metadata": {
        "id": "MrHyXCPe0PYd"
      },
      "source": [
        "import pandas as pd\n",
        "import matplotlib.pyplot as plt\n",
        "from tensorflow.keras.utils import to_categorical\n",
        "import numpy as np\n",
        "from tensorflow.keras.optimizers import Adam\n",
        "from tensorflow.keras.models import Sequential, Model\n",
        "from tensorflow.keras.layers import concatenate, Input, Dense, Dropout, BatchNormalization, Flatten, Conv1D, Conv2D, LSTM, GlobalMaxPooling1D, MaxPooling1D, RepeatVector\n",
        "from sklearn.preprocessing import StandardScaler, MinMaxScaler\n",
        "from tensorflow.keras.preprocessing.sequence import TimeseriesGenerator\n",
        "\n",
        "import warnings\n",
        "warnings.filterwarnings('ignore')\n",
        "%matplotlib inline"
      ],
      "execution_count": null,
      "outputs": []
    },
    {
      "cell_type": "code",
      "metadata": {
        "colab": {
          "base_uri": "https://localhost:8080/"
        },
        "id": "SgI86m_y6Swr",
        "outputId": "6779c6e7-23d5-48c7-cae3-49abef0ca220"
      },
      "source": [
        "from google.colab import drive\n",
        "drive.mount('/content/drive')"
      ],
      "execution_count": null,
      "outputs": [
        {
          "output_type": "stream",
          "text": [
            "Mounted at /content/drive\n"
          ],
          "name": "stdout"
        }
      ]
    },
    {
      "cell_type": "code",
      "metadata": {
        "colab": {
          "base_uri": "https://localhost:8080/"
        },
        "id": "tuV-fheO7yjX",
        "outputId": "7aa59bcf-5926-46ae-c22b-38d4ab3025bf"
      },
      "source": [
        "!ls"
      ],
      "execution_count": null,
      "outputs": [
        {
          "output_type": "stream",
          "text": [
            "drive  sample_data\n"
          ],
          "name": "stdout"
        }
      ]
    },
    {
      "cell_type": "code",
      "metadata": {
        "id": "ATFZGPql88xN"
      },
      "source": [
        "base_data16 = pd.read_csv('/content/drive/My Drive/16_17.csv', sep=';')\n",
        "base_data18 = pd.read_csv('/content/drive/My Drive/18_19.csv', sep=';')\n",
        "data16_17 = base_data16.iloc[:,2:]\n",
        "data18_19 = base_data18.iloc[:,2:]"
      ],
      "execution_count": null,
      "outputs": []
    },
    {
      "cell_type": "code",
      "metadata": {
        "colab": {
          "base_uri": "https://localhost:8080/",
          "height": 204
        },
        "id": "0-b4dDMx-ra0",
        "outputId": "c1bb994f-1d53-44d8-aa4a-bba1c524dd52"
      },
      "source": [
        "data = pd.concat([data16_17, data18_19])\n",
        "data.head()"
      ],
      "execution_count": null,
      "outputs": [
        {
          "output_type": "execute_result",
          "data": {
            "text/html": [
              "<div>\n",
              "<style scoped>\n",
              "    .dataframe tbody tr th:only-of-type {\n",
              "        vertical-align: middle;\n",
              "    }\n",
              "\n",
              "    .dataframe tbody tr th {\n",
              "        vertical-align: top;\n",
              "    }\n",
              "\n",
              "    .dataframe thead th {\n",
              "        text-align: right;\n",
              "    }\n",
              "</style>\n",
              "<table border=\"1\" class=\"dataframe\">\n",
              "  <thead>\n",
              "    <tr style=\"text-align: right;\">\n",
              "      <th></th>\n",
              "      <th>OPEN</th>\n",
              "      <th>MAX</th>\n",
              "      <th>MIN</th>\n",
              "      <th>CLOSE</th>\n",
              "      <th>VOLUME</th>\n",
              "    </tr>\n",
              "  </thead>\n",
              "  <tbody>\n",
              "    <tr>\n",
              "      <th>0</th>\n",
              "      <td>2351.0</td>\n",
              "      <td>2355.8</td>\n",
              "      <td>2350.0</td>\n",
              "      <td>2350.0</td>\n",
              "      <td>2547</td>\n",
              "    </tr>\n",
              "    <tr>\n",
              "      <th>1</th>\n",
              "      <td>2352.9</td>\n",
              "      <td>2355.7</td>\n",
              "      <td>2350.0</td>\n",
              "      <td>2355.7</td>\n",
              "      <td>195</td>\n",
              "    </tr>\n",
              "    <tr>\n",
              "      <th>2</th>\n",
              "      <td>2355.6</td>\n",
              "      <td>2356.0</td>\n",
              "      <td>2351.4</td>\n",
              "      <td>2354.1</td>\n",
              "      <td>257</td>\n",
              "    </tr>\n",
              "    <tr>\n",
              "      <th>3</th>\n",
              "      <td>2354.5</td>\n",
              "      <td>2355.0</td>\n",
              "      <td>2351.2</td>\n",
              "      <td>2353.7</td>\n",
              "      <td>763</td>\n",
              "    </tr>\n",
              "    <tr>\n",
              "      <th>4</th>\n",
              "      <td>2353.1</td>\n",
              "      <td>2353.9</td>\n",
              "      <td>2353.1</td>\n",
              "      <td>2353.6</td>\n",
              "      <td>231</td>\n",
              "    </tr>\n",
              "  </tbody>\n",
              "</table>\n",
              "</div>"
            ],
            "text/plain": [
              "     OPEN     MAX     MIN   CLOSE  VOLUME\n",
              "0  2351.0  2355.8  2350.0  2350.0    2547\n",
              "1  2352.9  2355.7  2350.0  2355.7     195\n",
              "2  2355.6  2356.0  2351.4  2354.1     257\n",
              "3  2354.5  2355.0  2351.2  2353.7     763\n",
              "4  2353.1  2353.9  2353.1  2353.6     231"
            ]
          },
          "metadata": {},
          "execution_count": 5
        }
      ]
    },
    {
      "cell_type": "code",
      "metadata": {
        "colab": {
          "base_uri": "https://localhost:8080/",
          "height": 204
        },
        "id": "0dhiBMB4MGJv",
        "outputId": "749177f5-773b-4b1c-9a0d-928615eae463"
      },
      "source": [
        "import itertools\n",
        "\n",
        "list_columns = [data['OPEN'], data['MAX'], data['MIN'], data['CLOSE'], data['VOLUME']]\n",
        "for pair in itertools.combinations(list_columns, r=2):\n",
        "  data[str(data.shape[1]+1)] = pair[0] - pair[1]\n",
        "\n",
        "data.head()\n",
        "# добавили попарные разности первых пяти каналов"
      ],
      "execution_count": null,
      "outputs": [
        {
          "output_type": "execute_result",
          "data": {
            "text/html": [
              "<div>\n",
              "<style scoped>\n",
              "    .dataframe tbody tr th:only-of-type {\n",
              "        vertical-align: middle;\n",
              "    }\n",
              "\n",
              "    .dataframe tbody tr th {\n",
              "        vertical-align: top;\n",
              "    }\n",
              "\n",
              "    .dataframe thead th {\n",
              "        text-align: right;\n",
              "    }\n",
              "</style>\n",
              "<table border=\"1\" class=\"dataframe\">\n",
              "  <thead>\n",
              "    <tr style=\"text-align: right;\">\n",
              "      <th></th>\n",
              "      <th>OPEN</th>\n",
              "      <th>MAX</th>\n",
              "      <th>MIN</th>\n",
              "      <th>CLOSE</th>\n",
              "      <th>VOLUME</th>\n",
              "      <th>6</th>\n",
              "      <th>7</th>\n",
              "      <th>8</th>\n",
              "      <th>9</th>\n",
              "      <th>10</th>\n",
              "      <th>11</th>\n",
              "      <th>12</th>\n",
              "      <th>13</th>\n",
              "      <th>14</th>\n",
              "      <th>15</th>\n",
              "    </tr>\n",
              "  </thead>\n",
              "  <tbody>\n",
              "    <tr>\n",
              "      <th>0</th>\n",
              "      <td>2351.0</td>\n",
              "      <td>2355.8</td>\n",
              "      <td>2350.0</td>\n",
              "      <td>2350.0</td>\n",
              "      <td>2547</td>\n",
              "      <td>-4.8</td>\n",
              "      <td>1.0</td>\n",
              "      <td>1.0</td>\n",
              "      <td>-196.0</td>\n",
              "      <td>5.8</td>\n",
              "      <td>5.8</td>\n",
              "      <td>-191.2</td>\n",
              "      <td>0.0</td>\n",
              "      <td>-197.0</td>\n",
              "      <td>-197.0</td>\n",
              "    </tr>\n",
              "    <tr>\n",
              "      <th>1</th>\n",
              "      <td>2352.9</td>\n",
              "      <td>2355.7</td>\n",
              "      <td>2350.0</td>\n",
              "      <td>2355.7</td>\n",
              "      <td>195</td>\n",
              "      <td>-2.8</td>\n",
              "      <td>2.9</td>\n",
              "      <td>-2.8</td>\n",
              "      <td>2157.9</td>\n",
              "      <td>5.7</td>\n",
              "      <td>0.0</td>\n",
              "      <td>2160.7</td>\n",
              "      <td>-5.7</td>\n",
              "      <td>2155.0</td>\n",
              "      <td>2160.7</td>\n",
              "    </tr>\n",
              "    <tr>\n",
              "      <th>2</th>\n",
              "      <td>2355.6</td>\n",
              "      <td>2356.0</td>\n",
              "      <td>2351.4</td>\n",
              "      <td>2354.1</td>\n",
              "      <td>257</td>\n",
              "      <td>-0.4</td>\n",
              "      <td>4.2</td>\n",
              "      <td>1.5</td>\n",
              "      <td>2098.6</td>\n",
              "      <td>4.6</td>\n",
              "      <td>1.9</td>\n",
              "      <td>2099.0</td>\n",
              "      <td>-2.7</td>\n",
              "      <td>2094.4</td>\n",
              "      <td>2097.1</td>\n",
              "    </tr>\n",
              "    <tr>\n",
              "      <th>3</th>\n",
              "      <td>2354.5</td>\n",
              "      <td>2355.0</td>\n",
              "      <td>2351.2</td>\n",
              "      <td>2353.7</td>\n",
              "      <td>763</td>\n",
              "      <td>-0.5</td>\n",
              "      <td>3.3</td>\n",
              "      <td>0.8</td>\n",
              "      <td>1591.5</td>\n",
              "      <td>3.8</td>\n",
              "      <td>1.3</td>\n",
              "      <td>1592.0</td>\n",
              "      <td>-2.5</td>\n",
              "      <td>1588.2</td>\n",
              "      <td>1590.7</td>\n",
              "    </tr>\n",
              "    <tr>\n",
              "      <th>4</th>\n",
              "      <td>2353.1</td>\n",
              "      <td>2353.9</td>\n",
              "      <td>2353.1</td>\n",
              "      <td>2353.6</td>\n",
              "      <td>231</td>\n",
              "      <td>-0.8</td>\n",
              "      <td>0.0</td>\n",
              "      <td>-0.5</td>\n",
              "      <td>2122.1</td>\n",
              "      <td>0.8</td>\n",
              "      <td>0.3</td>\n",
              "      <td>2122.9</td>\n",
              "      <td>-0.5</td>\n",
              "      <td>2122.1</td>\n",
              "      <td>2122.6</td>\n",
              "    </tr>\n",
              "  </tbody>\n",
              "</table>\n",
              "</div>"
            ],
            "text/plain": [
              "     OPEN     MAX     MIN   CLOSE  VOLUME  ...   11      12   13      14      15\n",
              "0  2351.0  2355.8  2350.0  2350.0    2547  ...  5.8  -191.2  0.0  -197.0  -197.0\n",
              "1  2352.9  2355.7  2350.0  2355.7     195  ...  0.0  2160.7 -5.7  2155.0  2160.7\n",
              "2  2355.6  2356.0  2351.4  2354.1     257  ...  1.9  2099.0 -2.7  2094.4  2097.1\n",
              "3  2354.5  2355.0  2351.2  2353.7     763  ...  1.3  1592.0 -2.5  1588.2  1590.7\n",
              "4  2353.1  2353.9  2353.1  2353.6     231  ...  0.3  2122.9 -0.5  2122.1  2122.6\n",
              "\n",
              "[5 rows x 15 columns]"
            ]
          },
          "metadata": {},
          "execution_count": 6
        }
      ]
    },
    {
      "cell_type": "code",
      "metadata": {
        "colab": {
          "base_uri": "https://localhost:8080/",
          "height": 204
        },
        "id": "kV6OOe6bXPKJ",
        "outputId": "eeae22b1-fb76-408c-9b18-27a3b0e46bac"
      },
      "source": [
        "for pair in itertools.combinations(list_columns, r=2):\n",
        "  data[str(data.shape[1]+1)] = abs(pair[0] - pair[1])\n",
        "\n",
        "data.head()\n",
        "# аналогично модули"
      ],
      "execution_count": null,
      "outputs": [
        {
          "output_type": "execute_result",
          "data": {
            "text/html": [
              "<div>\n",
              "<style scoped>\n",
              "    .dataframe tbody tr th:only-of-type {\n",
              "        vertical-align: middle;\n",
              "    }\n",
              "\n",
              "    .dataframe tbody tr th {\n",
              "        vertical-align: top;\n",
              "    }\n",
              "\n",
              "    .dataframe thead th {\n",
              "        text-align: right;\n",
              "    }\n",
              "</style>\n",
              "<table border=\"1\" class=\"dataframe\">\n",
              "  <thead>\n",
              "    <tr style=\"text-align: right;\">\n",
              "      <th></th>\n",
              "      <th>OPEN</th>\n",
              "      <th>MAX</th>\n",
              "      <th>MIN</th>\n",
              "      <th>CLOSE</th>\n",
              "      <th>VOLUME</th>\n",
              "      <th>6</th>\n",
              "      <th>7</th>\n",
              "      <th>8</th>\n",
              "      <th>9</th>\n",
              "      <th>10</th>\n",
              "      <th>11</th>\n",
              "      <th>12</th>\n",
              "      <th>13</th>\n",
              "      <th>14</th>\n",
              "      <th>15</th>\n",
              "      <th>16</th>\n",
              "      <th>17</th>\n",
              "      <th>18</th>\n",
              "      <th>19</th>\n",
              "      <th>20</th>\n",
              "      <th>21</th>\n",
              "      <th>22</th>\n",
              "      <th>23</th>\n",
              "      <th>24</th>\n",
              "      <th>25</th>\n",
              "    </tr>\n",
              "  </thead>\n",
              "  <tbody>\n",
              "    <tr>\n",
              "      <th>0</th>\n",
              "      <td>2351.0</td>\n",
              "      <td>2355.8</td>\n",
              "      <td>2350.0</td>\n",
              "      <td>2350.0</td>\n",
              "      <td>2547</td>\n",
              "      <td>-4.8</td>\n",
              "      <td>1.0</td>\n",
              "      <td>1.0</td>\n",
              "      <td>-196.0</td>\n",
              "      <td>5.8</td>\n",
              "      <td>5.8</td>\n",
              "      <td>-191.2</td>\n",
              "      <td>0.0</td>\n",
              "      <td>-197.0</td>\n",
              "      <td>-197.0</td>\n",
              "      <td>4.8</td>\n",
              "      <td>1.0</td>\n",
              "      <td>1.0</td>\n",
              "      <td>196.0</td>\n",
              "      <td>5.8</td>\n",
              "      <td>5.8</td>\n",
              "      <td>191.2</td>\n",
              "      <td>0.0</td>\n",
              "      <td>197.0</td>\n",
              "      <td>197.0</td>\n",
              "    </tr>\n",
              "    <tr>\n",
              "      <th>1</th>\n",
              "      <td>2352.9</td>\n",
              "      <td>2355.7</td>\n",
              "      <td>2350.0</td>\n",
              "      <td>2355.7</td>\n",
              "      <td>195</td>\n",
              "      <td>-2.8</td>\n",
              "      <td>2.9</td>\n",
              "      <td>-2.8</td>\n",
              "      <td>2157.9</td>\n",
              "      <td>5.7</td>\n",
              "      <td>0.0</td>\n",
              "      <td>2160.7</td>\n",
              "      <td>-5.7</td>\n",
              "      <td>2155.0</td>\n",
              "      <td>2160.7</td>\n",
              "      <td>2.8</td>\n",
              "      <td>2.9</td>\n",
              "      <td>2.8</td>\n",
              "      <td>2157.9</td>\n",
              "      <td>5.7</td>\n",
              "      <td>0.0</td>\n",
              "      <td>2160.7</td>\n",
              "      <td>5.7</td>\n",
              "      <td>2155.0</td>\n",
              "      <td>2160.7</td>\n",
              "    </tr>\n",
              "    <tr>\n",
              "      <th>2</th>\n",
              "      <td>2355.6</td>\n",
              "      <td>2356.0</td>\n",
              "      <td>2351.4</td>\n",
              "      <td>2354.1</td>\n",
              "      <td>257</td>\n",
              "      <td>-0.4</td>\n",
              "      <td>4.2</td>\n",
              "      <td>1.5</td>\n",
              "      <td>2098.6</td>\n",
              "      <td>4.6</td>\n",
              "      <td>1.9</td>\n",
              "      <td>2099.0</td>\n",
              "      <td>-2.7</td>\n",
              "      <td>2094.4</td>\n",
              "      <td>2097.1</td>\n",
              "      <td>0.4</td>\n",
              "      <td>4.2</td>\n",
              "      <td>1.5</td>\n",
              "      <td>2098.6</td>\n",
              "      <td>4.6</td>\n",
              "      <td>1.9</td>\n",
              "      <td>2099.0</td>\n",
              "      <td>2.7</td>\n",
              "      <td>2094.4</td>\n",
              "      <td>2097.1</td>\n",
              "    </tr>\n",
              "    <tr>\n",
              "      <th>3</th>\n",
              "      <td>2354.5</td>\n",
              "      <td>2355.0</td>\n",
              "      <td>2351.2</td>\n",
              "      <td>2353.7</td>\n",
              "      <td>763</td>\n",
              "      <td>-0.5</td>\n",
              "      <td>3.3</td>\n",
              "      <td>0.8</td>\n",
              "      <td>1591.5</td>\n",
              "      <td>3.8</td>\n",
              "      <td>1.3</td>\n",
              "      <td>1592.0</td>\n",
              "      <td>-2.5</td>\n",
              "      <td>1588.2</td>\n",
              "      <td>1590.7</td>\n",
              "      <td>0.5</td>\n",
              "      <td>3.3</td>\n",
              "      <td>0.8</td>\n",
              "      <td>1591.5</td>\n",
              "      <td>3.8</td>\n",
              "      <td>1.3</td>\n",
              "      <td>1592.0</td>\n",
              "      <td>2.5</td>\n",
              "      <td>1588.2</td>\n",
              "      <td>1590.7</td>\n",
              "    </tr>\n",
              "    <tr>\n",
              "      <th>4</th>\n",
              "      <td>2353.1</td>\n",
              "      <td>2353.9</td>\n",
              "      <td>2353.1</td>\n",
              "      <td>2353.6</td>\n",
              "      <td>231</td>\n",
              "      <td>-0.8</td>\n",
              "      <td>0.0</td>\n",
              "      <td>-0.5</td>\n",
              "      <td>2122.1</td>\n",
              "      <td>0.8</td>\n",
              "      <td>0.3</td>\n",
              "      <td>2122.9</td>\n",
              "      <td>-0.5</td>\n",
              "      <td>2122.1</td>\n",
              "      <td>2122.6</td>\n",
              "      <td>0.8</td>\n",
              "      <td>0.0</td>\n",
              "      <td>0.5</td>\n",
              "      <td>2122.1</td>\n",
              "      <td>0.8</td>\n",
              "      <td>0.3</td>\n",
              "      <td>2122.9</td>\n",
              "      <td>0.5</td>\n",
              "      <td>2122.1</td>\n",
              "      <td>2122.6</td>\n",
              "    </tr>\n",
              "  </tbody>\n",
              "</table>\n",
              "</div>"
            ],
            "text/plain": [
              "     OPEN     MAX     MIN   CLOSE  VOLUME  ...   21      22   23      24      25\n",
              "0  2351.0  2355.8  2350.0  2350.0    2547  ...  5.8   191.2  0.0   197.0   197.0\n",
              "1  2352.9  2355.7  2350.0  2355.7     195  ...  0.0  2160.7  5.7  2155.0  2160.7\n",
              "2  2355.6  2356.0  2351.4  2354.1     257  ...  1.9  2099.0  2.7  2094.4  2097.1\n",
              "3  2354.5  2355.0  2351.2  2353.7     763  ...  1.3  1592.0  2.5  1588.2  1590.7\n",
              "4  2353.1  2353.9  2353.1  2353.6     231  ...  0.3  2122.9  0.5  2122.1  2122.6\n",
              "\n",
              "[5 rows x 25 columns]"
            ]
          },
          "metadata": {},
          "execution_count": 7
        }
      ]
    },
    {
      "cell_type": "code",
      "metadata": {
        "id": "aylFG5CeEwQ4",
        "colab": {
          "base_uri": "https://localhost:8080/",
          "height": 224
        },
        "outputId": "81800daa-a8ca-4166-c232-b16633459a1a"
      },
      "source": [
        "for pair in itertools.combinations(list_columns, r=2):\n",
        "  data[str(data.shape[1]+1)] = pair[0] * pair[1]\n",
        "\n",
        "data.head()\n",
        "# ...произведения"
      ],
      "execution_count": null,
      "outputs": [
        {
          "output_type": "execute_result",
          "data": {
            "text/html": [
              "<div>\n",
              "<style scoped>\n",
              "    .dataframe tbody tr th:only-of-type {\n",
              "        vertical-align: middle;\n",
              "    }\n",
              "\n",
              "    .dataframe tbody tr th {\n",
              "        vertical-align: top;\n",
              "    }\n",
              "\n",
              "    .dataframe thead th {\n",
              "        text-align: right;\n",
              "    }\n",
              "</style>\n",
              "<table border=\"1\" class=\"dataframe\">\n",
              "  <thead>\n",
              "    <tr style=\"text-align: right;\">\n",
              "      <th></th>\n",
              "      <th>OPEN</th>\n",
              "      <th>MAX</th>\n",
              "      <th>MIN</th>\n",
              "      <th>CLOSE</th>\n",
              "      <th>VOLUME</th>\n",
              "      <th>6</th>\n",
              "      <th>7</th>\n",
              "      <th>8</th>\n",
              "      <th>9</th>\n",
              "      <th>10</th>\n",
              "      <th>11</th>\n",
              "      <th>12</th>\n",
              "      <th>13</th>\n",
              "      <th>14</th>\n",
              "      <th>15</th>\n",
              "      <th>16</th>\n",
              "      <th>17</th>\n",
              "      <th>18</th>\n",
              "      <th>19</th>\n",
              "      <th>20</th>\n",
              "      <th>21</th>\n",
              "      <th>22</th>\n",
              "      <th>23</th>\n",
              "      <th>24</th>\n",
              "      <th>25</th>\n",
              "      <th>26</th>\n",
              "      <th>27</th>\n",
              "      <th>28</th>\n",
              "      <th>29</th>\n",
              "      <th>30</th>\n",
              "      <th>31</th>\n",
              "      <th>32</th>\n",
              "      <th>33</th>\n",
              "      <th>34</th>\n",
              "      <th>35</th>\n",
              "    </tr>\n",
              "  </thead>\n",
              "  <tbody>\n",
              "    <tr>\n",
              "      <th>0</th>\n",
              "      <td>2351.0</td>\n",
              "      <td>2355.8</td>\n",
              "      <td>2350.0</td>\n",
              "      <td>2350.0</td>\n",
              "      <td>2547</td>\n",
              "      <td>-4.8</td>\n",
              "      <td>1.0</td>\n",
              "      <td>1.0</td>\n",
              "      <td>-196.0</td>\n",
              "      <td>5.8</td>\n",
              "      <td>5.8</td>\n",
              "      <td>-191.2</td>\n",
              "      <td>0.0</td>\n",
              "      <td>-197.0</td>\n",
              "      <td>-197.0</td>\n",
              "      <td>4.8</td>\n",
              "      <td>1.0</td>\n",
              "      <td>1.0</td>\n",
              "      <td>196.0</td>\n",
              "      <td>5.8</td>\n",
              "      <td>5.8</td>\n",
              "      <td>191.2</td>\n",
              "      <td>0.0</td>\n",
              "      <td>197.0</td>\n",
              "      <td>197.0</td>\n",
              "      <td>5538485.80</td>\n",
              "      <td>5524850.00</td>\n",
              "      <td>5524850.00</td>\n",
              "      <td>5987997.0</td>\n",
              "      <td>5536130.00</td>\n",
              "      <td>5536130.00</td>\n",
              "      <td>6000222.6</td>\n",
              "      <td>5522500.00</td>\n",
              "      <td>5985450.0</td>\n",
              "      <td>5985450.0</td>\n",
              "    </tr>\n",
              "    <tr>\n",
              "      <th>1</th>\n",
              "      <td>2352.9</td>\n",
              "      <td>2355.7</td>\n",
              "      <td>2350.0</td>\n",
              "      <td>2355.7</td>\n",
              "      <td>195</td>\n",
              "      <td>-2.8</td>\n",
              "      <td>2.9</td>\n",
              "      <td>-2.8</td>\n",
              "      <td>2157.9</td>\n",
              "      <td>5.7</td>\n",
              "      <td>0.0</td>\n",
              "      <td>2160.7</td>\n",
              "      <td>-5.7</td>\n",
              "      <td>2155.0</td>\n",
              "      <td>2160.7</td>\n",
              "      <td>2.8</td>\n",
              "      <td>2.9</td>\n",
              "      <td>2.8</td>\n",
              "      <td>2157.9</td>\n",
              "      <td>5.7</td>\n",
              "      <td>0.0</td>\n",
              "      <td>2160.7</td>\n",
              "      <td>5.7</td>\n",
              "      <td>2155.0</td>\n",
              "      <td>2160.7</td>\n",
              "      <td>5542726.53</td>\n",
              "      <td>5529315.00</td>\n",
              "      <td>5542726.53</td>\n",
              "      <td>458815.5</td>\n",
              "      <td>5535895.00</td>\n",
              "      <td>5549322.49</td>\n",
              "      <td>459361.5</td>\n",
              "      <td>5535895.00</td>\n",
              "      <td>458250.0</td>\n",
              "      <td>459361.5</td>\n",
              "    </tr>\n",
              "    <tr>\n",
              "      <th>2</th>\n",
              "      <td>2355.6</td>\n",
              "      <td>2356.0</td>\n",
              "      <td>2351.4</td>\n",
              "      <td>2354.1</td>\n",
              "      <td>257</td>\n",
              "      <td>-0.4</td>\n",
              "      <td>4.2</td>\n",
              "      <td>1.5</td>\n",
              "      <td>2098.6</td>\n",
              "      <td>4.6</td>\n",
              "      <td>1.9</td>\n",
              "      <td>2099.0</td>\n",
              "      <td>-2.7</td>\n",
              "      <td>2094.4</td>\n",
              "      <td>2097.1</td>\n",
              "      <td>0.4</td>\n",
              "      <td>4.2</td>\n",
              "      <td>1.5</td>\n",
              "      <td>2098.6</td>\n",
              "      <td>4.6</td>\n",
              "      <td>1.9</td>\n",
              "      <td>2099.0</td>\n",
              "      <td>2.7</td>\n",
              "      <td>2094.4</td>\n",
              "      <td>2097.1</td>\n",
              "      <td>5549793.60</td>\n",
              "      <td>5538957.84</td>\n",
              "      <td>5545317.96</td>\n",
              "      <td>605389.2</td>\n",
              "      <td>5539898.40</td>\n",
              "      <td>5546259.60</td>\n",
              "      <td>605492.0</td>\n",
              "      <td>5535430.74</td>\n",
              "      <td>604309.8</td>\n",
              "      <td>605003.7</td>\n",
              "    </tr>\n",
              "    <tr>\n",
              "      <th>3</th>\n",
              "      <td>2354.5</td>\n",
              "      <td>2355.0</td>\n",
              "      <td>2351.2</td>\n",
              "      <td>2353.7</td>\n",
              "      <td>763</td>\n",
              "      <td>-0.5</td>\n",
              "      <td>3.3</td>\n",
              "      <td>0.8</td>\n",
              "      <td>1591.5</td>\n",
              "      <td>3.8</td>\n",
              "      <td>1.3</td>\n",
              "      <td>1592.0</td>\n",
              "      <td>-2.5</td>\n",
              "      <td>1588.2</td>\n",
              "      <td>1590.7</td>\n",
              "      <td>0.5</td>\n",
              "      <td>3.3</td>\n",
              "      <td>0.8</td>\n",
              "      <td>1591.5</td>\n",
              "      <td>3.8</td>\n",
              "      <td>1.3</td>\n",
              "      <td>1592.0</td>\n",
              "      <td>2.5</td>\n",
              "      <td>1588.2</td>\n",
              "      <td>1590.7</td>\n",
              "      <td>5544847.50</td>\n",
              "      <td>5535900.40</td>\n",
              "      <td>5541786.65</td>\n",
              "      <td>1796483.5</td>\n",
              "      <td>5537076.00</td>\n",
              "      <td>5542963.50</td>\n",
              "      <td>1796865.0</td>\n",
              "      <td>5534019.44</td>\n",
              "      <td>1793965.6</td>\n",
              "      <td>1795873.1</td>\n",
              "    </tr>\n",
              "    <tr>\n",
              "      <th>4</th>\n",
              "      <td>2353.1</td>\n",
              "      <td>2353.9</td>\n",
              "      <td>2353.1</td>\n",
              "      <td>2353.6</td>\n",
              "      <td>231</td>\n",
              "      <td>-0.8</td>\n",
              "      <td>0.0</td>\n",
              "      <td>-0.5</td>\n",
              "      <td>2122.1</td>\n",
              "      <td>0.8</td>\n",
              "      <td>0.3</td>\n",
              "      <td>2122.9</td>\n",
              "      <td>-0.5</td>\n",
              "      <td>2122.1</td>\n",
              "      <td>2122.6</td>\n",
              "      <td>0.8</td>\n",
              "      <td>0.0</td>\n",
              "      <td>0.5</td>\n",
              "      <td>2122.1</td>\n",
              "      <td>0.8</td>\n",
              "      <td>0.3</td>\n",
              "      <td>2122.9</td>\n",
              "      <td>0.5</td>\n",
              "      <td>2122.1</td>\n",
              "      <td>2122.6</td>\n",
              "      <td>5538962.09</td>\n",
              "      <td>5537079.61</td>\n",
              "      <td>5538256.16</td>\n",
              "      <td>543566.1</td>\n",
              "      <td>5538962.09</td>\n",
              "      <td>5540139.04</td>\n",
              "      <td>543750.9</td>\n",
              "      <td>5538256.16</td>\n",
              "      <td>543566.1</td>\n",
              "      <td>543681.6</td>\n",
              "    </tr>\n",
              "  </tbody>\n",
              "</table>\n",
              "</div>"
            ],
            "text/plain": [
              "     OPEN     MAX     MIN   CLOSE  ...         32          33         34         35\n",
              "0  2351.0  2355.8  2350.0  2350.0  ...  6000222.6  5522500.00  5985450.0  5985450.0\n",
              "1  2352.9  2355.7  2350.0  2355.7  ...   459361.5  5535895.00   458250.0   459361.5\n",
              "2  2355.6  2356.0  2351.4  2354.1  ...   605492.0  5535430.74   604309.8   605003.7\n",
              "3  2354.5  2355.0  2351.2  2353.7  ...  1796865.0  5534019.44  1793965.6  1795873.1\n",
              "4  2353.1  2353.9  2353.1  2353.6  ...   543750.9  5538256.16   543566.1   543681.6\n",
              "\n",
              "[5 rows x 35 columns]"
            ]
          },
          "metadata": {},
          "execution_count": 8
        }
      ]
    },
    {
      "cell_type": "code",
      "metadata": {
        "id": "1MXoV6l1EwWf",
        "colab": {
          "base_uri": "https://localhost:8080/",
          "height": 224
        },
        "outputId": "7178abce-7e5b-4b4f-8d5d-33bb1514c0a3"
      },
      "source": [
        "for i in list_columns:\n",
        "  data[str(data.shape[1]+1)] = 1/(i + 1e-3)\n",
        "\n",
        "data.head()\n",
        "# обратные значения каналов"
      ],
      "execution_count": null,
      "outputs": [
        {
          "output_type": "execute_result",
          "data": {
            "text/html": [
              "<div>\n",
              "<style scoped>\n",
              "    .dataframe tbody tr th:only-of-type {\n",
              "        vertical-align: middle;\n",
              "    }\n",
              "\n",
              "    .dataframe tbody tr th {\n",
              "        vertical-align: top;\n",
              "    }\n",
              "\n",
              "    .dataframe thead th {\n",
              "        text-align: right;\n",
              "    }\n",
              "</style>\n",
              "<table border=\"1\" class=\"dataframe\">\n",
              "  <thead>\n",
              "    <tr style=\"text-align: right;\">\n",
              "      <th></th>\n",
              "      <th>OPEN</th>\n",
              "      <th>MAX</th>\n",
              "      <th>MIN</th>\n",
              "      <th>CLOSE</th>\n",
              "      <th>VOLUME</th>\n",
              "      <th>6</th>\n",
              "      <th>7</th>\n",
              "      <th>8</th>\n",
              "      <th>9</th>\n",
              "      <th>10</th>\n",
              "      <th>11</th>\n",
              "      <th>12</th>\n",
              "      <th>13</th>\n",
              "      <th>14</th>\n",
              "      <th>15</th>\n",
              "      <th>16</th>\n",
              "      <th>17</th>\n",
              "      <th>18</th>\n",
              "      <th>19</th>\n",
              "      <th>20</th>\n",
              "      <th>21</th>\n",
              "      <th>22</th>\n",
              "      <th>23</th>\n",
              "      <th>24</th>\n",
              "      <th>25</th>\n",
              "      <th>26</th>\n",
              "      <th>27</th>\n",
              "      <th>28</th>\n",
              "      <th>29</th>\n",
              "      <th>30</th>\n",
              "      <th>31</th>\n",
              "      <th>32</th>\n",
              "      <th>33</th>\n",
              "      <th>34</th>\n",
              "      <th>35</th>\n",
              "      <th>36</th>\n",
              "      <th>37</th>\n",
              "      <th>38</th>\n",
              "      <th>39</th>\n",
              "      <th>40</th>\n",
              "    </tr>\n",
              "  </thead>\n",
              "  <tbody>\n",
              "    <tr>\n",
              "      <th>0</th>\n",
              "      <td>2351.0</td>\n",
              "      <td>2355.8</td>\n",
              "      <td>2350.0</td>\n",
              "      <td>2350.0</td>\n",
              "      <td>2547</td>\n",
              "      <td>-4.8</td>\n",
              "      <td>1.0</td>\n",
              "      <td>1.0</td>\n",
              "      <td>-196.0</td>\n",
              "      <td>5.8</td>\n",
              "      <td>5.8</td>\n",
              "      <td>-191.2</td>\n",
              "      <td>0.0</td>\n",
              "      <td>-197.0</td>\n",
              "      <td>-197.0</td>\n",
              "      <td>4.8</td>\n",
              "      <td>1.0</td>\n",
              "      <td>1.0</td>\n",
              "      <td>196.0</td>\n",
              "      <td>5.8</td>\n",
              "      <td>5.8</td>\n",
              "      <td>191.2</td>\n",
              "      <td>0.0</td>\n",
              "      <td>197.0</td>\n",
              "      <td>197.0</td>\n",
              "      <td>5538485.80</td>\n",
              "      <td>5524850.00</td>\n",
              "      <td>5524850.00</td>\n",
              "      <td>5987997.0</td>\n",
              "      <td>5536130.00</td>\n",
              "      <td>5536130.00</td>\n",
              "      <td>6000222.6</td>\n",
              "      <td>5522500.00</td>\n",
              "      <td>5985450.0</td>\n",
              "      <td>5985450.0</td>\n",
              "      <td>0.000425</td>\n",
              "      <td>0.000424</td>\n",
              "      <td>0.000426</td>\n",
              "      <td>0.000426</td>\n",
              "      <td>0.000393</td>\n",
              "    </tr>\n",
              "    <tr>\n",
              "      <th>1</th>\n",
              "      <td>2352.9</td>\n",
              "      <td>2355.7</td>\n",
              "      <td>2350.0</td>\n",
              "      <td>2355.7</td>\n",
              "      <td>195</td>\n",
              "      <td>-2.8</td>\n",
              "      <td>2.9</td>\n",
              "      <td>-2.8</td>\n",
              "      <td>2157.9</td>\n",
              "      <td>5.7</td>\n",
              "      <td>0.0</td>\n",
              "      <td>2160.7</td>\n",
              "      <td>-5.7</td>\n",
              "      <td>2155.0</td>\n",
              "      <td>2160.7</td>\n",
              "      <td>2.8</td>\n",
              "      <td>2.9</td>\n",
              "      <td>2.8</td>\n",
              "      <td>2157.9</td>\n",
              "      <td>5.7</td>\n",
              "      <td>0.0</td>\n",
              "      <td>2160.7</td>\n",
              "      <td>5.7</td>\n",
              "      <td>2155.0</td>\n",
              "      <td>2160.7</td>\n",
              "      <td>5542726.53</td>\n",
              "      <td>5529315.00</td>\n",
              "      <td>5542726.53</td>\n",
              "      <td>458815.5</td>\n",
              "      <td>5535895.00</td>\n",
              "      <td>5549322.49</td>\n",
              "      <td>459361.5</td>\n",
              "      <td>5535895.00</td>\n",
              "      <td>458250.0</td>\n",
              "      <td>459361.5</td>\n",
              "      <td>0.000425</td>\n",
              "      <td>0.000425</td>\n",
              "      <td>0.000426</td>\n",
              "      <td>0.000425</td>\n",
              "      <td>0.005128</td>\n",
              "    </tr>\n",
              "    <tr>\n",
              "      <th>2</th>\n",
              "      <td>2355.6</td>\n",
              "      <td>2356.0</td>\n",
              "      <td>2351.4</td>\n",
              "      <td>2354.1</td>\n",
              "      <td>257</td>\n",
              "      <td>-0.4</td>\n",
              "      <td>4.2</td>\n",
              "      <td>1.5</td>\n",
              "      <td>2098.6</td>\n",
              "      <td>4.6</td>\n",
              "      <td>1.9</td>\n",
              "      <td>2099.0</td>\n",
              "      <td>-2.7</td>\n",
              "      <td>2094.4</td>\n",
              "      <td>2097.1</td>\n",
              "      <td>0.4</td>\n",
              "      <td>4.2</td>\n",
              "      <td>1.5</td>\n",
              "      <td>2098.6</td>\n",
              "      <td>4.6</td>\n",
              "      <td>1.9</td>\n",
              "      <td>2099.0</td>\n",
              "      <td>2.7</td>\n",
              "      <td>2094.4</td>\n",
              "      <td>2097.1</td>\n",
              "      <td>5549793.60</td>\n",
              "      <td>5538957.84</td>\n",
              "      <td>5545317.96</td>\n",
              "      <td>605389.2</td>\n",
              "      <td>5539898.40</td>\n",
              "      <td>5546259.60</td>\n",
              "      <td>605492.0</td>\n",
              "      <td>5535430.74</td>\n",
              "      <td>604309.8</td>\n",
              "      <td>605003.7</td>\n",
              "      <td>0.000425</td>\n",
              "      <td>0.000424</td>\n",
              "      <td>0.000425</td>\n",
              "      <td>0.000425</td>\n",
              "      <td>0.003891</td>\n",
              "    </tr>\n",
              "    <tr>\n",
              "      <th>3</th>\n",
              "      <td>2354.5</td>\n",
              "      <td>2355.0</td>\n",
              "      <td>2351.2</td>\n",
              "      <td>2353.7</td>\n",
              "      <td>763</td>\n",
              "      <td>-0.5</td>\n",
              "      <td>3.3</td>\n",
              "      <td>0.8</td>\n",
              "      <td>1591.5</td>\n",
              "      <td>3.8</td>\n",
              "      <td>1.3</td>\n",
              "      <td>1592.0</td>\n",
              "      <td>-2.5</td>\n",
              "      <td>1588.2</td>\n",
              "      <td>1590.7</td>\n",
              "      <td>0.5</td>\n",
              "      <td>3.3</td>\n",
              "      <td>0.8</td>\n",
              "      <td>1591.5</td>\n",
              "      <td>3.8</td>\n",
              "      <td>1.3</td>\n",
              "      <td>1592.0</td>\n",
              "      <td>2.5</td>\n",
              "      <td>1588.2</td>\n",
              "      <td>1590.7</td>\n",
              "      <td>5544847.50</td>\n",
              "      <td>5535900.40</td>\n",
              "      <td>5541786.65</td>\n",
              "      <td>1796483.5</td>\n",
              "      <td>5537076.00</td>\n",
              "      <td>5542963.50</td>\n",
              "      <td>1796865.0</td>\n",
              "      <td>5534019.44</td>\n",
              "      <td>1793965.6</td>\n",
              "      <td>1795873.1</td>\n",
              "      <td>0.000425</td>\n",
              "      <td>0.000425</td>\n",
              "      <td>0.000425</td>\n",
              "      <td>0.000425</td>\n",
              "      <td>0.001311</td>\n",
              "    </tr>\n",
              "    <tr>\n",
              "      <th>4</th>\n",
              "      <td>2353.1</td>\n",
              "      <td>2353.9</td>\n",
              "      <td>2353.1</td>\n",
              "      <td>2353.6</td>\n",
              "      <td>231</td>\n",
              "      <td>-0.8</td>\n",
              "      <td>0.0</td>\n",
              "      <td>-0.5</td>\n",
              "      <td>2122.1</td>\n",
              "      <td>0.8</td>\n",
              "      <td>0.3</td>\n",
              "      <td>2122.9</td>\n",
              "      <td>-0.5</td>\n",
              "      <td>2122.1</td>\n",
              "      <td>2122.6</td>\n",
              "      <td>0.8</td>\n",
              "      <td>0.0</td>\n",
              "      <td>0.5</td>\n",
              "      <td>2122.1</td>\n",
              "      <td>0.8</td>\n",
              "      <td>0.3</td>\n",
              "      <td>2122.9</td>\n",
              "      <td>0.5</td>\n",
              "      <td>2122.1</td>\n",
              "      <td>2122.6</td>\n",
              "      <td>5538962.09</td>\n",
              "      <td>5537079.61</td>\n",
              "      <td>5538256.16</td>\n",
              "      <td>543566.1</td>\n",
              "      <td>5538962.09</td>\n",
              "      <td>5540139.04</td>\n",
              "      <td>543750.9</td>\n",
              "      <td>5538256.16</td>\n",
              "      <td>543566.1</td>\n",
              "      <td>543681.6</td>\n",
              "      <td>0.000425</td>\n",
              "      <td>0.000425</td>\n",
              "      <td>0.000425</td>\n",
              "      <td>0.000425</td>\n",
              "      <td>0.004329</td>\n",
              "    </tr>\n",
              "  </tbody>\n",
              "</table>\n",
              "</div>"
            ],
            "text/plain": [
              "     OPEN     MAX     MIN   CLOSE  ...        37        38        39        40\n",
              "0  2351.0  2355.8  2350.0  2350.0  ...  0.000424  0.000426  0.000426  0.000393\n",
              "1  2352.9  2355.7  2350.0  2355.7  ...  0.000425  0.000426  0.000425  0.005128\n",
              "2  2355.6  2356.0  2351.4  2354.1  ...  0.000424  0.000425  0.000425  0.003891\n",
              "3  2354.5  2355.0  2351.2  2353.7  ...  0.000425  0.000425  0.000425  0.001311\n",
              "4  2353.1  2353.9  2353.1  2353.6  ...  0.000425  0.000425  0.000425  0.004329\n",
              "\n",
              "[5 rows x 40 columns]"
            ]
          },
          "metadata": {},
          "execution_count": 9
        }
      ]
    },
    {
      "cell_type": "code",
      "metadata": {
        "id": "fsR85uKPEwbx",
        "colab": {
          "base_uri": "https://localhost:8080/",
          "height": 224
        },
        "outputId": "38e6c015-2efe-4d10-9ae0-dfb2643dc430"
      },
      "source": [
        "from sympy import diff\n",
        "\n",
        "for i in list_columns:\n",
        "  data[str(data.shape[1]+1)] = diff(i)\n",
        "  data[str(data.shape[1]+1)] = diff(diff(i))\n",
        "\n",
        "data.head()\n",
        "# произовдные"
      ],
      "execution_count": null,
      "outputs": [
        {
          "output_type": "execute_result",
          "data": {
            "text/html": [
              "<div>\n",
              "<style scoped>\n",
              "    .dataframe tbody tr th:only-of-type {\n",
              "        vertical-align: middle;\n",
              "    }\n",
              "\n",
              "    .dataframe tbody tr th {\n",
              "        vertical-align: top;\n",
              "    }\n",
              "\n",
              "    .dataframe thead th {\n",
              "        text-align: right;\n",
              "    }\n",
              "</style>\n",
              "<table border=\"1\" class=\"dataframe\">\n",
              "  <thead>\n",
              "    <tr style=\"text-align: right;\">\n",
              "      <th></th>\n",
              "      <th>OPEN</th>\n",
              "      <th>MAX</th>\n",
              "      <th>MIN</th>\n",
              "      <th>CLOSE</th>\n",
              "      <th>VOLUME</th>\n",
              "      <th>6</th>\n",
              "      <th>7</th>\n",
              "      <th>8</th>\n",
              "      <th>9</th>\n",
              "      <th>10</th>\n",
              "      <th>11</th>\n",
              "      <th>12</th>\n",
              "      <th>13</th>\n",
              "      <th>14</th>\n",
              "      <th>15</th>\n",
              "      <th>16</th>\n",
              "      <th>17</th>\n",
              "      <th>18</th>\n",
              "      <th>19</th>\n",
              "      <th>20</th>\n",
              "      <th>21</th>\n",
              "      <th>22</th>\n",
              "      <th>23</th>\n",
              "      <th>24</th>\n",
              "      <th>25</th>\n",
              "      <th>26</th>\n",
              "      <th>27</th>\n",
              "      <th>28</th>\n",
              "      <th>29</th>\n",
              "      <th>30</th>\n",
              "      <th>31</th>\n",
              "      <th>32</th>\n",
              "      <th>33</th>\n",
              "      <th>34</th>\n",
              "      <th>35</th>\n",
              "      <th>36</th>\n",
              "      <th>37</th>\n",
              "      <th>38</th>\n",
              "      <th>39</th>\n",
              "      <th>40</th>\n",
              "      <th>41</th>\n",
              "      <th>42</th>\n",
              "      <th>43</th>\n",
              "      <th>44</th>\n",
              "      <th>45</th>\n",
              "      <th>46</th>\n",
              "      <th>47</th>\n",
              "      <th>48</th>\n",
              "      <th>49</th>\n",
              "      <th>50</th>\n",
              "    </tr>\n",
              "  </thead>\n",
              "  <tbody>\n",
              "    <tr>\n",
              "      <th>0</th>\n",
              "      <td>2351.0</td>\n",
              "      <td>2355.8</td>\n",
              "      <td>2350.0</td>\n",
              "      <td>2350.0</td>\n",
              "      <td>2547</td>\n",
              "      <td>-4.8</td>\n",
              "      <td>1.0</td>\n",
              "      <td>1.0</td>\n",
              "      <td>-196.0</td>\n",
              "      <td>5.8</td>\n",
              "      <td>5.8</td>\n",
              "      <td>-191.2</td>\n",
              "      <td>0.0</td>\n",
              "      <td>-197.0</td>\n",
              "      <td>-197.0</td>\n",
              "      <td>4.8</td>\n",
              "      <td>1.0</td>\n",
              "      <td>1.0</td>\n",
              "      <td>196.0</td>\n",
              "      <td>5.8</td>\n",
              "      <td>5.8</td>\n",
              "      <td>191.2</td>\n",
              "      <td>0.0</td>\n",
              "      <td>197.0</td>\n",
              "      <td>197.0</td>\n",
              "      <td>5538485.80</td>\n",
              "      <td>5524850.00</td>\n",
              "      <td>5524850.00</td>\n",
              "      <td>5987997.0</td>\n",
              "      <td>5536130.00</td>\n",
              "      <td>5536130.00</td>\n",
              "      <td>6000222.6</td>\n",
              "      <td>5522500.00</td>\n",
              "      <td>5985450.0</td>\n",
              "      <td>5985450.0</td>\n",
              "      <td>0.000425</td>\n",
              "      <td>0.000424</td>\n",
              "      <td>0.000426</td>\n",
              "      <td>0.000426</td>\n",
              "      <td>0.000393</td>\n",
              "      <td>NaN</td>\n",
              "      <td>NaN</td>\n",
              "      <td>NaN</td>\n",
              "      <td>NaN</td>\n",
              "      <td>NaN</td>\n",
              "      <td>NaN</td>\n",
              "      <td>NaN</td>\n",
              "      <td>NaN</td>\n",
              "      <td>NaN</td>\n",
              "      <td>NaN</td>\n",
              "    </tr>\n",
              "    <tr>\n",
              "      <th>1</th>\n",
              "      <td>2352.9</td>\n",
              "      <td>2355.7</td>\n",
              "      <td>2350.0</td>\n",
              "      <td>2355.7</td>\n",
              "      <td>195</td>\n",
              "      <td>-2.8</td>\n",
              "      <td>2.9</td>\n",
              "      <td>-2.8</td>\n",
              "      <td>2157.9</td>\n",
              "      <td>5.7</td>\n",
              "      <td>0.0</td>\n",
              "      <td>2160.7</td>\n",
              "      <td>-5.7</td>\n",
              "      <td>2155.0</td>\n",
              "      <td>2160.7</td>\n",
              "      <td>2.8</td>\n",
              "      <td>2.9</td>\n",
              "      <td>2.8</td>\n",
              "      <td>2157.9</td>\n",
              "      <td>5.7</td>\n",
              "      <td>0.0</td>\n",
              "      <td>2160.7</td>\n",
              "      <td>5.7</td>\n",
              "      <td>2155.0</td>\n",
              "      <td>2160.7</td>\n",
              "      <td>5542726.53</td>\n",
              "      <td>5529315.00</td>\n",
              "      <td>5542726.53</td>\n",
              "      <td>458815.5</td>\n",
              "      <td>5535895.00</td>\n",
              "      <td>5549322.49</td>\n",
              "      <td>459361.5</td>\n",
              "      <td>5535895.00</td>\n",
              "      <td>458250.0</td>\n",
              "      <td>459361.5</td>\n",
              "      <td>0.000425</td>\n",
              "      <td>0.000425</td>\n",
              "      <td>0.000426</td>\n",
              "      <td>0.000425</td>\n",
              "      <td>0.005128</td>\n",
              "      <td>1.9</td>\n",
              "      <td>NaN</td>\n",
              "      <td>-0.1</td>\n",
              "      <td>NaN</td>\n",
              "      <td>0.0</td>\n",
              "      <td>NaN</td>\n",
              "      <td>5.7</td>\n",
              "      <td>NaN</td>\n",
              "      <td>-2352.0</td>\n",
              "      <td>NaN</td>\n",
              "    </tr>\n",
              "    <tr>\n",
              "      <th>2</th>\n",
              "      <td>2355.6</td>\n",
              "      <td>2356.0</td>\n",
              "      <td>2351.4</td>\n",
              "      <td>2354.1</td>\n",
              "      <td>257</td>\n",
              "      <td>-0.4</td>\n",
              "      <td>4.2</td>\n",
              "      <td>1.5</td>\n",
              "      <td>2098.6</td>\n",
              "      <td>4.6</td>\n",
              "      <td>1.9</td>\n",
              "      <td>2099.0</td>\n",
              "      <td>-2.7</td>\n",
              "      <td>2094.4</td>\n",
              "      <td>2097.1</td>\n",
              "      <td>0.4</td>\n",
              "      <td>4.2</td>\n",
              "      <td>1.5</td>\n",
              "      <td>2098.6</td>\n",
              "      <td>4.6</td>\n",
              "      <td>1.9</td>\n",
              "      <td>2099.0</td>\n",
              "      <td>2.7</td>\n",
              "      <td>2094.4</td>\n",
              "      <td>2097.1</td>\n",
              "      <td>5549793.60</td>\n",
              "      <td>5538957.84</td>\n",
              "      <td>5545317.96</td>\n",
              "      <td>605389.2</td>\n",
              "      <td>5539898.40</td>\n",
              "      <td>5546259.60</td>\n",
              "      <td>605492.0</td>\n",
              "      <td>5535430.74</td>\n",
              "      <td>604309.8</td>\n",
              "      <td>605003.7</td>\n",
              "      <td>0.000425</td>\n",
              "      <td>0.000424</td>\n",
              "      <td>0.000425</td>\n",
              "      <td>0.000425</td>\n",
              "      <td>0.003891</td>\n",
              "      <td>2.7</td>\n",
              "      <td>0.8</td>\n",
              "      <td>0.3</td>\n",
              "      <td>0.4</td>\n",
              "      <td>1.4</td>\n",
              "      <td>1.4</td>\n",
              "      <td>-1.6</td>\n",
              "      <td>-7.3</td>\n",
              "      <td>62.0</td>\n",
              "      <td>2414.0</td>\n",
              "    </tr>\n",
              "    <tr>\n",
              "      <th>3</th>\n",
              "      <td>2354.5</td>\n",
              "      <td>2355.0</td>\n",
              "      <td>2351.2</td>\n",
              "      <td>2353.7</td>\n",
              "      <td>763</td>\n",
              "      <td>-0.5</td>\n",
              "      <td>3.3</td>\n",
              "      <td>0.8</td>\n",
              "      <td>1591.5</td>\n",
              "      <td>3.8</td>\n",
              "      <td>1.3</td>\n",
              "      <td>1592.0</td>\n",
              "      <td>-2.5</td>\n",
              "      <td>1588.2</td>\n",
              "      <td>1590.7</td>\n",
              "      <td>0.5</td>\n",
              "      <td>3.3</td>\n",
              "      <td>0.8</td>\n",
              "      <td>1591.5</td>\n",
              "      <td>3.8</td>\n",
              "      <td>1.3</td>\n",
              "      <td>1592.0</td>\n",
              "      <td>2.5</td>\n",
              "      <td>1588.2</td>\n",
              "      <td>1590.7</td>\n",
              "      <td>5544847.50</td>\n",
              "      <td>5535900.40</td>\n",
              "      <td>5541786.65</td>\n",
              "      <td>1796483.5</td>\n",
              "      <td>5537076.00</td>\n",
              "      <td>5542963.50</td>\n",
              "      <td>1796865.0</td>\n",
              "      <td>5534019.44</td>\n",
              "      <td>1793965.6</td>\n",
              "      <td>1795873.1</td>\n",
              "      <td>0.000425</td>\n",
              "      <td>0.000425</td>\n",
              "      <td>0.000425</td>\n",
              "      <td>0.000425</td>\n",
              "      <td>0.001311</td>\n",
              "      <td>-1.1</td>\n",
              "      <td>-3.8</td>\n",
              "      <td>-1.0</td>\n",
              "      <td>-1.3</td>\n",
              "      <td>-0.2</td>\n",
              "      <td>-1.6</td>\n",
              "      <td>-0.4</td>\n",
              "      <td>1.2</td>\n",
              "      <td>506.0</td>\n",
              "      <td>444.0</td>\n",
              "    </tr>\n",
              "    <tr>\n",
              "      <th>4</th>\n",
              "      <td>2353.1</td>\n",
              "      <td>2353.9</td>\n",
              "      <td>2353.1</td>\n",
              "      <td>2353.6</td>\n",
              "      <td>231</td>\n",
              "      <td>-0.8</td>\n",
              "      <td>0.0</td>\n",
              "      <td>-0.5</td>\n",
              "      <td>2122.1</td>\n",
              "      <td>0.8</td>\n",
              "      <td>0.3</td>\n",
              "      <td>2122.9</td>\n",
              "      <td>-0.5</td>\n",
              "      <td>2122.1</td>\n",
              "      <td>2122.6</td>\n",
              "      <td>0.8</td>\n",
              "      <td>0.0</td>\n",
              "      <td>0.5</td>\n",
              "      <td>2122.1</td>\n",
              "      <td>0.8</td>\n",
              "      <td>0.3</td>\n",
              "      <td>2122.9</td>\n",
              "      <td>0.5</td>\n",
              "      <td>2122.1</td>\n",
              "      <td>2122.6</td>\n",
              "      <td>5538962.09</td>\n",
              "      <td>5537079.61</td>\n",
              "      <td>5538256.16</td>\n",
              "      <td>543566.1</td>\n",
              "      <td>5538962.09</td>\n",
              "      <td>5540139.04</td>\n",
              "      <td>543750.9</td>\n",
              "      <td>5538256.16</td>\n",
              "      <td>543566.1</td>\n",
              "      <td>543681.6</td>\n",
              "      <td>0.000425</td>\n",
              "      <td>0.000425</td>\n",
              "      <td>0.000425</td>\n",
              "      <td>0.000425</td>\n",
              "      <td>0.004329</td>\n",
              "      <td>-1.4</td>\n",
              "      <td>-0.3</td>\n",
              "      <td>-1.1</td>\n",
              "      <td>-0.1</td>\n",
              "      <td>1.9</td>\n",
              "      <td>2.1</td>\n",
              "      <td>-0.1</td>\n",
              "      <td>0.3</td>\n",
              "      <td>-532.0</td>\n",
              "      <td>-1038.0</td>\n",
              "    </tr>\n",
              "  </tbody>\n",
              "</table>\n",
              "</div>"
            ],
            "text/plain": [
              "     OPEN     MAX     MIN   CLOSE  VOLUME  ...   46   47   48      49      50\n",
              "0  2351.0  2355.8  2350.0  2350.0    2547  ...  NaN  NaN  NaN     NaN     NaN\n",
              "1  2352.9  2355.7  2350.0  2355.7     195  ...  NaN  5.7  NaN -2352.0     NaN\n",
              "2  2355.6  2356.0  2351.4  2354.1     257  ...  1.4 -1.6 -7.3    62.0  2414.0\n",
              "3  2354.5  2355.0  2351.2  2353.7     763  ... -1.6 -0.4  1.2   506.0   444.0\n",
              "4  2353.1  2353.9  2353.1  2353.6     231  ...  2.1 -0.1  0.3  -532.0 -1038.0\n",
              "\n",
              "[5 rows x 50 columns]"
            ]
          },
          "metadata": {},
          "execution_count": 10
        }
      ]
    },
    {
      "cell_type": "code",
      "metadata": {
        "id": "wZablq8TEwgr",
        "colab": {
          "base_uri": "https://localhost:8080/"
        },
        "outputId": "cd00eb3a-067c-4905-a003-7564f3abde77"
      },
      "source": [
        "data.shape"
      ],
      "execution_count": null,
      "outputs": [
        {
          "output_type": "execute_result",
          "data": {
            "text/plain": [
              "(481872, 50)"
            ]
          },
          "metadata": {},
          "execution_count": 11
        }
      ]
    },
    {
      "cell_type": "code",
      "metadata": {
        "id": "qpr6sBYqEwk3",
        "colab": {
          "base_uri": "https://localhost:8080/"
        },
        "outputId": "c7fd0d6f-d40c-48c0-a841-391cbb047fa0"
      },
      "source": [
        "data = data.dropna(axis=0)\n",
        "data.shape"
      ],
      "execution_count": null,
      "outputs": [
        {
          "output_type": "execute_result",
          "data": {
            "text/plain": [
              "(481870, 50)"
            ]
          },
          "metadata": {},
          "execution_count": 12
        }
      ]
    },
    {
      "cell_type": "code",
      "metadata": {
        "id": "Y4fMhQ9DEKdA",
        "colab": {
          "base_uri": "https://localhost:8080/"
        },
        "outputId": "e3485b63-e9b4-4f06-af29-3961a9cf8a19"
      },
      "source": [
        "data = np.array(data)\n",
        "print(len(data))"
      ],
      "execution_count": null,
      "outputs": [
        {
          "output_type": "stream",
          "text": [
            "481870\n"
          ],
          "name": "stdout"
        }
      ]
    },
    {
      "cell_type": "code",
      "metadata": {
        "id": "DRH-MLI4nWqH"
      },
      "source": [
        "xLen = 100\n",
        "valLen = 30000\n",
        "\n",
        "trainLen = data.shape[0] - valLen\n",
        "\n",
        "xTrain,xTest = data[:trainLen], data[trainLen+xLen+2:]\n",
        "\n",
        "xScaler = MinMaxScaler()\n",
        "xScaler.fit(xTrain)\n",
        "xTrain = xScaler.transform(xTrain)\n",
        "xTest = xScaler.transform(xTest)\n",
        "\n",
        "yTrain, yTest = np.reshape(data[:trainLen,3],(-1,1)), np.reshape(data[trainLen+xLen+2:,3],(-1,1)) \n",
        "yScaler = MinMaxScaler()\n",
        "yScaler.fit(yTrain)\n",
        "yTrain = yScaler.transform(yTrain)\n",
        "yTest = yScaler.transform(yTest)\n",
        "\n",
        "trainDatagen = TimeseriesGenerator(xTrain,yTrain,length=xLen,stride=1,sampling_rate=1,batch_size=20)\n",
        "testDatagen = TimeseriesGenerator(xTest,yTest,length=xLen,stride=1,batch_size=20)\n",
        "\n",
        "trainDatagen1 = TimeseriesGenerator(xTrain,yTrain,length=xLen,stride=10,sampling_rate=10,batch_size=20)\n",
        "testDatagen1 = TimeseriesGenerator(xTest,yTest,length=xLen,stride=10,batch_size=20)"
      ],
      "execution_count": null,
      "outputs": []
    },
    {
      "cell_type": "code",
      "metadata": {
        "colab": {
          "base_uri": "https://localhost:8080/"
        },
        "id": "Jp8HZeZIp9dH",
        "outputId": "6e2a037a-e6ae-4bfb-f3ed-9cff0a6e65f0"
      },
      "source": [
        "print(trainDatagen[0][0].shape,\n",
        "      trainDatagen[0][1].shape)\n",
        "print(trainDatagen1[0][0].shape,\n",
        "      trainDatagen1[0][1].shape)"
      ],
      "execution_count": null,
      "outputs": [
        {
          "output_type": "stream",
          "text": [
            "(20, 100, 50) (20, 1)\n",
            "(20, 10, 50) (20, 1)\n"
          ],
          "name": "stdout"
        }
      ]
    },
    {
      "cell_type": "code",
      "metadata": {
        "id": "drRfAA_pqMWX"
      },
      "source": [
        "def getPred(currModel, xVal, yVal, yScaler):\n",
        "  predVal = yScaler.inverse_transform(currModel.predict(xVal))\n",
        "  yValUnscaled = yScaler.inverse_transform(yVal)\n",
        "  return (predVal, yValUnscaled)"
      ],
      "execution_count": null,
      "outputs": []
    },
    {
      "cell_type": "code",
      "metadata": {
        "id": "SPuJdgAFw8Q4"
      },
      "source": [
        "def showPredict(start,step,channel,predVal,yValUnscaled):\n",
        "  plt.figure(figsize=(22,6))\n",
        "  plt.plot(predVal[start:start+step,0], label='Predict')\n",
        "  plt.plot(yValUnscaled[start:start+step, channel],label='Base')\n",
        "  plt.xlabel('Time')\n",
        "  plt.ylabel('Price of Close')\n",
        "  plt.legend()\n",
        "  plt.show()"
      ],
      "execution_count": null,
      "outputs": []
    },
    {
      "cell_type": "code",
      "metadata": {
        "id": "huatkhf4x1dF"
      },
      "source": [
        "def correlate(a,b):\n",
        "  ma = a.mean()\n",
        "  mb = b.mean()\n",
        "  mab = (a*b).mean()\n",
        "  sa = a.std()\n",
        "  sb = b.std()\n",
        "  val = 1\n",
        "  if ((sa>0) & (sb>0)):\n",
        "    val = (mab-ma*mb)/(sa*sb)\n",
        "  return val"
      ],
      "execution_count": null,
      "outputs": []
    },
    {
      "cell_type": "code",
      "metadata": {
        "id": "fzVcoY-Hyd2v"
      },
      "source": [
        "def showCorr(channels, corrSteps, predVal, yValUnscaled):\n",
        "  for ch in channels:\n",
        "    corr = []\n",
        "    yLen = yValUnscaled.shape[0]\n",
        "    for i in range(corrSteps):\n",
        "      corr.append(correlate(yValUnscaled[:yLen-i,ch], predVal[i:,0]))\n",
        "    own_corr = []\n",
        "    for i in range(corrSteps):\n",
        "      own_corr.append(correlate(yValUnscaled[:yLen-i,ch], yValUnscaled[i:, ch]))\n",
        "    plt.figure(figsize=(14,7))\n",
        "    plt.plot(corr, label=\"Predict on \" + str(ch+1) + ' stride')\n",
        "    plt.plot(own_corr, label='Ideal')\n",
        "  plt.xlabel(\"Time\")\n",
        "  plt.ylabel('Value')\n",
        "  plt.legend()\n",
        "  plt.show()"
      ],
      "execution_count": null,
      "outputs": []
    },
    {
      "cell_type": "code",
      "metadata": {
        "id": "-dnp9kPJz1-B"
      },
      "source": [
        "DataGen = TimeseriesGenerator(xTest,yTest,length=100,sampling_rate=1,batch_size=len(xTest))\n",
        "DataGen1 = TimeseriesGenerator(xTest,yTest,length=100,sampling_rate=10,batch_size=len(xTest))"
      ],
      "execution_count": null,
      "outputs": []
    },
    {
      "cell_type": "code",
      "metadata": {
        "id": "ZpkGfAbh0J8s"
      },
      "source": [
        "xVal = []\n",
        "yVal = []\n",
        "for i in DataGen:\n",
        "  xVal.append(i[0])\n",
        "  yVal.append(i[1])\n",
        "xVal = np.array(xVal)\n",
        "yVal = np.array(yVal)"
      ],
      "execution_count": null,
      "outputs": []
    },
    {
      "cell_type": "code",
      "metadata": {
        "id": "ksjOo0q30exs"
      },
      "source": [
        "xVal1 = []\n",
        "yVal1 = []\n",
        "for i in DataGen1:\n",
        "  xVal1.append(i[0])\n",
        "  yVal1.append(i[1])\n",
        "xVal1 = np.array(xVal)\n",
        "yVal1 = np.array(yVal)"
      ],
      "execution_count": null,
      "outputs": []
    },
    {
      "cell_type": "code",
      "metadata": {
        "colab": {
          "base_uri": "https://localhost:8080/"
        },
        "id": "A6Fxm4s60kuN",
        "outputId": "b7f3c397-1c62-4271-b66e-2eade32597b4"
      },
      "source": [
        "model = Sequential()\n",
        "model.add(LSTM(5,input_shape=(xLen,50)))\n",
        "model.add(Dense(10, activation='relu'))\n",
        "model.add(Dense(1, activation='linear'))\n",
        "model.compile(loss='mse', optimizer=Adam(lr=1e-5))\n",
        "model.summary()"
      ],
      "execution_count": null,
      "outputs": [
        {
          "output_type": "stream",
          "text": [
            "Model: \"sequential\"\n",
            "_________________________________________________________________\n",
            "Layer (type)                 Output Shape              Param #   \n",
            "=================================================================\n",
            "lstm (LSTM)                  (None, 5)                 1120      \n",
            "_________________________________________________________________\n",
            "dense (Dense)                (None, 10)                60        \n",
            "_________________________________________________________________\n",
            "dense_1 (Dense)              (None, 1)                 11        \n",
            "=================================================================\n",
            "Total params: 1,191\n",
            "Trainable params: 1,191\n",
            "Non-trainable params: 0\n",
            "_________________________________________________________________\n"
          ],
          "name": "stdout"
        }
      ]
    },
    {
      "cell_type": "code",
      "metadata": {
        "colab": {
          "base_uri": "https://localhost:8080/"
        },
        "id": "YgdoJwYD1lWg",
        "outputId": "f85d1ac3-613f-4b81-e599-6b131c78bb49"
      },
      "source": [
        "history = model.fit(trainDatagen,epochs=20,verbose=1,validation_data=testDatagen)"
      ],
      "execution_count": null,
      "outputs": [
        {
          "output_type": "stream",
          "text": [
            "Epoch 1/20\n",
            "22589/22589 [==============================] - 377s 16ms/step - loss: 0.0282 - val_loss: 2.4773e-04\n",
            "Epoch 2/20\n",
            "22589/22589 [==============================] - 368s 16ms/step - loss: 4.9075e-05 - val_loss: 3.0498e-05\n",
            "Epoch 3/20\n",
            "22589/22589 [==============================] - 369s 16ms/step - loss: 1.4753e-05 - val_loss: 1.5992e-05\n",
            "Epoch 4/20\n",
            "22589/22589 [==============================] - 368s 16ms/step - loss: 8.5174e-06 - val_loss: 1.1109e-05\n",
            "Epoch 5/20\n",
            "22589/22589 [==============================] - 370s 16ms/step - loss: 5.4826e-06 - val_loss: 6.8288e-06\n",
            "Epoch 6/20\n",
            "22589/22589 [==============================] - 368s 16ms/step - loss: 3.7715e-06 - val_loss: 4.8047e-06\n",
            "Epoch 7/20\n",
            "22589/22589 [==============================] - 372s 16ms/step - loss: 2.8838e-06 - val_loss: 3.0916e-06\n",
            "Epoch 8/20\n",
            "22589/22589 [==============================] - 378s 17ms/step - loss: 2.3626e-06 - val_loss: 2.6489e-06\n",
            "Epoch 9/20\n",
            "22589/22589 [==============================] - 371s 16ms/step - loss: 2.0473e-06 - val_loss: 2.4783e-06\n",
            "Epoch 10/20\n",
            "22589/22589 [==============================] - 369s 16ms/step - loss: 1.8249e-06 - val_loss: 2.1426e-06\n",
            "Epoch 11/20\n",
            "22589/22589 [==============================] - 371s 16ms/step - loss: 1.6605e-06 - val_loss: 1.9877e-06\n",
            "Epoch 12/20\n",
            "22589/22589 [==============================] - 370s 16ms/step - loss: 1.5244e-06 - val_loss: 1.8265e-06\n",
            "Epoch 13/20\n",
            "22589/22589 [==============================] - 372s 16ms/step - loss: 1.4291e-06 - val_loss: 1.6627e-06\n",
            "Epoch 14/20\n",
            "22589/22589 [==============================] - 372s 16ms/step - loss: 1.3488e-06 - val_loss: 1.6748e-06\n",
            "Epoch 15/20\n",
            "22589/22589 [==============================] - 373s 17ms/step - loss: 1.2717e-06 - val_loss: 1.4676e-06\n",
            "Epoch 16/20\n",
            "22589/22589 [==============================] - 371s 16ms/step - loss: 1.2227e-06 - val_loss: 3.7848e-06\n",
            "Epoch 17/20\n",
            "22589/22589 [==============================] - 371s 16ms/step - loss: 1.1695e-06 - val_loss: 1.3573e-06\n",
            "Epoch 18/20\n",
            "22589/22589 [==============================] - 370s 16ms/step - loss: 1.1256e-06 - val_loss: 1.3739e-06\n",
            "Epoch 19/20\n",
            "22589/22589 [==============================] - 371s 16ms/step - loss: 1.0865e-06 - val_loss: 1.2924e-06\n",
            "Epoch 20/20\n",
            "22589/22589 [==============================] - 370s 16ms/step - loss: 1.0586e-06 - val_loss: 1.3261e-06\n"
          ],
          "name": "stdout"
        }
      ]
    },
    {
      "cell_type": "code",
      "metadata": {
        "colab": {
          "base_uri": "https://localhost:8080/"
        },
        "id": "e0Z0B0sX18An",
        "outputId": "879c78ea-3972-4216-eb6f-935da6eb4c4a"
      },
      "source": [
        "history1 = model.fit(trainDatagen1,epochs=20,verbose=1,validation_data=testDatagen1)"
      ],
      "execution_count": null,
      "outputs": [
        {
          "output_type": "stream",
          "text": [
            "Epoch 1/20\n",
            "2259/2259 [==============================] - 12s 5ms/step - loss: 2.1434e-05 - val_loss: 0.0042\n",
            "Epoch 2/20\n",
            "2259/2259 [==============================] - 12s 5ms/step - loss: 8.2536e-06 - val_loss: 0.0040\n",
            "Epoch 3/20\n",
            "2259/2259 [==============================] - 12s 5ms/step - loss: 7.8670e-06 - val_loss: 0.0038\n",
            "Epoch 4/20\n",
            "2259/2259 [==============================] - 12s 5ms/step - loss: 7.7888e-06 - val_loss: 0.0038\n",
            "Epoch 5/20\n",
            "2259/2259 [==============================] - 12s 5ms/step - loss: 7.6734e-06 - val_loss: 0.0038\n",
            "Epoch 6/20\n",
            "2259/2259 [==============================] - 12s 5ms/step - loss: 7.6191e-06 - val_loss: 0.0039\n",
            "Epoch 7/20\n",
            "2259/2259 [==============================] - 12s 5ms/step - loss: 7.4734e-06 - val_loss: 0.0037\n",
            "Epoch 8/20\n",
            "2259/2259 [==============================] - 12s 5ms/step - loss: 7.4410e-06 - val_loss: 0.0037\n",
            "Epoch 9/20\n",
            "2259/2259 [==============================] - 12s 5ms/step - loss: 7.4001e-06 - val_loss: 0.0037\n",
            "Epoch 10/20\n",
            "2259/2259 [==============================] - 12s 5ms/step - loss: 7.3315e-06 - val_loss: 0.0037\n",
            "Epoch 11/20\n",
            "2259/2259 [==============================] - 12s 5ms/step - loss: 7.3538e-06 - val_loss: 0.0036\n",
            "Epoch 12/20\n",
            "2259/2259 [==============================] - 12s 5ms/step - loss: 7.2563e-06 - val_loss: 0.0036\n",
            "Epoch 13/20\n",
            "2259/2259 [==============================] - 12s 5ms/step - loss: 7.2683e-06 - val_loss: 0.0037\n",
            "Epoch 14/20\n",
            "2259/2259 [==============================] - 12s 5ms/step - loss: 7.2611e-06 - val_loss: 0.0036\n",
            "Epoch 15/20\n",
            "2259/2259 [==============================] - 12s 5ms/step - loss: 7.2045e-06 - val_loss: 0.0035\n",
            "Epoch 16/20\n",
            "2259/2259 [==============================] - 12s 5ms/step - loss: 7.1794e-06 - val_loss: 0.0036\n",
            "Epoch 17/20\n",
            "2259/2259 [==============================] - 12s 5ms/step - loss: 7.1490e-06 - val_loss: 0.0036\n",
            "Epoch 18/20\n",
            "2259/2259 [==============================] - 12s 5ms/step - loss: 7.0643e-06 - val_loss: 0.0035\n",
            "Epoch 19/20\n",
            "2259/2259 [==============================] - 12s 5ms/step - loss: 7.0452e-06 - val_loss: 0.0036\n",
            "Epoch 20/20\n",
            "2259/2259 [==============================] - 12s 5ms/step - loss: 7.0784e-06 - val_loss: 0.0034\n"
          ],
          "name": "stdout"
        }
      ]
    },
    {
      "cell_type": "code",
      "metadata": {
        "colab": {
          "base_uri": "https://localhost:8080/",
          "height": 439
        },
        "id": "wDUGEKqB2pC_",
        "outputId": "d2e608bd-d193-4b1e-db2c-7cab09dfbcd0"
      },
      "source": [
        "plt.figure(figsize=(14,7))\n",
        "plt.plot(history.history['loss'][3:],label='mean mistake on train set')\n",
        "plt.plot(history.history['val_loss'][3:], label='mean mistake on test set')\n",
        "plt.ylabel('Mean Mistake')\n",
        "plt.legend()\n",
        "plt.show()"
      ],
      "execution_count": null,
      "outputs": [
        {
          "output_type": "display_data",
          "data": {
            "image/png": "[encoded data removed]",
            "text/plain": [
              "<Figure size 1008x504 with 1 Axes>"
            ]
          },
          "metadata": {
            "needs_background": "light"
          }
        }
      ]
    },
    {
      "cell_type": "code",
      "metadata": {
        "colab": {
          "base_uri": "https://localhost:8080/",
          "height": 428
        },
        "id": "ev0CRygF3Wdf",
        "outputId": "666dc6c9-5480-4946-d41c-6d04fa6eba06"
      },
      "source": [
        "plt.figure(figsize=(14,7))\n",
        "plt.plot(history1.history['loss'][3:],label='mean mistake on train set')\n",
        "plt.plot(history1.history['val_loss'][3:], label='mean mistake on test set')\n",
        "plt.ylabel('Mean Mistake')\n",
        "plt.legend()\n",
        "plt.show()"
      ],
      "execution_count": null,
      "outputs": [
        {
          "output_type": "display_data",
          "data": {
            "image/png": "[encoded data removed]",
            "text/plain": [
              "<Figure size 1008x504 with 1 Axes>"
            ]
          },
          "metadata": {
            "needs_background": "light"
          }
        }
      ]
    },
    {
      "cell_type": "code",
      "metadata": {
        "colab": {
          "base_uri": "https://localhost:8080/",
          "height": 375
        },
        "id": "GwhoMd5p3-gL",
        "outputId": "c5bb0d22-2bcd-4c24-c85e-19ff74c9341d"
      },
      "source": [
        "(predVal,yValUnscaled) = getPred(model, xVal[0],yVal[0],yScaler)\n",
        "showPredict(0,160,0,predVal,yValUnscaled)"
      ],
      "execution_count": null,
      "outputs": [
        {
          "output_type": "display_data",
          "data": {
            "image/png": "[encoded data removed]",
            "text/plain": [
              "<Figure size 1584x432 with 1 Axes>"
            ]
          },
          "metadata": {
            "needs_background": "light"
          }
        }
      ]
    },
    {
      "cell_type": "code",
      "metadata": {
        "colab": {
          "base_uri": "https://localhost:8080/",
          "height": 375
        },
        "id": "fTwQ2PLE4FIh",
        "outputId": "57f1a7c5-f589-41e4-ae70-c8c15ebbfc08"
      },
      "source": [
        "(predVal1,yValUnscaled1) = getPred(model, xVal1[0],yVal1[0],yScaler)\n",
        "showPredict(0,160,0,predVal1,yValUnscaled1)"
      ],
      "execution_count": null,
      "outputs": [
        {
          "output_type": "display_data",
          "data": {
            "image/png": "[encoded data removed]",
            "text/plain": [
              "<Figure size 1584x432 with 1 Axes>"
            ]
          },
          "metadata": {
            "needs_background": "light"
          }
        }
      ]
    },
    {
      "cell_type": "code",
      "metadata": {
        "colab": {
          "base_uri": "https://localhost:8080/",
          "height": 442
        },
        "id": "ui_dOiWc4MW9",
        "outputId": "4479dbbe-b25a-4d31-b965-47d0d3513cf0"
      },
      "source": [
        "showCorr([0], 10, predVal, yValUnscaled)"
      ],
      "execution_count": null,
      "outputs": [
        {
          "output_type": "display_data",
          "data": {
            "image/png": "[encoded data removed]",
            "text/plain": [
              "<Figure size 1008x504 with 1 Axes>"
            ]
          },
          "metadata": {
            "needs_background": "light"
          }
        }
      ]
    },
    {
      "cell_type": "code",
      "metadata": {
        "colab": {
          "base_uri": "https://localhost:8080/",
          "height": 442
        },
        "id": "HbO1EV9Q4VWe",
        "outputId": "029c04f1-f3e6-4db9-de09-517ee3a05a7c"
      },
      "source": [
        "showCorr([0], 10, predVal1, yValUnscaled1)"
      ],
      "execution_count": null,
      "outputs": [
        {
          "output_type": "display_data",
          "data": {
            "image/png": "[encoded data removed]",
            "text/plain": [
              "<Figure size 1008x504 with 1 Axes>"
            ]
          },
          "metadata": {
            "needs_background": "light"
          }
        }
      ]
    },
    {
      "cell_type": "code",
      "metadata": {
        "colab": {
          "base_uri": "https://localhost:8080/",
          "height": 375
        },
        "id": "UmjM2nx54boU",
        "outputId": "87dc9694-11cc-46a1-ee76-e5f5dd2caaaa"
      },
      "source": [
        "(predVal, yValUnscaled) = getPred(model, xVal[0], yVal[0], yScaler)\n",
        "showPredict(0, 160, 0, predVal[1:], yValUnscaled[:-1])"
      ],
      "execution_count": null,
      "outputs": [
        {
          "output_type": "display_data",
          "data": {
            "image/png": "[encoded data removed]",
            "text/plain": [
              "<Figure size 1584x432 with 1 Axes>"
            ]
          },
          "metadata": {
            "needs_background": "light"
          }
        }
      ]
    },
    {
      "cell_type": "code",
      "metadata": {
        "colab": {
          "base_uri": "https://localhost:8080/",
          "height": 375
        },
        "id": "-M7cZeGm4rEy",
        "outputId": "c8aaadd0-1117-44ae-e0a5-868be5f834a0"
      },
      "source": [
        "(predVal1, yValUnscaled1) = getPred(model, xVal1[0], yVal1[0], yScaler)\n",
        "showPredict(0, 160, 0, predVal1[1:], yValUnscaled1[:-1])"
      ],
      "execution_count": null,
      "outputs": [
        {
          "output_type": "display_data",
          "data": {
            "image/png": "[encoded data removed]",
            "text/plain": [
              "<Figure size 1584x432 with 1 Axes>"
            ]
          },
          "metadata": {
            "needs_background": "light"
          }
        }
      ]
    }
  ]
}