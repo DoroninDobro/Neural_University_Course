{
  "nbformat": 4,
  "nbformat_minor": 0,
  "metadata": {
    "colab": {
      "name": "TW_3_Convolutional_Neural_Networks.ipynb",
      "provenance": [],
      "collapsed_sections": [],
      "machine_shape": "hm"
    },
    "kernelspec": {
      "name": "python3",
      "display_name": "Python 3"
    },
    "accelerator": "GPU"
  },
  "cells": [
    {
      "cell_type": "markdown",
      "metadata": {
        "id": "b7CgXf3PW-7S",
        "colab_type": "text"
      },
      "source": [
        "*Теоретический материал:* https://youtu.be/shzJQxepN-s?t=868"
      ]
    },
    {
      "cell_type": "markdown",
      "metadata": {
        "id": "a4DAOEtDLMOY",
        "colab_type": "text"
      },
      "source": [
        "**Распознавание изображений из набора данных MNIST, CIFAR-10 и базы автомобилей с помощью свёрточных нейронных сетей**\n",
        "---\n",
        "\n",
        "*Разбор данного раздела:* https://youtu.be/shzJQxepN-s?t=3486\n",
        "\n",
        "Чтобы запускать и редактировать код, сохраните копию этого ноутбука себе (File->Save a copy in Drive...). Свою копию вы сможете изменять и запускать.\n",
        "\n"
      ]
    },
    {
      "cell_type": "markdown",
      "metadata": {
        "id": "y-LN-dZhMNj7",
        "colab_type": "text"
      },
      "source": [
        "**Иморт библиотек для работы всего ноутбука**"
      ]
    },
    {
      "cell_type": "code",
      "metadata": {
        "id": "3b4wMrfQKe2l",
        "colab_type": "code",
        "colab": {}
      },
      "source": [
        "from tensorflow.keras.datasets import mnist #Загружаем базу mnist\n",
        "from tensorflow.keras.datasets import cifar10 #Загружаем базу cifar10\n",
        "from tensorflow.keras.datasets import cifar100 #Загружаем базу cifar100\n",
        "\n",
        "from tensorflow.keras.models import Sequential #Сеть прямого распространения\n",
        "#Базовые слои для счёрточных сетей\n",
        "from tensorflow.keras.layers import Dense, Conv2D, MaxPooling2D, Flatten, Dropout, BatchNormalization\n",
        "from tensorflow.python.keras.preprocessing.image import ImageDataGenerator # работа с изображениями\n",
        "from tensorflow.keras.optimizers import Adam, Adadelta # оптимизаторы\n",
        "from tensorflow.keras import utils #Используем дял to_categoricall\n",
        "from tensorflow.keras.preprocessing import image #Для отрисовки изображений\n",
        "from google.colab import files #Для загрузки своей картинки\n",
        "import numpy as np #Библиотека работы с массивами\n",
        "import matplotlib.pyplot as plt #Для отрисовки графиков\n",
        "from PIL import Image #Для отрисовки изображений\n",
        "import random #Для генерации случайных чисел \n",
        "import math # Для округления\n",
        "import os #Для работы с файлами \n",
        "# подключем диск\n",
        "from google.colab import drive\n",
        "\n",
        "%matplotlib inline"
      ],
      "execution_count": 0,
      "outputs": []
    },
    {
      "cell_type": "code",
      "metadata": {
        "id": "92GfFwVWXB7z",
        "colab_type": "code",
        "colab": {}
      },
      "source": [
        "from google.colab import drive\n",
        "drive.mount('/content/drive')"
      ],
      "execution_count": 0,
      "outputs": []
    },
    {
      "cell_type": "markdown",
      "metadata": {
        "id": "7A0tdANyLCPs",
        "colab_type": "text"
      },
      "source": [
        "# Распознавание изображений из набора данных MNIST \n"
      ]
    },
    {
      "cell_type": "markdown",
      "metadata": {
        "id": "a-cggImwMCQP",
        "colab_type": "text"
      },
      "source": [
        "**Подготовка данных**\n",
        "\n",
        "*Разбор данного раздела:* https://youtu.be/shzJQxepN-s?t=3575"
      ]
    },
    {
      "cell_type": "code",
      "metadata": {
        "id": "_PT1LV_KMVto",
        "colab_type": "code",
        "colab": {}
      },
      "source": [
        "#Загружаем MNIST\n",
        "(x_train, y_train), (x_test, y_test) = mnist.load_data()"
      ],
      "execution_count": 0,
      "outputs": []
    },
    {
      "cell_type": "code",
      "metadata": {
        "id": "vNoGJvE_M3YW",
        "colab_type": "code",
        "outputId": "b3c74b94-25ff-4684-8472-b7353cc0455c",
        "colab": {
          "base_uri": "https://localhost:8080/",
          "height": 168
        }
      },
      "source": [
        "#Выводим для примера картинки по каждому классу\n",
        "\n",
        "fig, axs = plt.subplots(1, 10, figsize=(25, 3)) #Создаем полотно из 10 графиков\n",
        "for i in range(10): #Проходим по классам от 0 до 9\n",
        "  label_indexes = np.where(y_train==i)[0] #Получаем список из индексов положений класса i в y_train\n",
        "  index = random.choice(label_indexes) #Случайным образом выбираем из списка индекс\n",
        "  img = x_train[index] #Выбираем из x_train нужное изображение\n",
        "  axs[i].imshow(Image.fromarray(img), cmap='gray') #Отображаем изображение i-ым графиков\n",
        "\n",
        "plt.show() #Показываем изображения"
      ],
      "execution_count": 0,
      "outputs": [
        {
          "output_type": "display_data",
          "data": {
            "image/png": "[encoded data removed]",
            "text/plain": [
              "<Figure size 1800x216 with 10 Axes>"
            ]
          },
          "metadata": {
            "tags": [],
            "needs_background": "light"
          }
        }
      ]
    },
    {
      "cell_type": "code",
      "metadata": {
        "id": "ti92Kvp3NX61",
        "colab_type": "code",
        "colab": {}
      },
      "source": [
        "#Превращаем y_train и y_test сетей в формат one hot encoding\n",
        "y_train = utils.to_categorical(y_train, 10)\n",
        "y_test = utils.to_categorical(y_test, 10)\n",
        "\n",
        "#Меняем формат данных MNIST\n",
        "#Надо добавить в конце размерность 1\n",
        "#Чтобы свёрточная сеть понимала, что это чёрно-белые данные\n",
        "x_train = x_train.reshape(x_train.shape[0], 28, 28, 1)\n",
        "x_test = x_test.reshape(x_test.shape[0], 28, 28, 1)"
      ],
      "execution_count": 0,
      "outputs": []
    },
    {
      "cell_type": "code",
      "metadata": {
        "id": "tZwKJRB7dW3q",
        "colab_type": "code",
        "colab": {}
      },
      "source": [
        "# Посмотрим форматы выборок перед обучением\n",
        "print(x_train.shape)\n",
        "print(x_test.shape)\n",
        "print(y_train.shape)\n",
        "print(y_test.shape)"
      ],
      "execution_count": 0,
      "outputs": []
    },
    {
      "cell_type": "markdown",
      "metadata": {
        "colab_type": "text",
        "id": "P93UbJvKSEAX"
      },
      "source": [
        "**Нейронная сеть**\n",
        "\n",
        "*Разбор данного раздела:* https://youtu.be/shzJQxepN-s?t=3677"
      ]
    },
    {
      "cell_type": "code",
      "metadata": {
        "id": "5YioYV0CPY7B",
        "colab_type": "code",
        "colab": {}
      },
      "source": [
        "#задаём batch_size\n",
        "batch_size = 128 \n",
        "\n",
        "#Создаем последовательную модель\n",
        "model = Sequential()\n",
        "#Слой пакетной нормализации\n",
        "model.add(BatchNormalization(input_shape=(28, 28, 1)))\n",
        "#Первый сверточный слой\n",
        "model.add(Conv2D(32, (3, 3), padding='same', activation='relu'))\n",
        "#Второй сверточный слой\n",
        "model.add(Conv2D(32, (3, 3), padding='same', activation='relu'))\n",
        "#Первый слой подвыборки\n",
        "model.add(MaxPooling2D(pool_size=(2, 2)))\n",
        "#Слой регуляризации Dropout\n",
        "model.add(Dropout(0.25))\n",
        "\n",
        "model.add(Flatten())\n",
        "#Полносвязный слой для классификации\n",
        "model.add(Dense(256, activation='relu'))\n",
        "#Слой регуляризации Dropout\n",
        "model.add(Dropout(0.25))\n",
        "#Выходной полносвязный слой\n",
        "model.add(Dense(10, activation='softmax'))\n",
        "\n",
        "#Компилируем сеть\n",
        "model.compile(loss=\"categorical_crossentropy\", optimizer=\"adam\", metrics=[\"accuracy\"])\n",
        "\n",
        "#Обучаем сеть на данных mnist\n",
        "history = model.fit(x_train, \n",
        "                    y_train, \n",
        "                    batch_size=batch_size, \n",
        "                    epochs=15,\n",
        "                    validation_data=(x_test, y_test),\n",
        "                    verbose=1)\n",
        "\n",
        "#Отображаем график точности обучения\n",
        "plt.plot(history.history['accuracy'], \n",
        "         label='Доля верных ответов на обучающем наборе')\n",
        "plt.plot(history.history['val_accuracy'], \n",
        "         label='Доля верных ответов на проверочном наборе')\n",
        "plt.xlabel('Эпоха обучения')\n",
        "plt.ylabel('Доля верных ответов')\n",
        "plt.legend()\n",
        "plt.show()"
      ],
      "execution_count": 0,
      "outputs": []
    },
    {
      "cell_type": "code",
      "metadata": {
        "id": "3DJfoivkXWpq",
        "colab_type": "code",
        "colab": {}
      },
      "source": [
        "model.summary()"
      ],
      "execution_count": 0,
      "outputs": []
    },
    {
      "cell_type": "markdown",
      "metadata": {
        "colab_type": "text",
        "id": "NEJGx4VISN2w"
      },
      "source": [
        "**Определение цифр из тестовой выборки**\n",
        "\n",
        "*Разбор данного раздела:* https://youtu.be/shzJQxepN-s?t=5746"
      ]
    },
    {
      "cell_type": "code",
      "metadata": {
        "id": "X2_KF-b0ar3i",
        "colab_type": "code",
        "colab": {}
      },
      "source": [
        "#Выбираем номер пример\n",
        "n = 2020\n",
        "#Получаем выход сети на этом примере\n",
        "prediction = model.predict(x_test)\n",
        "\n",
        "#Выводим на экран результаты\n",
        "print(\"Выход сети: \", prediction[n])\n",
        "print(\"Распознанная цифра: \", np.argmax(prediction[n]))\n",
        "print(\"Верный ответ: \", np.argmax(y_test[n]))"
      ],
      "execution_count": 0,
      "outputs": []
    },
    {
      "cell_type": "markdown",
      "metadata": {
        "colab_type": "text",
        "id": "Y7e0r2CqanQl"
      },
      "source": [
        "**Определение цифр на реальных фотографиях**"
      ]
    },
    {
      "cell_type": "code",
      "metadata": {
        "id": "5Q9R7u5NTYMl",
        "colab_type": "code",
        "colab": {}
      },
      "source": [
        "!unzip '/content/drive/My Drive/Занятия/Апрельский курс 2020/Занятие №3/digits.zip' #Извлечем файлы из архива"
      ],
      "execution_count": 0,
      "outputs": []
    },
    {
      "cell_type": "code",
      "metadata": {
        "id": "sYIGO_QciOZ6",
        "colab_type": "code",
        "colab": {}
      },
      "source": [
        "#Выводим для примера картинки по каждому классу\n",
        "\n",
        "def change_contrast(img, factor): #Функция для увеличения контрастности \n",
        "    def contrast(pixel): #Функция для изменения цвета пикселя\n",
        "    #Изменяем цвет каждого пикселя следующим образом. \n",
        "    #Если цвет пикслея в численной мере меньше 128, то значение будет уменьшаться \n",
        "    #на меру factor * (pixel - 128). Иначе - увеличиваться на эту меру\n",
        "    #Очевидно, что чем сильнее цвет отличен от 128, тем сильнее он изменится\n",
        "        return 128 + factor * (pixel - 128) \n",
        "    return img.point(contrast)\n",
        "\n",
        "xTestReal = [] #Создаем x_test для загруженных картинок\n",
        "yTestReal = [] #Создаем y_test для классов изображений\n",
        "\n",
        "for i in range(10): #Проходим по классам от 0 до 9\n",
        "  img_path = 'digits/' + str(i) + '.png' #Определяем имя изображения\n",
        "  #Загружаем изображение, изменяя его размер на размер входного массива нейросети\n",
        "  #Другими словами, подгоняем изображение к размеру картинок, на которых обучалась сеть\n",
        "  #Указываем grayscale=True для того, чтобы цвет пиксяля задавался одним числом\n",
        "  img = image.load_img(img_path, grayscale=True, target_size=(28, 28))\n",
        "  img1 = change_contrast(img, factor=5.0) #Увеличиваем контрастность изображения\n",
        "  xTestReal.append(255 - np.asarray(img1)) #Инвертируем изображение и добавляем в выборку\n",
        "  yTestReal.append(i) #Добавляем в y_train номера классов\n",
        "\n",
        "xTestReal = np.array(xTestReal) #Преобразуем в Numpy array\n",
        "yTestReal = np.array(yTestReal) #Преобразуем в Numpy array"
      ],
      "execution_count": 0,
      "outputs": []
    },
    {
      "cell_type": "code",
      "metadata": {
        "id": "Yn34RXU7iYSx",
        "colab_type": "code",
        "colab": {}
      },
      "source": [
        "#Выводим для примера картинки по каждому классу\n",
        "\n",
        "fig, axs = plt.subplots(1, 10, figsize=(25, 3)) #Создаем полотно из 10 графиков\n",
        "for i in range(10): #Проходим по классам от 0 до 9\n",
        "  axs[i].imshow(Image.fromarray(xTestReal[i]), cmap='gray') #Конвертируем изображение в черно-белый формат и отображаем i-ым графиков\n",
        "\n",
        "plt.show() #Показываем изображения"
      ],
      "execution_count": 0,
      "outputs": []
    },
    {
      "cell_type": "code",
      "metadata": {
        "id": "JiiBmJmKlJ4K",
        "colab_type": "code",
        "colab": {}
      },
      "source": [
        "#Меняем формат данных, как делали это с выборкой MNIST\n",
        "xTestReal = xTestReal.reshape(xTestReal.shape[0], 28, 28, 1)"
      ],
      "execution_count": 0,
      "outputs": []
    },
    {
      "cell_type": "code",
      "metadata": {
        "id": "add24c0KW_cQ",
        "colab_type": "code",
        "colab": {}
      },
      "source": [
        "xTestReal.shape #Посмотрим на размер массива, чтобы убедиться, что все сделали правильно"
      ],
      "execution_count": 0,
      "outputs": []
    },
    {
      "cell_type": "code",
      "metadata": {
        "id": "ZSzmaDWnmWCW",
        "colab_type": "code",
        "colab": {}
      },
      "source": [
        "prediction = model.predict(xTestReal) #Классифицируем каждое изображение\n",
        "for i in range(10): #Проходим по картинкам\n",
        "  #Вводим результаты на экран\n",
        "  print(\"Распознанный образ:\", np.argmax(prediction[i]), '. Верный ответ', yTestReal[i])"
      ],
      "execution_count": 0,
      "outputs": []
    },
    {
      "cell_type": "markdown",
      "metadata": {
        "id": "9IYEGRTWcIMa",
        "colab_type": "text"
      },
      "source": [
        "# Распознавание изображений из набора данных Cifar10\n",
        "\n",
        "*Разбор данного раздела:* https://youtu.be/shzJQxepN-s?t=5890"
      ]
    },
    {
      "cell_type": "code",
      "metadata": {
        "colab_type": "code",
        "id": "SbNV5Ql3cdB4",
        "colab": {}
      },
      "source": [
        "#Загружаем cifar10\n",
        "(x_train10, y_train10), (x_test10, y_test10) = cifar10.load_data()"
      ],
      "execution_count": 0,
      "outputs": []
    },
    {
      "cell_type": "code",
      "metadata": {
        "id": "mYazuCsYcr7F",
        "colab_type": "code",
        "colab": {}
      },
      "source": [
        "#Определяем названия классов по порядку\n",
        "classes = ['самолет', 'автомобиль', 'птица', 'кот', 'олень', 'собака', 'лягушка', 'лошадь', 'корабль', 'грузовик']"
      ],
      "execution_count": 0,
      "outputs": []
    },
    {
      "cell_type": "code",
      "metadata": {
        "colab_type": "code",
        "id": "k_MZdoqTcdB6",
        "colab": {}
      },
      "source": [
        "#Выводим для примера картинки по каждому классу\n",
        "\n",
        "fig, axs = plt.subplots(1, 10, figsize=(25, 3)) #Создаем полотно из 10 графиков\n",
        "for i in range(10): #Проходим по классам от 0 до 9\n",
        "  label_indexes = np.where(y_train10==i)[0] #Получаем список из индексов положений класса i в y_train\n",
        "  index = random.choice(label_indexes) #Случайным образом выбираем из списка индекс\n",
        "  img = x_train10[index] #Выбираем из x_train нужное изображение\n",
        "  axs[i].imshow(Image.fromarray(img)) #Отображаем изображение i-ым графиков\n",
        "\n",
        "plt.show() #Показываем изображения"
      ],
      "execution_count": 0,
      "outputs": []
    },
    {
      "cell_type": "code",
      "metadata": {
        "colab_type": "code",
        "id": "B6gZ7EcUcdB9",
        "colab": {}
      },
      "source": [
        "#Превращаем y_train и y_test сетей в формат one hot encoding\n",
        "y_train10 = utils.to_categorical(y_train10, 10)\n",
        "y_test10 = utils.to_categorical(y_test10, 10)"
      ],
      "execution_count": 0,
      "outputs": []
    },
    {
      "cell_type": "code",
      "metadata": {
        "id": "dXTrB8-TdL-1",
        "colab_type": "code",
        "colab": {}
      },
      "source": [
        "# Посмотрим размеры выборок перед обучением\n",
        "print(x_train10.shape)\n",
        "print(x_test10.shape)\n",
        "print(y_train10.shape)\n",
        "print(y_test10.shape)"
      ],
      "execution_count": 0,
      "outputs": []
    },
    {
      "cell_type": "markdown",
      "metadata": {
        "colab_type": "text",
        "id": "dpqHnjMjcdCA"
      },
      "source": [
        "**Нейронная сеть**\n",
        "\n",
        "*Разбор данного раздела:* https://youtu.be/shzJQxepN-s?t=5991"
      ]
    },
    {
      "cell_type": "code",
      "metadata": {
        "id": "PPfxYVf1duG2",
        "colab_type": "code",
        "colab": {}
      },
      "source": [
        "#задаём batch_size\n",
        "batch_size = 128 \n",
        "\n",
        "#Создаем последовательную модель\n",
        "model = Sequential()\n",
        "#Слой пакетной нормализации\n",
        "model.add(BatchNormalization(input_shape=(32, 32, 3)))\n",
        "#Первый сверточный слой\n",
        "model.add(Conv2D(32, (3, 3), padding='same', activation='relu'))\n",
        "#Второй сверточный слой\n",
        "model.add(Conv2D(32, (3, 3), padding='same', activation='relu'))\n",
        "#Первый слой подвыборки\n",
        "model.add(MaxPooling2D(pool_size=(2, 2)))\n",
        "#Слой регуляризации Dropout\n",
        "model.add(Dropout(0.25))\n",
        "\n",
        "#Слой пакетной нормализации\n",
        "model.add(BatchNormalization())\n",
        "#Третий сверточный слой\n",
        "model.add(Conv2D(64, (3, 3), padding='same', activation='relu'))\n",
        "#Четвертый сверточный слой\n",
        "model.add(Conv2D(64, (3, 3), padding='same', activation='relu'))\n",
        "#Второй слой подвыборки\n",
        "model.add(MaxPooling2D(pool_size=(2, 2)))\n",
        "#Слой регуляризации Dropout\n",
        "model.add(Dropout(0.25))\n",
        "\n",
        "#Слой пакетной нормализации\n",
        "model.add(BatchNormalization())\n",
        "#Пятый сверточный слой\n",
        "model.add(Conv2D(128, (3, 3), padding='same', activation='relu'))\n",
        "#Шестой сверточный слой\n",
        "model.add(Conv2D(128, (3, 3), padding='same', activation='relu'))\n",
        "#Третий слой подвыборки\n",
        "model.add(MaxPooling2D(pool_size=(2, 2)))\n",
        "#Слой регуляризации Dropout\n",
        "model.add(Dropout(0.25))\n",
        "\n",
        "#Слой преобразования данных из 2D представления в плоское\n",
        "model.add(Flatten())\n",
        "#Полносвязный слой для классификации\n",
        "model.add(Dense(512, activation='relu'))\n",
        "#Слой регуляризации Dropout\n",
        "model.add(Dropout(0.25))\n",
        "#Выходной полносвязный слой\n",
        "model.add(Dense(10, activation='softmax'))\n",
        "\n",
        "#Компилируем сеть\n",
        "model.compile(loss=\"categorical_crossentropy\", optimizer=\"adam\", metrics=[\"accuracy\"])\n",
        "\n",
        "#Обучаем сеть на данных cifar10\n",
        "history = model.fit(x_train10, \n",
        "                    y_train10, \n",
        "                    batch_size=batch_size, \n",
        "                    epochs=20,\n",
        "                    validation_data=(x_test10, y_test10),\n",
        "                    verbose=1)\n",
        "\n",
        "#Оображаем график точности обучения\n",
        "plt.plot(history.history['accuracy'], \n",
        "         label='Доля верных ответов на обучающем наборе')\n",
        "plt.plot(history.history['val_accuracy'], \n",
        "         label='Доля верных ответов на проверочном наборе')\n",
        "plt.xlabel('Эпоха обучения')\n",
        "plt.ylabel('Доля верных ответов')\n",
        "plt.legend()\n",
        "plt.show()"
      ],
      "execution_count": 0,
      "outputs": []
    },
    {
      "cell_type": "markdown",
      "metadata": {
        "colab_type": "text",
        "id": "WwjAVmaZgbLd"
      },
      "source": [
        "**Определение изображений из тестовой выборки**\n",
        "\n",
        "*Разбор данного раздела:* https://youtu.be/shzJQxepN-s?t=6616"
      ]
    },
    {
      "cell_type": "code",
      "metadata": {
        "id": "qTQEhiM1hV3l",
        "colab_type": "code",
        "colab": {}
      },
      "source": [
        "#Распознаём все тестовые картинки\n",
        "prediction = model.predict(x_test10)"
      ],
      "execution_count": 0,
      "outputs": []
    },
    {
      "cell_type": "code",
      "metadata": {
        "colab_type": "code",
        "id": "oaF1locAgbLf",
        "colab": {}
      },
      "source": [
        "#Выбираем номер пример\n",
        "n = 2027\n",
        "\n",
        "#Выводим на экран картинку\n",
        "plt.imshow(Image.fromarray(x_test10[n]).convert('RGBA'))\n",
        "plt.show()\n",
        "\n",
        "#Выводим на экран результаты\n",
        "print(\"Выход сети: \", prediction[n])\n",
        "print(\"Распознанный образ: \", np.argmax(prediction[n]))\n",
        "print(\"Верный ответ: \", y_test10[n])\n",
        "print(\"Распознанный браз на картинке: \", classes[np.argmax(prediction[n])])"
      ],
      "execution_count": 0,
      "outputs": []
    },
    {
      "cell_type": "markdown",
      "metadata": {
        "colab_type": "text",
        "id": "GPoBbKQ_gbLh"
      },
      "source": [
        "**Определение фотографий из интернета**\n",
        "\n",
        "*Разбор данного раздела:* https://youtu.be/shzJQxepN-s?t=6679"
      ]
    },
    {
      "cell_type": "code",
      "metadata": {
        "colab_type": "code",
        "id": "Vtny_0yLgbLk",
        "colab": {}
      },
      "source": [
        "!unzip '/content/drive/My Drive/Занятия/Апрельский курс 2020/Занятие №3/Images.zip' #Извлечем файлы из архива"
      ],
      "execution_count": 0,
      "outputs": []
    },
    {
      "cell_type": "code",
      "metadata": {
        "colab_type": "code",
        "id": "DKnHpPMbgbLl",
        "colab": {}
      },
      "source": [
        "#Выводим для примера картинки по каждому классу\n",
        "\n",
        "xTestReal10 = [] #Создаем x_test для загруженных картинок\n",
        "yTestReal10 = [] #Создаем y_test для классов изображений\n",
        "\n",
        "for i in range(10): #Проходим по классам от 0 до 9\n",
        "  img_path = 'Images/' + str(i) + '.jpg' #Определяем имя изображения\n",
        "  #Загружаем изображение, изменяя его размер на размер входного массива нейросети\n",
        "  #Другими словами, подгоняем изображение к размеру картинок, на которых обучалась сеть\n",
        "\n",
        "  xTestReal10.append(np.asarray(image.load_img(img_path, grayscale=False, target_size=(32, 32)))) #Добавляем изображение в выборку\n",
        "  yTestReal10.append(i) #Добавляем в y номера классов\n",
        "\n",
        "xTestReal10 = np.array(xTestReal10) #Преобразуем в Numpy array\n",
        "yTestReal10 = np.array(yTestReal10) #Преобразуем в Numpy array"
      ],
      "execution_count": 0,
      "outputs": []
    },
    {
      "cell_type": "code",
      "metadata": {
        "colab_type": "code",
        "id": "Ts9127ttgbLn",
        "colab": {}
      },
      "source": [
        "#Выводим для примера картинки по каждому классу\n",
        "\n",
        "fig, axs = plt.subplots(1, 10, figsize=(25, 3)) #Создаем полотно из 10 графиков\n",
        "for i in range(10): #Проходим по классам от 0 до 9\n",
        "  axs[i].imshow(Image.fromarray(xTestReal10[i]).convert('RGB')) #Конвертируем изображение в черно-белый формат и отображаем i-ым графиков\n",
        "\n",
        "plt.show() #Показываем изображения"
      ],
      "execution_count": 0,
      "outputs": []
    },
    {
      "cell_type": "code",
      "metadata": {
        "colab_type": "code",
        "id": "SIQ9AZ-BgbLq",
        "colab": {}
      },
      "source": [
        "xTestReal10.shape #Посмотрим на размер массива, чтобы убедиться, что все сделали правильно"
      ],
      "execution_count": 0,
      "outputs": []
    },
    {
      "cell_type": "code",
      "metadata": {
        "colab_type": "code",
        "id": "oGr2CYjTgbLs",
        "colab": {}
      },
      "source": [
        "prediction = model.predict(xTestReal10) #Классифицируем каждое изображение\n",
        "for i in range(10): #Проходим по картинкам\n",
        "  #Вводим результаты на экран\n",
        "  print(\"Распознанный образ:\", classes[np.argmax(prediction[i])])\n",
        "  print('Верный ответ:', classes[yTestReal10[i]])\n",
        "  print()"
      ],
      "execution_count": 0,
      "outputs": []
    },
    {
      "cell_type": "markdown",
      "metadata": {
        "id": "wpGW1AOhpR7_",
        "colab_type": "text"
      },
      "source": [
        "#Распознавание изображений из набора данных Cifar100\n",
        "\n",
        "*Разбор данного раздела:* https://youtu.be/shzJQxepN-s?t=6753"
      ]
    },
    {
      "cell_type": "code",
      "metadata": {
        "colab_type": "code",
        "id": "OJkvdtT_oyqo",
        "colab": {}
      },
      "source": [
        "#Загружаем cifar100\n",
        "(x_train100, y_train100), (x_test100, y_test100) = cifar100.load_data()"
      ],
      "execution_count": 0,
      "outputs": []
    },
    {
      "cell_type": "code",
      "metadata": {
        "colab_type": "code",
        "id": "5y9xbdA-oyqt",
        "colab": {}
      },
      "source": [
        "#Выводим для примера картинки по первым 10 классам\n",
        "\n",
        "fig, axs = plt.subplots(1, 10, figsize=(25, 3)) #Создаем полотно из 10 графиков\n",
        "for i in range(10): #Проходим по классам от 0 до 9\n",
        "  label_indexes = np.where(y_train100==i)[0] #Получаем список из индексов положений класса i в y_train\n",
        "  index = random.choice(label_indexes) #Случайным образом выбираем из списка индекс\n",
        "  img = x_train100[index] #Выбираем из x_train нужное изображение\n",
        "  axs[i].imshow(Image.fromarray(img)) #Отображаем изображение i-ым графиков\n",
        "\n",
        "plt.show() #Показываем изображения"
      ],
      "execution_count": 0,
      "outputs": []
    },
    {
      "cell_type": "code",
      "metadata": {
        "colab_type": "code",
        "id": "sHng7EIZoyqw",
        "colab": {}
      },
      "source": [
        "#Превращаем y_train и y_test сетей в формат one hot encoding\n",
        "y_train100 = utils.to_categorical(y_train100, 100)\n",
        "y_test100 = utils.to_categorical(y_test100, 100)"
      ],
      "execution_count": 0,
      "outputs": []
    },
    {
      "cell_type": "code",
      "metadata": {
        "colab_type": "code",
        "id": "eJ6tzOaIoyqy",
        "colab": {}
      },
      "source": [
        "# Посмотрим размеры выборок перед обучением\n",
        "print(x_train100.shape)\n",
        "print(x_test100.shape)\n",
        "print(y_train100.shape)\n",
        "print(y_test100.shape)"
      ],
      "execution_count": 0,
      "outputs": []
    },
    {
      "cell_type": "markdown",
      "metadata": {
        "colab_type": "text",
        "id": "GiHfehm2oyq0"
      },
      "source": [
        "**Нейронная сеть**"
      ]
    },
    {
      "cell_type": "code",
      "metadata": {
        "colab_type": "code",
        "id": "W2qNBBSYoyq0",
        "colab": {}
      },
      "source": [
        "#задаём batch_size\n",
        "batch_size = 128 \n",
        "\n",
        "#Создаем последовательную модель\n",
        "model = Sequential()\n",
        "#Слой пакетной нормализации\n",
        "model.add(BatchNormalization(input_shape=(32, 32, 3)))\n",
        "#Первый сверточный слой\n",
        "model.add(Conv2D(32, (3, 3), padding='same', activation='relu'))\n",
        "#Второй сверточный слой\n",
        "model.add(Conv2D(32, (3, 3), padding='same', activation='relu'))\n",
        "#Первый слой подвыборки\n",
        "model.add(MaxPooling2D(pool_size=(2, 2)))\n",
        "#Слой регуляризации Dropout\n",
        "model.add(Dropout(0.25))\n",
        "\n",
        "#Слой пакетной нормализации\n",
        "model.add(BatchNormalization())\n",
        "#Третий сверточный слой\n",
        "model.add(Conv2D(64, (3, 3), padding='same', activation='relu'))\n",
        "#Четвертый сверточный слой\n",
        "model.add(Conv2D(64, (3, 3), padding='same', activation='relu'))\n",
        "#Второй слой подвыборки\n",
        "model.add(MaxPooling2D(pool_size=(2, 2)))\n",
        "#Слой регуляризации Dropout\n",
        "model.add(Dropout(0.25))\n",
        "\n",
        "#Слой пакетной нормализации\n",
        "model.add(BatchNormalization())\n",
        "#Пятый сверточный слой\n",
        "model.add(Conv2D(128, (3, 3), padding='same', activation='relu'))\n",
        "#Шестой сверточный слой\n",
        "model.add(Conv2D(128, (3, 3), padding='same', activation='relu'))\n",
        "#Третий слой подвыборки\n",
        "model.add(MaxPooling2D(pool_size=(2, 2)))\n",
        "#Слой регуляризации Dropout\n",
        "model.add(Dropout(0.25))\n",
        "\n",
        "#Слой преобразования данных из 2D представления в плоское\n",
        "model.add(Flatten())\n",
        "#Полносвязный слой для классификации\n",
        "model.add(Dense(512, activation='relu'))\n",
        "#Слой регуляризации Dropout\n",
        "model.add(Dropout(0.25))\n",
        "#Выходной полносвязный слой\n",
        "model.add(Dense(100, activation='softmax'))\n",
        "\n",
        "#Компилируем сеть\n",
        "model.compile(loss=\"categorical_crossentropy\", optimizer=\"adam\", metrics=[\"accuracy\"])\n",
        "\n",
        "#Обучаем сеть на данных cifar100\n",
        "history = model.fit(x_train100, \n",
        "                    y_train100, \n",
        "                    batch_size=batch_size, \n",
        "                    epochs=40,\n",
        "                    validation_data=(x_train100, y_train100),\n",
        "                    verbose=1)\n",
        "\n",
        "#Оображаем график точности обучения\n",
        "plt.plot(history.history['accuracy'], \n",
        "         label='Доля верных ответов на обучающем наборе')\n",
        "plt.plot(history.history['val_accuracy'], \n",
        "         label='Доля верных ответов на проверочном наборе')\n",
        "plt.xlabel('Эпоха обучения')\n",
        "plt.ylabel('Доля верных ответов')\n",
        "plt.legend()\n",
        "plt.show()"
      ],
      "execution_count": 0,
      "outputs": []
    },
    {
      "cell_type": "code",
      "metadata": {
        "id": "nzFKev01bhJo",
        "colab_type": "code",
        "colab": {}
      },
      "source": [
        "model.summary()"
      ],
      "execution_count": 0,
      "outputs": []
    },
    {
      "cell_type": "markdown",
      "metadata": {
        "id": "H3NEfs2Kw4AI",
        "colab_type": "text"
      },
      "source": [
        "#Распознавание марок машин (маленькая база)\n",
        "\n",
        "*Разбор данного раздела:* https://youtu.be/shzJQxepN-s?t=6802"
      ]
    },
    {
      "cell_type": "code",
      "metadata": {
        "id": "gql75PDpyH7s",
        "colab_type": "code",
        "colab": {}
      },
      "source": [
        "!unzip -q \"/content/drive/My Drive/Занятия/Апрельский курс 2020/Занятие №3/middle_fmr.zip\" -d /content/cars #Указываем путь к базе в Google Drive"
      ],
      "execution_count": 0,
      "outputs": []
    },
    {
      "cell_type": "code",
      "metadata": {
        "id": "5ldyrDt5yIyN",
        "colab_type": "code",
        "colab": {}
      },
      "source": [
        "train_path = '/content/cars' #Папка с папками картинок, рассортированных по категориям\n",
        "batch_size = 25 #Размер выборки\n",
        "img_width = 96 #Ширина изображения\n",
        "img_height = 54 #Высота изображения"
      ],
      "execution_count": 0,
      "outputs": []
    },
    {
      "cell_type": "code",
      "metadata": {
        "id": "oDDOFCGwyNhW",
        "colab_type": "code",
        "colab": {}
      },
      "source": [
        "#Генератор изображений\n",
        "datagen = ImageDataGenerator(\n",
        "    rescale=1. / 255, #Значения цвета меняем на дробные показания\n",
        "    rotation_range=10, #Поворачиваем изображения при генерации выборки\n",
        "    width_shift_range=0.1, #Двигаем изображения по ширине при генерации выборки\n",
        "    height_shift_range=0.1, #Двигаем изображения по высоте при генерации выборки\n",
        "    zoom_range=0.1, #Зумируем изображения при генерации выборки\n",
        "    horizontal_flip=True, #Отключаем отзеркаливание изображений\n",
        "    fill_mode='nearest', #Заполнение пикселей вне границ ввода\n",
        "    validation_split=0.1 #Указываем разделение изображений на обучающую и тестовую выборку\n",
        ")"
      ],
      "execution_count": 0,
      "outputs": []
    },
    {
      "cell_type": "code",
      "metadata": {
        "id": "bSu406K1yOcQ",
        "colab_type": "code",
        "outputId": "79aa49ea-cb58-4033-99b9-83ebdcc8d14e",
        "colab": {
          "base_uri": "https://localhost:8080/",
          "height": 51
        }
      },
      "source": [
        "# обучающая выборка\n",
        "train_generator = datagen.flow_from_directory(\n",
        "    train_path, #Путь ко всей выборке выборке\n",
        "    target_size=(img_width, img_height), #Размер изображений\n",
        "    batch_size=batch_size, #Размер batch_size\n",
        "    class_mode='categorical', #Категориальный тип выборки. Разбиение выборки по маркам авто \n",
        "    shuffle=True, #Перемешивание выборки\n",
        "    subset='training' # устанавливаем как набор для обучения\n",
        ")\n",
        "\n",
        "# проверочная выборка\n",
        "validation_generator = datagen.flow_from_directory(\n",
        "    train_path, #Путь ко всей выборке выборке\n",
        "    target_size=(img_width, img_height), #Размер изображений\n",
        "    batch_size=batch_size, #Размер batch_size\n",
        "    class_mode='categorical', #Категориальный тип выборки. Разбиение выборки по маркам авто \n",
        "    shuffle=True, #Перемешивание выборки\n",
        "    subset='validation' # устанавливаем как валидационный набор\n",
        ")"
      ],
      "execution_count": 0,
      "outputs": [
        {
          "output_type": "stream",
          "text": [
            "Found 3086 images belonging to 3 classes.\n",
            "Found 341 images belonging to 3 classes.\n"
          ],
          "name": "stdout"
        }
      ]
    },
    {
      "cell_type": "code",
      "metadata": {
        "id": "2Sg81ThUyScS",
        "colab_type": "code",
        "outputId": "124bbe68-e2d3-4e0a-eec5-2591b1761ef3",
        "colab": {
          "base_uri": "https://localhost:8080/",
          "height": 281
        }
      },
      "source": [
        "#Выводим для примера картинки по каждому классу\n",
        "\n",
        "fig, axs = plt.subplots(1, 3, figsize=(25, 5)) #Создаем полотно из 3 графиков\n",
        "for i in range(3): #Проходим по всем классам\n",
        "  car_path = train_path + '/' + os.listdir(train_path)[i] + '/'#Формируем путь к выборке\n",
        "  img_path = car_path + random.choice(os.listdir(car_path)) #Выбираем случайное фото для отображения\n",
        "  axs[i].imshow(image.load_img(img_path, target_size=(img_height, img_width))) #Отображение фотографии\n",
        "\n",
        "plt.show() #Показываем изображения"
      ],
      "execution_count": 0,
      "outputs": [
        {
          "output_type": "display_data",
          "data": {
            "image/png": "[encoded data removed]",
            "text/plain": [
              "<Figure size 1800x360 with 3 Axes>"
            ]
          },
          "metadata": {
            "tags": [],
            "needs_background": "light"
          }
        }
      ]
    },
    {
      "cell_type": "code",
      "metadata": {
        "id": "TBtq_FEsyVlZ",
        "colab_type": "code",
        "colab": {}
      },
      "source": [
        "#Создаем последовательную модель\n",
        "model = Sequential()\n",
        "#Первый сверточный слой\n",
        "model.add(Conv2D(256, (3, 3), padding='same', activation='relu', input_shape=(img_width, img_height, 3)))\n",
        "#Второй сверточный слой\n",
        "model.add(Conv2D(256, (3, 3), padding='same', activation='relu'))\n",
        "model.add(MaxPooling2D(pool_size=(3, 3)))\n",
        "#Третий сверточный слой\n",
        "model.add(Conv2D(256, (3, 3), padding='same', activation='relu'))\n",
        "#Слой регуляризации Dropout\n",
        "model.add(Dropout(0.2))\n",
        "#Четвертый сверточный слой\n",
        "model.add(Conv2D(256, (3, 3), padding='same', activation='relu'))\n",
        "model.add(MaxPooling2D(pool_size=(3, 3)))\n",
        "#Слой регуляризации Dropout\n",
        "model.add(Dropout(0.2))\n",
        "#Пятый сверточный слой\n",
        "model.add(Conv2D(512, (3, 3), padding='same', activation='relu'))\n",
        "#Шестой сверточный слой\n",
        "model.add(Conv2D(1024, (3, 3), padding='same', activation='relu'))\n",
        "model.add(MaxPooling2D(pool_size=(3, 3)))\n",
        "#Слой регуляризации Dropout\n",
        "model.add(Dropout(0.2))\n",
        "#Слой преобразования двумерных данных в одномерные \n",
        "model.add(Flatten())\n",
        "#Полносвязный слой\n",
        "model.add(Dense(2048, activation='relu'))\n",
        "#Полносвязный слой\n",
        "model.add(Dense(4096, activation='relu'))\n",
        "#Вызодной полносвязный слой\n",
        "model.add(Dense(len(train_generator.class_indices), activation='softmax'))\n",
        "\n",
        "model.compile(loss='categorical_crossentropy', optimizer=Adam(lr=0.0001), metrics=['accuracy'])"
      ],
      "execution_count": 0,
      "outputs": []
    },
    {
      "cell_type": "code",
      "metadata": {
        "id": "Ze3yKALByapN",
        "colab_type": "code",
        "colab": {}
      },
      "source": [
        "history = model.fit_generator(\n",
        "    train_generator,\n",
        "    steps_per_epoch = train_generator.samples // batch_size,\n",
        "    validation_data = validation_generator, \n",
        "    validation_steps = validation_generator.samples // batch_size,\n",
        "    epochs=45,\n",
        "    verbose=1\n",
        ")"
      ],
      "execution_count": 0,
      "outputs": []
    },
    {
      "cell_type": "code",
      "metadata": {
        "id": "I4zQn5Fd1t2Z",
        "colab_type": "code",
        "colab": {}
      },
      "source": [
        "model.summary()"
      ],
      "execution_count": 0,
      "outputs": []
    },
    {
      "cell_type": "code",
      "metadata": {
        "id": "Cp_hnqu5ifn4",
        "colab_type": "code",
        "colab": {}
      },
      "source": [
        "#Оображаем график точности обучения\n",
        "plt.plot(history.history['accuracy'], \n",
        "         label='Доля верных ответов на обучающем наборе')\n",
        "plt.plot(history.history['val_accuracy'], \n",
        "         label='Доля верных ответов на проверочном наборе')\n",
        "plt.xlabel('Эпоха обучения')\n",
        "plt.ylabel('Доля верных ответов')\n",
        "plt.legend()\n",
        "plt.show()"
      ],
      "execution_count": 0,
      "outputs": []
    },
    {
      "cell_type": "markdown",
      "metadata": {
        "id": "MFXlKjHDc5xM",
        "colab_type": "text"
      },
      "source": [
        "#Глоссарий"
      ]
    },
    {
      "cell_type": "markdown",
      "metadata": {
        "id": "TvYR3llIc5ty",
        "colab_type": "text"
      },
      "source": [
        "**Сверточная нейронная сеть** - архитектура нейронных сетей, направленная на решение задачи распознавания образов \n",
        "\n",
        "---\n",
        "\n",
        "**Dense** - полносвязный слой \n",
        "\n",
        "**conv2D** - сверточный слой \n",
        "\n",
        "**MaxPooling2D** - слой объединения для пространственных данных \n",
        "\n",
        "**Dropout** - случайная блокировка нейронов для предотвращения переобучения\n",
        "\n",
        "**BatchNormalization** - слой пакетной нормализации\n",
        "\n",
        "**categorical_crossentropy** - метод определения ошибки нейронной сети для категориальных данных (классов). Категориальная кроссцентропия между выходным результатом и y_train.\n",
        "\n",
        "**Flatten** - слой преобразования двумерных данных в одномерные"
      ]
    },
    {
      "cell_type": "markdown",
      "metadata": {
        "colab_type": "text",
        "id": "oHxFqiP1p6up"
      },
      "source": [
        "#Литература"
      ]
    },
    {
      "cell_type": "markdown",
      "metadata": {
        "colab_type": "text",
        "id": "a5MkgzbEp6uq"
      },
      "source": [
        "Для более глубокого понимания использования библиотеки хорошо уметь искать информацию в документациях от разработчика. Официальная документация доступна на английском языке.\n",
        "\n",
        "**Документация Keras** - https://keras.io/ \n",
        "\n",
        "**Русскоязычная документация Keras** - https://ru-keras.com/ \n",
        "\n",
        "Помимо официальной документации можно найти огромное количество полезной информации и в других источниках.\n",
        "\n",
        "**Полезные статьи habr:**\n",
        "\n",
        "https://habr.com/ru/post/348000/\n",
        "\n",
        "https://habr.com/ru/post/309508/"
      ]
    }
  ]
}